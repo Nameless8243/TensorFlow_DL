{
  "nbformat": 4,
  "nbformat_minor": 0,
  "metadata": {
    "colab": {
      "provenance": [],
      "authorship_tag": "ABX9TyNjL7Um2Odg8fOG2b5wkDYR",
      "include_colab_link": true
    },
    "kernelspec": {
      "name": "python3",
      "display_name": "Python 3"
    },
    "language_info": {
      "name": "python"
    }
  },
  "cells": [
    {
      "cell_type": "markdown",
      "metadata": {
        "id": "view-in-github",
        "colab_type": "text"
      },
      "source": [
        "<a href=\"https://colab.research.google.com/github/Nameless8243/TensorFlow_DL/blob/main/01_neural_network_regression_with_tensorflow.ipynb\" target=\"_parent\"><img src=\"https://colab.research.google.com/assets/colab-badge.svg\" alt=\"Open In Colab\"/></a>"
      ]
    },
    {
      "cell_type": "markdown",
      "source": [
        "# Introduction to Regression with Neural Networks in TensorFlow\n",
        "\n",
        "There are many definitions for a regression problem but in our case, we're going to simplify it: predicting a numerical variable based on some other combination of variables, even shorter... predicting a number."
      ],
      "metadata": {
        "id": "oP5JGRSITyJO"
      }
    },
    {
      "cell_type": "code",
      "source": [
        "# Import tensorflow\n",
        "import tensorflow as tf\n",
        "print(tf.__version__)"
      ],
      "metadata": {
        "colab": {
          "base_uri": "https://localhost:8080/"
        },
        "id": "LsGmYUhse5F-",
        "outputId": "a5b20983-86d5-4f2b-b4c8-2b7100d7b032"
      },
      "execution_count": null,
      "outputs": [
        {
          "output_type": "stream",
          "name": "stdout",
          "text": [
            "2.15.0\n"
          ]
        }
      ]
    },
    {
      "cell_type": "markdown",
      "source": [
        "## Creating data to view and fit"
      ],
      "metadata": {
        "id": "uGT0hliwfDt-"
      }
    },
    {
      "cell_type": "code",
      "source": [
        "import numpy as np\n",
        "import matplotlib.pyplot as plt\n",
        "\n",
        "# Create features\n",
        "X = np.array([-7.0, -4.0, -1.0, 2.0, 5.0, 8.0, 11.0, 14.0])\n",
        "\n",
        "# Create labels\n",
        "y = np.array([3.0, 6.0, 9.0, 12.0, 15.0, 18.0, 21.0, 24.0])\n",
        "\n",
        "# Visualize it\n",
        "plt.scatter(X, y);"
      ],
      "metadata": {
        "colab": {
          "base_uri": "https://localhost:8080/",
          "height": 435
        },
        "id": "Bz9l-cqWfS7l",
        "outputId": "fcb1961d-f47e-4727-9d7b-2b3082c8edc3"
      },
      "execution_count": null,
      "outputs": [
        {
          "output_type": "display_data",
          "data": {
            "text/plain": [
              "<Figure size 640x480 with 1 Axes>"
            ],
            "image/png": "[encoded data removed]"
          },
          "metadata": {}
        }
      ]
    },
    {
      "cell_type": "code",
      "source": [
        "y == X + 10"
      ],
      "metadata": {
        "colab": {
          "base_uri": "https://localhost:8080/"
        },
        "id": "IhhPD6eigTzN",
        "outputId": "c4896875-47c2-4cbe-a62b-9edd69a802c2"
      },
      "execution_count": null,
      "outputs": [
        {
          "output_type": "execute_result",
          "data": {
            "text/plain": [
              "array([ True,  True,  True,  True,  True,  True,  True,  True])"
            ]
          },
          "metadata": {},
          "execution_count": 3
        }
      ]
    },
    {
      "cell_type": "markdown",
      "source": [
        "## Input and output shapes"
      ],
      "metadata": {
        "id": "ZTXfdcSOg2bE"
      }
    },
    {
      "cell_type": "code",
      "source": [
        "# Create demo tensor for our housing price prediction problem\n",
        "house_info = tf.constant([\"bedroom\", \"bathroom\", \"garage\"])\n",
        "house_price = tf.constant([939700])\n",
        "house_info, house_price"
      ],
      "metadata": {
        "colab": {
          "base_uri": "https://localhost:8080/"
        },
        "id": "vS_BbYWjj3Et",
        "outputId": "f7993ba0-625e-4910-eda9-639b4b0b65dd"
      },
      "execution_count": null,
      "outputs": [
        {
          "output_type": "execute_result",
          "data": {
            "text/plain": [
              "(<tf.Tensor: shape=(3,), dtype=string, numpy=array([b'bedroom', b'bathroom', b'garage'], dtype=object)>,\n",
              " <tf.Tensor: shape=(1,), dtype=int32, numpy=array([939700], dtype=int32)>)"
            ]
          },
          "metadata": {},
          "execution_count": 4
        }
      ]
    },
    {
      "cell_type": "code",
      "source": [
        "input_shape = X[0].shape\n",
        "output_shape = y[0].shape\n",
        "input_shape, output_shape"
      ],
      "metadata": {
        "colab": {
          "base_uri": "https://localhost:8080/"
        },
        "id": "v4JCXIjjkcer",
        "outputId": "2215e016-fd06-4471-e4c1-28fa0eb6f6f2"
      },
      "execution_count": null,
      "outputs": [
        {
          "output_type": "execute_result",
          "data": {
            "text/plain": [
              "((), ())"
            ]
          },
          "metadata": {},
          "execution_count": 5
        }
      ]
    },
    {
      "cell_type": "code",
      "source": [
        "# Turn our NumPy arrays into tensors with dtype float32\n",
        "X = tf.cast(tf.constant(X), dtype=tf.float32)\n",
        "y = tf.cast(tf.constant(y), dtype=tf.float32)\n",
        "X, y"
      ],
      "metadata": {
        "colab": {
          "base_uri": "https://localhost:8080/"
        },
        "id": "jJeyIQYokyn7",
        "outputId": "680b0bb6-12d7-4659-a19b-3500dfed34f3"
      },
      "execution_count": null,
      "outputs": [
        {
          "output_type": "execute_result",
          "data": {
            "text/plain": [
              "(<tf.Tensor: shape=(8,), dtype=float32, numpy=array([-7., -4., -1.,  2.,  5.,  8., 11., 14.], dtype=float32)>,\n",
              " <tf.Tensor: shape=(8,), dtype=float32, numpy=array([ 3.,  6.,  9., 12., 15., 18., 21., 24.], dtype=float32)>)"
            ]
          },
          "metadata": {},
          "execution_count": 6
        }
      ]
    },
    {
      "cell_type": "code",
      "source": [
        "input_shape = X[0].shape\n",
        "output_shape = y[0].shape\n",
        "input_shape, output_shape"
      ],
      "metadata": {
        "colab": {
          "base_uri": "https://localhost:8080/"
        },
        "id": "9dCoCjBQmAr7",
        "outputId": "177990d6-3c6a-4b9c-b97e-f99cf608d485"
      },
      "execution_count": null,
      "outputs": [
        {
          "output_type": "execute_result",
          "data": {
            "text/plain": [
              "(TensorShape([]), TensorShape([]))"
            ]
          },
          "metadata": {},
          "execution_count": 7
        }
      ]
    },
    {
      "cell_type": "code",
      "source": [
        "plt.scatter(X,y)"
      ],
      "metadata": {
        "colab": {
          "base_uri": "https://localhost:8080/",
          "height": 452
        },
        "id": "am1A3auXmhoD",
        "outputId": "0f92ccf0-3e0f-4c70-999e-95e14673d562"
      },
      "execution_count": null,
      "outputs": [
        {
          "output_type": "execute_result",
          "data": {
            "text/plain": [
              "<matplotlib.collections.PathCollection at 0x7a093476b8b0>"
            ]
          },
          "metadata": {},
          "execution_count": 8
        },
        {
          "output_type": "display_data",
          "data": {
            "text/plain": [
              "<Figure size 640x480 with 1 Axes>"
            ],
            "image/png": "[encoded data removed]"
          },
          "metadata": {}
        }
      ]
    },
    {
      "cell_type": "markdown",
      "source": [
        "## Steps in modelling with TensorFlow\n",
        "\n",
        "1. **Creating a model** - define the input and output layers, as well as the hidden layers of a deep learning model.\n",
        "2. **Compiling a model** - define the loss function (in other words, the\n",
        "function which tells our model how wrong it is) and the optimizer\n",
        "(tells our model how to improve the patterns its learning) and\n",
        "evaluation metrics (what we can use ta interpret the performance of our model).\n",
        "3. **Fitting the model** - letting the model try to find patterns between X & y (features and labels)."
      ],
      "metadata": {
        "id": "-buia87-msUz"
      }
    },
    {
      "cell_type": "code",
      "source": [
        "# Optionally, the first layer can receive an `input_shape` argument:\n",
        "model = tf.keras.Sequential()\n",
        "model.add(tf.keras.layers.Dense(8, input_shape=(16,)))\n",
        "# Afterwards, we do automatic shape inference:\n",
        "model.add(tf.keras.layers.Dense(4))\n",
        "\n",
        "model = tf.keras.Sequential()\n",
        "model.add(tf.keras.layers.Dense(8, input_shape=(16,)))\n",
        "model.add(tf.keras.layers.Dense(4))\n",
        "\n",
        "model = tf.keras.Sequential()\n",
        "model.add(tf.keras.layers.Dense(1))\n",
        "model.add(tf.keras.layers.Dense(1))"
      ],
      "metadata": {
        "id": "YM-kOlIPzdM1"
      },
      "execution_count": null,
      "outputs": []
    },
    {
      "cell_type": "code",
      "source": [
        "# Set random seed\n",
        "tf.random.set_seed(42)\n",
        "# 1. Create a model using the Sequential API\n",
        "model = tf.keras.Sequential([\n",
        "    tf.keras.layers.Dense(1),\n",
        "    tf.keras.layers.Dense(1)\n",
        "\n",
        "])\n",
        "\n",
        "# 2. Compile the model\n",
        "model.compile(loss=tf.keras.losses.mae, # mae is short for mean absolute error\n",
        "              optimizer=tf.keras.optimizers.SGD(), # sgd is short for stochastic gradient descent\n",
        "              metrics=[\"mae\"])\n",
        "\n",
        "# 3. Fit the model\n",
        "model.fit(tf.expand_dims(X, axis=-1), y, epochs=5)"
      ],
      "metadata": {
        "id": "jZi7FfNkm9by",
        "colab": {
          "base_uri": "https://localhost:8080/"
        },
        "outputId": "d1e326ea-9655-40cd-de86-80e43f21b143"
      },
      "execution_count": null,
      "outputs": [
        {
          "output_type": "stream",
          "name": "stdout",
          "text": [
            "Epoch 1/5\n",
            "1/1 [==============================] - 1s 524ms/step - loss: 13.4249 - mae: 13.4249\n",
            "Epoch 2/5\n",
            "1/1 [==============================] - 0s 10ms/step - loss: 13.3885 - mae: 13.3885\n",
            "Epoch 3/5\n",
            "1/1 [==============================] - 0s 9ms/step - loss: 13.3515 - mae: 13.3515\n",
            "Epoch 4/5\n",
            "1/1 [==============================] - 0s 9ms/step - loss: 13.3140 - mae: 13.3140\n",
            "Epoch 5/5\n",
            "1/1 [==============================] - 0s 9ms/step - loss: 13.2757 - mae: 13.2757\n"
          ]
        },
        {
          "output_type": "execute_result",
          "data": {
            "text/plain": [
              "<keras.src.callbacks.History at 0x7a0934722d70>"
            ]
          },
          "metadata": {},
          "execution_count": 10
        }
      ]
    },
    {
      "cell_type": "code",
      "source": [
        "# Check out X, and y\n",
        "X, y"
      ],
      "metadata": {
        "colab": {
          "base_uri": "https://localhost:8080/"
        },
        "id": "9924Ks0cyEZc",
        "outputId": "749fbdf8-6450-49b5-b63e-9a5e99787fb8"
      },
      "execution_count": null,
      "outputs": [
        {
          "output_type": "execute_result",
          "data": {
            "text/plain": [
              "(<tf.Tensor: shape=(8,), dtype=float32, numpy=array([-7., -4., -1.,  2.,  5.,  8., 11., 14.], dtype=float32)>,\n",
              " <tf.Tensor: shape=(8,), dtype=float32, numpy=array([ 3.,  6.,  9., 12., 15., 18., 21., 24.], dtype=float32)>)"
            ]
          },
          "metadata": {},
          "execution_count": 11
        }
      ]
    },
    {
      "cell_type": "code",
      "source": [
        "# Try and make a prediction using our model\n",
        "y_pred = model.predict([17.0])\n",
        "y_pred"
      ],
      "metadata": {
        "colab": {
          "base_uri": "https://localhost:8080/"
        },
        "id": "zaNtc7a57T9y",
        "outputId": "7f429430-b4d9-4549-c477-edd05925e1f2"
      },
      "execution_count": null,
      "outputs": [
        {
          "output_type": "stream",
          "name": "stdout",
          "text": [
            "1/1 [==============================] - 0s 94ms/step\n"
          ]
        },
        {
          "output_type": "execute_result",
          "data": {
            "text/plain": [
              "array([[1.0472573]], dtype=float32)"
            ]
          },
          "metadata": {},
          "execution_count": 12
        }
      ]
    },
    {
      "cell_type": "code",
      "source": [
        "y_pred + 18"
      ],
      "metadata": {
        "colab": {
          "base_uri": "https://localhost:8080/"
        },
        "id": "nqNb7qQL7t7U",
        "outputId": "eba13992-1675-4fb9-9c37-eb9af130a583"
      },
      "execution_count": null,
      "outputs": [
        {
          "output_type": "execute_result",
          "data": {
            "text/plain": [
              "array([[19.047256]], dtype=float32)"
            ]
          },
          "metadata": {},
          "execution_count": 13
        }
      ]
    },
    {
      "cell_type": "markdown",
      "source": [
        "## Improving our model\n",
        "\n",
        "We can improve our model, by astering the steps we took to create a model.\n",
        "\n",
        "1. **Creating a model** - here we might add more layers,\n",
        "increase the number of hidden units (all called neurons) within each of the hidden layers, change the activation function of each layer.\n",
        "2. **Compiling a model** - here we might change the optimization function or perhaps the **learning rate** of the optimization function.\n",
        "3. **Fitting a model** - here we might fit a model for more **epochs** (leave it training for longer) or on more data (give the model more examples to learn from)."
      ],
      "metadata": {
        "id": "6ZSGWPSe8Fpe"
      }
    },
    {
      "cell_type": "code",
      "source": [
        "# Let's rebuild our model\n",
        "\n",
        "# 1. Create the model\n",
        "model = tf.keras.Sequential([\n",
        "    tf.keras.layers.Dense(1)\n",
        "])\n",
        "\n",
        "# 2. Compile the model\n",
        "model.compile(loss=tf.keras.losses.mae,\n",
        "              optimizer=tf.keras.optimizers.SGD(),\n",
        "              metrics=[\"mae\"])\n",
        "# 3. Fit the model (this time we'll train for longer)\n",
        "model.fit(tf.expand_dims(X, axis=-1), y, epochs=100)"
      ],
      "metadata": {
        "colab": {
          "base_uri": "https://localhost:8080/"
        },
        "id": "sG_Jes1K8z-M",
        "outputId": "ce9a2772-2536-4d07-d8f8-a72b5b06b429"
      },
      "execution_count": null,
      "outputs": [
        {
          "output_type": "stream",
          "name": "stdout",
          "text": [
            "Epoch 1/100\n",
            "1/1 [==============================] - 0s 328ms/step - loss: 10.1475 - mae: 10.1475\n",
            "Epoch 2/100\n",
            "1/1 [==============================] - 0s 9ms/step - loss: 10.0150 - mae: 10.0150\n",
            "Epoch 3/100\n",
            "1/1 [==============================] - 0s 12ms/step - loss: 9.8825 - mae: 9.8825\n",
            "Epoch 4/100\n",
            "1/1 [==============================] - 0s 13ms/step - loss: 9.7500 - mae: 9.7500\n",
            "Epoch 5/100\n",
            "1/1 [==============================] - 0s 11ms/step - loss: 9.6175 - mae: 9.6175\n",
            "Epoch 6/100\n",
            "1/1 [==============================] - 0s 9ms/step - loss: 9.4850 - mae: 9.4850\n",
            "Epoch 7/100\n",
            "1/1 [==============================] - 0s 9ms/step - loss: 9.3525 - mae: 9.3525\n",
            "Epoch 8/100\n",
            "1/1 [==============================] - 0s 8ms/step - loss: 9.2200 - mae: 9.2200\n",
            "Epoch 9/100\n",
            "1/1 [==============================] - 0s 10ms/step - loss: 9.0875 - mae: 9.0875\n",
            "Epoch 10/100\n",
            "1/1 [==============================] - 0s 10ms/step - loss: 8.9550 - mae: 8.9550\n",
            "Epoch 11/100\n",
            "1/1 [==============================] - 0s 13ms/step - loss: 8.8225 - mae: 8.8225\n",
            "Epoch 12/100\n",
            "1/1 [==============================] - 0s 10ms/step - loss: 8.6900 - mae: 8.6900\n",
            "Epoch 13/100\n",
            "1/1 [==============================] - 0s 11ms/step - loss: 8.5575 - mae: 8.5575\n",
            "Epoch 14/100\n",
            "1/1 [==============================] - 0s 10ms/step - loss: 8.4250 - mae: 8.4250\n",
            "Epoch 15/100\n",
            "1/1 [==============================] - 0s 11ms/step - loss: 8.2925 - mae: 8.2925\n",
            "Epoch 16/100\n",
            "1/1 [==============================] - 0s 9ms/step - loss: 8.1600 - mae: 8.1600\n",
            "Epoch 17/100\n",
            "1/1 [==============================] - 0s 9ms/step - loss: 8.0275 - mae: 8.0275\n",
            "Epoch 18/100\n",
            "1/1 [==============================] - 0s 15ms/step - loss: 7.8950 - mae: 7.8950\n",
            "Epoch 19/100\n",
            "1/1 [==============================] - 0s 10ms/step - loss: 7.7625 - mae: 7.7625\n",
            "Epoch 20/100\n",
            "1/1 [==============================] - 0s 13ms/step - loss: 7.6300 - mae: 7.6300\n",
            "Epoch 21/100\n",
            "1/1 [==============================] - 0s 15ms/step - loss: 7.4975 - mae: 7.4975\n",
            "Epoch 22/100\n",
            "1/1 [==============================] - 0s 11ms/step - loss: 7.3650 - mae: 7.3650\n",
            "Epoch 23/100\n",
            "1/1 [==============================] - 0s 12ms/step - loss: 7.3350 - mae: 7.3350\n",
            "Epoch 24/100\n",
            "1/1 [==============================] - 0s 12ms/step - loss: 7.3294 - mae: 7.3294\n",
            "Epoch 25/100\n",
            "1/1 [==============================] - 0s 10ms/step - loss: 7.3238 - mae: 7.3238\n",
            "Epoch 26/100\n",
            "1/1 [==============================] - 0s 10ms/step - loss: 7.3181 - mae: 7.3181\n",
            "Epoch 27/100\n",
            "1/1 [==============================] - 0s 10ms/step - loss: 7.3125 - mae: 7.3125\n",
            "Epoch 28/100\n",
            "1/1 [==============================] - 0s 11ms/step - loss: 7.3069 - mae: 7.3069\n",
            "Epoch 29/100\n",
            "1/1 [==============================] - 0s 12ms/step - loss: 7.3012 - mae: 7.3012\n",
            "Epoch 30/100\n",
            "1/1 [==============================] - 0s 9ms/step - loss: 7.2956 - mae: 7.2956\n",
            "Epoch 31/100\n",
            "1/1 [==============================] - 0s 15ms/step - loss: 7.2900 - mae: 7.2900\n",
            "Epoch 32/100\n",
            "1/1 [==============================] - 0s 12ms/step - loss: 7.2844 - mae: 7.2844\n",
            "Epoch 33/100\n",
            "1/1 [==============================] - 0s 15ms/step - loss: 7.2787 - mae: 7.2787\n",
            "Epoch 34/100\n",
            "1/1 [==============================] - 0s 12ms/step - loss: 7.2731 - mae: 7.2731\n",
            "Epoch 35/100\n",
            "1/1 [==============================] - 0s 13ms/step - loss: 7.2675 - mae: 7.2675\n",
            "Epoch 36/100\n",
            "1/1 [==============================] - 0s 10ms/step - loss: 7.2619 - mae: 7.2619\n",
            "Epoch 37/100\n",
            "1/1 [==============================] - 0s 12ms/step - loss: 7.2562 - mae: 7.2562\n",
            "Epoch 38/100\n",
            "1/1 [==============================] - 0s 12ms/step - loss: 7.2506 - mae: 7.2506\n",
            "Epoch 39/100\n",
            "1/1 [==============================] - 0s 10ms/step - loss: 7.2450 - mae: 7.2450\n",
            "Epoch 40/100\n",
            "1/1 [==============================] - 0s 11ms/step - loss: 7.2394 - mae: 7.2394\n",
            "Epoch 41/100\n",
            "1/1 [==============================] - 0s 9ms/step - loss: 7.2338 - mae: 7.2338\n",
            "Epoch 42/100\n",
            "1/1 [==============================] - 0s 14ms/step - loss: 7.2281 - mae: 7.2281\n",
            "Epoch 43/100\n",
            "1/1 [==============================] - 0s 12ms/step - loss: 7.2225 - mae: 7.2225\n",
            "Epoch 44/100\n",
            "1/1 [==============================] - 0s 17ms/step - loss: 7.2169 - mae: 7.2169\n",
            "Epoch 45/100\n",
            "1/1 [==============================] - 0s 10ms/step - loss: 7.2113 - mae: 7.2113\n",
            "Epoch 46/100\n",
            "1/1 [==============================] - 0s 15ms/step - loss: 7.2056 - mae: 7.2056\n",
            "Epoch 47/100\n",
            "1/1 [==============================] - 0s 11ms/step - loss: 7.2000 - mae: 7.2000\n",
            "Epoch 48/100\n",
            "1/1 [==============================] - 0s 10ms/step - loss: 7.1944 - mae: 7.1944\n",
            "Epoch 49/100\n",
            "1/1 [==============================] - 0s 10ms/step - loss: 7.1888 - mae: 7.1888\n",
            "Epoch 50/100\n",
            "1/1 [==============================] - 0s 11ms/step - loss: 7.1831 - mae: 7.1831\n",
            "Epoch 51/100\n",
            "1/1 [==============================] - 0s 12ms/step - loss: 7.1775 - mae: 7.1775\n",
            "Epoch 52/100\n",
            "1/1 [==============================] - 0s 12ms/step - loss: 7.1719 - mae: 7.1719\n",
            "Epoch 53/100\n",
            "1/1 [==============================] - 0s 11ms/step - loss: 7.1663 - mae: 7.1663\n",
            "Epoch 54/100\n",
            "1/1 [==============================] - 0s 13ms/step - loss: 7.1606 - mae: 7.1606\n",
            "Epoch 55/100\n",
            "1/1 [==============================] - 0s 9ms/step - loss: 7.1550 - mae: 7.1550\n",
            "Epoch 56/100\n",
            "1/1 [==============================] - 0s 14ms/step - loss: 7.1494 - mae: 7.1494\n",
            "Epoch 57/100\n",
            "1/1 [==============================] - 0s 11ms/step - loss: 7.1438 - mae: 7.1438\n",
            "Epoch 58/100\n",
            "1/1 [==============================] - 0s 11ms/step - loss: 7.1381 - mae: 7.1381\n",
            "Epoch 59/100\n",
            "1/1 [==============================] - 0s 11ms/step - loss: 7.1325 - mae: 7.1325\n",
            "Epoch 60/100\n",
            "1/1 [==============================] - 0s 11ms/step - loss: 7.1269 - mae: 7.1269\n",
            "Epoch 61/100\n",
            "1/1 [==============================] - 0s 12ms/step - loss: 7.1212 - mae: 7.1212\n",
            "Epoch 62/100\n",
            "1/1 [==============================] - 0s 11ms/step - loss: 7.1156 - mae: 7.1156\n",
            "Epoch 63/100\n",
            "1/1 [==============================] - 0s 12ms/step - loss: 7.1100 - mae: 7.1100\n",
            "Epoch 64/100\n",
            "1/1 [==============================] - 0s 10ms/step - loss: 7.1044 - mae: 7.1044\n",
            "Epoch 65/100\n",
            "1/1 [==============================] - 0s 14ms/step - loss: 7.0988 - mae: 7.0988\n",
            "Epoch 66/100\n",
            "1/1 [==============================] - 0s 11ms/step - loss: 7.0931 - mae: 7.0931\n",
            "Epoch 67/100\n",
            "1/1 [==============================] - 0s 11ms/step - loss: 7.0875 - mae: 7.0875\n",
            "Epoch 68/100\n",
            "1/1 [==============================] - 0s 9ms/step - loss: 7.0819 - mae: 7.0819\n",
            "Epoch 69/100\n",
            "1/1 [==============================] - 0s 16ms/step - loss: 7.0763 - mae: 7.0763\n",
            "Epoch 70/100\n",
            "1/1 [==============================] - 0s 12ms/step - loss: 7.0706 - mae: 7.0706\n",
            "Epoch 71/100\n",
            "1/1 [==============================] - 0s 11ms/step - loss: 7.0650 - mae: 7.0650\n",
            "Epoch 72/100\n",
            "1/1 [==============================] - 0s 10ms/step - loss: 7.0594 - mae: 7.0594\n",
            "Epoch 73/100\n",
            "1/1 [==============================] - 0s 18ms/step - loss: 7.0538 - mae: 7.0538\n",
            "Epoch 74/100\n",
            "1/1 [==============================] - 0s 10ms/step - loss: 7.0481 - mae: 7.0481\n",
            "Epoch 75/100\n",
            "1/1 [==============================] - 0s 10ms/step - loss: 7.0425 - mae: 7.0425\n",
            "Epoch 76/100\n",
            "1/1 [==============================] - 0s 11ms/step - loss: 7.0369 - mae: 7.0369\n",
            "Epoch 77/100\n",
            "1/1 [==============================] - 0s 11ms/step - loss: 7.0313 - mae: 7.0313\n",
            "Epoch 78/100\n",
            "1/1 [==============================] - 0s 12ms/step - loss: 7.0256 - mae: 7.0256\n",
            "Epoch 79/100\n",
            "1/1 [==============================] - 0s 14ms/step - loss: 7.0200 - mae: 7.0200\n",
            "Epoch 80/100\n",
            "1/1 [==============================] - 0s 13ms/step - loss: 7.0144 - mae: 7.0144\n",
            "Epoch 81/100\n",
            "1/1 [==============================] - 0s 10ms/step - loss: 7.0088 - mae: 7.0088\n",
            "Epoch 82/100\n",
            "1/1 [==============================] - 0s 9ms/step - loss: 7.0031 - mae: 7.0031\n",
            "Epoch 83/100\n",
            "1/1 [==============================] - 0s 11ms/step - loss: 6.9975 - mae: 6.9975\n",
            "Epoch 84/100\n",
            "1/1 [==============================] - 0s 10ms/step - loss: 6.9919 - mae: 6.9919\n",
            "Epoch 85/100\n",
            "1/1 [==============================] - 0s 14ms/step - loss: 6.9863 - mae: 6.9863\n",
            "Epoch 86/100\n",
            "1/1 [==============================] - 0s 11ms/step - loss: 6.9806 - mae: 6.9806\n",
            "Epoch 87/100\n",
            "1/1 [==============================] - 0s 13ms/step - loss: 6.9750 - mae: 6.9750\n",
            "Epoch 88/100\n",
            "1/1 [==============================] - 0s 12ms/step - loss: 6.9694 - mae: 6.9694\n",
            "Epoch 89/100\n",
            "1/1 [==============================] - 0s 11ms/step - loss: 6.9638 - mae: 6.9638\n",
            "Epoch 90/100\n",
            "1/1 [==============================] - 0s 9ms/step - loss: 6.9581 - mae: 6.9581\n",
            "Epoch 91/100\n",
            "1/1 [==============================] - 0s 10ms/step - loss: 6.9525 - mae: 6.9525\n",
            "Epoch 92/100\n",
            "1/1 [==============================] - 0s 11ms/step - loss: 6.9469 - mae: 6.9469\n",
            "Epoch 93/100\n",
            "1/1 [==============================] - 0s 11ms/step - loss: 6.9413 - mae: 6.9413\n",
            "Epoch 94/100\n",
            "1/1 [==============================] - 0s 11ms/step - loss: 6.9356 - mae: 6.9356\n",
            "Epoch 95/100\n",
            "1/1 [==============================] - 0s 13ms/step - loss: 6.9300 - mae: 6.9300\n",
            "Epoch 96/100\n",
            "1/1 [==============================] - 0s 9ms/step - loss: 6.9244 - mae: 6.9244\n",
            "Epoch 97/100\n",
            "1/1 [==============================] - 0s 11ms/step - loss: 6.9188 - mae: 6.9188\n",
            "Epoch 98/100\n",
            "1/1 [==============================] - 0s 11ms/step - loss: 6.9131 - mae: 6.9131\n",
            "Epoch 99/100\n",
            "1/1 [==============================] - 0s 10ms/step - loss: 6.9075 - mae: 6.9075\n",
            "Epoch 100/100\n",
            "1/1 [==============================] - 0s 11ms/step - loss: 6.9019 - mae: 6.9019\n"
          ]
        },
        {
          "output_type": "execute_result",
          "data": {
            "text/plain": [
              "<keras.src.callbacks.History at 0x7a09343acac0>"
            ]
          },
          "metadata": {},
          "execution_count": 14
        }
      ]
    },
    {
      "cell_type": "code",
      "source": [
        "# Remind ourselves of the data\n",
        "X, y"
      ],
      "metadata": {
        "id": "cLLGIsIWDA0J",
        "outputId": "e553215a-b911-41c9-ced3-7e2821b4cb1a",
        "colab": {
          "base_uri": "https://localhost:8080/"
        }
      },
      "execution_count": null,
      "outputs": [
        {
          "output_type": "execute_result",
          "data": {
            "text/plain": [
              "(<tf.Tensor: shape=(8,), dtype=float32, numpy=array([-7., -4., -1.,  2.,  5.,  8., 11., 14.], dtype=float32)>,\n",
              " <tf.Tensor: shape=(8,), dtype=float32, numpy=array([ 3.,  6.,  9., 12., 15., 18., 21., 24.], dtype=float32)>)"
            ]
          },
          "metadata": {},
          "execution_count": 15
        }
      ]
    },
    {
      "cell_type": "code",
      "source": [
        "# Let's see if our model's prediction has improved...\n",
        "model.predict([17.0])"
      ],
      "metadata": {
        "id": "gByFKupbFTdw",
        "colab": {
          "base_uri": "https://localhost:8080/"
        },
        "outputId": "6b966903-91c6-44cf-9418-71164a9147be"
      },
      "execution_count": null,
      "outputs": [
        {
          "output_type": "stream",
          "name": "stdout",
          "text": [
            "1/1 [==============================] - 0s 94ms/step\n"
          ]
        },
        {
          "output_type": "execute_result",
          "data": {
            "text/plain": [
              "array([[30.178633]], dtype=float32)"
            ]
          },
          "metadata": {},
          "execution_count": 16
        }
      ]
    },
    {
      "cell_type": "markdown",
      "source": [
        "### Create a new model"
      ],
      "metadata": {
        "id": "pRt7GerdyLpM"
      }
    },
    {
      "cell_type": "code",
      "source": [
        "# Create\n",
        "model = tf.keras.Sequential([\n",
        "    tf.keras.layers.Dense(100, activation=\"relu\"),\n",
        "    tf.keras.layers.Dense(100, activation=\"relu\"),\n",
        "    tf.keras.layers.Dense(100, activation=\"relu\"),\n",
        "    tf.keras.layers.Dense(1)\n",
        "])\n",
        "\n",
        "# Compile\n",
        "model.compile(loss=tf.keras.losses.mae,\n",
        "              optimizer=tf.keras.optimizers.SGD(),\n",
        "              metrics=[\"mae\"])\n",
        "# Fit\n",
        "model.fit(tf.expand_dims(X, axis=-1), y, epochs=100)"
      ],
      "metadata": {
        "colab": {
          "base_uri": "https://localhost:8080/"
        },
        "id": "IfIIKP0Fy1P1",
        "outputId": "19a46aa9-eaae-4980-8cad-58acea003f29"
      },
      "execution_count": null,
      "outputs": [
        {
          "output_type": "stream",
          "name": "stdout",
          "text": [
            "Epoch 1/100\n",
            "1/1 [==============================] - 1s 551ms/step - loss: 14.1896 - mae: 14.1896\n",
            "Epoch 2/100\n",
            "1/1 [==============================] - 0s 15ms/step - loss: 13.6915 - mae: 13.6915\n",
            "Epoch 3/100\n",
            "1/1 [==============================] - 0s 10ms/step - loss: 13.2457 - mae: 13.2457\n",
            "Epoch 4/100\n",
            "1/1 [==============================] - 0s 9ms/step - loss: 12.8561 - mae: 12.8561\n",
            "Epoch 5/100\n",
            "1/1 [==============================] - 0s 10ms/step - loss: 12.4574 - mae: 12.4574\n",
            "Epoch 6/100\n",
            "1/1 [==============================] - 0s 9ms/step - loss: 12.0288 - mae: 12.0288\n",
            "Epoch 7/100\n",
            "1/1 [==============================] - 0s 11ms/step - loss: 11.5247 - mae: 11.5247\n",
            "Epoch 8/100\n",
            "1/1 [==============================] - 0s 9ms/step - loss: 10.9419 - mae: 10.9419\n",
            "Epoch 9/100\n",
            "1/1 [==============================] - 0s 8ms/step - loss: 10.2273 - mae: 10.2273\n",
            "Epoch 10/100\n",
            "1/1 [==============================] - 0s 8ms/step - loss: 9.3076 - mae: 9.3076\n",
            "Epoch 11/100\n",
            "1/1 [==============================] - 0s 14ms/step - loss: 8.1343 - mae: 8.1343\n",
            "Epoch 12/100\n",
            "1/1 [==============================] - 0s 9ms/step - loss: 6.6447 - mae: 6.6447\n",
            "Epoch 13/100\n",
            "1/1 [==============================] - 0s 9ms/step - loss: 4.8205 - mae: 4.8205\n",
            "Epoch 14/100\n",
            "1/1 [==============================] - 0s 9ms/step - loss: 4.1302 - mae: 4.1302\n",
            "Epoch 15/100\n",
            "1/1 [==============================] - 0s 12ms/step - loss: 3.9101 - mae: 3.9101\n",
            "Epoch 16/100\n",
            "1/1 [==============================] - 0s 10ms/step - loss: 4.0422 - mae: 4.0422\n",
            "Epoch 17/100\n",
            "1/1 [==============================] - 0s 9ms/step - loss: 3.9201 - mae: 3.9201\n",
            "Epoch 18/100\n",
            "1/1 [==============================] - 0s 10ms/step - loss: 3.9953 - mae: 3.9953\n",
            "Epoch 19/100\n",
            "1/1 [==============================] - 0s 13ms/step - loss: 3.9315 - mae: 3.9315\n",
            "Epoch 20/100\n",
            "1/1 [==============================] - 0s 15ms/step - loss: 3.9475 - mae: 3.9475\n",
            "Epoch 21/100\n",
            "1/1 [==============================] - 0s 10ms/step - loss: 3.9436 - mae: 3.9436\n",
            "Epoch 22/100\n",
            "1/1 [==============================] - 0s 9ms/step - loss: 3.8975 - mae: 3.8975\n",
            "Epoch 23/100\n",
            "1/1 [==============================] - 0s 9ms/step - loss: 3.9577 - mae: 3.9577\n",
            "Epoch 24/100\n",
            "1/1 [==============================] - 0s 9ms/step - loss: 3.8457 - mae: 3.8457\n",
            "Epoch 25/100\n",
            "1/1 [==============================] - 0s 9ms/step - loss: 3.9733 - mae: 3.9733\n",
            "Epoch 26/100\n",
            "1/1 [==============================] - 0s 9ms/step - loss: 3.7936 - mae: 3.7936\n",
            "Epoch 27/100\n",
            "1/1 [==============================] - 0s 9ms/step - loss: 3.9886 - mae: 3.9886\n",
            "Epoch 28/100\n",
            "1/1 [==============================] - 0s 10ms/step - loss: 3.7778 - mae: 3.7778\n",
            "Epoch 29/100\n",
            "1/1 [==============================] - 0s 10ms/step - loss: 3.9539 - mae: 3.9539\n",
            "Epoch 30/100\n",
            "1/1 [==============================] - 0s 15ms/step - loss: 3.7944 - mae: 3.7944\n",
            "Epoch 31/100\n",
            "1/1 [==============================] - 0s 9ms/step - loss: 3.9119 - mae: 3.9119\n",
            "Epoch 32/100\n",
            "1/1 [==============================] - 0s 14ms/step - loss: 3.8517 - mae: 3.8517\n",
            "Epoch 33/100\n",
            "1/1 [==============================] - 0s 9ms/step - loss: 3.8216 - mae: 3.8216\n",
            "Epoch 34/100\n",
            "1/1 [==============================] - 0s 9ms/step - loss: 3.8703 - mae: 3.8703\n",
            "Epoch 35/100\n",
            "1/1 [==============================] - 0s 9ms/step - loss: 3.7642 - mae: 3.7642\n",
            "Epoch 36/100\n",
            "1/1 [==============================] - 0s 9ms/step - loss: 3.8901 - mae: 3.8901\n",
            "Epoch 37/100\n",
            "1/1 [==============================] - 0s 9ms/step - loss: 3.7050 - mae: 3.7050\n",
            "Epoch 38/100\n",
            "1/1 [==============================] - 0s 9ms/step - loss: 3.9113 - mae: 3.9113\n",
            "Epoch 39/100\n",
            "1/1 [==============================] - 0s 9ms/step - loss: 3.7049 - mae: 3.7049\n",
            "Epoch 40/100\n",
            "1/1 [==============================] - 0s 9ms/step - loss: 3.8686 - mae: 3.8686\n",
            "Epoch 41/100\n",
            "1/1 [==============================] - 0s 9ms/step - loss: 3.7642 - mae: 3.7642\n",
            "Epoch 42/100\n",
            "1/1 [==============================] - 0s 10ms/step - loss: 3.7765 - mae: 3.7765\n",
            "Epoch 43/100\n",
            "1/1 [==============================] - 0s 10ms/step - loss: 3.7860 - mae: 3.7860\n",
            "Epoch 44/100\n",
            "1/1 [==============================] - 0s 10ms/step - loss: 3.7146 - mae: 3.7146\n",
            "Epoch 45/100\n",
            "1/1 [==============================] - 0s 12ms/step - loss: 3.8092 - mae: 3.8092\n",
            "Epoch 46/100\n",
            "1/1 [==============================] - 0s 15ms/step - loss: 3.6506 - mae: 3.6506\n",
            "Epoch 47/100\n",
            "1/1 [==============================] - 0s 10ms/step - loss: 3.8338 - mae: 3.8338\n",
            "Epoch 48/100\n",
            "1/1 [==============================] - 0s 10ms/step - loss: 3.6335 - mae: 3.6335\n",
            "Epoch 49/100\n",
            "1/1 [==============================] - 0s 10ms/step - loss: 3.7981 - mae: 3.7981\n",
            "Epoch 50/100\n",
            "1/1 [==============================] - 0s 11ms/step - loss: 3.6952 - mae: 3.6952\n",
            "Epoch 51/100\n",
            "1/1 [==============================] - 0s 11ms/step - loss: 3.7092 - mae: 3.7092\n",
            "Epoch 52/100\n",
            "1/1 [==============================] - 0s 11ms/step - loss: 3.7199 - mae: 3.7199\n",
            "Epoch 53/100\n",
            "1/1 [==============================] - 0s 10ms/step - loss: 3.6419 - mae: 3.6419\n",
            "Epoch 54/100\n",
            "1/1 [==============================] - 0s 10ms/step - loss: 3.7461 - mae: 3.7461\n",
            "Epoch 55/100\n",
            "1/1 [==============================] - 0s 10ms/step - loss: 3.5720 - mae: 3.5720\n",
            "Epoch 56/100\n",
            "1/1 [==============================] - 0s 9ms/step - loss: 3.7736 - mae: 3.7736\n",
            "Epoch 57/100\n",
            "1/1 [==============================] - 0s 9ms/step - loss: 3.5767 - mae: 3.5767\n",
            "Epoch 58/100\n",
            "1/1 [==============================] - 0s 9ms/step - loss: 3.7120 - mae: 3.7120\n",
            "Epoch 59/100\n",
            "1/1 [==============================] - 0s 9ms/step - loss: 3.6036 - mae: 3.6036\n",
            "Epoch 60/100\n",
            "1/1 [==============================] - 0s 9ms/step - loss: 3.6421 - mae: 3.6421\n",
            "Epoch 61/100\n",
            "1/1 [==============================] - 0s 10ms/step - loss: 3.6694 - mae: 3.6694\n",
            "Epoch 62/100\n",
            "1/1 [==============================] - 0s 10ms/step - loss: 3.5445 - mae: 3.5445\n",
            "Epoch 63/100\n",
            "1/1 [==============================] - 0s 9ms/step - loss: 3.6987 - mae: 3.6987\n",
            "Epoch 64/100\n",
            "1/1 [==============================] - 0s 9ms/step - loss: 3.5074 - mae: 3.5074\n",
            "Epoch 65/100\n",
            "1/1 [==============================] - 0s 9ms/step - loss: 3.6773 - mae: 3.6773\n",
            "Epoch 66/100\n",
            "1/1 [==============================] - 0s 11ms/step - loss: 3.5357 - mae: 3.5357\n",
            "Epoch 67/100\n",
            "1/1 [==============================] - 0s 10ms/step - loss: 3.6025 - mae: 3.6025\n",
            "Epoch 68/100\n",
            "1/1 [==============================] - 0s 10ms/step - loss: 3.5655 - mae: 3.5655\n",
            "Epoch 69/100\n",
            "1/1 [==============================] - 0s 10ms/step - loss: 3.5244 - mae: 3.5244\n",
            "Epoch 70/100\n",
            "1/1 [==============================] - 0s 10ms/step - loss: 3.5963 - mae: 3.5963\n",
            "Epoch 71/100\n",
            "1/1 [==============================] - 0s 10ms/step - loss: 3.4419 - mae: 3.4419\n",
            "Epoch 72/100\n",
            "1/1 [==============================] - 0s 10ms/step - loss: 3.6354 - mae: 3.6354\n",
            "Epoch 73/100\n",
            "1/1 [==============================] - 0s 10ms/step - loss: 3.4407 - mae: 3.4407\n",
            "Epoch 74/100\n",
            "1/1 [==============================] - 0s 11ms/step - loss: 3.6048 - mae: 3.6048\n",
            "Epoch 75/100\n",
            "1/1 [==============================] - 0s 10ms/step - loss: 3.5072 - mae: 3.5072\n",
            "Epoch 76/100\n",
            "1/1 [==============================] - 0s 10ms/step - loss: 3.4678 - mae: 3.4678\n",
            "Epoch 77/100\n",
            "1/1 [==============================] - 0s 9ms/step - loss: 3.5397 - mae: 3.5397\n",
            "Epoch 78/100\n",
            "1/1 [==============================] - 0s 10ms/step - loss: 3.3834 - mae: 3.3834\n",
            "Epoch 79/100\n",
            "1/1 [==============================] - 0s 11ms/step - loss: 3.5743 - mae: 3.5743\n",
            "Epoch 80/100\n",
            "1/1 [==============================] - 0s 10ms/step - loss: 3.3856 - mae: 3.3856\n",
            "Epoch 81/100\n",
            "1/1 [==============================] - 0s 9ms/step - loss: 3.5005 - mae: 3.5005\n",
            "Epoch 82/100\n",
            "1/1 [==============================] - 0s 9ms/step - loss: 3.4265 - mae: 3.4265\n",
            "Epoch 83/100\n",
            "1/1 [==============================] - 0s 9ms/step - loss: 3.4194 - mae: 3.4194\n",
            "Epoch 84/100\n",
            "1/1 [==============================] - 0s 9ms/step - loss: 3.4997 - mae: 3.4997\n",
            "Epoch 85/100\n",
            "1/1 [==============================] - 0s 15ms/step - loss: 3.3137 - mae: 3.3137\n",
            "Epoch 86/100\n",
            "1/1 [==============================] - 0s 10ms/step - loss: 3.5078 - mae: 3.5078\n",
            "Epoch 87/100\n",
            "1/1 [==============================] - 0s 10ms/step - loss: 3.3490 - mae: 3.3490\n",
            "Epoch 88/100\n",
            "1/1 [==============================] - 0s 11ms/step - loss: 3.4160 - mae: 3.4160\n",
            "Epoch 89/100\n",
            "1/1 [==============================] - 0s 9ms/step - loss: 3.3852 - mae: 3.3852\n",
            "Epoch 90/100\n",
            "1/1 [==============================] - 0s 10ms/step - loss: 3.3226 - mae: 3.3226\n",
            "Epoch 91/100\n",
            "1/1 [==============================] - 0s 13ms/step - loss: 3.4233 - mae: 3.4233\n",
            "Epoch 92/100\n",
            "1/1 [==============================] - 0s 10ms/step - loss: 3.2404 - mae: 3.2404\n",
            "Epoch 93/100\n",
            "1/1 [==============================] - 0s 11ms/step - loss: 3.4497 - mae: 3.4497\n",
            "Epoch 94/100\n",
            "1/1 [==============================] - 0s 11ms/step - loss: 3.3159 - mae: 3.3159\n",
            "Epoch 95/100\n",
            "1/1 [==============================] - 0s 10ms/step - loss: 3.3129 - mae: 3.3129\n",
            "Epoch 96/100\n",
            "1/1 [==============================] - 0s 10ms/step - loss: 3.3527 - mae: 3.3527\n",
            "Epoch 97/100\n",
            "1/1 [==============================] - 0s 10ms/step - loss: 3.2119 - mae: 3.2119\n",
            "Epoch 98/100\n",
            "1/1 [==============================] - 0s 10ms/step - loss: 3.3921 - mae: 3.3921\n",
            "Epoch 99/100\n",
            "1/1 [==============================] - 0s 11ms/step - loss: 3.2075 - mae: 3.2075\n",
            "Epoch 100/100\n",
            "1/1 [==============================] - 0s 11ms/step - loss: 3.3214 - mae: 3.3214\n"
          ]
        },
        {
          "output_type": "execute_result",
          "data": {
            "text/plain": [
              "<keras.src.callbacks.History at 0x7a093421bdc0>"
            ]
          },
          "metadata": {},
          "execution_count": 17
        }
      ]
    },
    {
      "cell_type": "code",
      "source": [
        "model.predict([17.0])"
      ],
      "metadata": {
        "colab": {
          "base_uri": "https://localhost:8080/"
        },
        "id": "-hgI8mhqz341",
        "outputId": "88e077b3-4568-459f-e2ae-0fb32cae3312"
      },
      "execution_count": null,
      "outputs": [
        {
          "output_type": "stream",
          "name": "stdout",
          "text": [
            "1/1 [==============================] - 0s 88ms/step\n"
          ]
        },
        {
          "output_type": "execute_result",
          "data": {
            "text/plain": [
              "array([[32.706882]], dtype=float32)"
            ]
          },
          "metadata": {},
          "execution_count": 18
        }
      ]
    },
    {
      "cell_type": "code",
      "source": [
        "# Let's see if we can make another to improve our model\n",
        "\n",
        "# Create the model (this time with an extra hidden layer with 100 hidden units)\n",
        "model = tf.keras.Sequential([\n",
        "    tf.keras.layers.Dense(50, activation=None),\n",
        "    tf.keras.layers.Dense(1)\n",
        "])\n",
        "\n",
        "# Compile\n",
        "model.compile(loss=\"mae\",\n",
        "              optimizer=tf.keras.optimizers.Adam(lr=0.01),\n",
        "              metrics=[\"mae\"])\n",
        "\n",
        "# Fit\n",
        "model.fit(tf.expand_dims(X, axis=-1), y, epochs=100)"
      ],
      "metadata": {
        "colab": {
          "base_uri": "https://localhost:8080/"
        },
        "id": "IzL0gvD50N1l",
        "outputId": "8984ee70-f5c9-47b9-86c3-bf82bb235247"
      },
      "execution_count": null,
      "outputs": [
        {
          "output_type": "stream",
          "name": "stderr",
          "text": [
            "WARNING:absl:`lr` is deprecated in Keras optimizer, please use `learning_rate` or use the legacy optimizer, e.g.,tf.keras.optimizers.legacy.Adam.\n"
          ]
        },
        {
          "output_type": "stream",
          "name": "stdout",
          "text": [
            "Epoch 1/100\n",
            "1/1 [==============================] - 1s 547ms/step - loss: 13.5968 - mae: 13.5968\n",
            "Epoch 2/100\n",
            "1/1 [==============================] - 0s 11ms/step - loss: 13.5166 - mae: 13.5166\n",
            "Epoch 3/100\n",
            "1/1 [==============================] - 0s 9ms/step - loss: 13.4363 - mae: 13.4363\n",
            "Epoch 4/100\n",
            "1/1 [==============================] - 0s 8ms/step - loss: 13.3561 - mae: 13.3561\n",
            "Epoch 5/100\n",
            "1/1 [==============================] - 0s 8ms/step - loss: 13.2758 - mae: 13.2758\n",
            "Epoch 6/100\n",
            "1/1 [==============================] - 0s 15ms/step - loss: 13.1955 - mae: 13.1955\n",
            "Epoch 7/100\n",
            "1/1 [==============================] - 0s 11ms/step - loss: 13.1152 - mae: 13.1152\n",
            "Epoch 8/100\n",
            "1/1 [==============================] - 0s 12ms/step - loss: 13.0348 - mae: 13.0348\n",
            "Epoch 9/100\n",
            "1/1 [==============================] - 0s 12ms/step - loss: 12.9544 - mae: 12.9544\n",
            "Epoch 10/100\n",
            "1/1 [==============================] - 0s 12ms/step - loss: 12.8739 - mae: 12.8739\n",
            "Epoch 11/100\n",
            "1/1 [==============================] - 0s 11ms/step - loss: 12.7934 - mae: 12.7934\n",
            "Epoch 12/100\n",
            "1/1 [==============================] - 0s 11ms/step - loss: 12.7129 - mae: 12.7129\n",
            "Epoch 13/100\n",
            "1/1 [==============================] - 0s 12ms/step - loss: 12.6322 - mae: 12.6322\n",
            "Epoch 14/100\n",
            "1/1 [==============================] - 0s 12ms/step - loss: 12.5516 - mae: 12.5516\n",
            "Epoch 15/100\n",
            "1/1 [==============================] - 0s 10ms/step - loss: 12.4709 - mae: 12.4709\n",
            "Epoch 16/100\n",
            "1/1 [==============================] - 0s 11ms/step - loss: 12.3901 - mae: 12.3901\n",
            "Epoch 17/100\n",
            "1/1 [==============================] - 0s 9ms/step - loss: 12.3093 - mae: 12.3093\n",
            "Epoch 18/100\n",
            "1/1 [==============================] - 0s 10ms/step - loss: 12.2284 - mae: 12.2284\n",
            "Epoch 19/100\n",
            "1/1 [==============================] - 0s 13ms/step - loss: 12.1474 - mae: 12.1474\n",
            "Epoch 20/100\n",
            "1/1 [==============================] - 0s 10ms/step - loss: 12.0664 - mae: 12.0664\n",
            "Epoch 21/100\n",
            "1/1 [==============================] - 0s 10ms/step - loss: 11.9853 - mae: 11.9853\n",
            "Epoch 22/100\n",
            "1/1 [==============================] - 0s 9ms/step - loss: 11.9041 - mae: 11.9041\n",
            "Epoch 23/100\n",
            "1/1 [==============================] - 0s 9ms/step - loss: 11.8229 - mae: 11.8229\n",
            "Epoch 24/100\n",
            "1/1 [==============================] - 0s 10ms/step - loss: 11.7415 - mae: 11.7415\n",
            "Epoch 25/100\n",
            "1/1 [==============================] - 0s 9ms/step - loss: 11.6601 - mae: 11.6601\n",
            "Epoch 26/100\n",
            "1/1 [==============================] - 0s 9ms/step - loss: 11.5786 - mae: 11.5786\n",
            "Epoch 27/100\n",
            "1/1 [==============================] - 0s 10ms/step - loss: 11.4969 - mae: 11.4969\n",
            "Epoch 28/100\n",
            "1/1 [==============================] - 0s 8ms/step - loss: 11.4152 - mae: 11.4152\n",
            "Epoch 29/100\n",
            "1/1 [==============================] - 0s 10ms/step - loss: 11.3334 - mae: 11.3334\n",
            "Epoch 30/100\n",
            "1/1 [==============================] - 0s 10ms/step - loss: 11.2515 - mae: 11.2515\n",
            "Epoch 31/100\n",
            "1/1 [==============================] - 0s 10ms/step - loss: 11.1695 - mae: 11.1695\n",
            "Epoch 32/100\n",
            "1/1 [==============================] - 0s 10ms/step - loss: 11.0873 - mae: 11.0873\n",
            "Epoch 33/100\n",
            "1/1 [==============================] - 0s 9ms/step - loss: 11.0050 - mae: 11.0050\n",
            "Epoch 34/100\n",
            "1/1 [==============================] - 0s 10ms/step - loss: 10.9226 - mae: 10.9226\n",
            "Epoch 35/100\n",
            "1/1 [==============================] - 0s 9ms/step - loss: 10.8401 - mae: 10.8401\n",
            "Epoch 36/100\n",
            "1/1 [==============================] - 0s 9ms/step - loss: 10.7574 - mae: 10.7574\n",
            "Epoch 37/100\n",
            "1/1 [==============================] - 0s 9ms/step - loss: 10.6746 - mae: 10.6746\n",
            "Epoch 38/100\n",
            "1/1 [==============================] - 0s 9ms/step - loss: 10.5917 - mae: 10.5917\n",
            "Epoch 39/100\n",
            "1/1 [==============================] - 0s 9ms/step - loss: 10.5086 - mae: 10.5086\n",
            "Epoch 40/100\n",
            "1/1 [==============================] - 0s 10ms/step - loss: 10.4254 - mae: 10.4254\n",
            "Epoch 41/100\n",
            "1/1 [==============================] - 0s 10ms/step - loss: 10.3419 - mae: 10.3419\n",
            "Epoch 42/100\n",
            "1/1 [==============================] - 0s 9ms/step - loss: 10.2584 - mae: 10.2584\n",
            "Epoch 43/100\n",
            "1/1 [==============================] - 0s 9ms/step - loss: 10.1746 - mae: 10.1746\n",
            "Epoch 44/100\n",
            "1/1 [==============================] - 0s 9ms/step - loss: 10.0907 - mae: 10.0907\n",
            "Epoch 45/100\n",
            "1/1 [==============================] - 0s 9ms/step - loss: 10.0066 - mae: 10.0066\n",
            "Epoch 46/100\n",
            "1/1 [==============================] - 0s 9ms/step - loss: 9.9223 - mae: 9.9223\n",
            "Epoch 47/100\n",
            "1/1 [==============================] - 0s 10ms/step - loss: 9.8379 - mae: 9.8379\n",
            "Epoch 48/100\n",
            "1/1 [==============================] - 0s 10ms/step - loss: 9.7532 - mae: 9.7532\n",
            "Epoch 49/100\n",
            "1/1 [==============================] - 0s 10ms/step - loss: 9.6683 - mae: 9.6683\n",
            "Epoch 50/100\n",
            "1/1 [==============================] - 0s 10ms/step - loss: 9.5832 - mae: 9.5832\n",
            "Epoch 51/100\n",
            "1/1 [==============================] - 0s 10ms/step - loss: 9.4979 - mae: 9.4979\n",
            "Epoch 52/100\n",
            "1/1 [==============================] - 0s 11ms/step - loss: 9.4124 - mae: 9.4124\n",
            "Epoch 53/100\n",
            "1/1 [==============================] - 0s 10ms/step - loss: 9.3267 - mae: 9.3267\n",
            "Epoch 54/100\n",
            "1/1 [==============================] - 0s 10ms/step - loss: 9.2407 - mae: 9.2407\n",
            "Epoch 55/100\n",
            "1/1 [==============================] - 0s 11ms/step - loss: 9.1545 - mae: 9.1545\n",
            "Epoch 56/100\n",
            "1/1 [==============================] - 0s 11ms/step - loss: 9.0680 - mae: 9.0680\n",
            "Epoch 57/100\n",
            "1/1 [==============================] - 0s 10ms/step - loss: 8.9813 - mae: 8.9813\n",
            "Epoch 58/100\n",
            "1/1 [==============================] - 0s 10ms/step - loss: 8.8943 - mae: 8.8943\n",
            "Epoch 59/100\n",
            "1/1 [==============================] - 0s 10ms/step - loss: 8.8071 - mae: 8.8071\n",
            "Epoch 60/100\n",
            "1/1 [==============================] - 0s 11ms/step - loss: 8.7196 - mae: 8.7196\n",
            "Epoch 61/100\n",
            "1/1 [==============================] - 0s 10ms/step - loss: 8.6318 - mae: 8.6318\n",
            "Epoch 62/100\n",
            "1/1 [==============================] - 0s 11ms/step - loss: 8.5438 - mae: 8.5438\n",
            "Epoch 63/100\n",
            "1/1 [==============================] - 0s 10ms/step - loss: 8.4555 - mae: 8.4555\n",
            "Epoch 64/100\n",
            "1/1 [==============================] - 0s 9ms/step - loss: 8.3668 - mae: 8.3668\n",
            "Epoch 65/100\n",
            "1/1 [==============================] - 0s 9ms/step - loss: 8.2779 - mae: 8.2779\n",
            "Epoch 66/100\n",
            "1/1 [==============================] - 0s 9ms/step - loss: 8.1887 - mae: 8.1887\n",
            "Epoch 67/100\n",
            "1/1 [==============================] - 0s 9ms/step - loss: 8.0992 - mae: 8.0992\n",
            "Epoch 68/100\n",
            "1/1 [==============================] - 0s 9ms/step - loss: 8.0093 - mae: 8.0093\n",
            "Epoch 69/100\n",
            "1/1 [==============================] - 0s 15ms/step - loss: 7.9192 - mae: 7.9192\n",
            "Epoch 70/100\n",
            "1/1 [==============================] - 0s 9ms/step - loss: 7.8287 - mae: 7.8287\n",
            "Epoch 71/100\n",
            "1/1 [==============================] - 0s 10ms/step - loss: 7.7378 - mae: 7.7378\n",
            "Epoch 72/100\n",
            "1/1 [==============================] - 0s 9ms/step - loss: 7.6467 - mae: 7.6467\n",
            "Epoch 73/100\n",
            "1/1 [==============================] - 0s 11ms/step - loss: 7.5552 - mae: 7.5552\n",
            "Epoch 74/100\n",
            "1/1 [==============================] - 0s 10ms/step - loss: 7.4633 - mae: 7.4633\n",
            "Epoch 75/100\n",
            "1/1 [==============================] - 0s 10ms/step - loss: 7.3711 - mae: 7.3711\n",
            "Epoch 76/100\n",
            "1/1 [==============================] - 0s 10ms/step - loss: 7.2786 - mae: 7.2786\n",
            "Epoch 77/100\n",
            "1/1 [==============================] - 0s 13ms/step - loss: 7.1856 - mae: 7.1856\n",
            "Epoch 78/100\n",
            "1/1 [==============================] - 0s 10ms/step - loss: 7.0923 - mae: 7.0923\n",
            "Epoch 79/100\n",
            "1/1 [==============================] - 0s 9ms/step - loss: 6.9987 - mae: 6.9987\n",
            "Epoch 80/100\n",
            "1/1 [==============================] - 0s 13ms/step - loss: 6.9046 - mae: 6.9046\n",
            "Epoch 81/100\n",
            "1/1 [==============================] - 0s 9ms/step - loss: 6.8102 - mae: 6.8102\n",
            "Epoch 82/100\n",
            "1/1 [==============================] - 0s 13ms/step - loss: 6.7623 - mae: 6.7623\n",
            "Epoch 83/100\n",
            "1/1 [==============================] - 0s 10ms/step - loss: 6.7516 - mae: 6.7516\n",
            "Epoch 84/100\n",
            "1/1 [==============================] - 0s 10ms/step - loss: 6.7412 - mae: 6.7412\n",
            "Epoch 85/100\n",
            "1/1 [==============================] - 0s 10ms/step - loss: 6.7309 - mae: 6.7309\n",
            "Epoch 86/100\n",
            "1/1 [==============================] - 0s 10ms/step - loss: 6.7208 - mae: 6.7208\n",
            "Epoch 87/100\n",
            "1/1 [==============================] - 0s 9ms/step - loss: 6.7109 - mae: 6.7109\n",
            "Epoch 88/100\n",
            "1/1 [==============================] - 0s 10ms/step - loss: 6.7012 - mae: 6.7012\n",
            "Epoch 89/100\n",
            "1/1 [==============================] - 0s 9ms/step - loss: 6.6916 - mae: 6.6916\n",
            "Epoch 90/100\n",
            "1/1 [==============================] - 0s 9ms/step - loss: 6.6821 - mae: 6.6821\n",
            "Epoch 91/100\n",
            "1/1 [==============================] - 0s 8ms/step - loss: 6.6727 - mae: 6.6727\n",
            "Epoch 92/100\n",
            "1/1 [==============================] - 0s 13ms/step - loss: 6.6634 - mae: 6.6634\n",
            "Epoch 93/100\n",
            "1/1 [==============================] - 0s 9ms/step - loss: 6.6556 - mae: 6.6556\n",
            "Epoch 94/100\n",
            "1/1 [==============================] - 0s 10ms/step - loss: 6.6645 - mae: 6.6645\n",
            "Epoch 95/100\n",
            "1/1 [==============================] - 0s 10ms/step - loss: 6.6668 - mae: 6.6668\n",
            "Epoch 96/100\n",
            "1/1 [==============================] - 0s 10ms/step - loss: 6.6631 - mae: 6.6631\n",
            "Epoch 97/100\n",
            "1/1 [==============================] - 0s 9ms/step - loss: 6.6540 - mae: 6.6540\n",
            "Epoch 98/100\n",
            "1/1 [==============================] - 0s 9ms/step - loss: 6.6400 - mae: 6.6400\n",
            "Epoch 99/100\n",
            "1/1 [==============================] - 0s 12ms/step - loss: 6.6217 - mae: 6.6217\n",
            "Epoch 100/100\n",
            "1/1 [==============================] - 0s 9ms/step - loss: 6.6006 - mae: 6.6006\n"
          ]
        },
        {
          "output_type": "execute_result",
          "data": {
            "text/plain": [
              "<keras.src.callbacks.History at 0x7a0934158130>"
            ]
          },
          "metadata": {},
          "execution_count": 19
        }
      ]
    },
    {
      "cell_type": "code",
      "source": [
        "X, y"
      ],
      "metadata": {
        "colab": {
          "base_uri": "https://localhost:8080/"
        },
        "id": "T3ybXJ7v2cLU",
        "outputId": "dea48cdc-a28d-45d7-d04f-31ef65d037fe"
      },
      "execution_count": null,
      "outputs": [
        {
          "output_type": "execute_result",
          "data": {
            "text/plain": [
              "(<tf.Tensor: shape=(8,), dtype=float32, numpy=array([-7., -4., -1.,  2.,  5.,  8., 11., 14.], dtype=float32)>,\n",
              " <tf.Tensor: shape=(8,), dtype=float32, numpy=array([ 3.,  6.,  9., 12., 15., 18., 21., 24.], dtype=float32)>)"
            ]
          },
          "metadata": {},
          "execution_count": 20
        }
      ]
    },
    {
      "cell_type": "code",
      "source": [
        "# Let's try to make a prediction\n",
        "model.predict([17.0])"
      ],
      "metadata": {
        "colab": {
          "base_uri": "https://localhost:8080/"
        },
        "id": "OTWEdQJm2wRs",
        "outputId": "44f10a82-41bb-43ed-800d-4444c03a79cc"
      },
      "execution_count": null,
      "outputs": [
        {
          "output_type": "stream",
          "name": "stdout",
          "text": [
            "1/1 [==============================] - 0s 66ms/step\n"
          ]
        },
        {
          "output_type": "execute_result",
          "data": {
            "text/plain": [
              "array([[31.703798]], dtype=float32)"
            ]
          },
          "metadata": {},
          "execution_count": 21
        }
      ]
    },
    {
      "cell_type": "markdown",
      "source": [
        "## Evaluating a model\n",
        "\n",
        "In practice, a typical workflow you'll go through when building neural networks is:\n",
        "\n",
        "```\n",
        "Build a model -> fit it -> evaluate it -> tweak a model -> fit it -> evaluate it -> tweak a model -> fit it -> evaluate it...\n",
        "```"
      ],
      "metadata": {
        "id": "7e_jxzni28Nk"
      }
    },
    {
      "cell_type": "markdown",
      "source": [
        "# When it comes to evaluation... there are 3 words you should memorize:\n",
        "\n",
        "> \"Visualize, visualize, visualize\"\n",
        "\n",
        "It's a good idea to visualize:\n",
        "* The data - what data are we working with? What does it look like?\n",
        "* The model itself - what does our model look like?\n",
        "* The training of a model - how does a model perform while it learns?\n",
        "* The predictions of the model - how do the predictions of a model line up against the ground truth (the original labels)?"
      ],
      "metadata": {
        "id": "HXOVp9x8vwOT"
      }
    },
    {
      "cell_type": "code",
      "source": [
        "# Make a bigger dataset\n",
        "X = tf.range(-100.0, 100.0, 4)\n",
        "X"
      ],
      "metadata": {
        "colab": {
          "base_uri": "https://localhost:8080/"
        },
        "id": "A_EqHdM5wWC6",
        "outputId": "ceeab642-5149-46c3-ddbc-91572542dd30"
      },
      "execution_count": null,
      "outputs": [
        {
          "output_type": "execute_result",
          "data": {
            "text/plain": [
              "<tf.Tensor: shape=(50,), dtype=float32, numpy=\n",
              "array([-100.,  -96.,  -92.,  -88.,  -84.,  -80.,  -76.,  -72.,  -68.,\n",
              "        -64.,  -60.,  -56.,  -52.,  -48.,  -44.,  -40.,  -36.,  -32.,\n",
              "        -28.,  -24.,  -20.,  -16.,  -12.,   -8.,   -4.,    0.,    4.,\n",
              "          8.,   12.,   16.,   20.,   24.,   28.,   32.,   36.,   40.,\n",
              "         44.,   48.,   52.,   56.,   60.,   64.,   68.,   72.,   76.,\n",
              "         80.,   84.,   88.,   92.,   96.], dtype=float32)>"
            ]
          },
          "metadata": {},
          "execution_count": 22
        }
      ]
    },
    {
      "cell_type": "code",
      "source": [
        "# Make labels for the dataset\n",
        "y = X + 10\n",
        "y"
      ],
      "metadata": {
        "colab": {
          "base_uri": "https://localhost:8080/"
        },
        "id": "dmGVr8m8zu6C",
        "outputId": "4fc6fd1a-64c1-4f5f-e738-bbcfa3fcc507"
      },
      "execution_count": null,
      "outputs": [
        {
          "output_type": "execute_result",
          "data": {
            "text/plain": [
              "<tf.Tensor: shape=(50,), dtype=float32, numpy=\n",
              "array([-90., -86., -82., -78., -74., -70., -66., -62., -58., -54., -50.,\n",
              "       -46., -42., -38., -34., -30., -26., -22., -18., -14., -10.,  -6.,\n",
              "        -2.,   2.,   6.,  10.,  14.,  18.,  22.,  26.,  30.,  34.,  38.,\n",
              "        42.,  46.,  50.,  54.,  58.,  62.,  66.,  70.,  74.,  78.,  82.,\n",
              "        86.,  90.,  94.,  98., 102., 106.], dtype=float32)>"
            ]
          },
          "metadata": {},
          "execution_count": 23
        }
      ]
    },
    {
      "cell_type": "code",
      "source": [
        "# Visualize the data\n",
        "import matplotlib.pyplot as plt\n",
        "\n",
        "plt.scatter(X, y)"
      ],
      "metadata": {
        "colab": {
          "base_uri": "https://localhost:8080/",
          "height": 447
        },
        "id": "BeHb9sHo0GUZ",
        "outputId": "27f83a53-275d-44e6-ac23-2771c81f3c1a"
      },
      "execution_count": null,
      "outputs": [
        {
          "output_type": "execute_result",
          "data": {
            "text/plain": [
              "<matplotlib.collections.PathCollection at 0x7a0926f655d0>"
            ]
          },
          "metadata": {},
          "execution_count": 24
        },
        {
          "output_type": "display_data",
          "data": {
            "text/plain": [
              "<Figure size 640x480 with 1 Axes>"
            ],
            "image/png": "[encoded data removed]"
          },
          "metadata": {}
        }
      ]
    },
    {
      "cell_type": "markdown",
      "source": [
        "### The 3 sets...\n",
        "\n",
        "* **Training set** - the model learns from this data, which typically\n",
        "constitutes 70-80% of the total available data.\n",
        "* **Validation set** - the model is fine-tuned on this data, typically representing 10-15% of the available data.\n",
        "* **Test set** - the model is evaluated on this data to assess what it has learned; this set typically accounts for 10-15% of the total available data."
      ],
      "metadata": {
        "id": "afBef0tX0dzJ"
      }
    },
    {
      "cell_type": "code",
      "source": [
        "# Check the length of how many samples we have\n",
        "len(X)"
      ],
      "metadata": {
        "colab": {
          "base_uri": "https://localhost:8080/"
        },
        "id": "JSNYXWyp3q_U",
        "outputId": "5cbde70b-fd26-438e-bfaa-6a38d8c8e1fb"
      },
      "execution_count": null,
      "outputs": [
        {
          "output_type": "execute_result",
          "data": {
            "text/plain": [
              "50"
            ]
          },
          "metadata": {},
          "execution_count": 25
        }
      ]
    },
    {
      "cell_type": "code",
      "source": [
        "# Split the data into train and test sets\n",
        "X_train = X[:40] # first 40 are training samples (80% of the data)\n",
        "y_train = y[:40]\n",
        "\n",
        "X_test = X[40:] # last 10 are testing samples (20% of the data)\n",
        "y_test = y[40:]\n",
        "\n",
        "len(X_train), len(X_test), len(y_train), len(y_test)"
      ],
      "metadata": {
        "colab": {
          "base_uri": "https://localhost:8080/"
        },
        "id": "Qmc2fgys3zwh",
        "outputId": "de3877cb-b61f-45fd-e181-8eb107b56bcd"
      },
      "execution_count": null,
      "outputs": [
        {
          "output_type": "execute_result",
          "data": {
            "text/plain": [
              "(40, 10, 40, 10)"
            ]
          },
          "metadata": {},
          "execution_count": 26
        }
      ]
    },
    {
      "cell_type": "markdown",
      "source": [
        "### Visualizing the data\n",
        "\n",
        "Now we've got our data in training and test sets... let's visualize it again!"
      ],
      "metadata": {
        "id": "eYzIliLS41KB"
      }
    },
    {
      "cell_type": "code",
      "source": [
        "plt.figure(figsize=(10, 7))\n",
        "# Plot training data in blue\n",
        "plt.scatter(X_train, y_train, c=\"b\", label=\"Training data\")\n",
        "# Plot test data in green\n",
        "plt.scatter(X_test, y_test, c=\"g\", label=\"Testing data\")\n",
        "# Show a legend\n",
        "plt.legend();"
      ],
      "metadata": {
        "colab": {
          "base_uri": "https://localhost:8080/",
          "height": 599
        },
        "id": "kWrb5LB85Csx",
        "outputId": "dc0f33d1-b6d4-4362-827d-1af0b05818ed"
      },
      "execution_count": null,
      "outputs": [
        {
          "output_type": "display_data",
          "data": {
            "text/plain": [
              "<Figure size 1000x700 with 1 Axes>"
            ],
            "image/png": "[encoded data removed]"
          },
          "metadata": {}
        }
      ]
    },
    {
      "cell_type": "code",
      "source": [
        "# Let's have a look at how to build a neural network for our data\n",
        "\n",
        "# Create\n",
        "model = tf.keras.Sequential([\n",
        "    tf.keras.layers.Dense(1)\n",
        "])\n",
        "\n",
        "# Compile\n",
        "model.compile(loss=tf.keras.losses.mae,\n",
        "              optimizer=tf.keras.optimizers.SGD(),\n",
        "              metrics=[\"mae\"])\n",
        "\n",
        "# # Fit\n",
        "# model.fit(tf.expand_dims(X, axis=-1), y, epochs=100)"
      ],
      "metadata": {
        "id": "nfK2nyYa6XA5"
      },
      "execution_count": null,
      "outputs": []
    },
    {
      "cell_type": "markdown",
      "source": [
        "### Visualizing the model"
      ],
      "metadata": {
        "id": "GQ11qyS2TzYg"
      }
    },
    {
      "cell_type": "code",
      "source": [
        "model.summary()"
      ],
      "metadata": {
        "id": "T_7oaThbhCtd",
        "outputId": "54ba5ceb-fced-41e6-bc56-033f20d879a7",
        "colab": {
          "base_uri": "https://localhost:8080/",
          "height": 280
        }
      },
      "execution_count": null,
      "outputs": [
        {
          "output_type": "error",
          "ename": "ValueError",
          "evalue": "This model has not yet been built. Build the model first by calling `build()` or by calling the model on a batch of data.",
          "traceback": [
            "\u001b[0;31m---------------------------------------------------------------------------\u001b[0m",
            "\u001b[0;31mValueError\u001b[0m                                Traceback (most recent call last)",
            "\u001b[0;32m<ipython-input-29-5f15418b3570>\u001b[0m in \u001b[0;36m<cell line: 1>\u001b[0;34m()\u001b[0m\n\u001b[0;32m----> 1\u001b[0;31m \u001b[0mmodel\u001b[0m\u001b[0;34m.\u001b[0m\u001b[0msummary\u001b[0m\u001b[0;34m(\u001b[0m\u001b[0;34m)\u001b[0m\u001b[0;34m\u001b[0m\u001b[0;34m\u001b[0m\u001b[0m\n\u001b[0m",
            "\u001b[0;32m/usr/local/lib/python3.10/dist-packages/keras/src/engine/training.py\u001b[0m in \u001b[0;36msummary\u001b[0;34m(self, line_length, positions, print_fn, expand_nested, show_trainable, layer_range)\u001b[0m\n\u001b[1;32m   3504\u001b[0m         \"\"\"\n\u001b[1;32m   3505\u001b[0m         \u001b[0;32mif\u001b[0m \u001b[0;32mnot\u001b[0m \u001b[0mself\u001b[0m\u001b[0;34m.\u001b[0m\u001b[0mbuilt\u001b[0m\u001b[0;34m:\u001b[0m\u001b[0;34m\u001b[0m\u001b[0;34m\u001b[0m\u001b[0m\n\u001b[0;32m-> 3506\u001b[0;31m             raise ValueError(\n\u001b[0m\u001b[1;32m   3507\u001b[0m                 \u001b[0;34m\"This model has not yet been built. \"\u001b[0m\u001b[0;34m\u001b[0m\u001b[0;34m\u001b[0m\u001b[0m\n\u001b[1;32m   3508\u001b[0m                 \u001b[0;34m\"Build the model first by calling `build()` or by calling \"\u001b[0m\u001b[0;34m\u001b[0m\u001b[0;34m\u001b[0m\u001b[0m\n",
            "\u001b[0;31mValueError\u001b[0m: This model has not yet been built. Build the model first by calling `build()` or by calling the model on a batch of data."
          ]
        }
      ]
    },
    {
      "cell_type": "code",
      "source": [
        "# Let's create a model which builds automatically by defining the input_shape argument in the first layer\n",
        "tf.random.set_seed(42)\n",
        "\n",
        "# Create\n",
        "model = tf.keras.Sequential([\n",
        "    tf.keras.layers.Dense(10, name=\"input_layer1\"),\n",
        "    tf.keras.layers.Dense(10, name=\"input_layer2\"),\n",
        "    tf.keras.layers.Dense(1, name=\"output_layer\")\n",
        "], name=\"model_1\")\n",
        "\n",
        "# Compile\n",
        "model.compile(loss=tf.keras.losses.mae,\n",
        "              optimizer=tf.keras.optimizers.SGD(),\n",
        "              metrics=[\"mae\"])"
      ],
      "metadata": {
        "id": "_PFAEPICsrOQ"
      },
      "execution_count": null,
      "outputs": []
    },
    {
      "cell_type": "markdown",
      "source": [
        "* Total params - total number of parameters in the model.\n",
        "* Trainable parameters -these are the parameters (patterns) the model can update as it trains.\n",
        "* Non-trainable params - these parameters aren't updated during training (this is typical when you bring in already learn patterns or parameters from other models during **transfer learning**).\n",
        "\n"
      ],
      "metadata": {
        "id": "NFWq2l3zukOL"
      }
    },
    {
      "cell_type": "code",
      "source": [
        "model.fit(tf.expand_dims(X, axis=-1), y, epochs=100, verbose=0)"
      ],
      "metadata": {
        "colab": {
          "base_uri": "https://localhost:8080/"
        },
        "id": "ryH0ETZWymaW",
        "outputId": "c23ee7bb-cbcb-4ea8-a77e-ff14b90bc044"
      },
      "execution_count": null,
      "outputs": [
        {
          "output_type": "execute_result",
          "data": {
            "text/plain": [
              "<keras.src.callbacks.History at 0x7a0926e3ce20>"
            ]
          },
          "metadata": {},
          "execution_count": 31
        }
      ]
    },
    {
      "cell_type": "code",
      "source": [
        "# Get a summary of our model\n",
        "model.summary()"
      ],
      "metadata": {
        "colab": {
          "base_uri": "https://localhost:8080/"
        },
        "id": "ND2jU4c5EQHV",
        "outputId": "3c7d6814-6027-4699-bbcc-417875b1750a"
      },
      "execution_count": null,
      "outputs": [
        {
          "output_type": "stream",
          "name": "stdout",
          "text": [
            "Model: \"model_1\"\n",
            "_________________________________________________________________\n",
            " Layer (type)                Output Shape              Param #   \n",
            "=================================================================\n",
            " input_layer1 (Dense)        (None, 10)                20        \n",
            "                                                                 \n",
            " input_layer2 (Dense)        (None, 10)                110       \n",
            "                                                                 \n",
            " output_layer (Dense)        (None, 1)                 11        \n",
            "                                                                 \n",
            "=================================================================\n",
            "Total params: 141 (564.00 Byte)\n",
            "Trainable params: 141 (564.00 Byte)\n",
            "Non-trainable params: 0 (0.00 Byte)\n",
            "_________________________________________________________________\n"
          ]
        }
      ]
    },
    {
      "cell_type": "code",
      "source": [
        "from tensorflow.keras.utils import plot_model\n",
        "\n",
        "plot_model(model=model, show_shapes=True)"
      ],
      "metadata": {
        "colab": {
          "base_uri": "https://localhost:8080/",
          "height": 422
        },
        "id": "AUCH60ppETLA",
        "outputId": "b8cdeecd-a9ec-419b-e475-23169342dfcf"
      },
      "execution_count": null,
      "outputs": [
        {
          "output_type": "execute_result",
          "data": {
            "image/png": "[encoded data removed]",
            "text/plain": [
              "<IPython.core.display.Image object>"
            ]
          },
          "metadata": {},
          "execution_count": 33
        }
      ]
    },
    {
      "cell_type": "markdown",
      "source": [
        "### Visualize our model's predictions\n",
        "To visualize predictions, it's a good idea to plot them against the ground truth labels.\n",
        "\n",
        "Often you'll see this in the form of `y_test` or `y_true`\n",
        "versus `y_pred` (ground truth versus your model's predictions)."
      ],
      "metadata": {
        "id": "Bx9CckOTFIgZ"
      }
    },
    {
      "cell_type": "code",
      "source": [
        "# Make some predictions\n",
        "y_pred = model.predict(X_test)\n",
        "y_pred"
      ],
      "metadata": {
        "id": "sx4TwVJBn2CY",
        "outputId": "6a787ce6-2c1d-4eba-c119-d992bc682791",
        "colab": {
          "base_uri": "https://localhost:8080/"
        }
      },
      "execution_count": null,
      "outputs": [
        {
          "output_type": "stream",
          "name": "stderr",
          "text": [
            "WARNING:tensorflow:5 out of the last 5 calls to <function Model.make_predict_function.<locals>.predict_function at 0x7a0926d451b0> triggered tf.function retracing. Tracing is expensive and the excessive number of tracings could be due to (1) creating @tf.function repeatedly in a loop, (2) passing tensors with different shapes, (3) passing Python objects instead of tensors. For (1), please define your @tf.function outside of the loop. For (2), @tf.function has reduce_retracing=True option that can avoid unnecessary retracing. For (3), please refer to https://www.tensorflow.org/guide/function#controlling_retracing and https://www.tensorflow.org/api_docs/python/tf/function for  more details.\n"
          ]
        },
        {
          "output_type": "stream",
          "name": "stdout",
          "text": [
            "1/1 [==============================] - 0s 58ms/step\n"
          ]
        },
        {
          "output_type": "execute_result",
          "data": {
            "text/plain": [
              "array([[114.941895],\n",
              "       [122.486534],\n",
              "       [130.03116 ],\n",
              "       [137.57582 ],\n",
              "       [145.12047 ],\n",
              "       [152.66508 ],\n",
              "       [160.20975 ],\n",
              "       [167.75438 ],\n",
              "       [175.29903 ],\n",
              "       [182.84367 ]], dtype=float32)"
            ]
          },
          "metadata": {},
          "execution_count": 34
        }
      ]
    },
    {
      "cell_type": "code",
      "source": [
        "y_test"
      ],
      "metadata": {
        "id": "jWDHrOSwoD6n",
        "outputId": "c8f18c70-1442-4a43-b9e9-59ddd916f801",
        "colab": {
          "base_uri": "https://localhost:8080/"
        }
      },
      "execution_count": 72,
      "outputs": [
        {
          "output_type": "execute_result",
          "data": {
            "text/plain": [
              "<tf.Tensor: shape=(10,), dtype=float32, numpy=\n",
              "array([ 70.,  74.,  78.,  82.,  86.,  90.,  94.,  98., 102., 106.],\n",
              "      dtype=float32)>"
            ]
          },
          "metadata": {},
          "execution_count": 72
        }
      ]
    },
    {
      "cell_type": "code",
      "source": [
        " # Let's create a plotting function\n",
        "def plot_predictions(training_data=X_train,\n",
        "                      training_labels=y_train,\n",
        "                      test_data=X_test,\n",
        "                      test_labels=y_test,\n",
        "                      predictions=y_pred):\n",
        "   \"\"\"\n",
        "   Plots training data, test data and compares predictions to ground truth labels.\n",
        "   \"\"\"\n",
        "\n",
        "   plt.figure(figsize=(10, 7))\n",
        "   # Plot training data in blue\n",
        "   plt.scatter(training_data, training_labels, c='b', label=\"Training data\")\n",
        "   # Plot testing data in green\n",
        "   plt.scatter(test_data,test_labels, c='g', label=\"Testing data\")\n",
        "   #Plot model's predictions in red\n",
        "   plt.scatter(test_data, predictions, c='r', label=\"Predictions\")\n",
        "   # Show the legend\n",
        "   plt.legend();"
      ],
      "metadata": {
        "id": "R6UaFdxAoLZC"
      },
      "execution_count": 39,
      "outputs": []
    },
    {
      "cell_type": "code",
      "source": [
        "# Split the data into train and test sets\n",
        "X_train = X[:40] # first 40 are training samples (80% of the data)\n",
        "y_train = y[:40]\n",
        "\n",
        "X_test = X[40:] # last 10 are testing samples (20% of the data)\n",
        "y_test = y[40:]\n",
        "\n",
        "len(X_train), len(X_test), len(y_train), len(y_test)"
      ],
      "metadata": {
        "outputId": "48ba5b7c-a6b5-41a2-f656-64a787e9182e",
        "colab": {
          "base_uri": "https://localhost:8080/"
        },
        "id": "hNtMnnS4ooKi"
      },
      "execution_count": 62,
      "outputs": [
        {
          "output_type": "execute_result",
          "data": {
            "text/plain": [
              "(40, 10, 40, 10)"
            ]
          },
          "metadata": {},
          "execution_count": 62
        }
      ]
    },
    {
      "cell_type": "code",
      "source": [
        "# Let's create a model which builds automatically by defining the input_shape argument in the first layer\n",
        "tf.random.set_seed(42)\n",
        "\n",
        "# Create\n",
        "model2 = tf.keras.Sequential([\n",
        "    tf.keras.layers.Dense(17, name=\"input_layer0\"),\n",
        "    tf.keras.layers.Dense(15, name=\"input_layer1\"),\n",
        "    tf.keras.layers.Dense(13, name=\"input_layer2\"),\n",
        "    tf.keras.layers.Dense(1, name=\"output_layer\")\n",
        "], name=\"model_2\")\n",
        "\n",
        "# Compile\n",
        "model2.compile(loss=tf.keras.losses.mae,\n",
        "               optimizer=tf.keras.optimizers.Adam(learning_rate=0.001),\n",
        "              metrics=[\"mae\"])\n",
        "\n",
        "# fit\n",
        "model2.fit(tf.expand_dims(X, axis=-1), y, epochs=190, verbose=1)"
      ],
      "metadata": {
        "id": "dFC0EH20mfq4",
        "outputId": "90a4943e-7348-4567-c59f-c3141dcea0db",
        "colab": {
          "base_uri": "https://localhost:8080/"
        }
      },
      "execution_count": 104,
      "outputs": [
        {
          "output_type": "stream",
          "name": "stdout",
          "text": [
            "Epoch 1/190\n",
            "2/2 [==============================] - 1s 11ms/step - loss: 83.0928 - mae: 83.0928\n",
            "Epoch 2/190\n",
            "2/2 [==============================] - 0s 7ms/step - loss: 78.2163 - mae: 78.2163\n",
            "Epoch 3/190\n",
            "2/2 [==============================] - 0s 7ms/step - loss: 73.9201 - mae: 73.9201\n",
            "Epoch 4/190\n",
            "2/2 [==============================] - 0s 7ms/step - loss: 69.2611 - mae: 69.2611\n",
            "Epoch 5/190\n",
            "2/2 [==============================] - 0s 7ms/step - loss: 64.6226 - mae: 64.6226\n",
            "Epoch 6/190\n",
            "2/2 [==============================] - 0s 7ms/step - loss: 60.0921 - mae: 60.0921\n",
            "Epoch 7/190\n",
            "2/2 [==============================] - 0s 7ms/step - loss: 55.3298 - mae: 55.3298\n",
            "Epoch 8/190\n",
            "2/2 [==============================] - 0s 7ms/step - loss: 50.6845 - mae: 50.6845\n",
            "Epoch 9/190\n",
            "2/2 [==============================] - 0s 7ms/step - loss: 46.2866 - mae: 46.2866\n",
            "Epoch 10/190\n",
            "2/2 [==============================] - 0s 7ms/step - loss: 41.3484 - mae: 41.3484\n",
            "Epoch 11/190\n",
            "2/2 [==============================] - 0s 6ms/step - loss: 36.5184 - mae: 36.5184\n",
            "Epoch 12/190\n",
            "2/2 [==============================] - 0s 7ms/step - loss: 31.6191 - mae: 31.6191\n",
            "Epoch 13/190\n",
            "2/2 [==============================] - 0s 8ms/step - loss: 26.5929 - mae: 26.5929\n",
            "Epoch 14/190\n",
            "2/2 [==============================] - 0s 7ms/step - loss: 21.6784 - mae: 21.6784\n",
            "Epoch 15/190\n",
            "2/2 [==============================] - 0s 7ms/step - loss: 16.6648 - mae: 16.6648\n",
            "Epoch 16/190\n",
            "2/2 [==============================] - 0s 10ms/step - loss: 12.0997 - mae: 12.0997\n",
            "Epoch 17/190\n",
            "2/2 [==============================] - 0s 7ms/step - loss: 9.9958 - mae: 9.9958\n",
            "Epoch 18/190\n",
            "2/2 [==============================] - 0s 6ms/step - loss: 9.9362 - mae: 9.9362\n",
            "Epoch 19/190\n",
            "2/2 [==============================] - 0s 7ms/step - loss: 10.1073 - mae: 10.1073\n",
            "Epoch 20/190\n",
            "2/2 [==============================] - 0s 6ms/step - loss: 10.9797 - mae: 10.9797\n",
            "Epoch 21/190\n",
            "2/2 [==============================] - 0s 6ms/step - loss: 11.7137 - mae: 11.7137\n",
            "Epoch 22/190\n",
            "2/2 [==============================] - 0s 6ms/step - loss: 11.6681 - mae: 11.6681\n",
            "Epoch 23/190\n",
            "2/2 [==============================] - 0s 7ms/step - loss: 10.9173 - mae: 10.9173\n",
            "Epoch 24/190\n",
            "2/2 [==============================] - 0s 6ms/step - loss: 10.0452 - mae: 10.0452\n",
            "Epoch 25/190\n",
            "2/2 [==============================] - 0s 6ms/step - loss: 9.6386 - mae: 9.6386\n",
            "Epoch 26/190\n",
            "2/2 [==============================] - 0s 7ms/step - loss: 9.6295 - mae: 9.6295\n",
            "Epoch 27/190\n",
            "2/2 [==============================] - 0s 6ms/step - loss: 9.4695 - mae: 9.4695\n",
            "Epoch 28/190\n",
            "2/2 [==============================] - 0s 6ms/step - loss: 9.3901 - mae: 9.3901\n",
            "Epoch 29/190\n",
            "2/2 [==============================] - 0s 6ms/step - loss: 9.3166 - mae: 9.3166\n",
            "Epoch 30/190\n",
            "2/2 [==============================] - 0s 7ms/step - loss: 9.2727 - mae: 9.2727\n",
            "Epoch 31/190\n",
            "2/2 [==============================] - 0s 7ms/step - loss: 9.1373 - mae: 9.1373\n",
            "Epoch 32/190\n",
            "2/2 [==============================] - 0s 6ms/step - loss: 9.1089 - mae: 9.1089\n",
            "Epoch 33/190\n",
            "2/2 [==============================] - 0s 6ms/step - loss: 9.0271 - mae: 9.0271\n",
            "Epoch 34/190\n",
            "2/2 [==============================] - 0s 10ms/step - loss: 8.9583 - mae: 8.9583\n",
            "Epoch 35/190\n",
            "2/2 [==============================] - 0s 7ms/step - loss: 8.9827 - mae: 8.9827\n",
            "Epoch 36/190\n",
            "2/2 [==============================] - 0s 9ms/step - loss: 8.9964 - mae: 8.9964\n",
            "Epoch 37/190\n",
            "2/2 [==============================] - 0s 7ms/step - loss: 8.9100 - mae: 8.9100\n",
            "Epoch 38/190\n",
            "2/2 [==============================] - 0s 6ms/step - loss: 8.8153 - mae: 8.8153\n",
            "Epoch 39/190\n",
            "2/2 [==============================] - 0s 7ms/step - loss: 8.8400 - mae: 8.8400\n",
            "Epoch 40/190\n",
            "2/2 [==============================] - 0s 6ms/step - loss: 8.7654 - mae: 8.7654\n",
            "Epoch 41/190\n",
            "2/2 [==============================] - 0s 6ms/step - loss: 8.7402 - mae: 8.7402\n",
            "Epoch 42/190\n",
            "2/2 [==============================] - 0s 6ms/step - loss: 8.7012 - mae: 8.7012\n",
            "Epoch 43/190\n",
            "2/2 [==============================] - 0s 7ms/step - loss: 8.6607 - mae: 8.6607\n",
            "Epoch 44/190\n",
            "2/2 [==============================] - 0s 7ms/step - loss: 8.6236 - mae: 8.6236\n",
            "Epoch 45/190\n",
            "2/2 [==============================] - 0s 8ms/step - loss: 8.5909 - mae: 8.5909\n",
            "Epoch 46/190\n",
            "2/2 [==============================] - 0s 6ms/step - loss: 8.5429 - mae: 8.5429\n",
            "Epoch 47/190\n",
            "2/2 [==============================] - 0s 7ms/step - loss: 8.4962 - mae: 8.4962\n",
            "Epoch 48/190\n",
            "2/2 [==============================] - 0s 7ms/step - loss: 8.4641 - mae: 8.4641\n",
            "Epoch 49/190\n",
            "2/2 [==============================] - 0s 6ms/step - loss: 8.4299 - mae: 8.4299\n",
            "Epoch 50/190\n",
            "2/2 [==============================] - 0s 10ms/step - loss: 8.3661 - mae: 8.3661\n",
            "Epoch 51/190\n",
            "2/2 [==============================] - 0s 6ms/step - loss: 8.3186 - mae: 8.3186\n",
            "Epoch 52/190\n",
            "2/2 [==============================] - 0s 7ms/step - loss: 8.2797 - mae: 8.2797\n",
            "Epoch 53/190\n",
            "2/2 [==============================] - 0s 9ms/step - loss: 8.2367 - mae: 8.2367\n",
            "Epoch 54/190\n",
            "2/2 [==============================] - 0s 7ms/step - loss: 8.1969 - mae: 8.1969\n",
            "Epoch 55/190\n",
            "2/2 [==============================] - 0s 7ms/step - loss: 8.1778 - mae: 8.1778\n",
            "Epoch 56/190\n",
            "2/2 [==============================] - 0s 7ms/step - loss: 8.1272 - mae: 8.1272\n",
            "Epoch 57/190\n",
            "2/2 [==============================] - 0s 6ms/step - loss: 8.0962 - mae: 8.0962\n",
            "Epoch 58/190\n",
            "2/2 [==============================] - 0s 6ms/step - loss: 8.0402 - mae: 8.0402\n",
            "Epoch 59/190\n",
            "2/2 [==============================] - 0s 6ms/step - loss: 8.0310 - mae: 8.0310\n",
            "Epoch 60/190\n",
            "2/2 [==============================] - 0s 6ms/step - loss: 8.0177 - mae: 8.0177\n",
            "Epoch 61/190\n",
            "2/2 [==============================] - 0s 7ms/step - loss: 7.9503 - mae: 7.9503\n",
            "Epoch 62/190\n",
            "2/2 [==============================] - 0s 6ms/step - loss: 7.8894 - mae: 7.8894\n",
            "Epoch 63/190\n",
            "2/2 [==============================] - 0s 7ms/step - loss: 7.8512 - mae: 7.8512\n",
            "Epoch 64/190\n",
            "2/2 [==============================] - 0s 7ms/step - loss: 7.8255 - mae: 7.8255\n",
            "Epoch 65/190\n",
            "2/2 [==============================] - 0s 7ms/step - loss: 7.8069 - mae: 7.8069\n",
            "Epoch 66/190\n",
            "2/2 [==============================] - 0s 7ms/step - loss: 7.7659 - mae: 7.7659\n",
            "Epoch 67/190\n",
            "2/2 [==============================] - 0s 7ms/step - loss: 7.7289 - mae: 7.7289\n",
            "Epoch 68/190\n",
            "2/2 [==============================] - 0s 6ms/step - loss: 7.6918 - mae: 7.6918\n",
            "Epoch 69/190\n",
            "2/2 [==============================] - 0s 7ms/step - loss: 7.6506 - mae: 7.6506\n",
            "Epoch 70/190\n",
            "2/2 [==============================] - 0s 7ms/step - loss: 7.6343 - mae: 7.6343\n",
            "Epoch 71/190\n",
            "2/2 [==============================] - 0s 7ms/step - loss: 7.5721 - mae: 7.5721\n",
            "Epoch 72/190\n",
            "2/2 [==============================] - 0s 7ms/step - loss: 7.5371 - mae: 7.5371\n",
            "Epoch 73/190\n",
            "2/2 [==============================] - 0s 7ms/step - loss: 7.4854 - mae: 7.4854\n",
            "Epoch 74/190\n",
            "2/2 [==============================] - 0s 7ms/step - loss: 7.4303 - mae: 7.4303\n",
            "Epoch 75/190\n",
            "2/2 [==============================] - 0s 7ms/step - loss: 7.3772 - mae: 7.3772\n",
            "Epoch 76/190\n",
            "2/2 [==============================] - 0s 7ms/step - loss: 7.3305 - mae: 7.3305\n",
            "Epoch 77/190\n",
            "2/2 [==============================] - 0s 8ms/step - loss: 7.3502 - mae: 7.3502\n",
            "Epoch 78/190\n",
            "2/2 [==============================] - 0s 7ms/step - loss: 7.2545 - mae: 7.2545\n",
            "Epoch 79/190\n",
            "2/2 [==============================] - 0s 7ms/step - loss: 7.2368 - mae: 7.2368\n",
            "Epoch 80/190\n",
            "2/2 [==============================] - 0s 7ms/step - loss: 7.1759 - mae: 7.1759\n",
            "Epoch 81/190\n",
            "2/2 [==============================] - 0s 7ms/step - loss: 7.1404 - mae: 7.1404\n",
            "Epoch 82/190\n",
            "2/2 [==============================] - 0s 8ms/step - loss: 7.0777 - mae: 7.0777\n",
            "Epoch 83/190\n",
            "2/2 [==============================] - 0s 8ms/step - loss: 7.0563 - mae: 7.0563\n",
            "Epoch 84/190\n",
            "2/2 [==============================] - 0s 7ms/step - loss: 7.0168 - mae: 7.0168\n",
            "Epoch 85/190\n",
            "2/2 [==============================] - 0s 7ms/step - loss: 6.9532 - mae: 6.9532\n",
            "Epoch 86/190\n",
            "2/2 [==============================] - 0s 7ms/step - loss: 6.9156 - mae: 6.9156\n",
            "Epoch 87/190\n",
            "2/2 [==============================] - 0s 8ms/step - loss: 6.8788 - mae: 6.8788\n",
            "Epoch 88/190\n",
            "2/2 [==============================] - 0s 8ms/step - loss: 6.8459 - mae: 6.8459\n",
            "Epoch 89/190\n",
            "2/2 [==============================] - 0s 7ms/step - loss: 6.8081 - mae: 6.8081\n",
            "Epoch 90/190\n",
            "2/2 [==============================] - 0s 6ms/step - loss: 6.7702 - mae: 6.7702\n",
            "Epoch 91/190\n",
            "2/2 [==============================] - 0s 8ms/step - loss: 6.7308 - mae: 6.7308\n",
            "Epoch 92/190\n",
            "2/2 [==============================] - 0s 7ms/step - loss: 6.6893 - mae: 6.6893\n",
            "Epoch 93/190\n",
            "2/2 [==============================] - 0s 7ms/step - loss: 6.6866 - mae: 6.6866\n",
            "Epoch 94/190\n",
            "2/2 [==============================] - 0s 7ms/step - loss: 6.6034 - mae: 6.6034\n",
            "Epoch 95/190\n",
            "2/2 [==============================] - 0s 7ms/step - loss: 6.5466 - mae: 6.5466\n",
            "Epoch 96/190\n",
            "2/2 [==============================] - 0s 7ms/step - loss: 6.4884 - mae: 6.4884\n",
            "Epoch 97/190\n",
            "2/2 [==============================] - 0s 7ms/step - loss: 6.4577 - mae: 6.4577\n",
            "Epoch 98/190\n",
            "2/2 [==============================] - 0s 6ms/step - loss: 6.3705 - mae: 6.3705\n",
            "Epoch 99/190\n",
            "2/2 [==============================] - 0s 7ms/step - loss: 6.3112 - mae: 6.3112\n",
            "Epoch 100/190\n",
            "2/2 [==============================] - 0s 8ms/step - loss: 6.2739 - mae: 6.2739\n",
            "Epoch 101/190\n",
            "2/2 [==============================] - 0s 10ms/step - loss: 6.2374 - mae: 6.2374\n",
            "Epoch 102/190\n",
            "2/2 [==============================] - 0s 9ms/step - loss: 6.1768 - mae: 6.1768\n",
            "Epoch 103/190\n",
            "2/2 [==============================] - 0s 8ms/step - loss: 6.1042 - mae: 6.1042\n",
            "Epoch 104/190\n",
            "2/2 [==============================] - 0s 9ms/step - loss: 6.0592 - mae: 6.0592\n",
            "Epoch 105/190\n",
            "2/2 [==============================] - 0s 8ms/step - loss: 6.0242 - mae: 6.0242\n",
            "Epoch 106/190\n",
            "2/2 [==============================] - 0s 8ms/step - loss: 5.9907 - mae: 5.9907\n",
            "Epoch 107/190\n",
            "2/2 [==============================] - 0s 7ms/step - loss: 5.8913 - mae: 5.8913\n",
            "Epoch 108/190\n",
            "2/2 [==============================] - 0s 7ms/step - loss: 5.8468 - mae: 5.8468\n",
            "Epoch 109/190\n",
            "2/2 [==============================] - 0s 7ms/step - loss: 5.7783 - mae: 5.7783\n",
            "Epoch 110/190\n",
            "2/2 [==============================] - 0s 8ms/step - loss: 5.7420 - mae: 5.7420\n",
            "Epoch 111/190\n",
            "2/2 [==============================] - 0s 7ms/step - loss: 5.6800 - mae: 5.6800\n",
            "Epoch 112/190\n",
            "2/2 [==============================] - 0s 8ms/step - loss: 5.6149 - mae: 5.6149\n",
            "Epoch 113/190\n",
            "2/2 [==============================] - 0s 7ms/step - loss: 5.5832 - mae: 5.5832\n",
            "Epoch 114/190\n",
            "2/2 [==============================] - 0s 8ms/step - loss: 5.5131 - mae: 5.5131\n",
            "Epoch 115/190\n",
            "2/2 [==============================] - 0s 6ms/step - loss: 5.4415 - mae: 5.4415\n",
            "Epoch 116/190\n",
            "2/2 [==============================] - 0s 7ms/step - loss: 5.3761 - mae: 5.3761\n",
            "Epoch 117/190\n",
            "2/2 [==============================] - 0s 7ms/step - loss: 5.3086 - mae: 5.3086\n",
            "Epoch 118/190\n",
            "2/2 [==============================] - 0s 9ms/step - loss: 5.2310 - mae: 5.2310\n",
            "Epoch 119/190\n",
            "2/2 [==============================] - 0s 9ms/step - loss: 5.2445 - mae: 5.2445\n",
            "Epoch 120/190\n",
            "2/2 [==============================] - 0s 7ms/step - loss: 5.1348 - mae: 5.1348\n",
            "Epoch 121/190\n",
            "2/2 [==============================] - 0s 6ms/step - loss: 5.0687 - mae: 5.0687\n",
            "Epoch 122/190\n",
            "2/2 [==============================] - 0s 7ms/step - loss: 4.9789 - mae: 4.9789\n",
            "Epoch 123/190\n",
            "2/2 [==============================] - 0s 9ms/step - loss: 4.9268 - mae: 4.9268\n",
            "Epoch 124/190\n",
            "2/2 [==============================] - 0s 7ms/step - loss: 4.9586 - mae: 4.9586\n",
            "Epoch 125/190\n",
            "2/2 [==============================] - 0s 7ms/step - loss: 4.8431 - mae: 4.8431\n",
            "Epoch 126/190\n",
            "2/2 [==============================] - 0s 8ms/step - loss: 4.7800 - mae: 4.7800\n",
            "Epoch 127/190\n",
            "2/2 [==============================] - 0s 7ms/step - loss: 4.7151 - mae: 4.7151\n",
            "Epoch 128/190\n",
            "2/2 [==============================] - 0s 8ms/step - loss: 4.6475 - mae: 4.6475\n",
            "Epoch 129/190\n",
            "2/2 [==============================] - 0s 9ms/step - loss: 4.5825 - mae: 4.5825\n",
            "Epoch 130/190\n",
            "2/2 [==============================] - 0s 7ms/step - loss: 4.5075 - mae: 4.5075\n",
            "Epoch 131/190\n",
            "2/2 [==============================] - 0s 6ms/step - loss: 4.4269 - mae: 4.4269\n",
            "Epoch 132/190\n",
            "2/2 [==============================] - 0s 7ms/step - loss: 4.3657 - mae: 4.3657\n",
            "Epoch 133/190\n",
            "2/2 [==============================] - 0s 6ms/step - loss: 4.2736 - mae: 4.2736\n",
            "Epoch 134/190\n",
            "2/2 [==============================] - 0s 6ms/step - loss: 4.1723 - mae: 4.1723\n",
            "Epoch 135/190\n",
            "2/2 [==============================] - 0s 7ms/step - loss: 4.0899 - mae: 4.0899\n",
            "Epoch 136/190\n",
            "2/2 [==============================] - 0s 7ms/step - loss: 4.0051 - mae: 4.0051\n",
            "Epoch 137/190\n",
            "2/2 [==============================] - 0s 7ms/step - loss: 3.9222 - mae: 3.9222\n",
            "Epoch 138/190\n",
            "2/2 [==============================] - 0s 7ms/step - loss: 3.8694 - mae: 3.8694\n",
            "Epoch 139/190\n",
            "2/2 [==============================] - 0s 7ms/step - loss: 3.7269 - mae: 3.7269\n",
            "Epoch 140/190\n",
            "2/2 [==============================] - 0s 6ms/step - loss: 3.6237 - mae: 3.6237\n",
            "Epoch 141/190\n",
            "2/2 [==============================] - 0s 6ms/step - loss: 3.5192 - mae: 3.5192\n",
            "Epoch 142/190\n",
            "2/2 [==============================] - 0s 6ms/step - loss: 3.4008 - mae: 3.4008\n",
            "Epoch 143/190\n",
            "2/2 [==============================] - 0s 6ms/step - loss: 3.3017 - mae: 3.3017\n",
            "Epoch 144/190\n",
            "2/2 [==============================] - 0s 12ms/step - loss: 3.3823 - mae: 3.3823\n",
            "Epoch 145/190\n",
            "2/2 [==============================] - 0s 7ms/step - loss: 3.0346 - mae: 3.0346\n",
            "Epoch 146/190\n",
            "2/2 [==============================] - 0s 7ms/step - loss: 3.1083 - mae: 3.1083\n",
            "Epoch 147/190\n",
            "2/2 [==============================] - 0s 7ms/step - loss: 2.9944 - mae: 2.9944\n",
            "Epoch 148/190\n",
            "2/2 [==============================] - 0s 7ms/step - loss: 2.9344 - mae: 2.9344\n",
            "Epoch 149/190\n",
            "2/2 [==============================] - 0s 7ms/step - loss: 2.7756 - mae: 2.7756\n",
            "Epoch 150/190\n",
            "2/2 [==============================] - 0s 7ms/step - loss: 2.6178 - mae: 2.6178\n",
            "Epoch 151/190\n",
            "2/2 [==============================] - 0s 7ms/step - loss: 2.5156 - mae: 2.5156\n",
            "Epoch 152/190\n",
            "2/2 [==============================] - 0s 7ms/step - loss: 2.4506 - mae: 2.4506\n",
            "Epoch 153/190\n",
            "2/2 [==============================] - 0s 7ms/step - loss: 2.2904 - mae: 2.2904\n",
            "Epoch 154/190\n",
            "2/2 [==============================] - 0s 7ms/step - loss: 2.1961 - mae: 2.1961\n",
            "Epoch 155/190\n",
            "2/2 [==============================] - 0s 7ms/step - loss: 2.0830 - mae: 2.0830\n",
            "Epoch 156/190\n",
            "2/2 [==============================] - 0s 7ms/step - loss: 1.9675 - mae: 1.9675\n",
            "Epoch 157/190\n",
            "2/2 [==============================] - 0s 7ms/step - loss: 1.8508 - mae: 1.8508\n",
            "Epoch 158/190\n",
            "2/2 [==============================] - 0s 7ms/step - loss: 1.7280 - mae: 1.7280\n",
            "Epoch 159/190\n",
            "2/2 [==============================] - 0s 7ms/step - loss: 1.5935 - mae: 1.5935\n",
            "Epoch 160/190\n",
            "2/2 [==============================] - 0s 7ms/step - loss: 1.4400 - mae: 1.4400\n",
            "Epoch 161/190\n",
            "2/2 [==============================] - 0s 7ms/step - loss: 1.2738 - mae: 1.2738\n",
            "Epoch 162/190\n",
            "2/2 [==============================] - 0s 7ms/step - loss: 1.3194 - mae: 1.3194\n",
            "Epoch 163/190\n",
            "2/2 [==============================] - 0s 7ms/step - loss: 1.2516 - mae: 1.2516\n",
            "Epoch 164/190\n",
            "2/2 [==============================] - 0s 7ms/step - loss: 1.1716 - mae: 1.1716\n",
            "Epoch 165/190\n",
            "2/2 [==============================] - 0s 7ms/step - loss: 1.6114 - mae: 1.6114\n",
            "Epoch 166/190\n",
            "2/2 [==============================] - 0s 8ms/step - loss: 0.7596 - mae: 0.7596\n",
            "Epoch 167/190\n",
            "2/2 [==============================] - 0s 9ms/step - loss: 0.8601 - mae: 0.8601\n",
            "Epoch 168/190\n",
            "2/2 [==============================] - 0s 10ms/step - loss: 1.3820 - mae: 1.3820\n",
            "Epoch 169/190\n",
            "2/2 [==============================] - 0s 9ms/step - loss: 0.6315 - mae: 0.6315\n",
            "Epoch 170/190\n",
            "2/2 [==============================] - 0s 7ms/step - loss: 0.7107 - mae: 0.7107\n",
            "Epoch 171/190\n",
            "2/2 [==============================] - 0s 7ms/step - loss: 0.4457 - mae: 0.4457\n",
            "Epoch 172/190\n",
            "2/2 [==============================] - 0s 7ms/step - loss: 0.4802 - mae: 0.4802\n",
            "Epoch 173/190\n",
            "2/2 [==============================] - 0s 7ms/step - loss: 0.9204 - mae: 0.9204\n",
            "Epoch 174/190\n",
            "2/2 [==============================] - 0s 8ms/step - loss: 1.7637 - mae: 1.7637\n",
            "Epoch 175/190\n",
            "2/2 [==============================] - 0s 10ms/step - loss: 1.2061 - mae: 1.2061\n",
            "Epoch 176/190\n",
            "2/2 [==============================] - 0s 8ms/step - loss: 2.3563 - mae: 2.3563\n",
            "Epoch 177/190\n",
            "2/2 [==============================] - 0s 8ms/step - loss: 2.6477 - mae: 2.6477\n",
            "Epoch 178/190\n",
            "2/2 [==============================] - 0s 11ms/step - loss: 0.6599 - mae: 0.6599\n",
            "Epoch 179/190\n",
            "2/2 [==============================] - 0s 7ms/step - loss: 2.0539 - mae: 2.0539\n",
            "Epoch 180/190\n",
            "2/2 [==============================] - 0s 8ms/step - loss: 0.8913 - mae: 0.8913\n",
            "Epoch 181/190\n",
            "2/2 [==============================] - 0s 8ms/step - loss: 2.4267 - mae: 2.4267\n",
            "Epoch 182/190\n",
            "2/2 [==============================] - 0s 8ms/step - loss: 0.9722 - mae: 0.9722\n",
            "Epoch 183/190\n",
            "2/2 [==============================] - 0s 7ms/step - loss: 1.1032 - mae: 1.1032\n",
            "Epoch 184/190\n",
            "2/2 [==============================] - 0s 8ms/step - loss: 0.3663 - mae: 0.3663\n",
            "Epoch 185/190\n",
            "2/2 [==============================] - 0s 8ms/step - loss: 0.1291 - mae: 0.1291\n",
            "Epoch 186/190\n",
            "2/2 [==============================] - 0s 7ms/step - loss: 0.2255 - mae: 0.2255\n",
            "Epoch 187/190\n",
            "2/2 [==============================] - 0s 8ms/step - loss: 0.2505 - mae: 0.2505\n",
            "Epoch 188/190\n",
            "2/2 [==============================] - 0s 7ms/step - loss: 0.2465 - mae: 0.2465\n",
            "Epoch 189/190\n",
            "2/2 [==============================] - 0s 7ms/step - loss: 0.2375 - mae: 0.2375\n",
            "Epoch 190/190\n",
            "2/2 [==============================] - 0s 7ms/step - loss: 0.2776 - mae: 0.2776\n"
          ]
        },
        {
          "output_type": "execute_result",
          "data": {
            "text/plain": [
              "<keras.src.callbacks.History at 0x7a0927d51360>"
            ]
          },
          "metadata": {},
          "execution_count": 104
        }
      ]
    },
    {
      "cell_type": "code",
      "source": [
        "# Make some predictions\n",
        "y_pred = model2.predict(X_test)\n",
        "y_pred"
      ],
      "metadata": {
        "id": "4O2CAksAoJQv",
        "outputId": "9b0890a3-0117-4de5-f457-b8e0e19306b6",
        "colab": {
          "base_uri": "https://localhost:8080/"
        }
      },
      "execution_count": 105,
      "outputs": [
        {
          "output_type": "stream",
          "name": "stdout",
          "text": [
            "1/1 [==============================] - 0s 86ms/step\n"
          ]
        },
        {
          "output_type": "execute_result",
          "data": {
            "text/plain": [
              "array([[ 70.34007 ],\n",
              "       [ 74.362305],\n",
              "       [ 78.38454 ],\n",
              "       [ 82.40676 ],\n",
              "       [ 86.42896 ],\n",
              "       [ 90.45118 ],\n",
              "       [ 94.47343 ],\n",
              "       [ 98.49565 ],\n",
              "       [102.51789 ],\n",
              "       [106.540085]], dtype=float32)"
            ]
          },
          "metadata": {},
          "execution_count": 105
        }
      ]
    },
    {
      "cell_type": "code",
      "source": [
        "plot_predictions(training_data=X_train,\n",
        "                 training_labels=y_train,\n",
        "                 test_data=X_test,\n",
        "                 test_labels=y_test,\n",
        "                 predictions=y_pred)"
      ],
      "metadata": {
        "id": "Eoxp3F7EIF0i",
        "colab": {
          "base_uri": "https://localhost:8080/",
          "height": 599
        },
        "outputId": "baa68d8c-f1bc-4ff1-b8a0-39cc89df1c56"
      },
      "execution_count": 106,
      "outputs": [
        {
          "output_type": "display_data",
          "data": {
            "text/plain": [
              "<Figure size 1000x700 with 1 Axes>"
            ],
            "image/png": "[encoded data removed]"
          },
          "metadata": {}
        }
      ]
    },
    {
      "cell_type": "markdown",
      "source": [
        "### Evaluating our model's predictions with regression evaluation metrics\n",
        "\n",
        "Depending on the problem you're working on, there will be different evaluation metrics to evaluate your model's performance.\n",
        "\n",
        "Since we're working on a regression, two of the main metrics:\n",
        "* MAE - mean absolute error, \"on average, how wrong is each of my model's predictions\"\n",
        "* MSE - mean square error, \"square the average errors.\""
      ],
      "metadata": {
        "id": "T83SLa6zlI8v"
      }
    },
    {
      "cell_type": "code",
      "source": [
        "# Evaluate the model on the test\n",
        "model2.evaluate(X_test, y_test)"
      ],
      "metadata": {
        "id": "RLhShIma4LKm",
        "outputId": "fcba1128-dec0-4779-e93b-def166c278d7",
        "colab": {
          "base_uri": "https://localhost:8080/"
        }
      },
      "execution_count": 108,
      "outputs": [
        {
          "output_type": "stream",
          "name": "stdout",
          "text": [
            "1/1 [==============================] - 0s 156ms/step - loss: 0.4401 - mae: 0.4401\n"
          ]
        },
        {
          "output_type": "execute_result",
          "data": {
            "text/plain": [
              "[0.44008177518844604, 0.44008177518844604]"
            ]
          },
          "metadata": {},
          "execution_count": 108
        }
      ]
    },
    {
      "cell_type": "code",
      "source": [
        "# Calculate the mean absolute error\n",
        "mae = tf.metrics.mean_absolute_error(y_true=y_test,\n",
        "                              y_pred=tf.constant(y_pred))\n",
        "mae"
      ],
      "metadata": {
        "id": "JCp8lSyE6XXg",
        "outputId": "1809c9d4-ec6c-4d4b-8371-e537985e3086",
        "colab": {
          "base_uri": "https://localhost:8080/"
        }
      },
      "execution_count": 119,
      "outputs": [
        {
          "output_type": "execute_result",
          "data": {
            "text/plain": [
              "<tf.Tensor: shape=(10,), dtype=float32, numpy=\n",
              "array([17.727942, 14.582617, 12.246185, 10.718648, 10.      , 10.090236,\n",
              "       10.98937 , 12.697391, 15.214313, 18.540085], dtype=float32)>"
            ]
          },
          "metadata": {},
          "execution_count": 119
        }
      ]
    },
    {
      "cell_type": "code",
      "source": [
        "tf.constant(y_pred)"
      ],
      "metadata": {
        "id": "IATXuN9e6H3U",
        "outputId": "1f4b6c62-d363-4b2b-dc33-e7e16a83bb05",
        "colab": {
          "base_uri": "https://localhost:8080/"
        }
      },
      "execution_count": 120,
      "outputs": [
        {
          "output_type": "execute_result",
          "data": {
            "text/plain": [
              "<tf.Tensor: shape=(10, 1), dtype=float32, numpy=\n",
              "array([[ 70.34007 ],\n",
              "       [ 74.362305],\n",
              "       [ 78.38454 ],\n",
              "       [ 82.40676 ],\n",
              "       [ 86.42896 ],\n",
              "       [ 90.45118 ],\n",
              "       [ 94.47343 ],\n",
              "       [ 98.49565 ],\n",
              "       [102.51789 ],\n",
              "       [106.540085]], dtype=float32)>"
            ]
          },
          "metadata": {},
          "execution_count": 120
        }
      ]
    },
    {
      "cell_type": "code",
      "source": [
        "y_test"
      ],
      "metadata": {
        "id": "9oW140df6VmE",
        "outputId": "9bc27c45-ad5c-44ce-e9a5-697ec05274d7",
        "colab": {
          "base_uri": "https://localhost:8080/"
        }
      },
      "execution_count": 121,
      "outputs": [
        {
          "output_type": "execute_result",
          "data": {
            "text/plain": [
              "<tf.Tensor: shape=(10,), dtype=float32, numpy=\n",
              "array([ 70.,  74.,  78.,  82.,  86.,  90.,  94.,  98., 102., 106.],\n",
              "      dtype=float32)>"
            ]
          },
          "metadata": {},
          "execution_count": 121
        }
      ]
    },
    {
      "cell_type": "code",
      "source": [
        "# Let's get rid of that one dimension (10, 1) --> (10,)\n",
        "tf.squeeze(y_pred)"
      ],
      "metadata": {
        "id": "q7LzeOENBj4S",
        "outputId": "32f6e5bd-1524-43b2-d7dd-dc556e11b297",
        "colab": {
          "base_uri": "https://localhost:8080/"
        }
      },
      "execution_count": 123,
      "outputs": [
        {
          "output_type": "execute_result",
          "data": {
            "text/plain": [
              "<tf.Tensor: shape=(10,), dtype=float32, numpy=\n",
              "array([ 70.34007 ,  74.362305,  78.38454 ,  82.40676 ,  86.42896 ,\n",
              "        90.45118 ,  94.47343 ,  98.49565 , 102.51789 , 106.540085],\n",
              "      dtype=float32)>"
            ]
          },
          "metadata": {},
          "execution_count": 123
        }
      ]
    },
    {
      "cell_type": "code",
      "source": [
        "# Calculate the mean absolute error\n",
        "mae = tf.metrics.mean_absolute_error(y_true=y_test,\n",
        "                                     y_pred=tf.squeeze(y_pred))\n",
        "mae"
      ],
      "metadata": {
        "id": "l15GOD7FBwzR",
        "outputId": "3ec07036-f0ec-41d0-c571-8bceb5387541",
        "colab": {
          "base_uri": "https://localhost:8080/"
        }
      },
      "execution_count": 125,
      "outputs": [
        {
          "output_type": "execute_result",
          "data": {
            "text/plain": [
              "<tf.Tensor: shape=(), dtype=float32, numpy=0.44008714>"
            ]
          },
          "metadata": {},
          "execution_count": 125
        }
      ]
    },
    {
      "cell_type": "code",
      "source": [
        "# Calculate the mean square error\n",
        "mse = tf.metrics.mean_squared_error(y_true=y_test,\n",
        "                                    y_pred=tf.squeeze(y_pred))\n",
        "mse"
      ],
      "metadata": {
        "id": "oESgHXUHCZv6",
        "outputId": "5b20dfe5-a855-41ba-9efd-2953a61c88db",
        "colab": {
          "base_uri": "https://localhost:8080/"
        }
      },
      "execution_count": 126,
      "outputs": [
        {
          "output_type": "execute_result",
          "data": {
            "text/plain": [
              "<tf.Tensor: shape=(), dtype=float32, numpy=0.19775149>"
            ]
          },
          "metadata": {},
          "execution_count": 126
        }
      ]
    },
    {
      "cell_type": "code",
      "source": [
        "# Make some functions to reuse MAE and MSE\n",
        "def mae(y_true, y_pred):\n",
        "  return tf.metrics.mean_absolute_error(y_true=y_true,\n",
        "                                        y_pred=y_pred)\n",
        "\n",
        "def mse(y_true, y_pred):\n",
        "  return tf.metrics.mean_squared_error(y_true=y_true,\n",
        "                                       y_pred=y_pred)"
      ],
      "metadata": {
        "id": "-TluVL70Eu8q"
      },
      "execution_count": 129,
      "outputs": []
    },
    {
      "cell_type": "code",
      "source": [],
      "metadata": {
        "id": "beMq45-gLgix"
      },
      "execution_count": null,
      "outputs": []
    }
  ]
}