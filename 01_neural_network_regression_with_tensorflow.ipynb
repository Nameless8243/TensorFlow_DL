{
  "nbformat": 4,
  "nbformat_minor": 0,
  "metadata": {
    "colab": {
      "provenance": [],
      "authorship_tag": "ABX9TyOQiFSVm/mcm+/Sc7nPLcGt",
      "include_colab_link": true
    },
    "kernelspec": {
      "name": "python3",
      "display_name": "Python 3"
    },
    "language_info": {
      "name": "python"
    }
  },
  "cells": [
    {
      "cell_type": "markdown",
      "metadata": {
        "id": "view-in-github",
        "colab_type": "text"
      },
      "source": [
        "<a href=\"https://colab.research.google.com/github/Nameless8243/TensorFlow_DL/blob/main/01_neural_network_regression_with_tensorflow.ipynb\" target=\"_parent\"><img src=\"https://colab.research.google.com/assets/colab-badge.svg\" alt=\"Open In Colab\"/></a>"
      ]
    },
    {
      "cell_type": "markdown",
      "source": [
        "# Introduction to Regression with Neural Networks in TensorFlow\n",
        "\n",
        "There are many definitions for a regression problem but in our case, we're going to simplify it: predicting a numerical variable based on some other combination of variables, even shorter... predicting a number."
      ],
      "metadata": {
        "id": "oP5JGRSITyJO"
      }
    },
    {
      "cell_type": "code",
      "source": [
        "# Import tensorflow\n",
        "import tensorflow as tf\n",
        "print(tf.__version__)"
      ],
      "metadata": {
        "colab": {
          "base_uri": "https://localhost:8080/"
        },
        "id": "LsGmYUhse5F-",
        "outputId": "a5b20983-86d5-4f2b-b4c8-2b7100d7b032"
      },
      "execution_count": null,
      "outputs": [
        {
          "output_type": "stream",
          "name": "stdout",
          "text": [
            "2.15.0\n"
          ]
        }
      ]
    },
    {
      "cell_type": "markdown",
      "source": [
        "## Creating data to view and fit"
      ],
      "metadata": {
        "id": "uGT0hliwfDt-"
      }
    },
    {
      "cell_type": "code",
      "source": [
        "import numpy as np\n",
        "import matplotlib.pyplot as plt\n",
        "\n",
        "# Create features\n",
        "X = np.array([-7.0, -4.0, -1.0, 2.0, 5.0, 8.0, 11.0, 14.0])\n",
        "\n",
        "# Create labels\n",
        "y = np.array([3.0, 6.0, 9.0, 12.0, 15.0, 18.0, 21.0, 24.0])\n",
        "\n",
        "# Visualize it\n",
        "plt.scatter(X, y);"
      ],
      "metadata": {
        "colab": {
          "base_uri": "https://localhost:8080/",
          "height": 435
        },
        "id": "Bz9l-cqWfS7l",
        "outputId": "fcb1961d-f47e-4727-9d7b-2b3082c8edc3"
      },
      "execution_count": null,
      "outputs": [
        {
          "output_type": "display_data",
          "data": {
            "text/plain": [
              "<Figure size 640x480 with 1 Axes>"
            ],
            "image/png": "[encoded data removed]"
          },
          "metadata": {}
        }
      ]
    },
    {
      "cell_type": "code",
      "source": [
        "y == X + 10"
      ],
      "metadata": {
        "colab": {
          "base_uri": "https://localhost:8080/"
        },
        "id": "IhhPD6eigTzN",
        "outputId": "c4896875-47c2-4cbe-a62b-9edd69a802c2"
      },
      "execution_count": null,
      "outputs": [
        {
          "output_type": "execute_result",
          "data": {
            "text/plain": [
              "array([ True,  True,  True,  True,  True,  True,  True,  True])"
            ]
          },
          "metadata": {},
          "execution_count": 3
        }
      ]
    },
    {
      "cell_type": "markdown",
      "source": [
        "## Input and output shapes"
      ],
      "metadata": {
        "id": "ZTXfdcSOg2bE"
      }
    },
    {
      "cell_type": "code",
      "source": [
        "# Create demo tensor for our housing price prediction problem\n",
        "house_info = tf.constant([\"bedroom\", \"bathroom\", \"garage\"])\n",
        "house_price = tf.constant([939700])\n",
        "house_info, house_price"
      ],
      "metadata": {
        "colab": {
          "base_uri": "https://localhost:8080/"
        },
        "id": "vS_BbYWjj3Et",
        "outputId": "f7993ba0-625e-4910-eda9-639b4b0b65dd"
      },
      "execution_count": null,
      "outputs": [
        {
          "output_type": "execute_result",
          "data": {
            "text/plain": [
              "(<tf.Tensor: shape=(3,), dtype=string, numpy=array([b'bedroom', b'bathroom', b'garage'], dtype=object)>,\n",
              " <tf.Tensor: shape=(1,), dtype=int32, numpy=array([939700], dtype=int32)>)"
            ]
          },
          "metadata": {},
          "execution_count": 4
        }
      ]
    },
    {
      "cell_type": "code",
      "source": [
        "input_shape = X[0].shape\n",
        "output_shape = y[0].shape\n",
        "input_shape, output_shape"
      ],
      "metadata": {
        "colab": {
          "base_uri": "https://localhost:8080/"
        },
        "id": "v4JCXIjjkcer",
        "outputId": "2215e016-fd06-4471-e4c1-28fa0eb6f6f2"
      },
      "execution_count": null,
      "outputs": [
        {
          "output_type": "execute_result",
          "data": {
            "text/plain": [
              "((), ())"
            ]
          },
          "metadata": {},
          "execution_count": 5
        }
      ]
    },
    {
      "cell_type": "code",
      "source": [
        "# Turn our NumPy arrays into tensors with dtype float32\n",
        "X = tf.cast(tf.constant(X), dtype=tf.float32)\n",
        "y = tf.cast(tf.constant(y), dtype=tf.float32)\n",
        "X, y"
      ],
      "metadata": {
        "colab": {
          "base_uri": "https://localhost:8080/"
        },
        "id": "jJeyIQYokyn7",
        "outputId": "680b0bb6-12d7-4659-a19b-3500dfed34f3"
      },
      "execution_count": null,
      "outputs": [
        {
          "output_type": "execute_result",
          "data": {
            "text/plain": [
              "(<tf.Tensor: shape=(8,), dtype=float32, numpy=array([-7., -4., -1.,  2.,  5.,  8., 11., 14.], dtype=float32)>,\n",
              " <tf.Tensor: shape=(8,), dtype=float32, numpy=array([ 3.,  6.,  9., 12., 15., 18., 21., 24.], dtype=float32)>)"
            ]
          },
          "metadata": {},
          "execution_count": 6
        }
      ]
    },
    {
      "cell_type": "code",
      "source": [
        "input_shape = X[0].shape\n",
        "output_shape = y[0].shape\n",
        "input_shape, output_shape"
      ],
      "metadata": {
        "colab": {
          "base_uri": "https://localhost:8080/"
        },
        "id": "9dCoCjBQmAr7",
        "outputId": "177990d6-3c6a-4b9c-b97e-f99cf608d485"
      },
      "execution_count": null,
      "outputs": [
        {
          "output_type": "execute_result",
          "data": {
            "text/plain": [
              "(TensorShape([]), TensorShape([]))"
            ]
          },
          "metadata": {},
          "execution_count": 7
        }
      ]
    },
    {
      "cell_type": "code",
      "source": [
        "plt.scatter(X,y)"
      ],
      "metadata": {
        "colab": {
          "base_uri": "https://localhost:8080/",
          "height": 452
        },
        "id": "am1A3auXmhoD",
        "outputId": "0f92ccf0-3e0f-4c70-999e-95e14673d562"
      },
      "execution_count": null,
      "outputs": [
        {
          "output_type": "execute_result",
          "data": {
            "text/plain": [
              "<matplotlib.collections.PathCollection at 0x7a093476b8b0>"
            ]
          },
          "metadata": {},
          "execution_count": 8
        },
        {
          "output_type": "display_data",
          "data": {
            "text/plain": [
              "<Figure size 640x480 with 1 Axes>"
            ],
            "image/png": "[encoded data removed]"
          },
          "metadata": {}
        }
      ]
    },
    {
      "cell_type": "markdown",
      "source": [
        "## Steps in modelling with TensorFlow\n",
        "\n",
        "1. **Creating a model** - define the input and output layers, as well as the hidden layers of a deep learning model.\n",
        "2. **Compiling a model** - define the loss function (in other words, the\n",
        "function which tells our model how wrong it is) and the optimizer\n",
        "(tells our model how to improve the patterns its learning) and\n",
        "evaluation metrics (what we can use ta interpret the performance of our model).\n",
        "3. **Fitting the model** - letting the model try to find patterns between X & y (features and labels)."
      ],
      "metadata": {
        "id": "-buia87-msUz"
      }
    },
    {
      "cell_type": "code",
      "source": [
        "# Optionally, the first layer can receive an `input_shape` argument:\n",
        "model = tf.keras.Sequential()\n",
        "model.add(tf.keras.layers.Dense(8, input_shape=(16,)))\n",
        "# Afterwards, we do automatic shape inference:\n",
        "model.add(tf.keras.layers.Dense(4))\n",
        "\n",
        "model = tf.keras.Sequential()\n",
        "model.add(tf.keras.layers.Dense(8, input_shape=(16,)))\n",
        "model.add(tf.keras.layers.Dense(4))\n",
        "\n",
        "model = tf.keras.Sequential()\n",
        "model.add(tf.keras.layers.Dense(1))\n",
        "model.add(tf.keras.layers.Dense(1))"
      ],
      "metadata": {
        "id": "YM-kOlIPzdM1"
      },
      "execution_count": null,
      "outputs": []
    },
    {
      "cell_type": "code",
      "source": [
        "# Set random seed\n",
        "tf.random.set_seed(42)\n",
        "# 1. Create a model using the Sequential API\n",
        "model = tf.keras.Sequential([\n",
        "    tf.keras.layers.Dense(1),\n",
        "    tf.keras.layers.Dense(1)\n",
        "\n",
        "])\n",
        "\n",
        "# 2. Compile the model\n",
        "model.compile(loss=tf.keras.losses.mae, # mae is short for mean absolute error\n",
        "              optimizer=tf.keras.optimizers.SGD(), # sgd is short for stochastic gradient descent\n",
        "              metrics=[\"mae\"])\n",
        "\n",
        "# 3. Fit the model\n",
        "model.fit(tf.expand_dims(X, axis=-1), y, epochs=5)"
      ],
      "metadata": {
        "id": "jZi7FfNkm9by",
        "colab": {
          "base_uri": "https://localhost:8080/"
        },
        "outputId": "d1e326ea-9655-40cd-de86-80e43f21b143"
      },
      "execution_count": null,
      "outputs": [
        {
          "output_type": "stream",
          "name": "stdout",
          "text": [
            "Epoch 1/5\n",
            "1/1 [==============================] - 1s 524ms/step - loss: 13.4249 - mae: 13.4249\n",
            "Epoch 2/5\n",
            "1/1 [==============================] - 0s 10ms/step - loss: 13.3885 - mae: 13.3885\n",
            "Epoch 3/5\n",
            "1/1 [==============================] - 0s 9ms/step - loss: 13.3515 - mae: 13.3515\n",
            "Epoch 4/5\n",
            "1/1 [==============================] - 0s 9ms/step - loss: 13.3140 - mae: 13.3140\n",
            "Epoch 5/5\n",
            "1/1 [==============================] - 0s 9ms/step - loss: 13.2757 - mae: 13.2757\n"
          ]
        },
        {
          "output_type": "execute_result",
          "data": {
            "text/plain": [
              "<keras.src.callbacks.History at 0x7a0934722d70>"
            ]
          },
          "metadata": {},
          "execution_count": 10
        }
      ]
    },
    {
      "cell_type": "code",
      "source": [
        "# Check out X, and y\n",
        "X, y"
      ],
      "metadata": {
        "colab": {
          "base_uri": "https://localhost:8080/"
        },
        "id": "9924Ks0cyEZc",
        "outputId": "749fbdf8-6450-49b5-b63e-9a5e99787fb8"
      },
      "execution_count": null,
      "outputs": [
        {
          "output_type": "execute_result",
          "data": {
            "text/plain": [
              "(<tf.Tensor: shape=(8,), dtype=float32, numpy=array([-7., -4., -1.,  2.,  5.,  8., 11., 14.], dtype=float32)>,\n",
              " <tf.Tensor: shape=(8,), dtype=float32, numpy=array([ 3.,  6.,  9., 12., 15., 18., 21., 24.], dtype=float32)>)"
            ]
          },
          "metadata": {},
          "execution_count": 11
        }
      ]
    },
    {
      "cell_type": "code",
      "source": [
        "# Try and make a prediction using our model\n",
        "y_pred = model.predict([17.0])\n",
        "y_pred"
      ],
      "metadata": {
        "colab": {
          "base_uri": "https://localhost:8080/"
        },
        "id": "zaNtc7a57T9y",
        "outputId": "7f429430-b4d9-4549-c477-edd05925e1f2"
      },
      "execution_count": null,
      "outputs": [
        {
          "output_type": "stream",
          "name": "stdout",
          "text": [
            "1/1 [==============================] - 0s 94ms/step\n"
          ]
        },
        {
          "output_type": "execute_result",
          "data": {
            "text/plain": [
              "array([[1.0472573]], dtype=float32)"
            ]
          },
          "metadata": {},
          "execution_count": 12
        }
      ]
    },
    {
      "cell_type": "code",
      "source": [
        "y_pred + 18"
      ],
      "metadata": {
        "colab": {
          "base_uri": "https://localhost:8080/"
        },
        "id": "nqNb7qQL7t7U",
        "outputId": "eba13992-1675-4fb9-9c37-eb9af130a583"
      },
      "execution_count": null,
      "outputs": [
        {
          "output_type": "execute_result",
          "data": {
            "text/plain": [
              "array([[19.047256]], dtype=float32)"
            ]
          },
          "metadata": {},
          "execution_count": 13
        }
      ]
    },
    {
      "cell_type": "markdown",
      "source": [
        "## Improving our model\n",
        "\n",
        "We can improve our model, by astering the steps we took to create a model.\n",
        "\n",
        "1. **Creating a model** - here we might add more layers,\n",
        "increase the number of hidden units (all called neurons) within each of the hidden layers, change the activation function of each layer.\n",
        "2. **Compiling a model** - here we might change the optimization function or perhaps the **learning rate** of the optimization function.\n",
        "3. **Fitting a model** - here we might fit a model for more **epochs** (leave it training for longer) or on more data (give the model more examples to learn from)."
      ],
      "metadata": {
        "id": "6ZSGWPSe8Fpe"
      }
    },
    {
      "cell_type": "code",
      "source": [
        "# Let's rebuild our model\n",
        "\n",
        "# 1. Create the model\n",
        "model = tf.keras.Sequential([\n",
        "    tf.keras.layers.Dense(1)\n",
        "])\n",
        "\n",
        "# 2. Compile the model\n",
        "model.compile(loss=tf.keras.losses.mae,\n",
        "              optimizer=tf.keras.optimizers.SGD(),\n",
        "              metrics=[\"mae\"])\n",
        "# 3. Fit the model (this time we'll train for longer)\n",
        "model.fit(tf.expand_dims(X, axis=-1), y, epochs=100)"
      ],
      "metadata": {
        "colab": {
          "base_uri": "https://localhost:8080/"
        },
        "id": "sG_Jes1K8z-M",
        "outputId": "ce9a2772-2536-4d07-d8f8-a72b5b06b429"
      },
      "execution_count": null,
      "outputs": [
        {
          "output_type": "stream",
          "name": "stdout",
          "text": [
            "Epoch 1/100\n",
            "1/1 [==============================] - 0s 328ms/step - loss: 10.1475 - mae: 10.1475\n",
            "Epoch 2/100\n",
            "1/1 [==============================] - 0s 9ms/step - loss: 10.0150 - mae: 10.0150\n",
            "Epoch 3/100\n",
            "1/1 [==============================] - 0s 12ms/step - loss: 9.8825 - mae: 9.8825\n",
            "Epoch 4/100\n",
            "1/1 [==============================] - 0s 13ms/step - loss: 9.7500 - mae: 9.7500\n",
            "Epoch 5/100\n",
            "1/1 [==============================] - 0s 11ms/step - loss: 9.6175 - mae: 9.6175\n",
            "Epoch 6/100\n",
            "1/1 [==============================] - 0s 9ms/step - loss: 9.4850 - mae: 9.4850\n",
            "Epoch 7/100\n",
            "1/1 [==============================] - 0s 9ms/step - loss: 9.3525 - mae: 9.3525\n",
            "Epoch 8/100\n",
            "1/1 [==============================] - 0s 8ms/step - loss: 9.2200 - mae: 9.2200\n",
            "Epoch 9/100\n",
            "1/1 [==============================] - 0s 10ms/step - loss: 9.0875 - mae: 9.0875\n",
            "Epoch 10/100\n",
            "1/1 [==============================] - 0s 10ms/step - loss: 8.9550 - mae: 8.9550\n",
            "Epoch 11/100\n",
            "1/1 [==============================] - 0s 13ms/step - loss: 8.8225 - mae: 8.8225\n",
            "Epoch 12/100\n",
            "1/1 [==============================] - 0s 10ms/step - loss: 8.6900 - mae: 8.6900\n",
            "Epoch 13/100\n",
            "1/1 [==============================] - 0s 11ms/step - loss: 8.5575 - mae: 8.5575\n",
            "Epoch 14/100\n",
            "1/1 [==============================] - 0s 10ms/step - loss: 8.4250 - mae: 8.4250\n",
            "Epoch 15/100\n",
            "1/1 [==============================] - 0s 11ms/step - loss: 8.2925 - mae: 8.2925\n",
            "Epoch 16/100\n",
            "1/1 [==============================] - 0s 9ms/step - loss: 8.1600 - mae: 8.1600\n",
            "Epoch 17/100\n",
            "1/1 [==============================] - 0s 9ms/step - loss: 8.0275 - mae: 8.0275\n",
            "Epoch 18/100\n",
            "1/1 [==============================] - 0s 15ms/step - loss: 7.8950 - mae: 7.8950\n",
            "Epoch 19/100\n",
            "1/1 [==============================] - 0s 10ms/step - loss: 7.7625 - mae: 7.7625\n",
            "Epoch 20/100\n",
            "1/1 [==============================] - 0s 13ms/step - loss: 7.6300 - mae: 7.6300\n",
            "Epoch 21/100\n",
            "1/1 [==============================] - 0s 15ms/step - loss: 7.4975 - mae: 7.4975\n",
            "Epoch 22/100\n",
            "1/1 [==============================] - 0s 11ms/step - loss: 7.3650 - mae: 7.3650\n",
            "Epoch 23/100\n",
            "1/1 [==============================] - 0s 12ms/step - loss: 7.3350 - mae: 7.3350\n",
            "Epoch 24/100\n",
            "1/1 [==============================] - 0s 12ms/step - loss: 7.3294 - mae: 7.3294\n",
            "Epoch 25/100\n",
            "1/1 [==============================] - 0s 10ms/step - loss: 7.3238 - mae: 7.3238\n",
            "Epoch 26/100\n",
            "1/1 [==============================] - 0s 10ms/step - loss: 7.3181 - mae: 7.3181\n",
            "Epoch 27/100\n",
            "1/1 [==============================] - 0s 10ms/step - loss: 7.3125 - mae: 7.3125\n",
            "Epoch 28/100\n",
            "1/1 [==============================] - 0s 11ms/step - loss: 7.3069 - mae: 7.3069\n",
            "Epoch 29/100\n",
            "1/1 [==============================] - 0s 12ms/step - loss: 7.3012 - mae: 7.3012\n",
            "Epoch 30/100\n",
            "1/1 [==============================] - 0s 9ms/step - loss: 7.2956 - mae: 7.2956\n",
            "Epoch 31/100\n",
            "1/1 [==============================] - 0s 15ms/step - loss: 7.2900 - mae: 7.2900\n",
            "Epoch 32/100\n",
            "1/1 [==============================] - 0s 12ms/step - loss: 7.2844 - mae: 7.2844\n",
            "Epoch 33/100\n",
            "1/1 [==============================] - 0s 15ms/step - loss: 7.2787 - mae: 7.2787\n",
            "Epoch 34/100\n",
            "1/1 [==============================] - 0s 12ms/step - loss: 7.2731 - mae: 7.2731\n",
            "Epoch 35/100\n",
            "1/1 [==============================] - 0s 13ms/step - loss: 7.2675 - mae: 7.2675\n",
            "Epoch 36/100\n",
            "1/1 [==============================] - 0s 10ms/step - loss: 7.2619 - mae: 7.2619\n",
            "Epoch 37/100\n",
            "1/1 [==============================] - 0s 12ms/step - loss: 7.2562 - mae: 7.2562\n",
            "Epoch 38/100\n",
            "1/1 [==============================] - 0s 12ms/step - loss: 7.2506 - mae: 7.2506\n",
            "Epoch 39/100\n",
            "1/1 [==============================] - 0s 10ms/step - loss: 7.2450 - mae: 7.2450\n",
            "Epoch 40/100\n",
            "1/1 [==============================] - 0s 11ms/step - loss: 7.2394 - mae: 7.2394\n",
            "Epoch 41/100\n",
            "1/1 [==============================] - 0s 9ms/step - loss: 7.2338 - mae: 7.2338\n",
            "Epoch 42/100\n",
            "1/1 [==============================] - 0s 14ms/step - loss: 7.2281 - mae: 7.2281\n",
            "Epoch 43/100\n",
            "1/1 [==============================] - 0s 12ms/step - loss: 7.2225 - mae: 7.2225\n",
            "Epoch 44/100\n",
            "1/1 [==============================] - 0s 17ms/step - loss: 7.2169 - mae: 7.2169\n",
            "Epoch 45/100\n",
            "1/1 [==============================] - 0s 10ms/step - loss: 7.2113 - mae: 7.2113\n",
            "Epoch 46/100\n",
            "1/1 [==============================] - 0s 15ms/step - loss: 7.2056 - mae: 7.2056\n",
            "Epoch 47/100\n",
            "1/1 [==============================] - 0s 11ms/step - loss: 7.2000 - mae: 7.2000\n",
            "Epoch 48/100\n",
            "1/1 [==============================] - 0s 10ms/step - loss: 7.1944 - mae: 7.1944\n",
            "Epoch 49/100\n",
            "1/1 [==============================] - 0s 10ms/step - loss: 7.1888 - mae: 7.1888\n",
            "Epoch 50/100\n",
            "1/1 [==============================] - 0s 11ms/step - loss: 7.1831 - mae: 7.1831\n",
            "Epoch 51/100\n",
            "1/1 [==============================] - 0s 12ms/step - loss: 7.1775 - mae: 7.1775\n",
            "Epoch 52/100\n",
            "1/1 [==============================] - 0s 12ms/step - loss: 7.1719 - mae: 7.1719\n",
            "Epoch 53/100\n",
            "1/1 [==============================] - 0s 11ms/step - loss: 7.1663 - mae: 7.1663\n",
            "Epoch 54/100\n",
            "1/1 [==============================] - 0s 13ms/step - loss: 7.1606 - mae: 7.1606\n",
            "Epoch 55/100\n",
            "1/1 [==============================] - 0s 9ms/step - loss: 7.1550 - mae: 7.1550\n",
            "Epoch 56/100\n",
            "1/1 [==============================] - 0s 14ms/step - loss: 7.1494 - mae: 7.1494\n",
            "Epoch 57/100\n",
            "1/1 [==============================] - 0s 11ms/step - loss: 7.1438 - mae: 7.1438\n",
            "Epoch 58/100\n",
            "1/1 [==============================] - 0s 11ms/step - loss: 7.1381 - mae: 7.1381\n",
            "Epoch 59/100\n",
            "1/1 [==============================] - 0s 11ms/step - loss: 7.1325 - mae: 7.1325\n",
            "Epoch 60/100\n",
            "1/1 [==============================] - 0s 11ms/step - loss: 7.1269 - mae: 7.1269\n",
            "Epoch 61/100\n",
            "1/1 [==============================] - 0s 12ms/step - loss: 7.1212 - mae: 7.1212\n",
            "Epoch 62/100\n",
            "1/1 [==============================] - 0s 11ms/step - loss: 7.1156 - mae: 7.1156\n",
            "Epoch 63/100\n",
            "1/1 [==============================] - 0s 12ms/step - loss: 7.1100 - mae: 7.1100\n",
            "Epoch 64/100\n",
            "1/1 [==============================] - 0s 10ms/step - loss: 7.1044 - mae: 7.1044\n",
            "Epoch 65/100\n",
            "1/1 [==============================] - 0s 14ms/step - loss: 7.0988 - mae: 7.0988\n",
            "Epoch 66/100\n",
            "1/1 [==============================] - 0s 11ms/step - loss: 7.0931 - mae: 7.0931\n",
            "Epoch 67/100\n",
            "1/1 [==============================] - 0s 11ms/step - loss: 7.0875 - mae: 7.0875\n",
            "Epoch 68/100\n",
            "1/1 [==============================] - 0s 9ms/step - loss: 7.0819 - mae: 7.0819\n",
            "Epoch 69/100\n",
            "1/1 [==============================] - 0s 16ms/step - loss: 7.0763 - mae: 7.0763\n",
            "Epoch 70/100\n",
            "1/1 [==============================] - 0s 12ms/step - loss: 7.0706 - mae: 7.0706\n",
            "Epoch 71/100\n",
            "1/1 [==============================] - 0s 11ms/step - loss: 7.0650 - mae: 7.0650\n",
            "Epoch 72/100\n",
            "1/1 [==============================] - 0s 10ms/step - loss: 7.0594 - mae: 7.0594\n",
            "Epoch 73/100\n",
            "1/1 [==============================] - 0s 18ms/step - loss: 7.0538 - mae: 7.0538\n",
            "Epoch 74/100\n",
            "1/1 [==============================] - 0s 10ms/step - loss: 7.0481 - mae: 7.0481\n",
            "Epoch 75/100\n",
            "1/1 [==============================] - 0s 10ms/step - loss: 7.0425 - mae: 7.0425\n",
            "Epoch 76/100\n",
            "1/1 [==============================] - 0s 11ms/step - loss: 7.0369 - mae: 7.0369\n",
            "Epoch 77/100\n",
            "1/1 [==============================] - 0s 11ms/step - loss: 7.0313 - mae: 7.0313\n",
            "Epoch 78/100\n",
            "1/1 [==============================] - 0s 12ms/step - loss: 7.0256 - mae: 7.0256\n",
            "Epoch 79/100\n",
            "1/1 [==============================] - 0s 14ms/step - loss: 7.0200 - mae: 7.0200\n",
            "Epoch 80/100\n",
            "1/1 [==============================] - 0s 13ms/step - loss: 7.0144 - mae: 7.0144\n",
            "Epoch 81/100\n",
            "1/1 [==============================] - 0s 10ms/step - loss: 7.0088 - mae: 7.0088\n",
            "Epoch 82/100\n",
            "1/1 [==============================] - 0s 9ms/step - loss: 7.0031 - mae: 7.0031\n",
            "Epoch 83/100\n",
            "1/1 [==============================] - 0s 11ms/step - loss: 6.9975 - mae: 6.9975\n",
            "Epoch 84/100\n",
            "1/1 [==============================] - 0s 10ms/step - loss: 6.9919 - mae: 6.9919\n",
            "Epoch 85/100\n",
            "1/1 [==============================] - 0s 14ms/step - loss: 6.9863 - mae: 6.9863\n",
            "Epoch 86/100\n",
            "1/1 [==============================] - 0s 11ms/step - loss: 6.9806 - mae: 6.9806\n",
            "Epoch 87/100\n",
            "1/1 [==============================] - 0s 13ms/step - loss: 6.9750 - mae: 6.9750\n",
            "Epoch 88/100\n",
            "1/1 [==============================] - 0s 12ms/step - loss: 6.9694 - mae: 6.9694\n",
            "Epoch 89/100\n",
            "1/1 [==============================] - 0s 11ms/step - loss: 6.9638 - mae: 6.9638\n",
            "Epoch 90/100\n",
            "1/1 [==============================] - 0s 9ms/step - loss: 6.9581 - mae: 6.9581\n",
            "Epoch 91/100\n",
            "1/1 [==============================] - 0s 10ms/step - loss: 6.9525 - mae: 6.9525\n",
            "Epoch 92/100\n",
            "1/1 [==============================] - 0s 11ms/step - loss: 6.9469 - mae: 6.9469\n",
            "Epoch 93/100\n",
            "1/1 [==============================] - 0s 11ms/step - loss: 6.9413 - mae: 6.9413\n",
            "Epoch 94/100\n",
            "1/1 [==============================] - 0s 11ms/step - loss: 6.9356 - mae: 6.9356\n",
            "Epoch 95/100\n",
            "1/1 [==============================] - 0s 13ms/step - loss: 6.9300 - mae: 6.9300\n",
            "Epoch 96/100\n",
            "1/1 [==============================] - 0s 9ms/step - loss: 6.9244 - mae: 6.9244\n",
            "Epoch 97/100\n",
            "1/1 [==============================] - 0s 11ms/step - loss: 6.9188 - mae: 6.9188\n",
            "Epoch 98/100\n",
            "1/1 [==============================] - 0s 11ms/step - loss: 6.9131 - mae: 6.9131\n",
            "Epoch 99/100\n",
            "1/1 [==============================] - 0s 10ms/step - loss: 6.9075 - mae: 6.9075\n",
            "Epoch 100/100\n",
            "1/1 [==============================] - 0s 11ms/step - loss: 6.9019 - mae: 6.9019\n"
          ]
        },
        {
          "output_type": "execute_result",
          "data": {
            "text/plain": [
              "<keras.src.callbacks.History at 0x7a09343acac0>"
            ]
          },
          "metadata": {},
          "execution_count": 14
        }
      ]
    },
    {
      "cell_type": "code",
      "source": [
        "# Remind ourselves of the data\n",
        "X, y"
      ],
      "metadata": {
        "id": "cLLGIsIWDA0J",
        "outputId": "e553215a-b911-41c9-ced3-7e2821b4cb1a",
        "colab": {
          "base_uri": "https://localhost:8080/"
        }
      },
      "execution_count": null,
      "outputs": [
        {
          "output_type": "execute_result",
          "data": {
            "text/plain": [
              "(<tf.Tensor: shape=(8,), dtype=float32, numpy=array([-7., -4., -1.,  2.,  5.,  8., 11., 14.], dtype=float32)>,\n",
              " <tf.Tensor: shape=(8,), dtype=float32, numpy=array([ 3.,  6.,  9., 12., 15., 18., 21., 24.], dtype=float32)>)"
            ]
          },
          "metadata": {},
          "execution_count": 15
        }
      ]
    },
    {
      "cell_type": "code",
      "source": [
        "# Let's see if our model's prediction has improved...\n",
        "model.predict([17.0])"
      ],
      "metadata": {
        "id": "gByFKupbFTdw",
        "colab": {
          "base_uri": "https://localhost:8080/"
        },
        "outputId": "6b966903-91c6-44cf-9418-71164a9147be"
      },
      "execution_count": null,
      "outputs": [
        {
          "output_type": "stream",
          "name": "stdout",
          "text": [
            "1/1 [==============================] - 0s 94ms/step\n"
          ]
        },
        {
          "output_type": "execute_result",
          "data": {
            "text/plain": [
              "array([[30.178633]], dtype=float32)"
            ]
          },
          "metadata": {},
          "execution_count": 16
        }
      ]
    },
    {
      "cell_type": "markdown",
      "source": [
        "### Create a new model"
      ],
      "metadata": {
        "id": "pRt7GerdyLpM"
      }
    },
    {
      "cell_type": "code",
      "source": [
        "# Create\n",
        "model = tf.keras.Sequential([\n",
        "    tf.keras.layers.Dense(100, activation=\"relu\"),\n",
        "    tf.keras.layers.Dense(100, activation=\"relu\"),\n",
        "    tf.keras.layers.Dense(100, activation=\"relu\"),\n",
        "    tf.keras.layers.Dense(1)\n",
        "])\n",
        "\n",
        "# Compile\n",
        "model.compile(loss=tf.keras.losses.mae,\n",
        "              optimizer=tf.keras.optimizers.SGD(),\n",
        "              metrics=[\"mae\"])\n",
        "# Fit\n",
        "model.fit(tf.expand_dims(X, axis=-1), y, epochs=100)"
      ],
      "metadata": {
        "colab": {
          "base_uri": "https://localhost:8080/"
        },
        "id": "IfIIKP0Fy1P1",
        "outputId": "19a46aa9-eaae-4980-8cad-58acea003f29"
      },
      "execution_count": null,
      "outputs": [
        {
          "output_type": "stream",
          "name": "stdout",
          "text": [
            "Epoch 1/100\n",
            "1/1 [==============================] - 1s 551ms/step - loss: 14.1896 - mae: 14.1896\n",
            "Epoch 2/100\n",
            "1/1 [==============================] - 0s 15ms/step - loss: 13.6915 - mae: 13.6915\n",
            "Epoch 3/100\n",
            "1/1 [==============================] - 0s 10ms/step - loss: 13.2457 - mae: 13.2457\n",
            "Epoch 4/100\n",
            "1/1 [==============================] - 0s 9ms/step - loss: 12.8561 - mae: 12.8561\n",
            "Epoch 5/100\n",
            "1/1 [==============================] - 0s 10ms/step - loss: 12.4574 - mae: 12.4574\n",
            "Epoch 6/100\n",
            "1/1 [==============================] - 0s 9ms/step - loss: 12.0288 - mae: 12.0288\n",
            "Epoch 7/100\n",
            "1/1 [==============================] - 0s 11ms/step - loss: 11.5247 - mae: 11.5247\n",
            "Epoch 8/100\n",
            "1/1 [==============================] - 0s 9ms/step - loss: 10.9419 - mae: 10.9419\n",
            "Epoch 9/100\n",
            "1/1 [==============================] - 0s 8ms/step - loss: 10.2273 - mae: 10.2273\n",
            "Epoch 10/100\n",
            "1/1 [==============================] - 0s 8ms/step - loss: 9.3076 - mae: 9.3076\n",
            "Epoch 11/100\n",
            "1/1 [==============================] - 0s 14ms/step - loss: 8.1343 - mae: 8.1343\n",
            "Epoch 12/100\n",
            "1/1 [==============================] - 0s 9ms/step - loss: 6.6447 - mae: 6.6447\n",
            "Epoch 13/100\n",
            "1/1 [==============================] - 0s 9ms/step - loss: 4.8205 - mae: 4.8205\n",
            "Epoch 14/100\n",
            "1/1 [==============================] - 0s 9ms/step - loss: 4.1302 - mae: 4.1302\n",
            "Epoch 15/100\n",
            "1/1 [==============================] - 0s 12ms/step - loss: 3.9101 - mae: 3.9101\n",
            "Epoch 16/100\n",
            "1/1 [==============================] - 0s 10ms/step - loss: 4.0422 - mae: 4.0422\n",
            "Epoch 17/100\n",
            "1/1 [==============================] - 0s 9ms/step - loss: 3.9201 - mae: 3.9201\n",
            "Epoch 18/100\n",
            "1/1 [==============================] - 0s 10ms/step - loss: 3.9953 - mae: 3.9953\n",
            "Epoch 19/100\n",
            "1/1 [==============================] - 0s 13ms/step - loss: 3.9315 - mae: 3.9315\n",
            "Epoch 20/100\n",
            "1/1 [==============================] - 0s 15ms/step - loss: 3.9475 - mae: 3.9475\n",
            "Epoch 21/100\n",
            "1/1 [==============================] - 0s 10ms/step - loss: 3.9436 - mae: 3.9436\n",
            "Epoch 22/100\n",
            "1/1 [==============================] - 0s 9ms/step - loss: 3.8975 - mae: 3.8975\n",
            "Epoch 23/100\n",
            "1/1 [==============================] - 0s 9ms/step - loss: 3.9577 - mae: 3.9577\n",
            "Epoch 24/100\n",
            "1/1 [==============================] - 0s 9ms/step - loss: 3.8457 - mae: 3.8457\n",
            "Epoch 25/100\n",
            "1/1 [==============================] - 0s 9ms/step - loss: 3.9733 - mae: 3.9733\n",
            "Epoch 26/100\n",
            "1/1 [==============================] - 0s 9ms/step - loss: 3.7936 - mae: 3.7936\n",
            "Epoch 27/100\n",
            "1/1 [==============================] - 0s 9ms/step - loss: 3.9886 - mae: 3.9886\n",
            "Epoch 28/100\n",
            "1/1 [==============================] - 0s 10ms/step - loss: 3.7778 - mae: 3.7778\n",
            "Epoch 29/100\n",
            "1/1 [==============================] - 0s 10ms/step - loss: 3.9539 - mae: 3.9539\n",
            "Epoch 30/100\n",
            "1/1 [==============================] - 0s 15ms/step - loss: 3.7944 - mae: 3.7944\n",
            "Epoch 31/100\n",
            "1/1 [==============================] - 0s 9ms/step - loss: 3.9119 - mae: 3.9119\n",
            "Epoch 32/100\n",
            "1/1 [==============================] - 0s 14ms/step - loss: 3.8517 - mae: 3.8517\n",
            "Epoch 33/100\n",
            "1/1 [==============================] - 0s 9ms/step - loss: 3.8216 - mae: 3.8216\n",
            "Epoch 34/100\n",
            "1/1 [==============================] - 0s 9ms/step - loss: 3.8703 - mae: 3.8703\n",
            "Epoch 35/100\n",
            "1/1 [==============================] - 0s 9ms/step - loss: 3.7642 - mae: 3.7642\n",
            "Epoch 36/100\n",
            "1/1 [==============================] - 0s 9ms/step - loss: 3.8901 - mae: 3.8901\n",
            "Epoch 37/100\n",
            "1/1 [==============================] - 0s 9ms/step - loss: 3.7050 - mae: 3.7050\n",
            "Epoch 38/100\n",
            "1/1 [==============================] - 0s 9ms/step - loss: 3.9113 - mae: 3.9113\n",
            "Epoch 39/100\n",
            "1/1 [==============================] - 0s 9ms/step - loss: 3.7049 - mae: 3.7049\n",
            "Epoch 40/100\n",
            "1/1 [==============================] - 0s 9ms/step - loss: 3.8686 - mae: 3.8686\n",
            "Epoch 41/100\n",
            "1/1 [==============================] - 0s 9ms/step - loss: 3.7642 - mae: 3.7642\n",
            "Epoch 42/100\n",
            "1/1 [==============================] - 0s 10ms/step - loss: 3.7765 - mae: 3.7765\n",
            "Epoch 43/100\n",
            "1/1 [==============================] - 0s 10ms/step - loss: 3.7860 - mae: 3.7860\n",
            "Epoch 44/100\n",
            "1/1 [==============================] - 0s 10ms/step - loss: 3.7146 - mae: 3.7146\n",
            "Epoch 45/100\n",
            "1/1 [==============================] - 0s 12ms/step - loss: 3.8092 - mae: 3.8092\n",
            "Epoch 46/100\n",
            "1/1 [==============================] - 0s 15ms/step - loss: 3.6506 - mae: 3.6506\n",
            "Epoch 47/100\n",
            "1/1 [==============================] - 0s 10ms/step - loss: 3.8338 - mae: 3.8338\n",
            "Epoch 48/100\n",
            "1/1 [==============================] - 0s 10ms/step - loss: 3.6335 - mae: 3.6335\n",
            "Epoch 49/100\n",
            "1/1 [==============================] - 0s 10ms/step - loss: 3.7981 - mae: 3.7981\n",
            "Epoch 50/100\n",
            "1/1 [==============================] - 0s 11ms/step - loss: 3.6952 - mae: 3.6952\n",
            "Epoch 51/100\n",
            "1/1 [==============================] - 0s 11ms/step - loss: 3.7092 - mae: 3.7092\n",
            "Epoch 52/100\n",
            "1/1 [==============================] - 0s 11ms/step - loss: 3.7199 - mae: 3.7199\n",
            "Epoch 53/100\n",
            "1/1 [==============================] - 0s 10ms/step - loss: 3.6419 - mae: 3.6419\n",
            "Epoch 54/100\n",
            "1/1 [==============================] - 0s 10ms/step - loss: 3.7461 - mae: 3.7461\n",
            "Epoch 55/100\n",
            "1/1 [==============================] - 0s 10ms/step - loss: 3.5720 - mae: 3.5720\n",
            "Epoch 56/100\n",
            "1/1 [==============================] - 0s 9ms/step - loss: 3.7736 - mae: 3.7736\n",
            "Epoch 57/100\n",
            "1/1 [==============================] - 0s 9ms/step - loss: 3.5767 - mae: 3.5767\n",
            "Epoch 58/100\n",
            "1/1 [==============================] - 0s 9ms/step - loss: 3.7120 - mae: 3.7120\n",
            "Epoch 59/100\n",
            "1/1 [==============================] - 0s 9ms/step - loss: 3.6036 - mae: 3.6036\n",
            "Epoch 60/100\n",
            "1/1 [==============================] - 0s 9ms/step - loss: 3.6421 - mae: 3.6421\n",
            "Epoch 61/100\n",
            "1/1 [==============================] - 0s 10ms/step - loss: 3.6694 - mae: 3.6694\n",
            "Epoch 62/100\n",
            "1/1 [==============================] - 0s 10ms/step - loss: 3.5445 - mae: 3.5445\n",
            "Epoch 63/100\n",
            "1/1 [==============================] - 0s 9ms/step - loss: 3.6987 - mae: 3.6987\n",
            "Epoch 64/100\n",
            "1/1 [==============================] - 0s 9ms/step - loss: 3.5074 - mae: 3.5074\n",
            "Epoch 65/100\n",
            "1/1 [==============================] - 0s 9ms/step - loss: 3.6773 - mae: 3.6773\n",
            "Epoch 66/100\n",
            "1/1 [==============================] - 0s 11ms/step - loss: 3.5357 - mae: 3.5357\n",
            "Epoch 67/100\n",
            "1/1 [==============================] - 0s 10ms/step - loss: 3.6025 - mae: 3.6025\n",
            "Epoch 68/100\n",
            "1/1 [==============================] - 0s 10ms/step - loss: 3.5655 - mae: 3.5655\n",
            "Epoch 69/100\n",
            "1/1 [==============================] - 0s 10ms/step - loss: 3.5244 - mae: 3.5244\n",
            "Epoch 70/100\n",
            "1/1 [==============================] - 0s 10ms/step - loss: 3.5963 - mae: 3.5963\n",
            "Epoch 71/100\n",
            "1/1 [==============================] - 0s 10ms/step - loss: 3.4419 - mae: 3.4419\n",
            "Epoch 72/100\n",
            "1/1 [==============================] - 0s 10ms/step - loss: 3.6354 - mae: 3.6354\n",
            "Epoch 73/100\n",
            "1/1 [==============================] - 0s 10ms/step - loss: 3.4407 - mae: 3.4407\n",
            "Epoch 74/100\n",
            "1/1 [==============================] - 0s 11ms/step - loss: 3.6048 - mae: 3.6048\n",
            "Epoch 75/100\n",
            "1/1 [==============================] - 0s 10ms/step - loss: 3.5072 - mae: 3.5072\n",
            "Epoch 76/100\n",
            "1/1 [==============================] - 0s 10ms/step - loss: 3.4678 - mae: 3.4678\n",
            "Epoch 77/100\n",
            "1/1 [==============================] - 0s 9ms/step - loss: 3.5397 - mae: 3.5397\n",
            "Epoch 78/100\n",
            "1/1 [==============================] - 0s 10ms/step - loss: 3.3834 - mae: 3.3834\n",
            "Epoch 79/100\n",
            "1/1 [==============================] - 0s 11ms/step - loss: 3.5743 - mae: 3.5743\n",
            "Epoch 80/100\n",
            "1/1 [==============================] - 0s 10ms/step - loss: 3.3856 - mae: 3.3856\n",
            "Epoch 81/100\n",
            "1/1 [==============================] - 0s 9ms/step - loss: 3.5005 - mae: 3.5005\n",
            "Epoch 82/100\n",
            "1/1 [==============================] - 0s 9ms/step - loss: 3.4265 - mae: 3.4265\n",
            "Epoch 83/100\n",
            "1/1 [==============================] - 0s 9ms/step - loss: 3.4194 - mae: 3.4194\n",
            "Epoch 84/100\n",
            "1/1 [==============================] - 0s 9ms/step - loss: 3.4997 - mae: 3.4997\n",
            "Epoch 85/100\n",
            "1/1 [==============================] - 0s 15ms/step - loss: 3.3137 - mae: 3.3137\n",
            "Epoch 86/100\n",
            "1/1 [==============================] - 0s 10ms/step - loss: 3.5078 - mae: 3.5078\n",
            "Epoch 87/100\n",
            "1/1 [==============================] - 0s 10ms/step - loss: 3.3490 - mae: 3.3490\n",
            "Epoch 88/100\n",
            "1/1 [==============================] - 0s 11ms/step - loss: 3.4160 - mae: 3.4160\n",
            "Epoch 89/100\n",
            "1/1 [==============================] - 0s 9ms/step - loss: 3.3852 - mae: 3.3852\n",
            "Epoch 90/100\n",
            "1/1 [==============================] - 0s 10ms/step - loss: 3.3226 - mae: 3.3226\n",
            "Epoch 91/100\n",
            "1/1 [==============================] - 0s 13ms/step - loss: 3.4233 - mae: 3.4233\n",
            "Epoch 92/100\n",
            "1/1 [==============================] - 0s 10ms/step - loss: 3.2404 - mae: 3.2404\n",
            "Epoch 93/100\n",
            "1/1 [==============================] - 0s 11ms/step - loss: 3.4497 - mae: 3.4497\n",
            "Epoch 94/100\n",
            "1/1 [==============================] - 0s 11ms/step - loss: 3.3159 - mae: 3.3159\n",
            "Epoch 95/100\n",
            "1/1 [==============================] - 0s 10ms/step - loss: 3.3129 - mae: 3.3129\n",
            "Epoch 96/100\n",
            "1/1 [==============================] - 0s 10ms/step - loss: 3.3527 - mae: 3.3527\n",
            "Epoch 97/100\n",
            "1/1 [==============================] - 0s 10ms/step - loss: 3.2119 - mae: 3.2119\n",
            "Epoch 98/100\n",
            "1/1 [==============================] - 0s 10ms/step - loss: 3.3921 - mae: 3.3921\n",
            "Epoch 99/100\n",
            "1/1 [==============================] - 0s 11ms/step - loss: 3.2075 - mae: 3.2075\n",
            "Epoch 100/100\n",
            "1/1 [==============================] - 0s 11ms/step - loss: 3.3214 - mae: 3.3214\n"
          ]
        },
        {
          "output_type": "execute_result",
          "data": {
            "text/plain": [
              "<keras.src.callbacks.History at 0x7a093421bdc0>"
            ]
          },
          "metadata": {},
          "execution_count": 17
        }
      ]
    },
    {
      "cell_type": "code",
      "source": [
        "model.predict([17.0])"
      ],
      "metadata": {
        "colab": {
          "base_uri": "https://localhost:8080/"
        },
        "id": "-hgI8mhqz341",
        "outputId": "88e077b3-4568-459f-e2ae-0fb32cae3312"
      },
      "execution_count": null,
      "outputs": [
        {
          "output_type": "stream",
          "name": "stdout",
          "text": [
            "1/1 [==============================] - 0s 88ms/step\n"
          ]
        },
        {
          "output_type": "execute_result",
          "data": {
            "text/plain": [
              "array([[32.706882]], dtype=float32)"
            ]
          },
          "metadata": {},
          "execution_count": 18
        }
      ]
    },
    {
      "cell_type": "code",
      "source": [
        "# Let's see if we can make another to improve our model\n",
        "\n",
        "# Create the model (this time with an extra hidden layer with 100 hidden units)\n",
        "model = tf.keras.Sequential([\n",
        "    tf.keras.layers.Dense(50, activation=None),\n",
        "    tf.keras.layers.Dense(1)\n",
        "])\n",
        "\n",
        "# Compile\n",
        "model.compile(loss=\"mae\",\n",
        "              optimizer=tf.keras.optimizers.Adam(lr=0.01),\n",
        "              metrics=[\"mae\"])\n",
        "\n",
        "# Fit\n",
        "model.fit(tf.expand_dims(X, axis=-1), y, epochs=100)"
      ],
      "metadata": {
        "colab": {
          "base_uri": "https://localhost:8080/"
        },
        "id": "IzL0gvD50N1l",
        "outputId": "8984ee70-f5c9-47b9-86c3-bf82bb235247"
      },
      "execution_count": null,
      "outputs": [
        {
          "output_type": "stream",
          "name": "stderr",
          "text": [
            "WARNING:absl:`lr` is deprecated in Keras optimizer, please use `learning_rate` or use the legacy optimizer, e.g.,tf.keras.optimizers.legacy.Adam.\n"
          ]
        },
        {
          "output_type": "stream",
          "name": "stdout",
          "text": [
            "Epoch 1/100\n",
            "1/1 [==============================] - 1s 547ms/step - loss: 13.5968 - mae: 13.5968\n",
            "Epoch 2/100\n",
            "1/1 [==============================] - 0s 11ms/step - loss: 13.5166 - mae: 13.5166\n",
            "Epoch 3/100\n",
            "1/1 [==============================] - 0s 9ms/step - loss: 13.4363 - mae: 13.4363\n",
            "Epoch 4/100\n",
            "1/1 [==============================] - 0s 8ms/step - loss: 13.3561 - mae: 13.3561\n",
            "Epoch 5/100\n",
            "1/1 [==============================] - 0s 8ms/step - loss: 13.2758 - mae: 13.2758\n",
            "Epoch 6/100\n",
            "1/1 [==============================] - 0s 15ms/step - loss: 13.1955 - mae: 13.1955\n",
            "Epoch 7/100\n",
            "1/1 [==============================] - 0s 11ms/step - loss: 13.1152 - mae: 13.1152\n",
            "Epoch 8/100\n",
            "1/1 [==============================] - 0s 12ms/step - loss: 13.0348 - mae: 13.0348\n",
            "Epoch 9/100\n",
            "1/1 [==============================] - 0s 12ms/step - loss: 12.9544 - mae: 12.9544\n",
            "Epoch 10/100\n",
            "1/1 [==============================] - 0s 12ms/step - loss: 12.8739 - mae: 12.8739\n",
            "Epoch 11/100\n",
            "1/1 [==============================] - 0s 11ms/step - loss: 12.7934 - mae: 12.7934\n",
            "Epoch 12/100\n",
            "1/1 [==============================] - 0s 11ms/step - loss: 12.7129 - mae: 12.7129\n",
            "Epoch 13/100\n",
            "1/1 [==============================] - 0s 12ms/step - loss: 12.6322 - mae: 12.6322\n",
            "Epoch 14/100\n",
            "1/1 [==============================] - 0s 12ms/step - loss: 12.5516 - mae: 12.5516\n",
            "Epoch 15/100\n",
            "1/1 [==============================] - 0s 10ms/step - loss: 12.4709 - mae: 12.4709\n",
            "Epoch 16/100\n",
            "1/1 [==============================] - 0s 11ms/step - loss: 12.3901 - mae: 12.3901\n",
            "Epoch 17/100\n",
            "1/1 [==============================] - 0s 9ms/step - loss: 12.3093 - mae: 12.3093\n",
            "Epoch 18/100\n",
            "1/1 [==============================] - 0s 10ms/step - loss: 12.2284 - mae: 12.2284\n",
            "Epoch 19/100\n",
            "1/1 [==============================] - 0s 13ms/step - loss: 12.1474 - mae: 12.1474\n",
            "Epoch 20/100\n",
            "1/1 [==============================] - 0s 10ms/step - loss: 12.0664 - mae: 12.0664\n",
            "Epoch 21/100\n",
            "1/1 [==============================] - 0s 10ms/step - loss: 11.9853 - mae: 11.9853\n",
            "Epoch 22/100\n",
            "1/1 [==============================] - 0s 9ms/step - loss: 11.9041 - mae: 11.9041\n",
            "Epoch 23/100\n",
            "1/1 [==============================] - 0s 9ms/step - loss: 11.8229 - mae: 11.8229\n",
            "Epoch 24/100\n",
            "1/1 [==============================] - 0s 10ms/step - loss: 11.7415 - mae: 11.7415\n",
            "Epoch 25/100\n",
            "1/1 [==============================] - 0s 9ms/step - loss: 11.6601 - mae: 11.6601\n",
            "Epoch 26/100\n",
            "1/1 [==============================] - 0s 9ms/step - loss: 11.5786 - mae: 11.5786\n",
            "Epoch 27/100\n",
            "1/1 [==============================] - 0s 10ms/step - loss: 11.4969 - mae: 11.4969\n",
            "Epoch 28/100\n",
            "1/1 [==============================] - 0s 8ms/step - loss: 11.4152 - mae: 11.4152\n",
            "Epoch 29/100\n",
            "1/1 [==============================] - 0s 10ms/step - loss: 11.3334 - mae: 11.3334\n",
            "Epoch 30/100\n",
            "1/1 [==============================] - 0s 10ms/step - loss: 11.2515 - mae: 11.2515\n",
            "Epoch 31/100\n",
            "1/1 [==============================] - 0s 10ms/step - loss: 11.1695 - mae: 11.1695\n",
            "Epoch 32/100\n",
            "1/1 [==============================] - 0s 10ms/step - loss: 11.0873 - mae: 11.0873\n",
            "Epoch 33/100\n",
            "1/1 [==============================] - 0s 9ms/step - loss: 11.0050 - mae: 11.0050\n",
            "Epoch 34/100\n",
            "1/1 [==============================] - 0s 10ms/step - loss: 10.9226 - mae: 10.9226\n",
            "Epoch 35/100\n",
            "1/1 [==============================] - 0s 9ms/step - loss: 10.8401 - mae: 10.8401\n",
            "Epoch 36/100\n",
            "1/1 [==============================] - 0s 9ms/step - loss: 10.7574 - mae: 10.7574\n",
            "Epoch 37/100\n",
            "1/1 [==============================] - 0s 9ms/step - loss: 10.6746 - mae: 10.6746\n",
            "Epoch 38/100\n",
            "1/1 [==============================] - 0s 9ms/step - loss: 10.5917 - mae: 10.5917\n",
            "Epoch 39/100\n",
            "1/1 [==============================] - 0s 9ms/step - loss: 10.5086 - mae: 10.5086\n",
            "Epoch 40/100\n",
            "1/1 [==============================] - 0s 10ms/step - loss: 10.4254 - mae: 10.4254\n",
            "Epoch 41/100\n",
            "1/1 [==============================] - 0s 10ms/step - loss: 10.3419 - mae: 10.3419\n",
            "Epoch 42/100\n",
            "1/1 [==============================] - 0s 9ms/step - loss: 10.2584 - mae: 10.2584\n",
            "Epoch 43/100\n",
            "1/1 [==============================] - 0s 9ms/step - loss: 10.1746 - mae: 10.1746\n",
            "Epoch 44/100\n",
            "1/1 [==============================] - 0s 9ms/step - loss: 10.0907 - mae: 10.0907\n",
            "Epoch 45/100\n",
            "1/1 [==============================] - 0s 9ms/step - loss: 10.0066 - mae: 10.0066\n",
            "Epoch 46/100\n",
            "1/1 [==============================] - 0s 9ms/step - loss: 9.9223 - mae: 9.9223\n",
            "Epoch 47/100\n",
            "1/1 [==============================] - 0s 10ms/step - loss: 9.8379 - mae: 9.8379\n",
            "Epoch 48/100\n",
            "1/1 [==============================] - 0s 10ms/step - loss: 9.7532 - mae: 9.7532\n",
            "Epoch 49/100\n",
            "1/1 [==============================] - 0s 10ms/step - loss: 9.6683 - mae: 9.6683\n",
            "Epoch 50/100\n",
            "1/1 [==============================] - 0s 10ms/step - loss: 9.5832 - mae: 9.5832\n",
            "Epoch 51/100\n",
            "1/1 [==============================] - 0s 10ms/step - loss: 9.4979 - mae: 9.4979\n",
            "Epoch 52/100\n",
            "1/1 [==============================] - 0s 11ms/step - loss: 9.4124 - mae: 9.4124\n",
            "Epoch 53/100\n",
            "1/1 [==============================] - 0s 10ms/step - loss: 9.3267 - mae: 9.3267\n",
            "Epoch 54/100\n",
            "1/1 [==============================] - 0s 10ms/step - loss: 9.2407 - mae: 9.2407\n",
            "Epoch 55/100\n",
            "1/1 [==============================] - 0s 11ms/step - loss: 9.1545 - mae: 9.1545\n",
            "Epoch 56/100\n",
            "1/1 [==============================] - 0s 11ms/step - loss: 9.0680 - mae: 9.0680\n",
            "Epoch 57/100\n",
            "1/1 [==============================] - 0s 10ms/step - loss: 8.9813 - mae: 8.9813\n",
            "Epoch 58/100\n",
            "1/1 [==============================] - 0s 10ms/step - loss: 8.8943 - mae: 8.8943\n",
            "Epoch 59/100\n",
            "1/1 [==============================] - 0s 10ms/step - loss: 8.8071 - mae: 8.8071\n",
            "Epoch 60/100\n",
            "1/1 [==============================] - 0s 11ms/step - loss: 8.7196 - mae: 8.7196\n",
            "Epoch 61/100\n",
            "1/1 [==============================] - 0s 10ms/step - loss: 8.6318 - mae: 8.6318\n",
            "Epoch 62/100\n",
            "1/1 [==============================] - 0s 11ms/step - loss: 8.5438 - mae: 8.5438\n",
            "Epoch 63/100\n",
            "1/1 [==============================] - 0s 10ms/step - loss: 8.4555 - mae: 8.4555\n",
            "Epoch 64/100\n",
            "1/1 [==============================] - 0s 9ms/step - loss: 8.3668 - mae: 8.3668\n",
            "Epoch 65/100\n",
            "1/1 [==============================] - 0s 9ms/step - loss: 8.2779 - mae: 8.2779\n",
            "Epoch 66/100\n",
            "1/1 [==============================] - 0s 9ms/step - loss: 8.1887 - mae: 8.1887\n",
            "Epoch 67/100\n",
            "1/1 [==============================] - 0s 9ms/step - loss: 8.0992 - mae: 8.0992\n",
            "Epoch 68/100\n",
            "1/1 [==============================] - 0s 9ms/step - loss: 8.0093 - mae: 8.0093\n",
            "Epoch 69/100\n",
            "1/1 [==============================] - 0s 15ms/step - loss: 7.9192 - mae: 7.9192\n",
            "Epoch 70/100\n",
            "1/1 [==============================] - 0s 9ms/step - loss: 7.8287 - mae: 7.8287\n",
            "Epoch 71/100\n",
            "1/1 [==============================] - 0s 10ms/step - loss: 7.7378 - mae: 7.7378\n",
            "Epoch 72/100\n",
            "1/1 [==============================] - 0s 9ms/step - loss: 7.6467 - mae: 7.6467\n",
            "Epoch 73/100\n",
            "1/1 [==============================] - 0s 11ms/step - loss: 7.5552 - mae: 7.5552\n",
            "Epoch 74/100\n",
            "1/1 [==============================] - 0s 10ms/step - loss: 7.4633 - mae: 7.4633\n",
            "Epoch 75/100\n",
            "1/1 [==============================] - 0s 10ms/step - loss: 7.3711 - mae: 7.3711\n",
            "Epoch 76/100\n",
            "1/1 [==============================] - 0s 10ms/step - loss: 7.2786 - mae: 7.2786\n",
            "Epoch 77/100\n",
            "1/1 [==============================] - 0s 13ms/step - loss: 7.1856 - mae: 7.1856\n",
            "Epoch 78/100\n",
            "1/1 [==============================] - 0s 10ms/step - loss: 7.0923 - mae: 7.0923\n",
            "Epoch 79/100\n",
            "1/1 [==============================] - 0s 9ms/step - loss: 6.9987 - mae: 6.9987\n",
            "Epoch 80/100\n",
            "1/1 [==============================] - 0s 13ms/step - loss: 6.9046 - mae: 6.9046\n",
            "Epoch 81/100\n",
            "1/1 [==============================] - 0s 9ms/step - loss: 6.8102 - mae: 6.8102\n",
            "Epoch 82/100\n",
            "1/1 [==============================] - 0s 13ms/step - loss: 6.7623 - mae: 6.7623\n",
            "Epoch 83/100\n",
            "1/1 [==============================] - 0s 10ms/step - loss: 6.7516 - mae: 6.7516\n",
            "Epoch 84/100\n",
            "1/1 [==============================] - 0s 10ms/step - loss: 6.7412 - mae: 6.7412\n",
            "Epoch 85/100\n",
            "1/1 [==============================] - 0s 10ms/step - loss: 6.7309 - mae: 6.7309\n",
            "Epoch 86/100\n",
            "1/1 [==============================] - 0s 10ms/step - loss: 6.7208 - mae: 6.7208\n",
            "Epoch 87/100\n",
            "1/1 [==============================] - 0s 9ms/step - loss: 6.7109 - mae: 6.7109\n",
            "Epoch 88/100\n",
            "1/1 [==============================] - 0s 10ms/step - loss: 6.7012 - mae: 6.7012\n",
            "Epoch 89/100\n",
            "1/1 [==============================] - 0s 9ms/step - loss: 6.6916 - mae: 6.6916\n",
            "Epoch 90/100\n",
            "1/1 [==============================] - 0s 9ms/step - loss: 6.6821 - mae: 6.6821\n",
            "Epoch 91/100\n",
            "1/1 [==============================] - 0s 8ms/step - loss: 6.6727 - mae: 6.6727\n",
            "Epoch 92/100\n",
            "1/1 [==============================] - 0s 13ms/step - loss: 6.6634 - mae: 6.6634\n",
            "Epoch 93/100\n",
            "1/1 [==============================] - 0s 9ms/step - loss: 6.6556 - mae: 6.6556\n",
            "Epoch 94/100\n",
            "1/1 [==============================] - 0s 10ms/step - loss: 6.6645 - mae: 6.6645\n",
            "Epoch 95/100\n",
            "1/1 [==============================] - 0s 10ms/step - loss: 6.6668 - mae: 6.6668\n",
            "Epoch 96/100\n",
            "1/1 [==============================] - 0s 10ms/step - loss: 6.6631 - mae: 6.6631\n",
            "Epoch 97/100\n",
            "1/1 [==============================] - 0s 9ms/step - loss: 6.6540 - mae: 6.6540\n",
            "Epoch 98/100\n",
            "1/1 [==============================] - 0s 9ms/step - loss: 6.6400 - mae: 6.6400\n",
            "Epoch 99/100\n",
            "1/1 [==============================] - 0s 12ms/step - loss: 6.6217 - mae: 6.6217\n",
            "Epoch 100/100\n",
            "1/1 [==============================] - 0s 9ms/step - loss: 6.6006 - mae: 6.6006\n"
          ]
        },
        {
          "output_type": "execute_result",
          "data": {
            "text/plain": [
              "<keras.src.callbacks.History at 0x7a0934158130>"
            ]
          },
          "metadata": {},
          "execution_count": 19
        }
      ]
    },
    {
      "cell_type": "code",
      "source": [
        "X, y"
      ],
      "metadata": {
        "colab": {
          "base_uri": "https://localhost:8080/"
        },
        "id": "T3ybXJ7v2cLU",
        "outputId": "dea48cdc-a28d-45d7-d04f-31ef65d037fe"
      },
      "execution_count": null,
      "outputs": [
        {
          "output_type": "execute_result",
          "data": {
            "text/plain": [
              "(<tf.Tensor: shape=(8,), dtype=float32, numpy=array([-7., -4., -1.,  2.,  5.,  8., 11., 14.], dtype=float32)>,\n",
              " <tf.Tensor: shape=(8,), dtype=float32, numpy=array([ 3.,  6.,  9., 12., 15., 18., 21., 24.], dtype=float32)>)"
            ]
          },
          "metadata": {},
          "execution_count": 20
        }
      ]
    },
    {
      "cell_type": "code",
      "source": [
        "# Let's try to make a prediction\n",
        "model.predict([17.0])"
      ],
      "metadata": {
        "colab": {
          "base_uri": "https://localhost:8080/"
        },
        "id": "OTWEdQJm2wRs",
        "outputId": "44f10a82-41bb-43ed-800d-4444c03a79cc"
      },
      "execution_count": null,
      "outputs": [
        {
          "output_type": "stream",
          "name": "stdout",
          "text": [
            "1/1 [==============================] - 0s 66ms/step\n"
          ]
        },
        {
          "output_type": "execute_result",
          "data": {
            "text/plain": [
              "array([[31.703798]], dtype=float32)"
            ]
          },
          "metadata": {},
          "execution_count": 21
        }
      ]
    },
    {
      "cell_type": "markdown",
      "source": [
        "## Evaluating a model\n",
        "\n",
        "In practice, a typical workflow you'll go through when building neural networks is:\n",
        "\n",
        "```\n",
        "Build a model -> fit it -> evaluate it -> tweak a model -> fit it -> evaluate it -> tweak a model -> fit it -> evaluate it...\n",
        "```"
      ],
      "metadata": {
        "id": "7e_jxzni28Nk"
      }
    },
    {
      "cell_type": "markdown",
      "source": [
        "# When it comes to evaluation... there are 3 words you should memorize:\n",
        "\n",
        "> \"Visualize, visualize, visualize\"\n",
        "\n",
        "It's a good idea to visualize:\n",
        "* The data - what data are we working with? What does it look like?\n",
        "* The model itself - what does our model look like?\n",
        "* The training of a model - how does a model perform while it learns?\n",
        "* The predictions of the model - how do the predictions of a model line up against the ground truth (the original labels)?"
      ],
      "metadata": {
        "id": "HXOVp9x8vwOT"
      }
    },
    {
      "cell_type": "code",
      "source": [
        "# Make a bigger dataset\n",
        "X = tf.range(-100.0, 100.0, 4)\n",
        "X"
      ],
      "metadata": {
        "colab": {
          "base_uri": "https://localhost:8080/"
        },
        "id": "A_EqHdM5wWC6",
        "outputId": "ceeab642-5149-46c3-ddbc-91572542dd30"
      },
      "execution_count": null,
      "outputs": [
        {
          "output_type": "execute_result",
          "data": {
            "text/plain": [
              "<tf.Tensor: shape=(50,), dtype=float32, numpy=\n",
              "array([-100.,  -96.,  -92.,  -88.,  -84.,  -80.,  -76.,  -72.,  -68.,\n",
              "        -64.,  -60.,  -56.,  -52.,  -48.,  -44.,  -40.,  -36.,  -32.,\n",
              "        -28.,  -24.,  -20.,  -16.,  -12.,   -8.,   -4.,    0.,    4.,\n",
              "          8.,   12.,   16.,   20.,   24.,   28.,   32.,   36.,   40.,\n",
              "         44.,   48.,   52.,   56.,   60.,   64.,   68.,   72.,   76.,\n",
              "         80.,   84.,   88.,   92.,   96.], dtype=float32)>"
            ]
          },
          "metadata": {},
          "execution_count": 22
        }
      ]
    },
    {
      "cell_type": "code",
      "source": [
        "# Make labels for the dataset\n",
        "y = X + 10\n",
        "y"
      ],
      "metadata": {
        "colab": {
          "base_uri": "https://localhost:8080/"
        },
        "id": "dmGVr8m8zu6C",
        "outputId": "4fc6fd1a-64c1-4f5f-e738-bbcfa3fcc507"
      },
      "execution_count": null,
      "outputs": [
        {
          "output_type": "execute_result",
          "data": {
            "text/plain": [
              "<tf.Tensor: shape=(50,), dtype=float32, numpy=\n",
              "array([-90., -86., -82., -78., -74., -70., -66., -62., -58., -54., -50.,\n",
              "       -46., -42., -38., -34., -30., -26., -22., -18., -14., -10.,  -6.,\n",
              "        -2.,   2.,   6.,  10.,  14.,  18.,  22.,  26.,  30.,  34.,  38.,\n",
              "        42.,  46.,  50.,  54.,  58.,  62.,  66.,  70.,  74.,  78.,  82.,\n",
              "        86.,  90.,  94.,  98., 102., 106.], dtype=float32)>"
            ]
          },
          "metadata": {},
          "execution_count": 23
        }
      ]
    },
    {
      "cell_type": "code",
      "source": [
        "# Visualize the data\n",
        "import matplotlib.pyplot as plt\n",
        "\n",
        "plt.scatter(X, y)"
      ],
      "metadata": {
        "colab": {
          "base_uri": "https://localhost:8080/",
          "height": 447
        },
        "id": "BeHb9sHo0GUZ",
        "outputId": "27f83a53-275d-44e6-ac23-2771c81f3c1a"
      },
      "execution_count": null,
      "outputs": [
        {
          "output_type": "execute_result",
          "data": {
            "text/plain": [
              "<matplotlib.collections.PathCollection at 0x7a0926f655d0>"
            ]
          },
          "metadata": {},
          "execution_count": 24
        },
        {
          "output_type": "display_data",
          "data": {
            "text/plain": [
              "<Figure size 640x480 with 1 Axes>"
            ],
            "image/png": "[encoded data removed]"
          },
          "metadata": {}
        }
      ]
    },
    {
      "cell_type": "markdown",
      "source": [
        "### The 3 sets...\n",
        "\n",
        "* **Training set** - the model learns from this data, which typically\n",
        "constitutes 70-80% of the total available data.\n",
        "* **Validation set** - the model is fine-tuned on this data, typically representing 10-15% of the available data.\n",
        "* **Test set** - the model is evaluated on this data to assess what it has learned; this set typically accounts for 10-15% of the total available data."
      ],
      "metadata": {
        "id": "afBef0tX0dzJ"
      }
    },
    {
      "cell_type": "code",
      "source": [
        "# Check the length of how many samples we have\n",
        "len(X)"
      ],
      "metadata": {
        "colab": {
          "base_uri": "https://localhost:8080/"
        },
        "id": "JSNYXWyp3q_U",
        "outputId": "5cbde70b-fd26-438e-bfaa-6a38d8c8e1fb"
      },
      "execution_count": null,
      "outputs": [
        {
          "output_type": "execute_result",
          "data": {
            "text/plain": [
              "50"
            ]
          },
          "metadata": {},
          "execution_count": 25
        }
      ]
    },
    {
      "cell_type": "code",
      "source": [
        "# Split the data into train and test sets\n",
        "X_train = X[:40] # first 40 are training samples (80% of the data)\n",
        "y_train = y[:40]\n",
        "\n",
        "X_test = X[40:] # last 10 are testing samples (20% of the data)\n",
        "y_test = y[40:]\n",
        "\n",
        "len(X_train), len(X_test), len(y_train), len(y_test)"
      ],
      "metadata": {
        "colab": {
          "base_uri": "https://localhost:8080/"
        },
        "id": "Qmc2fgys3zwh",
        "outputId": "de3877cb-b61f-45fd-e181-8eb107b56bcd"
      },
      "execution_count": null,
      "outputs": [
        {
          "output_type": "execute_result",
          "data": {
            "text/plain": [
              "(40, 10, 40, 10)"
            ]
          },
          "metadata": {},
          "execution_count": 26
        }
      ]
    },
    {
      "cell_type": "markdown",
      "source": [
        "### Visualizing the data\n",
        "\n",
        "Now we've got our data in training and test sets... let's visualize it again!"
      ],
      "metadata": {
        "id": "eYzIliLS41KB"
      }
    },
    {
      "cell_type": "code",
      "source": [
        "plt.figure(figsize=(10, 7))\n",
        "# Plot training data in blue\n",
        "plt.scatter(X_train, y_train, c=\"b\", label=\"Training data\")\n",
        "# Plot test data in green\n",
        "plt.scatter(X_test, y_test, c=\"g\", label=\"Testing data\")\n",
        "# Show a legend\n",
        "plt.legend();"
      ],
      "metadata": {
        "colab": {
          "base_uri": "https://localhost:8080/",
          "height": 599
        },
        "id": "kWrb5LB85Csx",
        "outputId": "dc0f33d1-b6d4-4362-827d-1af0b05818ed"
      },
      "execution_count": null,
      "outputs": [
        {
          "output_type": "display_data",
          "data": {
            "text/plain": [
              "<Figure size 1000x700 with 1 Axes>"
            ],
            "image/png": "[encoded data removed]"
          },
          "metadata": {}
        }
      ]
    },
    {
      "cell_type": "code",
      "source": [
        "# Let's have a look at how to build a neural network for our data\n",
        "\n",
        "# Create\n",
        "model = tf.keras.Sequential([\n",
        "    tf.keras.layers.Dense(1)\n",
        "])\n",
        "\n",
        "# Compile\n",
        "model.compile(loss=tf.keras.losses.mae,\n",
        "              optimizer=tf.keras.optimizers.SGD(),\n",
        "              metrics=[\"mae\"])\n",
        "\n",
        "# # Fit\n",
        "# model.fit(tf.expand_dims(X, axis=-1), y, epochs=100)"
      ],
      "metadata": {
        "id": "nfK2nyYa6XA5"
      },
      "execution_count": null,
      "outputs": []
    },
    {
      "cell_type": "markdown",
      "source": [
        "### Visualizing the model"
      ],
      "metadata": {
        "id": "GQ11qyS2TzYg"
      }
    },
    {
      "cell_type": "code",
      "source": [
        "model.summary()"
      ],
      "metadata": {
        "id": "T_7oaThbhCtd",
        "outputId": "54ba5ceb-fced-41e6-bc56-033f20d879a7",
        "colab": {
          "base_uri": "https://localhost:8080/",
          "height": 280
        }
      },
      "execution_count": null,
      "outputs": [
        {
          "output_type": "error",
          "ename": "ValueError",
          "evalue": "This model has not yet been built. Build the model first by calling `build()` or by calling the model on a batch of data.",
          "traceback": [
            "\u001b[0;31m---------------------------------------------------------------------------\u001b[0m",
            "\u001b[0;31mValueError\u001b[0m                                Traceback (most recent call last)",
            "\u001b[0;32m<ipython-input-29-5f15418b3570>\u001b[0m in \u001b[0;36m<cell line: 1>\u001b[0;34m()\u001b[0m\n\u001b[0;32m----> 1\u001b[0;31m \u001b[0mmodel\u001b[0m\u001b[0;34m.\u001b[0m\u001b[0msummary\u001b[0m\u001b[0;34m(\u001b[0m\u001b[0;34m)\u001b[0m\u001b[0;34m\u001b[0m\u001b[0;34m\u001b[0m\u001b[0m\n\u001b[0m",
            "\u001b[0;32m/usr/local/lib/python3.10/dist-packages/keras/src/engine/training.py\u001b[0m in \u001b[0;36msummary\u001b[0;34m(self, line_length, positions, print_fn, expand_nested, show_trainable, layer_range)\u001b[0m\n\u001b[1;32m   3504\u001b[0m         \"\"\"\n\u001b[1;32m   3505\u001b[0m         \u001b[0;32mif\u001b[0m \u001b[0;32mnot\u001b[0m \u001b[0mself\u001b[0m\u001b[0;34m.\u001b[0m\u001b[0mbuilt\u001b[0m\u001b[0;34m:\u001b[0m\u001b[0;34m\u001b[0m\u001b[0;34m\u001b[0m\u001b[0m\n\u001b[0;32m-> 3506\u001b[0;31m             raise ValueError(\n\u001b[0m\u001b[1;32m   3507\u001b[0m                 \u001b[0;34m\"This model has not yet been built. \"\u001b[0m\u001b[0;34m\u001b[0m\u001b[0;34m\u001b[0m\u001b[0m\n\u001b[1;32m   3508\u001b[0m                 \u001b[0;34m\"Build the model first by calling `build()` or by calling \"\u001b[0m\u001b[0;34m\u001b[0m\u001b[0;34m\u001b[0m\u001b[0m\n",
            "\u001b[0;31mValueError\u001b[0m: This model has not yet been built. Build the model first by calling `build()` or by calling the model on a batch of data."
          ]
        }
      ]
    },
    {
      "cell_type": "code",
      "source": [
        "# Let's create a model which builds automatically by defining the input_shape argument in the first layer\n",
        "tf.random.set_seed(42)\n",
        "\n",
        "# Create\n",
        "model = tf.keras.Sequential([\n",
        "    tf.keras.layers.Dense(10, name=\"input_layer1\"),\n",
        "    tf.keras.layers.Dense(10, name=\"input_layer2\"),\n",
        "    tf.keras.layers.Dense(1, name=\"output_layer\")\n",
        "], name=\"model_1\")\n",
        "\n",
        "# Compile\n",
        "model.compile(loss=tf.keras.losses.mae,\n",
        "              optimizer=tf.keras.optimizers.SGD(),\n",
        "              metrics=[\"mae\"])"
      ],
      "metadata": {
        "id": "_PFAEPICsrOQ"
      },
      "execution_count": null,
      "outputs": []
    },
    {
      "cell_type": "markdown",
      "source": [
        "* Total params - total number of parameters in the model.\n",
        "* Trainable parameters -these are the parameters (patterns) the model can update as it trains.\n",
        "* Non-trainable params - these parameters aren't updated during training (this is typical when you bring in already learn patterns or parameters from other models during **transfer learning**).\n",
        "\n"
      ],
      "metadata": {
        "id": "NFWq2l3zukOL"
      }
    },
    {
      "cell_type": "code",
      "source": [
        "model.fit(tf.expand_dims(X, axis=-1), y, epochs=100, verbose=0)"
      ],
      "metadata": {
        "colab": {
          "base_uri": "https://localhost:8080/"
        },
        "id": "ryH0ETZWymaW",
        "outputId": "c23ee7bb-cbcb-4ea8-a77e-ff14b90bc044"
      },
      "execution_count": null,
      "outputs": [
        {
          "output_type": "execute_result",
          "data": {
            "text/plain": [
              "<keras.src.callbacks.History at 0x7a0926e3ce20>"
            ]
          },
          "metadata": {},
          "execution_count": 31
        }
      ]
    },
    {
      "cell_type": "code",
      "source": [
        "# Get a summary of our model\n",
        "model.summary()"
      ],
      "metadata": {
        "colab": {
          "base_uri": "https://localhost:8080/"
        },
        "id": "ND2jU4c5EQHV",
        "outputId": "3c7d6814-6027-4699-bbcc-417875b1750a"
      },
      "execution_count": null,
      "outputs": [
        {
          "output_type": "stream",
          "name": "stdout",
          "text": [
            "Model: \"model_1\"\n",
            "_________________________________________________________________\n",
            " Layer (type)                Output Shape              Param #   \n",
            "=================================================================\n",
            " input_layer1 (Dense)        (None, 10)                20        \n",
            "                                                                 \n",
            " input_layer2 (Dense)        (None, 10)                110       \n",
            "                                                                 \n",
            " output_layer (Dense)        (None, 1)                 11        \n",
            "                                                                 \n",
            "=================================================================\n",
            "Total params: 141 (564.00 Byte)\n",
            "Trainable params: 141 (564.00 Byte)\n",
            "Non-trainable params: 0 (0.00 Byte)\n",
            "_________________________________________________________________\n"
          ]
        }
      ]
    },
    {
      "cell_type": "code",
      "source": [
        "from tensorflow.keras.utils import plot_model\n",
        "\n",
        "plot_model(model=model, show_shapes=True)"
      ],
      "metadata": {
        "colab": {
          "base_uri": "https://localhost:8080/",
          "height": 422
        },
        "id": "AUCH60ppETLA",
        "outputId": "b8cdeecd-a9ec-419b-e475-23169342dfcf"
      },
      "execution_count": null,
      "outputs": [
        {
          "output_type": "execute_result",
          "data": {
            "image/png": "[encoded data removed]",
            "text/plain": [
              "<IPython.core.display.Image object>"
            ]
          },
          "metadata": {},
          "execution_count": 33
        }
      ]
    },
    {
      "cell_type": "markdown",
      "source": [
        "### Visualize our model's predictions\n",
        "To visualize predictions, it's a good idea to plot them against the ground truth labels.\n",
        "\n",
        "Often you'll see this in the form of `y_test` or `y_true`\n",
        "versus `y_pred` (ground truth versus your model's predictions)."
      ],
      "metadata": {
        "id": "Bx9CckOTFIgZ"
      }
    },
    {
      "cell_type": "code",
      "source": [
        "# Make some predictions\n",
        "y_pred = model.predict(X_test)\n",
        "y_pred"
      ],
      "metadata": {
        "id": "sx4TwVJBn2CY",
        "outputId": "6a787ce6-2c1d-4eba-c119-d992bc682791",
        "colab": {
          "base_uri": "https://localhost:8080/"
        }
      },
      "execution_count": null,
      "outputs": [
        {
          "output_type": "stream",
          "name": "stderr",
          "text": [
            "WARNING:tensorflow:5 out of the last 5 calls to <function Model.make_predict_function.<locals>.predict_function at 0x7a0926d451b0> triggered tf.function retracing. Tracing is expensive and the excessive number of tracings could be due to (1) creating @tf.function repeatedly in a loop, (2) passing tensors with different shapes, (3) passing Python objects instead of tensors. For (1), please define your @tf.function outside of the loop. For (2), @tf.function has reduce_retracing=True option that can avoid unnecessary retracing. For (3), please refer to https://www.tensorflow.org/guide/function#controlling_retracing and https://www.tensorflow.org/api_docs/python/tf/function for  more details.\n"
          ]
        },
        {
          "output_type": "stream",
          "name": "stdout",
          "text": [
            "1/1 [==============================] - 0s 58ms/step\n"
          ]
        },
        {
          "output_type": "execute_result",
          "data": {
            "text/plain": [
              "array([[114.941895],\n",
              "       [122.486534],\n",
              "       [130.03116 ],\n",
              "       [137.57582 ],\n",
              "       [145.12047 ],\n",
              "       [152.66508 ],\n",
              "       [160.20975 ],\n",
              "       [167.75438 ],\n",
              "       [175.29903 ],\n",
              "       [182.84367 ]], dtype=float32)"
            ]
          },
          "metadata": {},
          "execution_count": 34
        }
      ]
    },
    {
      "cell_type": "code",
      "source": [
        "y_test"
      ],
      "metadata": {
        "id": "jWDHrOSwoD6n",
        "outputId": "c8f18c70-1442-4a43-b9e9-59ddd916f801",
        "colab": {
          "base_uri": "https://localhost:8080/"
        }
      },
      "execution_count": 72,
      "outputs": [
        {
          "output_type": "execute_result",
          "data": {
            "text/plain": [
              "<tf.Tensor: shape=(10,), dtype=float32, numpy=\n",
              "array([ 70.,  74.,  78.,  82.,  86.,  90.,  94.,  98., 102., 106.],\n",
              "      dtype=float32)>"
            ]
          },
          "metadata": {},
          "execution_count": 72
        }
      ]
    },
    {
      "cell_type": "code",
      "source": [
        " # Let's create a plotting function\n",
        "def plot_predictions(training_data=X_train,\n",
        "                      training_labels=y_train,\n",
        "                      test_data=X_test,\n",
        "                      test_labels=y_test,\n",
        "                      predictions=y_pred):\n",
        "   \"\"\"\n",
        "   Plots training data, test data and compares predictions to ground truth labels.\n",
        "   \"\"\"\n",
        "\n",
        "   plt.figure(figsize=(10, 7))\n",
        "   # Plot training data in blue\n",
        "   plt.scatter(training_data, training_labels, c='b', label=\"Training data\")\n",
        "   # Plot testing data in green\n",
        "   plt.scatter(test_data,test_labels, c='g', label=\"Testing data\")\n",
        "   #Plot model's predictions in red\n",
        "   plt.scatter(test_data, predictions, c='r', label=\"Predictions\")\n",
        "   # Show the legend\n",
        "   plt.legend();"
      ],
      "metadata": {
        "id": "R6UaFdxAoLZC"
      },
      "execution_count": 39,
      "outputs": []
    },
    {
      "cell_type": "code",
      "source": [
        "# Split the data into train and test sets\n",
        "X_train = X[:40] # first 40 are training samples (80% of the data)\n",
        "y_train = y[:40]\n",
        "\n",
        "X_test = X[40:] # last 10 are testing samples (20% of the data)\n",
        "y_test = y[40:]\n",
        "\n",
        "\n",
        "len(X_train), len(X_test), len(y_train), len(y_test)"
      ],
      "metadata": {
        "outputId": "597a4b61-5203-45fd-8cf0-106ef496848a",
        "colab": {
          "base_uri": "https://localhost:8080/"
        },
        "id": "hNtMnnS4ooKi"
      },
      "execution_count": 193,
      "outputs": [
        {
          "output_type": "execute_result",
          "data": {
            "text/plain": [
              "(40, 10, 40, 10)"
            ]
          },
          "metadata": {},
          "execution_count": 193
        }
      ]
    },
    {
      "cell_type": "code",
      "source": [
        "# Let's create a model which builds automatically by defining the input_shape argument in the first layer\n",
        "tf.random.set_seed(42)\n",
        "\n",
        "# Create\n",
        "model2 = tf.keras.Sequential([\n",
        "    tf.keras.layers.Dense(17, name=\"input_layer0\"),\n",
        "    tf.keras.layers.Dense(15, name=\"input_layer1\"),\n",
        "    tf.keras.layers.Dense(13, name=\"input_layer2\"),\n",
        "    tf.keras.layers.Dense(1, name=\"output_layer\")\n",
        "], name=\"model_2\")\n",
        "\n",
        "# Compile\n",
        "model2.compile(loss=tf.keras.losses.mae,\n",
        "               optimizer=tf.keras.optimizers.Adam(learning_rate=0.001),\n",
        "              metrics=[\"mae\"])\n",
        "\n",
        "# fit\n",
        "model2.fit(tf.expand_dims(X, axis=-1), y, epochs=190, verbose=1)"
      ],
      "metadata": {
        "colab": {
          "base_uri": "https://localhost:8080/"
        },
        "id": "dFC0EH20mfq4",
        "outputId": "505fb8c1-e4b3-4400-fc13-1d065db7ccbf"
      },
      "execution_count": 194,
      "outputs": [
        {
          "output_type": "stream",
          "name": "stdout",
          "text": [
            "Epoch 1/190\n",
            "2/2 [==============================] - 1s 12ms/step - loss: 46.1239 - mae: 46.1239\n",
            "Epoch 2/190\n",
            "2/2 [==============================] - 0s 7ms/step - loss: 42.9249 - mae: 42.9249\n",
            "Epoch 3/190\n",
            "2/2 [==============================] - 0s 6ms/step - loss: 40.1349 - mae: 40.1349\n",
            "Epoch 4/190\n",
            "2/2 [==============================] - 0s 6ms/step - loss: 37.1202 - mae: 37.1202\n",
            "Epoch 5/190\n",
            "2/2 [==============================] - 0s 7ms/step - loss: 34.0947 - mae: 34.0947\n",
            "Epoch 6/190\n",
            "2/2 [==============================] - 0s 6ms/step - loss: 31.1089 - mae: 31.1089\n",
            "Epoch 7/190\n",
            "2/2 [==============================] - 0s 6ms/step - loss: 27.9682 - mae: 27.9682\n",
            "Epoch 8/190\n",
            "2/2 [==============================] - 0s 6ms/step - loss: 24.8991 - mae: 24.8991\n",
            "Epoch 9/190\n",
            "2/2 [==============================] - 0s 7ms/step - loss: 22.0757 - mae: 22.0757\n",
            "Epoch 10/190\n",
            "2/2 [==============================] - 0s 7ms/step - loss: 18.8263 - mae: 18.8263\n",
            "Epoch 11/190\n",
            "2/2 [==============================] - 0s 7ms/step - loss: 15.8200 - mae: 15.8200\n",
            "Epoch 12/190\n",
            "2/2 [==============================] - 0s 7ms/step - loss: 12.9343 - mae: 12.9343\n",
            "Epoch 13/190\n",
            "2/2 [==============================] - 0s 7ms/step - loss: 10.4643 - mae: 10.4643\n",
            "Epoch 14/190\n",
            "2/2 [==============================] - 0s 9ms/step - loss: 9.9057 - mae: 9.9057\n",
            "Epoch 15/190\n",
            "2/2 [==============================] - 0s 9ms/step - loss: 9.8472 - mae: 9.8472\n",
            "Epoch 16/190\n",
            "2/2 [==============================] - 0s 8ms/step - loss: 9.7019 - mae: 9.7019\n",
            "Epoch 17/190\n",
            "2/2 [==============================] - 0s 8ms/step - loss: 9.9213 - mae: 9.9213\n",
            "Epoch 18/190\n",
            "2/2 [==============================] - 0s 9ms/step - loss: 9.8761 - mae: 9.8761\n",
            "Epoch 19/190\n",
            "2/2 [==============================] - 0s 9ms/step - loss: 9.9106 - mae: 9.9106\n",
            "Epoch 20/190\n",
            "2/2 [==============================] - 0s 7ms/step - loss: 10.1169 - mae: 10.1169\n",
            "Epoch 21/190\n",
            "2/2 [==============================] - 0s 7ms/step - loss: 10.0438 - mae: 10.0438\n",
            "Epoch 22/190\n",
            "2/2 [==============================] - 0s 7ms/step - loss: 9.8183 - mae: 9.8183\n",
            "Epoch 23/190\n",
            "2/2 [==============================] - 0s 7ms/step - loss: 9.7267 - mae: 9.7267\n",
            "Epoch 24/190\n",
            "2/2 [==============================] - 0s 7ms/step - loss: 9.6432 - mae: 9.6432\n",
            "Epoch 25/190\n",
            "2/2 [==============================] - 0s 7ms/step - loss: 9.5619 - mae: 9.5619\n",
            "Epoch 26/190\n",
            "2/2 [==============================] - 0s 7ms/step - loss: 9.5413 - mae: 9.5413\n",
            "Epoch 27/190\n",
            "2/2 [==============================] - 0s 7ms/step - loss: 9.4659 - mae: 9.4659\n",
            "Epoch 28/190\n",
            "2/2 [==============================] - 0s 7ms/step - loss: 9.4197 - mae: 9.4197\n",
            "Epoch 29/190\n",
            "2/2 [==============================] - 0s 7ms/step - loss: 9.3749 - mae: 9.3749\n",
            "Epoch 30/190\n",
            "2/2 [==============================] - 0s 6ms/step - loss: 9.3434 - mae: 9.3434\n",
            "Epoch 31/190\n",
            "2/2 [==============================] - 0s 7ms/step - loss: 9.2778 - mae: 9.2778\n",
            "Epoch 32/190\n",
            "2/2 [==============================] - 0s 6ms/step - loss: 9.2429 - mae: 9.2429\n",
            "Epoch 33/190\n",
            "2/2 [==============================] - 0s 6ms/step - loss: 9.1890 - mae: 9.1890\n",
            "Epoch 34/190\n",
            "2/2 [==============================] - 0s 6ms/step - loss: 9.1347 - mae: 9.1347\n",
            "Epoch 35/190\n",
            "2/2 [==============================] - 0s 8ms/step - loss: 9.0942 - mae: 9.0942\n",
            "Epoch 36/190\n",
            "2/2 [==============================] - 0s 7ms/step - loss: 9.0429 - mae: 9.0429\n",
            "Epoch 37/190\n",
            "2/2 [==============================] - 0s 6ms/step - loss: 9.0139 - mae: 9.0139\n",
            "Epoch 38/190\n",
            "2/2 [==============================] - 0s 7ms/step - loss: 8.9718 - mae: 8.9718\n",
            "Epoch 39/190\n",
            "2/2 [==============================] - 0s 6ms/step - loss: 8.9034 - mae: 8.9034\n",
            "Epoch 40/190\n",
            "2/2 [==============================] - 0s 7ms/step - loss: 8.8817 - mae: 8.8817\n",
            "Epoch 41/190\n",
            "2/2 [==============================] - 0s 8ms/step - loss: 8.8701 - mae: 8.8701\n",
            "Epoch 42/190\n",
            "2/2 [==============================] - 0s 6ms/step - loss: 8.7819 - mae: 8.7819\n",
            "Epoch 43/190\n",
            "2/2 [==============================] - 0s 6ms/step - loss: 8.7512 - mae: 8.7512\n",
            "Epoch 44/190\n",
            "2/2 [==============================] - 0s 8ms/step - loss: 8.7158 - mae: 8.7158\n",
            "Epoch 45/190\n",
            "2/2 [==============================] - 0s 7ms/step - loss: 8.6667 - mae: 8.6667\n",
            "Epoch 46/190\n",
            "2/2 [==============================] - 0s 7ms/step - loss: 8.6352 - mae: 8.6352\n",
            "Epoch 47/190\n",
            "2/2 [==============================] - 0s 7ms/step - loss: 8.6119 - mae: 8.6119\n",
            "Epoch 48/190\n",
            "2/2 [==============================] - 0s 7ms/step - loss: 8.6066 - mae: 8.6066\n",
            "Epoch 49/190\n",
            "2/2 [==============================] - 0s 7ms/step - loss: 8.5527 - mae: 8.5527\n",
            "Epoch 50/190\n",
            "2/2 [==============================] - 0s 8ms/step - loss: 8.5356 - mae: 8.5356\n",
            "Epoch 51/190\n",
            "2/2 [==============================] - 0s 8ms/step - loss: 8.5000 - mae: 8.5000\n",
            "Epoch 52/190\n",
            "2/2 [==============================] - 0s 9ms/step - loss: 8.4720 - mae: 8.4720\n",
            "Epoch 53/190\n",
            "2/2 [==============================] - 0s 8ms/step - loss: 8.4460 - mae: 8.4460\n",
            "Epoch 54/190\n",
            "2/2 [==============================] - 0s 6ms/step - loss: 8.4148 - mae: 8.4148\n",
            "Epoch 55/190\n",
            "2/2 [==============================] - 0s 8ms/step - loss: 8.3949 - mae: 8.3949\n",
            "Epoch 56/190\n",
            "2/2 [==============================] - 0s 7ms/step - loss: 8.3568 - mae: 8.3568\n",
            "Epoch 57/190\n",
            "2/2 [==============================] - 0s 7ms/step - loss: 8.3295 - mae: 8.3295\n",
            "Epoch 58/190\n",
            "2/2 [==============================] - 0s 6ms/step - loss: 8.2795 - mae: 8.2795\n",
            "Epoch 59/190\n",
            "2/2 [==============================] - 0s 7ms/step - loss: 8.2438 - mae: 8.2438\n",
            "Epoch 60/190\n",
            "2/2 [==============================] - 0s 7ms/step - loss: 8.2304 - mae: 8.2304\n",
            "Epoch 61/190\n",
            "2/2 [==============================] - 0s 8ms/step - loss: 8.2064 - mae: 8.2064\n",
            "Epoch 62/190\n",
            "2/2 [==============================] - 0s 6ms/step - loss: 8.1694 - mae: 8.1694\n",
            "Epoch 63/190\n",
            "2/2 [==============================] - 0s 7ms/step - loss: 8.1195 - mae: 8.1195\n",
            "Epoch 64/190\n",
            "2/2 [==============================] - 0s 7ms/step - loss: 8.0982 - mae: 8.0982\n",
            "Epoch 65/190\n",
            "2/2 [==============================] - 0s 6ms/step - loss: 8.0821 - mae: 8.0821\n",
            "Epoch 66/190\n",
            "2/2 [==============================] - 0s 6ms/step - loss: 8.0495 - mae: 8.0495\n",
            "Epoch 67/190\n",
            "2/2 [==============================] - 0s 6ms/step - loss: 8.0197 - mae: 8.0197\n",
            "Epoch 68/190\n",
            "2/2 [==============================] - 0s 7ms/step - loss: 7.9899 - mae: 7.9899\n",
            "Epoch 69/190\n",
            "2/2 [==============================] - 0s 7ms/step - loss: 7.9569 - mae: 7.9569\n",
            "Epoch 70/190\n",
            "2/2 [==============================] - 0s 7ms/step - loss: 7.9426 - mae: 7.9426\n",
            "Epoch 71/190\n",
            "2/2 [==============================] - 0s 8ms/step - loss: 7.8939 - mae: 7.8939\n",
            "Epoch 72/190\n",
            "2/2 [==============================] - 0s 11ms/step - loss: 7.8650 - mae: 7.8650\n",
            "Epoch 73/190\n",
            "2/2 [==============================] - 0s 8ms/step - loss: 7.8240 - mae: 7.8240\n",
            "Epoch 74/190\n",
            "2/2 [==============================] - 0s 8ms/step - loss: 7.7805 - mae: 7.7805\n",
            "Epoch 75/190\n",
            "2/2 [==============================] - 0s 8ms/step - loss: 7.7429 - mae: 7.7429\n",
            "Epoch 76/190\n",
            "2/2 [==============================] - 0s 8ms/step - loss: 7.7114 - mae: 7.7114\n",
            "Epoch 77/190\n",
            "2/2 [==============================] - 0s 7ms/step - loss: 7.6853 - mae: 7.6853\n",
            "Epoch 78/190\n",
            "2/2 [==============================] - 0s 8ms/step - loss: 7.6414 - mae: 7.6414\n",
            "Epoch 79/190\n",
            "2/2 [==============================] - 0s 7ms/step - loss: 7.6189 - mae: 7.6189\n",
            "Epoch 80/190\n",
            "2/2 [==============================] - 0s 7ms/step - loss: 7.5722 - mae: 7.5722\n",
            "Epoch 81/190\n",
            "2/2 [==============================] - 0s 7ms/step - loss: 7.5347 - mae: 7.5347\n",
            "Epoch 82/190\n",
            "2/2 [==============================] - 0s 8ms/step - loss: 7.5014 - mae: 7.5014\n",
            "Epoch 83/190\n",
            "2/2 [==============================] - 0s 10ms/step - loss: 7.5070 - mae: 7.5070\n",
            "Epoch 84/190\n",
            "2/2 [==============================] - 0s 8ms/step - loss: 7.4508 - mae: 7.4508\n",
            "Epoch 85/190\n",
            "2/2 [==============================] - 0s 7ms/step - loss: 7.3933 - mae: 7.3933\n",
            "Epoch 86/190\n",
            "2/2 [==============================] - 0s 7ms/step - loss: 7.3605 - mae: 7.3605\n",
            "Epoch 87/190\n",
            "2/2 [==============================] - 0s 7ms/step - loss: 7.3313 - mae: 7.3313\n",
            "Epoch 88/190\n",
            "2/2 [==============================] - 0s 7ms/step - loss: 7.3077 - mae: 7.3077\n",
            "Epoch 89/190\n",
            "2/2 [==============================] - 0s 8ms/step - loss: 7.2755 - mae: 7.2755\n",
            "Epoch 90/190\n",
            "2/2 [==============================] - 0s 7ms/step - loss: 7.2450 - mae: 7.2450\n",
            "Epoch 91/190\n",
            "2/2 [==============================] - 0s 7ms/step - loss: 7.2118 - mae: 7.2118\n",
            "Epoch 92/190\n",
            "2/2 [==============================] - 0s 7ms/step - loss: 7.1773 - mae: 7.1773\n",
            "Epoch 93/190\n",
            "2/2 [==============================] - 0s 7ms/step - loss: 7.1738 - mae: 7.1738\n",
            "Epoch 94/190\n",
            "2/2 [==============================] - 0s 7ms/step - loss: 7.1049 - mae: 7.1049\n",
            "Epoch 95/190\n",
            "2/2 [==============================] - 0s 8ms/step - loss: 7.0579 - mae: 7.0579\n",
            "Epoch 96/190\n",
            "2/2 [==============================] - 0s 9ms/step - loss: 7.0090 - mae: 7.0090\n",
            "Epoch 97/190\n",
            "2/2 [==============================] - 0s 7ms/step - loss: 6.9806 - mae: 6.9806\n",
            "Epoch 98/190\n",
            "2/2 [==============================] - 0s 7ms/step - loss: 6.9098 - mae: 6.9098\n",
            "Epoch 99/190\n",
            "2/2 [==============================] - 0s 8ms/step - loss: 6.8593 - mae: 6.8593\n",
            "Epoch 100/190\n",
            "2/2 [==============================] - 0s 7ms/step - loss: 6.8256 - mae: 6.8256\n",
            "Epoch 101/190\n",
            "2/2 [==============================] - 0s 7ms/step - loss: 6.7510 - mae: 6.7510\n",
            "Epoch 102/190\n",
            "2/2 [==============================] - 0s 7ms/step - loss: 6.7082 - mae: 6.7082\n",
            "Epoch 103/190\n",
            "2/2 [==============================] - 0s 7ms/step - loss: 6.6885 - mae: 6.6885\n",
            "Epoch 104/190\n",
            "2/2 [==============================] - 0s 7ms/step - loss: 6.6279 - mae: 6.6279\n",
            "Epoch 105/190\n",
            "2/2 [==============================] - 0s 7ms/step - loss: 6.6077 - mae: 6.6077\n",
            "Epoch 106/190\n",
            "2/2 [==============================] - 0s 7ms/step - loss: 6.5492 - mae: 6.5492\n",
            "Epoch 107/190\n",
            "2/2 [==============================] - 0s 7ms/step - loss: 6.4919 - mae: 6.4919\n",
            "Epoch 108/190\n",
            "2/2 [==============================] - 0s 7ms/step - loss: 6.4484 - mae: 6.4484\n",
            "Epoch 109/190\n",
            "2/2 [==============================] - 0s 9ms/step - loss: 6.3998 - mae: 6.3998\n",
            "Epoch 110/190\n",
            "2/2 [==============================] - 0s 7ms/step - loss: 6.3625 - mae: 6.3625\n",
            "Epoch 111/190\n",
            "2/2 [==============================] - 0s 7ms/step - loss: 6.3105 - mae: 6.3105\n",
            "Epoch 112/190\n",
            "2/2 [==============================] - 0s 8ms/step - loss: 6.2627 - mae: 6.2627\n",
            "Epoch 113/190\n",
            "2/2 [==============================] - 0s 7ms/step - loss: 6.2353 - mae: 6.2353\n",
            "Epoch 114/190\n",
            "2/2 [==============================] - 0s 7ms/step - loss: 6.1706 - mae: 6.1706\n",
            "Epoch 115/190\n",
            "2/2 [==============================] - 0s 7ms/step - loss: 6.1107 - mae: 6.1107\n",
            "Epoch 116/190\n",
            "2/2 [==============================] - 0s 7ms/step - loss: 6.0518 - mae: 6.0518\n",
            "Epoch 117/190\n",
            "2/2 [==============================] - 0s 7ms/step - loss: 5.9927 - mae: 5.9927\n",
            "Epoch 118/190\n",
            "2/2 [==============================] - 0s 8ms/step - loss: 5.9236 - mae: 5.9236\n",
            "Epoch 119/190\n",
            "2/2 [==============================] - 0s 9ms/step - loss: 5.9209 - mae: 5.9209\n",
            "Epoch 120/190\n",
            "2/2 [==============================] - 0s 7ms/step - loss: 5.7921 - mae: 5.7921\n",
            "Epoch 121/190\n",
            "2/2 [==============================] - 0s 7ms/step - loss: 5.7967 - mae: 5.7967\n",
            "Epoch 122/190\n",
            "2/2 [==============================] - 0s 7ms/step - loss: 5.6767 - mae: 5.6767\n",
            "Epoch 123/190\n",
            "2/2 [==============================] - 0s 6ms/step - loss: 5.5963 - mae: 5.5963\n",
            "Epoch 124/190\n",
            "2/2 [==============================] - 0s 6ms/step - loss: 5.5902 - mae: 5.5902\n",
            "Epoch 125/190\n",
            "2/2 [==============================] - 0s 6ms/step - loss: 5.5000 - mae: 5.5000\n",
            "Epoch 126/190\n",
            "2/2 [==============================] - 0s 7ms/step - loss: 5.4375 - mae: 5.4375\n",
            "Epoch 127/190\n",
            "2/2 [==============================] - 0s 7ms/step - loss: 5.3721 - mae: 5.3721\n",
            "Epoch 128/190\n",
            "2/2 [==============================] - 0s 7ms/step - loss: 5.3066 - mae: 5.3066\n",
            "Epoch 129/190\n",
            "2/2 [==============================] - 0s 7ms/step - loss: 5.2402 - mae: 5.2402\n",
            "Epoch 130/190\n",
            "2/2 [==============================] - 0s 7ms/step - loss: 5.1687 - mae: 5.1687\n",
            "Epoch 131/190\n",
            "2/2 [==============================] - 0s 7ms/step - loss: 5.0926 - mae: 5.0926\n",
            "Epoch 132/190\n",
            "2/2 [==============================] - 0s 6ms/step - loss: 5.0355 - mae: 5.0355\n",
            "Epoch 133/190\n",
            "2/2 [==============================] - 0s 6ms/step - loss: 4.9494 - mae: 4.9494\n",
            "Epoch 134/190\n",
            "2/2 [==============================] - 0s 6ms/step - loss: 4.8530 - mae: 4.8530\n",
            "Epoch 135/190\n",
            "2/2 [==============================] - 0s 6ms/step - loss: 4.7744 - mae: 4.7744\n",
            "Epoch 136/190\n",
            "2/2 [==============================] - 0s 7ms/step - loss: 4.6939 - mae: 4.6939\n",
            "Epoch 137/190\n",
            "2/2 [==============================] - 0s 7ms/step - loss: 4.6150 - mae: 4.6150\n",
            "Epoch 138/190\n",
            "2/2 [==============================] - 0s 7ms/step - loss: 4.5529 - mae: 4.5529\n",
            "Epoch 139/190\n",
            "2/2 [==============================] - 0s 7ms/step - loss: 4.4572 - mae: 4.4572\n",
            "Epoch 140/190\n",
            "2/2 [==============================] - 0s 7ms/step - loss: 4.3698 - mae: 4.3698\n",
            "Epoch 141/190\n",
            "2/2 [==============================] - 0s 7ms/step - loss: 4.2711 - mae: 4.2711\n",
            "Epoch 142/190\n",
            "2/2 [==============================] - 0s 7ms/step - loss: 4.1978 - mae: 4.1978\n",
            "Epoch 143/190\n",
            "2/2 [==============================] - 0s 8ms/step - loss: 4.0895 - mae: 4.0895\n",
            "Epoch 144/190\n",
            "2/2 [==============================] - 0s 7ms/step - loss: 4.1146 - mae: 4.1146\n",
            "Epoch 145/190\n",
            "2/2 [==============================] - 0s 7ms/step - loss: 3.8407 - mae: 3.8407\n",
            "Epoch 146/190\n",
            "2/2 [==============================] - 0s 7ms/step - loss: 3.9282 - mae: 3.9282\n",
            "Epoch 147/190\n",
            "2/2 [==============================] - 0s 7ms/step - loss: 3.8074 - mae: 3.8074\n",
            "Epoch 148/190\n",
            "2/2 [==============================] - 0s 11ms/step - loss: 3.7631 - mae: 3.7631\n",
            "Epoch 149/190\n",
            "2/2 [==============================] - 0s 7ms/step - loss: 3.6263 - mae: 3.6263\n",
            "Epoch 150/190\n",
            "2/2 [==============================] - 0s 9ms/step - loss: 3.4962 - mae: 3.4962\n",
            "Epoch 151/190\n",
            "2/2 [==============================] - 0s 7ms/step - loss: 3.3755 - mae: 3.3755\n",
            "Epoch 152/190\n",
            "2/2 [==============================] - 0s 6ms/step - loss: 3.2523 - mae: 3.2523\n",
            "Epoch 153/190\n",
            "2/2 [==============================] - 0s 7ms/step - loss: 3.1680 - mae: 3.1680\n",
            "Epoch 154/190\n",
            "2/2 [==============================] - 0s 8ms/step - loss: 3.0039 - mae: 3.0039\n",
            "Epoch 155/190\n",
            "2/2 [==============================] - 0s 7ms/step - loss: 2.8963 - mae: 2.8963\n",
            "Epoch 156/190\n",
            "2/2 [==============================] - 0s 7ms/step - loss: 2.7582 - mae: 2.7582\n",
            "Epoch 157/190\n",
            "2/2 [==============================] - 0s 7ms/step - loss: 2.6437 - mae: 2.6437\n",
            "Epoch 158/190\n",
            "2/2 [==============================] - 0s 6ms/step - loss: 2.5284 - mae: 2.5284\n",
            "Epoch 159/190\n",
            "2/2 [==============================] - 0s 6ms/step - loss: 2.4296 - mae: 2.4296\n",
            "Epoch 160/190\n",
            "2/2 [==============================] - 0s 7ms/step - loss: 2.3118 - mae: 2.3118\n",
            "Epoch 161/190\n",
            "2/2 [==============================] - 0s 6ms/step - loss: 2.1493 - mae: 2.1493\n",
            "Epoch 162/190\n",
            "2/2 [==============================] - 0s 6ms/step - loss: 2.0349 - mae: 2.0349\n",
            "Epoch 163/190\n",
            "2/2 [==============================] - 0s 6ms/step - loss: 1.8636 - mae: 1.8636\n",
            "Epoch 164/190\n",
            "2/2 [==============================] - 0s 7ms/step - loss: 1.6865 - mae: 1.6865\n",
            "Epoch 165/190\n",
            "2/2 [==============================] - 0s 7ms/step - loss: 1.5560 - mae: 1.5560\n",
            "Epoch 166/190\n",
            "2/2 [==============================] - 0s 6ms/step - loss: 1.4193 - mae: 1.4193\n",
            "Epoch 167/190\n",
            "2/2 [==============================] - 0s 8ms/step - loss: 1.3088 - mae: 1.3088\n",
            "Epoch 168/190\n",
            "2/2 [==============================] - 0s 7ms/step - loss: 1.0939 - mae: 1.0939\n",
            "Epoch 169/190\n",
            "2/2 [==============================] - 0s 7ms/step - loss: 0.9853 - mae: 0.9853\n",
            "Epoch 170/190\n",
            "2/2 [==============================] - 0s 6ms/step - loss: 0.8625 - mae: 0.8625\n",
            "Epoch 171/190\n",
            "2/2 [==============================] - 0s 6ms/step - loss: 0.5906 - mae: 0.5906\n",
            "Epoch 172/190\n",
            "2/2 [==============================] - 0s 8ms/step - loss: 0.5839 - mae: 0.5839\n",
            "Epoch 173/190\n",
            "2/2 [==============================] - 0s 9ms/step - loss: 0.5601 - mae: 0.5601\n",
            "Epoch 174/190\n",
            "2/2 [==============================] - 0s 9ms/step - loss: 0.1651 - mae: 0.1651\n",
            "Epoch 175/190\n",
            "2/2 [==============================] - 0s 8ms/step - loss: 0.4009 - mae: 0.4009\n",
            "Epoch 176/190\n",
            "2/2 [==============================] - 0s 7ms/step - loss: 0.3812 - mae: 0.3812\n",
            "Epoch 177/190\n",
            "2/2 [==============================] - 0s 7ms/step - loss: 0.3582 - mae: 0.3582\n",
            "Epoch 178/190\n",
            "2/2 [==============================] - 0s 7ms/step - loss: 0.6014 - mae: 0.6014\n",
            "Epoch 179/190\n",
            "2/2 [==============================] - 0s 7ms/step - loss: 0.4003 - mae: 0.4003\n",
            "Epoch 180/190\n",
            "2/2 [==============================] - 0s 7ms/step - loss: 0.5329 - mae: 0.5329\n",
            "Epoch 181/190\n",
            "2/2 [==============================] - 0s 8ms/step - loss: 0.4277 - mae: 0.4277\n",
            "Epoch 182/190\n",
            "2/2 [==============================] - 0s 8ms/step - loss: 0.5125 - mae: 0.5125\n",
            "Epoch 183/190\n",
            "2/2 [==============================] - 0s 7ms/step - loss: 0.3306 - mae: 0.3306\n",
            "Epoch 184/190\n",
            "2/2 [==============================] - 0s 7ms/step - loss: 0.2644 - mae: 0.2644\n",
            "Epoch 185/190\n",
            "2/2 [==============================] - 0s 7ms/step - loss: 0.1648 - mae: 0.1648\n",
            "Epoch 186/190\n",
            "2/2 [==============================] - 0s 8ms/step - loss: 0.2337 - mae: 0.2337\n",
            "Epoch 187/190\n",
            "2/2 [==============================] - 0s 8ms/step - loss: 0.2473 - mae: 0.2473\n",
            "Epoch 188/190\n",
            "2/2 [==============================] - 0s 7ms/step - loss: 0.1761 - mae: 0.1761\n",
            "Epoch 189/190\n",
            "2/2 [==============================] - 0s 6ms/step - loss: 0.0968 - mae: 0.0968\n",
            "Epoch 190/190\n",
            "2/2 [==============================] - 0s 8ms/step - loss: 0.4308 - mae: 0.4308\n"
          ]
        },
        {
          "output_type": "execute_result",
          "data": {
            "text/plain": [
              "<keras.src.callbacks.History at 0x7a09243046d0>"
            ]
          },
          "metadata": {},
          "execution_count": 194
        }
      ]
    },
    {
      "cell_type": "code",
      "source": [
        "# Make some predictions\n",
        "y_pred = model2.predict(X_test)\n",
        "y_pred"
      ],
      "metadata": {
        "colab": {
          "base_uri": "https://localhost:8080/"
        },
        "id": "4O2CAksAoJQv",
        "outputId": "bf7dc825-8fd0-478f-d242-843b52c05b80"
      },
      "execution_count": 195,
      "outputs": [
        {
          "output_type": "stream",
          "name": "stdout",
          "text": [
            "1/1 [==============================] - 0s 63ms/step\n"
          ]
        },
        {
          "output_type": "execute_result",
          "data": {
            "text/plain": [
              "array([[ 70.65224 ],\n",
              "       [ 74.701645],\n",
              "       [ 78.751045],\n",
              "       [ 82.80046 ],\n",
              "       [ 86.849884],\n",
              "       [ 90.89929 ],\n",
              "       [ 94.9487  ],\n",
              "       [ 98.99812 ],\n",
              "       [103.04752 ],\n",
              "       [107.09693 ]], dtype=float32)"
            ]
          },
          "metadata": {},
          "execution_count": 195
        }
      ]
    },
    {
      "cell_type": "code",
      "source": [
        "plot_predictions(training_data=X_train,\n",
        "                 training_labels=y_train,\n",
        "                 test_data=X_test,\n",
        "                 test_labels=y_test,\n",
        "                 predictions=y_pred)"
      ],
      "metadata": {
        "id": "Eoxp3F7EIF0i",
        "colab": {
          "base_uri": "https://localhost:8080/",
          "height": 599
        },
        "outputId": "b7333394-6ef0-4df0-fb91-969ad4623dd3"
      },
      "execution_count": 196,
      "outputs": [
        {
          "output_type": "display_data",
          "data": {
            "text/plain": [
              "<Figure size 1000x700 with 1 Axes>"
            ],
            "image/png": "[encoded data removed]"
          },
          "metadata": {}
        }
      ]
    },
    {
      "cell_type": "markdown",
      "source": [
        "### Evaluating our model's predictions with regression evaluation metrics\n",
        "\n",
        "Depending on the problem you're working on, there will be different evaluation metrics to evaluate your model's performance.\n",
        "\n",
        "Since we're working on a regression, two of the main metrics:\n",
        "* MAE - mean absolute error, \"on average, how wrong is each of my model's predictions\"\n",
        "* MSE - mean square error, \"square the average errors.\""
      ],
      "metadata": {
        "id": "T83SLa6zlI8v"
      }
    },
    {
      "cell_type": "code",
      "source": [
        "# Evaluate the model on the test\n",
        "model2.evaluate(X_test, y_test)"
      ],
      "metadata": {
        "colab": {
          "base_uri": "https://localhost:8080/"
        },
        "id": "RLhShIma4LKm",
        "outputId": "5c6fb62b-cf15-45ea-a4c2-ee9894f5c7de"
      },
      "execution_count": 197,
      "outputs": [
        {
          "output_type": "stream",
          "name": "stdout",
          "text": [
            "1/1 [==============================] - 0s 126ms/step - loss: 0.8746 - mae: 0.8746\n"
          ]
        },
        {
          "output_type": "execute_result",
          "data": {
            "text/plain": [
              "[0.874585747718811, 0.874585747718811]"
            ]
          },
          "metadata": {},
          "execution_count": 197
        }
      ]
    },
    {
      "cell_type": "code",
      "source": [
        "# Calculate the mean absolute error\n",
        "mae = tf.metrics.mean_absolute_error(y_true=y_test,\n",
        "                              y_pred=tf.constant(y_pred))\n",
        "mae"
      ],
      "metadata": {
        "colab": {
          "base_uri": "https://localhost:8080/"
        },
        "id": "JCp8lSyE6XXg",
        "outputId": "a8a338bd-8fe9-41cb-e445-b3a17dc08aec"
      },
      "execution_count": 198,
      "outputs": [
        {
          "output_type": "execute_result",
          "data": {
            "text/plain": [
              "<tf.Tensor: shape=(10,), dtype=float32, numpy=\n",
              "array([17.47821 , 14.379013, 12.099582, 10.639908, 10.      , 10.179858,\n",
              "       11.17948 , 12.998874, 15.638019, 19.096931], dtype=float32)>"
            ]
          },
          "metadata": {},
          "execution_count": 198
        }
      ]
    },
    {
      "cell_type": "code",
      "source": [
        "tf.constant(y_pred)"
      ],
      "metadata": {
        "colab": {
          "base_uri": "https://localhost:8080/"
        },
        "id": "IATXuN9e6H3U",
        "outputId": "ab46d579-fbfb-44f1-9036-f4c9e5bd39c6"
      },
      "execution_count": 199,
      "outputs": [
        {
          "output_type": "execute_result",
          "data": {
            "text/plain": [
              "<tf.Tensor: shape=(10, 1), dtype=float32, numpy=\n",
              "array([[ 70.65224 ],\n",
              "       [ 74.701645],\n",
              "       [ 78.751045],\n",
              "       [ 82.80046 ],\n",
              "       [ 86.849884],\n",
              "       [ 90.89929 ],\n",
              "       [ 94.9487  ],\n",
              "       [ 98.99812 ],\n",
              "       [103.04752 ],\n",
              "       [107.09693 ]], dtype=float32)>"
            ]
          },
          "metadata": {},
          "execution_count": 199
        }
      ]
    },
    {
      "cell_type": "code",
      "source": [
        "y_test"
      ],
      "metadata": {
        "colab": {
          "base_uri": "https://localhost:8080/"
        },
        "id": "9oW140df6VmE",
        "outputId": "4d9c5dc5-abe3-40c6-e000-07448142ddde"
      },
      "execution_count": 200,
      "outputs": [
        {
          "output_type": "execute_result",
          "data": {
            "text/plain": [
              "<tf.Tensor: shape=(10,), dtype=float32, numpy=\n",
              "array([ 70.,  74.,  78.,  82.,  86.,  90.,  94.,  98., 102., 106.],\n",
              "      dtype=float32)>"
            ]
          },
          "metadata": {},
          "execution_count": 200
        }
      ]
    },
    {
      "cell_type": "code",
      "source": [
        "# Let's get rid of that one dimension (10, 1) --> (10,)\n",
        "tf.squeeze(y_pred)"
      ],
      "metadata": {
        "colab": {
          "base_uri": "https://localhost:8080/"
        },
        "id": "q7LzeOENBj4S",
        "outputId": "6977ce87-e037-4fbb-b146-bd06396edbdc"
      },
      "execution_count": 201,
      "outputs": [
        {
          "output_type": "execute_result",
          "data": {
            "text/plain": [
              "<tf.Tensor: shape=(10,), dtype=float32, numpy=\n",
              "array([ 70.65224 ,  74.701645,  78.751045,  82.80046 ,  86.849884,\n",
              "        90.89929 ,  94.9487  ,  98.99812 , 103.04752 , 107.09693 ],\n",
              "      dtype=float32)>"
            ]
          },
          "metadata": {},
          "execution_count": 201
        }
      ]
    },
    {
      "cell_type": "code",
      "source": [
        "# Calculate the mean absolute error\n",
        "mae = tf.metrics.mean_absolute_error(y_true=y_test,\n",
        "                                     y_pred=tf.squeeze(y_pred))\n",
        "mae"
      ],
      "metadata": {
        "colab": {
          "base_uri": "https://localhost:8080/"
        },
        "id": "l15GOD7FBwzR",
        "outputId": "d5f573b5-ca2d-48ee-8f56-74b9d80ac441"
      },
      "execution_count": 202,
      "outputs": [
        {
          "output_type": "execute_result",
          "data": {
            "text/plain": [
              "<tf.Tensor: shape=(), dtype=float32, numpy=0.8745842>"
            ]
          },
          "metadata": {},
          "execution_count": 202
        }
      ]
    },
    {
      "cell_type": "code",
      "source": [
        "# Calculate the mean square error\n",
        "mse = tf.metrics.mean_squared_error(y_true=y_test,\n",
        "                                    y_pred=tf.squeeze(y_pred))\n",
        "mse"
      ],
      "metadata": {
        "colab": {
          "base_uri": "https://localhost:8080/"
        },
        "id": "oESgHXUHCZv6",
        "outputId": "fd4c4bfa-6959-4fbe-ea99-815b5d29bc02"
      },
      "execution_count": 203,
      "outputs": [
        {
          "output_type": "execute_result",
          "data": {
            "text/plain": [
              "<tf.Tensor: shape=(), dtype=float32, numpy=0.78503996>"
            ]
          },
          "metadata": {},
          "execution_count": 203
        }
      ]
    },
    {
      "cell_type": "code",
      "source": [
        "# Make some functions to reuse MAE and MSE\n",
        "def mae(y_true, y_pred):\n",
        "  return tf.metrics.mean_absolute_error(y_true=y_true,\n",
        "                                        y_pred=tf.squeeze(y_pred))\n",
        "\n",
        "def mse(y_true, y_pred):\n",
        "  return tf.metrics.mean_squared_error(y_true=y_true,\n",
        "                                       y_pred=tf.squeeze(y_pred))"
      ],
      "metadata": {
        "id": "-TluVL70Eu8q"
      },
      "execution_count": 204,
      "outputs": []
    },
    {
      "cell_type": "markdown",
      "source": [
        "### Running experiments to improve our model\n",
        "\n",
        "```\n",
        "Build a model -> fit it -> evaluate it -> tweak it -> fit it -> evaluate it -> tweak it -> fit it -> evaluate it ...\n",
        "```\n",
        "\n",
        "1. Get more data - get more examples for your model to train on (more opportunities to learn patterns or relationships between features and labels).\n",
        "2. Make your model larger (using a more complex model) - this might come in the form of more layers or more hidden units in each layer.\n",
        "3. Train for longer - give your model more of a chance to find patterns in the data.\n",
        "\n",
        "Let's do 3 modelling experiments:\n",
        "\n",
        "1. `model_1` - same as the original model, 1 layer, trained for 100 epochs.\n",
        "2. `model_2` - 2 layers, trained for 100 epochs\n",
        "3. `model_3` - 2 layers, trained for 500 epochs\n",
        "\n",
        "**Build `model_1`**"
      ],
      "metadata": {
        "id": "beMq45-gLgix"
      }
    },
    {
      "cell_type": "code",
      "source": [
        "# Set random seed\n",
        "tf.random.set_seed(42)\n",
        "\n",
        "# 1. Create the model\n",
        "model_1 = tf.keras.Sequential([\n",
        "    tf.keras.layers.Dense(1)\n",
        "])\n",
        "\n",
        "# 2. Compile the model\n",
        "model_1.compile(loss=tf.keras.losses.mae,\n",
        "                optimizer=tf.keras.optimizers.SGD(),\n",
        "                metrics=[\"mae\"])\n",
        "\n",
        "# 3. Fit the model\n",
        "model_1.fit(tf.expand_dims(X_train, axis=-1), y_train, epochs=100)"
      ],
      "metadata": {
        "colab": {
          "base_uri": "https://localhost:8080/"
        },
        "id": "VHkyljldPQbn",
        "outputId": "ec45fea7-00f2-4c78-adfb-876ac25360a4"
      },
      "execution_count": 205,
      "outputs": [
        {
          "output_type": "stream",
          "name": "stdout",
          "text": [
            "Epoch 1/100\n",
            "2/2 [==============================] - 0s 11ms/step - loss: 76.8997 - mae: 76.8997\n",
            "Epoch 2/100\n",
            "2/2 [==============================] - 0s 6ms/step - loss: 41.5490 - mae: 41.5490\n",
            "Epoch 3/100\n",
            "2/2 [==============================] - 0s 6ms/step - loss: 9.7192 - mae: 9.7192\n",
            "Epoch 4/100\n",
            "2/2 [==============================] - 0s 6ms/step - loss: 9.3629 - mae: 9.3629\n",
            "Epoch 5/100\n",
            "2/2 [==============================] - 0s 7ms/step - loss: 10.2370 - mae: 10.2370\n",
            "Epoch 6/100\n",
            "2/2 [==============================] - 0s 8ms/step - loss: 9.4947 - mae: 9.4947\n",
            "Epoch 7/100\n",
            "2/2 [==============================] - 0s 6ms/step - loss: 8.6272 - mae: 8.6272\n",
            "Epoch 8/100\n",
            "2/2 [==============================] - 0s 9ms/step - loss: 9.0701 - mae: 9.0701\n",
            "Epoch 9/100\n",
            "2/2 [==============================] - 0s 7ms/step - loss: 18.8526 - mae: 18.8526\n",
            "Epoch 10/100\n",
            "2/2 [==============================] - 0s 6ms/step - loss: 10.1861 - mae: 10.1861\n",
            "Epoch 11/100\n",
            "2/2 [==============================] - 0s 6ms/step - loss: 8.4394 - mae: 8.4394\n",
            "Epoch 12/100\n",
            "2/2 [==============================] - 0s 6ms/step - loss: 10.7257 - mae: 10.7257\n",
            "Epoch 13/100\n",
            "2/2 [==============================] - 0s 6ms/step - loss: 9.8361 - mae: 9.8361\n",
            "Epoch 14/100\n",
            "2/2 [==============================] - 0s 6ms/step - loss: 16.1146 - mae: 16.1146\n",
            "Epoch 15/100\n",
            "2/2 [==============================] - 0s 6ms/step - loss: 11.3527 - mae: 11.3527\n",
            "Epoch 16/100\n",
            "2/2 [==============================] - 0s 6ms/step - loss: 8.5816 - mae: 8.5816\n",
            "Epoch 17/100\n",
            "2/2 [==============================] - 0s 6ms/step - loss: 13.7082 - mae: 13.7082\n",
            "Epoch 18/100\n",
            "2/2 [==============================] - 0s 6ms/step - loss: 11.5488 - mae: 11.5488\n",
            "Epoch 19/100\n",
            "2/2 [==============================] - 0s 6ms/step - loss: 17.8550 - mae: 17.8550\n",
            "Epoch 20/100\n",
            "2/2 [==============================] - 0s 6ms/step - loss: 14.9902 - mae: 14.9902\n",
            "Epoch 21/100\n",
            "2/2 [==============================] - 0s 6ms/step - loss: 10.8723 - mae: 10.8723\n",
            "Epoch 22/100\n",
            "2/2 [==============================] - 0s 6ms/step - loss: 8.6249 - mae: 8.6249\n",
            "Epoch 23/100\n",
            "2/2 [==============================] - 0s 6ms/step - loss: 9.7249 - mae: 9.7249\n",
            "Epoch 24/100\n",
            "2/2 [==============================] - 0s 7ms/step - loss: 10.9840 - mae: 10.9840\n",
            "Epoch 25/100\n",
            "2/2 [==============================] - 0s 6ms/step - loss: 9.1857 - mae: 9.1857\n",
            "Epoch 26/100\n",
            "2/2 [==============================] - 0s 6ms/step - loss: 13.2220 - mae: 13.2220\n",
            "Epoch 27/100\n",
            "2/2 [==============================] - 0s 6ms/step - loss: 10.6924 - mae: 10.6924\n",
            "Epoch 28/100\n",
            "2/2 [==============================] - 0s 6ms/step - loss: 12.9163 - mae: 12.9163\n",
            "Epoch 29/100\n",
            "2/2 [==============================] - 0s 6ms/step - loss: 9.5330 - mae: 9.5330\n",
            "Epoch 30/100\n",
            "2/2 [==============================] - 0s 6ms/step - loss: 16.4429 - mae: 16.4429\n",
            "Epoch 31/100\n",
            "2/2 [==============================] - 0s 6ms/step - loss: 23.5664 - mae: 23.5664\n",
            "Epoch 32/100\n",
            "2/2 [==============================] - 0s 9ms/step - loss: 7.6284 - mae: 7.6284\n",
            "Epoch 33/100\n",
            "2/2 [==============================] - 0s 6ms/step - loss: 9.3239 - mae: 9.3239\n",
            "Epoch 34/100\n",
            "2/2 [==============================] - 0s 6ms/step - loss: 13.6864 - mae: 13.6864\n",
            "Epoch 35/100\n",
            "2/2 [==============================] - 0s 6ms/step - loss: 11.1821 - mae: 11.1821\n",
            "Epoch 36/100\n",
            "2/2 [==============================] - 0s 7ms/step - loss: 13.4067 - mae: 13.4067\n",
            "Epoch 37/100\n",
            "2/2 [==============================] - 0s 7ms/step - loss: 9.4683 - mae: 9.4683\n",
            "Epoch 38/100\n",
            "2/2 [==============================] - 0s 6ms/step - loss: 10.1199 - mae: 10.1199\n",
            "Epoch 39/100\n",
            "2/2 [==============================] - 0s 6ms/step - loss: 8.9954 - mae: 8.9954\n",
            "Epoch 40/100\n",
            "2/2 [==============================] - 0s 7ms/step - loss: 9.6247 - mae: 9.6247\n",
            "Epoch 41/100\n",
            "2/2 [==============================] - 0s 5ms/step - loss: 10.5854 - mae: 10.5854\n",
            "Epoch 42/100\n",
            "2/2 [==============================] - 0s 6ms/step - loss: 10.6399 - mae: 10.6399\n",
            "Epoch 43/100\n",
            "2/2 [==============================] - 0s 7ms/step - loss: 7.2294 - mae: 7.2294\n",
            "Epoch 44/100\n",
            "2/2 [==============================] - 0s 7ms/step - loss: 8.0360 - mae: 8.0360\n",
            "Epoch 45/100\n",
            "2/2 [==============================] - 0s 6ms/step - loss: 9.8401 - mae: 9.8401\n",
            "Epoch 46/100\n",
            "2/2 [==============================] - 0s 7ms/step - loss: 8.9199 - mae: 8.9199\n",
            "Epoch 47/100\n",
            "2/2 [==============================] - 0s 9ms/step - loss: 7.5838 - mae: 7.5838\n",
            "Epoch 48/100\n",
            "2/2 [==============================] - 0s 6ms/step - loss: 8.5445 - mae: 8.5445\n",
            "Epoch 49/100\n",
            "2/2 [==============================] - 0s 6ms/step - loss: 10.0525 - mae: 10.0525\n",
            "Epoch 50/100\n",
            "2/2 [==============================] - 0s 13ms/step - loss: 8.9899 - mae: 8.9899\n",
            "Epoch 51/100\n",
            "2/2 [==============================] - 0s 7ms/step - loss: 10.7302 - mae: 10.7302\n",
            "Epoch 52/100\n",
            "2/2 [==============================] - 0s 6ms/step - loss: 15.2700 - mae: 15.2700\n",
            "Epoch 53/100\n",
            "2/2 [==============================] - 0s 7ms/step - loss: 14.3001 - mae: 14.3001\n",
            "Epoch 54/100\n",
            "2/2 [==============================] - 0s 6ms/step - loss: 21.5423 - mae: 21.5423\n",
            "Epoch 55/100\n",
            "2/2 [==============================] - 0s 6ms/step - loss: 16.0659 - mae: 16.0659\n",
            "Epoch 56/100\n",
            "2/2 [==============================] - 0s 7ms/step - loss: 10.2519 - mae: 10.2519\n",
            "Epoch 57/100\n",
            "2/2 [==============================] - 0s 7ms/step - loss: 9.8164 - mae: 9.8164\n",
            "Epoch 58/100\n",
            "2/2 [==============================] - 0s 7ms/step - loss: 9.0987 - mae: 9.0987\n",
            "Epoch 59/100\n",
            "2/2 [==============================] - 0s 7ms/step - loss: 8.3007 - mae: 8.3007\n",
            "Epoch 60/100\n",
            "2/2 [==============================] - 0s 6ms/step - loss: 9.3943 - mae: 9.3943\n",
            "Epoch 61/100\n",
            "2/2 [==============================] - 0s 7ms/step - loss: 11.2263 - mae: 11.2263\n",
            "Epoch 62/100\n",
            "2/2 [==============================] - 0s 7ms/step - loss: 11.9566 - mae: 11.9566\n",
            "Epoch 63/100\n",
            "2/2 [==============================] - 0s 6ms/step - loss: 7.9111 - mae: 7.9111\n",
            "Epoch 64/100\n",
            "2/2 [==============================] - 0s 6ms/step - loss: 14.2661 - mae: 14.2661\n",
            "Epoch 65/100\n",
            "2/2 [==============================] - 0s 6ms/step - loss: 10.5817 - mae: 10.5817\n",
            "Epoch 66/100\n",
            "2/2 [==============================] - 0s 7ms/step - loss: 11.2676 - mae: 11.2676\n",
            "Epoch 67/100\n",
            "2/2 [==============================] - 0s 7ms/step - loss: 7.0715 - mae: 7.0715\n",
            "Epoch 68/100\n",
            "2/2 [==============================] - 0s 7ms/step - loss: 8.9117 - mae: 8.9117\n",
            "Epoch 69/100\n",
            "2/2 [==============================] - 0s 7ms/step - loss: 10.4815 - mae: 10.4815\n",
            "Epoch 70/100\n",
            "2/2 [==============================] - 0s 7ms/step - loss: 7.8683 - mae: 7.8683\n",
            "Epoch 71/100\n",
            "2/2 [==============================] - 0s 7ms/step - loss: 11.3827 - mae: 11.3827\n",
            "Epoch 72/100\n",
            "2/2 [==============================] - 0s 6ms/step - loss: 9.5696 - mae: 9.5696\n",
            "Epoch 73/100\n",
            "2/2 [==============================] - 0s 7ms/step - loss: 11.6807 - mae: 11.6807\n",
            "Epoch 74/100\n",
            "2/2 [==============================] - 0s 7ms/step - loss: 10.7363 - mae: 10.7363\n",
            "Epoch 75/100\n",
            "2/2 [==============================] - 0s 7ms/step - loss: 9.5689 - mae: 9.5689\n",
            "Epoch 76/100\n",
            "2/2 [==============================] - 0s 6ms/step - loss: 11.0180 - mae: 11.0180\n",
            "Epoch 77/100\n",
            "2/2 [==============================] - 0s 6ms/step - loss: 11.0903 - mae: 11.0903\n",
            "Epoch 78/100\n",
            "2/2 [==============================] - 0s 7ms/step - loss: 11.5822 - mae: 11.5822\n",
            "Epoch 79/100\n",
            "2/2 [==============================] - 0s 6ms/step - loss: 15.6249 - mae: 15.6249\n",
            "Epoch 80/100\n",
            "2/2 [==============================] - 0s 14ms/step - loss: 11.5882 - mae: 11.5882\n",
            "Epoch 81/100\n",
            "2/2 [==============================] - 0s 6ms/step - loss: 9.4830 - mae: 9.4830\n",
            "Epoch 82/100\n",
            "2/2 [==============================] - 0s 6ms/step - loss: 12.5767 - mae: 12.5767\n",
            "Epoch 83/100\n",
            "2/2 [==============================] - 0s 6ms/step - loss: 8.1771 - mae: 8.1771\n",
            "Epoch 84/100\n",
            "2/2 [==============================] - 0s 6ms/step - loss: 7.5524 - mae: 7.5524\n",
            "Epoch 85/100\n",
            "2/2 [==============================] - 0s 6ms/step - loss: 9.7372 - mae: 9.7372\n",
            "Epoch 86/100\n",
            "2/2 [==============================] - 0s 6ms/step - loss: 9.0461 - mae: 9.0461\n",
            "Epoch 87/100\n",
            "2/2 [==============================] - 0s 6ms/step - loss: 11.6781 - mae: 11.6781\n",
            "Epoch 88/100\n",
            "2/2 [==============================] - 0s 6ms/step - loss: 10.2778 - mae: 10.2778\n",
            "Epoch 89/100\n",
            "2/2 [==============================] - 0s 6ms/step - loss: 6.7554 - mae: 6.7554\n",
            "Epoch 90/100\n",
            "2/2 [==============================] - 0s 6ms/step - loss: 8.1156 - mae: 8.1156\n",
            "Epoch 91/100\n",
            "2/2 [==============================] - 0s 7ms/step - loss: 6.7576 - mae: 6.7576\n",
            "Epoch 92/100\n",
            "2/2 [==============================] - 0s 6ms/step - loss: 10.2067 - mae: 10.2067\n",
            "Epoch 93/100\n",
            "2/2 [==============================] - 0s 6ms/step - loss: 7.5833 - mae: 7.5833\n",
            "Epoch 94/100\n",
            "2/2 [==============================] - 0s 6ms/step - loss: 9.2122 - mae: 9.2122\n",
            "Epoch 95/100\n",
            "2/2 [==============================] - 0s 6ms/step - loss: 10.7665 - mae: 10.7665\n",
            "Epoch 96/100\n",
            "2/2 [==============================] - 0s 6ms/step - loss: 10.3804 - mae: 10.3804\n",
            "Epoch 97/100\n",
            "2/2 [==============================] - 0s 6ms/step - loss: 7.6417 - mae: 7.6417\n",
            "Epoch 98/100\n",
            "2/2 [==============================] - 0s 6ms/step - loss: 8.5843 - mae: 8.5843\n",
            "Epoch 99/100\n",
            "2/2 [==============================] - 0s 7ms/step - loss: 9.3560 - mae: 9.3560\n",
            "Epoch 100/100\n",
            "2/2 [==============================] - 0s 6ms/step - loss: 8.8195 - mae: 8.8195\n"
          ]
        },
        {
          "output_type": "execute_result",
          "data": {
            "text/plain": [
              "<keras.src.callbacks.History at 0x7a092402db40>"
            ]
          },
          "metadata": {},
          "execution_count": 205
        }
      ]
    },
    {
      "cell_type": "code",
      "source": [
        "# Make and plot predictions for model_1\n",
        "y_preds_1 = model_1.predict(X_test)\n",
        "plot_predictions(predictions=y_preds_1)"
      ],
      "metadata": {
        "colab": {
          "base_uri": "https://localhost:8080/",
          "height": 617
        },
        "id": "HoA45gdqQrmf",
        "outputId": "1e9db97d-c162-42f7-cab1-65eb247e66fe"
      },
      "execution_count": 206,
      "outputs": [
        {
          "output_type": "stream",
          "name": "stdout",
          "text": [
            "1/1 [==============================] - 0s 44ms/step\n"
          ]
        },
        {
          "output_type": "display_data",
          "data": {
            "text/plain": [
              "<Figure size 1000x700 with 1 Axes>"
            ],
            "image/png": "[encoded data removed]"
          },
          "metadata": {}
        }
      ]
    },
    {
      "cell_type": "code",
      "source": [
        "# Calculate model_1 evaluation metrics\n",
        "mae_1 = mae(y_test, y_preds_1)\n",
        "mse_1 = mse(y_test, y_preds_1)\n",
        "mae_1, mse_1"
      ],
      "metadata": {
        "colab": {
          "base_uri": "https://localhost:8080/"
        },
        "id": "PnXaeWFYVD__",
        "outputId": "6104f266-dfd1-462d-8ffd-f5254c50de7f"
      },
      "execution_count": 207,
      "outputs": [
        {
          "output_type": "execute_result",
          "data": {
            "text/plain": [
              "(<tf.Tensor: shape=(), dtype=float32, numpy=8.356343>,\n",
              " <tf.Tensor: shape=(), dtype=float32, numpy=76.14726>)"
            ]
          },
          "metadata": {},
          "execution_count": 207
        }
      ]
    },
    {
      "cell_type": "markdown",
      "source": [
        "**Build `model_2`**\n",
        "\n",
        "* 2 dense layers, trained for 100 epochs"
      ],
      "metadata": {
        "id": "uN-gwUoqVog3"
      }
    },
    {
      "cell_type": "code",
      "source": [
        "X_train.ndim, y_train.ndim"
      ],
      "metadata": {
        "colab": {
          "base_uri": "https://localhost:8080/"
        },
        "id": "P6_9KXkwceuO",
        "outputId": "2744e6cb-066a-4484-9fed-490dd70e6cd3"
      },
      "execution_count": 208,
      "outputs": [
        {
          "output_type": "execute_result",
          "data": {
            "text/plain": [
              "(1, 1)"
            ]
          },
          "metadata": {},
          "execution_count": 208
        }
      ]
    },
    {
      "cell_type": "code",
      "source": [
        "# set random seed\n",
        "tf.random.set_seed(42)\n",
        "\n",
        "# 1. Create the model\n",
        "model_2 = tf.keras.Sequential([\n",
        "    tf.keras.layers.Dense(10),\n",
        "    tf.keras.layers.Dense(1)\n",
        "])\n",
        "\n",
        "# 2. Compile the model\n",
        "model_2.compile(loss=tf.keras.losses.mae,\n",
        "                optimizer=tf.keras.optimizers.SGD(),\n",
        "                metrics=[\"mse\"])\n",
        "\n",
        "# 3. Fit the model\n",
        "model_2.fit(tf.expand_dims(X_train, axis=-1), y_train, epochs=100)"
      ],
      "metadata": {
        "colab": {
          "base_uri": "https://localhost:8080/"
        },
        "id": "i-hfR-P6c0hx",
        "outputId": "835650c1-6f72-45ca-ad67-4767edd01311"
      },
      "execution_count": 210,
      "outputs": [
        {
          "output_type": "stream",
          "name": "stdout",
          "text": [
            "Epoch 1/100\n",
            "2/2 [==============================] - 0s 10ms/step - loss: 43.0010 - mse: 2562.7249\n",
            "Epoch 2/100\n",
            "2/2 [==============================] - 0s 8ms/step - loss: 32.3435 - mse: 1377.7787\n",
            "Epoch 3/100\n",
            "2/2 [==============================] - 0s 6ms/step - loss: 36.3466 - mse: 2030.2386\n",
            "Epoch 4/100\n",
            "2/2 [==============================] - 0s 7ms/step - loss: 32.1125 - mse: 1539.5476\n",
            "Epoch 5/100\n",
            "2/2 [==============================] - 0s 6ms/step - loss: 16.7316 - mse: 373.1007\n",
            "Epoch 6/100\n",
            "2/2 [==============================] - 0s 6ms/step - loss: 11.3490 - mse: 144.6898\n",
            "Epoch 7/100\n",
            "2/2 [==============================] - 0s 6ms/step - loss: 12.4030 - mse: 200.0567\n",
            "Epoch 8/100\n",
            "2/2 [==============================] - 0s 6ms/step - loss: 11.0022 - mse: 142.6814\n",
            "Epoch 9/100\n",
            "2/2 [==============================] - 0s 6ms/step - loss: 39.0363 - mse: 2373.2295\n",
            "Epoch 10/100\n",
            "2/2 [==============================] - 0s 6ms/step - loss: 26.6148 - mse: 995.7272\n",
            "Epoch 11/100\n",
            "2/2 [==============================] - 0s 8ms/step - loss: 11.8101 - mse: 218.8609\n",
            "Epoch 12/100\n",
            "2/2 [==============================] - 0s 8ms/step - loss: 23.6004 - mse: 789.5055\n",
            "Epoch 13/100\n",
            "2/2 [==============================] - 0s 6ms/step - loss: 21.2195 - mse: 642.4058\n",
            "Epoch 14/100\n",
            "2/2 [==============================] - 0s 6ms/step - loss: 23.6890 - mse: 860.8219\n",
            "Epoch 15/100\n",
            "2/2 [==============================] - 0s 6ms/step - loss: 15.7641 - mse: 338.2399\n",
            "Epoch 16/100\n",
            "2/2 [==============================] - 0s 6ms/step - loss: 10.4387 - mse: 124.9336\n",
            "Epoch 17/100\n",
            "2/2 [==============================] - 0s 6ms/step - loss: 19.6838 - mse: 527.2084\n",
            "Epoch 18/100\n",
            "2/2 [==============================] - 0s 6ms/step - loss: 13.3127 - mse: 277.4234\n",
            "Epoch 19/100\n",
            "2/2 [==============================] - 0s 6ms/step - loss: 16.0960 - mse: 414.0701\n",
            "Epoch 20/100\n",
            "2/2 [==============================] - 0s 6ms/step - loss: 10.2179 - mse: 153.8067\n",
            "Epoch 21/100\n",
            "2/2 [==============================] - 0s 6ms/step - loss: 13.7725 - mse: 250.6605\n",
            "Epoch 22/100\n",
            "2/2 [==============================] - 0s 7ms/step - loss: 22.0202 - mse: 687.9551\n",
            "Epoch 23/100\n",
            "2/2 [==============================] - 0s 7ms/step - loss: 10.4472 - mse: 166.9662\n",
            "Epoch 24/100\n",
            "2/2 [==============================] - 0s 6ms/step - loss: 15.7284 - mse: 332.2155\n",
            "Epoch 25/100\n",
            "2/2 [==============================] - 0s 6ms/step - loss: 14.8877 - mse: 292.0583\n",
            "Epoch 26/100\n",
            "2/2 [==============================] - 0s 5ms/step - loss: 19.4959 - mse: 576.3926\n",
            "Epoch 27/100\n",
            "2/2 [==============================] - 0s 6ms/step - loss: 11.3742 - mse: 162.7846\n",
            "Epoch 28/100\n",
            "2/2 [==============================] - 0s 6ms/step - loss: 28.6072 - mse: 1328.0143\n",
            "Epoch 29/100\n",
            "2/2 [==============================] - 0s 6ms/step - loss: 9.2474 - mse: 95.9520\n",
            "Epoch 30/100\n",
            "2/2 [==============================] - 0s 6ms/step - loss: 29.4481 - mse: 1559.7794\n",
            "Epoch 31/100\n",
            "2/2 [==============================] - 0s 6ms/step - loss: 53.3786 - mse: 5100.8237\n",
            "Epoch 32/100\n",
            "2/2 [==============================] - 0s 6ms/step - loss: 9.4782 - mse: 100.4233\n",
            "Epoch 33/100\n",
            "2/2 [==============================] - 0s 7ms/step - loss: 12.0552 - mse: 174.1649\n",
            "Epoch 34/100\n",
            "2/2 [==============================] - 0s 7ms/step - loss: 23.3224 - mse: 825.9717\n",
            "Epoch 35/100\n",
            "2/2 [==============================] - 0s 6ms/step - loss: 11.8350 - mse: 217.7458\n",
            "Epoch 36/100\n",
            "2/2 [==============================] - 0s 7ms/step - loss: 21.7992 - mse: 677.5690\n",
            "Epoch 37/100\n",
            "2/2 [==============================] - 0s 6ms/step - loss: 11.1468 - mse: 145.4158\n",
            "Epoch 38/100\n",
            "2/2 [==============================] - 0s 6ms/step - loss: 12.7503 - mse: 235.9836\n",
            "Epoch 39/100\n",
            "2/2 [==============================] - 0s 6ms/step - loss: 11.6117 - mse: 193.6165\n",
            "Epoch 40/100\n",
            "2/2 [==============================] - 0s 7ms/step - loss: 19.2956 - mse: 535.6083\n",
            "Epoch 41/100\n",
            "2/2 [==============================] - 0s 7ms/step - loss: 10.9848 - mse: 179.9278\n",
            "Epoch 42/100\n",
            "2/2 [==============================] - 0s 7ms/step - loss: 9.3098 - mse: 115.0636\n",
            "Epoch 43/100\n",
            "2/2 [==============================] - 0s 7ms/step - loss: 9.5971 - mse: 110.8721\n",
            "Epoch 44/100\n",
            "2/2 [==============================] - 0s 8ms/step - loss: 28.0255 - mse: 1259.9164\n",
            "Epoch 45/100\n",
            "2/2 [==============================] - 0s 6ms/step - loss: 11.2953 - mse: 147.2778\n",
            "Epoch 46/100\n",
            "2/2 [==============================] - 0s 7ms/step - loss: 14.0912 - mse: 289.9176\n",
            "Epoch 47/100\n",
            "2/2 [==============================] - 0s 6ms/step - loss: 13.4954 - mse: 256.4604\n",
            "Epoch 48/100\n",
            "2/2 [==============================] - 0s 6ms/step - loss: 17.3286 - mse: 407.3657\n",
            "Epoch 49/100\n",
            "2/2 [==============================] - 0s 6ms/step - loss: 9.5251 - mse: 98.7963\n",
            "Epoch 50/100\n",
            "2/2 [==============================] - 0s 6ms/step - loss: 13.7214 - mse: 254.3745\n",
            "Epoch 51/100\n",
            "2/2 [==============================] - 0s 6ms/step - loss: 11.5670 - mse: 153.2859\n",
            "Epoch 52/100\n",
            "2/2 [==============================] - 0s 6ms/step - loss: 30.2579 - mse: 1579.3040\n",
            "Epoch 53/100\n",
            "2/2 [==============================] - 0s 7ms/step - loss: 13.7453 - mse: 279.7339\n",
            "Epoch 54/100\n",
            "2/2 [==============================] - 0s 6ms/step - loss: 26.4720 - mse: 1075.1409\n",
            "Epoch 55/100\n",
            "2/2 [==============================] - 0s 6ms/step - loss: 26.0660 - mse: 1031.1340\n",
            "Epoch 56/100\n",
            "2/2 [==============================] - 0s 6ms/step - loss: 11.2511 - mse: 171.4866\n",
            "Epoch 57/100\n",
            "2/2 [==============================] - 0s 6ms/step - loss: 13.2345 - mse: 219.1836\n",
            "Epoch 58/100\n",
            "2/2 [==============================] - 0s 6ms/step - loss: 9.8799 - mse: 107.7458\n",
            "Epoch 59/100\n",
            "2/2 [==============================] - 0s 5ms/step - loss: 13.4295 - mse: 256.2334\n",
            "Epoch 60/100\n",
            "2/2 [==============================] - 0s 6ms/step - loss: 10.9474 - mse: 141.9981\n",
            "Epoch 61/100\n",
            "2/2 [==============================] - 0s 6ms/step - loss: 13.5765 - mse: 247.3256\n",
            "Epoch 62/100\n",
            "2/2 [==============================] - 0s 8ms/step - loss: 17.9133 - mse: 488.5702\n",
            "Epoch 63/100\n",
            "2/2 [==============================] - 0s 6ms/step - loss: 8.7452 - mse: 91.8723\n",
            "Epoch 64/100\n",
            "2/2 [==============================] - 0s 6ms/step - loss: 16.1656 - mse: 374.6612\n",
            "Epoch 65/100\n",
            "2/2 [==============================] - 0s 6ms/step - loss: 10.7561 - mse: 147.3145\n",
            "Epoch 66/100\n",
            "2/2 [==============================] - 0s 6ms/step - loss: 22.2285 - mse: 732.2609\n",
            "Epoch 67/100\n",
            "2/2 [==============================] - 0s 6ms/step - loss: 10.2808 - mse: 121.5356\n",
            "Epoch 68/100\n",
            "2/2 [==============================] - 0s 6ms/step - loss: 13.4951 - mse: 270.2830\n",
            "Epoch 69/100\n",
            "2/2 [==============================] - 0s 6ms/step - loss: 11.4500 - mse: 164.0653\n",
            "Epoch 70/100\n",
            "2/2 [==============================] - 0s 9ms/step - loss: 13.6373 - mse: 246.9044\n",
            "Epoch 71/100\n",
            "2/2 [==============================] - 0s 7ms/step - loss: 15.6582 - mse: 348.3983\n",
            "Epoch 72/100\n",
            "2/2 [==============================] - 0s 8ms/step - loss: 11.8693 - mse: 169.1414\n",
            "Epoch 73/100\n",
            "2/2 [==============================] - 0s 8ms/step - loss: 16.6565 - mse: 373.9198\n",
            "Epoch 74/100\n",
            "2/2 [==============================] - 0s 8ms/step - loss: 24.2036 - mse: 922.2767\n",
            "Epoch 75/100\n",
            "2/2 [==============================] - 0s 7ms/step - loss: 9.6473 - mse: 149.0205\n",
            "Epoch 76/100\n",
            "2/2 [==============================] - 0s 7ms/step - loss: 12.5024 - mse: 190.5181\n",
            "Epoch 77/100\n",
            "2/2 [==============================] - 0s 7ms/step - loss: 16.7596 - mse: 435.7640\n",
            "Epoch 78/100\n",
            "2/2 [==============================] - 0s 6ms/step - loss: 9.0919 - mse: 96.9266\n",
            "Epoch 79/100\n",
            "2/2 [==============================] - 0s 6ms/step - loss: 24.0919 - mse: 874.4403\n",
            "Epoch 80/100\n",
            "2/2 [==============================] - 0s 7ms/step - loss: 26.8976 - mse: 1118.2681\n",
            "Epoch 81/100\n",
            "2/2 [==============================] - 0s 6ms/step - loss: 11.7566 - mse: 174.1132\n",
            "Epoch 82/100\n",
            "2/2 [==============================] - 0s 6ms/step - loss: 11.9892 - mse: 211.4679\n",
            "Epoch 83/100\n",
            "2/2 [==============================] - 0s 6ms/step - loss: 17.3757 - mse: 393.2660\n",
            "Epoch 84/100\n",
            "2/2 [==============================] - 0s 6ms/step - loss: 7.2700 - mse: 73.4742\n",
            "Epoch 85/100\n",
            "2/2 [==============================] - 0s 7ms/step - loss: 14.9348 - mse: 311.6346\n",
            "Epoch 86/100\n",
            "2/2 [==============================] - 0s 7ms/step - loss: 15.2640 - mse: 314.9373\n",
            "Epoch 87/100\n",
            "2/2 [==============================] - 0s 7ms/step - loss: 19.0562 - mse: 518.8433\n",
            "Epoch 88/100\n",
            "2/2 [==============================] - 0s 9ms/step - loss: 29.9657 - mse: 1300.4460\n",
            "Epoch 89/100\n",
            "2/2 [==============================] - 0s 6ms/step - loss: 10.2116 - mse: 124.5339\n",
            "Epoch 90/100\n",
            "2/2 [==============================] - 0s 7ms/step - loss: 21.6360 - mse: 671.0611\n",
            "Epoch 91/100\n",
            "2/2 [==============================] - 0s 6ms/step - loss: 10.6137 - mse: 161.6766\n",
            "Epoch 92/100\n",
            "2/2 [==============================] - 0s 6ms/step - loss: 18.4957 - mse: 469.3482\n",
            "Epoch 93/100\n",
            "2/2 [==============================] - 0s 6ms/step - loss: 7.4362 - mse: 81.6379\n",
            "Epoch 94/100\n",
            "2/2 [==============================] - 0s 10ms/step - loss: 17.8223 - mse: 450.1277\n",
            "Epoch 95/100\n",
            "2/2 [==============================] - 0s 6ms/step - loss: 11.1598 - mse: 166.3140\n",
            "Epoch 96/100\n",
            "2/2 [==============================] - 0s 6ms/step - loss: 19.5189 - mse: 514.8582\n",
            "Epoch 97/100\n",
            "2/2 [==============================] - 0s 6ms/step - loss: 12.5414 - mse: 226.0630\n",
            "Epoch 98/100\n",
            "2/2 [==============================] - 0s 6ms/step - loss: 10.3248 - mse: 137.6499\n",
            "Epoch 99/100\n",
            "2/2 [==============================] - 0s 6ms/step - loss: 13.8670 - mse: 264.5130\n",
            "Epoch 100/100\n",
            "2/2 [==============================] - 0s 6ms/step - loss: 20.1825 - mse: 605.9481\n"
          ]
        },
        {
          "output_type": "execute_result",
          "data": {
            "text/plain": [
              "<keras.src.callbacks.History at 0x7a092428f610>"
            ]
          },
          "metadata": {},
          "execution_count": 210
        }
      ]
    },
    {
      "cell_type": "code",
      "source": [
        "# Make and plot predictions for model_2\n",
        "y_preds_2 = model_2.predict(X_test)\n",
        "plot_predictions(predictions=y_preds_2)"
      ],
      "metadata": {
        "colab": {
          "base_uri": "https://localhost:8080/",
          "height": 617
        },
        "id": "N4dQuGTMfJt5",
        "outputId": "30069447-0617-45a0-f423-24b66776f4cf"
      },
      "execution_count": 211,
      "outputs": [
        {
          "output_type": "stream",
          "name": "stdout",
          "text": [
            "1/1 [==============================] - 0s 52ms/step\n"
          ]
        },
        {
          "output_type": "display_data",
          "data": {
            "text/plain": [
              "<Figure size 1000x700 with 1 Axes>"
            ],
            "image/png": "[encoded data removed]"
          },
          "metadata": {}
        }
      ]
    },
    {
      "cell_type": "code",
      "source": [
        "# Calculate model_2 evaluation metrics\n",
        "mae_2 = mae(y_test, y_preds_2)\n",
        "mse_2 = mse(y_test, y_preds_2)\n",
        "mae_2, mse_2"
      ],
      "metadata": {
        "colab": {
          "base_uri": "https://localhost:8080/"
        },
        "id": "IcBBrXF9c1Xl",
        "outputId": "5fcd1f18-8af0-4545-a60a-238160f1540b"
      },
      "execution_count": 213,
      "outputs": [
        {
          "output_type": "execute_result",
          "data": {
            "text/plain": [
              "(<tf.Tensor: shape=(), dtype=float32, numpy=3.0324898>,\n",
              " <tf.Tensor: shape=(), dtype=float32, numpy=11.976872>)"
            ]
          },
          "metadata": {},
          "execution_count": 213
        }
      ]
    },
    {
      "cell_type": "markdown",
      "source": [
        "**Build `model_3`**\n",
        "\n",
        "* 2 layers, trained for 500 epochs"
      ],
      "metadata": {
        "id": "umnL9NxriKeV"
      }
    },
    {
      "cell_type": "code",
      "source": [
        "# Set the random seed\n",
        "tf.random.set_seed(42)\n",
        "\n",
        "# 1. Create a model\n",
        "model_3 = tf.keras.Sequential([\n",
        "    tf.keras.layers.Dense(10),\n",
        "    tf.keras.layers.Dense(1)\n",
        "])\n",
        "\n",
        "# 2. Compile the model\n",
        "model_3.compile(loss=tf.keras.losses.mae,\n",
        "                optimizer=tf.keras.optimizers.SGD(),\n",
        "                metrics=[\"mae\"])\n",
        "\n",
        "# 3. Fit the model\n",
        "model_3.fit(tf.expand_dims(X_test, axis=-1), y_test, epochs=500)"
      ],
      "metadata": {
        "id": "THpMKZac0Q3S",
        "outputId": "b58a61cf-bb78-47b3-acf3-2415213185a5",
        "colab": {
          "base_uri": "https://localhost:8080/"
        }
      },
      "execution_count": 216,
      "outputs": [
        {
          "output_type": "stream",
          "name": "stdout",
          "text": [
            "Epoch 1/500\n",
            "1/1 [==============================] - 1s 969ms/step - loss: 203.1493 - mae: 203.1493\n",
            "Epoch 2/500\n",
            "1/1 [==============================] - 0s 13ms/step - loss: 19.4593 - mae: 19.4593\n",
            "Epoch 3/500\n",
            "1/1 [==============================] - 0s 13ms/step - loss: 150.1325 - mae: 150.1325\n",
            "Epoch 4/500\n",
            "1/1 [==============================] - 0s 13ms/step - loss: 77.4861 - mae: 77.4861\n",
            "Epoch 5/500\n",
            "1/1 [==============================] - 0s 13ms/step - loss: 51.4840 - mae: 51.4840\n",
            "Epoch 6/500\n",
            "1/1 [==============================] - 0s 14ms/step - loss: 27.8278 - mae: 27.8278\n",
            "Epoch 7/500\n",
            "1/1 [==============================] - 0s 14ms/step - loss: 82.3862 - mae: 82.3862\n",
            "Epoch 8/500\n",
            "1/1 [==============================] - 0s 14ms/step - loss: 70.2214 - mae: 70.2214\n",
            "Epoch 9/500\n",
            "1/1 [==============================] - 0s 14ms/step - loss: 31.7202 - mae: 31.7202\n",
            "Epoch 10/500\n",
            "1/1 [==============================] - 0s 13ms/step - loss: 90.2532 - mae: 90.2532\n",
            "Epoch 11/500\n",
            "1/1 [==============================] - 0s 13ms/step - loss: 79.3400 - mae: 79.3400\n",
            "Epoch 12/500\n",
            "1/1 [==============================] - 0s 13ms/step - loss: 60.6364 - mae: 60.6364\n",
            "Epoch 13/500\n",
            "1/1 [==============================] - 0s 15ms/step - loss: 1.5366 - mae: 1.5366\n",
            "Epoch 14/500\n",
            "1/1 [==============================] - 0s 18ms/step - loss: 82.6782 - mae: 82.6782\n",
            "Epoch 15/500\n",
            "1/1 [==============================] - 0s 16ms/step - loss: 79.6912 - mae: 79.6912\n",
            "Epoch 16/500\n",
            "1/1 [==============================] - 0s 16ms/step - loss: 61.7839 - mae: 61.7839\n",
            "Epoch 17/500\n",
            "1/1 [==============================] - 0s 14ms/step - loss: 5.0640 - mae: 5.0640\n",
            "Epoch 18/500\n",
            "1/1 [==============================] - 0s 17ms/step - loss: 174.6386 - mae: 174.6386\n",
            "Epoch 19/500\n",
            "1/1 [==============================] - 0s 13ms/step - loss: 75.2239 - mae: 75.2239\n",
            "Epoch 20/500\n",
            "1/1 [==============================] - 0s 13ms/step - loss: 47.6720 - mae: 47.6720\n",
            "Epoch 21/500\n",
            "1/1 [==============================] - 0s 15ms/step - loss: 39.6080 - mae: 39.6080\n",
            "Epoch 22/500\n",
            "1/1 [==============================] - 0s 15ms/step - loss: 81.7460 - mae: 81.7460\n",
            "Epoch 23/500\n",
            "1/1 [==============================] - 0s 12ms/step - loss: 68.3599 - mae: 68.3599\n",
            "Epoch 24/500\n",
            "1/1 [==============================] - 0s 13ms/step - loss: 25.9662 - mae: 25.9662\n",
            "Epoch 25/500\n",
            "1/1 [==============================] - 0s 11ms/step - loss: 108.3423 - mae: 108.3423\n",
            "Epoch 26/500\n",
            "1/1 [==============================] - 0s 11ms/step - loss: 78.4022 - mae: 78.4022\n",
            "Epoch 27/500\n",
            "1/1 [==============================] - 0s 14ms/step - loss: 57.8080 - mae: 57.8080\n",
            "Epoch 28/500\n",
            "1/1 [==============================] - 0s 12ms/step - loss: 7.4258 - mae: 7.4258\n",
            "Epoch 29/500\n",
            "1/1 [==============================] - 0s 12ms/step - loss: 83.2742 - mae: 83.2742\n",
            "Epoch 30/500\n",
            "1/1 [==============================] - 0s 14ms/step - loss: 73.2672 - mae: 73.2672\n",
            "Epoch 31/500\n",
            "1/1 [==============================] - 0s 15ms/step - loss: 41.5805 - mae: 41.5805\n",
            "Epoch 32/500\n",
            "1/1 [==============================] - 0s 14ms/step - loss: 58.8013 - mae: 58.8013\n",
            "Epoch 33/500\n",
            "1/1 [==============================] - 0s 13ms/step - loss: 80.7700 - mae: 80.7700\n",
            "Epoch 34/500\n",
            "1/1 [==============================] - 0s 15ms/step - loss: 65.3758 - mae: 65.3758\n",
            "Epoch 35/500\n",
            "1/1 [==============================] - 0s 12ms/step - loss: 16.6190 - mae: 16.6190\n",
            "Epoch 36/500\n",
            "1/1 [==============================] - 0s 11ms/step - loss: 137.8516 - mae: 137.8516\n",
            "Epoch 37/500\n",
            "1/1 [==============================] - 0s 13ms/step - loss: 76.9272 - mae: 76.9272\n",
            "Epoch 38/500\n",
            "1/1 [==============================] - 0s 12ms/step - loss: 53.2427 - mae: 53.2427\n",
            "Epoch 39/500\n",
            "1/1 [==============================] - 0s 12ms/step - loss: 21.7831 - mae: 21.7831\n",
            "Epoch 40/500\n",
            "1/1 [==============================] - 0s 12ms/step - loss: 82.5321 - mae: 82.5321\n",
            "Epoch 41/500\n",
            "1/1 [==============================] - 0s 10ms/step - loss: 71.0243 - mae: 71.0243\n",
            "Epoch 42/500\n",
            "1/1 [==============================] - 0s 10ms/step - loss: 34.5819 - mae: 34.5819\n",
            "Epoch 43/500\n",
            "1/1 [==============================] - 0s 12ms/step - loss: 80.8687 - mae: 80.8687\n",
            "Epoch 44/500\n",
            "1/1 [==============================] - 0s 10ms/step - loss: 79.6550 - mae: 79.6550\n",
            "Epoch 45/500\n",
            "1/1 [==============================] - 0s 11ms/step - loss: 61.9511 - mae: 61.9511\n",
            "Epoch 46/500\n",
            "1/1 [==============================] - 0s 10ms/step - loss: 5.8759 - mae: 5.8759\n",
            "Epoch 47/500\n",
            "1/1 [==============================] - 0s 12ms/step - loss: 171.7839 - mae: 171.7839\n",
            "Epoch 48/500\n",
            "1/1 [==============================] - 0s 11ms/step - loss: 75.2382 - mae: 75.2382\n",
            "Epoch 49/500\n",
            "1/1 [==============================] - 0s 11ms/step - loss: 47.9994 - mae: 47.9994\n",
            "Epoch 50/500\n",
            "1/1 [==============================] - 0s 15ms/step - loss: 38.2885 - mae: 38.2885\n",
            "Epoch 51/500\n",
            "1/1 [==============================] - 0s 12ms/step - loss: 81.6861 - mae: 81.6861\n",
            "Epoch 52/500\n",
            "1/1 [==============================] - 0s 13ms/step - loss: 68.4521 - mae: 68.4521\n",
            "Epoch 53/500\n",
            "1/1 [==============================] - 0s 15ms/step - loss: 26.5401 - mae: 26.5401\n",
            "Epoch 54/500\n",
            "1/1 [==============================] - 0s 11ms/step - loss: 106.2417 - mae: 106.2417\n",
            "Epoch 55/500\n",
            "1/1 [==============================] - 0s 10ms/step - loss: 78.3801 - mae: 78.3801\n",
            "Epoch 56/500\n",
            "1/1 [==============================] - 0s 10ms/step - loss: 58.0198 - mae: 58.0198\n",
            "Epoch 57/500\n",
            "1/1 [==============================] - 0s 11ms/step - loss: 6.4725 - mae: 6.4725\n",
            "Epoch 58/500\n",
            "1/1 [==============================] - 0s 9ms/step - loss: 83.1966 - mae: 83.1966\n",
            "Epoch 59/500\n",
            "1/1 [==============================] - 0s 14ms/step - loss: 73.3032 - mae: 73.3032\n",
            "Epoch 60/500\n",
            "1/1 [==============================] - 0s 10ms/step - loss: 41.9766 - mae: 41.9766\n",
            "Epoch 61/500\n",
            "1/1 [==============================] - 0s 12ms/step - loss: 57.2642 - mae: 57.2642\n",
            "Epoch 62/500\n",
            "1/1 [==============================] - 0s 14ms/step - loss: 80.7207 - mae: 80.7207\n",
            "Epoch 63/500\n",
            "1/1 [==============================] - 0s 15ms/step - loss: 65.5013 - mae: 65.5013\n",
            "Epoch 64/500\n",
            "1/1 [==============================] - 0s 13ms/step - loss: 17.2986 - mae: 17.2986\n",
            "Epoch 65/500\n",
            "1/1 [==============================] - 0s 21ms/step - loss: 135.4162 - mae: 135.4162\n",
            "Epoch 66/500\n",
            "1/1 [==============================] - 0s 19ms/step - loss: 76.9213 - mae: 76.9213\n",
            "Epoch 67/500\n",
            "1/1 [==============================] - 0s 11ms/step - loss: 53.5059 - mae: 53.5059\n",
            "Epoch 68/500\n",
            "1/1 [==============================] - 0s 10ms/step - loss: 20.6672 - mae: 20.6672\n",
            "Epoch 69/500\n",
            "1/1 [==============================] - 0s 22ms/step - loss: 82.4624 - mae: 82.4624\n",
            "Epoch 70/500\n",
            "1/1 [==============================] - 0s 10ms/step - loss: 71.0852 - mae: 71.0852\n",
            "Epoch 71/500\n",
            "1/1 [==============================] - 0s 12ms/step - loss: 35.0570 - mae: 35.0570\n",
            "Epoch 72/500\n",
            "1/1 [==============================] - 0s 10ms/step - loss: 79.0814 - mae: 79.0814\n",
            "Epoch 73/500\n",
            "1/1 [==============================] - 0s 10ms/step - loss: 79.6177 - mae: 79.6177\n",
            "Epoch 74/500\n",
            "1/1 [==============================] - 0s 9ms/step - loss: 62.1150 - mae: 62.1150\n",
            "Epoch 75/500\n",
            "1/1 [==============================] - 0s 14ms/step - loss: 6.6771 - mae: 6.6771\n",
            "Epoch 76/500\n",
            "1/1 [==============================] - 0s 40ms/step - loss: 168.9633 - mae: 168.9633\n",
            "Epoch 77/500\n",
            "1/1 [==============================] - 0s 28ms/step - loss: 75.2510 - mae: 75.2510\n",
            "Epoch 78/500\n",
            "1/1 [==============================] - 0s 18ms/step - loss: 48.3217 - mae: 48.3217\n",
            "Epoch 79/500\n",
            "1/1 [==============================] - 0s 28ms/step - loss: 36.9855 - mae: 36.9855\n",
            "Epoch 80/500\n",
            "1/1 [==============================] - 0s 15ms/step - loss: 81.6254 - mae: 81.6254\n",
            "Epoch 81/500\n",
            "1/1 [==============================] - 0s 11ms/step - loss: 68.5418 - mae: 68.5418\n",
            "Epoch 82/500\n",
            "1/1 [==============================] - 0s 20ms/step - loss: 27.1061 - mae: 27.1061\n",
            "Epoch 83/500\n",
            "1/1 [==============================] - 0s 14ms/step - loss: 104.1664 - mae: 104.1664\n",
            "Epoch 84/500\n",
            "1/1 [==============================] - 0s 21ms/step - loss: 78.3568 - mae: 78.3568\n",
            "Epoch 85/500\n",
            "1/1 [==============================] - 0s 20ms/step - loss: 58.2278 - mae: 58.2278\n",
            "Epoch 86/500\n",
            "1/1 [==============================] - 0s 27ms/step - loss: 5.5315 - mae: 5.5315\n",
            "Epoch 87/500\n",
            "1/1 [==============================] - 0s 23ms/step - loss: 83.1184 - mae: 83.1184\n",
            "Epoch 88/500\n",
            "1/1 [==============================] - 0s 12ms/step - loss: 73.3374 - mae: 73.3374\n",
            "Epoch 89/500\n",
            "1/1 [==============================] - 0s 7ms/step - loss: 42.3667 - mae: 42.3667\n",
            "Epoch 90/500\n",
            "1/1 [==============================] - 0s 14ms/step - loss: 55.7462 - mae: 55.7462\n",
            "Epoch 91/500\n",
            "1/1 [==============================] - 0s 10ms/step - loss: 80.6704 - mae: 80.6704\n",
            "Epoch 92/500\n",
            "1/1 [==============================] - 0s 7ms/step - loss: 65.6239 - mae: 65.6239\n",
            "Epoch 93/500\n",
            "1/1 [==============================] - 0s 12ms/step - loss: 17.9690 - mae: 17.9690\n",
            "Epoch 94/500\n",
            "1/1 [==============================] - 0s 15ms/step - loss: 133.0100 - mae: 133.0100\n",
            "Epoch 95/500\n",
            "1/1 [==============================] - 0s 20ms/step - loss: 76.9139 - mae: 76.9139\n",
            "Epoch 96/500\n",
            "1/1 [==============================] - 0s 28ms/step - loss: 53.7646 - mae: 53.7646\n",
            "Epoch 97/500\n",
            "1/1 [==============================] - 0s 15ms/step - loss: 19.5655 - mae: 19.5655\n",
            "Epoch 98/500\n",
            "1/1 [==============================] - 0s 13ms/step - loss: 82.3920 - mae: 82.3920\n",
            "Epoch 99/500\n",
            "1/1 [==============================] - 0s 15ms/step - loss: 71.1440 - mae: 71.1440\n",
            "Epoch 100/500\n",
            "1/1 [==============================] - 0s 15ms/step - loss: 35.5252 - mae: 35.5252\n",
            "Epoch 101/500\n",
            "1/1 [==============================] - 0s 14ms/step - loss: 77.3159 - mae: 77.3159\n",
            "Epoch 102/500\n",
            "1/1 [==============================] - 0s 13ms/step - loss: 79.5794 - mae: 79.5794\n",
            "Epoch 103/500\n",
            "1/1 [==============================] - 0s 15ms/step - loss: 62.2755 - mae: 62.2755\n",
            "Epoch 104/500\n",
            "1/1 [==============================] - 0s 16ms/step - loss: 7.4676 - mae: 7.4676\n",
            "Epoch 105/500\n",
            "1/1 [==============================] - 0s 17ms/step - loss: 166.1765 - mae: 166.1765\n",
            "Epoch 106/500\n",
            "1/1 [==============================] - 0s 16ms/step - loss: 75.2620 - mae: 75.2620\n",
            "Epoch 107/500\n",
            "1/1 [==============================] - 0s 19ms/step - loss: 48.6388 - mae: 48.6388\n",
            "Epoch 108/500\n",
            "1/1 [==============================] - 0s 24ms/step - loss: 35.6989 - mae: 35.6989\n",
            "Epoch 109/500\n",
            "1/1 [==============================] - 0s 12ms/step - loss: 81.5640 - mae: 81.5640\n",
            "Epoch 110/500\n",
            "1/1 [==============================] - 0s 14ms/step - loss: 68.6289 - mae: 68.6289\n",
            "Epoch 111/500\n",
            "1/1 [==============================] - 0s 12ms/step - loss: 27.6641 - mae: 27.6641\n",
            "Epoch 112/500\n",
            "1/1 [==============================] - 0s 12ms/step - loss: 102.1164 - mae: 102.1164\n",
            "Epoch 113/500\n",
            "1/1 [==============================] - 0s 12ms/step - loss: 78.3322 - mae: 78.3322\n",
            "Epoch 114/500\n",
            "1/1 [==============================] - 0s 23ms/step - loss: 58.4320 - mae: 58.4320\n",
            "Epoch 115/500\n",
            "1/1 [==============================] - 0s 11ms/step - loss: 4.6027 - mae: 4.6027\n",
            "Epoch 116/500\n",
            "1/1 [==============================] - 0s 10ms/step - loss: 83.0396 - mae: 83.0396\n",
            "Epoch 117/500\n",
            "1/1 [==============================] - 0s 12ms/step - loss: 73.3697 - mae: 73.3697\n",
            "Epoch 118/500\n",
            "1/1 [==============================] - 0s 14ms/step - loss: 42.7509 - mae: 42.7509\n",
            "Epoch 119/500\n",
            "1/1 [==============================] - 0s 12ms/step - loss: 54.2468 - mae: 54.2468\n",
            "Epoch 120/500\n",
            "1/1 [==============================] - 0s 14ms/step - loss: 80.6192 - mae: 80.6192\n",
            "Epoch 121/500\n",
            "1/1 [==============================] - 0s 10ms/step - loss: 65.7437 - mae: 65.7437\n",
            "Epoch 122/500\n",
            "1/1 [==============================] - 0s 13ms/step - loss: 18.6303 - mae: 18.6303\n",
            "Epoch 123/500\n",
            "1/1 [==============================] - 0s 13ms/step - loss: 130.6327 - mae: 130.6327\n",
            "Epoch 124/500\n",
            "1/1 [==============================] - 0s 12ms/step - loss: 76.9052 - mae: 76.9052\n",
            "Epoch 125/500\n",
            "1/1 [==============================] - 0s 10ms/step - loss: 54.0189 - mae: 54.0189\n",
            "Epoch 126/500\n",
            "1/1 [==============================] - 0s 10ms/step - loss: 18.4777 - mae: 18.4777\n",
            "Epoch 127/500\n",
            "1/1 [==============================] - 0s 9ms/step - loss: 82.3209 - mae: 82.3209\n",
            "Epoch 128/500\n",
            "1/1 [==============================] - 0s 11ms/step - loss: 71.2007 - mae: 71.2007\n",
            "Epoch 129/500\n",
            "1/1 [==============================] - 0s 11ms/step - loss: 35.9866 - mae: 35.9866\n",
            "Epoch 130/500\n",
            "1/1 [==============================] - 0s 11ms/step - loss: 75.5719 - mae: 75.5719\n",
            "Epoch 131/500\n",
            "1/1 [==============================] - 0s 12ms/step - loss: 79.5401 - mae: 79.5401\n",
            "Epoch 132/500\n",
            "1/1 [==============================] - 0s 8ms/step - loss: 62.4328 - mae: 62.4328\n",
            "Epoch 133/500\n",
            "1/1 [==============================] - 0s 9ms/step - loss: 8.2478 - mae: 8.2478\n",
            "Epoch 134/500\n",
            "1/1 [==============================] - 0s 9ms/step - loss: 163.4225 - mae: 163.4225\n",
            "Epoch 135/500\n",
            "1/1 [==============================] - 0s 9ms/step - loss: 75.2716 - mae: 75.2716\n",
            "Epoch 136/500\n",
            "1/1 [==============================] - 0s 7ms/step - loss: 48.9508 - mae: 48.9508\n",
            "Epoch 137/500\n",
            "1/1 [==============================] - 0s 19ms/step - loss: 34.4282 - mae: 34.4282\n",
            "Epoch 138/500\n",
            "1/1 [==============================] - 0s 35ms/step - loss: 81.5017 - mae: 81.5017\n",
            "Epoch 139/500\n",
            "1/1 [==============================] - 0s 35ms/step - loss: 68.7136 - mae: 68.7136\n",
            "Epoch 140/500\n",
            "1/1 [==============================] - 0s 23ms/step - loss: 28.2143 - mae: 28.2143\n",
            "Epoch 141/500\n",
            "1/1 [==============================] - 0s 30ms/step - loss: 100.0910 - mae: 100.0910\n",
            "Epoch 142/500\n",
            "1/1 [==============================] - 0s 38ms/step - loss: 78.3065 - mae: 78.3065\n",
            "Epoch 143/500\n",
            "1/1 [==============================] - 0s 28ms/step - loss: 58.6324 - mae: 58.6324\n",
            "Epoch 144/500\n",
            "1/1 [==============================] - 0s 30ms/step - loss: 3.6859 - mae: 3.6859\n",
            "Epoch 145/500\n",
            "1/1 [==============================] - 0s 28ms/step - loss: 82.9602 - mae: 82.9602\n",
            "Epoch 146/500\n",
            "1/1 [==============================] - 0s 38ms/step - loss: 73.4001 - mae: 73.4001\n",
            "Epoch 147/500\n",
            "1/1 [==============================] - 0s 26ms/step - loss: 43.1293 - mae: 43.1293\n",
            "Epoch 148/500\n",
            "1/1 [==============================] - 0s 29ms/step - loss: 52.7659 - mae: 52.7659\n",
            "Epoch 149/500\n",
            "1/1 [==============================] - 0s 25ms/step - loss: 80.5671 - mae: 80.5671\n",
            "Epoch 150/500\n",
            "1/1 [==============================] - 0s 18ms/step - loss: 65.8606 - mae: 65.8606\n",
            "Epoch 151/500\n",
            "1/1 [==============================] - 0s 15ms/step - loss: 19.2827 - mae: 19.2827\n",
            "Epoch 152/500\n",
            "1/1 [==============================] - 0s 18ms/step - loss: 128.2836 - mae: 128.2836\n",
            "Epoch 153/500\n",
            "1/1 [==============================] - 0s 16ms/step - loss: 76.8952 - mae: 76.8952\n",
            "Epoch 154/500\n",
            "1/1 [==============================] - 0s 21ms/step - loss: 54.2689 - mae: 54.2689\n",
            "Epoch 155/500\n",
            "1/1 [==============================] - 0s 21ms/step - loss: 17.4037 - mae: 17.4037\n",
            "Epoch 156/500\n",
            "1/1 [==============================] - 0s 19ms/step - loss: 82.2491 - mae: 82.2491\n",
            "Epoch 157/500\n",
            "1/1 [==============================] - 0s 21ms/step - loss: 71.2552 - mae: 71.2552\n",
            "Epoch 158/500\n",
            "1/1 [==============================] - 0s 25ms/step - loss: 36.4413 - mae: 36.4413\n",
            "Epoch 159/500\n",
            "1/1 [==============================] - 0s 44ms/step - loss: 73.8492 - mae: 73.8492\n",
            "Epoch 160/500\n",
            "1/1 [==============================] - 0s 33ms/step - loss: 79.4997 - mae: 79.4997\n",
            "Epoch 161/500\n",
            "1/1 [==============================] - 0s 21ms/step - loss: 62.5868 - mae: 62.5868\n",
            "Epoch 162/500\n",
            "1/1 [==============================] - 0s 26ms/step - loss: 9.0176 - mae: 9.0176\n",
            "Epoch 163/500\n",
            "1/1 [==============================] - 0s 19ms/step - loss: 160.7013 - mae: 160.7013\n",
            "Epoch 164/500\n",
            "1/1 [==============================] - 0s 14ms/step - loss: 75.2795 - mae: 75.2795\n",
            "Epoch 165/500\n",
            "1/1 [==============================] - 0s 14ms/step - loss: 49.2578 - mae: 49.2578\n",
            "Epoch 166/500\n",
            "1/1 [==============================] - 0s 14ms/step - loss: 33.1735 - mae: 33.1735\n",
            "Epoch 167/500\n",
            "1/1 [==============================] - 0s 13ms/step - loss: 81.4387 - mae: 81.4387\n",
            "Epoch 168/500\n",
            "1/1 [==============================] - 0s 14ms/step - loss: 68.7958 - mae: 68.7958\n",
            "Epoch 169/500\n",
            "1/1 [==============================] - 0s 13ms/step - loss: 28.7568 - mae: 28.7568\n",
            "Epoch 170/500\n",
            "1/1 [==============================] - 0s 15ms/step - loss: 98.0901 - mae: 98.0901\n",
            "Epoch 171/500\n",
            "1/1 [==============================] - 0s 9ms/step - loss: 78.2795 - mae: 78.2795\n",
            "Epoch 172/500\n",
            "1/1 [==============================] - 0s 16ms/step - loss: 58.8289 - mae: 58.8289\n",
            "Epoch 173/500\n",
            "1/1 [==============================] - 0s 18ms/step - loss: 2.7811 - mae: 2.7811\n",
            "Epoch 174/500\n",
            "1/1 [==============================] - 0s 15ms/step - loss: 82.8803 - mae: 82.8803\n",
            "Epoch 175/500\n",
            "1/1 [==============================] - 0s 15ms/step - loss: 73.4287 - mae: 73.4287\n",
            "Epoch 176/500\n",
            "1/1 [==============================] - 0s 18ms/step - loss: 43.5019 - mae: 43.5019\n",
            "Epoch 177/500\n",
            "1/1 [==============================] - 0s 16ms/step - loss: 51.3034 - mae: 51.3034\n",
            "Epoch 178/500\n",
            "1/1 [==============================] - 0s 17ms/step - loss: 80.5141 - mae: 80.5141\n",
            "Epoch 179/500\n",
            "1/1 [==============================] - 0s 11ms/step - loss: 65.9747 - mae: 65.9747\n",
            "Epoch 180/500\n",
            "1/1 [==============================] - 0s 10ms/step - loss: 19.9261 - mae: 19.9261\n",
            "Epoch 181/500\n",
            "1/1 [==============================] - 0s 10ms/step - loss: 125.9630 - mae: 125.9630\n",
            "Epoch 182/500\n",
            "1/1 [==============================] - 0s 10ms/step - loss: 76.8837 - mae: 76.8837\n",
            "Epoch 183/500\n",
            "1/1 [==============================] - 0s 10ms/step - loss: 54.5145 - mae: 54.5145\n",
            "Epoch 184/500\n",
            "1/1 [==============================] - 0s 15ms/step - loss: 16.3436 - mae: 16.3436\n",
            "Epoch 185/500\n",
            "1/1 [==============================] - 0s 11ms/step - loss: 82.1767 - mae: 82.1767\n",
            "Epoch 186/500\n",
            "1/1 [==============================] - 0s 11ms/step - loss: 71.3076 - mae: 71.3076\n",
            "Epoch 187/500\n",
            "1/1 [==============================] - 0s 9ms/step - loss: 36.8894 - mae: 36.8894\n",
            "Epoch 188/500\n",
            "1/1 [==============================] - 0s 12ms/step - loss: 72.1476 - mae: 72.1476\n",
            "Epoch 189/500\n",
            "1/1 [==============================] - 0s 11ms/step - loss: 79.4583 - mae: 79.4583\n",
            "Epoch 190/500\n",
            "1/1 [==============================] - 0s 10ms/step - loss: 62.7375 - mae: 62.7375\n",
            "Epoch 191/500\n",
            "1/1 [==============================] - 0s 11ms/step - loss: 9.7771 - mae: 9.7771\n",
            "Epoch 192/500\n",
            "1/1 [==============================] - 0s 9ms/step - loss: 158.0129 - mae: 158.0129\n",
            "Epoch 193/500\n",
            "1/1 [==============================] - 0s 16ms/step - loss: 75.2858 - mae: 75.2858\n",
            "Epoch 194/500\n",
            "1/1 [==============================] - 0s 12ms/step - loss: 49.5598 - mae: 49.5598\n",
            "Epoch 195/500\n",
            "1/1 [==============================] - 0s 11ms/step - loss: 31.9348 - mae: 31.9348\n",
            "Epoch 196/500\n",
            "1/1 [==============================] - 0s 19ms/step - loss: 81.3749 - mae: 81.3749\n",
            "Epoch 197/500\n",
            "1/1 [==============================] - 0s 17ms/step - loss: 68.8756 - mae: 68.8756\n",
            "Epoch 198/500\n",
            "1/1 [==============================] - 0s 14ms/step - loss: 29.2916 - mae: 29.2916\n",
            "Epoch 199/500\n",
            "1/1 [==============================] - 0s 17ms/step - loss: 96.1138 - mae: 96.1138\n",
            "Epoch 200/500\n",
            "1/1 [==============================] - 0s 12ms/step - loss: 78.2514 - mae: 78.2514\n",
            "Epoch 201/500\n",
            "1/1 [==============================] - 0s 15ms/step - loss: 59.0218 - mae: 59.0218\n",
            "Epoch 202/500\n",
            "1/1 [==============================] - 0s 20ms/step - loss: 2.0332 - mae: 2.0332\n",
            "Epoch 203/500\n",
            "1/1 [==============================] - 0s 16ms/step - loss: 67.6137 - mae: 67.6137\n",
            "Epoch 204/500\n",
            "1/1 [==============================] - 0s 11ms/step - loss: 25.3452 - mae: 25.3452\n",
            "Epoch 205/500\n",
            "1/1 [==============================] - 0s 15ms/step - loss: 108.5663 - mae: 108.5663\n",
            "Epoch 206/500\n",
            "1/1 [==============================] - 0s 17ms/step - loss: 77.6262 - mae: 77.6262\n",
            "Epoch 207/500\n",
            "1/1 [==============================] - 0s 18ms/step - loss: 57.0928 - mae: 57.0928\n",
            "Epoch 208/500\n",
            "1/1 [==============================] - 0s 16ms/step - loss: 7.9482 - mae: 7.9482\n",
            "Epoch 209/500\n",
            "1/1 [==============================] - 0s 19ms/step - loss: 82.4838 - mae: 82.4838\n",
            "Epoch 210/500\n",
            "1/1 [==============================] - 0s 15ms/step - loss: 72.5064 - mae: 72.5064\n",
            "Epoch 211/500\n",
            "1/1 [==============================] - 0s 13ms/step - loss: 40.9132 - mae: 40.9132\n",
            "Epoch 212/500\n",
            "1/1 [==============================] - 0s 15ms/step - loss: 59.1720 - mae: 59.1720\n",
            "Epoch 213/500\n",
            "1/1 [==============================] - 0s 17ms/step - loss: 79.9870 - mae: 79.9870\n",
            "Epoch 214/500\n",
            "1/1 [==============================] - 0s 17ms/step - loss: 64.6382 - mae: 64.6382\n",
            "Epoch 215/500\n",
            "1/1 [==============================] - 0s 16ms/step - loss: 16.0254 - mae: 16.0254\n",
            "Epoch 216/500\n",
            "1/1 [==============================] - 0s 20ms/step - loss: 137.9888 - mae: 137.9888\n",
            "Epoch 217/500\n",
            "1/1 [==============================] - 0s 20ms/step - loss: 76.1554 - mae: 76.1554\n",
            "Epoch 218/500\n",
            "1/1 [==============================] - 0s 14ms/step - loss: 52.5409 - mae: 52.5409\n",
            "Epoch 219/500\n",
            "1/1 [==============================] - 0s 16ms/step - loss: 22.2632 - mae: 22.2632\n",
            "Epoch 220/500\n",
            "1/1 [==============================] - 0s 15ms/step - loss: 81.7438 - mae: 81.7438\n",
            "Epoch 221/500\n",
            "1/1 [==============================] - 0s 14ms/step - loss: 70.2699 - mae: 70.2699\n",
            "Epoch 222/500\n",
            "1/1 [==============================] - 0s 11ms/step - loss: 33.9352 - mae: 33.9352\n",
            "Epoch 223/500\n",
            "1/1 [==============================] - 0s 16ms/step - loss: 81.1743 - mae: 81.1743\n",
            "Epoch 224/500\n",
            "1/1 [==============================] - 0s 23ms/step - loss: 78.8751 - mae: 78.8751\n",
            "Epoch 225/500\n",
            "1/1 [==============================] - 0s 21ms/step - loss: 61.2235 - mae: 61.2235\n",
            "Epoch 226/500\n",
            "1/1 [==============================] - 0s 22ms/step - loss: 5.3140 - mae: 5.3140\n",
            "Epoch 227/500\n",
            "1/1 [==============================] - 0s 24ms/step - loss: 171.8208 - mae: 171.8208\n",
            "Epoch 228/500\n",
            "1/1 [==============================] - 0s 27ms/step - loss: 74.4713 - mae: 74.4713\n",
            "Epoch 229/500\n",
            "1/1 [==============================] - 0s 24ms/step - loss: 47.3130 - mae: 47.3130\n",
            "Epoch 230/500\n",
            "1/1 [==============================] - 0s 19ms/step - loss: 38.7199 - mae: 38.7199\n",
            "Epoch 231/500\n",
            "1/1 [==============================] - 0s 40ms/step - loss: 80.9002 - mae: 80.9002\n",
            "Epoch 232/500\n",
            "1/1 [==============================] - 0s 28ms/step - loss: 67.7052 - mae: 67.7052\n",
            "Epoch 233/500\n",
            "1/1 [==============================] - 0s 16ms/step - loss: 25.9171 - mae: 25.9171\n",
            "Epoch 234/500\n",
            "1/1 [==============================] - 0s 19ms/step - loss: 106.4723 - mae: 106.4723\n",
            "Epoch 235/500\n",
            "1/1 [==============================] - 0s 16ms/step - loss: 77.6038 - mae: 77.6038\n",
            "Epoch 236/500\n",
            "1/1 [==============================] - 0s 17ms/step - loss: 57.3037 - mae: 57.3037\n",
            "Epoch 237/500\n",
            "1/1 [==============================] - 0s 17ms/step - loss: 6.9980 - mae: 6.9980\n",
            "Epoch 238/500\n",
            "1/1 [==============================] - 0s 13ms/step - loss: 82.4061 - mae: 82.4061\n",
            "Epoch 239/500\n",
            "1/1 [==============================] - 0s 17ms/step - loss: 72.5419 - mae: 72.5419\n",
            "Epoch 240/500\n",
            "1/1 [==============================] - 0s 14ms/step - loss: 41.3078 - mae: 41.3078\n",
            "Epoch 241/500\n",
            "1/1 [==============================] - 0s 13ms/step - loss: 57.6397 - mae: 57.6397\n",
            "Epoch 242/500\n",
            "1/1 [==============================] - 0s 17ms/step - loss: 79.9374 - mae: 79.9374\n",
            "Epoch 243/500\n",
            "1/1 [==============================] - 0s 17ms/step - loss: 64.7630 - mae: 64.7630\n",
            "Epoch 244/500\n",
            "1/1 [==============================] - 0s 21ms/step - loss: 16.7027 - mae: 16.7027\n",
            "Epoch 245/500\n",
            "1/1 [==============================] - 0s 12ms/step - loss: 135.5607 - mae: 135.5607\n",
            "Epoch 246/500\n",
            "1/1 [==============================] - 0s 9ms/step - loss: 76.1492 - mae: 76.1492\n",
            "Epoch 247/500\n",
            "1/1 [==============================] - 0s 14ms/step - loss: 52.8029 - mae: 52.8029\n",
            "Epoch 248/500\n",
            "1/1 [==============================] - 0s 15ms/step - loss: 21.1509 - mae: 21.1509\n",
            "Epoch 249/500\n",
            "1/1 [==============================] - 0s 11ms/step - loss: 81.6739 - mae: 81.6739\n",
            "Epoch 250/500\n",
            "1/1 [==============================] - 0s 12ms/step - loss: 70.3303 - mae: 70.3303\n",
            "Epoch 251/500\n",
            "1/1 [==============================] - 0s 14ms/step - loss: 34.4085 - mae: 34.4085\n",
            "Epoch 252/500\n",
            "1/1 [==============================] - 0s 16ms/step - loss: 79.3925 - mae: 79.3925\n",
            "Epoch 253/500\n",
            "1/1 [==============================] - 0s 14ms/step - loss: 78.8376 - mae: 78.8376\n",
            "Epoch 254/500\n",
            "1/1 [==============================] - 0s 15ms/step - loss: 61.3866 - mae: 61.3866\n",
            "Epoch 255/500\n",
            "1/1 [==============================] - 0s 28ms/step - loss: 6.1125 - mae: 6.1125\n",
            "Epoch 256/500\n",
            "1/1 [==============================] - 0s 16ms/step - loss: 169.0089 - mae: 169.0089\n",
            "Epoch 257/500\n",
            "1/1 [==============================] - 0s 17ms/step - loss: 74.4836 - mae: 74.4836\n",
            "Epoch 258/500\n",
            "1/1 [==============================] - 0s 25ms/step - loss: 47.6339 - mae: 47.6339\n",
            "Epoch 259/500\n",
            "1/1 [==============================] - 0s 18ms/step - loss: 37.4211 - mae: 37.4211\n",
            "Epoch 260/500\n",
            "1/1 [==============================] - 0s 15ms/step - loss: 80.8393 - mae: 80.8393\n",
            "Epoch 261/500\n",
            "1/1 [==============================] - 0s 25ms/step - loss: 67.7942 - mae: 67.7942\n",
            "Epoch 262/500\n",
            "1/1 [==============================] - 0s 14ms/step - loss: 26.4810 - mae: 26.4810\n",
            "Epoch 263/500\n",
            "1/1 [==============================] - 0s 21ms/step - loss: 104.4035 - mae: 104.4035\n",
            "Epoch 264/500\n",
            "1/1 [==============================] - 0s 13ms/step - loss: 77.5802 - mae: 77.5802\n",
            "Epoch 265/500\n",
            "1/1 [==============================] - 0s 18ms/step - loss: 57.5107 - mae: 57.5107\n",
            "Epoch 266/500\n",
            "1/1 [==============================] - 0s 19ms/step - loss: 6.0602 - mae: 6.0602\n",
            "Epoch 267/500\n",
            "1/1 [==============================] - 0s 12ms/step - loss: 82.3277 - mae: 82.3277\n",
            "Epoch 268/500\n",
            "1/1 [==============================] - 0s 15ms/step - loss: 72.5756 - mae: 72.5756\n",
            "Epoch 269/500\n",
            "1/1 [==============================] - 0s 15ms/step - loss: 41.6964 - mae: 41.6964\n",
            "Epoch 270/500\n",
            "1/1 [==============================] - 0s 9ms/step - loss: 56.1265 - mae: 56.1265\n",
            "Epoch 271/500\n",
            "1/1 [==============================] - 0s 12ms/step - loss: 79.8869 - mae: 79.8869\n",
            "Epoch 272/500\n",
            "1/1 [==============================] - 0s 17ms/step - loss: 64.8849 - mae: 64.8849\n",
            "Epoch 273/500\n",
            "1/1 [==============================] - 0s 14ms/step - loss: 17.3708 - mae: 17.3708\n",
            "Epoch 274/500\n",
            "1/1 [==============================] - 0s 15ms/step - loss: 133.1620 - mae: 133.1620\n",
            "Epoch 275/500\n",
            "1/1 [==============================] - 0s 14ms/step - loss: 76.1415 - mae: 76.1415\n",
            "Epoch 276/500\n",
            "1/1 [==============================] - 0s 18ms/step - loss: 53.0605 - mae: 53.0605\n",
            "Epoch 277/500\n",
            "1/1 [==============================] - 0s 25ms/step - loss: 20.0528 - mae: 20.0528\n",
            "Epoch 278/500\n",
            "1/1 [==============================] - 0s 15ms/step - loss: 81.6033 - mae: 81.6033\n",
            "Epoch 279/500\n",
            "1/1 [==============================] - 0s 11ms/step - loss: 70.3886 - mae: 70.3886\n",
            "Epoch 280/500\n",
            "1/1 [==============================] - 0s 17ms/step - loss: 34.8750 - mae: 34.8750\n",
            "Epoch 281/500\n",
            "1/1 [==============================] - 0s 15ms/step - loss: 77.6326 - mae: 77.6326\n",
            "Epoch 282/500\n",
            "1/1 [==============================] - 0s 11ms/step - loss: 78.7990 - mae: 78.7990\n",
            "Epoch 283/500\n",
            "1/1 [==============================] - 0s 18ms/step - loss: 61.5462 - mae: 61.5462\n",
            "Epoch 284/500\n",
            "1/1 [==============================] - 0s 19ms/step - loss: 6.9004 - mae: 6.9004\n",
            "Epoch 285/500\n",
            "1/1 [==============================] - 0s 14ms/step - loss: 166.2305 - mae: 166.2305\n",
            "Epoch 286/500\n",
            "1/1 [==============================] - 0s 12ms/step - loss: 74.4943 - mae: 74.4943\n",
            "Epoch 287/500\n",
            "1/1 [==============================] - 0s 14ms/step - loss: 47.9497 - mae: 47.9497\n",
            "Epoch 288/500\n",
            "1/1 [==============================] - 0s 12ms/step - loss: 36.1386 - mae: 36.1386\n",
            "Epoch 289/500\n",
            "1/1 [==============================] - 0s 12ms/step - loss: 80.7776 - mae: 80.7776\n",
            "Epoch 290/500\n",
            "1/1 [==============================] - 0s 13ms/step - loss: 67.8807 - mae: 67.8807\n",
            "Epoch 291/500\n",
            "1/1 [==============================] - 0s 13ms/step - loss: 27.0370 - mae: 27.0370\n",
            "Epoch 292/500\n",
            "1/1 [==============================] - 0s 14ms/step - loss: 102.3599 - mae: 102.3599\n",
            "Epoch 293/500\n",
            "1/1 [==============================] - 0s 14ms/step - loss: 77.5553 - mae: 77.5553\n",
            "Epoch 294/500\n",
            "1/1 [==============================] - 0s 11ms/step - loss: 57.7139 - mae: 57.7139\n",
            "Epoch 295/500\n",
            "1/1 [==============================] - 0s 9ms/step - loss: 5.1345 - mae: 5.1345\n",
            "Epoch 296/500\n",
            "1/1 [==============================] - 0s 16ms/step - loss: 82.2488 - mae: 82.2488\n",
            "Epoch 297/500\n",
            "1/1 [==============================] - 0s 19ms/step - loss: 72.6074 - mae: 72.6074\n",
            "Epoch 298/500\n",
            "1/1 [==============================] - 0s 15ms/step - loss: 42.0791 - mae: 42.0791\n",
            "Epoch 299/500\n",
            "1/1 [==============================] - 0s 15ms/step - loss: 54.6320 - mae: 54.6320\n",
            "Epoch 300/500\n",
            "1/1 [==============================] - 0s 22ms/step - loss: 79.8354 - mae: 79.8354\n",
            "Epoch 301/500\n",
            "1/1 [==============================] - 0s 16ms/step - loss: 65.0039 - mae: 65.0039\n",
            "Epoch 302/500\n",
            "1/1 [==============================] - 0s 15ms/step - loss: 18.0297 - mae: 18.0297\n",
            "Epoch 303/500\n",
            "1/1 [==============================] - 0s 22ms/step - loss: 130.7921 - mae: 130.7921\n",
            "Epoch 304/500\n",
            "1/1 [==============================] - 0s 19ms/step - loss: 76.1324 - mae: 76.1324\n",
            "Epoch 305/500\n",
            "1/1 [==============================] - 0s 10ms/step - loss: 53.3137 - mae: 53.3137\n",
            "Epoch 306/500\n",
            "1/1 [==============================] - 0s 18ms/step - loss: 18.9687 - mae: 18.9687\n",
            "Epoch 307/500\n",
            "1/1 [==============================] - 0s 14ms/step - loss: 81.5320 - mae: 81.5320\n",
            "Epoch 308/500\n",
            "1/1 [==============================] - 0s 19ms/step - loss: 70.4447 - mae: 70.4447\n",
            "Epoch 309/500\n",
            "1/1 [==============================] - 0s 20ms/step - loss: 35.3346 - mae: 35.3346\n",
            "Epoch 310/500\n",
            "1/1 [==============================] - 0s 14ms/step - loss: 75.8943 - mae: 75.8943\n",
            "Epoch 311/500\n",
            "1/1 [==============================] - 0s 33ms/step - loss: 78.7594 - mae: 78.7594\n",
            "Epoch 312/500\n",
            "1/1 [==============================] - 0s 19ms/step - loss: 61.7026 - mae: 61.7026\n",
            "Epoch 313/500\n",
            "1/1 [==============================] - 0s 17ms/step - loss: 7.6777 - mae: 7.6777\n",
            "Epoch 314/500\n",
            "1/1 [==============================] - 0s 24ms/step - loss: 163.4854 - mae: 163.4854\n",
            "Epoch 315/500\n",
            "1/1 [==============================] - 0s 20ms/step - loss: 74.5034 - mae: 74.5034\n",
            "Epoch 316/500\n",
            "1/1 [==============================] - 0s 21ms/step - loss: 48.2604 - mae: 48.2604\n",
            "Epoch 317/500\n",
            "1/1 [==============================] - 0s 29ms/step - loss: 34.8723 - mae: 34.8723\n",
            "Epoch 318/500\n",
            "1/1 [==============================] - 0s 19ms/step - loss: 80.7151 - mae: 80.7151\n",
            "Epoch 319/500\n",
            "1/1 [==============================] - 0s 21ms/step - loss: 67.9647 - mae: 67.9647\n",
            "Epoch 320/500\n",
            "1/1 [==============================] - 0s 28ms/step - loss: 27.5851 - mae: 27.5851\n",
            "Epoch 321/500\n",
            "1/1 [==============================] - 0s 13ms/step - loss: 100.3412 - mae: 100.3412\n",
            "Epoch 322/500\n",
            "1/1 [==============================] - 0s 17ms/step - loss: 77.5293 - mae: 77.5293\n",
            "Epoch 323/500\n",
            "1/1 [==============================] - 0s 23ms/step - loss: 57.9132 - mae: 57.9132\n",
            "Epoch 324/500\n",
            "1/1 [==============================] - 0s 20ms/step - loss: 4.2209 - mae: 4.2209\n",
            "Epoch 325/500\n",
            "1/1 [==============================] - 0s 43ms/step - loss: 82.1692 - mae: 82.1692\n",
            "Epoch 326/500\n",
            "1/1 [==============================] - 0s 11ms/step - loss: 72.6373 - mae: 72.6373\n",
            "Epoch 327/500\n",
            "1/1 [==============================] - 0s 9ms/step - loss: 42.4559 - mae: 42.4559\n",
            "Epoch 328/500\n",
            "1/1 [==============================] - 0s 12ms/step - loss: 53.1560 - mae: 53.1560\n",
            "Epoch 329/500\n",
            "1/1 [==============================] - 0s 19ms/step - loss: 79.7831 - mae: 79.7831\n",
            "Epoch 330/500\n",
            "1/1 [==============================] - 0s 18ms/step - loss: 65.1200 - mae: 65.1200\n",
            "Epoch 331/500\n",
            "1/1 [==============================] - 0s 20ms/step - loss: 18.6797 - mae: 18.6797\n",
            "Epoch 332/500\n",
            "1/1 [==============================] - 0s 46ms/step - loss: 128.4508 - mae: 128.4508\n",
            "Epoch 333/500\n",
            "1/1 [==============================] - 0s 39ms/step - loss: 76.1220 - mae: 76.1220\n",
            "Epoch 334/500\n",
            "1/1 [==============================] - 0s 19ms/step - loss: 53.5625 - mae: 53.5625\n",
            "Epoch 335/500\n",
            "1/1 [==============================] - 0s 32ms/step - loss: 17.8984 - mae: 17.8984\n",
            "Epoch 336/500\n",
            "1/1 [==============================] - 0s 18ms/step - loss: 81.4601 - mae: 81.4601\n",
            "Epoch 337/500\n",
            "1/1 [==============================] - 0s 13ms/step - loss: 70.4986 - mae: 70.4986\n",
            "Epoch 338/500\n",
            "1/1 [==============================] - 0s 25ms/step - loss: 35.7876 - mae: 35.7876\n",
            "Epoch 339/500\n",
            "1/1 [==============================] - 0s 20ms/step - loss: 74.1772 - mae: 74.1772\n",
            "Epoch 340/500\n",
            "1/1 [==============================] - 0s 18ms/step - loss: 78.7187 - mae: 78.7187\n",
            "Epoch 341/500\n",
            "1/1 [==============================] - 0s 16ms/step - loss: 61.8557 - mae: 61.8557\n",
            "Epoch 342/500\n",
            "1/1 [==============================] - 0s 12ms/step - loss: 8.4448 - mae: 8.4448\n",
            "Epoch 343/500\n",
            "1/1 [==============================] - 0s 22ms/step - loss: 160.7729 - mae: 160.7729\n",
            "Epoch 344/500\n",
            "1/1 [==============================] - 0s 14ms/step - loss: 74.5109 - mae: 74.5109\n",
            "Epoch 345/500\n",
            "1/1 [==============================] - 0s 15ms/step - loss: 48.5661 - mae: 48.5661\n",
            "Epoch 346/500\n",
            "1/1 [==============================] - 0s 25ms/step - loss: 33.6218 - mae: 33.6218\n",
            "Epoch 347/500\n",
            "1/1 [==============================] - 0s 20ms/step - loss: 80.6519 - mae: 80.6519\n",
            "Epoch 348/500\n",
            "1/1 [==============================] - 0s 36ms/step - loss: 68.0463 - mae: 68.0463\n",
            "Epoch 349/500\n",
            "1/1 [==============================] - 0s 14ms/step - loss: 28.1256 - mae: 28.1256\n",
            "Epoch 350/500\n",
            "1/1 [==============================] - 0s 14ms/step - loss: 98.3467 - mae: 98.3467\n",
            "Epoch 351/500\n",
            "1/1 [==============================] - 0s 17ms/step - loss: 77.5020 - mae: 77.5020\n",
            "Epoch 352/500\n",
            "1/1 [==============================] - 0s 11ms/step - loss: 58.1089 - mae: 58.1089\n",
            "Epoch 353/500\n",
            "1/1 [==============================] - 0s 16ms/step - loss: 3.3191 - mae: 3.3191\n",
            "Epoch 354/500\n",
            "1/1 [==============================] - 0s 19ms/step - loss: 82.0892 - mae: 82.0892\n",
            "Epoch 355/500\n",
            "1/1 [==============================] - 0s 28ms/step - loss: 72.6655 - mae: 72.6655\n",
            "Epoch 356/500\n",
            "1/1 [==============================] - 0s 29ms/step - loss: 42.8270 - mae: 42.8270\n",
            "Epoch 357/500\n",
            "1/1 [==============================] - 0s 26ms/step - loss: 51.6982 - mae: 51.6982\n",
            "Epoch 358/500\n",
            "1/1 [==============================] - 0s 23ms/step - loss: 79.7299 - mae: 79.7299\n",
            "Epoch 359/500\n",
            "1/1 [==============================] - 0s 18ms/step - loss: 65.2334 - mae: 65.2334\n",
            "Epoch 360/500\n",
            "1/1 [==============================] - 0s 22ms/step - loss: 19.3209 - mae: 19.3209\n",
            "Epoch 361/500\n",
            "1/1 [==============================] - 0s 21ms/step - loss: 126.1372 - mae: 126.1372\n",
            "Epoch 362/500\n",
            "1/1 [==============================] - 0s 12ms/step - loss: 76.1102 - mae: 76.1102\n",
            "Epoch 363/500\n",
            "1/1 [==============================] - 0s 14ms/step - loss: 53.8070 - mae: 53.8070\n",
            "Epoch 364/500\n",
            "1/1 [==============================] - 0s 11ms/step - loss: 16.8417 - mae: 16.8417\n",
            "Epoch 365/500\n",
            "1/1 [==============================] - 0s 13ms/step - loss: 81.3875 - mae: 81.3875\n",
            "Epoch 366/500\n",
            "1/1 [==============================] - 0s 15ms/step - loss: 70.5505 - mae: 70.5505\n",
            "Epoch 367/500\n",
            "1/1 [==============================] - 0s 29ms/step - loss: 36.2339 - mae: 36.2339\n",
            "Epoch 368/500\n",
            "1/1 [==============================] - 0s 31ms/step - loss: 72.4809 - mae: 72.4809\n",
            "Epoch 369/500\n",
            "1/1 [==============================] - 0s 21ms/step - loss: 78.6771 - mae: 78.6771\n",
            "Epoch 370/500\n",
            "1/1 [==============================] - 0s 19ms/step - loss: 62.0056 - mae: 62.0056\n",
            "Epoch 371/500\n",
            "1/1 [==============================] - 0s 18ms/step - loss: 9.2018 - mae: 9.2018\n",
            "Epoch 372/500\n",
            "1/1 [==============================] - 0s 8ms/step - loss: 158.0924 - mae: 158.0924\n",
            "Epoch 373/500\n",
            "1/1 [==============================] - 0s 16ms/step - loss: 74.5168 - mae: 74.5168\n",
            "Epoch 374/500\n",
            "1/1 [==============================] - 0s 29ms/step - loss: 48.8668 - mae: 48.8668\n",
            "Epoch 375/500\n",
            "1/1 [==============================] - 0s 15ms/step - loss: 32.3869 - mae: 32.3869\n",
            "Epoch 376/500\n",
            "1/1 [==============================] - 0s 15ms/step - loss: 80.5879 - mae: 80.5879\n",
            "Epoch 377/500\n",
            "1/1 [==============================] - 0s 25ms/step - loss: 68.1255 - mae: 68.1255\n",
            "Epoch 378/500\n",
            "1/1 [==============================] - 0s 15ms/step - loss: 28.6585 - mae: 28.6585\n",
            "Epoch 379/500\n",
            "1/1 [==============================] - 0s 15ms/step - loss: 96.3762 - mae: 96.3762\n",
            "Epoch 380/500\n",
            "1/1 [==============================] - 0s 15ms/step - loss: 77.4736 - mae: 77.4736\n",
            "Epoch 381/500\n",
            "1/1 [==============================] - 0s 14ms/step - loss: 58.3008 - mae: 58.3008\n",
            "Epoch 382/500\n",
            "1/1 [==============================] - 0s 19ms/step - loss: 2.4375 - mae: 2.4375\n",
            "Epoch 383/500\n",
            "1/1 [==============================] - 0s 24ms/step - loss: 76.0451 - mae: 76.0451\n",
            "Epoch 384/500\n",
            "1/1 [==============================] - 0s 18ms/step - loss: 53.8002 - mae: 53.8002\n",
            "Epoch 385/500\n",
            "1/1 [==============================] - 0s 20ms/step - loss: 16.6637 - mae: 16.6637\n",
            "Epoch 386/500\n",
            "1/1 [==============================] - 0s 15ms/step - loss: 81.3085 - mae: 81.3085\n",
            "Epoch 387/500\n",
            "1/1 [==============================] - 0s 24ms/step - loss: 70.4999 - mae: 70.4999\n",
            "Epoch 388/500\n",
            "1/1 [==============================] - 0s 14ms/step - loss: 36.2730 - mae: 36.2730\n",
            "Epoch 389/500\n",
            "1/1 [==============================] - 0s 11ms/step - loss: 72.1575 - mae: 72.1575\n",
            "Epoch 390/500\n",
            "1/1 [==============================] - 0s 12ms/step - loss: 78.6052 - mae: 78.6052\n",
            "Epoch 391/500\n",
            "1/1 [==============================] - 0s 12ms/step - loss: 61.9773 - mae: 61.9773\n",
            "Epoch 392/500\n",
            "1/1 [==============================] - 0s 36ms/step - loss: 9.3115 - mae: 9.3115\n",
            "Epoch 393/500\n",
            "1/1 [==============================] - 0s 19ms/step - loss: 157.5451 - mae: 157.5451\n",
            "Epoch 394/500\n",
            "1/1 [==============================] - 0s 13ms/step - loss: 74.4558 - mae: 74.4558\n",
            "Epoch 395/500\n",
            "1/1 [==============================] - 0s 23ms/step - loss: 48.8728 - mae: 48.8728\n",
            "Epoch 396/500\n",
            "1/1 [==============================] - 0s 17ms/step - loss: 32.1684 - mae: 32.1684\n",
            "Epoch 397/500\n",
            "1/1 [==============================] - 0s 16ms/step - loss: 80.5110 - mae: 80.5110\n",
            "Epoch 398/500\n",
            "1/1 [==============================] - 0s 14ms/step - loss: 68.0811 - mae: 68.0811\n",
            "Epoch 399/500\n",
            "1/1 [==============================] - 0s 20ms/step - loss: 28.7173 - mae: 28.7173\n",
            "Epoch 400/500\n",
            "1/1 [==============================] - 0s 13ms/step - loss: 95.9904 - mae: 95.9904\n",
            "Epoch 401/500\n",
            "1/1 [==============================] - 0s 11ms/step - loss: 77.4047 - mae: 77.4047\n",
            "Epoch 402/500\n",
            "1/1 [==============================] - 0s 12ms/step - loss: 58.2820 - mae: 58.2820\n",
            "Epoch 403/500\n",
            "1/1 [==============================] - 0s 10ms/step - loss: 2.3147 - mae: 2.3147\n",
            "Epoch 404/500\n",
            "1/1 [==============================] - 0s 13ms/step - loss: 75.9799 - mae: 75.9799\n",
            "Epoch 405/500\n",
            "1/1 [==============================] - 0s 16ms/step - loss: 53.7932 - mae: 53.7932\n",
            "Epoch 406/500\n",
            "1/1 [==============================] - 0s 15ms/step - loss: 16.4866 - mae: 16.4866\n",
            "Epoch 407/500\n",
            "1/1 [==============================] - 0s 9ms/step - loss: 81.2295 - mae: 81.2295\n",
            "Epoch 408/500\n",
            "1/1 [==============================] - 0s 29ms/step - loss: 70.4491 - mae: 70.4491\n",
            "Epoch 409/500\n",
            "1/1 [==============================] - 0s 16ms/step - loss: 36.3117 - mae: 36.3117\n",
            "Epoch 410/500\n",
            "1/1 [==============================] - 0s 19ms/step - loss: 71.8353 - mae: 71.8353\n",
            "Epoch 411/500\n",
            "1/1 [==============================] - 0s 25ms/step - loss: 78.5332 - mae: 78.5332\n",
            "Epoch 412/500\n",
            "1/1 [==============================] - 0s 18ms/step - loss: 61.9488 - mae: 61.9488\n",
            "Epoch 413/500\n",
            "1/1 [==============================] - 0s 19ms/step - loss: 9.4207 - mae: 9.4207\n",
            "Epoch 414/500\n",
            "1/1 [==============================] - 0s 32ms/step - loss: 156.9998 - mae: 156.9998\n",
            "Epoch 415/500\n",
            "1/1 [==============================] - 0s 30ms/step - loss: 74.3946 - mae: 74.3946\n",
            "Epoch 416/500\n",
            "1/1 [==============================] - 0s 29ms/step - loss: 48.8785 - mae: 48.8785\n",
            "Epoch 417/500\n",
            "1/1 [==============================] - 0s 26ms/step - loss: 31.9508 - mae: 31.9508\n",
            "Epoch 418/500\n",
            "1/1 [==============================] - 0s 28ms/step - loss: 80.4339 - mae: 80.4339\n",
            "Epoch 419/500\n",
            "1/1 [==============================] - 0s 36ms/step - loss: 68.0366 - mae: 68.0366\n",
            "Epoch 420/500\n",
            "1/1 [==============================] - 0s 28ms/step - loss: 28.7756 - mae: 28.7756\n",
            "Epoch 421/500\n",
            "1/1 [==============================] - 0s 35ms/step - loss: 95.6061 - mae: 95.6061\n",
            "Epoch 422/500\n",
            "1/1 [==============================] - 0s 27ms/step - loss: 77.3358 - mae: 77.3358\n",
            "Epoch 423/500\n",
            "1/1 [==============================] - 0s 33ms/step - loss: 58.2631 - mae: 58.2631\n",
            "Epoch 424/500\n",
            "1/1 [==============================] - 0s 26ms/step - loss: 2.1925 - mae: 2.1925\n",
            "Epoch 425/500\n",
            "1/1 [==============================] - 0s 22ms/step - loss: 75.9146 - mae: 75.9146\n",
            "Epoch 426/500\n",
            "1/1 [==============================] - 0s 18ms/step - loss: 53.7859 - mae: 53.7859\n",
            "Epoch 427/500\n",
            "1/1 [==============================] - 0s 27ms/step - loss: 16.3102 - mae: 16.3102\n",
            "Epoch 428/500\n",
            "1/1 [==============================] - 0s 21ms/step - loss: 81.1505 - mae: 81.1505\n",
            "Epoch 429/500\n",
            "1/1 [==============================] - 0s 43ms/step - loss: 70.3983 - mae: 70.3983\n",
            "Epoch 430/500\n",
            "1/1 [==============================] - 0s 49ms/step - loss: 36.3501 - mae: 36.3501\n",
            "Epoch 431/500\n",
            "1/1 [==============================] - 0s 21ms/step - loss: 71.5142 - mae: 71.5142\n",
            "Epoch 432/500\n",
            "1/1 [==============================] - 0s 22ms/step - loss: 78.4612 - mae: 78.4612\n",
            "Epoch 433/500\n",
            "1/1 [==============================] - 0s 22ms/step - loss: 61.9201 - mae: 61.9201\n",
            "Epoch 434/500\n",
            "1/1 [==============================] - 0s 27ms/step - loss: 9.5293 - mae: 9.5293\n",
            "Epoch 435/500\n",
            "1/1 [==============================] - 0s 23ms/step - loss: 156.4561 - mae: 156.4561\n",
            "Epoch 436/500\n",
            "1/1 [==============================] - 0s 24ms/step - loss: 74.3334 - mae: 74.3334\n",
            "Epoch 437/500\n",
            "1/1 [==============================] - 0s 17ms/step - loss: 48.8839 - mae: 48.8839\n",
            "Epoch 438/500\n",
            "1/1 [==============================] - 0s 21ms/step - loss: 31.7341 - mae: 31.7341\n",
            "Epoch 439/500\n",
            "1/1 [==============================] - 0s 22ms/step - loss: 80.3569 - mae: 80.3569\n",
            "Epoch 440/500\n",
            "1/1 [==============================] - 0s 24ms/step - loss: 67.9919 - mae: 67.9919\n",
            "Epoch 441/500\n",
            "1/1 [==============================] - 0s 24ms/step - loss: 28.8336 - mae: 28.8336\n",
            "Epoch 442/500\n",
            "1/1 [==============================] - 0s 29ms/step - loss: 95.2230 - mae: 95.2230\n",
            "Epoch 443/500\n",
            "1/1 [==============================] - 0s 31ms/step - loss: 77.2668 - mae: 77.2668\n",
            "Epoch 444/500\n",
            "1/1 [==============================] - 0s 37ms/step - loss: 58.2439 - mae: 58.2439\n",
            "Epoch 445/500\n",
            "1/1 [==============================] - 0s 30ms/step - loss: 2.0709 - mae: 2.0709\n",
            "Epoch 446/500\n",
            "1/1 [==============================] - 0s 28ms/step - loss: 75.8493 - mae: 75.8493\n",
            "Epoch 447/500\n",
            "1/1 [==============================] - 0s 37ms/step - loss: 53.7783 - mae: 53.7783\n",
            "Epoch 448/500\n",
            "1/1 [==============================] - 0s 17ms/step - loss: 16.1345 - mae: 16.1345\n",
            "Epoch 449/500\n",
            "1/1 [==============================] - 0s 24ms/step - loss: 81.0715 - mae: 81.0715\n",
            "Epoch 450/500\n",
            "1/1 [==============================] - 0s 17ms/step - loss: 70.3473 - mae: 70.3473\n",
            "Epoch 451/500\n",
            "1/1 [==============================] - 0s 19ms/step - loss: 36.3881 - mae: 36.3881\n",
            "Epoch 452/500\n",
            "1/1 [==============================] - 0s 14ms/step - loss: 71.1944 - mae: 71.1944\n",
            "Epoch 453/500\n",
            "1/1 [==============================] - 0s 23ms/step - loss: 78.3891 - mae: 78.3891\n",
            "Epoch 454/500\n",
            "1/1 [==============================] - 0s 17ms/step - loss: 61.8912 - mae: 61.8912\n",
            "Epoch 455/500\n",
            "1/1 [==============================] - 0s 18ms/step - loss: 9.6373 - mae: 9.6373\n",
            "Epoch 456/500\n",
            "1/1 [==============================] - 0s 15ms/step - loss: 155.9143 - mae: 155.9143\n",
            "Epoch 457/500\n",
            "1/1 [==============================] - 0s 11ms/step - loss: 74.2720 - mae: 74.2720\n",
            "Epoch 458/500\n",
            "1/1 [==============================] - 0s 17ms/step - loss: 48.8891 - mae: 48.8891\n",
            "Epoch 459/500\n",
            "1/1 [==============================] - 0s 13ms/step - loss: 31.5183 - mae: 31.5183\n",
            "Epoch 460/500\n",
            "1/1 [==============================] - 0s 19ms/step - loss: 80.2797 - mae: 80.2797\n",
            "Epoch 461/500\n",
            "1/1 [==============================] - 0s 14ms/step - loss: 67.9471 - mae: 67.9471\n",
            "Epoch 462/500\n",
            "1/1 [==============================] - 0s 16ms/step - loss: 28.8910 - mae: 28.8910\n",
            "Epoch 463/500\n",
            "1/1 [==============================] - 0s 17ms/step - loss: 94.8414 - mae: 94.8414\n",
            "Epoch 464/500\n",
            "1/1 [==============================] - 0s 16ms/step - loss: 77.1977 - mae: 77.1977\n",
            "Epoch 465/500\n",
            "1/1 [==============================] - 0s 17ms/step - loss: 58.2245 - mae: 58.2245\n",
            "Epoch 466/500\n",
            "1/1 [==============================] - 0s 18ms/step - loss: 1.9498 - mae: 1.9498\n",
            "Epoch 467/500\n",
            "1/1 [==============================] - 0s 21ms/step - loss: 75.7838 - mae: 75.7838\n",
            "Epoch 468/500\n",
            "1/1 [==============================] - 0s 18ms/step - loss: 53.7705 - mae: 53.7705\n",
            "Epoch 469/500\n",
            "1/1 [==============================] - 0s 25ms/step - loss: 15.9597 - mae: 15.9597\n",
            "Epoch 470/500\n",
            "1/1 [==============================] - 0s 18ms/step - loss: 80.9924 - mae: 80.9924\n",
            "Epoch 471/500\n",
            "1/1 [==============================] - 0s 20ms/step - loss: 70.2962 - mae: 70.2962\n",
            "Epoch 472/500\n",
            "1/1 [==============================] - 0s 13ms/step - loss: 36.4257 - mae: 36.4257\n",
            "Epoch 473/500\n",
            "1/1 [==============================] - 0s 16ms/step - loss: 70.8758 - mae: 70.8758\n",
            "Epoch 474/500\n",
            "1/1 [==============================] - 0s 22ms/step - loss: 78.3170 - mae: 78.3170\n",
            "Epoch 475/500\n",
            "1/1 [==============================] - 0s 16ms/step - loss: 61.8622 - mae: 61.8622\n",
            "Epoch 476/500\n",
            "1/1 [==============================] - 0s 14ms/step - loss: 9.7447 - mae: 9.7447\n",
            "Epoch 477/500\n",
            "1/1 [==============================] - 0s 11ms/step - loss: 155.3745 - mae: 155.3745\n",
            "Epoch 478/500\n",
            "1/1 [==============================] - 0s 10ms/step - loss: 74.2106 - mae: 74.2106\n",
            "Epoch 479/500\n",
            "1/1 [==============================] - 0s 15ms/step - loss: 48.8939 - mae: 48.8939\n",
            "Epoch 480/500\n",
            "1/1 [==============================] - 0s 12ms/step - loss: 31.3035 - mae: 31.3035\n",
            "Epoch 481/500\n",
            "1/1 [==============================] - 0s 17ms/step - loss: 80.2026 - mae: 80.2026\n",
            "Epoch 482/500\n",
            "1/1 [==============================] - 0s 26ms/step - loss: 67.9021 - mae: 67.9021\n",
            "Epoch 483/500\n",
            "1/1 [==============================] - 0s 22ms/step - loss: 28.9480 - mae: 28.9480\n",
            "Epoch 484/500\n",
            "1/1 [==============================] - 0s 21ms/step - loss: 94.4612 - mae: 94.4612\n",
            "Epoch 485/500\n",
            "1/1 [==============================] - 0s 17ms/step - loss: 77.1285 - mae: 77.1285\n",
            "Epoch 486/500\n",
            "1/1 [==============================] - 0s 15ms/step - loss: 58.2048 - mae: 58.2048\n",
            "Epoch 487/500\n",
            "1/1 [==============================] - 0s 30ms/step - loss: 1.8293 - mae: 1.8293\n",
            "Epoch 488/500\n",
            "1/1 [==============================] - 0s 13ms/step - loss: 75.7183 - mae: 75.7183\n",
            "Epoch 489/500\n",
            "1/1 [==============================] - 0s 26ms/step - loss: 53.7625 - mae: 53.7625\n",
            "Epoch 490/500\n",
            "1/1 [==============================] - 0s 20ms/step - loss: 15.7857 - mae: 15.7857\n",
            "Epoch 491/500\n",
            "1/1 [==============================] - 0s 11ms/step - loss: 80.9133 - mae: 80.9133\n",
            "Epoch 492/500\n",
            "1/1 [==============================] - 0s 11ms/step - loss: 70.2450 - mae: 70.2450\n",
            "Epoch 493/500\n",
            "1/1 [==============================] - 0s 10ms/step - loss: 36.4629 - mae: 36.4629\n",
            "Epoch 494/500\n",
            "1/1 [==============================] - 0s 13ms/step - loss: 70.5584 - mae: 70.5584\n",
            "Epoch 495/500\n",
            "1/1 [==============================] - 0s 24ms/step - loss: 78.2448 - mae: 78.2448\n",
            "Epoch 496/500\n",
            "1/1 [==============================] - 0s 12ms/step - loss: 61.8329 - mae: 61.8329\n",
            "Epoch 497/500\n",
            "1/1 [==============================] - 0s 26ms/step - loss: 9.8515 - mae: 9.8515\n",
            "Epoch 498/500\n",
            "1/1 [==============================] - 0s 20ms/step - loss: 154.8365 - mae: 154.8365\n",
            "Epoch 499/500\n",
            "1/1 [==============================] - 0s 18ms/step - loss: 74.1490 - mae: 74.1490\n",
            "Epoch 500/500\n",
            "1/1 [==============================] - 0s 20ms/step - loss: 48.8985 - mae: 48.8985\n"
          ]
        },
        {
          "output_type": "execute_result",
          "data": {
            "text/plain": [
              "<keras.src.callbacks.History at 0x7a0924713610>"
            ]
          },
          "metadata": {},
          "execution_count": 216
        }
      ]
    },
    {
      "cell_type": "code",
      "source": [
        "# Make and plot some predictions\n",
        "y_preds_3 = model_3.predict(X_test)\n",
        "plot_predictions(predictions=y_preds_3)"
      ],
      "metadata": {
        "id": "0ClFtHqJ0bDL",
        "outputId": "6ff0b085-02a2-4424-f21b-ed6d1c7e93d7",
        "colab": {
          "base_uri": "https://localhost:8080/",
          "height": 617
        }
      },
      "execution_count": 221,
      "outputs": [
        {
          "output_type": "stream",
          "name": "stdout",
          "text": [
            "1/1 [==============================] - 0s 32ms/step\n"
          ]
        },
        {
          "output_type": "display_data",
          "data": {
            "text/plain": [
              "<Figure size 1000x700 with 1 Axes>"
            ],
            "image/png": "[encoded data removed]"
          },
          "metadata": {}
        }
      ]
    },
    {
      "cell_type": "code",
      "source": [
        "# Calculate model_3 evaluation metrics\n",
        "mae_3 = mae(y_test, y_preds_3)\n",
        "mse_3 = mse(y_test, y_preds_3)\n",
        "mae_3, mse_3"
      ],
      "metadata": {
        "id": "wN9Lymsz2HhL",
        "outputId": "f2d78198-9cf4-4cb8-a491-fe92220bdf12",
        "colab": {
          "base_uri": "https://localhost:8080/"
        }
      },
      "execution_count": 222,
      "outputs": [
        {
          "output_type": "execute_result",
          "data": {
            "text/plain": [
              "(<tf.Tensor: shape=(), dtype=float32, numpy=31.089527>,\n",
              " <tf.Tensor: shape=(), dtype=float32, numpy=999.2876>)"
            ]
          },
          "metadata": {},
          "execution_count": 222
        }
      ]
    },
    {
      "cell_type": "markdown",
      "source": [
        "## Comparing the results of our experiments\n",
        "\n",
        "We've run a few experiments, let's compare the results."
      ],
      "metadata": {
        "id": "kKuAZxmX3G1b"
      }
    }
  ]
}