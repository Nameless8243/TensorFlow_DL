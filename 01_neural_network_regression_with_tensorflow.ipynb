{
  "nbformat": 4,
  "nbformat_minor": 0,
  "metadata": {
    "colab": {
      "provenance": [],
      "authorship_tag": "ABX9TyMkq1ZvLyaRTxxcW2gUYUPu",
      "include_colab_link": true
    },
    "kernelspec": {
      "name": "python3",
      "display_name": "Python 3"
    },
    "language_info": {
      "name": "python"
    }
  },
  "cells": [
    {
      "cell_type": "markdown",
      "metadata": {
        "id": "view-in-github",
        "colab_type": "text"
      },
      "source": [
        "<a href=\"https://colab.research.google.com/github/Nameless8243/TensorFlow_DL/blob/main/01_neural_network_regression_with_tensorflow.ipynb\" target=\"_parent\"><img src=\"https://colab.research.google.com/assets/colab-badge.svg\" alt=\"Open In Colab\"/></a>"
      ]
    },
    {
      "cell_type": "markdown",
      "source": [
        "# Introduction to Regression with Neural Networks in TensorFlow\n",
        "\n",
        "There are many definitions for a regression problem but in our case, we're going to simplify it: predicting a numerical variable based on some other combination of variables, even shorter... predicting a number."
      ],
      "metadata": {
        "id": "oP5JGRSITyJO"
      }
    },
    {
      "cell_type": "code",
      "source": [
        "# Import tensorflow\n",
        "import tensorflow as tf\n",
        "print(tf.__version__)"
      ],
      "metadata": {
        "colab": {
          "base_uri": "https://localhost:8080/"
        },
        "id": "LsGmYUhse5F-",
        "outputId": "9b38d771-70aa-4e1b-de91-f11ac72e4b84"
      },
      "execution_count": 1,
      "outputs": [
        {
          "output_type": "stream",
          "name": "stdout",
          "text": [
            "2.15.0\n"
          ]
        }
      ]
    },
    {
      "cell_type": "markdown",
      "source": [
        "## Creating data to view and fit"
      ],
      "metadata": {
        "id": "uGT0hliwfDt-"
      }
    },
    {
      "cell_type": "code",
      "source": [
        "import numpy as np\n",
        "import matplotlib.pyplot as plt\n",
        "\n",
        "# Create features\n",
        "X = np.array([-7.0, -4.0, -1.0, 2.0, 5.0, 8.0, 11.0, 14.0])\n",
        "\n",
        "# Create labels\n",
        "y = np.array([3.0, 6.0, 9.0, 12.0, 15.0, 18.0, 21.0, 24.0])\n",
        "\n",
        "# Visualize it\n",
        "plt.scatter(X, y);"
      ],
      "metadata": {
        "colab": {
          "base_uri": "https://localhost:8080/",
          "height": 435
        },
        "id": "Bz9l-cqWfS7l",
        "outputId": "8a7321e8-7397-4d01-e56b-436416b6b10b"
      },
      "execution_count": 2,
      "outputs": [
        {
          "output_type": "display_data",
          "data": {
            "text/plain": [
              "<Figure size 640x480 with 1 Axes>"
            ],
            "image/png": "[encoded data removed]"
          },
          "metadata": {}
        }
      ]
    },
    {
      "cell_type": "code",
      "source": [
        "y == X + 10"
      ],
      "metadata": {
        "colab": {
          "base_uri": "https://localhost:8080/"
        },
        "id": "IhhPD6eigTzN",
        "outputId": "8c5361bc-6c83-440c-9531-2ad102a18706"
      },
      "execution_count": 3,
      "outputs": [
        {
          "output_type": "execute_result",
          "data": {
            "text/plain": [
              "array([ True,  True,  True,  True,  True,  True,  True,  True])"
            ]
          },
          "metadata": {},
          "execution_count": 3
        }
      ]
    },
    {
      "cell_type": "markdown",
      "source": [
        "## Input and output shapes"
      ],
      "metadata": {
        "id": "ZTXfdcSOg2bE"
      }
    },
    {
      "cell_type": "code",
      "source": [
        "# Create demo tensor for our housing price prediction problem\n",
        "house_info = tf.constant([\"bedroom\", \"bathroom\", \"garage\"])\n",
        "house_price = tf.constant([939700])\n",
        "house_info, house_price"
      ],
      "metadata": {
        "colab": {
          "base_uri": "https://localhost:8080/"
        },
        "id": "vS_BbYWjj3Et",
        "outputId": "92f01fe1-bd29-4e1d-a75a-ef12c1ab54e8"
      },
      "execution_count": 4,
      "outputs": [
        {
          "output_type": "execute_result",
          "data": {
            "text/plain": [
              "(<tf.Tensor: shape=(3,), dtype=string, numpy=array([b'bedroom', b'bathroom', b'garage'], dtype=object)>,\n",
              " <tf.Tensor: shape=(1,), dtype=int32, numpy=array([939700], dtype=int32)>)"
            ]
          },
          "metadata": {},
          "execution_count": 4
        }
      ]
    },
    {
      "cell_type": "code",
      "source": [
        "input_shape = X[0].shape\n",
        "output_shape = y[0].shape\n",
        "input_shape, output_shape"
      ],
      "metadata": {
        "colab": {
          "base_uri": "https://localhost:8080/"
        },
        "id": "v4JCXIjjkcer",
        "outputId": "fd75db03-7be8-45b6-813b-fa19413b67ad"
      },
      "execution_count": 5,
      "outputs": [
        {
          "output_type": "execute_result",
          "data": {
            "text/plain": [
              "((), ())"
            ]
          },
          "metadata": {},
          "execution_count": 5
        }
      ]
    },
    {
      "cell_type": "code",
      "source": [
        "# Turn our NumPy arrays into tensors with dtype float32\n",
        "X = tf.cast(tf.constant(X), dtype=tf.float32)\n",
        "y = tf.cast(tf.constant(y), dtype=tf.float32)\n",
        "X, y"
      ],
      "metadata": {
        "colab": {
          "base_uri": "https://localhost:8080/"
        },
        "id": "jJeyIQYokyn7",
        "outputId": "06a1e6b3-3e19-4b25-8b2b-76303d678409"
      },
      "execution_count": 6,
      "outputs": [
        {
          "output_type": "execute_result",
          "data": {
            "text/plain": [
              "(<tf.Tensor: shape=(8,), dtype=float32, numpy=array([-7., -4., -1.,  2.,  5.,  8., 11., 14.], dtype=float32)>,\n",
              " <tf.Tensor: shape=(8,), dtype=float32, numpy=array([ 3.,  6.,  9., 12., 15., 18., 21., 24.], dtype=float32)>)"
            ]
          },
          "metadata": {},
          "execution_count": 6
        }
      ]
    },
    {
      "cell_type": "code",
      "source": [
        "input_shape = X[0].shape\n",
        "output_shape = y[0].shape\n",
        "input_shape, output_shape"
      ],
      "metadata": {
        "colab": {
          "base_uri": "https://localhost:8080/"
        },
        "id": "9dCoCjBQmAr7",
        "outputId": "93006af0-4b04-441a-ab6e-c2c279fc4e22"
      },
      "execution_count": 7,
      "outputs": [
        {
          "output_type": "execute_result",
          "data": {
            "text/plain": [
              "(TensorShape([]), TensorShape([]))"
            ]
          },
          "metadata": {},
          "execution_count": 7
        }
      ]
    },
    {
      "cell_type": "code",
      "source": [
        "plt.scatter(X,y)"
      ],
      "metadata": {
        "colab": {
          "base_uri": "https://localhost:8080/",
          "height": 453
        },
        "id": "am1A3auXmhoD",
        "outputId": "bf69f778-5196-4f31-bb9d-710911f9f992"
      },
      "execution_count": 8,
      "outputs": [
        {
          "output_type": "execute_result",
          "data": {
            "text/plain": [
              "<matplotlib.collections.PathCollection at 0x7858d8b54700>"
            ]
          },
          "metadata": {},
          "execution_count": 8
        },
        {
          "output_type": "display_data",
          "data": {
            "text/plain": [
              "<Figure size 640x480 with 1 Axes>"
            ],
            "image/png": "[encoded data removed]"
          },
          "metadata": {}
        }
      ]
    },
    {
      "cell_type": "markdown",
      "source": [
        "## Steps in modelling with TensorFlow\n",
        "\n",
        "1. **Creating a model** - define the input and output layers, as well as the hidden layers of a deep learning model.\n",
        "2. **Compiling a model** - define the loss function (in other words, the\n",
        "function which tells our model how wrong it is) and the optimizer\n",
        "(tells our model how to improve the patterns its learning) and\n",
        "evaluation metrics (what we can use ta interpret the performance of our model).\n",
        "3. **Fitting the model** - letting the model try to find patterns between X & y (features and labels)."
      ],
      "metadata": {
        "id": "-buia87-msUz"
      }
    },
    {
      "cell_type": "code",
      "source": [
        "# Optionally, the first layer can receive an `input_shape` argument:\n",
        "model = tf.keras.Sequential()\n",
        "model.add(tf.keras.layers.Dense(8, input_shape=(16,)))\n",
        "# Afterwards, we do automatic shape inference:\n",
        "model.add(tf.keras.layers.Dense(4))\n",
        "\n",
        "model = tf.keras.Sequential()\n",
        "model.add(tf.keras.layers.Dense(8, input_shape=(16,)))\n",
        "model.add(tf.keras.layers.Dense(4))\n",
        "\n",
        "model = tf.keras.Sequential()\n",
        "model.add(tf.keras.layers.Dense(1))\n",
        "model.add(tf.keras.layers.Dense(1))"
      ],
      "metadata": {
        "id": "YM-kOlIPzdM1"
      },
      "execution_count": 9,
      "outputs": []
    },
    {
      "cell_type": "code",
      "source": [
        "# Set random seed\n",
        "tf.random.set_seed(42)\n",
        "# 1. Create a model using the Sequential API\n",
        "model = tf.keras.Sequential([\n",
        "    tf.keras.layers.Dense(1),\n",
        "    tf.keras.layers.Dense(1)\n",
        "\n",
        "])\n",
        "\n",
        "# 2. Compile the model\n",
        "model.compile(loss=tf.keras.losses.mae, # mae is short for mean absolute error\n",
        "              optimizer=tf.keras.optimizers.SGD(), # sgd is short for stochastic gradient descent\n",
        "              metrics=[\"mae\"])\n",
        "\n",
        "# 3. Fit the model\n",
        "model.fit(tf.expand_dims(X, axis=-1), y, epochs=5)"
      ],
      "metadata": {
        "id": "jZi7FfNkm9by",
        "colab": {
          "base_uri": "https://localhost:8080/"
        },
        "outputId": "309678e3-6100-4900-af31-82e80e06405e"
      },
      "execution_count": 10,
      "outputs": [
        {
          "output_type": "stream",
          "name": "stdout",
          "text": [
            "Epoch 1/5\n",
            "1/1 [==============================] - 1s 1s/step - loss: 13.1209 - mae: 13.1209\n",
            "Epoch 2/5\n",
            "1/1 [==============================] - 0s 34ms/step - loss: 13.0768 - mae: 13.0768\n",
            "Epoch 3/5\n",
            "1/1 [==============================] - 0s 24ms/step - loss: 13.0305 - mae: 13.0305\n",
            "Epoch 4/5\n",
            "1/1 [==============================] - 0s 21ms/step - loss: 12.9820 - mae: 12.9820\n",
            "Epoch 5/5\n",
            "1/1 [==============================] - 0s 24ms/step - loss: 12.9309 - mae: 12.9309\n"
          ]
        },
        {
          "output_type": "execute_result",
          "data": {
            "text/plain": [
              "<keras.src.callbacks.History at 0x7858d8aeb640>"
            ]
          },
          "metadata": {},
          "execution_count": 10
        }
      ]
    },
    {
      "cell_type": "code",
      "source": [
        "# Check out X, and y\n",
        "X, y"
      ],
      "metadata": {
        "colab": {
          "base_uri": "https://localhost:8080/"
        },
        "id": "9924Ks0cyEZc",
        "outputId": "3e9ee94b-3dd4-4a19-acf2-945cc00bdbee"
      },
      "execution_count": 11,
      "outputs": [
        {
          "output_type": "execute_result",
          "data": {
            "text/plain": [
              "(<tf.Tensor: shape=(8,), dtype=float32, numpy=array([-7., -4., -1.,  2.,  5.,  8., 11., 14.], dtype=float32)>,\n",
              " <tf.Tensor: shape=(8,), dtype=float32, numpy=array([ 3.,  6.,  9., 12., 15., 18., 21., 24.], dtype=float32)>)"
            ]
          },
          "metadata": {},
          "execution_count": 11
        }
      ]
    },
    {
      "cell_type": "code",
      "source": [
        "# Try and make a prediction using our model\n",
        "y_pred = model.predict([17.0])\n",
        "y_pred"
      ],
      "metadata": {
        "colab": {
          "base_uri": "https://localhost:8080/"
        },
        "id": "zaNtc7a57T9y",
        "outputId": "28e2b661-8610-4ba2-cb6f-3b1fc0e95ec1"
      },
      "execution_count": 12,
      "outputs": [
        {
          "output_type": "stream",
          "name": "stdout",
          "text": [
            "1/1 [==============================] - 0s 188ms/step\n"
          ]
        },
        {
          "output_type": "execute_result",
          "data": {
            "text/plain": [
              "array([[2.7877326]], dtype=float32)"
            ]
          },
          "metadata": {},
          "execution_count": 12
        }
      ]
    },
    {
      "cell_type": "code",
      "source": [
        "y_pred + 18"
      ],
      "metadata": {
        "colab": {
          "base_uri": "https://localhost:8080/"
        },
        "id": "nqNb7qQL7t7U",
        "outputId": "7f79d1ec-5021-40dc-fe53-4b567754ff5c"
      },
      "execution_count": 13,
      "outputs": [
        {
          "output_type": "execute_result",
          "data": {
            "text/plain": [
              "array([[20.787733]], dtype=float32)"
            ]
          },
          "metadata": {},
          "execution_count": 13
        }
      ]
    },
    {
      "cell_type": "markdown",
      "source": [
        "## Improving our model\n",
        "\n",
        "We can improve our model, by astering the steps we took to create a model.\n",
        "\n",
        "1. **Creating a model** - here we might add more layers,\n",
        "increase the number of hidden units (all called neurons) within each of the hidden layers, change the activation function of each layer.\n",
        "2. **Compiling a model** - here we might change the optimization function or perhaps the **learning rate** of the optimization function.\n",
        "3. **Fitting a model** - here we might fit a model for more **epochs** (leave it training for longer) or on more data (give the model more examples to learn from)."
      ],
      "metadata": {
        "id": "6ZSGWPSe8Fpe"
      }
    },
    {
      "cell_type": "code",
      "source": [
        "# Let's rebuild our model\n",
        "\n",
        "# 1. Create the model\n",
        "model = tf.keras.Sequential([\n",
        "    tf.keras.layers.Dense(1)\n",
        "])\n",
        "\n",
        "# 2. Compile the model\n",
        "model.compile(loss=tf.keras.losses.mae,\n",
        "              optimizer=tf.keras.optimizers.SGD(),\n",
        "              metrics=[\"mae\"])\n",
        "# 3. Fit the model (this time we'll train for longer)\n",
        "model.fit(tf.expand_dims(X, axis=-1), y, epochs=100)"
      ],
      "metadata": {
        "colab": {
          "base_uri": "https://localhost:8080/"
        },
        "id": "sG_Jes1K8z-M",
        "outputId": "979bf765-a2eb-4afc-b953-e49e388c13cc"
      },
      "execution_count": 14,
      "outputs": [
        {
          "output_type": "stream",
          "name": "stdout",
          "text": [
            "Epoch 1/100\n",
            "1/1 [==============================] - 1s 1s/step - loss: 10.0291 - mae: 10.0291\n",
            "Epoch 2/100\n",
            "1/1 [==============================] - 0s 24ms/step - loss: 9.8966 - mae: 9.8966\n",
            "Epoch 3/100\n",
            "1/1 [==============================] - 0s 13ms/step - loss: 9.7641 - mae: 9.7641\n",
            "Epoch 4/100\n",
            "1/1 [==============================] - 0s 16ms/step - loss: 9.6316 - mae: 9.6316\n",
            "Epoch 5/100\n",
            "1/1 [==============================] - 0s 20ms/step - loss: 9.4991 - mae: 9.4991\n",
            "Epoch 6/100\n",
            "1/1 [==============================] - 0s 12ms/step - loss: 9.3666 - mae: 9.3666\n",
            "Epoch 7/100\n",
            "1/1 [==============================] - 0s 30ms/step - loss: 9.2341 - mae: 9.2341\n",
            "Epoch 8/100\n",
            "1/1 [==============================] - 0s 10ms/step - loss: 9.1016 - mae: 9.1016\n",
            "Epoch 9/100\n",
            "1/1 [==============================] - 0s 23ms/step - loss: 8.9691 - mae: 8.9691\n",
            "Epoch 10/100\n",
            "1/1 [==============================] - 0s 37ms/step - loss: 8.8366 - mae: 8.8366\n",
            "Epoch 11/100\n",
            "1/1 [==============================] - 0s 35ms/step - loss: 8.7041 - mae: 8.7041\n",
            "Epoch 12/100\n",
            "1/1 [==============================] - 0s 23ms/step - loss: 8.5716 - mae: 8.5716\n",
            "Epoch 13/100\n",
            "1/1 [==============================] - 0s 16ms/step - loss: 8.4391 - mae: 8.4391\n",
            "Epoch 14/100\n",
            "1/1 [==============================] - 0s 14ms/step - loss: 8.3066 - mae: 8.3066\n",
            "Epoch 15/100\n",
            "1/1 [==============================] - 0s 10ms/step - loss: 8.1741 - mae: 8.1741\n",
            "Epoch 16/100\n",
            "1/1 [==============================] - 0s 19ms/step - loss: 8.0416 - mae: 8.0416\n",
            "Epoch 17/100\n",
            "1/1 [==============================] - 0s 15ms/step - loss: 7.9091 - mae: 7.9091\n",
            "Epoch 18/100\n",
            "1/1 [==============================] - 0s 13ms/step - loss: 7.7766 - mae: 7.7766\n",
            "Epoch 19/100\n",
            "1/1 [==============================] - 0s 20ms/step - loss: 7.6441 - mae: 7.6441\n",
            "Epoch 20/100\n",
            "1/1 [==============================] - 0s 18ms/step - loss: 7.5116 - mae: 7.5116\n",
            "Epoch 21/100\n",
            "1/1 [==============================] - 0s 56ms/step - loss: 7.3791 - mae: 7.3791\n",
            "Epoch 22/100\n",
            "1/1 [==============================] - 0s 26ms/step - loss: 7.3425 - mae: 7.3425\n",
            "Epoch 23/100\n",
            "1/1 [==============================] - 0s 14ms/step - loss: 7.3369 - mae: 7.3369\n",
            "Epoch 24/100\n",
            "1/1 [==============================] - 0s 67ms/step - loss: 7.3313 - mae: 7.3313\n",
            "Epoch 25/100\n",
            "1/1 [==============================] - 0s 40ms/step - loss: 7.3256 - mae: 7.3256\n",
            "Epoch 26/100\n",
            "1/1 [==============================] - 0s 22ms/step - loss: 7.3200 - mae: 7.3200\n",
            "Epoch 27/100\n",
            "1/1 [==============================] - 0s 21ms/step - loss: 7.3144 - mae: 7.3144\n",
            "Epoch 28/100\n",
            "1/1 [==============================] - 0s 50ms/step - loss: 7.3088 - mae: 7.3088\n",
            "Epoch 29/100\n",
            "1/1 [==============================] - 0s 29ms/step - loss: 7.3031 - mae: 7.3031\n",
            "Epoch 30/100\n",
            "1/1 [==============================] - 0s 36ms/step - loss: 7.2975 - mae: 7.2975\n",
            "Epoch 31/100\n",
            "1/1 [==============================] - 0s 36ms/step - loss: 7.2919 - mae: 7.2919\n",
            "Epoch 32/100\n",
            "1/1 [==============================] - 0s 26ms/step - loss: 7.2862 - mae: 7.2862\n",
            "Epoch 33/100\n",
            "1/1 [==============================] - 0s 21ms/step - loss: 7.2806 - mae: 7.2806\n",
            "Epoch 34/100\n",
            "1/1 [==============================] - 0s 16ms/step - loss: 7.2750 - mae: 7.2750\n",
            "Epoch 35/100\n",
            "1/1 [==============================] - 0s 21ms/step - loss: 7.2694 - mae: 7.2694\n",
            "Epoch 36/100\n",
            "1/1 [==============================] - 0s 28ms/step - loss: 7.2638 - mae: 7.2638\n",
            "Epoch 37/100\n",
            "1/1 [==============================] - 0s 46ms/step - loss: 7.2581 - mae: 7.2581\n",
            "Epoch 38/100\n",
            "1/1 [==============================] - 0s 31ms/step - loss: 7.2525 - mae: 7.2525\n",
            "Epoch 39/100\n",
            "1/1 [==============================] - 0s 34ms/step - loss: 7.2469 - mae: 7.2469\n",
            "Epoch 40/100\n",
            "1/1 [==============================] - 0s 19ms/step - loss: 7.2413 - mae: 7.2413\n",
            "Epoch 41/100\n",
            "1/1 [==============================] - 0s 22ms/step - loss: 7.2356 - mae: 7.2356\n",
            "Epoch 42/100\n",
            "1/1 [==============================] - 0s 25ms/step - loss: 7.2300 - mae: 7.2300\n",
            "Epoch 43/100\n",
            "1/1 [==============================] - 0s 30ms/step - loss: 7.2244 - mae: 7.2244\n",
            "Epoch 44/100\n",
            "1/1 [==============================] - 0s 27ms/step - loss: 7.2188 - mae: 7.2188\n",
            "Epoch 45/100\n",
            "1/1 [==============================] - 0s 28ms/step - loss: 7.2131 - mae: 7.2131\n",
            "Epoch 46/100\n",
            "1/1 [==============================] - 0s 30ms/step - loss: 7.2075 - mae: 7.2075\n",
            "Epoch 47/100\n",
            "1/1 [==============================] - 0s 26ms/step - loss: 7.2019 - mae: 7.2019\n",
            "Epoch 48/100\n",
            "1/1 [==============================] - 0s 26ms/step - loss: 7.1963 - mae: 7.1963\n",
            "Epoch 49/100\n",
            "1/1 [==============================] - 0s 18ms/step - loss: 7.1906 - mae: 7.1906\n",
            "Epoch 50/100\n",
            "1/1 [==============================] - 0s 30ms/step - loss: 7.1850 - mae: 7.1850\n",
            "Epoch 51/100\n",
            "1/1 [==============================] - 0s 21ms/step - loss: 7.1794 - mae: 7.1794\n",
            "Epoch 52/100\n",
            "1/1 [==============================] - 0s 17ms/step - loss: 7.1737 - mae: 7.1737\n",
            "Epoch 53/100\n",
            "1/1 [==============================] - 0s 22ms/step - loss: 7.1681 - mae: 7.1681\n",
            "Epoch 54/100\n",
            "1/1 [==============================] - 0s 18ms/step - loss: 7.1625 - mae: 7.1625\n",
            "Epoch 55/100\n",
            "1/1 [==============================] - 0s 23ms/step - loss: 7.1569 - mae: 7.1569\n",
            "Epoch 56/100\n",
            "1/1 [==============================] - 0s 40ms/step - loss: 7.1512 - mae: 7.1512\n",
            "Epoch 57/100\n",
            "1/1 [==============================] - 0s 19ms/step - loss: 7.1456 - mae: 7.1456\n",
            "Epoch 58/100\n",
            "1/1 [==============================] - 0s 21ms/step - loss: 7.1400 - mae: 7.1400\n",
            "Epoch 59/100\n",
            "1/1 [==============================] - 0s 19ms/step - loss: 7.1344 - mae: 7.1344\n",
            "Epoch 60/100\n",
            "1/1 [==============================] - 0s 24ms/step - loss: 7.1287 - mae: 7.1287\n",
            "Epoch 61/100\n",
            "1/1 [==============================] - 0s 40ms/step - loss: 7.1231 - mae: 7.1231\n",
            "Epoch 62/100\n",
            "1/1 [==============================] - 0s 24ms/step - loss: 7.1175 - mae: 7.1175\n",
            "Epoch 63/100\n",
            "1/1 [==============================] - 0s 17ms/step - loss: 7.1119 - mae: 7.1119\n",
            "Epoch 64/100\n",
            "1/1 [==============================] - 0s 22ms/step - loss: 7.1062 - mae: 7.1062\n",
            "Epoch 65/100\n",
            "1/1 [==============================] - 0s 28ms/step - loss: 7.1006 - mae: 7.1006\n",
            "Epoch 66/100\n",
            "1/1 [==============================] - 0s 17ms/step - loss: 7.0950 - mae: 7.0950\n",
            "Epoch 67/100\n",
            "1/1 [==============================] - 0s 15ms/step - loss: 7.0894 - mae: 7.0894\n",
            "Epoch 68/100\n",
            "1/1 [==============================] - 0s 27ms/step - loss: 7.0838 - mae: 7.0838\n",
            "Epoch 69/100\n",
            "1/1 [==============================] - 0s 19ms/step - loss: 7.0781 - mae: 7.0781\n",
            "Epoch 70/100\n",
            "1/1 [==============================] - 0s 36ms/step - loss: 7.0725 - mae: 7.0725\n",
            "Epoch 71/100\n",
            "1/1 [==============================] - 0s 21ms/step - loss: 7.0669 - mae: 7.0669\n",
            "Epoch 72/100\n",
            "1/1 [==============================] - 0s 19ms/step - loss: 7.0613 - mae: 7.0613\n",
            "Epoch 73/100\n",
            "1/1 [==============================] - 0s 28ms/step - loss: 7.0556 - mae: 7.0556\n",
            "Epoch 74/100\n",
            "1/1 [==============================] - 0s 45ms/step - loss: 7.0500 - mae: 7.0500\n",
            "Epoch 75/100\n",
            "1/1 [==============================] - 0s 49ms/step - loss: 7.0444 - mae: 7.0444\n",
            "Epoch 76/100\n",
            "1/1 [==============================] - 0s 46ms/step - loss: 7.0388 - mae: 7.0388\n",
            "Epoch 77/100\n",
            "1/1 [==============================] - 0s 29ms/step - loss: 7.0331 - mae: 7.0331\n",
            "Epoch 78/100\n",
            "1/1 [==============================] - 0s 22ms/step - loss: 7.0275 - mae: 7.0275\n",
            "Epoch 79/100\n",
            "1/1 [==============================] - 0s 14ms/step - loss: 7.0219 - mae: 7.0219\n",
            "Epoch 80/100\n",
            "1/1 [==============================] - 0s 20ms/step - loss: 7.0163 - mae: 7.0163\n",
            "Epoch 81/100\n",
            "1/1 [==============================] - 0s 21ms/step - loss: 7.0106 - mae: 7.0106\n",
            "Epoch 82/100\n",
            "1/1 [==============================] - 0s 21ms/step - loss: 7.0050 - mae: 7.0050\n",
            "Epoch 83/100\n",
            "1/1 [==============================] - 0s 31ms/step - loss: 6.9994 - mae: 6.9994\n",
            "Epoch 84/100\n",
            "1/1 [==============================] - 0s 22ms/step - loss: 6.9938 - mae: 6.9938\n",
            "Epoch 85/100\n",
            "1/1 [==============================] - 0s 21ms/step - loss: 6.9881 - mae: 6.9881\n",
            "Epoch 86/100\n",
            "1/1 [==============================] - 0s 18ms/step - loss: 6.9825 - mae: 6.9825\n",
            "Epoch 87/100\n",
            "1/1 [==============================] - 0s 22ms/step - loss: 6.9769 - mae: 6.9769\n",
            "Epoch 88/100\n",
            "1/1 [==============================] - 0s 27ms/step - loss: 6.9713 - mae: 6.9713\n",
            "Epoch 89/100\n",
            "1/1 [==============================] - 0s 18ms/step - loss: 6.9656 - mae: 6.9656\n",
            "Epoch 90/100\n",
            "1/1 [==============================] - 0s 32ms/step - loss: 6.9600 - mae: 6.9600\n",
            "Epoch 91/100\n",
            "1/1 [==============================] - 0s 23ms/step - loss: 6.9544 - mae: 6.9544\n",
            "Epoch 92/100\n",
            "1/1 [==============================] - 0s 17ms/step - loss: 6.9488 - mae: 6.9488\n",
            "Epoch 93/100\n",
            "1/1 [==============================] - 0s 24ms/step - loss: 6.9431 - mae: 6.9431\n",
            "Epoch 94/100\n",
            "1/1 [==============================] - 0s 43ms/step - loss: 6.9375 - mae: 6.9375\n",
            "Epoch 95/100\n",
            "1/1 [==============================] - 0s 34ms/step - loss: 6.9319 - mae: 6.9319\n",
            "Epoch 96/100\n",
            "1/1 [==============================] - 0s 36ms/step - loss: 6.9263 - mae: 6.9263\n",
            "Epoch 97/100\n",
            "1/1 [==============================] - 0s 31ms/step - loss: 6.9206 - mae: 6.9206\n",
            "Epoch 98/100\n",
            "1/1 [==============================] - 0s 14ms/step - loss: 6.9150 - mae: 6.9150\n",
            "Epoch 99/100\n",
            "1/1 [==============================] - 0s 16ms/step - loss: 6.9094 - mae: 6.9094\n",
            "Epoch 100/100\n",
            "1/1 [==============================] - 0s 17ms/step - loss: 6.9038 - mae: 6.9038\n"
          ]
        },
        {
          "output_type": "execute_result",
          "data": {
            "text/plain": [
              "<keras.src.callbacks.History at 0x7858cbf06170>"
            ]
          },
          "metadata": {},
          "execution_count": 14
        }
      ]
    },
    {
      "cell_type": "code",
      "source": [
        "# Remind ourselves of the data\n",
        "X, y"
      ],
      "metadata": {
        "id": "cLLGIsIWDA0J",
        "outputId": "38a21bfb-1fd9-4f0f-c8e0-b8f9843d1301",
        "colab": {
          "base_uri": "https://localhost:8080/"
        }
      },
      "execution_count": 15,
      "outputs": [
        {
          "output_type": "execute_result",
          "data": {
            "text/plain": [
              "(<tf.Tensor: shape=(8,), dtype=float32, numpy=array([-7., -4., -1.,  2.,  5.,  8., 11., 14.], dtype=float32)>,\n",
              " <tf.Tensor: shape=(8,), dtype=float32, numpy=array([ 3.,  6.,  9., 12., 15., 18., 21., 24.], dtype=float32)>)"
            ]
          },
          "metadata": {},
          "execution_count": 15
        }
      ]
    },
    {
      "cell_type": "code",
      "source": [
        "# Let's see if our model's prediction has improved...\n",
        "model.predict([17.0])"
      ],
      "metadata": {
        "id": "gByFKupbFTdw",
        "colab": {
          "base_uri": "https://localhost:8080/"
        },
        "outputId": "d4bb0c0c-95cd-46d9-9292-9099ed65138b"
      },
      "execution_count": 17,
      "outputs": [
        {
          "output_type": "stream",
          "name": "stdout",
          "text": [
            "1/1 [==============================] - 0s 154ms/step\n"
          ]
        },
        {
          "output_type": "execute_result",
          "data": {
            "text/plain": [
              "array([[30.156116]], dtype=float32)"
            ]
          },
          "metadata": {},
          "execution_count": 17
        }
      ]
    },
    {
      "cell_type": "markdown",
      "source": [
        "### Create a new model"
      ],
      "metadata": {
        "id": "pRt7GerdyLpM"
      }
    },
    {
      "cell_type": "code",
      "source": [
        "# Create\n",
        "model = tf.keras.Sequential([\n",
        "    tf.keras.layers.Dense(100, activation=\"relu\"),\n",
        "    tf.keras.layers.Dense(100, activation=\"relu\"),\n",
        "    tf.keras.layers.Dense(100, activation=\"relu\"),\n",
        "    tf.keras.layers.Dense(1)\n",
        "])\n",
        "\n",
        "# Compile\n",
        "model.compile(loss=tf.keras.losses.mae,\n",
        "              optimizer=tf.keras.optimizers.SGD(),\n",
        "              metrics=[\"mae\"])\n",
        "# Fit\n",
        "model.fit(tf.expand_dims(X, axis=-1), y, epochs=100)"
      ],
      "metadata": {
        "colab": {
          "base_uri": "https://localhost:8080/"
        },
        "id": "IfIIKP0Fy1P1",
        "outputId": "f51dae27-e16d-462b-9187-b159be1bc40f"
      },
      "execution_count": 22,
      "outputs": [
        {
          "output_type": "stream",
          "name": "stdout",
          "text": [
            "Epoch 1/100\n",
            "1/1 [==============================] - 1s 539ms/step - loss: 13.6644 - mae: 13.6644\n",
            "Epoch 2/100\n",
            "1/1 [==============================] - 0s 10ms/step - loss: 13.4375 - mae: 13.4375\n",
            "Epoch 3/100\n",
            "1/1 [==============================] - 0s 12ms/step - loss: 13.2183 - mae: 13.2183\n",
            "Epoch 4/100\n",
            "1/1 [==============================] - 0s 9ms/step - loss: 12.9965 - mae: 12.9965\n",
            "Epoch 5/100\n",
            "1/1 [==============================] - 0s 11ms/step - loss: 12.7866 - mae: 12.7866\n",
            "Epoch 6/100\n",
            "1/1 [==============================] - 0s 10ms/step - loss: 12.5625 - mae: 12.5625\n",
            "Epoch 7/100\n",
            "1/1 [==============================] - 0s 10ms/step - loss: 12.3203 - mae: 12.3203\n",
            "Epoch 8/100\n",
            "1/1 [==============================] - 0s 12ms/step - loss: 12.0536 - mae: 12.0536\n",
            "Epoch 9/100\n",
            "1/1 [==============================] - 0s 13ms/step - loss: 11.7562 - mae: 11.7562\n",
            "Epoch 10/100\n",
            "1/1 [==============================] - 0s 12ms/step - loss: 11.4080 - mae: 11.4080\n",
            "Epoch 11/100\n",
            "1/1 [==============================] - 0s 11ms/step - loss: 10.9876 - mae: 10.9876\n",
            "Epoch 12/100\n",
            "1/1 [==============================] - 0s 11ms/step - loss: 10.4815 - mae: 10.4815\n",
            "Epoch 13/100\n",
            "1/1 [==============================] - 0s 10ms/step - loss: 9.8434 - mae: 9.8434\n",
            "Epoch 14/100\n",
            "1/1 [==============================] - 0s 10ms/step - loss: 9.0508 - mae: 9.0508\n",
            "Epoch 15/100\n",
            "1/1 [==============================] - 0s 10ms/step - loss: 8.2182 - mae: 8.2182\n",
            "Epoch 16/100\n",
            "1/1 [==============================] - 0s 10ms/step - loss: 7.1181 - mae: 7.1181\n",
            "Epoch 17/100\n",
            "1/1 [==============================] - 0s 12ms/step - loss: 5.6465 - mae: 5.6465\n",
            "Epoch 18/100\n",
            "1/1 [==============================] - 0s 10ms/step - loss: 3.9640 - mae: 3.9640\n",
            "Epoch 19/100\n",
            "1/1 [==============================] - 0s 10ms/step - loss: 3.9571 - mae: 3.9571\n",
            "Epoch 20/100\n",
            "1/1 [==============================] - 0s 10ms/step - loss: 3.9204 - mae: 3.9204\n",
            "Epoch 21/100\n",
            "1/1 [==============================] - 0s 10ms/step - loss: 3.9658 - mae: 3.9658\n",
            "Epoch 22/100\n",
            "1/1 [==============================] - 0s 10ms/step - loss: 3.8701 - mae: 3.8701\n",
            "Epoch 23/100\n",
            "1/1 [==============================] - 0s 11ms/step - loss: 3.9771 - mae: 3.9771\n",
            "Epoch 24/100\n",
            "1/1 [==============================] - 0s 12ms/step - loss: 3.8186 - mae: 3.8186\n",
            "Epoch 25/100\n",
            "1/1 [==============================] - 0s 10ms/step - loss: 3.9887 - mae: 3.9887\n",
            "Epoch 26/100\n",
            "1/1 [==============================] - 0s 11ms/step - loss: 3.7828 - mae: 3.7828\n",
            "Epoch 27/100\n",
            "1/1 [==============================] - 0s 10ms/step - loss: 3.9718 - mae: 3.9718\n",
            "Epoch 28/100\n",
            "1/1 [==============================] - 0s 10ms/step - loss: 3.7959 - mae: 3.7959\n",
            "Epoch 29/100\n",
            "1/1 [==============================] - 0s 10ms/step - loss: 3.9184 - mae: 3.9184\n",
            "Epoch 30/100\n",
            "1/1 [==============================] - 0s 10ms/step - loss: 3.8102 - mae: 3.8102\n",
            "Epoch 31/100\n",
            "1/1 [==============================] - 0s 12ms/step - loss: 3.8633 - mae: 3.8633\n",
            "Epoch 32/100\n",
            "1/1 [==============================] - 0s 13ms/step - loss: 3.8258 - mae: 3.8258\n",
            "Epoch 33/100\n",
            "1/1 [==============================] - 0s 10ms/step - loss: 3.8087 - mae: 3.8087\n",
            "Epoch 34/100\n",
            "1/1 [==============================] - 0s 10ms/step - loss: 3.8411 - mae: 3.8411\n",
            "Epoch 35/100\n",
            "1/1 [==============================] - 0s 14ms/step - loss: 3.7515 - mae: 3.7515\n",
            "Epoch 36/100\n",
            "1/1 [==============================] - 0s 11ms/step - loss: 3.8559 - mae: 3.8559\n",
            "Epoch 37/100\n",
            "1/1 [==============================] - 0s 12ms/step - loss: 3.6937 - mae: 3.6937\n",
            "Epoch 38/100\n",
            "1/1 [==============================] - 0s 11ms/step - loss: 3.8759 - mae: 3.8759\n",
            "Epoch 39/100\n",
            "1/1 [==============================] - 0s 14ms/step - loss: 3.6745 - mae: 3.6745\n",
            "Epoch 40/100\n",
            "1/1 [==============================] - 0s 10ms/step - loss: 3.8393 - mae: 3.8393\n",
            "Epoch 41/100\n",
            "1/1 [==============================] - 0s 10ms/step - loss: 3.6928 - mae: 3.6928\n",
            "Epoch 42/100\n",
            "1/1 [==============================] - 0s 10ms/step - loss: 3.7754 - mae: 3.7754\n",
            "Epoch 43/100\n",
            "1/1 [==============================] - 0s 10ms/step - loss: 3.7137 - mae: 3.7137\n",
            "Epoch 44/100\n",
            "1/1 [==============================] - 0s 10ms/step - loss: 3.7102 - mae: 3.7102\n",
            "Epoch 45/100\n",
            "1/1 [==============================] - 0s 10ms/step - loss: 3.7361 - mae: 3.7361\n",
            "Epoch 46/100\n",
            "1/1 [==============================] - 0s 10ms/step - loss: 3.6438 - mae: 3.6438\n",
            "Epoch 47/100\n",
            "1/1 [==============================] - 0s 11ms/step - loss: 3.7598 - mae: 3.7598\n",
            "Epoch 48/100\n",
            "1/1 [==============================] - 0s 10ms/step - loss: 3.5760 - mae: 3.5760\n",
            "Epoch 49/100\n",
            "1/1 [==============================] - 0s 12ms/step - loss: 3.7838 - mae: 3.7838\n",
            "Epoch 50/100\n",
            "1/1 [==============================] - 0s 11ms/step - loss: 3.5877 - mae: 3.5877\n",
            "Epoch 51/100\n",
            "1/1 [==============================] - 0s 10ms/step - loss: 3.6914 - mae: 3.6914\n",
            "Epoch 52/100\n",
            "1/1 [==============================] - 0s 10ms/step - loss: 3.6494 - mae: 3.6494\n",
            "Epoch 53/100\n",
            "1/1 [==============================] - 0s 10ms/step - loss: 3.6201 - mae: 3.6201\n",
            "Epoch 54/100\n",
            "1/1 [==============================] - 0s 9ms/step - loss: 3.6748 - mae: 3.6748\n",
            "Epoch 55/100\n",
            "1/1 [==============================] - 0s 10ms/step - loss: 3.5473 - mae: 3.5473\n",
            "Epoch 56/100\n",
            "1/1 [==============================] - 0s 10ms/step - loss: 3.7027 - mae: 3.7027\n",
            "Epoch 57/100\n",
            "1/1 [==============================] - 0s 11ms/step - loss: 3.5116 - mae: 3.5116\n",
            "Epoch 58/100\n",
            "1/1 [==============================] - 0s 10ms/step - loss: 3.6827 - mae: 3.6827\n",
            "Epoch 59/100\n",
            "1/1 [==============================] - 0s 10ms/step - loss: 3.5746 - mae: 3.5746\n",
            "Epoch 60/100\n",
            "1/1 [==============================] - 0s 11ms/step - loss: 3.5800 - mae: 3.5800\n",
            "Epoch 61/100\n",
            "1/1 [==============================] - 0s 10ms/step - loss: 3.6016 - mae: 3.6016\n",
            "Epoch 62/100\n",
            "1/1 [==============================] - 0s 10ms/step - loss: 3.5029 - mae: 3.5029\n",
            "Epoch 63/100\n",
            "1/1 [==============================] - 0s 10ms/step - loss: 3.6311 - mae: 3.6311\n",
            "Epoch 64/100\n",
            "1/1 [==============================] - 0s 13ms/step - loss: 3.4447 - mae: 3.4447\n",
            "Epoch 65/100\n",
            "1/1 [==============================] - 0s 15ms/step - loss: 3.6273 - mae: 3.6273\n",
            "Epoch 66/100\n",
            "1/1 [==============================] - 0s 11ms/step - loss: 3.4729 - mae: 3.4729\n",
            "Epoch 67/100\n",
            "1/1 [==============================] - 0s 9ms/step - loss: 3.5491 - mae: 3.5491\n",
            "Epoch 68/100\n",
            "1/1 [==============================] - 0s 10ms/step - loss: 3.5032 - mae: 3.5032\n",
            "Epoch 69/100\n",
            "1/1 [==============================] - 0s 11ms/step - loss: 3.4652 - mae: 3.4652\n",
            "Epoch 70/100\n",
            "1/1 [==============================] - 0s 10ms/step - loss: 3.5325 - mae: 3.5325\n",
            "Epoch 71/100\n",
            "1/1 [==============================] - 0s 11ms/step - loss: 3.3855 - mae: 3.3855\n",
            "Epoch 72/100\n",
            "1/1 [==============================] - 0s 10ms/step - loss: 3.6022 - mae: 3.6022\n",
            "Epoch 73/100\n",
            "1/1 [==============================] - 0s 10ms/step - loss: 3.4122 - mae: 3.4122\n",
            "Epoch 74/100\n",
            "1/1 [==============================] - 0s 10ms/step - loss: 3.4670 - mae: 3.4670\n",
            "Epoch 75/100\n",
            "1/1 [==============================] - 0s 10ms/step - loss: 3.4534 - mae: 3.4534\n",
            "Epoch 76/100\n",
            "1/1 [==============================] - 0s 11ms/step - loss: 3.3823 - mae: 3.3823\n",
            "Epoch 77/100\n",
            "1/1 [==============================] - 0s 10ms/step - loss: 3.4870 - mae: 3.4870\n",
            "Epoch 78/100\n",
            "1/1 [==============================] - 0s 11ms/step - loss: 3.3002 - mae: 3.3002\n",
            "Epoch 79/100\n",
            "1/1 [==============================] - 0s 10ms/step - loss: 3.5013 - mae: 3.5013\n",
            "Epoch 80/100\n",
            "1/1 [==============================] - 0s 10ms/step - loss: 3.3660 - mae: 3.3660\n",
            "Epoch 81/100\n",
            "1/1 [==============================] - 0s 9ms/step - loss: 3.3890 - mae: 3.3890\n",
            "Epoch 82/100\n",
            "1/1 [==============================] - 0s 14ms/step - loss: 3.4014 - mae: 3.4014\n",
            "Epoch 83/100\n",
            "1/1 [==============================] - 0s 10ms/step - loss: 3.2916 - mae: 3.2916\n",
            "Epoch 84/100\n",
            "1/1 [==============================] - 0s 11ms/step - loss: 3.4390 - mae: 3.4390\n",
            "Epoch 85/100\n",
            "1/1 [==============================] - 0s 11ms/step - loss: 3.2537 - mae: 3.2537\n",
            "Epoch 86/100\n",
            "1/1 [==============================] - 0s 14ms/step - loss: 3.4038 - mae: 3.4038\n",
            "Epoch 87/100\n",
            "1/1 [==============================] - 0s 10ms/step - loss: 3.2914 - mae: 3.2914\n",
            "Epoch 88/100\n",
            "1/1 [==============================] - 0s 10ms/step - loss: 3.3004 - mae: 3.3004\n",
            "Epoch 89/100\n",
            "1/1 [==============================] - 0s 12ms/step - loss: 3.3293 - mae: 3.3293\n",
            "Epoch 90/100\n",
            "1/1 [==============================] - 0s 11ms/step - loss: 3.1971 - mae: 3.1971\n",
            "Epoch 91/100\n",
            "1/1 [==============================] - 0s 15ms/step - loss: 3.3708 - mae: 3.3708\n",
            "Epoch 92/100\n",
            "1/1 [==============================] - 0s 12ms/step - loss: 3.1866 - mae: 3.1866\n",
            "Epoch 93/100\n",
            "1/1 [==============================] - 0s 13ms/step - loss: 3.3213 - mae: 3.3213\n",
            "Epoch 94/100\n",
            "1/1 [==============================] - 0s 11ms/step - loss: 3.2554 - mae: 3.2554\n",
            "Epoch 95/100\n",
            "1/1 [==============================] - 0s 11ms/step - loss: 3.1846 - mae: 3.1846\n",
            "Epoch 96/100\n",
            "1/1 [==============================] - 0s 11ms/step - loss: 3.2969 - mae: 3.2969\n",
            "Epoch 97/100\n",
            "1/1 [==============================] - 0s 11ms/step - loss: 3.1207 - mae: 3.1207\n",
            "Epoch 98/100\n",
            "1/1 [==============================] - 0s 10ms/step - loss: 3.2751 - mae: 3.2751\n",
            "Epoch 99/100\n",
            "1/1 [==============================] - 0s 10ms/step - loss: 3.1611 - mae: 3.1611\n",
            "Epoch 100/100\n",
            "1/1 [==============================] - 0s 12ms/step - loss: 3.1588 - mae: 3.1588\n"
          ]
        },
        {
          "output_type": "execute_result",
          "data": {
            "text/plain": [
              "<keras.src.callbacks.History at 0x7858c521b250>"
            ]
          },
          "metadata": {},
          "execution_count": 22
        }
      ]
    },
    {
      "cell_type": "code",
      "source": [
        "model.predict([17.0])"
      ],
      "metadata": {
        "colab": {
          "base_uri": "https://localhost:8080/"
        },
        "id": "-hgI8mhqz341",
        "outputId": "6652198e-ed19-431e-890e-e2cd9394e4a0"
      },
      "execution_count": 23,
      "outputs": [
        {
          "output_type": "stream",
          "name": "stdout",
          "text": [
            "1/1 [==============================] - 0s 83ms/step\n"
          ]
        },
        {
          "output_type": "execute_result",
          "data": {
            "text/plain": [
              "array([[33.3517]], dtype=float32)"
            ]
          },
          "metadata": {},
          "execution_count": 23
        }
      ]
    },
    {
      "cell_type": "code",
      "source": [
        "# Let's see if we can make another to improve our model\n",
        "\n",
        "# Create the model (this time with an extra hidden layer with 100 hidden units)\n",
        "model = tf.keras.Sequential([\n",
        "    tf.keras.layers.Dense(50, activation=None),\n",
        "    tf.keras.layers.Dense(1)\n",
        "])\n",
        "\n",
        "# Compile\n",
        "model.compile(loss=\"mae\",\n",
        "              optimizer=tf.keras.optimizers.Adam(lr=0.01),\n",
        "              metrics=[\"mae\"])\n",
        "\n",
        "# Fit\n",
        "model.fit(tf.expand_dims(X, axis=-1), y, epochs=100)"
      ],
      "metadata": {
        "colab": {
          "base_uri": "https://localhost:8080/"
        },
        "id": "IzL0gvD50N1l",
        "outputId": "8291d40b-f9f4-4557-f957-0b50a75ab633"
      },
      "execution_count": 43,
      "outputs": [
        {
          "output_type": "stream",
          "name": "stderr",
          "text": [
            "WARNING:absl:`lr` is deprecated in Keras optimizer, please use `learning_rate` or use the legacy optimizer, e.g.,tf.keras.optimizers.legacy.Adam.\n"
          ]
        },
        {
          "output_type": "stream",
          "name": "stdout",
          "text": [
            "Epoch 1/100\n",
            "1/1 [==============================] - 1s 1s/step - loss: 13.6398 - mae: 13.6398\n",
            "Epoch 2/100\n",
            "1/1 [==============================] - 0s 22ms/step - loss: 13.5710 - mae: 13.5710\n",
            "Epoch 3/100\n",
            "1/1 [==============================] - 0s 18ms/step - loss: 13.5022 - mae: 13.5022\n",
            "Epoch 4/100\n",
            "1/1 [==============================] - 0s 17ms/step - loss: 13.4335 - mae: 13.4335\n",
            "Epoch 5/100\n",
            "1/1 [==============================] - 0s 18ms/step - loss: 13.3648 - mae: 13.3648\n",
            "Epoch 6/100\n",
            "1/1 [==============================] - 0s 12ms/step - loss: 13.2961 - mae: 13.2961\n",
            "Epoch 7/100\n",
            "1/1 [==============================] - 0s 23ms/step - loss: 13.2275 - mae: 13.2275\n",
            "Epoch 8/100\n",
            "1/1 [==============================] - 0s 20ms/step - loss: 13.1589 - mae: 13.1589\n",
            "Epoch 9/100\n",
            "1/1 [==============================] - 0s 37ms/step - loss: 13.0903 - mae: 13.0903\n",
            "Epoch 10/100\n",
            "1/1 [==============================] - 0s 39ms/step - loss: 13.0218 - mae: 13.0218\n",
            "Epoch 11/100\n",
            "1/1 [==============================] - 0s 13ms/step - loss: 12.9533 - mae: 12.9533\n",
            "Epoch 12/100\n",
            "1/1 [==============================] - 0s 16ms/step - loss: 12.8848 - mae: 12.8848\n",
            "Epoch 13/100\n",
            "1/1 [==============================] - 0s 19ms/step - loss: 12.8163 - mae: 12.8163\n",
            "Epoch 14/100\n",
            "1/1 [==============================] - 0s 15ms/step - loss: 12.7478 - mae: 12.7478\n",
            "Epoch 15/100\n",
            "1/1 [==============================] - 0s 18ms/step - loss: 12.6793 - mae: 12.6793\n",
            "Epoch 16/100\n",
            "1/1 [==============================] - 0s 16ms/step - loss: 12.6107 - mae: 12.6107\n",
            "Epoch 17/100\n",
            "1/1 [==============================] - 0s 13ms/step - loss: 12.5422 - mae: 12.5422\n",
            "Epoch 18/100\n",
            "1/1 [==============================] - 0s 24ms/step - loss: 12.4736 - mae: 12.4736\n",
            "Epoch 19/100\n",
            "1/1 [==============================] - 0s 13ms/step - loss: 12.4049 - mae: 12.4049\n",
            "Epoch 20/100\n",
            "1/1 [==============================] - 0s 18ms/step - loss: 12.3362 - mae: 12.3362\n",
            "Epoch 21/100\n",
            "1/1 [==============================] - 0s 14ms/step - loss: 12.2674 - mae: 12.2674\n",
            "Epoch 22/100\n",
            "1/1 [==============================] - 0s 19ms/step - loss: 12.1986 - mae: 12.1986\n",
            "Epoch 23/100\n",
            "1/1 [==============================] - 0s 15ms/step - loss: 12.1296 - mae: 12.1296\n",
            "Epoch 24/100\n",
            "1/1 [==============================] - 0s 17ms/step - loss: 12.0606 - mae: 12.0606\n",
            "Epoch 25/100\n",
            "1/1 [==============================] - 0s 17ms/step - loss: 11.9914 - mae: 11.9914\n",
            "Epoch 26/100\n",
            "1/1 [==============================] - 0s 20ms/step - loss: 11.9222 - mae: 11.9222\n",
            "Epoch 27/100\n",
            "1/1 [==============================] - 0s 12ms/step - loss: 11.8528 - mae: 11.8528\n",
            "Epoch 28/100\n",
            "1/1 [==============================] - 0s 20ms/step - loss: 11.7833 - mae: 11.7833\n",
            "Epoch 29/100\n",
            "1/1 [==============================] - 0s 14ms/step - loss: 11.7136 - mae: 11.7136\n",
            "Epoch 30/100\n",
            "1/1 [==============================] - 0s 20ms/step - loss: 11.6438 - mae: 11.6438\n",
            "Epoch 31/100\n",
            "1/1 [==============================] - 0s 18ms/step - loss: 11.5738 - mae: 11.5738\n",
            "Epoch 32/100\n",
            "1/1 [==============================] - 0s 20ms/step - loss: 11.5037 - mae: 11.5037\n",
            "Epoch 33/100\n",
            "1/1 [==============================] - 0s 19ms/step - loss: 11.4333 - mae: 11.4333\n",
            "Epoch 34/100\n",
            "1/1 [==============================] - 0s 35ms/step - loss: 11.3628 - mae: 11.3628\n",
            "Epoch 35/100\n",
            "1/1 [==============================] - 0s 36ms/step - loss: 11.2921 - mae: 11.2921\n",
            "Epoch 36/100\n",
            "1/1 [==============================] - 0s 21ms/step - loss: 11.2212 - mae: 11.2212\n",
            "Epoch 37/100\n",
            "1/1 [==============================] - 0s 34ms/step - loss: 11.1501 - mae: 11.1501\n",
            "Epoch 38/100\n",
            "1/1 [==============================] - 0s 21ms/step - loss: 11.0788 - mae: 11.0788\n",
            "Epoch 39/100\n",
            "1/1 [==============================] - 0s 17ms/step - loss: 11.0072 - mae: 11.0072\n",
            "Epoch 40/100\n",
            "1/1 [==============================] - 0s 23ms/step - loss: 10.9354 - mae: 10.9354\n",
            "Epoch 41/100\n",
            "1/1 [==============================] - 0s 17ms/step - loss: 10.8633 - mae: 10.8633\n",
            "Epoch 42/100\n",
            "1/1 [==============================] - 0s 17ms/step - loss: 10.7910 - mae: 10.7910\n",
            "Epoch 43/100\n",
            "1/1 [==============================] - 0s 14ms/step - loss: 10.7185 - mae: 10.7185\n",
            "Epoch 44/100\n",
            "1/1 [==============================] - 0s 20ms/step - loss: 10.6456 - mae: 10.6456\n",
            "Epoch 45/100\n",
            "1/1 [==============================] - 0s 20ms/step - loss: 10.5725 - mae: 10.5725\n",
            "Epoch 46/100\n",
            "1/1 [==============================] - 0s 15ms/step - loss: 10.4990 - mae: 10.4990\n",
            "Epoch 47/100\n",
            "1/1 [==============================] - 0s 32ms/step - loss: 10.4253 - mae: 10.4253\n",
            "Epoch 48/100\n",
            "1/1 [==============================] - 0s 20ms/step - loss: 10.3513 - mae: 10.3513\n",
            "Epoch 49/100\n",
            "1/1 [==============================] - 0s 18ms/step - loss: 10.2769 - mae: 10.2769\n",
            "Epoch 50/100\n",
            "1/1 [==============================] - 0s 33ms/step - loss: 10.2022 - mae: 10.2022\n",
            "Epoch 51/100\n",
            "1/1 [==============================] - 0s 31ms/step - loss: 10.1272 - mae: 10.1272\n",
            "Epoch 52/100\n",
            "1/1 [==============================] - 0s 20ms/step - loss: 10.0519 - mae: 10.0519\n",
            "Epoch 53/100\n",
            "1/1 [==============================] - 0s 22ms/step - loss: 9.9762 - mae: 9.9762\n",
            "Epoch 54/100\n",
            "1/1 [==============================] - 0s 13ms/step - loss: 9.9001 - mae: 9.9001\n",
            "Epoch 55/100\n",
            "1/1 [==============================] - 0s 22ms/step - loss: 9.8237 - mae: 9.8237\n",
            "Epoch 56/100\n",
            "1/1 [==============================] - 0s 15ms/step - loss: 9.7469 - mae: 9.7469\n",
            "Epoch 57/100\n",
            "1/1 [==============================] - 0s 17ms/step - loss: 9.6697 - mae: 9.6697\n",
            "Epoch 58/100\n",
            "1/1 [==============================] - 0s 17ms/step - loss: 9.5922 - mae: 9.5922\n",
            "Epoch 59/100\n",
            "1/1 [==============================] - 0s 32ms/step - loss: 9.5142 - mae: 9.5142\n",
            "Epoch 60/100\n",
            "1/1 [==============================] - 0s 23ms/step - loss: 9.4358 - mae: 9.4358\n",
            "Epoch 61/100\n",
            "1/1 [==============================] - 0s 14ms/step - loss: 9.3571 - mae: 9.3571\n",
            "Epoch 62/100\n",
            "1/1 [==============================] - 0s 13ms/step - loss: 9.2779 - mae: 9.2779\n",
            "Epoch 63/100\n",
            "1/1 [==============================] - 0s 41ms/step - loss: 9.1982 - mae: 9.1982\n",
            "Epoch 64/100\n",
            "1/1 [==============================] - 0s 43ms/step - loss: 9.1182 - mae: 9.1182\n",
            "Epoch 65/100\n",
            "1/1 [==============================] - 0s 20ms/step - loss: 9.0377 - mae: 9.0377\n",
            "Epoch 66/100\n",
            "1/1 [==============================] - 0s 22ms/step - loss: 8.9568 - mae: 8.9568\n",
            "Epoch 67/100\n",
            "1/1 [==============================] - 0s 53ms/step - loss: 8.8754 - mae: 8.8754\n",
            "Epoch 68/100\n",
            "1/1 [==============================] - 0s 24ms/step - loss: 8.7935 - mae: 8.7935\n",
            "Epoch 69/100\n",
            "1/1 [==============================] - 0s 27ms/step - loss: 8.7112 - mae: 8.7112\n",
            "Epoch 70/100\n",
            "1/1 [==============================] - 0s 21ms/step - loss: 8.6284 - mae: 8.6284\n",
            "Epoch 71/100\n",
            "1/1 [==============================] - 0s 19ms/step - loss: 8.5451 - mae: 8.5451\n",
            "Epoch 72/100\n",
            "1/1 [==============================] - 0s 26ms/step - loss: 8.4614 - mae: 8.4614\n",
            "Epoch 73/100\n",
            "1/1 [==============================] - 0s 25ms/step - loss: 8.3771 - mae: 8.3771\n",
            "Epoch 74/100\n",
            "1/1 [==============================] - 0s 19ms/step - loss: 8.2923 - mae: 8.2923\n",
            "Epoch 75/100\n",
            "1/1 [==============================] - 0s 21ms/step - loss: 8.2071 - mae: 8.2071\n",
            "Epoch 76/100\n",
            "1/1 [==============================] - 0s 19ms/step - loss: 8.1213 - mae: 8.1213\n",
            "Epoch 77/100\n",
            "1/1 [==============================] - 0s 20ms/step - loss: 8.0350 - mae: 8.0350\n",
            "Epoch 78/100\n",
            "1/1 [==============================] - 0s 18ms/step - loss: 7.9482 - mae: 7.9482\n",
            "Epoch 79/100\n",
            "1/1 [==============================] - 0s 18ms/step - loss: 7.8608 - mae: 7.8608\n",
            "Epoch 80/100\n",
            "1/1 [==============================] - 0s 15ms/step - loss: 7.7729 - mae: 7.7729\n",
            "Epoch 81/100\n",
            "1/1 [==============================] - 0s 42ms/step - loss: 7.6845 - mae: 7.6845\n",
            "Epoch 82/100\n",
            "1/1 [==============================] - 0s 38ms/step - loss: 7.5955 - mae: 7.5955\n",
            "Epoch 83/100\n",
            "1/1 [==============================] - 0s 26ms/step - loss: 7.5060 - mae: 7.5060\n",
            "Epoch 84/100\n",
            "1/1 [==============================] - 0s 34ms/step - loss: 7.4159 - mae: 7.4159\n",
            "Epoch 85/100\n",
            "1/1 [==============================] - 0s 26ms/step - loss: 7.3252 - mae: 7.3252\n",
            "Epoch 86/100\n",
            "1/1 [==============================] - 0s 39ms/step - loss: 7.2339 - mae: 7.2339\n",
            "Epoch 87/100\n",
            "1/1 [==============================] - 0s 28ms/step - loss: 7.1421 - mae: 7.1421\n",
            "Epoch 88/100\n",
            "1/1 [==============================] - 0s 28ms/step - loss: 7.0497 - mae: 7.0497\n",
            "Epoch 89/100\n",
            "1/1 [==============================] - 0s 44ms/step - loss: 6.9566 - mae: 6.9566\n",
            "Epoch 90/100\n",
            "1/1 [==============================] - 0s 36ms/step - loss: 6.8630 - mae: 6.8630\n",
            "Epoch 91/100\n",
            "1/1 [==============================] - 0s 31ms/step - loss: 6.7688 - mae: 6.7688\n",
            "Epoch 92/100\n",
            "1/1 [==============================] - 0s 32ms/step - loss: 6.7145 - mae: 6.7145\n",
            "Epoch 93/100\n",
            "1/1 [==============================] - 0s 25ms/step - loss: 6.7030 - mae: 6.7030\n",
            "Epoch 94/100\n",
            "1/1 [==============================] - 0s 26ms/step - loss: 6.6917 - mae: 6.6917\n",
            "Epoch 95/100\n",
            "1/1 [==============================] - 0s 23ms/step - loss: 6.6806 - mae: 6.6806\n",
            "Epoch 96/100\n",
            "1/1 [==============================] - 0s 31ms/step - loss: 6.6698 - mae: 6.6698\n",
            "Epoch 97/100\n",
            "1/1 [==============================] - 0s 26ms/step - loss: 6.6592 - mae: 6.6592\n",
            "Epoch 98/100\n",
            "1/1 [==============================] - 0s 31ms/step - loss: 6.6487 - mae: 6.6487\n",
            "Epoch 99/100\n",
            "1/1 [==============================] - 0s 32ms/step - loss: 6.6385 - mae: 6.6385\n",
            "Epoch 100/100\n",
            "1/1 [==============================] - 0s 26ms/step - loss: 6.6283 - mae: 6.6283\n"
          ]
        },
        {
          "output_type": "execute_result",
          "data": {
            "text/plain": [
              "<keras.src.callbacks.History at 0x7858c41eef20>"
            ]
          },
          "metadata": {},
          "execution_count": 43
        }
      ]
    },
    {
      "cell_type": "code",
      "source": [
        "X, y"
      ],
      "metadata": {
        "id": "T3ybXJ7v2cLU",
        "outputId": "286015eb-309e-417d-b803-0d6ff8ffb0e5",
        "colab": {
          "base_uri": "https://localhost:8080/"
        }
      },
      "execution_count": 25,
      "outputs": [
        {
          "output_type": "execute_result",
          "data": {
            "text/plain": [
              "(<tf.Tensor: shape=(8,), dtype=float32, numpy=array([-7., -4., -1.,  2.,  5.,  8., 11., 14.], dtype=float32)>,\n",
              " <tf.Tensor: shape=(8,), dtype=float32, numpy=array([ 3.,  6.,  9., 12., 15., 18., 21., 24.], dtype=float32)>)"
            ]
          },
          "metadata": {},
          "execution_count": 25
        }
      ]
    },
    {
      "cell_type": "code",
      "source": [
        "# Let's try to make a prediction\n",
        "model.predict([17.0])"
      ],
      "metadata": {
        "id": "OTWEdQJm2wRs",
        "outputId": "e3df9db0-5760-466e-efba-bf4250b84114",
        "colab": {
          "base_uri": "https://localhost:8080/"
        }
      },
      "execution_count": 44,
      "outputs": [
        {
          "output_type": "stream",
          "name": "stdout",
          "text": [
            "1/1 [==============================] - 0s 69ms/step\n"
          ]
        },
        {
          "output_type": "execute_result",
          "data": {
            "text/plain": [
              "array([[31.48515]], dtype=float32)"
            ]
          },
          "metadata": {},
          "execution_count": 44
        }
      ]
    },
    {
      "cell_type": "code",
      "source": [],
      "metadata": {
        "id": "7e_jxzni28Nk"
      },
      "execution_count": null,
      "outputs": []
    }
  ]
}