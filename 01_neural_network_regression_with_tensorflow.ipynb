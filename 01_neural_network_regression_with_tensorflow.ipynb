{
  "nbformat": 4,
  "nbformat_minor": 0,
  "metadata": {
    "colab": {
      "provenance": [],
      "mount_file_id": "https://github.com/Nameless8243/TensorFlow_DL/blob/main/01_neural_network_regression_with_tensorflow.ipynb",
      "authorship_tag": "ABX9TyPVObYc2qWp2eN5bLJkCYQ3",
      "include_colab_link": true
    },
    "kernelspec": {
      "name": "python3",
      "display_name": "Python 3"
    },
    "language_info": {
      "name": "python"
    }
  },
  "cells": [
    {
      "cell_type": "markdown",
      "metadata": {
        "id": "view-in-github",
        "colab_type": "text"
      },
      "source": [
        "<a href=\"https://colab.research.google.com/github/Nameless8243/TensorFlow_DL/blob/main/01_neural_network_regression_with_tensorflow.ipynb\" target=\"_parent\"><img src=\"https://colab.research.google.com/assets/colab-badge.svg\" alt=\"Open In Colab\"/></a>"
      ]
    },
    {
      "cell_type": "markdown",
      "source": [
        "# Introduction to Regression with Neural Networks in TensorFlow\n",
        "\n",
        "There are many definitions for a regression problem but in our case, we're going to simplify it: predicting a numerical variable based on some other combination of variables, even shorter... predicting a number."
      ],
      "metadata": {
        "id": "oP5JGRSITyJO"
      }
    },
    {
      "cell_type": "code",
      "source": [
        "# Import tensorflow\n",
        "import tensorflow as tf\n",
        "print(tf.__version__)"
      ],
      "metadata": {
        "colab": {
          "base_uri": "https://localhost:8080/"
        },
        "id": "LsGmYUhse5F-",
        "outputId": "5ae2b09c-f952-4013-84de-e2ca78ce3aab"
      },
      "execution_count": null,
      "outputs": [
        {
          "output_type": "stream",
          "name": "stdout",
          "text": [
            "2.15.0\n"
          ]
        }
      ]
    },
    {
      "cell_type": "markdown",
      "source": [
        "## Creating data to view and fit"
      ],
      "metadata": {
        "id": "uGT0hliwfDt-"
      }
    },
    {
      "cell_type": "code",
      "source": [
        "import numpy as np\n",
        "import matplotlib.pyplot as plt\n",
        "\n",
        "# Create features\n",
        "X = np.array([-7.0, -4.0, -1.0, 2.0, 5.0, 8.0, 11.0, 14.0])\n",
        "\n",
        "# Create labels\n",
        "y = np.array([3.0, 6.0, 9.0, 12.0, 15.0, 18.0, 21.0, 24.0])\n",
        "\n",
        "# Visualize it\n",
        "plt.scatter(X, y);"
      ],
      "metadata": {
        "colab": {
          "base_uri": "https://localhost:8080/",
          "height": 435
        },
        "id": "Bz9l-cqWfS7l",
        "outputId": "db3d7e97-601f-4321-ee24-63a81e7e21b5"
      },
      "execution_count": null,
      "outputs": [
        {
          "output_type": "display_data",
          "data": {
            "text/plain": [
              "<Figure size 640x480 with 1 Axes>"
            ],
            "image/png": "[encoded data removed]"
          },
          "metadata": {}
        }
      ]
    },
    {
      "cell_type": "code",
      "source": [
        "y == X + 10"
      ],
      "metadata": {
        "colab": {
          "base_uri": "https://localhost:8080/"
        },
        "id": "IhhPD6eigTzN",
        "outputId": "205ed50b-7bad-412c-9ffb-c40b8085260c"
      },
      "execution_count": null,
      "outputs": [
        {
          "output_type": "execute_result",
          "data": {
            "text/plain": [
              "array([ True,  True,  True,  True,  True,  True,  True,  True])"
            ]
          },
          "metadata": {},
          "execution_count": 3
        }
      ]
    },
    {
      "cell_type": "markdown",
      "source": [
        "## Input and output shapes"
      ],
      "metadata": {
        "id": "ZTXfdcSOg2bE"
      }
    },
    {
      "cell_type": "code",
      "source": [
        "# Create demo tensor for our housing price prediction problem\n",
        "house_info = tf.constant([\"bedroom\", \"bathroom\", \"garage\"])\n",
        "house_price = tf.constant([939700])\n",
        "house_info, house_price"
      ],
      "metadata": {
        "colab": {
          "base_uri": "https://localhost:8080/"
        },
        "id": "vS_BbYWjj3Et",
        "outputId": "8b9b0fe2-b907-496f-ad99-6ef41c5d17d3"
      },
      "execution_count": null,
      "outputs": [
        {
          "output_type": "execute_result",
          "data": {
            "text/plain": [
              "(<tf.Tensor: shape=(3,), dtype=string, numpy=array([b'bedroom', b'bathroom', b'garage'], dtype=object)>,\n",
              " <tf.Tensor: shape=(1,), dtype=int32, numpy=array([939700], dtype=int32)>)"
            ]
          },
          "metadata": {},
          "execution_count": 4
        }
      ]
    },
    {
      "cell_type": "code",
      "source": [
        "input_shape = X[0].shape\n",
        "output_shape = y[0].shape\n",
        "input_shape, output_shape"
      ],
      "metadata": {
        "colab": {
          "base_uri": "https://localhost:8080/"
        },
        "id": "v4JCXIjjkcer",
        "outputId": "ea4203f0-8257-4563-bf25-89d88b13e093"
      },
      "execution_count": null,
      "outputs": [
        {
          "output_type": "execute_result",
          "data": {
            "text/plain": [
              "((), ())"
            ]
          },
          "metadata": {},
          "execution_count": 5
        }
      ]
    },
    {
      "cell_type": "code",
      "source": [
        "# Turn our NumPy arrays into tensors with dtype float32\n",
        "X = tf.cast(tf.constant(X), dtype=tf.float32)\n",
        "y = tf.cast(tf.constant(y), dtype=tf.float32)\n",
        "X, y"
      ],
      "metadata": {
        "colab": {
          "base_uri": "https://localhost:8080/"
        },
        "id": "jJeyIQYokyn7",
        "outputId": "cf25bd99-218f-4d88-b8d2-d054c5f6779a"
      },
      "execution_count": null,
      "outputs": [
        {
          "output_type": "execute_result",
          "data": {
            "text/plain": [
              "(<tf.Tensor: shape=(8,), dtype=float32, numpy=array([-7., -4., -1.,  2.,  5.,  8., 11., 14.], dtype=float32)>,\n",
              " <tf.Tensor: shape=(8,), dtype=float32, numpy=array([ 3.,  6.,  9., 12., 15., 18., 21., 24.], dtype=float32)>)"
            ]
          },
          "metadata": {},
          "execution_count": 6
        }
      ]
    },
    {
      "cell_type": "code",
      "source": [
        "input_shape = X[0].shape\n",
        "output_shape = y[0].shape\n",
        "input_shape, output_shape"
      ],
      "metadata": {
        "colab": {
          "base_uri": "https://localhost:8080/"
        },
        "id": "9dCoCjBQmAr7",
        "outputId": "e041b336-18f9-4491-eca4-2c31ec53d528"
      },
      "execution_count": null,
      "outputs": [
        {
          "output_type": "execute_result",
          "data": {
            "text/plain": [
              "(TensorShape([]), TensorShape([]))"
            ]
          },
          "metadata": {},
          "execution_count": 7
        }
      ]
    },
    {
      "cell_type": "code",
      "source": [
        "plt.scatter(X,y)"
      ],
      "metadata": {
        "colab": {
          "base_uri": "https://localhost:8080/",
          "height": 453
        },
        "id": "am1A3auXmhoD",
        "outputId": "043e9df0-6e79-41c2-812b-1ad2ce51246e"
      },
      "execution_count": null,
      "outputs": [
        {
          "output_type": "execute_result",
          "data": {
            "text/plain": [
              "<matplotlib.collections.PathCollection at 0x7dc8b6cbda80>"
            ]
          },
          "metadata": {},
          "execution_count": 8
        },
        {
          "output_type": "display_data",
          "data": {
            "text/plain": [
              "<Figure size 640x480 with 1 Axes>"
            ],
            "image/png": "[encoded data removed]"
          },
          "metadata": {}
        }
      ]
    },
    {
      "cell_type": "markdown",
      "source": [
        "## Steps in modelling with TensorFlow\n",
        "\n",
        "1. **Creating a model** - define the input and output layers, as well as the hidden layers of a deep learning model.\n",
        "2. **Compiling a model** - define the loss function (in other words, the\n",
        "function which tells our model how wrong it is) and the optimizer\n",
        "(tells our model how to improve the patterns its learning) and\n",
        "evaluation metrics (what we can use ta interpret the performance of our model).\n",
        "3. **Fitting the model** - letting the model try to find patterns between X & y (features and labels)."
      ],
      "metadata": {
        "id": "-buia87-msUz"
      }
    },
    {
      "cell_type": "code",
      "source": [
        "# Optionally, the first layer can receive an `input_shape` argument:\n",
        "model = tf.keras.Sequential()\n",
        "model.add(tf.keras.layers.Dense(8, input_shape=(16,)))\n",
        "# Afterwards, we do automatic shape inference:\n",
        "model.add(tf.keras.layers.Dense(4))\n",
        "\n",
        "model = tf.keras.Sequential()\n",
        "model.add(tf.keras.layers.Dense(8, input_shape=(16,)))\n",
        "model.add(tf.keras.layers.Dense(4))\n",
        "\n",
        "model = tf.keras.Sequential()\n",
        "model.add(tf.keras.layers.Dense(1))\n",
        "model.add(tf.keras.layers.Dense(1))"
      ],
      "metadata": {
        "id": "YM-kOlIPzdM1"
      },
      "execution_count": null,
      "outputs": []
    },
    {
      "cell_type": "code",
      "source": [
        "# Set random seed\n",
        "tf.random.set_seed(42)\n",
        "# 1. Create a model using the Sequential API\n",
        "model = tf.keras.Sequential([\n",
        "    tf.keras.layers.Dense(1),\n",
        "    tf.keras.layers.Dense(1)\n",
        "\n",
        "])\n",
        "\n",
        "# 2. Compile the model\n",
        "model.compile(loss=tf.keras.losses.mae, # mae is short for mean absolute error\n",
        "              optimizer=tf.keras.optimizers.SGD(), # sgd is short for stochastic gradient descent\n",
        "              metrics=[\"mae\"])\n",
        "\n",
        "# 3. Fit the model\n",
        "model.fit(tf.expand_dims(X, axis=-1), y, epochs=5)"
      ],
      "metadata": {
        "id": "jZi7FfNkm9by",
        "colab": {
          "base_uri": "https://localhost:8080/"
        },
        "outputId": "71201c18-2f41-40c4-a7df-1ef686dd6185"
      },
      "execution_count": null,
      "outputs": [
        {
          "output_type": "stream",
          "name": "stdout",
          "text": [
            "Epoch 1/5\n",
            "1/1 [==============================] - 1s 1s/step - loss: 10.7016 - mae: 10.7016\n",
            "Epoch 2/5\n",
            "1/1 [==============================] - 0s 20ms/step - loss: 10.4516 - mae: 10.4516\n",
            "Epoch 3/5\n",
            "1/1 [==============================] - 0s 20ms/step - loss: 10.1861 - mae: 10.1861\n",
            "Epoch 4/5\n",
            "1/1 [==============================] - 0s 21ms/step - loss: 9.9039 - mae: 9.9039\n",
            "Epoch 5/5\n",
            "1/1 [==============================] - 0s 18ms/step - loss: 9.6035 - mae: 9.6035\n"
          ]
        },
        {
          "output_type": "execute_result",
          "data": {
            "text/plain": [
              "<keras.src.callbacks.History at 0x7dc8b42d4910>"
            ]
          },
          "metadata": {},
          "execution_count": 10
        }
      ]
    },
    {
      "cell_type": "code",
      "source": [
        "# Check out X, and y\n",
        "X, y"
      ],
      "metadata": {
        "colab": {
          "base_uri": "https://localhost:8080/"
        },
        "id": "9924Ks0cyEZc",
        "outputId": "11a1f29b-baaa-4c83-9e29-64398cc02576"
      },
      "execution_count": null,
      "outputs": [
        {
          "output_type": "execute_result",
          "data": {
            "text/plain": [
              "(<tf.Tensor: shape=(8,), dtype=float32, numpy=array([-7., -4., -1.,  2.,  5.,  8., 11., 14.], dtype=float32)>,\n",
              " <tf.Tensor: shape=(8,), dtype=float32, numpy=array([ 3.,  6.,  9., 12., 15., 18., 21., 24.], dtype=float32)>)"
            ]
          },
          "metadata": {},
          "execution_count": 11
        }
      ]
    },
    {
      "cell_type": "code",
      "source": [
        "# Try and make a prediction using our model\n",
        "y_pred = model.predict([17.0])\n",
        "y_pred"
      ],
      "metadata": {
        "colab": {
          "base_uri": "https://localhost:8080/"
        },
        "id": "zaNtc7a57T9y",
        "outputId": "b023180b-e7d8-4e73-97be-685e72b0bb1b"
      },
      "execution_count": null,
      "outputs": [
        {
          "output_type": "stream",
          "name": "stdout",
          "text": [
            "1/1 [==============================] - 0s 268ms/step\n"
          ]
        },
        {
          "output_type": "execute_result",
          "data": {
            "text/plain": [
              "array([[19.985455]], dtype=float32)"
            ]
          },
          "metadata": {},
          "execution_count": 12
        }
      ]
    },
    {
      "cell_type": "code",
      "source": [
        "y_pred + 18"
      ],
      "metadata": {
        "colab": {
          "base_uri": "https://localhost:8080/"
        },
        "id": "nqNb7qQL7t7U",
        "outputId": "16f8bbbb-5230-446c-e9ed-98f97b0a8876"
      },
      "execution_count": null,
      "outputs": [
        {
          "output_type": "execute_result",
          "data": {
            "text/plain": [
              "array([[37.985455]], dtype=float32)"
            ]
          },
          "metadata": {},
          "execution_count": 13
        }
      ]
    },
    {
      "cell_type": "markdown",
      "source": [
        "## Improving our model\n",
        "\n",
        "We can improve our model, by astering the steps we took to create a model.\n",
        "\n",
        "1. **Creating a model** - here we might add more layers,\n",
        "increase the number of hidden units (all called neurons) within each of the hidden layers, change the activation function of each layer.\n",
        "2. **Compiling a model** - here we might change the optimization function or perhaps the **learning rate** of the optimization function.\n",
        "3. **Fitting a model** - here we might fit a model for more **epochs** (leave it training for longer) or on more data (give the model more examples to learn from)."
      ],
      "metadata": {
        "id": "6ZSGWPSe8Fpe"
      }
    },
    {
      "cell_type": "code",
      "source": [
        "# Let's rebuild our model\n",
        "\n",
        "# 1. Create the model\n",
        "model = tf.keras.Sequential([\n",
        "    tf.keras.layers.Dense(1)\n",
        "])\n",
        "\n",
        "# 2. Compile the model\n",
        "model.compile(loss=tf.keras.losses.mae,\n",
        "              optimizer=tf.keras.optimizers.SGD(),\n",
        "              metrics=[\"mae\"])\n",
        "# 3. Fit the model (this time we'll train for longer)\n",
        "model.fit(tf.expand_dims(X, axis=-1), y, epochs=100)"
      ],
      "metadata": {
        "colab": {
          "base_uri": "https://localhost:8080/"
        },
        "id": "sG_Jes1K8z-M",
        "outputId": "31be5abd-9697-425f-9d32-8bf4c6a6c68f"
      },
      "execution_count": null,
      "outputs": [
        {
          "output_type": "stream",
          "name": "stdout",
          "text": [
            "Epoch 1/100\n",
            "1/1 [==============================] - 1s 549ms/step - loss: 8.4661 - mae: 8.4661\n",
            "Epoch 2/100\n",
            "1/1 [==============================] - 0s 17ms/step - loss: 8.3336 - mae: 8.3336\n",
            "Epoch 3/100\n",
            "1/1 [==============================] - 0s 16ms/step - loss: 8.2011 - mae: 8.2011\n",
            "Epoch 4/100\n",
            "1/1 [==============================] - 0s 12ms/step - loss: 8.0686 - mae: 8.0686\n",
            "Epoch 5/100\n",
            "1/1 [==============================] - 0s 12ms/step - loss: 7.9361 - mae: 7.9361\n",
            "Epoch 6/100\n",
            "1/1 [==============================] - 0s 13ms/step - loss: 7.8036 - mae: 7.8036\n",
            "Epoch 7/100\n",
            "1/1 [==============================] - 0s 18ms/step - loss: 7.6711 - mae: 7.6711\n",
            "Epoch 8/100\n",
            "1/1 [==============================] - 0s 13ms/step - loss: 7.5386 - mae: 7.5386\n",
            "Epoch 9/100\n",
            "1/1 [==============================] - 0s 17ms/step - loss: 7.4400 - mae: 7.4400\n",
            "Epoch 10/100\n",
            "1/1 [==============================] - 0s 14ms/step - loss: 7.4344 - mae: 7.4344\n",
            "Epoch 11/100\n",
            "1/1 [==============================] - 0s 14ms/step - loss: 7.4288 - mae: 7.4288\n",
            "Epoch 12/100\n",
            "1/1 [==============================] - 0s 15ms/step - loss: 7.4231 - mae: 7.4231\n",
            "Epoch 13/100\n",
            "1/1 [==============================] - 0s 24ms/step - loss: 7.4175 - mae: 7.4175\n",
            "Epoch 14/100\n",
            "1/1 [==============================] - 0s 20ms/step - loss: 7.4119 - mae: 7.4119\n",
            "Epoch 15/100\n",
            "1/1 [==============================] - 0s 22ms/step - loss: 7.4062 - mae: 7.4062\n",
            "Epoch 16/100\n",
            "1/1 [==============================] - 0s 15ms/step - loss: 7.4006 - mae: 7.4006\n",
            "Epoch 17/100\n",
            "1/1 [==============================] - 0s 14ms/step - loss: 7.3950 - mae: 7.3950\n",
            "Epoch 18/100\n",
            "1/1 [==============================] - 0s 16ms/step - loss: 7.3894 - mae: 7.3894\n",
            "Epoch 19/100\n",
            "1/1 [==============================] - 0s 16ms/step - loss: 7.3837 - mae: 7.3837\n",
            "Epoch 20/100\n",
            "1/1 [==============================] - 0s 24ms/step - loss: 7.3781 - mae: 7.3781\n",
            "Epoch 21/100\n",
            "1/1 [==============================] - 0s 13ms/step - loss: 7.3725 - mae: 7.3725\n",
            "Epoch 22/100\n",
            "1/1 [==============================] - 0s 13ms/step - loss: 7.3669 - mae: 7.3669\n",
            "Epoch 23/100\n",
            "1/1 [==============================] - 0s 26ms/step - loss: 7.3612 - mae: 7.3612\n",
            "Epoch 24/100\n",
            "1/1 [==============================] - 0s 12ms/step - loss: 7.3556 - mae: 7.3556\n",
            "Epoch 25/100\n",
            "1/1 [==============================] - 0s 23ms/step - loss: 7.3500 - mae: 7.3500\n",
            "Epoch 26/100\n",
            "1/1 [==============================] - 0s 19ms/step - loss: 7.3444 - mae: 7.3444\n",
            "Epoch 27/100\n",
            "1/1 [==============================] - 0s 20ms/step - loss: 7.3388 - mae: 7.3388\n",
            "Epoch 28/100\n",
            "1/1 [==============================] - 0s 14ms/step - loss: 7.3331 - mae: 7.3331\n",
            "Epoch 29/100\n",
            "1/1 [==============================] - 0s 17ms/step - loss: 7.3275 - mae: 7.3275\n",
            "Epoch 30/100\n",
            "1/1 [==============================] - 0s 11ms/step - loss: 7.3219 - mae: 7.3219\n",
            "Epoch 31/100\n",
            "1/1 [==============================] - 0s 10ms/step - loss: 7.3162 - mae: 7.3162\n",
            "Epoch 32/100\n",
            "1/1 [==============================] - 0s 16ms/step - loss: 7.3106 - mae: 7.3106\n",
            "Epoch 33/100\n",
            "1/1 [==============================] - 0s 16ms/step - loss: 7.3050 - mae: 7.3050\n",
            "Epoch 34/100\n",
            "1/1 [==============================] - 0s 16ms/step - loss: 7.2994 - mae: 7.2994\n",
            "Epoch 35/100\n",
            "1/1 [==============================] - 0s 18ms/step - loss: 7.2937 - mae: 7.2937\n",
            "Epoch 36/100\n",
            "1/1 [==============================] - 0s 22ms/step - loss: 7.2881 - mae: 7.2881\n",
            "Epoch 37/100\n",
            "1/1 [==============================] - 0s 15ms/step - loss: 7.2825 - mae: 7.2825\n",
            "Epoch 38/100\n",
            "1/1 [==============================] - 0s 13ms/step - loss: 7.2769 - mae: 7.2769\n",
            "Epoch 39/100\n",
            "1/1 [==============================] - 0s 31ms/step - loss: 7.2712 - mae: 7.2712\n",
            "Epoch 40/100\n",
            "1/1 [==============================] - 0s 32ms/step - loss: 7.2656 - mae: 7.2656\n",
            "Epoch 41/100\n",
            "1/1 [==============================] - 0s 19ms/step - loss: 7.2600 - mae: 7.2600\n",
            "Epoch 42/100\n",
            "1/1 [==============================] - 0s 17ms/step - loss: 7.2544 - mae: 7.2544\n",
            "Epoch 43/100\n",
            "1/1 [==============================] - 0s 17ms/step - loss: 7.2487 - mae: 7.2487\n",
            "Epoch 44/100\n",
            "1/1 [==============================] - 0s 14ms/step - loss: 7.2431 - mae: 7.2431\n",
            "Epoch 45/100\n",
            "1/1 [==============================] - 0s 16ms/step - loss: 7.2375 - mae: 7.2375\n",
            "Epoch 46/100\n",
            "1/1 [==============================] - 0s 21ms/step - loss: 7.2319 - mae: 7.2319\n",
            "Epoch 47/100\n",
            "1/1 [==============================] - 0s 19ms/step - loss: 7.2263 - mae: 7.2263\n",
            "Epoch 48/100\n",
            "1/1 [==============================] - 0s 24ms/step - loss: 7.2206 - mae: 7.2206\n",
            "Epoch 49/100\n",
            "1/1 [==============================] - 0s 15ms/step - loss: 7.2150 - mae: 7.2150\n",
            "Epoch 50/100\n",
            "1/1 [==============================] - 0s 15ms/step - loss: 7.2094 - mae: 7.2094\n",
            "Epoch 51/100\n",
            "1/1 [==============================] - 0s 14ms/step - loss: 7.2038 - mae: 7.2038\n",
            "Epoch 52/100\n",
            "1/1 [==============================] - 0s 14ms/step - loss: 7.1981 - mae: 7.1981\n",
            "Epoch 53/100\n",
            "1/1 [==============================] - 0s 15ms/step - loss: 7.1925 - mae: 7.1925\n",
            "Epoch 54/100\n",
            "1/1 [==============================] - 0s 15ms/step - loss: 7.1869 - mae: 7.1869\n",
            "Epoch 55/100\n",
            "1/1 [==============================] - 0s 14ms/step - loss: 7.1813 - mae: 7.1813\n",
            "Epoch 56/100\n",
            "1/1 [==============================] - 0s 14ms/step - loss: 7.1756 - mae: 7.1756\n",
            "Epoch 57/100\n",
            "1/1 [==============================] - 0s 15ms/step - loss: 7.1700 - mae: 7.1700\n",
            "Epoch 58/100\n",
            "1/1 [==============================] - 0s 18ms/step - loss: 7.1644 - mae: 7.1644\n",
            "Epoch 59/100\n",
            "1/1 [==============================] - 0s 17ms/step - loss: 7.1588 - mae: 7.1588\n",
            "Epoch 60/100\n",
            "1/1 [==============================] - 0s 20ms/step - loss: 7.1531 - mae: 7.1531\n",
            "Epoch 61/100\n",
            "1/1 [==============================] - 0s 23ms/step - loss: 7.1475 - mae: 7.1475\n",
            "Epoch 62/100\n",
            "1/1 [==============================] - 0s 14ms/step - loss: 7.1419 - mae: 7.1419\n",
            "Epoch 63/100\n",
            "1/1 [==============================] - 0s 14ms/step - loss: 7.1363 - mae: 7.1363\n",
            "Epoch 64/100\n",
            "1/1 [==============================] - 0s 18ms/step - loss: 7.1306 - mae: 7.1306\n",
            "Epoch 65/100\n",
            "1/1 [==============================] - 0s 26ms/step - loss: 7.1250 - mae: 7.1250\n",
            "Epoch 66/100\n",
            "1/1 [==============================] - 0s 27ms/step - loss: 7.1194 - mae: 7.1194\n",
            "Epoch 67/100\n",
            "1/1 [==============================] - 0s 16ms/step - loss: 7.1138 - mae: 7.1138\n",
            "Epoch 68/100\n",
            "1/1 [==============================] - 0s 14ms/step - loss: 7.1081 - mae: 7.1081\n",
            "Epoch 69/100\n",
            "1/1 [==============================] - 0s 14ms/step - loss: 7.1025 - mae: 7.1025\n",
            "Epoch 70/100\n",
            "1/1 [==============================] - 0s 12ms/step - loss: 7.0969 - mae: 7.0969\n",
            "Epoch 71/100\n",
            "1/1 [==============================] - 0s 12ms/step - loss: 7.0913 - mae: 7.0913\n",
            "Epoch 72/100\n",
            "1/1 [==============================] - 0s 30ms/step - loss: 7.0856 - mae: 7.0856\n",
            "Epoch 73/100\n",
            "1/1 [==============================] - 0s 45ms/step - loss: 7.0800 - mae: 7.0800\n",
            "Epoch 74/100\n",
            "1/1 [==============================] - 0s 21ms/step - loss: 7.0744 - mae: 7.0744\n",
            "Epoch 75/100\n",
            "1/1 [==============================] - 0s 25ms/step - loss: 7.0688 - mae: 7.0688\n",
            "Epoch 76/100\n",
            "1/1 [==============================] - 0s 21ms/step - loss: 7.0631 - mae: 7.0631\n",
            "Epoch 77/100\n",
            "1/1 [==============================] - 0s 16ms/step - loss: 7.0575 - mae: 7.0575\n",
            "Epoch 78/100\n",
            "1/1 [==============================] - 0s 15ms/step - loss: 7.0519 - mae: 7.0519\n",
            "Epoch 79/100\n",
            "1/1 [==============================] - 0s 17ms/step - loss: 7.0463 - mae: 7.0463\n",
            "Epoch 80/100\n",
            "1/1 [==============================] - 0s 16ms/step - loss: 7.0406 - mae: 7.0406\n",
            "Epoch 81/100\n",
            "1/1 [==============================] - 0s 17ms/step - loss: 7.0350 - mae: 7.0350\n",
            "Epoch 82/100\n",
            "1/1 [==============================] - 0s 23ms/step - loss: 7.0294 - mae: 7.0294\n",
            "Epoch 83/100\n",
            "1/1 [==============================] - 0s 15ms/step - loss: 7.0238 - mae: 7.0238\n",
            "Epoch 84/100\n",
            "1/1 [==============================] - 0s 13ms/step - loss: 7.0181 - mae: 7.0181\n",
            "Epoch 85/100\n",
            "1/1 [==============================] - 0s 14ms/step - loss: 7.0125 - mae: 7.0125\n",
            "Epoch 86/100\n",
            "1/1 [==============================] - 0s 17ms/step - loss: 7.0069 - mae: 7.0069\n",
            "Epoch 87/100\n",
            "1/1 [==============================] - 0s 20ms/step - loss: 7.0013 - mae: 7.0013\n",
            "Epoch 88/100\n",
            "1/1 [==============================] - 0s 24ms/step - loss: 6.9956 - mae: 6.9956\n",
            "Epoch 89/100\n",
            "1/1 [==============================] - 0s 27ms/step - loss: 6.9900 - mae: 6.9900\n",
            "Epoch 90/100\n",
            "1/1 [==============================] - 0s 15ms/step - loss: 6.9844 - mae: 6.9844\n",
            "Epoch 91/100\n",
            "1/1 [==============================] - 0s 41ms/step - loss: 6.9788 - mae: 6.9788\n",
            "Epoch 92/100\n",
            "1/1 [==============================] - 0s 26ms/step - loss: 6.9731 - mae: 6.9731\n",
            "Epoch 93/100\n",
            "1/1 [==============================] - 0s 33ms/step - loss: 6.9675 - mae: 6.9675\n",
            "Epoch 94/100\n",
            "1/1 [==============================] - 0s 23ms/step - loss: 6.9619 - mae: 6.9619\n",
            "Epoch 95/100\n",
            "1/1 [==============================] - 0s 27ms/step - loss: 6.9563 - mae: 6.9563\n",
            "Epoch 96/100\n",
            "1/1 [==============================] - 0s 22ms/step - loss: 6.9506 - mae: 6.9506\n",
            "Epoch 97/100\n",
            "1/1 [==============================] - 0s 23ms/step - loss: 6.9450 - mae: 6.9450\n",
            "Epoch 98/100\n",
            "1/1 [==============================] - 0s 35ms/step - loss: 6.9394 - mae: 6.9394\n",
            "Epoch 99/100\n",
            "1/1 [==============================] - 0s 18ms/step - loss: 6.9338 - mae: 6.9338\n",
            "Epoch 100/100\n",
            "1/1 [==============================] - 0s 18ms/step - loss: 6.9281 - mae: 6.9281\n"
          ]
        },
        {
          "output_type": "execute_result",
          "data": {
            "text/plain": [
              "<keras.src.callbacks.History at 0x7dc8b4167ee0>"
            ]
          },
          "metadata": {},
          "execution_count": 14
        }
      ]
    },
    {
      "cell_type": "code",
      "source": [
        "# Remind ourselves of the data\n",
        "X, y"
      ],
      "metadata": {
        "id": "cLLGIsIWDA0J",
        "outputId": "12445349-2950-4dbb-de01-6838640f4290",
        "colab": {
          "base_uri": "https://localhost:8080/"
        }
      },
      "execution_count": null,
      "outputs": [
        {
          "output_type": "execute_result",
          "data": {
            "text/plain": [
              "(<tf.Tensor: shape=(8,), dtype=float32, numpy=array([-7., -4., -1.,  2.,  5.,  8., 11., 14.], dtype=float32)>,\n",
              " <tf.Tensor: shape=(8,), dtype=float32, numpy=array([ 3.,  6.,  9., 12., 15., 18., 21., 24.], dtype=float32)>)"
            ]
          },
          "metadata": {},
          "execution_count": 15
        }
      ]
    },
    {
      "cell_type": "code",
      "source": [
        "# Let's see if our model's prediction has improved...\n",
        "model.predict([17.0])"
      ],
      "metadata": {
        "id": "gByFKupbFTdw",
        "colab": {
          "base_uri": "https://localhost:8080/"
        },
        "outputId": "77af13be-c667-4fb2-ce69-8bdcfde81171"
      },
      "execution_count": null,
      "outputs": [
        {
          "output_type": "stream",
          "name": "stdout",
          "text": [
            "1/1 [==============================] - 0s 149ms/step\n"
          ]
        },
        {
          "output_type": "execute_result",
          "data": {
            "text/plain": [
              "array([[29.980179]], dtype=float32)"
            ]
          },
          "metadata": {},
          "execution_count": 16
        }
      ]
    },
    {
      "cell_type": "markdown",
      "source": [
        "### Create a new model"
      ],
      "metadata": {
        "id": "pRt7GerdyLpM"
      }
    },
    {
      "cell_type": "code",
      "source": [
        "# Create\n",
        "model = tf.keras.Sequential([\n",
        "    tf.keras.layers.Dense(100, activation=\"relu\"),\n",
        "    tf.keras.layers.Dense(100, activation=\"relu\"),\n",
        "    tf.keras.layers.Dense(100, activation=\"relu\"),\n",
        "    tf.keras.layers.Dense(1)\n",
        "])\n",
        "\n",
        "# Compile\n",
        "model.compile(loss=tf.keras.losses.mae,\n",
        "              optimizer=tf.keras.optimizers.SGD(),\n",
        "              metrics=[\"mae\"])\n",
        "# Fit\n",
        "model.fit(tf.expand_dims(X, axis=-1), y, epochs=100)"
      ],
      "metadata": {
        "colab": {
          "base_uri": "https://localhost:8080/"
        },
        "id": "IfIIKP0Fy1P1",
        "outputId": "f270948a-421a-417c-a154-bcd5f48d559c"
      },
      "execution_count": null,
      "outputs": [
        {
          "output_type": "stream",
          "name": "stdout",
          "text": [
            "Epoch 1/100\n",
            "1/1 [==============================] - 2s 2s/step - loss: 13.5433 - mae: 13.5433\n",
            "Epoch 2/100\n",
            "1/1 [==============================] - 0s 59ms/step - loss: 13.1636 - mae: 13.1636\n",
            "Epoch 3/100\n",
            "1/1 [==============================] - 0s 52ms/step - loss: 12.7777 - mae: 12.7777\n",
            "Epoch 4/100\n",
            "1/1 [==============================] - 0s 38ms/step - loss: 12.3602 - mae: 12.3602\n",
            "Epoch 5/100\n",
            "1/1 [==============================] - 0s 37ms/step - loss: 11.9167 - mae: 11.9167\n",
            "Epoch 6/100\n",
            "1/1 [==============================] - 0s 38ms/step - loss: 11.4181 - mae: 11.4181\n",
            "Epoch 7/100\n",
            "1/1 [==============================] - 0s 41ms/step - loss: 10.8445 - mae: 10.8445\n",
            "Epoch 8/100\n",
            "1/1 [==============================] - 0s 55ms/step - loss: 10.1519 - mae: 10.1519\n",
            "Epoch 9/100\n",
            "1/1 [==============================] - 0s 55ms/step - loss: 9.2733 - mae: 9.2733\n",
            "Epoch 10/100\n",
            "1/1 [==============================] - 0s 21ms/step - loss: 8.1727 - mae: 8.1727\n",
            "Epoch 11/100\n",
            "1/1 [==============================] - 0s 35ms/step - loss: 6.7076 - mae: 6.7076\n",
            "Epoch 12/100\n",
            "1/1 [==============================] - 0s 31ms/step - loss: 4.7366 - mae: 4.7366\n",
            "Epoch 13/100\n",
            "1/1 [==============================] - 0s 26ms/step - loss: 4.1071 - mae: 4.1071\n",
            "Epoch 14/100\n",
            "1/1 [==============================] - 0s 22ms/step - loss: 3.8914 - mae: 3.8914\n",
            "Epoch 15/100\n",
            "1/1 [==============================] - 0s 28ms/step - loss: 3.9922 - mae: 3.9922\n",
            "Epoch 16/100\n",
            "1/1 [==============================] - 0s 37ms/step - loss: 3.9033 - mae: 3.9033\n",
            "Epoch 17/100\n",
            "1/1 [==============================] - 0s 32ms/step - loss: 3.9408 - mae: 3.9408\n",
            "Epoch 18/100\n",
            "1/1 [==============================] - 0s 52ms/step - loss: 3.9172 - mae: 3.9172\n",
            "Epoch 19/100\n",
            "1/1 [==============================] - 0s 58ms/step - loss: 3.8870 - mae: 3.8870\n",
            "Epoch 20/100\n",
            "1/1 [==============================] - 0s 35ms/step - loss: 3.9321 - mae: 3.9321\n",
            "Epoch 21/100\n",
            "1/1 [==============================] - 0s 31ms/step - loss: 3.8311 - mae: 3.8311\n",
            "Epoch 22/100\n",
            "1/1 [==============================] - 0s 32ms/step - loss: 3.9474 - mae: 3.9474\n",
            "Epoch 23/100\n",
            "1/1 [==============================] - 0s 32ms/step - loss: 3.7751 - mae: 3.7751\n",
            "Epoch 24/100\n",
            "1/1 [==============================] - 0s 34ms/step - loss: 3.9654 - mae: 3.9654\n",
            "Epoch 25/100\n",
            "1/1 [==============================] - 0s 31ms/step - loss: 3.7678 - mae: 3.7678\n",
            "Epoch 26/100\n",
            "1/1 [==============================] - 0s 28ms/step - loss: 3.9065 - mae: 3.9065\n",
            "Epoch 27/100\n",
            "1/1 [==============================] - 0s 28ms/step - loss: 3.8118 - mae: 3.8118\n",
            "Epoch 28/100\n",
            "1/1 [==============================] - 0s 38ms/step - loss: 3.8487 - mae: 3.8487\n",
            "Epoch 29/100\n",
            "1/1 [==============================] - 0s 23ms/step - loss: 3.8294 - mae: 3.8294\n",
            "Epoch 30/100\n",
            "1/1 [==============================] - 0s 26ms/step - loss: 3.7893 - mae: 3.7893\n",
            "Epoch 31/100\n",
            "1/1 [==============================] - 0s 23ms/step - loss: 3.8483 - mae: 3.8483\n",
            "Epoch 32/100\n",
            "1/1 [==============================] - 0s 23ms/step - loss: 3.7285 - mae: 3.7285\n",
            "Epoch 33/100\n",
            "1/1 [==============================] - 0s 36ms/step - loss: 3.8687 - mae: 3.8687\n",
            "Epoch 34/100\n",
            "1/1 [==============================] - 0s 28ms/step - loss: 3.6712 - mae: 3.6712\n",
            "Epoch 35/100\n",
            "1/1 [==============================] - 0s 24ms/step - loss: 3.8935 - mae: 3.8935\n",
            "Epoch 36/100\n",
            "1/1 [==============================] - 0s 21ms/step - loss: 3.7247 - mae: 3.7247\n",
            "Epoch 37/100\n",
            "1/1 [==============================] - 0s 26ms/step - loss: 3.7911 - mae: 3.7911\n",
            "Epoch 38/100\n",
            "1/1 [==============================] - 0s 19ms/step - loss: 3.7452 - mae: 3.7452\n",
            "Epoch 39/100\n",
            "1/1 [==============================] - 0s 11ms/step - loss: 3.7265 - mae: 3.7265\n",
            "Epoch 40/100\n",
            "1/1 [==============================] - 0s 23ms/step - loss: 3.7671 - mae: 3.7671\n",
            "Epoch 41/100\n",
            "1/1 [==============================] - 0s 21ms/step - loss: 3.6603 - mae: 3.6603\n",
            "Epoch 42/100\n",
            "1/1 [==============================] - 0s 31ms/step - loss: 3.7900 - mae: 3.7900\n",
            "Epoch 43/100\n",
            "1/1 [==============================] - 0s 24ms/step - loss: 3.5972 - mae: 3.5972\n",
            "Epoch 44/100\n",
            "1/1 [==============================] - 0s 22ms/step - loss: 3.8043 - mae: 3.8043\n",
            "Epoch 45/100\n",
            "1/1 [==============================] - 0s 24ms/step - loss: 3.6519 - mae: 3.6519\n",
            "Epoch 46/100\n",
            "1/1 [==============================] - 0s 41ms/step - loss: 3.7089 - mae: 3.7089\n",
            "Epoch 47/100\n",
            "1/1 [==============================] - 0s 32ms/step - loss: 3.6750 - mae: 3.6750\n",
            "Epoch 48/100\n",
            "1/1 [==============================] - 0s 38ms/step - loss: 3.6382 - mae: 3.6382\n",
            "Epoch 49/100\n",
            "1/1 [==============================] - 0s 33ms/step - loss: 3.7000 - mae: 3.7000\n",
            "Epoch 50/100\n",
            "1/1 [==============================] - 0s 38ms/step - loss: 3.5658 - mae: 3.5658\n",
            "Epoch 51/100\n",
            "1/1 [==============================] - 0s 30ms/step - loss: 3.7255 - mae: 3.7255\n",
            "Epoch 52/100\n",
            "1/1 [==============================] - 0s 27ms/step - loss: 3.5360 - mae: 3.5360\n",
            "Epoch 53/100\n",
            "1/1 [==============================] - 0s 30ms/step - loss: 3.6955 - mae: 3.6955\n",
            "Epoch 54/100\n",
            "1/1 [==============================] - 0s 25ms/step - loss: 3.5620 - mae: 3.5620\n",
            "Epoch 55/100\n",
            "1/1 [==============================] - 0s 23ms/step - loss: 3.6215 - mae: 3.6215\n",
            "Epoch 56/100\n",
            "1/1 [==============================] - 0s 27ms/step - loss: 3.5893 - mae: 3.5893\n",
            "Epoch 57/100\n",
            "1/1 [==============================] - 0s 17ms/step - loss: 3.5505 - mae: 3.5505\n",
            "Epoch 58/100\n",
            "1/1 [==============================] - 0s 18ms/step - loss: 3.6499 - mae: 3.6499\n",
            "Epoch 59/100\n",
            "1/1 [==============================] - 0s 19ms/step - loss: 3.4643 - mae: 3.4643\n",
            "Epoch 60/100\n",
            "1/1 [==============================] - 0s 16ms/step - loss: 3.6418 - mae: 3.6418\n",
            "Epoch 61/100\n",
            "1/1 [==============================] - 0s 16ms/step - loss: 3.4962 - mae: 3.4962\n",
            "Epoch 62/100\n",
            "1/1 [==============================] - 0s 31ms/step - loss: 3.5641 - mae: 3.5641\n",
            "Epoch 63/100\n",
            "1/1 [==============================] - 0s 18ms/step - loss: 3.5245 - mae: 3.5245\n",
            "Epoch 64/100\n",
            "1/1 [==============================] - 0s 21ms/step - loss: 3.4818 - mae: 3.4818\n",
            "Epoch 65/100\n",
            "1/1 [==============================] - 0s 25ms/step - loss: 3.5563 - mae: 3.5563\n",
            "Epoch 66/100\n",
            "1/1 [==============================] - 0s 25ms/step - loss: 3.3976 - mae: 3.3976\n",
            "Epoch 67/100\n",
            "1/1 [==============================] - 0s 49ms/step - loss: 3.5889 - mae: 3.5889\n",
            "Epoch 68/100\n",
            "1/1 [==============================] - 0s 47ms/step - loss: 3.4033 - mae: 3.4033\n",
            "Epoch 69/100\n",
            "1/1 [==============================] - 0s 18ms/step - loss: 3.5266 - mae: 3.5266\n",
            "Epoch 70/100\n",
            "1/1 [==============================] - 0s 13ms/step - loss: 3.4645 - mae: 3.4645\n",
            "Epoch 71/100\n",
            "1/1 [==============================] - 0s 17ms/step - loss: 3.4140 - mae: 3.4140\n",
            "Epoch 72/100\n",
            "1/1 [==============================] - 0s 35ms/step - loss: 3.5005 - mae: 3.5005\n",
            "Epoch 73/100\n",
            "1/1 [==============================] - 0s 59ms/step - loss: 3.3218 - mae: 3.3218\n",
            "Epoch 74/100\n",
            "1/1 [==============================] - 0s 61ms/step - loss: 3.5211 - mae: 3.5211\n",
            "Epoch 75/100\n",
            "1/1 [==============================] - 0s 43ms/step - loss: 3.3540 - mae: 3.3540\n",
            "Epoch 76/100\n",
            "1/1 [==============================] - 0s 21ms/step - loss: 3.4314 - mae: 3.4314\n",
            "Epoch 77/100\n",
            "1/1 [==============================] - 0s 32ms/step - loss: 3.3869 - mae: 3.3869\n",
            "Epoch 78/100\n",
            "1/1 [==============================] - 0s 21ms/step - loss: 3.3373 - mae: 3.3373\n",
            "Epoch 79/100\n",
            "1/1 [==============================] - 0s 25ms/step - loss: 3.4215 - mae: 3.4215\n",
            "Epoch 80/100\n",
            "1/1 [==============================] - 0s 24ms/step - loss: 3.2471 - mae: 3.2471\n",
            "Epoch 81/100\n",
            "1/1 [==============================] - 0s 48ms/step - loss: 3.4499 - mae: 3.4499\n",
            "Epoch 82/100\n",
            "1/1 [==============================] - 0s 26ms/step - loss: 3.3099 - mae: 3.3099\n",
            "Epoch 83/100\n",
            "1/1 [==============================] - 0s 13ms/step - loss: 3.3281 - mae: 3.3281\n",
            "Epoch 84/100\n",
            "1/1 [==============================] - 0s 20ms/step - loss: 3.3464 - mae: 3.3464\n",
            "Epoch 85/100\n",
            "1/1 [==============================] - 0s 20ms/step - loss: 3.2236 - mae: 3.2236\n",
            "Epoch 86/100\n",
            "1/1 [==============================] - 0s 15ms/step - loss: 3.3844 - mae: 3.3844\n",
            "Epoch 87/100\n",
            "1/1 [==============================] - 0s 20ms/step - loss: 3.2074 - mae: 3.2074\n",
            "Epoch 88/100\n",
            "1/1 [==============================] - 0s 23ms/step - loss: 3.3243 - mae: 3.3243\n",
            "Epoch 89/100\n",
            "1/1 [==============================] - 0s 15ms/step - loss: 3.2440 - mae: 3.2440\n",
            "Epoch 90/100\n",
            "1/1 [==============================] - 0s 24ms/step - loss: 3.2214 - mae: 3.2214\n",
            "Epoch 91/100\n",
            "1/1 [==============================] - 0s 41ms/step - loss: 3.2838 - mae: 3.2838\n",
            "Epoch 92/100\n",
            "1/1 [==============================] - 0s 33ms/step - loss: 3.1156 - mae: 3.1156\n",
            "Epoch 93/100\n",
            "1/1 [==============================] - 0s 37ms/step - loss: 3.3235 - mae: 3.3235\n",
            "Epoch 94/100\n",
            "1/1 [==============================] - 0s 25ms/step - loss: 3.1490 - mae: 3.1490\n",
            "Epoch 95/100\n",
            "1/1 [==============================] - 0s 25ms/step - loss: 3.2147 - mae: 3.2147\n",
            "Epoch 96/100\n",
            "1/1 [==============================] - 0s 42ms/step - loss: 3.2165 - mae: 3.2165\n",
            "Epoch 97/100\n",
            "1/1 [==============================] - 0s 26ms/step - loss: 3.0848 - mae: 3.0848\n",
            "Epoch 98/100\n",
            "1/1 [==============================] - 0s 28ms/step - loss: 3.2556 - mae: 3.2556\n",
            "Epoch 99/100\n",
            "1/1 [==============================] - 0s 46ms/step - loss: 3.0830 - mae: 3.0830\n",
            "Epoch 100/100\n",
            "1/1 [==============================] - 0s 35ms/step - loss: 3.1707 - mae: 3.1707\n"
          ]
        },
        {
          "output_type": "execute_result",
          "data": {
            "text/plain": [
              "<keras.src.callbacks.History at 0x7dc8ae770b20>"
            ]
          },
          "metadata": {},
          "execution_count": 17
        }
      ]
    },
    {
      "cell_type": "code",
      "source": [
        "model.predict([17.0])"
      ],
      "metadata": {
        "colab": {
          "base_uri": "https://localhost:8080/"
        },
        "id": "-hgI8mhqz341",
        "outputId": "9c40010e-c5e8-4cc1-e3e3-8fc5ec6b8846"
      },
      "execution_count": null,
      "outputs": [
        {
          "output_type": "stream",
          "name": "stdout",
          "text": [
            "1/1 [==============================] - 1s 530ms/step\n"
          ]
        },
        {
          "output_type": "execute_result",
          "data": {
            "text/plain": [
              "array([[32.68552]], dtype=float32)"
            ]
          },
          "metadata": {},
          "execution_count": 18
        }
      ]
    },
    {
      "cell_type": "code",
      "source": [
        "# Let's see if we can make another to improve our model\n",
        "\n",
        "# Create the model (this time with an extra hidden layer with 100 hidden units)\n",
        "model = tf.keras.Sequential([\n",
        "    tf.keras.layers.Dense(50, activation=None),\n",
        "    tf.keras.layers.Dense(1)\n",
        "])\n",
        "\n",
        "# Compile\n",
        "model.compile(loss=\"mae\",\n",
        "              optimizer=tf.keras.optimizers.Adam(lr=0.01),\n",
        "              metrics=[\"mae\"])\n",
        "\n",
        "# Fit\n",
        "model.fit(tf.expand_dims(X, axis=-1), y, epochs=100)"
      ],
      "metadata": {
        "colab": {
          "base_uri": "https://localhost:8080/"
        },
        "id": "IzL0gvD50N1l",
        "outputId": "5cc25350-acba-4157-e74d-06b577cd47ea"
      },
      "execution_count": null,
      "outputs": [
        {
          "output_type": "stream",
          "name": "stderr",
          "text": [
            "WARNING:absl:`lr` is deprecated in Keras optimizer, please use `learning_rate` or use the legacy optimizer, e.g.,tf.keras.optimizers.legacy.Adam.\n"
          ]
        },
        {
          "output_type": "stream",
          "name": "stdout",
          "text": [
            "Epoch 1/100\n",
            "1/1 [==============================] - 2s 2s/step - loss: 14.4277 - mae: 14.4277\n",
            "Epoch 2/100\n",
            "1/1 [==============================] - 0s 14ms/step - loss: 14.3586 - mae: 14.3586\n",
            "Epoch 3/100\n",
            "1/1 [==============================] - 0s 20ms/step - loss: 14.2895 - mae: 14.2895\n",
            "Epoch 4/100\n",
            "1/1 [==============================] - 0s 15ms/step - loss: 14.2205 - mae: 14.2205\n",
            "Epoch 5/100\n",
            "1/1 [==============================] - 0s 13ms/step - loss: 14.1516 - mae: 14.1516\n",
            "Epoch 6/100\n",
            "1/1 [==============================] - 0s 12ms/step - loss: 14.0827 - mae: 14.0827\n",
            "Epoch 7/100\n",
            "1/1 [==============================] - 0s 13ms/step - loss: 14.0138 - mae: 14.0138\n",
            "Epoch 8/100\n",
            "1/1 [==============================] - 0s 30ms/step - loss: 13.9450 - mae: 13.9450\n",
            "Epoch 9/100\n",
            "1/1 [==============================] - 0s 25ms/step - loss: 13.8761 - mae: 13.8761\n",
            "Epoch 10/100\n",
            "1/1 [==============================] - 0s 25ms/step - loss: 13.8073 - mae: 13.8073\n",
            "Epoch 11/100\n",
            "1/1 [==============================] - 0s 20ms/step - loss: 13.7384 - mae: 13.7384\n",
            "Epoch 12/100\n",
            "1/1 [==============================] - 0s 23ms/step - loss: 13.6695 - mae: 13.6695\n",
            "Epoch 13/100\n",
            "1/1 [==============================] - 0s 17ms/step - loss: 13.6007 - mae: 13.6007\n",
            "Epoch 14/100\n",
            "1/1 [==============================] - 0s 15ms/step - loss: 13.5318 - mae: 13.5318\n",
            "Epoch 15/100\n",
            "1/1 [==============================] - 0s 28ms/step - loss: 13.4629 - mae: 13.4629\n",
            "Epoch 16/100\n",
            "1/1 [==============================] - 0s 14ms/step - loss: 13.3940 - mae: 13.3940\n",
            "Epoch 17/100\n",
            "1/1 [==============================] - 0s 17ms/step - loss: 13.3250 - mae: 13.3250\n",
            "Epoch 18/100\n",
            "1/1 [==============================] - 0s 19ms/step - loss: 13.2561 - mae: 13.2561\n",
            "Epoch 19/100\n",
            "1/1 [==============================] - 0s 30ms/step - loss: 13.1871 - mae: 13.1871\n",
            "Epoch 20/100\n",
            "1/1 [==============================] - 0s 15ms/step - loss: 13.1180 - mae: 13.1180\n",
            "Epoch 21/100\n",
            "1/1 [==============================] - 0s 23ms/step - loss: 13.0490 - mae: 13.0490\n",
            "Epoch 22/100\n",
            "1/1 [==============================] - 0s 22ms/step - loss: 12.9799 - mae: 12.9799\n",
            "Epoch 23/100\n",
            "1/1 [==============================] - 0s 13ms/step - loss: 12.9107 - mae: 12.9107\n",
            "Epoch 24/100\n",
            "1/1 [==============================] - 0s 12ms/step - loss: 12.8415 - mae: 12.8415\n",
            "Epoch 25/100\n",
            "1/1 [==============================] - 0s 21ms/step - loss: 12.7722 - mae: 12.7722\n",
            "Epoch 26/100\n",
            "1/1 [==============================] - 0s 30ms/step - loss: 12.7029 - mae: 12.7029\n",
            "Epoch 27/100\n",
            "1/1 [==============================] - 0s 21ms/step - loss: 12.6335 - mae: 12.6335\n",
            "Epoch 28/100\n",
            "1/1 [==============================] - 0s 12ms/step - loss: 12.5640 - mae: 12.5640\n",
            "Epoch 29/100\n",
            "1/1 [==============================] - 0s 15ms/step - loss: 12.4944 - mae: 12.4944\n",
            "Epoch 30/100\n",
            "1/1 [==============================] - 0s 19ms/step - loss: 12.4248 - mae: 12.4248\n",
            "Epoch 31/100\n",
            "1/1 [==============================] - 0s 23ms/step - loss: 12.3550 - mae: 12.3550\n",
            "Epoch 32/100\n",
            "1/1 [==============================] - 0s 21ms/step - loss: 12.2852 - mae: 12.2852\n",
            "Epoch 33/100\n",
            "1/1 [==============================] - 0s 12ms/step - loss: 12.2152 - mae: 12.2152\n",
            "Epoch 34/100\n",
            "1/1 [==============================] - 0s 29ms/step - loss: 12.1452 - mae: 12.1452\n",
            "Epoch 35/100\n",
            "1/1 [==============================] - 0s 20ms/step - loss: 12.0750 - mae: 12.0750\n",
            "Epoch 36/100\n",
            "1/1 [==============================] - 0s 17ms/step - loss: 12.0047 - mae: 12.0047\n",
            "Epoch 37/100\n",
            "1/1 [==============================] - 0s 18ms/step - loss: 11.9343 - mae: 11.9343\n",
            "Epoch 38/100\n",
            "1/1 [==============================] - 0s 29ms/step - loss: 11.8637 - mae: 11.8637\n",
            "Epoch 39/100\n",
            "1/1 [==============================] - 0s 24ms/step - loss: 11.7930 - mae: 11.7930\n",
            "Epoch 40/100\n",
            "1/1 [==============================] - 0s 21ms/step - loss: 11.7221 - mae: 11.7221\n",
            "Epoch 41/100\n",
            "1/1 [==============================] - 0s 28ms/step - loss: 11.6511 - mae: 11.6511\n",
            "Epoch 42/100\n",
            "1/1 [==============================] - 0s 12ms/step - loss: 11.5800 - mae: 11.5800\n",
            "Epoch 43/100\n",
            "1/1 [==============================] - 0s 18ms/step - loss: 11.5087 - mae: 11.5087\n",
            "Epoch 44/100\n",
            "1/1 [==============================] - 0s 17ms/step - loss: 11.4372 - mae: 11.4372\n",
            "Epoch 45/100\n",
            "1/1 [==============================] - 0s 20ms/step - loss: 11.3655 - mae: 11.3655\n",
            "Epoch 46/100\n",
            "1/1 [==============================] - 0s 20ms/step - loss: 11.2937 - mae: 11.2937\n",
            "Epoch 47/100\n",
            "1/1 [==============================] - 0s 18ms/step - loss: 11.2216 - mae: 11.2216\n",
            "Epoch 48/100\n",
            "1/1 [==============================] - 0s 16ms/step - loss: 11.1494 - mae: 11.1494\n",
            "Epoch 49/100\n",
            "1/1 [==============================] - 0s 30ms/step - loss: 11.0770 - mae: 11.0770\n",
            "Epoch 50/100\n",
            "1/1 [==============================] - 0s 20ms/step - loss: 11.0044 - mae: 11.0044\n",
            "Epoch 51/100\n",
            "1/1 [==============================] - 0s 15ms/step - loss: 10.9315 - mae: 10.9315\n",
            "Epoch 52/100\n",
            "1/1 [==============================] - 0s 13ms/step - loss: 10.8585 - mae: 10.8585\n",
            "Epoch 53/100\n",
            "1/1 [==============================] - 0s 13ms/step - loss: 10.7852 - mae: 10.7852\n",
            "Epoch 54/100\n",
            "1/1 [==============================] - 0s 14ms/step - loss: 10.7117 - mae: 10.7117\n",
            "Epoch 55/100\n",
            "1/1 [==============================] - 0s 16ms/step - loss: 10.6379 - mae: 10.6379\n",
            "Epoch 56/100\n",
            "1/1 [==============================] - 0s 14ms/step - loss: 10.5639 - mae: 10.5639\n",
            "Epoch 57/100\n",
            "1/1 [==============================] - 0s 14ms/step - loss: 10.4897 - mae: 10.4897\n",
            "Epoch 58/100\n",
            "1/1 [==============================] - 0s 12ms/step - loss: 10.4152 - mae: 10.4152\n",
            "Epoch 59/100\n",
            "1/1 [==============================] - 0s 18ms/step - loss: 10.3404 - mae: 10.3404\n",
            "Epoch 60/100\n",
            "1/1 [==============================] - 0s 27ms/step - loss: 10.2654 - mae: 10.2654\n",
            "Epoch 61/100\n",
            "1/1 [==============================] - 0s 29ms/step - loss: 10.1901 - mae: 10.1901\n",
            "Epoch 62/100\n",
            "1/1 [==============================] - 0s 20ms/step - loss: 10.1146 - mae: 10.1146\n",
            "Epoch 63/100\n",
            "1/1 [==============================] - 0s 21ms/step - loss: 10.0387 - mae: 10.0387\n",
            "Epoch 64/100\n",
            "1/1 [==============================] - 0s 23ms/step - loss: 9.9625 - mae: 9.9625\n",
            "Epoch 65/100\n",
            "1/1 [==============================] - 0s 14ms/step - loss: 9.8861 - mae: 9.8861\n",
            "Epoch 66/100\n",
            "1/1 [==============================] - 0s 14ms/step - loss: 9.8093 - mae: 9.8093\n",
            "Epoch 67/100\n",
            "1/1 [==============================] - 0s 16ms/step - loss: 9.7323 - mae: 9.7323\n",
            "Epoch 68/100\n",
            "1/1 [==============================] - 0s 21ms/step - loss: 9.6549 - mae: 9.6549\n",
            "Epoch 69/100\n",
            "1/1 [==============================] - 0s 15ms/step - loss: 9.5772 - mae: 9.5772\n",
            "Epoch 70/100\n",
            "1/1 [==============================] - 0s 22ms/step - loss: 9.4991 - mae: 9.4991\n",
            "Epoch 71/100\n",
            "1/1 [==============================] - 0s 21ms/step - loss: 9.4207 - mae: 9.4207\n",
            "Epoch 72/100\n",
            "1/1 [==============================] - 0s 20ms/step - loss: 9.3420 - mae: 9.3420\n",
            "Epoch 73/100\n",
            "1/1 [==============================] - 0s 14ms/step - loss: 9.2629 - mae: 9.2629\n",
            "Epoch 74/100\n",
            "1/1 [==============================] - 0s 22ms/step - loss: 9.1835 - mae: 9.1835\n",
            "Epoch 75/100\n",
            "1/1 [==============================] - 0s 31ms/step - loss: 9.1037 - mae: 9.1037\n",
            "Epoch 76/100\n",
            "1/1 [==============================] - 0s 27ms/step - loss: 9.0235 - mae: 9.0235\n",
            "Epoch 77/100\n",
            "1/1 [==============================] - 0s 17ms/step - loss: 8.9430 - mae: 8.9430\n",
            "Epoch 78/100\n",
            "1/1 [==============================] - 0s 31ms/step - loss: 8.8621 - mae: 8.8621\n",
            "Epoch 79/100\n",
            "1/1 [==============================] - 0s 15ms/step - loss: 8.7808 - mae: 8.7808\n",
            "Epoch 80/100\n",
            "1/1 [==============================] - 0s 16ms/step - loss: 8.6991 - mae: 8.6991\n",
            "Epoch 81/100\n",
            "1/1 [==============================] - 0s 14ms/step - loss: 8.6170 - mae: 8.6170\n",
            "Epoch 82/100\n",
            "1/1 [==============================] - 0s 24ms/step - loss: 8.5345 - mae: 8.5345\n",
            "Epoch 83/100\n",
            "1/1 [==============================] - 0s 20ms/step - loss: 8.4516 - mae: 8.4516\n",
            "Epoch 84/100\n",
            "1/1 [==============================] - 0s 21ms/step - loss: 8.3682 - mae: 8.3682\n",
            "Epoch 85/100\n",
            "1/1 [==============================] - 0s 29ms/step - loss: 8.2845 - mae: 8.2845\n",
            "Epoch 86/100\n",
            "1/1 [==============================] - 0s 23ms/step - loss: 8.2003 - mae: 8.2003\n",
            "Epoch 87/100\n",
            "1/1 [==============================] - 0s 16ms/step - loss: 8.1157 - mae: 8.1157\n",
            "Epoch 88/100\n",
            "1/1 [==============================] - 0s 18ms/step - loss: 8.0306 - mae: 8.0306\n",
            "Epoch 89/100\n",
            "1/1 [==============================] - 0s 21ms/step - loss: 7.9451 - mae: 7.9451\n",
            "Epoch 90/100\n",
            "1/1 [==============================] - 0s 23ms/step - loss: 7.8592 - mae: 7.8592\n",
            "Epoch 91/100\n",
            "1/1 [==============================] - 0s 30ms/step - loss: 7.7727 - mae: 7.7727\n",
            "Epoch 92/100\n",
            "1/1 [==============================] - 0s 20ms/step - loss: 7.6859 - mae: 7.6859\n",
            "Epoch 93/100\n",
            "1/1 [==============================] - 0s 26ms/step - loss: 7.5985 - mae: 7.5985\n",
            "Epoch 94/100\n",
            "1/1 [==============================] - 0s 30ms/step - loss: 7.5107 - mae: 7.5107\n",
            "Epoch 95/100\n",
            "1/1 [==============================] - 0s 29ms/step - loss: 7.4224 - mae: 7.4224\n",
            "Epoch 96/100\n",
            "1/1 [==============================] - 0s 18ms/step - loss: 7.3336 - mae: 7.3336\n",
            "Epoch 97/100\n",
            "1/1 [==============================] - 0s 17ms/step - loss: 7.2444 - mae: 7.2444\n",
            "Epoch 98/100\n",
            "1/1 [==============================] - 0s 28ms/step - loss: 7.1546 - mae: 7.1546\n",
            "Epoch 99/100\n",
            "1/1 [==============================] - 0s 20ms/step - loss: 7.0643 - mae: 7.0643\n",
            "Epoch 100/100\n",
            "1/1 [==============================] - 0s 17ms/step - loss: 6.9735 - mae: 6.9735\n"
          ]
        },
        {
          "output_type": "execute_result",
          "data": {
            "text/plain": [
              "<keras.src.callbacks.History at 0x7dc8ae686c80>"
            ]
          },
          "metadata": {},
          "execution_count": 19
        }
      ]
    },
    {
      "cell_type": "code",
      "source": [
        "X, y"
      ],
      "metadata": {
        "colab": {
          "base_uri": "https://localhost:8080/"
        },
        "id": "T3ybXJ7v2cLU",
        "outputId": "76c03ba7-6716-4033-fbe7-afceb4b31abe"
      },
      "execution_count": null,
      "outputs": [
        {
          "output_type": "execute_result",
          "data": {
            "text/plain": [
              "(<tf.Tensor: shape=(8,), dtype=float32, numpy=array([-7., -4., -1.,  2.,  5.,  8., 11., 14.], dtype=float32)>,\n",
              " <tf.Tensor: shape=(8,), dtype=float32, numpy=array([ 3.,  6.,  9., 12., 15., 18., 21., 24.], dtype=float32)>)"
            ]
          },
          "metadata": {},
          "execution_count": 20
        }
      ]
    },
    {
      "cell_type": "code",
      "source": [
        "# Let's try to make a prediction\n",
        "model.predict([17.0])"
      ],
      "metadata": {
        "colab": {
          "base_uri": "https://localhost:8080/"
        },
        "id": "OTWEdQJm2wRs",
        "outputId": "9625d05c-c4ec-4670-d7e0-2c33d24aca7b"
      },
      "execution_count": null,
      "outputs": [
        {
          "output_type": "stream",
          "name": "stdout",
          "text": [
            "1/1 [==============================] - 0s 193ms/step\n"
          ]
        },
        {
          "output_type": "execute_result",
          "data": {
            "text/plain": [
              "array([[27.629501]], dtype=float32)"
            ]
          },
          "metadata": {},
          "execution_count": 21
        }
      ]
    },
    {
      "cell_type": "markdown",
      "source": [
        "## Evaluating a model\n",
        "\n",
        "In practice, a typical workflow you'll go through when building neural networks is:\n",
        "\n",
        "```\n",
        "Build a model -> fit it -> evaluate it -> tweak a model -> fit it -> evaluate it -> tweak a model -> fit it -> evaluate it...\n",
        "```"
      ],
      "metadata": {
        "id": "7e_jxzni28Nk"
      }
    },
    {
      "cell_type": "markdown",
      "source": [
        "# When it comes to evaluation... there are 3 words you should memorize:\n",
        "\n",
        "> \"Visualize, visualize, visualize\"\n",
        "\n",
        "It's a good idea to visualize:\n",
        "* The data - what data are we working with? What does it look like?\n",
        "* The model itself - what does our model look like?\n",
        "* The training of a model - how does a model perform while it learns?\n",
        "* The predictions of the model - how do the predictions of a model line up against the ground truth (the original labels)?"
      ],
      "metadata": {
        "id": "HXOVp9x8vwOT"
      }
    },
    {
      "cell_type": "code",
      "source": [
        "# Make a bigger dataset\n",
        "X = tf.range(-100.0, 100.0, 4)\n",
        "X"
      ],
      "metadata": {
        "colab": {
          "base_uri": "https://localhost:8080/"
        },
        "id": "A_EqHdM5wWC6",
        "outputId": "91e324bd-857d-45f2-f10a-680cdd5b9b94"
      },
      "execution_count": null,
      "outputs": [
        {
          "output_type": "execute_result",
          "data": {
            "text/plain": [
              "<tf.Tensor: shape=(50,), dtype=float32, numpy=\n",
              "array([-100.,  -96.,  -92.,  -88.,  -84.,  -80.,  -76.,  -72.,  -68.,\n",
              "        -64.,  -60.,  -56.,  -52.,  -48.,  -44.,  -40.,  -36.,  -32.,\n",
              "        -28.,  -24.,  -20.,  -16.,  -12.,   -8.,   -4.,    0.,    4.,\n",
              "          8.,   12.,   16.,   20.,   24.,   28.,   32.,   36.,   40.,\n",
              "         44.,   48.,   52.,   56.,   60.,   64.,   68.,   72.,   76.,\n",
              "         80.,   84.,   88.,   92.,   96.], dtype=float32)>"
            ]
          },
          "metadata": {},
          "execution_count": 22
        }
      ]
    },
    {
      "cell_type": "code",
      "source": [
        "# Make labels for the dataset\n",
        "y = X + 10\n",
        "y"
      ],
      "metadata": {
        "colab": {
          "base_uri": "https://localhost:8080/"
        },
        "id": "dmGVr8m8zu6C",
        "outputId": "d079f212-ed16-4033-9f15-0a6e22c7b83d"
      },
      "execution_count": null,
      "outputs": [
        {
          "output_type": "execute_result",
          "data": {
            "text/plain": [
              "<tf.Tensor: shape=(50,), dtype=float32, numpy=\n",
              "array([-90., -86., -82., -78., -74., -70., -66., -62., -58., -54., -50.,\n",
              "       -46., -42., -38., -34., -30., -26., -22., -18., -14., -10.,  -6.,\n",
              "        -2.,   2.,   6.,  10.,  14.,  18.,  22.,  26.,  30.,  34.,  38.,\n",
              "        42.,  46.,  50.,  54.,  58.,  62.,  66.,  70.,  74.,  78.,  82.,\n",
              "        86.,  90.,  94.,  98., 102., 106.], dtype=float32)>"
            ]
          },
          "metadata": {},
          "execution_count": 23
        }
      ]
    },
    {
      "cell_type": "code",
      "source": [
        "# Visualize the data\n",
        "import matplotlib.pyplot as plt\n",
        "\n",
        "plt.scatter(X, y)"
      ],
      "metadata": {
        "colab": {
          "base_uri": "https://localhost:8080/",
          "height": 448
        },
        "id": "BeHb9sHo0GUZ",
        "outputId": "71afab71-f0a2-48e8-c0a7-d4a93f64694f"
      },
      "execution_count": null,
      "outputs": [
        {
          "output_type": "execute_result",
          "data": {
            "text/plain": [
              "<matplotlib.collections.PathCollection at 0x7dc8ae58eda0>"
            ]
          },
          "metadata": {},
          "execution_count": 24
        },
        {
          "output_type": "display_data",
          "data": {
            "text/plain": [
              "<Figure size 640x480 with 1 Axes>"
            ],
            "image/png": "[encoded data removed]"
          },
          "metadata": {}
        }
      ]
    },
    {
      "cell_type": "markdown",
      "source": [
        "### The 3 sets...\n",
        "\n",
        "* **Training set** - the model learns from this data, which typically\n",
        "constitutes 70-80% of the total available data.\n",
        "* **Validation set** - the model is fine-tuned on this data, typically representing 10-15% of the available data.\n",
        "* **Test set** - the model is evaluated on this data to assess what it has learned; this set typically accounts for 10-15% of the total available data."
      ],
      "metadata": {
        "id": "afBef0tX0dzJ"
      }
    },
    {
      "cell_type": "code",
      "source": [
        "# Check the length of how many samples we have\n",
        "len(X)"
      ],
      "metadata": {
        "colab": {
          "base_uri": "https://localhost:8080/"
        },
        "id": "JSNYXWyp3q_U",
        "outputId": "6839e63c-fa08-405f-e9de-89d06a7dab54"
      },
      "execution_count": null,
      "outputs": [
        {
          "output_type": "execute_result",
          "data": {
            "text/plain": [
              "50"
            ]
          },
          "metadata": {},
          "execution_count": 25
        }
      ]
    },
    {
      "cell_type": "code",
      "source": [
        "# Split the data into train and test sets\n",
        "X_train = X[:40] # first 40 are training samples (80% of the data)\n",
        "y_train = y[:40]\n",
        "\n",
        "X_test = X[40:] # last 10 are testing samples (20% of the data)\n",
        "y_test = y[40:]\n",
        "\n",
        "len(X_train), len(X_test), len(y_train), len(y_test)"
      ],
      "metadata": {
        "colab": {
          "base_uri": "https://localhost:8080/"
        },
        "id": "Qmc2fgys3zwh",
        "outputId": "6c9b2c08-114a-4673-b638-ce145ba85806"
      },
      "execution_count": null,
      "outputs": [
        {
          "output_type": "execute_result",
          "data": {
            "text/plain": [
              "(40, 10, 40, 10)"
            ]
          },
          "metadata": {},
          "execution_count": 26
        }
      ]
    },
    {
      "cell_type": "markdown",
      "source": [
        "### Visualizing the data\n",
        "\n",
        "Now we've got our data in training and test sets... let's visualize it again!"
      ],
      "metadata": {
        "id": "eYzIliLS41KB"
      }
    },
    {
      "cell_type": "code",
      "source": [
        "plt.figure(figsize=(10, 7))\n",
        "# Plot training data in blue\n",
        "plt.scatter(X_train, y_train, c=\"b\", label=\"Training data\")\n",
        "# Plot test data in green\n",
        "plt.scatter(X_test, y_test, c=\"g\", label=\"Testing data\")\n",
        "# Show a legend\n",
        "plt.legend();"
      ],
      "metadata": {
        "colab": {
          "base_uri": "https://localhost:8080/",
          "height": 599
        },
        "id": "kWrb5LB85Csx",
        "outputId": "6bbd987f-fcf8-46d0-9d19-cf0cd0afe5a3"
      },
      "execution_count": null,
      "outputs": [
        {
          "output_type": "display_data",
          "data": {
            "text/plain": [
              "<Figure size 1000x700 with 1 Axes>"
            ],
            "image/png": "[encoded data removed]"
          },
          "metadata": {}
        }
      ]
    },
    {
      "cell_type": "code",
      "source": [
        "# Let's have a look at how to build a neural network for our data\n",
        "\n",
        "# Create\n",
        "model = tf.keras.Sequential([\n",
        "    tf.keras.layers.Dense(1)\n",
        "])\n",
        "\n",
        "# Compile\n",
        "model.compile(loss=tf.keras.losses.mae,\n",
        "              optimizer=tf.keras.optimizers.SGD(),\n",
        "              metrics=[\"mae\"])\n",
        "\n",
        "# # Fit\n",
        "# model.fit(tf.expand_dims(X, axis=-1), y, epochs=100)"
      ],
      "metadata": {
        "id": "nfK2nyYa6XA5"
      },
      "execution_count": null,
      "outputs": []
    },
    {
      "cell_type": "markdown",
      "source": [
        "### Visualizing the model"
      ],
      "metadata": {
        "id": "GQ11qyS2TzYg"
      }
    },
    {
      "cell_type": "code",
      "source": [
        "\n",
        "model.summary()"
      ],
      "metadata": {
        "id": "T_7oaThbhCtd",
        "outputId": "937eec97-6c46-4003-f256-8ec9973582d0",
        "colab": {
          "base_uri": "https://localhost:8080/",
          "height": 270
        }
      },
      "execution_count": null,
      "outputs": [
        {
          "output_type": "error",
          "ename": "ValueError",
          "evalue": "This model has not yet been built. Build the model first by calling `build()` or by calling the model on a batch of data.",
          "traceback": [
            "\u001b[0;31m---------------------------------------------------------------------------\u001b[0m",
            "\u001b[0;31mValueError\u001b[0m                                Traceback (most recent call last)",
            "\u001b[0;32m<ipython-input-29-5f15418b3570>\u001b[0m in \u001b[0;36m<cell line: 1>\u001b[0;34m()\u001b[0m\n\u001b[0;32m----> 1\u001b[0;31m \u001b[0mmodel\u001b[0m\u001b[0;34m.\u001b[0m\u001b[0msummary\u001b[0m\u001b[0;34m(\u001b[0m\u001b[0;34m)\u001b[0m\u001b[0;34m\u001b[0m\u001b[0;34m\u001b[0m\u001b[0m\n\u001b[0m",
            "\u001b[0;32m/usr/local/lib/python3.10/dist-packages/keras/src/engine/training.py\u001b[0m in \u001b[0;36msummary\u001b[0;34m(self, line_length, positions, print_fn, expand_nested, show_trainable, layer_range)\u001b[0m\n\u001b[1;32m   3504\u001b[0m         \"\"\"\n\u001b[1;32m   3505\u001b[0m         \u001b[0;32mif\u001b[0m \u001b[0;32mnot\u001b[0m \u001b[0mself\u001b[0m\u001b[0;34m.\u001b[0m\u001b[0mbuilt\u001b[0m\u001b[0;34m:\u001b[0m\u001b[0;34m\u001b[0m\u001b[0;34m\u001b[0m\u001b[0m\n\u001b[0;32m-> 3506\u001b[0;31m             raise ValueError(\n\u001b[0m\u001b[1;32m   3507\u001b[0m                 \u001b[0;34m\"This model has not yet been built. \"\u001b[0m\u001b[0;34m\u001b[0m\u001b[0;34m\u001b[0m\u001b[0m\n\u001b[1;32m   3508\u001b[0m                 \u001b[0;34m\"Build the model first by calling `build()` or by calling \"\u001b[0m\u001b[0;34m\u001b[0m\u001b[0;34m\u001b[0m\u001b[0m\n",
            "\u001b[0;31mValueError\u001b[0m: This model has not yet been built. Build the model first by calling `build()` or by calling the model on a batch of data."
          ]
        }
      ]
    },
    {
      "cell_type": "code",
      "source": [
        "# Let's create a model which builds automatically by defining the input_shape argument in the first layer\n",
        "tf.random.set_seed(42)\n",
        "\n",
        "# Create\n",
        "model = tf.keras.Sequential([\n",
        "    tf.keras.layers.Dense(10, name=\"input_layer1\"),\n",
        "    tf.keras.layers.Dense(10, name=\"input_layer2\"),\n",
        "    tf.keras.layers.Dense(1, name=\"output_layer\")\n",
        "], name=\"model_1\")\n",
        "\n",
        "# Compile\n",
        "model.compile(loss=tf.keras.losses.mae,\n",
        "              optimizer=tf.keras.optimizers.SGD(),\n",
        "              metrics=[\"mae\"])"
      ],
      "metadata": {
        "id": "_PFAEPICsrOQ"
      },
      "execution_count": null,
      "outputs": []
    },
    {
      "cell_type": "markdown",
      "source": [
        "* Total params - total number of parameters in the model.\n",
        "* Trainable parameters -these are the parameters (patterns) the model can update as it trains.\n",
        "* Non-trainable params - these parameters aren't updated during training (this is typical when you bring in already learn patterns or parameters from other models during **transfer learning**).\n",
        "\n"
      ],
      "metadata": {
        "id": "NFWq2l3zukOL"
      }
    },
    {
      "cell_type": "code",
      "source": [
        "model.fit(tf.expand_dims(X, axis=-1), y, epochs=100, verbose=0)"
      ],
      "metadata": {
        "id": "ryH0ETZWymaW"
      },
      "execution_count": null,
      "outputs": []
    },
    {
      "cell_type": "code",
      "source": [
        "# Get a summary of our model\n",
        "model.summary()"
      ],
      "metadata": {
        "id": "ND2jU4c5EQHV"
      },
      "execution_count": null,
      "outputs": []
    },
    {
      "cell_type": "code",
      "source": [
        "from tensorflow.keras.utils import plot_model\n",
        "\n",
        "plot_model(model=model, show_shapes=True)"
      ],
      "metadata": {
        "id": "AUCH60ppETLA"
      },
      "execution_count": null,
      "outputs": []
    },
    {
      "cell_type": "markdown",
      "source": [
        "### Visualize our model's predictions\n",
        "To visualize predictions, it's a good idea to plot them against the ground truth labels.\n",
        "\n",
        "Often you'll see this in the form of `y_test` or `y_true`\n",
        "versus `y_pred` (ground truth versus your model's predictions)."
      ],
      "metadata": {
        "id": "Bx9CckOTFIgZ"
      }
    },
    {
      "cell_type": "code",
      "source": [
        "# Make some predictions\n",
        "y_pred = model.predict(X_test)\n",
        "y_pred"
      ],
      "metadata": {
        "id": "sx4TwVJBn2CY"
      },
      "execution_count": null,
      "outputs": []
    },
    {
      "cell_type": "code",
      "source": [
        "y_test"
      ],
      "metadata": {
        "id": "jWDHrOSwoD6n"
      },
      "execution_count": null,
      "outputs": []
    },
    {
      "cell_type": "code",
      "source": [
        " # Let's create a plotting function\n",
        "def plot_predictions(training_data=X_train,\n",
        "                      training_labels=y_train,\n",
        "                      test_data=X_test,\n",
        "                      test_labels=y_test,\n",
        "                      predictions=y_pred):\n",
        "   \"\"\"\n",
        "   Plots training data, test data and compares predictions to ground truth labels.\n",
        "   \"\"\"\n",
        "\n",
        "   plt.figure(figsize=(10, 7))\n",
        "   # Plot training data in blue\n",
        "   plt.scatter(training_data, training_labels, c='b', label=\"Training data\")\n",
        "   # Plot testing data in green\n",
        "   plt.scatter(test_data,test_labels, c='g', label=\"Testing data\")\n",
        "   #Plot model's predictions in red\n",
        "   plt.scatter(test_data, predictions, c='r', label=\"Predictions\")\n",
        "   # Show the legend\n",
        "   plt.legend();"
      ],
      "metadata": {
        "id": "R6UaFdxAoLZC"
      },
      "execution_count": null,
      "outputs": []
    },
    {
      "cell_type": "code",
      "source": [
        "# Split the data into train and test sets\n",
        "X_train = X[:40] # first 40 are training samples (80% of the data)\n",
        "y_train = y[:40]\n",
        "\n",
        "X_test = X[40:] # last 10 are testing samples (20% of the data)\n",
        "y_test = y[40:]\n",
        "\n",
        "\n",
        "len(X_train), len(X_test), len(y_train), len(y_test)"
      ],
      "metadata": {
        "id": "hNtMnnS4ooKi"
      },
      "execution_count": null,
      "outputs": []
    },
    {
      "cell_type": "code",
      "source": [
        "# Let's create a model which builds automatically by defining the input_shape argument in the first layer\n",
        "tf.random.set_seed(42)\n",
        "\n",
        "# Create\n",
        "model2 = tf.keras.Sequential([\n",
        "    tf.keras.layers.Dense(17, name=\"input_layer0\"),\n",
        "    tf.keras.layers.Dense(15, name=\"input_layer1\"),\n",
        "    tf.keras.layers.Dense(13, name=\"input_layer2\"),\n",
        "    tf.keras.layers.Dense(1, name=\"output_layer\")\n",
        "], name=\"model_2\")\n",
        "\n",
        "# Compile\n",
        "model2.compile(loss=tf.keras.losses.mae,\n",
        "               optimizer=tf.keras.optimizers.Adam(learning_rate=0.001),\n",
        "              metrics=[\"mae\"])\n",
        "\n",
        "# fit\n",
        "model2.fit(tf.expand_dims(X, axis=-1), y, epochs=190, verbose=1)"
      ],
      "metadata": {
        "id": "dFC0EH20mfq4"
      },
      "execution_count": null,
      "outputs": []
    },
    {
      "cell_type": "code",
      "source": [
        "# Make some predictions\n",
        "y_pred = model2.predict(X_test)\n",
        "y_pred"
      ],
      "metadata": {
        "id": "4O2CAksAoJQv"
      },
      "execution_count": null,
      "outputs": []
    },
    {
      "cell_type": "code",
      "source": [
        "plot_predictions(training_data=X_train,\n",
        "                 training_labels=y_train,\n",
        "                 test_data=X_test,\n",
        "                 test_labels=y_test,\n",
        "                 predictions=y_pred)"
      ],
      "metadata": {
        "id": "Eoxp3F7EIF0i"
      },
      "execution_count": null,
      "outputs": []
    },
    {
      "cell_type": "markdown",
      "source": [
        "### Evaluating our model's predictions with regression evaluation metrics\n",
        "\n",
        "Depending on the problem you're working on, there will be different evaluation metrics to evaluate your model's performance.\n",
        "\n",
        "Since we're working on a regression, two of the main metrics:\n",
        "* MAE - mean absolute error, \"on average, how wrong is each of my model's predictions\"\n",
        "* MSE - mean square error, \"square the average errors.\""
      ],
      "metadata": {
        "id": "T83SLa6zlI8v"
      }
    },
    {
      "cell_type": "code",
      "source": [
        "# Evaluate the model on the test\n",
        "model2.evaluate(X_test, y_test)"
      ],
      "metadata": {
        "id": "RLhShIma4LKm"
      },
      "execution_count": null,
      "outputs": []
    },
    {
      "cell_type": "code",
      "source": [
        "# Calculate the mean absolute error\n",
        "mae = tf.metrics.mean_absolute_error(y_true=y_test,\n",
        "                              y_pred=tf.constant(y_pred))\n",
        "mae"
      ],
      "metadata": {
        "id": "JCp8lSyE6XXg"
      },
      "execution_count": null,
      "outputs": []
    },
    {
      "cell_type": "code",
      "source": [
        "tf.constant(y_pred)"
      ],
      "metadata": {
        "id": "IATXuN9e6H3U"
      },
      "execution_count": null,
      "outputs": []
    },
    {
      "cell_type": "code",
      "source": [
        "y_test"
      ],
      "metadata": {
        "id": "9oW140df6VmE"
      },
      "execution_count": null,
      "outputs": []
    },
    {
      "cell_type": "code",
      "source": [
        "# Let's get rid of that one dimension (10, 1) --> (10,)\n",
        "tf.squeeze(y_pred)"
      ],
      "metadata": {
        "id": "q7LzeOENBj4S"
      },
      "execution_count": null,
      "outputs": []
    },
    {
      "cell_type": "code",
      "source": [
        "# Calculate the mean absolute error\n",
        "mae = tf.metrics.mean_absolute_error(y_true=y_test,\n",
        "                                     y_pred=tf.squeeze(y_pred))\n",
        "mae"
      ],
      "metadata": {
        "id": "l15GOD7FBwzR"
      },
      "execution_count": null,
      "outputs": []
    },
    {
      "cell_type": "code",
      "source": [
        "# Calculate the mean square error\n",
        "mse = tf.metrics.mean_squared_error(y_true=y_test,\n",
        "                                    y_pred=tf.squeeze(y_pred))\n",
        "mse"
      ],
      "metadata": {
        "id": "oESgHXUHCZv6"
      },
      "execution_count": null,
      "outputs": []
    },
    {
      "cell_type": "code",
      "source": [
        "# Make some functions to reuse MAE and MSE\n",
        "def mae(y_true, y_pred):\n",
        "  return tf.metrics.mean_absolute_error(y_true=y_true,\n",
        "                                        y_pred=tf.squeeze(y_pred))\n",
        "\n",
        "def mse(y_true, y_pred):\n",
        "  return tf.metrics.mean_squared_error(y_true=y_true,\n",
        "                                       y_pred=tf.squeeze(y_pred))"
      ],
      "metadata": {
        "id": "-TluVL70Eu8q"
      },
      "execution_count": null,
      "outputs": []
    },
    {
      "cell_type": "markdown",
      "source": [
        "## Running experiments to improve our model\n",
        "\n",
        "```\n",
        "Build a model -> fit it -> evaluate it -> tweak it -> fit it -> evaluate it -> tweak it -> fit it -> evaluate it ...\n",
        "```\n",
        "\n",
        "1. Get more data - get more examples for your model to train on (more opportunities to learn patterns or relationships between features and labels).\n",
        "2. Make your model larger (using a more complex model) - this might come in the form of more layers or more hidden units in each layer.\n",
        "3. Train for longer - give your model more of a chance to find patterns in the data.\n",
        "\n",
        "Let's do 3 modelling experiments:\n",
        "\n",
        "1. `model_1` - same as the original model, 1 layer, trained for 100 epochs.\n",
        "2. `model_2` - 2 layers, trained for 100 epochs\n",
        "3. `model_3` - 2 layers, trained for 500 epochs\n",
        "\n",
        "**Build `model_1`**"
      ],
      "metadata": {
        "id": "beMq45-gLgix"
      }
    },
    {
      "cell_type": "code",
      "source": [
        "# Set random seed\n",
        "tf.random.set_seed(42)\n",
        "\n",
        "# 1. Create the model\n",
        "model_1 = tf.keras.Sequential([\n",
        "    tf.keras.layers.Dense(1)\n",
        "])\n",
        "\n",
        "# 2. Compile the model\n",
        "model_1.compile(loss=tf.keras.losses.mae,\n",
        "                optimizer=tf.keras.optimizers.SGD(),\n",
        "                metrics=[\"mae\"])\n",
        "\n",
        "# 3. Fit the model\n",
        "model_1.fit(tf.expand_dims(X_train, axis=-1), y_train, epochs=100)"
      ],
      "metadata": {
        "id": "VHkyljldPQbn"
      },
      "execution_count": null,
      "outputs": []
    },
    {
      "cell_type": "code",
      "source": [
        "# Make and plot predictions for model_1\n",
        "y_preds_1 = model_1.predict(X_test)\n",
        "plot_predictions(predictions=y_preds_1)"
      ],
      "metadata": {
        "id": "HoA45gdqQrmf"
      },
      "execution_count": null,
      "outputs": []
    },
    {
      "cell_type": "code",
      "source": [
        "# Calculate model_1 evaluation metrics\n",
        "mae_1 = mae(y_test, y_preds_1)\n",
        "mse_1 = mse(y_test, y_preds_1)\n",
        "mae_1, mse_1"
      ],
      "metadata": {
        "id": "PnXaeWFYVD__"
      },
      "execution_count": null,
      "outputs": []
    },
    {
      "cell_type": "markdown",
      "source": [
        "**Build `model_2`**\n",
        "\n",
        "* 2 dense layers, trained for 100 epochs"
      ],
      "metadata": {
        "id": "uN-gwUoqVog3"
      }
    },
    {
      "cell_type": "code",
      "source": [
        "X_train.ndim, y_train.ndim"
      ],
      "metadata": {
        "id": "P6_9KXkwceuO"
      },
      "execution_count": null,
      "outputs": []
    },
    {
      "cell_type": "code",
      "source": [
        "# set random seed\n",
        "tf.random.set_seed(42)\n",
        "\n",
        "# 1. Create the model\n",
        "model_2 = tf.keras.Sequential([\n",
        "    tf.keras.layers.Dense(10),\n",
        "    tf.keras.layers.Dense(1)\n",
        "])\n",
        "\n",
        "# 2. Compile the model\n",
        "model_2.compile(loss=tf.keras.losses.mae,\n",
        "                optimizer=tf.keras.optimizers.SGD(),\n",
        "                metrics=[\"mse\"])\n",
        "\n",
        "# 3. Fit the model\n",
        "model_2.fit(tf.expand_dims(X_train, axis=-1), y_train, epochs=100)"
      ],
      "metadata": {
        "id": "i-hfR-P6c0hx"
      },
      "execution_count": null,
      "outputs": []
    },
    {
      "cell_type": "code",
      "source": [
        "# Make and plot predictions for model_2\n",
        "y_preds_2 = model_2.predict(X_test)\n",
        "plot_predictions(predictions=y_preds_2)"
      ],
      "metadata": {
        "id": "N4dQuGTMfJt5"
      },
      "execution_count": null,
      "outputs": []
    },
    {
      "cell_type": "code",
      "source": [
        "# Calculate model_2 evaluation metrics\n",
        "mae_2 = mae(y_test, y_preds_2)\n",
        "mse_2 = mse(y_test, y_preds_2)\n",
        "mae_2, mse_2"
      ],
      "metadata": {
        "id": "IcBBrXF9c1Xl"
      },
      "execution_count": null,
      "outputs": []
    },
    {
      "cell_type": "markdown",
      "source": [
        "**Build `model_3`**\n",
        "\n",
        "* 2 layers, trained for 500 epochs"
      ],
      "metadata": {
        "id": "umnL9NxriKeV"
      }
    },
    {
      "cell_type": "code",
      "source": [
        "# Set the random seed\n",
        "tf.random.set_seed(42)\n",
        "\n",
        "# 1. Create a model\n",
        "model_3 = tf.keras.Sequential([\n",
        "    tf.keras.layers.Dense(10),\n",
        "    tf.keras.layers.Dense(1)\n",
        "])\n",
        "\n",
        "# 2. Compile the model\n",
        "model_3.compile(loss=tf.keras.losses.mae,\n",
        "                optimizer=tf.keras.optimizers.SGD(),\n",
        "                metrics=[\"mae\"])\n",
        "\n",
        "# 3. Fit the model\n",
        "model_3.fit(tf.expand_dims(X_test, axis=-1), y_test, epochs=500)"
      ],
      "metadata": {
        "id": "THpMKZac0Q3S"
      },
      "execution_count": null,
      "outputs": []
    },
    {
      "cell_type": "code",
      "source": [
        "# Make and plot some predictions\n",
        "y_preds_3 = model_3.predict(X_test)\n",
        "plot_predictions(predictions=y_preds_3)"
      ],
      "metadata": {
        "id": "0ClFtHqJ0bDL"
      },
      "execution_count": null,
      "outputs": []
    },
    {
      "cell_type": "code",
      "source": [
        "# Calculate model_3 evaluation metrics\n",
        "mae_3 = mae(y_test, y_preds_3)\n",
        "mse_3 = mse(y_test, y_preds_3)\n",
        "mae_3, mse_3"
      ],
      "metadata": {
        "id": "wN9Lymsz2HhL"
      },
      "execution_count": null,
      "outputs": []
    },
    {
      "cell_type": "markdown",
      "source": [
        "## Comparing the results of our experiments\n",
        "\n",
        "We've run a few experiments, let's compare the results."
      ],
      "metadata": {
        "id": "kKuAZxmX3G1b"
      }
    },
    {
      "cell_type": "code",
      "source": [
        "# Let's compare our model's results using a pandas DataFrame\n",
        "import pandas as pd\n",
        "\n",
        "model_results = [[\"model_1\", mae_1.numpy(), mse_1.numpy()],\n",
        "                 [\"model_2\", mae_2.numpy(), mse_2.numpy()],\n",
        "                 [\"model_3\", mae_3.numpy(), mse_3.numpy()]]\n",
        "\n",
        "all_results = pd.DataFrame(model_results, columns=[\"model\", \"mae\", \"mse\"])\n",
        "all_results"
      ],
      "metadata": {
        "id": "Kvpw2bH54xM9"
      },
      "execution_count": null,
      "outputs": []
    },
    {
      "cell_type": "markdown",
      "source": [
        "Looks like `model_2` performed the best..."
      ],
      "metadata": {
        "id": "y3n8iN1y61if"
      }
    },
    {
      "cell_type": "code",
      "source": [
        "model_2.summary()"
      ],
      "metadata": {
        "id": "FEaVhq7r57PT"
      },
      "execution_count": null,
      "outputs": []
    },
    {
      "cell_type": "markdown",
      "source": [
        "## Tracking your experiments\n",
        "\n",
        "One really good habit in machine learning modelling is to track the results of your experiments.\n",
        "\n",
        "And when doing so, it can be tedious if you're running lots of experiments.\n",
        "\n",
        "Luckily, there are tools to help us!\n",
        "\n",
        "* **TensorBoard** - a component of the TensorFlow library to help track modelling experiments (we'll see this one later).\n",
        "* **Weights & Biases** - a tool for tracking all of kinds of machine learning experiments (plugs straight into TensorBoard)."
      ],
      "metadata": {
        "id": "NbPfLqyh60cr"
      }
    },
    {
      "cell_type": "markdown",
      "source": [
        "## Saving out models\n",
        "\n",
        "Saving our models allow us to use them outside of Google Colab (or wherever they were trained) such as in a web application or a mobile app.\n",
        "\n",
        "There are two main formatns we can save our model's too:\n",
        "\n",
        "1. The SavedModel format\n",
        "2. The HDF5 format"
      ],
      "metadata": {
        "id": "RDAg6pD788z7"
      }
    },
    {
      "cell_type": "code",
      "source": [
        "# Save model using the SaveModel format\n",
        "model_2.save(\"best_model_SavedModel_format\")"
      ],
      "metadata": {
        "id": "HomFQKWd9Ema"
      },
      "execution_count": null,
      "outputs": []
    },
    {
      "cell_type": "code",
      "source": [
        "# Save model using the HDF5 format\n",
        "model_2.save(\"best_model_HDF5_format.h5\")"
      ],
      "metadata": {
        "id": "ee7_92g9Ep-G"
      },
      "execution_count": null,
      "outputs": []
    },
    {
      "cell_type": "markdown",
      "source": [
        "## loading in a saved model"
      ],
      "metadata": {
        "id": "oMvAVddiG8XO"
      }
    },
    {
      "cell_type": "code",
      "source": [
        "# Load in the SavedModel format model\n",
        "loaded_SavedModel_format = tf.keras.models.load_model(\"/content/best_model_SavedModel_format\")\n",
        "loaded_SavedModel_format.summary()"
      ],
      "metadata": {
        "id": "lPuIniKtHmeo"
      },
      "execution_count": null,
      "outputs": []
    },
    {
      "cell_type": "code",
      "source": [
        "# Compare model_2 predictions with SavedModel format model predictions\n",
        "model_2_preds = model_2.predict(X_test)\n",
        "loaded_SavedModel_format_preds = loaded_SavedModel_format.predict(X_test)\n",
        "model_2_preds == loaded_SavedModel_format_preds"
      ],
      "metadata": {
        "id": "J-iH5uvxICME"
      },
      "execution_count": null,
      "outputs": []
    },
    {
      "cell_type": "code",
      "source": [
        "# Load in a model using the .h5 format\n",
        "loaded_h5_model = tf.keras.models.load_model(\"/content/best_model_HDF5_format.h5\")\n",
        "loaded_h5_model.summary()"
      ],
      "metadata": {
        "id": "O1cyoQCbIJD1"
      },
      "execution_count": null,
      "outputs": []
    },
    {
      "cell_type": "code",
      "source": [
        "# Check to see if loaded .h5 model predictions match model_2\n",
        "model_2_preds = model_2.predict(X_test)\n",
        "loaded_h5_model_preds = loaded_h5_model.predict(X_test)\n",
        "model_2_preds == loaded_h5_model_preds"
      ],
      "metadata": {
        "id": "HauehjXAKCWy"
      },
      "execution_count": null,
      "outputs": []
    },
    {
      "cell_type": "markdown",
      "source": [
        "## Download a model (or any other file from Google Colab)\n",
        "\n",
        "If you want to download your files from Google Colab:\n",
        "\n",
        "1. You can go to the \"files\" tab and right click on the file you're after and click \"download\".\n",
        "\n",
        "2. Use code (see the cell below).\n",
        "\n",
        "3. Save it to Google Drive by connecting Google Drive and copying it there (see 2nd code cell below)."
      ],
      "metadata": {
        "id": "-6wywM4AKL0F"
      }
    },
    {
      "cell_type": "code",
      "source": [
        "# Download a file from Google Colab\n",
        "from google.colab import files\n",
        "files.download(\"/content/best_model_HDF5_format.h5\")"
      ],
      "metadata": {
        "id": "BPvTiw8G3jfE"
      },
      "execution_count": null,
      "outputs": []
    },
    {
      "cell_type": "code",
      "source": [
        "# Save a file from Google Colab to Google Drive (requires mounting Google Drive)\n",
        "!cp /content/best_model_HDF5_format.h5 /content/drive/MyDrive/Colab_Notebooks/tensorflow_coure"
      ],
      "metadata": {
        "id": "iooO6zr25j4z"
      },
      "execution_count": null,
      "outputs": []
    },
    {
      "cell_type": "code",
      "source": [
        "!ls /content/drive/MyDrive/Colab_Notebooks/tensorflow_coure"
      ],
      "metadata": {
        "id": "JM_uxO0T85a0"
      },
      "execution_count": null,
      "outputs": []
    },
    {
      "cell_type": "markdown",
      "source": [
        "## A larger example"
      ],
      "metadata": {
        "id": "R_QdFCvg9PdG"
      }
    },
    {
      "cell_type": "code",
      "source": [
        "# Import required libraries\n",
        "import tensorflow as tf\n",
        "import pandas as pd\n",
        "import matplotlib.pyplot as plt\n"
      ],
      "metadata": {
        "id": "YSkm2OROBFDa"
      },
      "execution_count": null,
      "outputs": []
    },
    {
      "cell_type": "code",
      "source": [
        "# Read in the insurance dataset\n",
        "insurance = pd.read_csv(\"https://raw.githubusercontent.com/stedy/Machine-Learning-with-R-datasets/master/insurance.csv\")\n",
        "insurance"
      ],
      "metadata": {
        "id": "MEYzqZIPEn1T"
      },
      "execution_count": null,
      "outputs": []
    },
    {
      "cell_type": "code",
      "source": [
        "insurance[\"smoker\"], insurance[\"age\"]"
      ],
      "metadata": {
        "id": "rx2ZwoPcEyEc"
      },
      "execution_count": null,
      "outputs": []
    },
    {
      "cell_type": "code",
      "source": [
        "# Let's try one-hot encode our Dataframe so it's all numbers\\\n",
        "insurance_one_hot = pd.get_dummies(insurance)\n",
        "insurance_one_hot.head()"
      ],
      "metadata": {
        "id": "4jH4XqHdFcXC"
      },
      "execution_count": null,
      "outputs": []
    },
    {
      "cell_type": "code",
      "source": [
        "# Create X & y values (features and labels)\n",
        "X = insurance_one_hot.drop(\"charges\", axis=1)\n",
        "y = insurance_one_hot[\"charges\"]"
      ],
      "metadata": {
        "id": "dbQ9FGp1MJyo"
      },
      "execution_count": null,
      "outputs": []
    },
    {
      "cell_type": "code",
      "source": [
        "# View X\n",
        "X.head()"
      ],
      "metadata": {
        "id": "Ssegjnhvc95L"
      },
      "execution_count": null,
      "outputs": []
    },
    {
      "cell_type": "code",
      "source": [
        "# View y\n",
        "y.head()"
      ],
      "metadata": {
        "id": "034mpk-0dHgN"
      },
      "execution_count": null,
      "outputs": []
    },
    {
      "cell_type": "code",
      "source": [
        "# Create training and test sets\n",
        "from sklearn.model_selection import train_test_split\n",
        "X_train, X_test, y_train, y_test = train_test_split(X, y, test_size=0.2, random_state=42)\n",
        "len(X), len(X_train), len(X_test)"
      ],
      "metadata": {
        "id": "S9cG8ip5MTon"
      },
      "execution_count": null,
      "outputs": []
    },
    {
      "cell_type": "code",
      "source": [
        "# Build a neural network (sort of like model_2 above)\n",
        "tf.random.set_seed(42)\n",
        "\n",
        "# 1. Create a model\n",
        "insurance_model = tf.keras.Sequential([\n",
        "  tf.keras.layers.Dense(10),\n",
        "  tf.keras.layers.Dense(1)\n",
        "])\n",
        "\n",
        "# 2. Compile the model\n",
        "insurance_model.compile(loss=tf.keras.losses.mae,\n",
        "                        optimizer=tf.keras.optimizers.Adam(learning_rate=(0.008)),\n",
        "                        metrics=[\"mae\"])\n",
        "\n",
        "# 3. Fit the model\n",
        "insurance_model.fit(X_train, y_train, epochs=100)"
      ],
      "metadata": {
        "id": "6bToAsB8MW4u"
      },
      "execution_count": null,
      "outputs": []
    },
    {
      "cell_type": "code",
      "source": [
        "# Check the results of the insurance model on the test data\n",
        "insurance_model.evaluate(X_test, y_test)"
      ],
      "metadata": {
        "id": "qImWRBXiilkI"
      },
      "execution_count": null,
      "outputs": []
    },
    {
      "cell_type": "code",
      "source": [
        "y_train.median(), y_train.mean()"
      ],
      "metadata": {
        "id": "cnyKpuZrjIUI"
      },
      "execution_count": null,
      "outputs": []
    },
    {
      "cell_type": "markdown",
      "source": [
        "Right now it looks like our model isn't performing too well... let's try and improve it!\n",
        "\n",
        "To (try) improve our model, we'll run 2 experiments:\n",
        "\n",
        " 1. Add an extra layer with more hidden units and use the Adam optimizer\n",
        " 2. Same as above but train for longer (200 epochs)"
      ],
      "metadata": {
        "id": "oqcjxRe7jaUI"
      }
    },
    {
      "cell_type": "code",
      "source": [
        "# Set random seed\n",
        "tf.random.set_seed(42)\n",
        "\n",
        "# 1. Create the model\n",
        "insurance_model_2 = tf.keras.Sequential([\n",
        "    tf.keras.layers.Dense(100),\n",
        "    tf.keras.layers.Dense(10),\n",
        "    tf.keras.layers.Dense(1)\n",
        "])\n",
        "\n",
        "# 2. Compile the model\n",
        "insurance_model_2.compile(loss=tf.keras.losses.mae,\n",
        "                                     optimizer=tf.keras.optimizers.Adam(),\n",
        "                                     metrics=[\"mae\"])\n",
        "\n",
        "# 3. Fit the model\n",
        "insurance_model_2.fit(X_train, y_train, epochs=100)"
      ],
      "metadata": {
        "id": "vaVmYuMrj7wv"
      },
      "execution_count": null,
      "outputs": []
    },
    {
      "cell_type": "code",
      "source": [
        "# Evaluate the larger model\n",
        "insurance_model_2.evaluate(X_test, y_test)"
      ],
      "metadata": {
        "id": "Rd-t4MvYsNna"
      },
      "execution_count": null,
      "outputs": []
    },
    {
      "cell_type": "code",
      "source": [
        "insurance_model.evaluate(X_test, y_test)"
      ],
      "metadata": {
        "id": "ocGvi2vUstQl"
      },
      "execution_count": null,
      "outputs": []
    },
    {
      "cell_type": "code",
      "source": [
        "# Set random seed\n",
        "tf.random.set_seed(42)\n",
        "\n",
        "# 1. Create the model\n",
        "insurance_model_3 = tf.keras.Sequential([\n",
        "    tf.keras.layers.Dense(100),\n",
        "    tf.keras.layers.Dense(10),\n",
        "    tf.keras.layers.Dense(1)\n",
        "])\n",
        "\n",
        "# 2. Compile the model\n",
        "insurance_model_3.compile(loss=tf.keras.losses.mae,\n",
        "                          optimizer=tf.keras.optimizers.Adam(),\n",
        "                          metrics=[\"mae\"])\n",
        "\n",
        "# 3. Fit the model\n",
        "history = insurance_model_3.fit(X_train, y_train, epochs=200)"
      ],
      "metadata": {
        "id": "DNhPiC3St2ZA"
      },
      "execution_count": null,
      "outputs": []
    },
    {
      "cell_type": "code",
      "source": [
        "# Evaluate our model\n",
        "insurance_model_3.evaluate(X_test, y_test)"
      ],
      "metadata": {
        "id": "FfWJukqNwFkq"
      },
      "execution_count": null,
      "outputs": []
    },
    {
      "cell_type": "code",
      "source": [
        "insurance_model.evaluate(X_test, y_test)"
      ],
      "metadata": {
        "id": "F_WXONruwaDt"
      },
      "execution_count": null,
      "outputs": []
    },
    {
      "cell_type": "code",
      "source": [
        "# Plot history (also known as a loss curve or a training curve)\n",
        "pd.DataFrame(history.history).plot()\n",
        "plt.ylabel(\"loss\")\n",
        "plt.xlabel(\"epochs\")\n"
      ],
      "metadata": {
        "id": "Bu2RCj4Rwl00"
      },
      "execution_count": null,
      "outputs": []
    },
    {
      "cell_type": "markdown",
      "source": [
        "### How long should you train for?\n",
        "\n",
        "It depends on the problem, but TensorFlow has a solution! It's called the **EarlyStopping Callback**.\n",
        "It is a TensorFlow component you can add to your model to stop training once it stops improving a certain metric."
      ],
      "metadata": {
        "id": "om_emgVzxMbz"
      }
    },
    {
      "cell_type": "markdown",
      "source": [
        "## Preprocessing data (normalization and standardization)\n",
        "\n",
        "In terms of scaling values, neural networks tend to prefer normalization.\n",
        "\n",
        "If you're not sure which to use, you could try both and see which performs better."
      ],
      "metadata": {
        "id": "gBjguYkPyM7k"
      }
    },
    {
      "cell_type": "code",
      "source": [
        "import pandas as pd\n",
        "import matplotlib.pyplot as plt\n",
        "import tensorflow as tf\n",
        "\n",
        "# Read in the insurance dataframe\n",
        "insurance = pd.read_csv(\"https://raw.githubusercontent.com/stedy/Machine-Learning-with-R-datasets/master/insurance.csv\")\n",
        "insurance"
      ],
      "metadata": {
        "colab": {
          "base_uri": "https://localhost:8080/",
          "height": 424
        },
        "id": "QRlm1ZmGPIeD",
        "outputId": "5b1b551b-4195-4162-f273-668919e5b6e5"
      },
      "execution_count": null,
      "outputs": [
        {
          "output_type": "execute_result",
          "data": {
            "text/plain": [
              "      age     sex     bmi  children smoker     region      charges\n",
              "0      19  female  27.900         0    yes  southwest  16884.92400\n",
              "1      18    male  33.770         1     no  southeast   1725.55230\n",
              "2      28    male  33.000         3     no  southeast   4449.46200\n",
              "3      33    male  22.705         0     no  northwest  21984.47061\n",
              "4      32    male  28.880         0     no  northwest   3866.85520\n",
              "...   ...     ...     ...       ...    ...        ...          ...\n",
              "1333   50    male  30.970         3     no  northwest  10600.54830\n",
              "1334   18  female  31.920         0     no  northeast   2205.98080\n",
              "1335   18  female  36.850         0     no  southeast   1629.83350\n",
              "1336   21  female  25.800         0     no  southwest   2007.94500\n",
              "1337   61  female  29.070         0    yes  northwest  29141.36030\n",
              "\n",
              "[1338 rows x 7 columns]"
            ],
            "text/html": [
              "\n",
              "  <div id=\"df-2ca0fe66-149f-4d81-9c61-01592c10d358\" class=\"colab-df-container\">\n",
              "    <div>\n",
              "<style scoped>\n",
              "    .dataframe tbody tr th:only-of-type {\n",
              "        vertical-align: middle;\n",
              "    }\n",
              "\n",
              "    .dataframe tbody tr th {\n",
              "        vertical-align: top;\n",
              "    }\n",
              "\n",
              "    .dataframe thead th {\n",
              "        text-align: right;\n",
              "    }\n",
              "</style>\n",
              "<table border=\"1\" class=\"dataframe\">\n",
              "  <thead>\n",
              "    <tr style=\"text-align: right;\">\n",
              "      <th></th>\n",
              "      <th>age</th>\n",
              "      <th>sex</th>\n",
              "      <th>bmi</th>\n",
              "      <th>children</th>\n",
              "      <th>smoker</th>\n",
              "      <th>region</th>\n",
              "      <th>charges</th>\n",
              "    </tr>\n",
              "  </thead>\n",
              "  <tbody>\n",
              "    <tr>\n",
              "      <th>0</th>\n",
              "      <td>19</td>\n",
              "      <td>female</td>\n",
              "      <td>27.900</td>\n",
              "      <td>0</td>\n",
              "      <td>yes</td>\n",
              "      <td>southwest</td>\n",
              "      <td>16884.92400</td>\n",
              "    </tr>\n",
              "    <tr>\n",
              "      <th>1</th>\n",
              "      <td>18</td>\n",
              "      <td>male</td>\n",
              "      <td>33.770</td>\n",
              "      <td>1</td>\n",
              "      <td>no</td>\n",
              "      <td>southeast</td>\n",
              "      <td>1725.55230</td>\n",
              "    </tr>\n",
              "    <tr>\n",
              "      <th>2</th>\n",
              "      <td>28</td>\n",
              "      <td>male</td>\n",
              "      <td>33.000</td>\n",
              "      <td>3</td>\n",
              "      <td>no</td>\n",
              "      <td>southeast</td>\n",
              "      <td>4449.46200</td>\n",
              "    </tr>\n",
              "    <tr>\n",
              "      <th>3</th>\n",
              "      <td>33</td>\n",
              "      <td>male</td>\n",
              "      <td>22.705</td>\n",
              "      <td>0</td>\n",
              "      <td>no</td>\n",
              "      <td>northwest</td>\n",
              "      <td>21984.47061</td>\n",
              "    </tr>\n",
              "    <tr>\n",
              "      <th>4</th>\n",
              "      <td>32</td>\n",
              "      <td>male</td>\n",
              "      <td>28.880</td>\n",
              "      <td>0</td>\n",
              "      <td>no</td>\n",
              "      <td>northwest</td>\n",
              "      <td>3866.85520</td>\n",
              "    </tr>\n",
              "    <tr>\n",
              "      <th>...</th>\n",
              "      <td>...</td>\n",
              "      <td>...</td>\n",
              "      <td>...</td>\n",
              "      <td>...</td>\n",
              "      <td>...</td>\n",
              "      <td>...</td>\n",
              "      <td>...</td>\n",
              "    </tr>\n",
              "    <tr>\n",
              "      <th>1333</th>\n",
              "      <td>50</td>\n",
              "      <td>male</td>\n",
              "      <td>30.970</td>\n",
              "      <td>3</td>\n",
              "      <td>no</td>\n",
              "      <td>northwest</td>\n",
              "      <td>10600.54830</td>\n",
              "    </tr>\n",
              "    <tr>\n",
              "      <th>1334</th>\n",
              "      <td>18</td>\n",
              "      <td>female</td>\n",
              "      <td>31.920</td>\n",
              "      <td>0</td>\n",
              "      <td>no</td>\n",
              "      <td>northeast</td>\n",
              "      <td>2205.98080</td>\n",
              "    </tr>\n",
              "    <tr>\n",
              "      <th>1335</th>\n",
              "      <td>18</td>\n",
              "      <td>female</td>\n",
              "      <td>36.850</td>\n",
              "      <td>0</td>\n",
              "      <td>no</td>\n",
              "      <td>southeast</td>\n",
              "      <td>1629.83350</td>\n",
              "    </tr>\n",
              "    <tr>\n",
              "      <th>1336</th>\n",
              "      <td>21</td>\n",
              "      <td>female</td>\n",
              "      <td>25.800</td>\n",
              "      <td>0</td>\n",
              "      <td>no</td>\n",
              "      <td>southwest</td>\n",
              "      <td>2007.94500</td>\n",
              "    </tr>\n",
              "    <tr>\n",
              "      <th>1337</th>\n",
              "      <td>61</td>\n",
              "      <td>female</td>\n",
              "      <td>29.070</td>\n",
              "      <td>0</td>\n",
              "      <td>yes</td>\n",
              "      <td>northwest</td>\n",
              "      <td>29141.36030</td>\n",
              "    </tr>\n",
              "  </tbody>\n",
              "</table>\n",
              "<p>1338 rows × 7 columns</p>\n",
              "</div>\n",
              "    <div class=\"colab-df-buttons\">\n",
              "\n",
              "  <div class=\"colab-df-container\">\n",
              "    <button class=\"colab-df-convert\" onclick=\"convertToInteractive('df-2ca0fe66-149f-4d81-9c61-01592c10d358')\"\n",
              "            title=\"Convert this dataframe to an interactive table.\"\n",
              "            style=\"display:none;\">\n",
              "\n",
              "  <svg xmlns=\"http://www.w3.org/2000/svg\" height=\"24px\" viewBox=\"0 -960 960 960\">\n",
              "    <path d=\"M120-120v-720h720v720H120Zm60-500h600v-160H180v160Zm220 220h160v-160H400v160Zm0 220h160v-160H400v160ZM180-400h160v-160H180v160Zm440 0h160v-160H620v160ZM180-180h160v-160H180v160Zm440 0h160v-160H620v160Z\"/>\n",
              "  </svg>\n",
              "    </button>\n",
              "\n",
              "  <style>\n",
              "    .colab-df-container {\n",
              "      display:flex;\n",
              "      gap: 12px;\n",
              "    }\n",
              "\n",
              "    .colab-df-convert {\n",
              "      background-color: #E8F0FE;\n",
              "      border: none;\n",
              "      border-radius: 50%;\n",
              "      cursor: pointer;\n",
              "      display: none;\n",
              "      fill: #1967D2;\n",
              "      height: 32px;\n",
              "      padding: 0 0 0 0;\n",
              "      width: 32px;\n",
              "    }\n",
              "\n",
              "    .colab-df-convert:hover {\n",
              "      background-color: #E2EBFA;\n",
              "      box-shadow: 0px 1px 2px rgba(60, 64, 67, 0.3), 0px 1px 3px 1px rgba(60, 64, 67, 0.15);\n",
              "      fill: #174EA6;\n",
              "    }\n",
              "\n",
              "    .colab-df-buttons div {\n",
              "      margin-bottom: 4px;\n",
              "    }\n",
              "\n",
              "    [theme=dark] .colab-df-convert {\n",
              "      background-color: #3B4455;\n",
              "      fill: #D2E3FC;\n",
              "    }\n",
              "\n",
              "    [theme=dark] .colab-df-convert:hover {\n",
              "      background-color: #434B5C;\n",
              "      box-shadow: 0px 1px 3px 1px rgba(0, 0, 0, 0.15);\n",
              "      filter: drop-shadow(0px 1px 2px rgba(0, 0, 0, 0.3));\n",
              "      fill: #FFFFFF;\n",
              "    }\n",
              "  </style>\n",
              "\n",
              "    <script>\n",
              "      const buttonEl =\n",
              "        document.querySelector('#df-2ca0fe66-149f-4d81-9c61-01592c10d358 button.colab-df-convert');\n",
              "      buttonEl.style.display =\n",
              "        google.colab.kernel.accessAllowed ? 'block' : 'none';\n",
              "\n",
              "      async function convertToInteractive(key) {\n",
              "        const element = document.querySelector('#df-2ca0fe66-149f-4d81-9c61-01592c10d358');\n",
              "        const dataTable =\n",
              "          await google.colab.kernel.invokeFunction('convertToInteractive',\n",
              "                                                    [key], {});\n",
              "        if (!dataTable) return;\n",
              "\n",
              "        const docLinkHtml = 'Like what you see? Visit the ' +\n",
              "          '<a target=\"_blank\" href=https://colab.research.google.com/notebooks/data_table.ipynb>data table notebook</a>'\n",
              "          + ' to learn more about interactive tables.';\n",
              "        element.innerHTML = '';\n",
              "        dataTable['output_type'] = 'display_data';\n",
              "        await google.colab.output.renderOutput(dataTable, element);\n",
              "        const docLink = document.createElement('div');\n",
              "        docLink.innerHTML = docLinkHtml;\n",
              "        element.appendChild(docLink);\n",
              "      }\n",
              "    </script>\n",
              "  </div>\n",
              "\n",
              "\n",
              "<div id=\"df-6964b392-1385-415d-aafc-9dba69543742\">\n",
              "  <button class=\"colab-df-quickchart\" onclick=\"quickchart('df-6964b392-1385-415d-aafc-9dba69543742')\"\n",
              "            title=\"Suggest charts\"\n",
              "            style=\"display:none;\">\n",
              "\n",
              "<svg xmlns=\"http://www.w3.org/2000/svg\" height=\"24px\"viewBox=\"0 0 24 24\"\n",
              "     width=\"24px\">\n",
              "    <g>\n",
              "        <path d=\"M19 3H5c-1.1 0-2 .9-2 2v14c0 1.1.9 2 2 2h14c1.1 0 2-.9 2-2V5c0-1.1-.9-2-2-2zM9 17H7v-7h2v7zm4 0h-2V7h2v10zm4 0h-2v-4h2v4z\"/>\n",
              "    </g>\n",
              "</svg>\n",
              "  </button>\n",
              "\n",
              "<style>\n",
              "  .colab-df-quickchart {\n",
              "      --bg-color: #E8F0FE;\n",
              "      --fill-color: #1967D2;\n",
              "      --hover-bg-color: #E2EBFA;\n",
              "      --hover-fill-color: #174EA6;\n",
              "      --disabled-fill-color: #AAA;\n",
              "      --disabled-bg-color: #DDD;\n",
              "  }\n",
              "\n",
              "  [theme=dark] .colab-df-quickchart {\n",
              "      --bg-color: #3B4455;\n",
              "      --fill-color: #D2E3FC;\n",
              "      --hover-bg-color: #434B5C;\n",
              "      --hover-fill-color: #FFFFFF;\n",
              "      --disabled-bg-color: #3B4455;\n",
              "      --disabled-fill-color: #666;\n",
              "  }\n",
              "\n",
              "  .colab-df-quickchart {\n",
              "    background-color: var(--bg-color);\n",
              "    border: none;\n",
              "    border-radius: 50%;\n",
              "    cursor: pointer;\n",
              "    display: none;\n",
              "    fill: var(--fill-color);\n",
              "    height: 32px;\n",
              "    padding: 0;\n",
              "    width: 32px;\n",
              "  }\n",
              "\n",
              "  .colab-df-quickchart:hover {\n",
              "    background-color: var(--hover-bg-color);\n",
              "    box-shadow: 0 1px 2px rgba(60, 64, 67, 0.3), 0 1px 3px 1px rgba(60, 64, 67, 0.15);\n",
              "    fill: var(--button-hover-fill-color);\n",
              "  }\n",
              "\n",
              "  .colab-df-quickchart-complete:disabled,\n",
              "  .colab-df-quickchart-complete:disabled:hover {\n",
              "    background-color: var(--disabled-bg-color);\n",
              "    fill: var(--disabled-fill-color);\n",
              "    box-shadow: none;\n",
              "  }\n",
              "\n",
              "  .colab-df-spinner {\n",
              "    border: 2px solid var(--fill-color);\n",
              "    border-color: transparent;\n",
              "    border-bottom-color: var(--fill-color);\n",
              "    animation:\n",
              "      spin 1s steps(1) infinite;\n",
              "  }\n",
              "\n",
              "  @keyframes spin {\n",
              "    0% {\n",
              "      border-color: transparent;\n",
              "      border-bottom-color: var(--fill-color);\n",
              "      border-left-color: var(--fill-color);\n",
              "    }\n",
              "    20% {\n",
              "      border-color: transparent;\n",
              "      border-left-color: var(--fill-color);\n",
              "      border-top-color: var(--fill-color);\n",
              "    }\n",
              "    30% {\n",
              "      border-color: transparent;\n",
              "      border-left-color: var(--fill-color);\n",
              "      border-top-color: var(--fill-color);\n",
              "      border-right-color: var(--fill-color);\n",
              "    }\n",
              "    40% {\n",
              "      border-color: transparent;\n",
              "      border-right-color: var(--fill-color);\n",
              "      border-top-color: var(--fill-color);\n",
              "    }\n",
              "    60% {\n",
              "      border-color: transparent;\n",
              "      border-right-color: var(--fill-color);\n",
              "    }\n",
              "    80% {\n",
              "      border-color: transparent;\n",
              "      border-right-color: var(--fill-color);\n",
              "      border-bottom-color: var(--fill-color);\n",
              "    }\n",
              "    90% {\n",
              "      border-color: transparent;\n",
              "      border-bottom-color: var(--fill-color);\n",
              "    }\n",
              "  }\n",
              "</style>\n",
              "\n",
              "  <script>\n",
              "    async function quickchart(key) {\n",
              "      const quickchartButtonEl =\n",
              "        document.querySelector('#' + key + ' button');\n",
              "      quickchartButtonEl.disabled = true;  // To prevent multiple clicks.\n",
              "      quickchartButtonEl.classList.add('colab-df-spinner');\n",
              "      try {\n",
              "        const charts = await google.colab.kernel.invokeFunction(\n",
              "            'suggestCharts', [key], {});\n",
              "      } catch (error) {\n",
              "        console.error('Error during call to suggestCharts:', error);\n",
              "      }\n",
              "      quickchartButtonEl.classList.remove('colab-df-spinner');\n",
              "      quickchartButtonEl.classList.add('colab-df-quickchart-complete');\n",
              "    }\n",
              "    (() => {\n",
              "      let quickchartButtonEl =\n",
              "        document.querySelector('#df-6964b392-1385-415d-aafc-9dba69543742 button');\n",
              "      quickchartButtonEl.style.display =\n",
              "        google.colab.kernel.accessAllowed ? 'block' : 'none';\n",
              "    })();\n",
              "  </script>\n",
              "</div>\n",
              "    </div>\n",
              "  </div>\n"
            ],
            "application/vnd.google.colaboratory.intrinsic+json": {
              "type": "dataframe",
              "variable_name": "insurance",
              "summary": "{\n  \"name\": \"insurance\",\n  \"rows\": 1338,\n  \"fields\": [\n    {\n      \"column\": \"age\",\n      \"properties\": {\n        \"dtype\": \"number\",\n        \"std\": 14,\n        \"min\": 18,\n        \"max\": 64,\n        \"num_unique_values\": 47,\n        \"samples\": [\n          21,\n          45,\n          36\n        ],\n        \"semantic_type\": \"\",\n        \"description\": \"\"\n      }\n    },\n    {\n      \"column\": \"sex\",\n      \"properties\": {\n        \"dtype\": \"category\",\n        \"num_unique_values\": 2,\n        \"samples\": [\n          \"male\",\n          \"female\"\n        ],\n        \"semantic_type\": \"\",\n        \"description\": \"\"\n      }\n    },\n    {\n      \"column\": \"bmi\",\n      \"properties\": {\n        \"dtype\": \"number\",\n        \"std\": 6.098186911679014,\n        \"min\": 15.96,\n        \"max\": 53.13,\n        \"num_unique_values\": 548,\n        \"samples\": [\n          23.18,\n          26.885\n        ],\n        \"semantic_type\": \"\",\n        \"description\": \"\"\n      }\n    },\n    {\n      \"column\": \"children\",\n      \"properties\": {\n        \"dtype\": \"number\",\n        \"std\": 1,\n        \"min\": 0,\n        \"max\": 5,\n        \"num_unique_values\": 6,\n        \"samples\": [\n          0,\n          1\n        ],\n        \"semantic_type\": \"\",\n        \"description\": \"\"\n      }\n    },\n    {\n      \"column\": \"smoker\",\n      \"properties\": {\n        \"dtype\": \"category\",\n        \"num_unique_values\": 2,\n        \"samples\": [\n          \"no\",\n          \"yes\"\n        ],\n        \"semantic_type\": \"\",\n        \"description\": \"\"\n      }\n    },\n    {\n      \"column\": \"region\",\n      \"properties\": {\n        \"dtype\": \"category\",\n        \"num_unique_values\": 4,\n        \"samples\": [\n          \"southeast\",\n          \"northeast\"\n        ],\n        \"semantic_type\": \"\",\n        \"description\": \"\"\n      }\n    },\n    {\n      \"column\": \"charges\",\n      \"properties\": {\n        \"dtype\": \"number\",\n        \"std\": 12110.011236694001,\n        \"min\": 1121.8739,\n        \"max\": 63770.42801,\n        \"num_unique_values\": 1337,\n        \"samples\": [\n          8688.85885,\n          5708.867\n        ],\n        \"semantic_type\": \"\",\n        \"description\": \"\"\n      }\n    }\n  ]\n}"
            }
          },
          "metadata": {},
          "execution_count": 33
        }
      ]
    },
    {
      "cell_type": "markdown",
      "source": [
        "To prepare our data, we can borrow a few classes from Scikit-Learn"
      ],
      "metadata": {
        "id": "fNpAM8djQ2LU"
      }
    },
    {
      "cell_type": "code",
      "source": [
        "from sklearn.compose import make_column_transformer\n",
        "from sklearn.preprocessing import MinMaxScaler, OneHotEncoder\n",
        "from sklearn.model_selection import train_test_split\n",
        "\n",
        "# Create a column transformer\n",
        "ct = make_column_transformer(\n",
        "    (MinMaxScaler(), [\"age\", \"bmi\", \"children\"]), # turn all values in these columns between 0 and 1.\n",
        "    (OneHotEncoder(handle_unknown=\"ignore\"), [\"sex\", \"smoker\", \"region\"])\n",
        ")\n",
        "\n",
        "# Create X & y\n",
        "X = insurance.drop(\"charges\", axis=1)\n",
        "y = insurance[\"charges\"]\n",
        "\n",
        "# Build our train and test sets\n",
        "X_train, X_test, y_train, y_test = train_test_split(X, y, test_size=0.2, random_state=42)\n",
        "\n",
        "# Fit the column transformer to our training data\n",
        "ct.fit(X_train)\n",
        "\n",
        "# Transform training and test data with normalization (MinMaxScaler) and (OneHotEncoder)\n",
        "X_train_normal = ct.transform(X_train)\n",
        "X_test_normal = ct.transform(X_test)"
      ],
      "metadata": {
        "id": "BA07n5bHzSMJ"
      },
      "execution_count": null,
      "outputs": []
    },
    {
      "cell_type": "code",
      "source": [
        "# What does our data look like now?\n",
        "X_train.loc[0]"
      ],
      "metadata": {
        "colab": {
          "base_uri": "https://localhost:8080/"
        },
        "id": "9wuH1oSTsgY5",
        "outputId": "64a5b501-7ea4-4a17-b4ff-e147a133e472"
      },
      "execution_count": null,
      "outputs": [
        {
          "output_type": "execute_result",
          "data": {
            "text/plain": [
              "age                19\n",
              "sex            female\n",
              "bmi              27.9\n",
              "children            0\n",
              "smoker            yes\n",
              "region      southwest\n",
              "Name: 0, dtype: object"
            ]
          },
          "metadata": {},
          "execution_count": 35
        }
      ]
    },
    {
      "cell_type": "code",
      "source": [
        "X_train_normal[0]"
      ],
      "metadata": {
        "colab": {
          "base_uri": "https://localhost:8080/"
        },
        "id": "IvJF6SAiszss",
        "outputId": "043b226a-3e9d-4e5b-b6f2-e39945c88d0d"
      },
      "execution_count": null,
      "outputs": [
        {
          "output_type": "execute_result",
          "data": {
            "text/plain": [
              "array([0.60869565, 0.10734463, 0.4       , 1.        , 0.        ,\n",
              "       1.        , 0.        , 0.        , 1.        , 0.        ,\n",
              "       0.        ])"
            ]
          },
          "metadata": {},
          "execution_count": 36
        }
      ]
    },
    {
      "cell_type": "code",
      "source": [
        "X_train.shape, X_train_normal.shape"
      ],
      "metadata": {
        "colab": {
          "base_uri": "https://localhost:8080/"
        },
        "id": "ZGRrmUFGtU0M",
        "outputId": "0e78f737-c397-4f33-fe08-a9ff3badb7ac"
      },
      "execution_count": null,
      "outputs": [
        {
          "output_type": "execute_result",
          "data": {
            "text/plain": [
              "((1070, 6), (1070, 11))"
            ]
          },
          "metadata": {},
          "execution_count": 37
        }
      ]
    },
    {
      "cell_type": "markdown",
      "source": [
        "Our data has been normalized and one hot encoded. Now let's build a neural network model on it and see how it goes"
      ],
      "metadata": {
        "id": "GEadwsNNtlG6"
      }
    },
    {
      "cell_type": "code",
      "source": [
        "# Build a neural network model to fit on our normalized data\n",
        "\n",
        "# Set random seed\n",
        "\n",
        "tf.random.set_seed(42)\n",
        "\n",
        "# Create the model\n",
        "insurance_model_4 = tf.keras.Sequential([\n",
        "    tf.keras.layers.Dense(100),\n",
        "    tf.keras.layers.Dense(10),\n",
        "    tf.keras.layers.Dense(1)\n",
        "])\n",
        "\n",
        "# Compile the model\n",
        "insurance_model_4.compile(loss=tf.keras.losses.mae,\n",
        "              optimizer=tf.keras.optimizers.Adam(),\n",
        "              metrics=[\"mae\"])\n",
        "\n",
        "# Fit the model\n",
        "insurance_model_4.fit(X_train_normal, y_train, epochs=100)\n",
        "\n",
        "\n"
      ],
      "metadata": {
        "colab": {
          "base_uri": "https://localhost:8080/"
        },
        "id": "i-8AENect61y",
        "outputId": "e4f633f2-4faa-4609-d50b-93b7df0d5c90"
      },
      "execution_count": null,
      "outputs": [
        {
          "output_type": "stream",
          "name": "stdout",
          "text": [
            "Epoch 1/100\n",
            "34/34 [==============================] - 1s 2ms/step - loss: 13343.4375 - mae: 13343.4375\n",
            "Epoch 2/100\n",
            "34/34 [==============================] - 0s 2ms/step - loss: 13334.1025 - mae: 13334.1025\n",
            "Epoch 3/100\n",
            "34/34 [==============================] - 0s 2ms/step - loss: 13311.0420 - mae: 13311.0420\n",
            "Epoch 4/100\n",
            "34/34 [==============================] - 0s 2ms/step - loss: 13263.7803 - mae: 13263.7803\n",
            "Epoch 5/100\n",
            "34/34 [==============================] - 0s 2ms/step - loss: 13181.3291 - mae: 13181.3291\n",
            "Epoch 6/100\n",
            "34/34 [==============================] - 0s 2ms/step - loss: 13052.7070 - mae: 13052.7070\n",
            "Epoch 7/100\n",
            "34/34 [==============================] - 0s 2ms/step - loss: 12867.8750 - mae: 12867.8750\n",
            "Epoch 8/100\n",
            "34/34 [==============================] - 0s 2ms/step - loss: 12616.8418 - mae: 12616.8418\n",
            "Epoch 9/100\n",
            "34/34 [==============================] - 0s 2ms/step - loss: 12289.4492 - mae: 12289.4492\n",
            "Epoch 10/100\n",
            "34/34 [==============================] - 0s 2ms/step - loss: 11882.2314 - mae: 11882.2314\n",
            "Epoch 11/100\n",
            "34/34 [==============================] - 0s 2ms/step - loss: 11405.1846 - mae: 11405.1846\n",
            "Epoch 12/100\n",
            "34/34 [==============================] - 0s 2ms/step - loss: 10899.0459 - mae: 10899.0459\n",
            "Epoch 13/100\n",
            "34/34 [==============================] - 0s 2ms/step - loss: 10397.1035 - mae: 10397.1035\n",
            "Epoch 14/100\n",
            "34/34 [==============================] - 0s 2ms/step - loss: 9905.9316 - mae: 9905.9316\n",
            "Epoch 15/100\n",
            "34/34 [==============================] - 0s 2ms/step - loss: 9441.5312 - mae: 9441.5312\n",
            "Epoch 16/100\n",
            "34/34 [==============================] - 0s 2ms/step - loss: 9029.3994 - mae: 9029.3994\n",
            "Epoch 17/100\n",
            "34/34 [==============================] - 0s 2ms/step - loss: 8690.8701 - mae: 8690.8701\n",
            "Epoch 18/100\n",
            "34/34 [==============================] - 0s 2ms/step - loss: 8414.0869 - mae: 8414.0869\n",
            "Epoch 19/100\n",
            "34/34 [==============================] - 0s 2ms/step - loss: 8207.6455 - mae: 8207.6455\n",
            "Epoch 20/100\n",
            "34/34 [==============================] - 0s 2ms/step - loss: 8064.6943 - mae: 8064.6943\n",
            "Epoch 21/100\n",
            "34/34 [==============================] - 0s 2ms/step - loss: 7958.9702 - mae: 7958.9702\n",
            "Epoch 22/100\n",
            "34/34 [==============================] - 0s 2ms/step - loss: 7885.7217 - mae: 7885.7217\n",
            "Epoch 23/100\n",
            "34/34 [==============================] - 0s 2ms/step - loss: 7827.7651 - mae: 7827.7651\n",
            "Epoch 24/100\n",
            "34/34 [==============================] - 0s 2ms/step - loss: 7774.9219 - mae: 7774.9219\n",
            "Epoch 25/100\n",
            "34/34 [==============================] - 0s 2ms/step - loss: 7735.7939 - mae: 7735.7939\n",
            "Epoch 26/100\n",
            "34/34 [==============================] - 0s 2ms/step - loss: 7683.9565 - mae: 7683.9565\n",
            "Epoch 27/100\n",
            "34/34 [==============================] - 0s 2ms/step - loss: 7641.5796 - mae: 7641.5796\n",
            "Epoch 28/100\n",
            "34/34 [==============================] - 0s 2ms/step - loss: 7598.7456 - mae: 7598.7456\n",
            "Epoch 29/100\n",
            "34/34 [==============================] - 0s 2ms/step - loss: 7555.8745 - mae: 7555.8745\n",
            "Epoch 30/100\n",
            "34/34 [==============================] - 0s 2ms/step - loss: 7511.8301 - mae: 7511.8301\n",
            "Epoch 31/100\n",
            "34/34 [==============================] - 0s 2ms/step - loss: 7467.0435 - mae: 7467.0435\n",
            "Epoch 32/100\n",
            "34/34 [==============================] - 0s 2ms/step - loss: 7422.1797 - mae: 7422.1797\n",
            "Epoch 33/100\n",
            "34/34 [==============================] - 0s 2ms/step - loss: 7377.1211 - mae: 7377.1211\n",
            "Epoch 34/100\n",
            "34/34 [==============================] - 0s 2ms/step - loss: 7328.0884 - mae: 7328.0884\n",
            "Epoch 35/100\n",
            "34/34 [==============================] - 0s 2ms/step - loss: 7280.4580 - mae: 7280.4580\n",
            "Epoch 36/100\n",
            "34/34 [==============================] - 0s 2ms/step - loss: 7229.4229 - mae: 7229.4229\n",
            "Epoch 37/100\n",
            "34/34 [==============================] - 0s 2ms/step - loss: 7178.0889 - mae: 7178.0889\n",
            "Epoch 38/100\n",
            "34/34 [==============================] - 0s 2ms/step - loss: 7126.0430 - mae: 7126.0430\n",
            "Epoch 39/100\n",
            "34/34 [==============================] - 0s 2ms/step - loss: 7070.0518 - mae: 7070.0518\n",
            "Epoch 40/100\n",
            "34/34 [==============================] - 0s 2ms/step - loss: 7013.5459 - mae: 7013.5459\n",
            "Epoch 41/100\n",
            "34/34 [==============================] - 0s 2ms/step - loss: 6955.7134 - mae: 6955.7134\n",
            "Epoch 42/100\n",
            "34/34 [==============================] - 0s 2ms/step - loss: 6895.3843 - mae: 6895.3843\n",
            "Epoch 43/100\n",
            "34/34 [==============================] - 0s 2ms/step - loss: 6831.2227 - mae: 6831.2227\n",
            "Epoch 44/100\n",
            "34/34 [==============================] - 0s 2ms/step - loss: 6763.3867 - mae: 6763.3867\n",
            "Epoch 45/100\n",
            "34/34 [==============================] - 0s 2ms/step - loss: 6694.4507 - mae: 6694.4507\n",
            "Epoch 46/100\n",
            "34/34 [==============================] - 0s 2ms/step - loss: 6623.5161 - mae: 6623.5161\n",
            "Epoch 47/100\n",
            "34/34 [==============================] - 0s 2ms/step - loss: 6550.2939 - mae: 6550.2939\n",
            "Epoch 48/100\n",
            "34/34 [==============================] - 0s 2ms/step - loss: 6469.4937 - mae: 6469.4937\n",
            "Epoch 49/100\n",
            "34/34 [==============================] - 0s 2ms/step - loss: 6388.7339 - mae: 6388.7339\n",
            "Epoch 50/100\n",
            "34/34 [==============================] - 0s 2ms/step - loss: 6300.3901 - mae: 6300.3901\n",
            "Epoch 51/100\n",
            "34/34 [==============================] - 0s 2ms/step - loss: 6213.6074 - mae: 6213.6074\n",
            "Epoch 52/100\n",
            "34/34 [==============================] - 0s 2ms/step - loss: 6117.3901 - mae: 6117.3901\n",
            "Epoch 53/100\n",
            "34/34 [==============================] - 0s 2ms/step - loss: 6018.5469 - mae: 6018.5469\n",
            "Epoch 54/100\n",
            "34/34 [==============================] - 0s 2ms/step - loss: 5916.6641 - mae: 5916.6641\n",
            "Epoch 55/100\n",
            "34/34 [==============================] - 0s 2ms/step - loss: 5806.7451 - mae: 5806.7451\n",
            "Epoch 56/100\n",
            "34/34 [==============================] - 0s 2ms/step - loss: 5695.6392 - mae: 5695.6392\n",
            "Epoch 57/100\n",
            "34/34 [==============================] - 0s 2ms/step - loss: 5578.1802 - mae: 5578.1802\n",
            "Epoch 58/100\n",
            "34/34 [==============================] - 0s 2ms/step - loss: 5460.8340 - mae: 5460.8340\n",
            "Epoch 59/100\n",
            "34/34 [==============================] - 0s 3ms/step - loss: 5338.5693 - mae: 5338.5693\n",
            "Epoch 60/100\n",
            "34/34 [==============================] - 0s 2ms/step - loss: 5214.2061 - mae: 5214.2061\n",
            "Epoch 61/100\n",
            "34/34 [==============================] - 0s 2ms/step - loss: 5087.5767 - mae: 5087.5767\n",
            "Epoch 62/100\n",
            "34/34 [==============================] - 0s 2ms/step - loss: 4955.2031 - mae: 4955.2031\n",
            "Epoch 63/100\n",
            "34/34 [==============================] - 0s 2ms/step - loss: 4827.0767 - mae: 4827.0767\n",
            "Epoch 64/100\n",
            "34/34 [==============================] - 0s 2ms/step - loss: 4695.4814 - mae: 4695.4814\n",
            "Epoch 65/100\n",
            "34/34 [==============================] - 0s 2ms/step - loss: 4571.6270 - mae: 4571.6270\n",
            "Epoch 66/100\n",
            "34/34 [==============================] - 0s 2ms/step - loss: 4454.3105 - mae: 4454.3105\n",
            "Epoch 67/100\n",
            "34/34 [==============================] - 0s 2ms/step - loss: 4349.4014 - mae: 4349.4014\n",
            "Epoch 68/100\n",
            "34/34 [==============================] - 0s 2ms/step - loss: 4244.6582 - mae: 4244.6582\n",
            "Epoch 69/100\n",
            "34/34 [==============================] - 0s 2ms/step - loss: 4146.4517 - mae: 4146.4517\n",
            "Epoch 70/100\n",
            "34/34 [==============================] - 0s 2ms/step - loss: 4056.2090 - mae: 4056.2090\n",
            "Epoch 71/100\n",
            "34/34 [==============================] - 0s 3ms/step - loss: 3975.0486 - mae: 3975.0486\n",
            "Epoch 72/100\n",
            "34/34 [==============================] - 0s 2ms/step - loss: 3904.2537 - mae: 3904.2537\n",
            "Epoch 73/100\n",
            "34/34 [==============================] - 0s 2ms/step - loss: 3846.5510 - mae: 3846.5510\n",
            "Epoch 74/100\n",
            "34/34 [==============================] - 0s 2ms/step - loss: 3797.2292 - mae: 3797.2292\n",
            "Epoch 75/100\n",
            "34/34 [==============================] - 0s 2ms/step - loss: 3761.5383 - mae: 3761.5383\n",
            "Epoch 76/100\n",
            "34/34 [==============================] - 0s 2ms/step - loss: 3735.0029 - mae: 3735.0029\n",
            "Epoch 77/100\n",
            "34/34 [==============================] - 0s 2ms/step - loss: 3712.3953 - mae: 3712.3953\n",
            "Epoch 78/100\n",
            "34/34 [==============================] - 0s 2ms/step - loss: 3697.5891 - mae: 3697.5891\n",
            "Epoch 79/100\n",
            "34/34 [==============================] - 0s 2ms/step - loss: 3687.6013 - mae: 3687.6013\n",
            "Epoch 80/100\n",
            "34/34 [==============================] - 0s 2ms/step - loss: 3678.8369 - mae: 3678.8369\n",
            "Epoch 81/100\n",
            "34/34 [==============================] - 0s 2ms/step - loss: 3673.2014 - mae: 3673.2014\n",
            "Epoch 82/100\n",
            "34/34 [==============================] - 0s 2ms/step - loss: 3670.3232 - mae: 3670.3232\n",
            "Epoch 83/100\n",
            "34/34 [==============================] - 0s 2ms/step - loss: 3664.5276 - mae: 3664.5276\n",
            "Epoch 84/100\n",
            "34/34 [==============================] - 0s 2ms/step - loss: 3661.8315 - mae: 3661.8315\n",
            "Epoch 85/100\n",
            "34/34 [==============================] - 0s 3ms/step - loss: 3659.4409 - mae: 3659.4409\n",
            "Epoch 86/100\n",
            "34/34 [==============================] - 0s 3ms/step - loss: 3658.3596 - mae: 3658.3596\n",
            "Epoch 87/100\n",
            "34/34 [==============================] - 0s 3ms/step - loss: 3655.1455 - mae: 3655.1455\n",
            "Epoch 88/100\n",
            "34/34 [==============================] - 0s 3ms/step - loss: 3652.5562 - mae: 3652.5562\n",
            "Epoch 89/100\n",
            "34/34 [==============================] - 0s 2ms/step - loss: 3651.3799 - mae: 3651.3799\n",
            "Epoch 90/100\n",
            "34/34 [==============================] - 0s 3ms/step - loss: 3649.7334 - mae: 3649.7334\n",
            "Epoch 91/100\n",
            "34/34 [==============================] - 0s 2ms/step - loss: 3646.5259 - mae: 3646.5259\n",
            "Epoch 92/100\n",
            "34/34 [==============================] - 0s 3ms/step - loss: 3645.9487 - mae: 3645.9487\n",
            "Epoch 93/100\n",
            "34/34 [==============================] - 0s 3ms/step - loss: 3643.5901 - mae: 3643.5901\n",
            "Epoch 94/100\n",
            "34/34 [==============================] - 0s 3ms/step - loss: 3641.9675 - mae: 3641.9675\n",
            "Epoch 95/100\n",
            "34/34 [==============================] - 0s 3ms/step - loss: 3642.7190 - mae: 3642.7190\n",
            "Epoch 96/100\n",
            "34/34 [==============================] - 0s 4ms/step - loss: 3639.8589 - mae: 3639.8589\n",
            "Epoch 97/100\n",
            "34/34 [==============================] - 0s 3ms/step - loss: 3637.5002 - mae: 3637.5002\n",
            "Epoch 98/100\n",
            "34/34 [==============================] - 0s 3ms/step - loss: 3635.4746 - mae: 3635.4746\n",
            "Epoch 99/100\n",
            "34/34 [==============================] - 0s 3ms/step - loss: 3634.6265 - mae: 3634.6265\n",
            "Epoch 100/100\n",
            "34/34 [==============================] - 0s 3ms/step - loss: 3633.3679 - mae: 3633.3679\n"
          ]
        },
        {
          "output_type": "execute_result",
          "data": {
            "text/plain": [
              "<keras.src.callbacks.History at 0x7dc8a329c760>"
            ]
          },
          "metadata": {},
          "execution_count": 38
        }
      ]
    },
    {
      "cell_type": "code",
      "source": [
        "# Evaluate our insurance model trained on normalized data\n",
        "insurance_model_4.evaluate(X_test_normal, y_test)"
      ],
      "metadata": {
        "id": "v0MWcmrE30qO",
        "outputId": "50728a43-cecd-4bb3-e2cb-99dc6ecb476b",
        "colab": {
          "base_uri": "https://localhost:8080/"
        }
      },
      "execution_count": null,
      "outputs": [
        {
          "output_type": "stream",
          "name": "stdout",
          "text": [
            "9/9 [==============================] - 0s 3ms/step - loss: 3435.2947 - mae: 3435.2947\n"
          ]
        },
        {
          "output_type": "execute_result",
          "data": {
            "text/plain": [
              "[3435.294677734375, 3435.294677734375]"
            ]
          },
          "metadata": {},
          "execution_count": 39
        }
      ]
    },
    {
      "cell_type": "code",
      "source": [
        "# Insurance model 2 results\n",
        "# 9/9 [==============================] - 0s 2ms/step - loss: 5084.3560 - mae: 5084.3560"
      ],
      "metadata": {
        "id": "8hykABql4idR"
      },
      "execution_count": null,
      "outputs": []
    },
    {
      "cell_type": "code",
      "source": [
        "X[\"age\"].plot(kind=\"hist\")"
      ],
      "metadata": {
        "colab": {
          "base_uri": "https://localhost:8080/",
          "height": 448
        },
        "id": "PIH13OiqCuZk",
        "outputId": "3b1e2d73-e86d-43ff-8674-e9037e7add26"
      },
      "execution_count": null,
      "outputs": [
        {
          "output_type": "execute_result",
          "data": {
            "text/plain": [
              "<Axes: ylabel='Frequency'>"
            ]
          },
          "metadata": {},
          "execution_count": 41
        },
        {
          "output_type": "display_data",
          "data": {
            "text/plain": [
              "<Figure size 640x480 with 1 Axes>"
            ],
            "image/png": "[encoded data removed]"
          },
          "metadata": {}
        }
      ]
    },
    {
      "cell_type": "code",
      "source": [
        "X[\"bmi\"].plot(kind=\"hist\")"
      ],
      "metadata": {
        "colab": {
          "base_uri": "https://localhost:8080/",
          "height": 448
        },
        "id": "QDr902TSC3kE",
        "outputId": "e34c857d-1f6f-4b23-e8e5-8e5c507b12ad"
      },
      "execution_count": null,
      "outputs": [
        {
          "output_type": "execute_result",
          "data": {
            "text/plain": [
              "<Axes: ylabel='Frequency'>"
            ]
          },
          "metadata": {},
          "execution_count": 42
        },
        {
          "output_type": "display_data",
          "data": {
            "text/plain": [
              "<Figure size 640x480 with 1 Axes>"
            ],
            "image/png": "[encoded data removed]"
          },
          "metadata": {}
        }
      ]
    },
    {
      "cell_type": "code",
      "source": [
        "X[\"children\"].value_counts()"
      ],
      "metadata": {
        "colab": {
          "base_uri": "https://localhost:8080/"
        },
        "id": "4b2dPuV3EiUD",
        "outputId": "6147b037-fc7b-4f2f-ba56-27407d25b616"
      },
      "execution_count": null,
      "outputs": [
        {
          "output_type": "execute_result",
          "data": {
            "text/plain": [
              "0    574\n",
              "1    324\n",
              "2    240\n",
              "3    157\n",
              "4     25\n",
              "5     18\n",
              "Name: children, dtype: int64"
            ]
          },
          "metadata": {},
          "execution_count": 43
        }
      ]
    },
    {
      "cell_type": "markdown",
      "source": [
        "### Exercise\n",
        " 1. Create your own regression dataset (or make the one we created in \"Create data to view and fit\" bigger) and build fit a model to it.\n",
        " 2. Try building a neural network with 4 Dense layers and fitting it to your own regression dataset, how does it perform?\n",
        " 3. Try and improve the results we got on the insurance dataset, some things you might want to try include:\n",
        "  - Building a larger model (how does one with 4 dense layers go?).\n",
        "  - Increasing the number of units in each layer.\n",
        "  - Lookup the documentation of Adam and find out what the first parameter is, what happens if you increase it by 10x?\n",
        "  - What happens if you train for longer (say 300 epochs instead of 200)?\n",
        " 4. Import the Boston pricing dataset from TensorFlow tf.keras.datasets and model it."
      ],
      "metadata": {
        "id": "Egg6d4lAEvkD"
      }
    },
    {
      "cell_type": "code",
      "source": [
        "import pandas as pd\n",
        "import numpy as np\n",
        "import tensorflow as tf\n",
        "import matplotlib.pyplot as plt\n",
        "from sklearn.model_selection import train_test_split"
      ],
      "metadata": {
        "id": "oOFofQ1TTPkc"
      },
      "execution_count": 56,
      "outputs": []
    },
    {
      "cell_type": "code",
      "source": [
        "X = np.arange(3, 280, 3)\n",
        "y = np.arange(2, 746, 8)\n",
        "\n",
        "tf.size(X), tf.size(y)"
      ],
      "metadata": {
        "id": "2jJp7tzgkFgJ",
        "outputId": "14e97c68-bf68-492d-db9d-a4fadec3d103",
        "colab": {
          "base_uri": "https://localhost:8080/"
        }
      },
      "execution_count": 26,
      "outputs": [
        {
          "output_type": "execute_result",
          "data": {
            "text/plain": [
              "(<tf.Tensor: shape=(), dtype=int32, numpy=93>,\n",
              " <tf.Tensor: shape=(), dtype=int32, numpy=93>)"
            ]
          },
          "metadata": {},
          "execution_count": 26
        }
      ]
    },
    {
      "cell_type": "code",
      "source": [
        "X_train, X_test, y_train, y_test = train_test_split(X, y, test_size=0.1, random_state=42)"
      ],
      "metadata": {
        "id": "rvzFfvC4S0Bj"
      },
      "execution_count": 27,
      "outputs": []
    },
    {
      "cell_type": "code",
      "source": [
        "plt.scatter(X, y)"
      ],
      "metadata": {
        "id": "WPxrz1fCAoku",
        "outputId": "6738c4dd-52ae-4c33-df7f-00887e01da2b",
        "colab": {
          "base_uri": "https://localhost:8080/",
          "height": 448
        }
      },
      "execution_count": 28,
      "outputs": [
        {
          "output_type": "execute_result",
          "data": {
            "text/plain": [
              "<matplotlib.collections.PathCollection at 0x7f5a2fa36440>"
            ]
          },
          "metadata": {},
          "execution_count": 28
        },
        {
          "output_type": "display_data",
          "data": {
            "text/plain": [
              "<Figure size 640x480 with 1 Axes>"
            ],
            "image/png": "[encoded data removed]"
          },
          "metadata": {}
        }
      ]
    },
    {
      "cell_type": "code",
      "source": [
        "tf.random.set_seed(42)"
      ],
      "metadata": {
        "id": "2KtOS0buA3mU"
      },
      "execution_count": 29,
      "outputs": []
    },
    {
      "cell_type": "code",
      "source": [
        "model_4 = tf.keras.Sequential([\n",
        "    tf.keras.layers.Dense(6),\n",
        "    tf.keras.layers.Dense(1)\n",
        "])\n",
        "\n",
        "model_4.compile(loss=tf.keras.losses.mae,\n",
        "                optimizer=tf.keras.optimizers.Adam(0.002),\n",
        "                metrics=[\"mae\"])\n",
        "\n",
        "model_4.fit(tf.expand_dims(X_train, axis=-1), y_train, epochs=370, verbose=0)"
      ],
      "metadata": {
        "id": "P43jRTuTDZbj",
        "outputId": "9722b8b7-7cff-41a3-ce58-22c1c79e24ae",
        "colab": {
          "base_uri": "https://localhost:8080/"
        }
      },
      "execution_count": 30,
      "outputs": [
        {
          "output_type": "execute_result",
          "data": {
            "text/plain": [
              "<keras.src.callbacks.History at 0x7f5a2faaa740>"
            ]
          },
          "metadata": {},
          "execution_count": 30
        }
      ]
    },
    {
      "cell_type": "code",
      "source": [
        "model_4.evaluate(X_test, y_test)"
      ],
      "metadata": {
        "id": "Kk17RlRIITb3",
        "outputId": "4a0c8795-a10d-4ac2-dbac-9a8f86e64574",
        "colab": {
          "base_uri": "https://localhost:8080/"
        }
      },
      "execution_count": 31,
      "outputs": [
        {
          "output_type": "stream",
          "name": "stderr",
          "text": [
            "WARNING:tensorflow:6 out of the last 6 calls to <function Model.make_test_function.<locals>.test_function at 0x7f5a2fa5a7a0> triggered tf.function retracing. Tracing is expensive and the excessive number of tracings could be due to (1) creating @tf.function repeatedly in a loop, (2) passing tensors with different shapes, (3) passing Python objects instead of tensors. For (1), please define your @tf.function outside of the loop. For (2), @tf.function has reduce_retracing=True option that can avoid unnecessary retracing. For (3), please refer to https://www.tensorflow.org/guide/function#controlling_retracing and https://www.tensorflow.org/api_docs/python/tf/function for  more details.\n"
          ]
        },
        {
          "output_type": "stream",
          "name": "stdout",
          "text": [
            "1/1 [==============================] - 1s 636ms/step - loss: 1.9111 - mae: 1.9111\n"
          ]
        },
        {
          "output_type": "execute_result",
          "data": {
            "text/plain": [
              "[1.9111400842666626, 1.9111400842666626]"
            ]
          },
          "metadata": {},
          "execution_count": 31
        }
      ]
    },
    {
      "cell_type": "markdown",
      "source": [
        "### Model_5"
      ],
      "metadata": {
        "id": "e7E11EwvHrGl"
      }
    },
    {
      "cell_type": "code",
      "source": [
        "# 4. Import the Boston pricing dataset from TensorFlow tf.keras.dataset and model it"
      ],
      "metadata": {
        "id": "M8y8_kJuXIHu"
      },
      "execution_count": 32,
      "outputs": []
    },
    {
      "cell_type": "code",
      "source": [
        "(X_train, y_train), (X_test, y_test) = tf.keras.datasets.boston_housing.load_data(\n",
        "    path=\"boston_housing.npz\",\n",
        "    test_split=0.2,\n",
        "    seed=42\n",
        ")"
      ],
      "metadata": {
        "id": "UWgXOqZUXtX9"
      },
      "execution_count": 36,
      "outputs": []
    },
    {
      "cell_type": "code",
      "source": [
        "X_train.shape, X_test.shape, y_train.shape, y_test.shape"
      ],
      "metadata": {
        "id": "BAFIL-tReSdQ",
        "outputId": "f30174a4-faf3-4cae-c4cb-319dbbc1ff31",
        "colab": {
          "base_uri": "https://localhost:8080/"
        }
      },
      "execution_count": 37,
      "outputs": [
        {
          "output_type": "execute_result",
          "data": {
            "text/plain": [
              "((404, 13), (102, 13), (404,), (102,))"
            ]
          },
          "metadata": {},
          "execution_count": 37
        }
      ]
    },
    {
      "cell_type": "code",
      "source": [
        "tf.random.set_seed(42)\n",
        "\n",
        "# Create the model\n",
        "model_5 = tf.keras.Sequential([\n",
        "    tf.keras.layers.Dense(100),\n",
        "    #tf.keras.layers.Dense(30),\n",
        "    tf.keras.layers.Dense(1)\n",
        "])\n",
        "\n",
        "# Compile the model\n",
        "model_5.compile(loss=tf.keras.losses.mae,\n",
        "                optimizer=tf.keras.optimizers.Adam(0.01),\n",
        "                metrics=[\"mae\"])\n",
        "\n",
        "# Fit the model\n",
        "history = model_5.fit(X_train, y_train, epochs=180)"
      ],
      "metadata": {
        "id": "LLRYEpEievb4",
        "outputId": "347549b5-339d-4303-b136-87bc7bf045eb",
        "colab": {
          "base_uri": "https://localhost:8080/"
        }
      },
      "execution_count": 57,
      "outputs": [
        {
          "output_type": "stream",
          "name": "stdout",
          "text": [
            "Epoch 1/180\n",
            "13/13 [==============================] - 1s 3ms/step - loss: 63.6976 - mae: 63.6976\n",
            "Epoch 2/180\n",
            "13/13 [==============================] - 0s 3ms/step - loss: 26.0123 - mae: 26.0123\n",
            "Epoch 3/180\n",
            "13/13 [==============================] - 0s 3ms/step - loss: 14.3392 - mae: 14.3392\n",
            "Epoch 4/180\n",
            "13/13 [==============================] - 0s 2ms/step - loss: 10.0804 - mae: 10.0804\n",
            "Epoch 5/180\n",
            "13/13 [==============================] - 0s 3ms/step - loss: 10.7432 - mae: 10.7432\n",
            "Epoch 6/180\n",
            "13/13 [==============================] - 0s 2ms/step - loss: 8.5321 - mae: 8.5321\n",
            "Epoch 7/180\n",
            "13/13 [==============================] - 0s 3ms/step - loss: 9.5198 - mae: 9.5198\n",
            "Epoch 8/180\n",
            "13/13 [==============================] - 0s 3ms/step - loss: 6.7843 - mae: 6.7843\n",
            "Epoch 9/180\n",
            "13/13 [==============================] - 0s 3ms/step - loss: 6.9087 - mae: 6.9087\n",
            "Epoch 10/180\n",
            "13/13 [==============================] - 0s 3ms/step - loss: 8.0901 - mae: 8.0901\n",
            "Epoch 11/180\n",
            "13/13 [==============================] - 0s 3ms/step - loss: 6.7450 - mae: 6.7450\n",
            "Epoch 12/180\n",
            "13/13 [==============================] - 0s 3ms/step - loss: 6.3254 - mae: 6.3254\n",
            "Epoch 13/180\n",
            "13/13 [==============================] - 0s 3ms/step - loss: 6.0403 - mae: 6.0403\n",
            "Epoch 14/180\n",
            "13/13 [==============================] - 0s 3ms/step - loss: 6.4517 - mae: 6.4517\n",
            "Epoch 15/180\n",
            "13/13 [==============================] - 0s 2ms/step - loss: 5.6302 - mae: 5.6302\n",
            "Epoch 16/180\n",
            "13/13 [==============================] - 0s 2ms/step - loss: 6.6545 - mae: 6.6545\n",
            "Epoch 17/180\n",
            "13/13 [==============================] - 0s 2ms/step - loss: 5.7801 - mae: 5.7801\n",
            "Epoch 18/180\n",
            "13/13 [==============================] - 0s 2ms/step - loss: 9.9642 - mae: 9.9642\n",
            "Epoch 19/180\n",
            "13/13 [==============================] - 0s 3ms/step - loss: 9.8547 - mae: 9.8547\n",
            "Epoch 20/180\n",
            "13/13 [==============================] - 0s 2ms/step - loss: 7.3348 - mae: 7.3348\n",
            "Epoch 21/180\n",
            "13/13 [==============================] - 0s 2ms/step - loss: 6.0894 - mae: 6.0894\n",
            "Epoch 22/180\n",
            "13/13 [==============================] - 0s 3ms/step - loss: 7.5562 - mae: 7.5562\n",
            "Epoch 23/180\n",
            "13/13 [==============================] - 0s 4ms/step - loss: 8.6639 - mae: 8.6639\n",
            "Epoch 24/180\n",
            "13/13 [==============================] - 0s 4ms/step - loss: 12.4004 - mae: 12.4004\n",
            "Epoch 25/180\n",
            "13/13 [==============================] - 0s 3ms/step - loss: 8.3103 - mae: 8.3103\n",
            "Epoch 26/180\n",
            "13/13 [==============================] - 0s 3ms/step - loss: 9.7542 - mae: 9.7542\n",
            "Epoch 27/180\n",
            "13/13 [==============================] - 0s 3ms/step - loss: 11.8285 - mae: 11.8285\n",
            "Epoch 28/180\n",
            "13/13 [==============================] - 0s 2ms/step - loss: 10.0716 - mae: 10.0716\n",
            "Epoch 29/180\n",
            "13/13 [==============================] - 0s 2ms/step - loss: 6.2613 - mae: 6.2613\n",
            "Epoch 30/180\n",
            "13/13 [==============================] - 0s 3ms/step - loss: 6.2467 - mae: 6.2467\n",
            "Epoch 31/180\n",
            "13/13 [==============================] - 0s 3ms/step - loss: 4.9312 - mae: 4.9312\n",
            "Epoch 32/180\n",
            "13/13 [==============================] - 0s 2ms/step - loss: 5.4301 - mae: 5.4301\n",
            "Epoch 33/180\n",
            "13/13 [==============================] - 0s 3ms/step - loss: 5.6559 - mae: 5.6559\n",
            "Epoch 34/180\n",
            "13/13 [==============================] - 0s 3ms/step - loss: 5.1849 - mae: 5.1849\n",
            "Epoch 35/180\n",
            "13/13 [==============================] - 0s 2ms/step - loss: 5.1389 - mae: 5.1389\n",
            "Epoch 36/180\n",
            "13/13 [==============================] - 0s 3ms/step - loss: 4.8548 - mae: 4.8548\n",
            "Epoch 37/180\n",
            "13/13 [==============================] - 0s 2ms/step - loss: 4.9763 - mae: 4.9763\n",
            "Epoch 38/180\n",
            "13/13 [==============================] - 0s 2ms/step - loss: 4.8015 - mae: 4.8015\n",
            "Epoch 39/180\n",
            "13/13 [==============================] - 0s 2ms/step - loss: 5.5707 - mae: 5.5707\n",
            "Epoch 40/180\n",
            "13/13 [==============================] - 0s 2ms/step - loss: 8.9678 - mae: 8.9678\n",
            "Epoch 41/180\n",
            "13/13 [==============================] - 0s 3ms/step - loss: 4.6458 - mae: 4.6458\n",
            "Epoch 42/180\n",
            "13/13 [==============================] - 0s 2ms/step - loss: 5.5431 - mae: 5.5431\n",
            "Epoch 43/180\n",
            "13/13 [==============================] - 0s 2ms/step - loss: 6.2330 - mae: 6.2330\n",
            "Epoch 44/180\n",
            "13/13 [==============================] - 0s 2ms/step - loss: 5.1442 - mae: 5.1442\n",
            "Epoch 45/180\n",
            "13/13 [==============================] - 0s 2ms/step - loss: 4.9421 - mae: 4.9421\n",
            "Epoch 46/180\n",
            "13/13 [==============================] - 0s 2ms/step - loss: 6.5626 - mae: 6.5626\n",
            "Epoch 47/180\n",
            "13/13 [==============================] - 0s 2ms/step - loss: 5.2625 - mae: 5.2625\n",
            "Epoch 48/180\n",
            "13/13 [==============================] - 0s 3ms/step - loss: 4.5963 - mae: 4.5963\n",
            "Epoch 49/180\n",
            "13/13 [==============================] - 0s 2ms/step - loss: 5.7798 - mae: 5.7798\n",
            "Epoch 50/180\n",
            "13/13 [==============================] - 0s 3ms/step - loss: 4.6441 - mae: 4.6441\n",
            "Epoch 51/180\n",
            "13/13 [==============================] - 0s 2ms/step - loss: 4.9504 - mae: 4.9504\n",
            "Epoch 52/180\n",
            "13/13 [==============================] - 0s 2ms/step - loss: 5.6744 - mae: 5.6744\n",
            "Epoch 53/180\n",
            "13/13 [==============================] - 0s 2ms/step - loss: 4.5458 - mae: 4.5458\n",
            "Epoch 54/180\n",
            "13/13 [==============================] - 0s 3ms/step - loss: 4.9133 - mae: 4.9133\n",
            "Epoch 55/180\n",
            "13/13 [==============================] - 0s 2ms/step - loss: 6.7728 - mae: 6.7728\n",
            "Epoch 56/180\n",
            "13/13 [==============================] - 0s 3ms/step - loss: 6.4752 - mae: 6.4752\n",
            "Epoch 57/180\n",
            "13/13 [==============================] - 0s 2ms/step - loss: 6.7106 - mae: 6.7106\n",
            "Epoch 58/180\n",
            "13/13 [==============================] - 0s 2ms/step - loss: 4.5232 - mae: 4.5232\n",
            "Epoch 59/180\n",
            "13/13 [==============================] - 0s 3ms/step - loss: 4.9603 - mae: 4.9603\n",
            "Epoch 60/180\n",
            "13/13 [==============================] - 0s 3ms/step - loss: 5.5072 - mae: 5.5072\n",
            "Epoch 61/180\n",
            "13/13 [==============================] - 0s 2ms/step - loss: 5.9491 - mae: 5.9491\n",
            "Epoch 62/180\n",
            "13/13 [==============================] - 0s 3ms/step - loss: 6.6354 - mae: 6.6354\n",
            "Epoch 63/180\n",
            "13/13 [==============================] - 0s 2ms/step - loss: 4.7881 - mae: 4.7881\n",
            "Epoch 64/180\n",
            "13/13 [==============================] - 0s 3ms/step - loss: 4.6316 - mae: 4.6316\n",
            "Epoch 65/180\n",
            "13/13 [==============================] - 0s 2ms/step - loss: 4.7827 - mae: 4.7827\n",
            "Epoch 66/180\n",
            "13/13 [==============================] - 0s 3ms/step - loss: 4.8924 - mae: 4.8924\n",
            "Epoch 67/180\n",
            "13/13 [==============================] - 0s 4ms/step - loss: 6.2987 - mae: 6.2987\n",
            "Epoch 68/180\n",
            "13/13 [==============================] - 0s 2ms/step - loss: 4.5376 - mae: 4.5376\n",
            "Epoch 69/180\n",
            "13/13 [==============================] - 0s 2ms/step - loss: 5.2042 - mae: 5.2042\n",
            "Epoch 70/180\n",
            "13/13 [==============================] - 0s 2ms/step - loss: 6.3505 - mae: 6.3505\n",
            "Epoch 71/180\n",
            "13/13 [==============================] - 0s 2ms/step - loss: 5.7438 - mae: 5.7438\n",
            "Epoch 72/180\n",
            "13/13 [==============================] - 0s 2ms/step - loss: 4.6093 - mae: 4.6093\n",
            "Epoch 73/180\n",
            "13/13 [==============================] - 0s 4ms/step - loss: 4.2115 - mae: 4.2115\n",
            "Epoch 74/180\n",
            "13/13 [==============================] - 0s 3ms/step - loss: 4.2292 - mae: 4.2292\n",
            "Epoch 75/180\n",
            "13/13 [==============================] - 0s 2ms/step - loss: 4.6531 - mae: 4.6531\n",
            "Epoch 76/180\n",
            "13/13 [==============================] - 0s 2ms/step - loss: 5.0960 - mae: 5.0960\n",
            "Epoch 77/180\n",
            "13/13 [==============================] - 0s 2ms/step - loss: 5.0884 - mae: 5.0884\n",
            "Epoch 78/180\n",
            "13/13 [==============================] - 0s 3ms/step - loss: 5.0526 - mae: 5.0526\n",
            "Epoch 79/180\n",
            "13/13 [==============================] - 0s 3ms/step - loss: 4.9828 - mae: 4.9828\n",
            "Epoch 80/180\n",
            "13/13 [==============================] - 0s 3ms/step - loss: 5.4266 - mae: 5.4266\n",
            "Epoch 81/180\n",
            "13/13 [==============================] - 0s 3ms/step - loss: 4.7011 - mae: 4.7011\n",
            "Epoch 82/180\n",
            "13/13 [==============================] - 0s 2ms/step - loss: 5.3905 - mae: 5.3905\n",
            "Epoch 83/180\n",
            "13/13 [==============================] - 0s 2ms/step - loss: 4.0771 - mae: 4.0771\n",
            "Epoch 84/180\n",
            "13/13 [==============================] - 0s 3ms/step - loss: 4.9939 - mae: 4.9939\n",
            "Epoch 85/180\n",
            "13/13 [==============================] - 0s 2ms/step - loss: 4.3655 - mae: 4.3655\n",
            "Epoch 86/180\n",
            "13/13 [==============================] - 0s 2ms/step - loss: 4.2668 - mae: 4.2668\n",
            "Epoch 87/180\n",
            "13/13 [==============================] - 0s 2ms/step - loss: 4.9019 - mae: 4.9019\n",
            "Epoch 88/180\n",
            "13/13 [==============================] - 0s 2ms/step - loss: 5.7984 - mae: 5.7984\n",
            "Epoch 89/180\n",
            "13/13 [==============================] - 0s 3ms/step - loss: 5.9468 - mae: 5.9468\n",
            "Epoch 90/180\n",
            "13/13 [==============================] - 0s 3ms/step - loss: 4.4053 - mae: 4.4053\n",
            "Epoch 91/180\n",
            "13/13 [==============================] - 0s 2ms/step - loss: 4.4772 - mae: 4.4772\n",
            "Epoch 92/180\n",
            "13/13 [==============================] - 0s 3ms/step - loss: 4.6112 - mae: 4.6112\n",
            "Epoch 93/180\n",
            "13/13 [==============================] - 0s 3ms/step - loss: 4.2975 - mae: 4.2975\n",
            "Epoch 94/180\n",
            "13/13 [==============================] - 0s 3ms/step - loss: 4.7627 - mae: 4.7627\n",
            "Epoch 95/180\n",
            "13/13 [==============================] - 0s 3ms/step - loss: 5.0262 - mae: 5.0262\n",
            "Epoch 96/180\n",
            "13/13 [==============================] - 0s 2ms/step - loss: 6.0960 - mae: 6.0960\n",
            "Epoch 97/180\n",
            "13/13 [==============================] - 0s 2ms/step - loss: 7.5882 - mae: 7.5882\n",
            "Epoch 98/180\n",
            "13/13 [==============================] - 0s 3ms/step - loss: 5.4880 - mae: 5.4880\n",
            "Epoch 99/180\n",
            "13/13 [==============================] - 0s 2ms/step - loss: 4.4923 - mae: 4.4923\n",
            "Epoch 100/180\n",
            "13/13 [==============================] - 0s 2ms/step - loss: 5.0611 - mae: 5.0611\n",
            "Epoch 101/180\n",
            "13/13 [==============================] - 0s 2ms/step - loss: 5.6424 - mae: 5.6424\n",
            "Epoch 102/180\n",
            "13/13 [==============================] - 0s 3ms/step - loss: 5.5041 - mae: 5.5041\n",
            "Epoch 103/180\n",
            "13/13 [==============================] - 0s 3ms/step - loss: 4.1726 - mae: 4.1726\n",
            "Epoch 104/180\n",
            "13/13 [==============================] - 0s 3ms/step - loss: 5.6026 - mae: 5.6026\n",
            "Epoch 105/180\n",
            "13/13 [==============================] - 0s 3ms/step - loss: 5.3778 - mae: 5.3778\n",
            "Epoch 106/180\n",
            "13/13 [==============================] - 0s 3ms/step - loss: 4.7290 - mae: 4.7290\n",
            "Epoch 107/180\n",
            "13/13 [==============================] - 0s 2ms/step - loss: 4.1368 - mae: 4.1368\n",
            "Epoch 108/180\n",
            "13/13 [==============================] - 0s 3ms/step - loss: 4.3287 - mae: 4.3287\n",
            "Epoch 109/180\n",
            "13/13 [==============================] - 0s 2ms/step - loss: 4.1346 - mae: 4.1346\n",
            "Epoch 110/180\n",
            "13/13 [==============================] - 0s 2ms/step - loss: 4.5409 - mae: 4.5409\n",
            "Epoch 111/180\n",
            "13/13 [==============================] - 0s 2ms/step - loss: 4.3687 - mae: 4.3687\n",
            "Epoch 112/180\n",
            "13/13 [==============================] - 0s 2ms/step - loss: 4.6194 - mae: 4.6194\n",
            "Epoch 113/180\n",
            "13/13 [==============================] - 0s 2ms/step - loss: 4.8232 - mae: 4.8232\n",
            "Epoch 114/180\n",
            "13/13 [==============================] - 0s 3ms/step - loss: 5.0865 - mae: 5.0865\n",
            "Epoch 115/180\n",
            "13/13 [==============================] - 0s 2ms/step - loss: 4.6796 - mae: 4.6796\n",
            "Epoch 116/180\n",
            "13/13 [==============================] - 0s 2ms/step - loss: 4.9145 - mae: 4.9145\n",
            "Epoch 117/180\n",
            "13/13 [==============================] - 0s 2ms/step - loss: 5.2978 - mae: 5.2978\n",
            "Epoch 118/180\n",
            "13/13 [==============================] - 0s 3ms/step - loss: 4.1730 - mae: 4.1730\n",
            "Epoch 119/180\n",
            "13/13 [==============================] - 0s 3ms/step - loss: 4.5105 - mae: 4.5105\n",
            "Epoch 120/180\n",
            "13/13 [==============================] - 0s 3ms/step - loss: 4.4987 - mae: 4.4987\n",
            "Epoch 121/180\n",
            "13/13 [==============================] - 0s 3ms/step - loss: 4.2790 - mae: 4.2790\n",
            "Epoch 122/180\n",
            "13/13 [==============================] - 0s 5ms/step - loss: 4.7853 - mae: 4.7853\n",
            "Epoch 123/180\n",
            "13/13 [==============================] - 0s 3ms/step - loss: 5.5075 - mae: 5.5075\n",
            "Epoch 124/180\n",
            "13/13 [==============================] - 0s 2ms/step - loss: 4.0502 - mae: 4.0502\n",
            "Epoch 125/180\n",
            "13/13 [==============================] - 0s 3ms/step - loss: 3.9430 - mae: 3.9430\n",
            "Epoch 126/180\n",
            "13/13 [==============================] - 0s 3ms/step - loss: 4.0486 - mae: 4.0486\n",
            "Epoch 127/180\n",
            "13/13 [==============================] - 0s 3ms/step - loss: 4.1653 - mae: 4.1653\n",
            "Epoch 128/180\n",
            "13/13 [==============================] - 0s 3ms/step - loss: 4.1730 - mae: 4.1730\n",
            "Epoch 129/180\n",
            "13/13 [==============================] - 0s 3ms/step - loss: 4.5158 - mae: 4.5158\n",
            "Epoch 130/180\n",
            "13/13 [==============================] - 0s 3ms/step - loss: 5.5142 - mae: 5.5142\n",
            "Epoch 131/180\n",
            "13/13 [==============================] - 0s 3ms/step - loss: 5.2561 - mae: 5.2561\n",
            "Epoch 132/180\n",
            "13/13 [==============================] - 0s 3ms/step - loss: 4.0598 - mae: 4.0598\n",
            "Epoch 133/180\n",
            "13/13 [==============================] - 0s 3ms/step - loss: 4.0918 - mae: 4.0918\n",
            "Epoch 134/180\n",
            "13/13 [==============================] - 0s 3ms/step - loss: 4.3594 - mae: 4.3594\n",
            "Epoch 135/180\n",
            "13/13 [==============================] - 0s 2ms/step - loss: 4.4140 - mae: 4.4140\n",
            "Epoch 136/180\n",
            "13/13 [==============================] - 0s 3ms/step - loss: 4.1320 - mae: 4.1320\n",
            "Epoch 137/180\n",
            "13/13 [==============================] - 0s 2ms/step - loss: 4.8874 - mae: 4.8874\n",
            "Epoch 138/180\n",
            "13/13 [==============================] - 0s 3ms/step - loss: 4.1130 - mae: 4.1130\n",
            "Epoch 139/180\n",
            "13/13 [==============================] - 0s 3ms/step - loss: 3.9317 - mae: 3.9317\n",
            "Epoch 140/180\n",
            "13/13 [==============================] - 0s 3ms/step - loss: 3.8852 - mae: 3.8852\n",
            "Epoch 141/180\n",
            "13/13 [==============================] - 0s 4ms/step - loss: 4.1514 - mae: 4.1514\n",
            "Epoch 142/180\n",
            "13/13 [==============================] - 0s 3ms/step - loss: 3.8403 - mae: 3.8403\n",
            "Epoch 143/180\n",
            "13/13 [==============================] - 0s 4ms/step - loss: 4.4431 - mae: 4.4431\n",
            "Epoch 144/180\n",
            "13/13 [==============================] - 0s 5ms/step - loss: 5.6502 - mae: 5.6502\n",
            "Epoch 145/180\n",
            "13/13 [==============================] - 0s 3ms/step - loss: 5.6729 - mae: 5.6729\n",
            "Epoch 146/180\n",
            "13/13 [==============================] - 0s 4ms/step - loss: 4.7391 - mae: 4.7391\n",
            "Epoch 147/180\n",
            "13/13 [==============================] - 0s 3ms/step - loss: 4.2055 - mae: 4.2055\n",
            "Epoch 148/180\n",
            "13/13 [==============================] - 0s 3ms/step - loss: 3.9268 - mae: 3.9268\n",
            "Epoch 149/180\n",
            "13/13 [==============================] - 0s 4ms/step - loss: 3.9075 - mae: 3.9075\n",
            "Epoch 150/180\n",
            "13/13 [==============================] - 0s 4ms/step - loss: 4.6603 - mae: 4.6603\n",
            "Epoch 151/180\n",
            "13/13 [==============================] - 0s 3ms/step - loss: 4.1381 - mae: 4.1381\n",
            "Epoch 152/180\n",
            "13/13 [==============================] - 0s 4ms/step - loss: 4.3025 - mae: 4.3025\n",
            "Epoch 153/180\n",
            "13/13 [==============================] - 0s 4ms/step - loss: 3.9383 - mae: 3.9383\n",
            "Epoch 154/180\n",
            "13/13 [==============================] - 0s 4ms/step - loss: 3.9330 - mae: 3.9330\n",
            "Epoch 155/180\n",
            "13/13 [==============================] - 0s 4ms/step - loss: 4.1952 - mae: 4.1952\n",
            "Epoch 156/180\n",
            "13/13 [==============================] - 0s 3ms/step - loss: 4.5675 - mae: 4.5675\n",
            "Epoch 157/180\n",
            "13/13 [==============================] - 0s 3ms/step - loss: 3.9140 - mae: 3.9140\n",
            "Epoch 158/180\n",
            "13/13 [==============================] - 0s 4ms/step - loss: 4.4560 - mae: 4.4560\n",
            "Epoch 159/180\n",
            "13/13 [==============================] - 0s 3ms/step - loss: 5.2119 - mae: 5.2119\n",
            "Epoch 160/180\n",
            "13/13 [==============================] - 0s 4ms/step - loss: 4.5010 - mae: 4.5010\n",
            "Epoch 161/180\n",
            "13/13 [==============================] - 0s 3ms/step - loss: 3.9575 - mae: 3.9575\n",
            "Epoch 162/180\n",
            "13/13 [==============================] - 0s 3ms/step - loss: 3.6538 - mae: 3.6538\n",
            "Epoch 163/180\n",
            "13/13 [==============================] - 0s 5ms/step - loss: 4.1815 - mae: 4.1815\n",
            "Epoch 164/180\n",
            "13/13 [==============================] - 0s 5ms/step - loss: 3.9432 - mae: 3.9432\n",
            "Epoch 165/180\n",
            "13/13 [==============================] - 0s 4ms/step - loss: 3.6642 - mae: 3.6642\n",
            "Epoch 166/180\n",
            "13/13 [==============================] - 0s 4ms/step - loss: 3.8637 - mae: 3.8637\n",
            "Epoch 167/180\n",
            "13/13 [==============================] - 0s 3ms/step - loss: 4.1985 - mae: 4.1985\n",
            "Epoch 168/180\n",
            "13/13 [==============================] - 0s 3ms/step - loss: 4.3850 - mae: 4.3850\n",
            "Epoch 169/180\n",
            "13/13 [==============================] - 0s 4ms/step - loss: 4.2013 - mae: 4.2013\n",
            "Epoch 170/180\n",
            "13/13 [==============================] - 0s 4ms/step - loss: 4.8241 - mae: 4.8241\n",
            "Epoch 171/180\n",
            "13/13 [==============================] - 0s 4ms/step - loss: 4.7916 - mae: 4.7916\n",
            "Epoch 172/180\n",
            "13/13 [==============================] - 0s 3ms/step - loss: 4.6370 - mae: 4.6370\n",
            "Epoch 173/180\n",
            "13/13 [==============================] - 0s 3ms/step - loss: 4.1868 - mae: 4.1868\n",
            "Epoch 174/180\n",
            "13/13 [==============================] - 0s 4ms/step - loss: 4.6001 - mae: 4.6001\n",
            "Epoch 175/180\n",
            "13/13 [==============================] - 0s 4ms/step - loss: 4.5240 - mae: 4.5240\n",
            "Epoch 176/180\n",
            "13/13 [==============================] - 0s 4ms/step - loss: 4.5091 - mae: 4.5091\n",
            "Epoch 177/180\n",
            "13/13 [==============================] - 0s 4ms/step - loss: 4.6023 - mae: 4.6023\n",
            "Epoch 178/180\n",
            "13/13 [==============================] - 0s 3ms/step - loss: 4.0274 - mae: 4.0274\n",
            "Epoch 179/180\n",
            "13/13 [==============================] - 0s 4ms/step - loss: 4.4177 - mae: 4.4177\n",
            "Epoch 180/180\n",
            "13/13 [==============================] - 0s 3ms/step - loss: 3.7251 - mae: 3.7251\n"
          ]
        }
      ]
    },
    {
      "cell_type": "code",
      "source": [
        "model_5.evaluate(X_test, y_test)"
      ],
      "metadata": {
        "id": "17ZEWUhjix1b",
        "outputId": "f39247a7-f0bc-4b0a-f54f-fc6f7a46f51d",
        "colab": {
          "base_uri": "https://localhost:8080/"
        }
      },
      "execution_count": 58,
      "outputs": [
        {
          "output_type": "stream",
          "name": "stdout",
          "text": [
            "4/4 [==============================] - 0s 4ms/step - loss: 3.9736 - mae: 3.9736\n"
          ]
        },
        {
          "output_type": "execute_result",
          "data": {
            "text/plain": [
              "[3.973590850830078, 3.973590850830078]"
            ]
          },
          "metadata": {},
          "execution_count": 58
        }
      ]
    },
    {
      "cell_type": "code",
      "source": [
        "pd.DataFrame(history.history).plot()\n",
        "plt.ylabel(\"loss\")\n",
        "plt.xlabel(\"epochs\")"
      ],
      "metadata": {
        "id": "kJjxETb2jSqC",
        "outputId": "c0192bab-8382-4d35-ccd3-531d3192128c",
        "colab": {
          "base_uri": "https://localhost:8080/",
          "height": 467
        }
      },
      "execution_count": 59,
      "outputs": [
        {
          "output_type": "execute_result",
          "data": {
            "text/plain": [
              "Text(0.5, 0, 'epochs')"
            ]
          },
          "metadata": {},
          "execution_count": 59
        },
        {
          "output_type": "display_data",
          "data": {
            "text/plain": [
              "<Figure size 640x480 with 1 Axes>"
            ],
            "image/png": "[encoded data removed]"
          },
          "metadata": {}
        }
      ]
    }
  ]
}