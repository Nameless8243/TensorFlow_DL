{
  "nbformat": 4,
  "nbformat_minor": 0,
  "metadata": {
    "colab": {
      "provenance": [],
      "authorship_tag": "ABX9TyP4xDcM72bNPHe3Avzjw3H0",
      "include_colab_link": true
    },
    "kernelspec": {
      "name": "python3",
      "display_name": "Python 3"
    },
    "language_info": {
      "name": "python"
    }
  },
  "cells": [
    {
      "cell_type": "markdown",
      "metadata": {
        "id": "view-in-github",
        "colab_type": "text"
      },
      "source": [
        "<a href=\"https://colab.research.google.com/github/Nameless8243/TensorFlow_DL/blob/main/01_neural_network_regression_with_tensorflow.ipynb\" target=\"_parent\"><img src=\"https://colab.research.google.com/assets/colab-badge.svg\" alt=\"Open In Colab\"/></a>"
      ]
    },
    {
      "cell_type": "markdown",
      "source": [
        "# Introduction to Regression with Neural Networks in TensorFlow\n",
        "\n",
        "There are many definitions for a regression problem but in our case, we're going to simplify it: predicting a numerical variable based on some other combination of variables, even shorter... predicting a number."
      ],
      "metadata": {
        "id": "oP5JGRSITyJO"
      }
    },
    {
      "cell_type": "code",
      "source": [
        "# Import tensorflow\n",
        "import tensorflow as tf\n",
        "print(tf.__version__)"
      ],
      "metadata": {
        "colab": {
          "base_uri": "https://localhost:8080/"
        },
        "id": "LsGmYUhse5F-",
        "outputId": "d7fe7f59-916a-4679-8d5c-be16d6fe7f48"
      },
      "execution_count": 2,
      "outputs": [
        {
          "output_type": "stream",
          "name": "stdout",
          "text": [
            "2.15.0\n"
          ]
        }
      ]
    },
    {
      "cell_type": "markdown",
      "source": [
        "## Creating data to view and fit"
      ],
      "metadata": {
        "id": "uGT0hliwfDt-"
      }
    },
    {
      "cell_type": "code",
      "source": [
        "import numpy as np\n",
        "import matplotlib.pyplot as plt\n",
        "\n",
        "# Create features\n",
        "X = np.array([-7.0, -4.0, -1.0, 2.0, 5.0, 8.0, 11.0, 14.0])\n",
        "\n",
        "# Create labels\n",
        "y = np.array([3.0, 6.0, 9.0, 12.0, 15.0, 18.0, 21.0, 24.0])\n",
        "\n",
        "# Visualize it\n",
        "plt.scatter(X, y);"
      ],
      "metadata": {
        "colab": {
          "base_uri": "https://localhost:8080/",
          "height": 435
        },
        "id": "Bz9l-cqWfS7l",
        "outputId": "a9392b83-7ab7-4033-bfb7-f6dfad95b651"
      },
      "execution_count": 3,
      "outputs": [
        {
          "output_type": "display_data",
          "data": {
            "text/plain": [
              "<Figure size 640x480 with 1 Axes>"
            ],
            "image/png": "[encoded data removed]"
          },
          "metadata": {}
        }
      ]
    },
    {
      "cell_type": "code",
      "source": [
        "y == X + 10"
      ],
      "metadata": {
        "colab": {
          "base_uri": "https://localhost:8080/"
        },
        "id": "IhhPD6eigTzN",
        "outputId": "1c889e36-443b-4c8c-d18d-7e0ecdefa192"
      },
      "execution_count": 4,
      "outputs": [
        {
          "output_type": "execute_result",
          "data": {
            "text/plain": [
              "array([ True,  True,  True,  True,  True,  True,  True,  True])"
            ]
          },
          "metadata": {},
          "execution_count": 4
        }
      ]
    },
    {
      "cell_type": "markdown",
      "source": [
        "## Input and output shapes"
      ],
      "metadata": {
        "id": "ZTXfdcSOg2bE"
      }
    },
    {
      "cell_type": "code",
      "source": [
        "# Create demo tensor for our housing price prediction problem\n",
        "house_info = tf.constant([\"bedroom\", \"bathroom\", \"garage\"])\n",
        "house_price = tf.constant([939700])\n",
        "house_info, house_price"
      ],
      "metadata": {
        "colab": {
          "base_uri": "https://localhost:8080/"
        },
        "id": "vS_BbYWjj3Et",
        "outputId": "9874e87e-7c63-4c13-9027-e4f227ffe2bf"
      },
      "execution_count": 5,
      "outputs": [
        {
          "output_type": "execute_result",
          "data": {
            "text/plain": [
              "(<tf.Tensor: shape=(3,), dtype=string, numpy=array([b'bedroom', b'bathroom', b'garage'], dtype=object)>,\n",
              " <tf.Tensor: shape=(1,), dtype=int32, numpy=array([939700], dtype=int32)>)"
            ]
          },
          "metadata": {},
          "execution_count": 5
        }
      ]
    },
    {
      "cell_type": "code",
      "source": [
        "input_shape = X[0].shape\n",
        "output_shape = y[0].shape\n",
        "input_shape, output_shape"
      ],
      "metadata": {
        "colab": {
          "base_uri": "https://localhost:8080/"
        },
        "id": "v4JCXIjjkcer",
        "outputId": "73e092ae-16d7-4dd6-bfe9-cf44acabd6ed"
      },
      "execution_count": 6,
      "outputs": [
        {
          "output_type": "execute_result",
          "data": {
            "text/plain": [
              "((), ())"
            ]
          },
          "metadata": {},
          "execution_count": 6
        }
      ]
    },
    {
      "cell_type": "code",
      "source": [
        "# Turn our NumPy arrays into tensors with dtype float32\n",
        "X = tf.cast(tf.constant(X), dtype=tf.float32)\n",
        "y = tf.cast(tf.constant(y), dtype=tf.float32)\n",
        "X, y"
      ],
      "metadata": {
        "colab": {
          "base_uri": "https://localhost:8080/"
        },
        "id": "jJeyIQYokyn7",
        "outputId": "69bd643f-fb2e-4278-f1c4-8757be5a3d53"
      },
      "execution_count": 7,
      "outputs": [
        {
          "output_type": "execute_result",
          "data": {
            "text/plain": [
              "(<tf.Tensor: shape=(8,), dtype=float32, numpy=array([-7., -4., -1.,  2.,  5.,  8., 11., 14.], dtype=float32)>,\n",
              " <tf.Tensor: shape=(8,), dtype=float32, numpy=array([ 3.,  6.,  9., 12., 15., 18., 21., 24.], dtype=float32)>)"
            ]
          },
          "metadata": {},
          "execution_count": 7
        }
      ]
    },
    {
      "cell_type": "code",
      "source": [
        "input_shape = X[0].shape\n",
        "output_shape = y[0].shape\n",
        "input_shape, output_shape"
      ],
      "metadata": {
        "colab": {
          "base_uri": "https://localhost:8080/"
        },
        "id": "9dCoCjBQmAr7",
        "outputId": "1ab8d137-0ce3-466f-82d4-e1ab69fd0202"
      },
      "execution_count": 8,
      "outputs": [
        {
          "output_type": "execute_result",
          "data": {
            "text/plain": [
              "(TensorShape([]), TensorShape([]))"
            ]
          },
          "metadata": {},
          "execution_count": 8
        }
      ]
    },
    {
      "cell_type": "code",
      "source": [
        "plt.scatter(X,y)"
      ],
      "metadata": {
        "colab": {
          "base_uri": "https://localhost:8080/",
          "height": 453
        },
        "id": "am1A3auXmhoD",
        "outputId": "b1b9a1e6-559c-45c7-cd6a-b23ac85e6f56"
      },
      "execution_count": 9,
      "outputs": [
        {
          "output_type": "execute_result",
          "data": {
            "text/plain": [
              "<matplotlib.collections.PathCollection at 0x7d396eea7fd0>"
            ]
          },
          "metadata": {},
          "execution_count": 9
        },
        {
          "output_type": "display_data",
          "data": {
            "text/plain": [
              "<Figure size 640x480 with 1 Axes>"
            ],
            "image/png": "[encoded data removed]"
          },
          "metadata": {}
        }
      ]
    },
    {
      "cell_type": "markdown",
      "source": [
        "## Steps in modelling with TensorFlow\n",
        "\n",
        "1. **Creating a model** - define the input and output layers, as well as the hidden layers of a deep learning model.\n",
        "2. **Compiling a model** - define the loss function (in other words, the\n",
        "function which tells our model how wrong it is) and the optimizer\n",
        "(tells our model how to improve the patterns its learning) and\n",
        "evaluation metrics (what we can use ta interpret the performance of our model).\n",
        "3. **Fitting the model** - letting the model try to find patterns between X & y (features and labels)."
      ],
      "metadata": {
        "id": "-buia87-msUz"
      }
    },
    {
      "cell_type": "code",
      "source": [
        "# Optionally, the first layer can receive an `input_shape` argument:\n",
        "model = tf.keras.Sequential()\n",
        "model.add(tf.keras.layers.Dense(8, input_shape=(16,)))\n",
        "# Afterwards, we do automatic shape inference:\n",
        "model.add(tf.keras.layers.Dense(4))\n",
        "\n",
        "model = tf.keras.Sequential()\n",
        "model.add(tf.keras.layers.Dense(8, input_shape=(16,)))\n",
        "model.add(tf.keras.layers.Dense(4))\n",
        "\n",
        "model = tf.keras.Sequential()\n",
        "model.add(tf.keras.layers.Dense(1))\n",
        "model.add(tf.keras.layers.Dense(1))"
      ],
      "metadata": {
        "id": "YM-kOlIPzdM1"
      },
      "execution_count": 10,
      "outputs": []
    },
    {
      "cell_type": "code",
      "source": [
        "# Set random seed\n",
        "tf.random.set_seed(42)\n",
        "# 1. Create a model using the Sequential API\n",
        "model = tf.keras.Sequential([\n",
        "    tf.keras.layers.Dense(1),\n",
        "    tf.keras.layers.Dense(1)\n",
        "\n",
        "])\n",
        "\n",
        "# 2. Compile the model\n",
        "model.compile(loss=tf.keras.losses.mae, # mae is short for mean absolute error\n",
        "              optimizer=tf.keras.optimizers.SGD(), # sgd is short for stochastic gradient descent\n",
        "              metrics=[\"mae\"])\n",
        "\n",
        "# 3. Fit the model\n",
        "model.fit(tf.expand_dims(X, axis=-1), y, epochs=5)"
      ],
      "metadata": {
        "id": "jZi7FfNkm9by",
        "colab": {
          "base_uri": "https://localhost:8080/"
        },
        "outputId": "4d119cd1-d6bb-4128-de13-613bf04af610"
      },
      "execution_count": 11,
      "outputs": [
        {
          "output_type": "stream",
          "name": "stdout",
          "text": [
            "Epoch 1/5\n",
            "1/1 [==============================] - 1s 1s/step - loss: 13.6826 - mae: 13.6826\n",
            "Epoch 2/5\n",
            "1/1 [==============================] - 0s 30ms/step - loss: 13.6304 - mae: 13.6304\n",
            "Epoch 3/5\n",
            "1/1 [==============================] - 0s 25ms/step - loss: 13.5791 - mae: 13.5791\n",
            "Epoch 4/5\n",
            "1/1 [==============================] - 0s 12ms/step - loss: 13.5284 - mae: 13.5284\n",
            "Epoch 5/5\n",
            "1/1 [==============================] - 0s 12ms/step - loss: 13.4781 - mae: 13.4781\n"
          ]
        },
        {
          "output_type": "execute_result",
          "data": {
            "text/plain": [
              "<keras.src.callbacks.History at 0x7d396ee5a230>"
            ]
          },
          "metadata": {},
          "execution_count": 11
        }
      ]
    },
    {
      "cell_type": "code",
      "source": [
        "# Check out X, and y\n",
        "X, y"
      ],
      "metadata": {
        "colab": {
          "base_uri": "https://localhost:8080/"
        },
        "id": "9924Ks0cyEZc",
        "outputId": "b3552044-6034-418c-e284-c1a6a8dc57ce"
      },
      "execution_count": 12,
      "outputs": [
        {
          "output_type": "execute_result",
          "data": {
            "text/plain": [
              "(<tf.Tensor: shape=(8,), dtype=float32, numpy=array([-7., -4., -1.,  2.,  5.,  8., 11., 14.], dtype=float32)>,\n",
              " <tf.Tensor: shape=(8,), dtype=float32, numpy=array([ 3.,  6.,  9., 12., 15., 18., 21., 24.], dtype=float32)>)"
            ]
          },
          "metadata": {},
          "execution_count": 12
        }
      ]
    },
    {
      "cell_type": "code",
      "source": [
        "# Try and make a prediction using our model\n",
        "y_pred = model.predict([17.0])\n",
        "y_pred"
      ],
      "metadata": {
        "colab": {
          "base_uri": "https://localhost:8080/"
        },
        "id": "zaNtc7a57T9y",
        "outputId": "e4da1a36-edc7-4bf5-8cc0-6b2c2234f163"
      },
      "execution_count": 13,
      "outputs": [
        {
          "output_type": "stream",
          "name": "stdout",
          "text": [
            "1/1 [==============================] - 0s 232ms/step\n"
          ]
        },
        {
          "output_type": "execute_result",
          "data": {
            "text/plain": [
              "array([[0.15719971]], dtype=float32)"
            ]
          },
          "metadata": {},
          "execution_count": 13
        }
      ]
    },
    {
      "cell_type": "code",
      "source": [
        "y_pred + 18"
      ],
      "metadata": {
        "colab": {
          "base_uri": "https://localhost:8080/"
        },
        "id": "nqNb7qQL7t7U",
        "outputId": "6e42143f-2076-4178-c605-42a9d6defc1e"
      },
      "execution_count": 14,
      "outputs": [
        {
          "output_type": "execute_result",
          "data": {
            "text/plain": [
              "array([[18.1572]], dtype=float32)"
            ]
          },
          "metadata": {},
          "execution_count": 14
        }
      ]
    },
    {
      "cell_type": "markdown",
      "source": [
        "## Improving our model\n",
        "\n",
        "We can improve our model, by astering the steps we took to create a model.\n",
        "\n",
        "1. **Creating a model** - here we might add more layers,\n",
        "increase the number of hidden units (all called neurons) within each of the hidden layers, change the activation function of each layer.\n",
        "2. **Compiling a model** - here we might change the optimization function or perhaps the **learning rate** of the optimization function.\n",
        "3. **Fitting a model** - here we might fit a model for more **epochs** (leave it training for longer) or on more data (give the model more examples to learn from)."
      ],
      "metadata": {
        "id": "6ZSGWPSe8Fpe"
      }
    },
    {
      "cell_type": "code",
      "source": [
        "# Let's rebuild our model\n",
        "\n",
        "# 1. Create the model\n",
        "model = tf.keras.Sequential([\n",
        "    tf.keras.layers.Dense(1)\n",
        "])\n",
        "\n",
        "# 2. Compile the model\n",
        "model.compile(loss=tf.keras.losses.mae,\n",
        "              optimizer=tf.keras.optimizers.SGD(),\n",
        "              metrics=[\"mae\"])\n",
        "# 3. Fit the model (this time we'll train for longer)\n",
        "model.fit(tf.expand_dims(X, axis=-1), y, epochs=100)"
      ],
      "metadata": {
        "colab": {
          "base_uri": "https://localhost:8080/"
        },
        "id": "sG_Jes1K8z-M",
        "outputId": "b616dd38-00e9-485f-cb98-1cc0673ae9e3"
      },
      "execution_count": 15,
      "outputs": [
        {
          "output_type": "stream",
          "name": "stdout",
          "text": [
            "Epoch 1/100\n",
            "1/1 [==============================] - 2s 2s/step - loss: 21.6829 - mae: 21.6829\n",
            "Epoch 2/100\n",
            "1/1 [==============================] - 0s 31ms/step - loss: 21.2898 - mae: 21.2898\n",
            "Epoch 3/100\n",
            "1/1 [==============================] - 0s 33ms/step - loss: 20.8967 - mae: 20.8967\n",
            "Epoch 4/100\n",
            "1/1 [==============================] - 0s 37ms/step - loss: 20.5180 - mae: 20.5180\n",
            "Epoch 5/100\n",
            "1/1 [==============================] - 0s 12ms/step - loss: 20.2368 - mae: 20.2368\n",
            "Epoch 6/100\n",
            "1/1 [==============================] - 0s 13ms/step - loss: 19.9555 - mae: 19.9555\n",
            "Epoch 7/100\n",
            "1/1 [==============================] - 0s 21ms/step - loss: 19.6743 - mae: 19.6743\n",
            "Epoch 8/100\n",
            "1/1 [==============================] - 0s 40ms/step - loss: 19.3930 - mae: 19.3930\n",
            "Epoch 9/100\n",
            "1/1 [==============================] - 0s 35ms/step - loss: 19.1118 - mae: 19.1118\n",
            "Epoch 10/100\n",
            "1/1 [==============================] - 0s 26ms/step - loss: 18.8305 - mae: 18.8305\n",
            "Epoch 11/100\n",
            "1/1 [==============================] - 0s 26ms/step - loss: 18.5493 - mae: 18.5493\n",
            "Epoch 12/100\n",
            "1/1 [==============================] - 0s 47ms/step - loss: 18.2680 - mae: 18.2680\n",
            "Epoch 13/100\n",
            "1/1 [==============================] - 0s 34ms/step - loss: 17.9868 - mae: 17.9868\n",
            "Epoch 14/100\n",
            "1/1 [==============================] - 0s 29ms/step - loss: 17.7055 - mae: 17.7055\n",
            "Epoch 15/100\n",
            "1/1 [==============================] - 0s 39ms/step - loss: 17.4243 - mae: 17.4243\n",
            "Epoch 16/100\n",
            "1/1 [==============================] - 0s 27ms/step - loss: 17.1430 - mae: 17.1430\n",
            "Epoch 17/100\n",
            "1/1 [==============================] - 0s 34ms/step - loss: 16.8618 - mae: 16.8618\n",
            "Epoch 18/100\n",
            "1/1 [==============================] - 0s 30ms/step - loss: 16.5805 - mae: 16.5805\n",
            "Epoch 19/100\n",
            "1/1 [==============================] - 0s 27ms/step - loss: 16.2993 - mae: 16.2993\n",
            "Epoch 20/100\n",
            "1/1 [==============================] - 0s 33ms/step - loss: 16.0180 - mae: 16.0180\n",
            "Epoch 21/100\n",
            "1/1 [==============================] - 0s 30ms/step - loss: 15.7368 - mae: 15.7368\n",
            "Epoch 22/100\n",
            "1/1 [==============================] - 0s 27ms/step - loss: 15.4555 - mae: 15.4555\n",
            "Epoch 23/100\n",
            "1/1 [==============================] - 0s 27ms/step - loss: 15.1743 - mae: 15.1743\n",
            "Epoch 24/100\n",
            "1/1 [==============================] - 0s 28ms/step - loss: 14.8930 - mae: 14.8930\n",
            "Epoch 25/100\n",
            "1/1 [==============================] - 0s 18ms/step - loss: 14.6549 - mae: 14.6549\n",
            "Epoch 26/100\n",
            "1/1 [==============================] - 0s 33ms/step - loss: 14.5224 - mae: 14.5224\n",
            "Epoch 27/100\n",
            "1/1 [==============================] - 0s 32ms/step - loss: 14.3899 - mae: 14.3899\n",
            "Epoch 28/100\n",
            "1/1 [==============================] - 0s 45ms/step - loss: 14.2574 - mae: 14.2574\n",
            "Epoch 29/100\n",
            "1/1 [==============================] - 0s 21ms/step - loss: 14.1249 - mae: 14.1249\n",
            "Epoch 30/100\n",
            "1/1 [==============================] - 0s 22ms/step - loss: 13.9924 - mae: 13.9924\n",
            "Epoch 31/100\n",
            "1/1 [==============================] - 0s 21ms/step - loss: 13.8599 - mae: 13.8599\n",
            "Epoch 32/100\n",
            "1/1 [==============================] - 0s 24ms/step - loss: 13.7274 - mae: 13.7274\n",
            "Epoch 33/100\n",
            "1/1 [==============================] - 0s 22ms/step - loss: 13.5949 - mae: 13.5949\n",
            "Epoch 34/100\n",
            "1/1 [==============================] - 0s 20ms/step - loss: 13.4624 - mae: 13.4624\n",
            "Epoch 35/100\n",
            "1/1 [==============================] - 0s 22ms/step - loss: 13.3299 - mae: 13.3299\n",
            "Epoch 36/100\n",
            "1/1 [==============================] - 0s 22ms/step - loss: 13.1974 - mae: 13.1974\n",
            "Epoch 37/100\n",
            "1/1 [==============================] - 0s 18ms/step - loss: 13.0649 - mae: 13.0649\n",
            "Epoch 38/100\n",
            "1/1 [==============================] - 0s 24ms/step - loss: 12.9324 - mae: 12.9324\n",
            "Epoch 39/100\n",
            "1/1 [==============================] - 0s 27ms/step - loss: 12.7999 - mae: 12.7999\n",
            "Epoch 40/100\n",
            "1/1 [==============================] - 0s 28ms/step - loss: 12.6674 - mae: 12.6674\n",
            "Epoch 41/100\n",
            "1/1 [==============================] - 0s 25ms/step - loss: 12.5349 - mae: 12.5349\n",
            "Epoch 42/100\n",
            "1/1 [==============================] - 0s 21ms/step - loss: 12.4024 - mae: 12.4024\n",
            "Epoch 43/100\n",
            "1/1 [==============================] - 0s 27ms/step - loss: 12.2699 - mae: 12.2699\n",
            "Epoch 44/100\n",
            "1/1 [==============================] - 0s 35ms/step - loss: 12.1374 - mae: 12.1374\n",
            "Epoch 45/100\n",
            "1/1 [==============================] - 0s 41ms/step - loss: 12.0049 - mae: 12.0049\n",
            "Epoch 46/100\n",
            "1/1 [==============================] - 0s 23ms/step - loss: 11.8724 - mae: 11.8724\n",
            "Epoch 47/100\n",
            "1/1 [==============================] - 0s 29ms/step - loss: 11.7399 - mae: 11.7399\n",
            "Epoch 48/100\n",
            "1/1 [==============================] - 0s 25ms/step - loss: 11.6074 - mae: 11.6074\n",
            "Epoch 49/100\n",
            "1/1 [==============================] - 0s 46ms/step - loss: 11.4749 - mae: 11.4749\n",
            "Epoch 50/100\n",
            "1/1 [==============================] - 0s 39ms/step - loss: 11.3424 - mae: 11.3424\n",
            "Epoch 51/100\n",
            "1/1 [==============================] - 0s 27ms/step - loss: 11.2099 - mae: 11.2099\n",
            "Epoch 52/100\n",
            "1/1 [==============================] - 0s 32ms/step - loss: 11.0774 - mae: 11.0774\n",
            "Epoch 53/100\n",
            "1/1 [==============================] - 0s 24ms/step - loss: 10.9449 - mae: 10.9449\n",
            "Epoch 54/100\n",
            "1/1 [==============================] - 0s 63ms/step - loss: 10.8124 - mae: 10.8124\n",
            "Epoch 55/100\n",
            "1/1 [==============================] - 0s 33ms/step - loss: 10.6799 - mae: 10.6799\n",
            "Epoch 56/100\n",
            "1/1 [==============================] - 0s 45ms/step - loss: 10.5474 - mae: 10.5474\n",
            "Epoch 57/100\n",
            "1/1 [==============================] - 0s 33ms/step - loss: 10.4149 - mae: 10.4149\n",
            "Epoch 58/100\n",
            "1/1 [==============================] - 0s 31ms/step - loss: 10.2824 - mae: 10.2824\n",
            "Epoch 59/100\n",
            "1/1 [==============================] - 0s 34ms/step - loss: 10.1499 - mae: 10.1499\n",
            "Epoch 60/100\n",
            "1/1 [==============================] - 0s 56ms/step - loss: 10.0174 - mae: 10.0174\n",
            "Epoch 61/100\n",
            "1/1 [==============================] - 0s 20ms/step - loss: 9.8849 - mae: 9.8849\n",
            "Epoch 62/100\n",
            "1/1 [==============================] - 0s 27ms/step - loss: 9.7524 - mae: 9.7524\n",
            "Epoch 63/100\n",
            "1/1 [==============================] - 0s 19ms/step - loss: 9.6199 - mae: 9.6199\n",
            "Epoch 64/100\n",
            "1/1 [==============================] - 0s 19ms/step - loss: 9.4874 - mae: 9.4874\n",
            "Epoch 65/100\n",
            "1/1 [==============================] - 0s 19ms/step - loss: 9.3549 - mae: 9.3549\n",
            "Epoch 66/100\n",
            "1/1 [==============================] - 0s 25ms/step - loss: 9.2224 - mae: 9.2224\n",
            "Epoch 67/100\n",
            "1/1 [==============================] - 0s 47ms/step - loss: 9.0899 - mae: 9.0899\n",
            "Epoch 68/100\n",
            "1/1 [==============================] - 0s 30ms/step - loss: 8.9574 - mae: 8.9574\n",
            "Epoch 69/100\n",
            "1/1 [==============================] - 0s 30ms/step - loss: 8.8249 - mae: 8.8249\n",
            "Epoch 70/100\n",
            "1/1 [==============================] - 0s 18ms/step - loss: 8.6924 - mae: 8.6924\n",
            "Epoch 71/100\n",
            "1/1 [==============================] - 0s 22ms/step - loss: 8.5599 - mae: 8.5599\n",
            "Epoch 72/100\n",
            "1/1 [==============================] - 0s 17ms/step - loss: 8.4274 - mae: 8.4274\n",
            "Epoch 73/100\n",
            "1/1 [==============================] - 0s 20ms/step - loss: 8.2949 - mae: 8.2949\n",
            "Epoch 74/100\n",
            "1/1 [==============================] - 0s 19ms/step - loss: 8.1624 - mae: 8.1624\n",
            "Epoch 75/100\n",
            "1/1 [==============================] - 0s 23ms/step - loss: 8.0299 - mae: 8.0299\n",
            "Epoch 76/100\n",
            "1/1 [==============================] - 0s 26ms/step - loss: 7.8974 - mae: 7.8974\n",
            "Epoch 77/100\n",
            "1/1 [==============================] - 0s 17ms/step - loss: 7.7649 - mae: 7.7649\n",
            "Epoch 78/100\n",
            "1/1 [==============================] - 0s 25ms/step - loss: 7.6324 - mae: 7.6324\n",
            "Epoch 79/100\n",
            "1/1 [==============================] - 0s 16ms/step - loss: 7.4999 - mae: 7.4999\n",
            "Epoch 80/100\n",
            "1/1 [==============================] - 0s 33ms/step - loss: 7.3674 - mae: 7.3674\n",
            "Epoch 81/100\n",
            "1/1 [==============================] - 0s 14ms/step - loss: 7.2350 - mae: 7.2350\n",
            "Epoch 82/100\n",
            "1/1 [==============================] - 0s 34ms/step - loss: 7.1024 - mae: 7.1024\n",
            "Epoch 83/100\n",
            "1/1 [==============================] - 0s 26ms/step - loss: 6.9700 - mae: 6.9700\n",
            "Epoch 84/100\n",
            "1/1 [==============================] - 0s 15ms/step - loss: 6.9281 - mae: 6.9281\n",
            "Epoch 85/100\n",
            "1/1 [==============================] - 0s 25ms/step - loss: 6.9225 - mae: 6.9225\n",
            "Epoch 86/100\n",
            "1/1 [==============================] - 0s 18ms/step - loss: 6.9169 - mae: 6.9169\n",
            "Epoch 87/100\n",
            "1/1 [==============================] - 0s 20ms/step - loss: 6.9113 - mae: 6.9113\n",
            "Epoch 88/100\n",
            "1/1 [==============================] - 0s 22ms/step - loss: 6.9056 - mae: 6.9056\n",
            "Epoch 89/100\n",
            "1/1 [==============================] - 0s 25ms/step - loss: 6.9000 - mae: 6.9000\n",
            "Epoch 90/100\n",
            "1/1 [==============================] - 0s 14ms/step - loss: 6.8944 - mae: 6.8944\n",
            "Epoch 91/100\n",
            "1/1 [==============================] - 0s 18ms/step - loss: 6.8888 - mae: 6.8888\n",
            "Epoch 92/100\n",
            "1/1 [==============================] - 0s 15ms/step - loss: 6.8831 - mae: 6.8831\n",
            "Epoch 93/100\n",
            "1/1 [==============================] - 0s 16ms/step - loss: 6.8775 - mae: 6.8775\n",
            "Epoch 94/100\n",
            "1/1 [==============================] - 0s 16ms/step - loss: 6.8719 - mae: 6.8719\n",
            "Epoch 95/100\n",
            "1/1 [==============================] - 0s 17ms/step - loss: 6.8663 - mae: 6.8663\n",
            "Epoch 96/100\n",
            "1/1 [==============================] - 0s 17ms/step - loss: 6.8606 - mae: 6.8606\n",
            "Epoch 97/100\n",
            "1/1 [==============================] - 0s 34ms/step - loss: 6.8550 - mae: 6.8550\n",
            "Epoch 98/100\n",
            "1/1 [==============================] - 0s 54ms/step - loss: 6.8494 - mae: 6.8494\n",
            "Epoch 99/100\n",
            "1/1 [==============================] - 0s 39ms/step - loss: 6.8438 - mae: 6.8438\n",
            "Epoch 100/100\n",
            "1/1 [==============================] - 0s 23ms/step - loss: 6.8381 - mae: 6.8381\n"
          ]
        },
        {
          "output_type": "execute_result",
          "data": {
            "text/plain": [
              "<keras.src.callbacks.History at 0x7d396e2dc2b0>"
            ]
          },
          "metadata": {},
          "execution_count": 15
        }
      ]
    },
    {
      "cell_type": "code",
      "source": [
        "# Remind ourselves of the data\n",
        "X, y"
      ],
      "metadata": {
        "id": "cLLGIsIWDA0J",
        "outputId": "04ad6a26-9b7c-4f28-d772-4ec469d81e89",
        "colab": {
          "base_uri": "https://localhost:8080/"
        }
      },
      "execution_count": 16,
      "outputs": [
        {
          "output_type": "execute_result",
          "data": {
            "text/plain": [
              "(<tf.Tensor: shape=(8,), dtype=float32, numpy=array([-7., -4., -1.,  2.,  5.,  8., 11., 14.], dtype=float32)>,\n",
              " <tf.Tensor: shape=(8,), dtype=float32, numpy=array([ 3.,  6.,  9., 12., 15., 18., 21., 24.], dtype=float32)>)"
            ]
          },
          "metadata": {},
          "execution_count": 16
        }
      ]
    },
    {
      "cell_type": "code",
      "source": [
        "# Let's see if our model's prediction has improved...\n",
        "model.predict([17.0])"
      ],
      "metadata": {
        "id": "gByFKupbFTdw",
        "colab": {
          "base_uri": "https://localhost:8080/"
        },
        "outputId": "3b290d12-2cb9-4803-8757-53b0f2a7dd48"
      },
      "execution_count": 17,
      "outputs": [
        {
          "output_type": "stream",
          "name": "stdout",
          "text": [
            "1/1 [==============================] - 0s 69ms/step\n"
          ]
        },
        {
          "output_type": "execute_result",
          "data": {
            "text/plain": [
              "array([[29.547386]], dtype=float32)"
            ]
          },
          "metadata": {},
          "execution_count": 17
        }
      ]
    },
    {
      "cell_type": "markdown",
      "source": [
        "### Create a new model"
      ],
      "metadata": {
        "id": "pRt7GerdyLpM"
      }
    },
    {
      "cell_type": "code",
      "source": [
        "# Create\n",
        "model = tf.keras.Sequential([\n",
        "    tf.keras.layers.Dense(100, activation=\"relu\"),\n",
        "    tf.keras.layers.Dense(100, activation=\"relu\"),\n",
        "    tf.keras.layers.Dense(100, activation=\"relu\"),\n",
        "    tf.keras.layers.Dense(1)\n",
        "])\n",
        "\n",
        "# Compile\n",
        "model.compile(loss=tf.keras.losses.mae,\n",
        "              optimizer=tf.keras.optimizers.SGD(),\n",
        "              metrics=[\"mae\"])\n",
        "# Fit\n",
        "model.fit(tf.expand_dims(X, axis=-1), y, epochs=100)"
      ],
      "metadata": {
        "colab": {
          "base_uri": "https://localhost:8080/"
        },
        "id": "IfIIKP0Fy1P1",
        "outputId": "ed3762db-727a-4c91-9acc-f61950027d54"
      },
      "execution_count": 18,
      "outputs": [
        {
          "output_type": "stream",
          "name": "stdout",
          "text": [
            "Epoch 1/100\n",
            "1/1 [==============================] - 1s 699ms/step - loss: 13.0926 - mae: 13.0926\n",
            "Epoch 2/100\n",
            "1/1 [==============================] - 0s 16ms/step - loss: 12.7168 - mae: 12.7168\n",
            "Epoch 3/100\n",
            "1/1 [==============================] - 0s 17ms/step - loss: 12.3207 - mae: 12.3207\n",
            "Epoch 4/100\n",
            "1/1 [==============================] - 0s 19ms/step - loss: 11.8878 - mae: 11.8878\n",
            "Epoch 5/100\n",
            "1/1 [==============================] - 0s 15ms/step - loss: 11.4148 - mae: 11.4148\n",
            "Epoch 6/100\n",
            "1/1 [==============================] - 0s 13ms/step - loss: 10.8532 - mae: 10.8532\n",
            "Epoch 7/100\n",
            "1/1 [==============================] - 0s 13ms/step - loss: 10.1804 - mae: 10.1804\n",
            "Epoch 8/100\n",
            "1/1 [==============================] - 0s 14ms/step - loss: 9.3738 - mae: 9.3738\n",
            "Epoch 9/100\n",
            "1/1 [==============================] - 0s 12ms/step - loss: 8.5388 - mae: 8.5388\n",
            "Epoch 10/100\n",
            "1/1 [==============================] - 0s 14ms/step - loss: 7.4664 - mae: 7.4664\n",
            "Epoch 11/100\n",
            "1/1 [==============================] - 0s 14ms/step - loss: 6.0288 - mae: 6.0288\n",
            "Epoch 12/100\n",
            "1/1 [==============================] - 0s 16ms/step - loss: 4.1318 - mae: 4.1318\n",
            "Epoch 13/100\n",
            "1/1 [==============================] - 0s 14ms/step - loss: 3.8937 - mae: 3.8937\n",
            "Epoch 14/100\n",
            "1/1 [==============================] - 0s 14ms/step - loss: 4.0835 - mae: 4.0835\n",
            "Epoch 15/100\n",
            "1/1 [==============================] - 0s 14ms/step - loss: 3.9028 - mae: 3.9028\n",
            "Epoch 16/100\n",
            "1/1 [==============================] - 0s 17ms/step - loss: 4.0334 - mae: 4.0334\n",
            "Epoch 17/100\n",
            "1/1 [==============================] - 0s 14ms/step - loss: 3.9133 - mae: 3.9133\n",
            "Epoch 18/100\n",
            "1/1 [==============================] - 0s 20ms/step - loss: 3.9820 - mae: 3.9820\n",
            "Epoch 19/100\n",
            "1/1 [==============================] - 0s 12ms/step - loss: 3.9253 - mae: 3.9253\n",
            "Epoch 20/100\n",
            "1/1 [==============================] - 0s 15ms/step - loss: 3.9290 - mae: 3.9290\n",
            "Epoch 21/100\n",
            "1/1 [==============================] - 0s 13ms/step - loss: 3.9384 - mae: 3.9384\n",
            "Epoch 22/100\n",
            "1/1 [==============================] - 0s 14ms/step - loss: 3.8733 - mae: 3.8733\n",
            "Epoch 23/100\n",
            "1/1 [==============================] - 0s 13ms/step - loss: 3.9523 - mae: 3.9523\n",
            "Epoch 24/100\n",
            "1/1 [==============================] - 0s 14ms/step - loss: 3.8169 - mae: 3.8169\n",
            "Epoch 25/100\n",
            "1/1 [==============================] - 0s 13ms/step - loss: 3.9689 - mae: 3.9689\n",
            "Epoch 26/100\n",
            "1/1 [==============================] - 0s 13ms/step - loss: 3.7693 - mae: 3.7693\n",
            "Epoch 27/100\n",
            "1/1 [==============================] - 0s 15ms/step - loss: 3.9621 - mae: 3.9621\n",
            "Epoch 28/100\n",
            "1/1 [==============================] - 0s 14ms/step - loss: 3.7855 - mae: 3.7855\n",
            "Epoch 29/100\n",
            "1/1 [==============================] - 0s 13ms/step - loss: 3.9056 - mae: 3.9056\n",
            "Epoch 30/100\n",
            "1/1 [==============================] - 0s 16ms/step - loss: 3.8394 - mae: 3.8394\n",
            "Epoch 31/100\n",
            "1/1 [==============================] - 0s 17ms/step - loss: 3.8335 - mae: 3.8335\n",
            "Epoch 32/100\n",
            "1/1 [==============================] - 0s 16ms/step - loss: 3.8562 - mae: 3.8562\n",
            "Epoch 33/100\n",
            "1/1 [==============================] - 0s 15ms/step - loss: 3.7717 - mae: 3.7717\n",
            "Epoch 34/100\n",
            "1/1 [==============================] - 0s 15ms/step - loss: 3.8745 - mae: 3.8745\n",
            "Epoch 35/100\n",
            "1/1 [==============================] - 0s 16ms/step - loss: 3.7077 - mae: 3.7077\n",
            "Epoch 36/100\n",
            "1/1 [==============================] - 0s 14ms/step - loss: 3.8943 - mae: 3.8943\n",
            "Epoch 37/100\n",
            "1/1 [==============================] - 0s 17ms/step - loss: 3.6986 - mae: 3.6986\n",
            "Epoch 38/100\n",
            "1/1 [==============================] - 0s 18ms/step - loss: 3.8488 - mae: 3.8488\n",
            "Epoch 39/100\n",
            "1/1 [==============================] - 0s 13ms/step - loss: 3.7547 - mae: 3.7547\n",
            "Epoch 40/100\n",
            "1/1 [==============================] - 0s 14ms/step - loss: 3.7699 - mae: 3.7699\n",
            "Epoch 41/100\n",
            "1/1 [==============================] - 0s 14ms/step - loss: 3.7749 - mae: 3.7749\n",
            "Epoch 42/100\n",
            "1/1 [==============================] - 0s 13ms/step - loss: 3.7030 - mae: 3.7030\n",
            "Epoch 43/100\n",
            "1/1 [==============================] - 0s 14ms/step - loss: 3.7966 - mae: 3.7966\n",
            "Epoch 44/100\n",
            "1/1 [==============================] - 0s 17ms/step - loss: 3.6337 - mae: 3.6337\n",
            "Epoch 45/100\n",
            "1/1 [==============================] - 0s 18ms/step - loss: 3.8198 - mae: 3.8198\n",
            "Epoch 46/100\n",
            "1/1 [==============================] - 0s 13ms/step - loss: 3.6283 - mae: 3.6283\n",
            "Epoch 47/100\n",
            "1/1 [==============================] - 0s 15ms/step - loss: 3.7640 - mae: 3.7640\n",
            "Epoch 48/100\n",
            "1/1 [==============================] - 0s 13ms/step - loss: 3.6855 - mae: 3.6855\n",
            "Epoch 49/100\n",
            "1/1 [==============================] - 0s 13ms/step - loss: 3.6816 - mae: 3.6816\n",
            "Epoch 50/100\n",
            "1/1 [==============================] - 0s 14ms/step - loss: 3.7088 - mae: 3.7088\n",
            "Epoch 51/100\n",
            "1/1 [==============================] - 0s 14ms/step - loss: 3.6086 - mae: 3.6086\n",
            "Epoch 52/100\n",
            "1/1 [==============================] - 0s 12ms/step - loss: 3.7344 - mae: 3.7344\n",
            "Epoch 53/100\n",
            "1/1 [==============================] - 0s 13ms/step - loss: 3.5492 - mae: 3.5492\n",
            "Epoch 54/100\n",
            "1/1 [==============================] - 0s 13ms/step - loss: 3.7325 - mae: 3.7325\n",
            "Epoch 55/100\n",
            "1/1 [==============================] - 0s 12ms/step - loss: 3.5738 - mae: 3.5738\n",
            "Epoch 56/100\n",
            "1/1 [==============================] - 0s 14ms/step - loss: 3.6590 - mae: 3.6590\n",
            "Epoch 57/100\n",
            "1/1 [==============================] - 0s 14ms/step - loss: 3.6011 - mae: 3.6011\n",
            "Epoch 58/100\n",
            "1/1 [==============================] - 0s 15ms/step - loss: 3.5884 - mae: 3.5884\n",
            "Epoch 59/100\n",
            "1/1 [==============================] - 0s 16ms/step - loss: 3.6651 - mae: 3.6651\n",
            "Epoch 60/100\n",
            "1/1 [==============================] - 0s 14ms/step - loss: 3.4914 - mae: 3.4914\n",
            "Epoch 61/100\n",
            "1/1 [==============================] - 0s 19ms/step - loss: 3.6932 - mae: 3.6932\n",
            "Epoch 62/100\n",
            "1/1 [==============================] - 0s 14ms/step - loss: 3.5083 - mae: 3.5083\n",
            "Epoch 63/100\n",
            "1/1 [==============================] - 0s 13ms/step - loss: 3.6105 - mae: 3.6105\n",
            "Epoch 64/100\n",
            "1/1 [==============================] - 0s 15ms/step - loss: 3.5358 - mae: 3.5358\n",
            "Epoch 65/100\n",
            "1/1 [==============================] - 0s 13ms/step - loss: 3.5290 - mae: 3.5290\n",
            "Epoch 66/100\n",
            "1/1 [==============================] - 0s 12ms/step - loss: 3.5652 - mae: 3.5652\n",
            "Epoch 67/100\n",
            "1/1 [==============================] - 0s 13ms/step - loss: 3.4445 - mae: 3.4445\n",
            "Epoch 68/100\n",
            "1/1 [==============================] - 0s 13ms/step - loss: 3.5963 - mae: 3.5963\n",
            "Epoch 69/100\n",
            "1/1 [==============================] - 0s 13ms/step - loss: 3.4310 - mae: 3.4310\n",
            "Epoch 70/100\n",
            "1/1 [==============================] - 0s 13ms/step - loss: 3.5436 - mae: 3.5436\n",
            "Epoch 71/100\n",
            "1/1 [==============================] - 0s 15ms/step - loss: 3.4819 - mae: 3.4819\n",
            "Epoch 72/100\n",
            "1/1 [==============================] - 0s 16ms/step - loss: 3.4569 - mae: 3.4569\n",
            "Epoch 73/100\n",
            "1/1 [==============================] - 0s 18ms/step - loss: 3.5133 - mae: 3.5133\n",
            "Epoch 74/100\n",
            "1/1 [==============================] - 0s 13ms/step - loss: 3.3679 - mae: 3.3679\n",
            "Epoch 75/100\n",
            "1/1 [==============================] - 0s 17ms/step - loss: 3.5473 - mae: 3.5473\n",
            "Epoch 76/100\n",
            "1/1 [==============================] - 0s 14ms/step - loss: 3.3699 - mae: 3.3699\n",
            "Epoch 77/100\n",
            "1/1 [==============================] - 0s 14ms/step - loss: 3.4774 - mae: 3.4774\n",
            "Epoch 78/100\n",
            "1/1 [==============================] - 0s 14ms/step - loss: 3.4367 - mae: 3.4367\n",
            "Epoch 79/100\n",
            "1/1 [==============================] - 0s 14ms/step - loss: 3.3723 - mae: 3.3723\n",
            "Epoch 80/100\n",
            "1/1 [==============================] - 0s 13ms/step - loss: 3.4695 - mae: 3.4695\n",
            "Epoch 81/100\n",
            "1/1 [==============================] - 0s 12ms/step - loss: 3.2975 - mae: 3.2975\n",
            "Epoch 82/100\n",
            "1/1 [==============================] - 0s 14ms/step - loss: 3.4714 - mae: 3.4714\n",
            "Epoch 83/100\n",
            "1/1 [==============================] - 0s 14ms/step - loss: 3.3291 - mae: 3.3291\n",
            "Epoch 84/100\n",
            "1/1 [==============================] - 0s 13ms/step - loss: 3.3776 - mae: 3.3776\n",
            "Epoch 85/100\n",
            "1/1 [==============================] - 0s 13ms/step - loss: 3.3633 - mae: 3.3633\n",
            "Epoch 86/100\n",
            "1/1 [==============================] - 0s 13ms/step - loss: 3.2794 - mae: 3.2794\n",
            "Epoch 87/100\n",
            "1/1 [==============================] - 0s 13ms/step - loss: 3.3998 - mae: 3.3998\n",
            "Epoch 88/100\n",
            "1/1 [==============================] - 0s 12ms/step - loss: 3.2302 - mae: 3.2302\n",
            "Epoch 89/100\n",
            "1/1 [==============================] - 0s 13ms/step - loss: 3.3959 - mae: 3.3959\n",
            "Epoch 90/100\n",
            "1/1 [==============================] - 0s 13ms/step - loss: 3.3001 - mae: 3.3001\n",
            "Epoch 91/100\n",
            "1/1 [==============================] - 0s 16ms/step - loss: 3.2631 - mae: 3.2631\n",
            "Epoch 92/100\n",
            "1/1 [==============================] - 0s 13ms/step - loss: 3.3354 - mae: 3.3354\n",
            "Epoch 93/100\n",
            "1/1 [==============================] - 0s 16ms/step - loss: 3.1683 - mae: 3.1683\n",
            "Epoch 94/100\n",
            "1/1 [==============================] - 0s 13ms/step - loss: 3.3504 - mae: 3.3504\n",
            "Epoch 95/100\n",
            "1/1 [==============================] - 0s 13ms/step - loss: 3.2021 - mae: 3.2021\n",
            "Epoch 96/100\n",
            "1/1 [==============================] - 0s 13ms/step - loss: 3.2460 - mae: 3.2460\n",
            "Epoch 97/100\n",
            "1/1 [==============================] - 0s 12ms/step - loss: 3.2369 - mae: 3.2369\n",
            "Epoch 98/100\n",
            "1/1 [==============================] - 0s 12ms/step - loss: 3.1376 - mae: 3.1376\n",
            "Epoch 99/100\n",
            "1/1 [==============================] - 0s 11ms/step - loss: 3.3122 - mae: 3.3122\n",
            "Epoch 100/100\n",
            "1/1 [==============================] - 0s 12ms/step - loss: 3.1417 - mae: 3.1417\n"
          ]
        },
        {
          "output_type": "execute_result",
          "data": {
            "text/plain": [
              "<keras.src.callbacks.History at 0x7d396d9d01c0>"
            ]
          },
          "metadata": {},
          "execution_count": 18
        }
      ]
    },
    {
      "cell_type": "code",
      "source": [
        "model.predict([17.0])"
      ],
      "metadata": {
        "colab": {
          "base_uri": "https://localhost:8080/"
        },
        "id": "-hgI8mhqz341",
        "outputId": "54650384-9e02-4509-94a4-1f948c1d7287"
      },
      "execution_count": 19,
      "outputs": [
        {
          "output_type": "stream",
          "name": "stdout",
          "text": [
            "1/1 [==============================] - 0s 154ms/step\n"
          ]
        },
        {
          "output_type": "execute_result",
          "data": {
            "text/plain": [
              "array([[29.705355]], dtype=float32)"
            ]
          },
          "metadata": {},
          "execution_count": 19
        }
      ]
    },
    {
      "cell_type": "code",
      "source": [
        "# Let's see if we can make another to improve our model\n",
        "\n",
        "# Create the model (this time with an extra hidden layer with 100 hidden units)\n",
        "model = tf.keras.Sequential([\n",
        "    tf.keras.layers.Dense(50, activation=None),\n",
        "    tf.keras.layers.Dense(1)\n",
        "])\n",
        "\n",
        "# Compile\n",
        "model.compile(loss=\"mae\",\n",
        "              optimizer=tf.keras.optimizers.Adam(lr=0.01),\n",
        "              metrics=[\"mae\"])\n",
        "\n",
        "# Fit\n",
        "model.fit(tf.expand_dims(X, axis=-1), y, epochs=100)"
      ],
      "metadata": {
        "colab": {
          "base_uri": "https://localhost:8080/"
        },
        "id": "IzL0gvD50N1l",
        "outputId": "67a39dd9-8476-4458-d45d-1480f20da972"
      },
      "execution_count": 20,
      "outputs": [
        {
          "output_type": "stream",
          "name": "stderr",
          "text": [
            "WARNING:absl:`lr` is deprecated in Keras optimizer, please use `learning_rate` or use the legacy optimizer, e.g.,tf.keras.optimizers.legacy.Adam.\n"
          ]
        },
        {
          "output_type": "stream",
          "name": "stdout",
          "text": [
            "Epoch 1/100\n",
            "1/1 [==============================] - 1s 640ms/step - loss: 13.7605 - mae: 13.7605\n",
            "Epoch 2/100\n",
            "1/1 [==============================] - 0s 13ms/step - loss: 13.6940 - mae: 13.6940\n",
            "Epoch 3/100\n",
            "1/1 [==============================] - 0s 17ms/step - loss: 13.6276 - mae: 13.6276\n",
            "Epoch 4/100\n",
            "1/1 [==============================] - 0s 12ms/step - loss: 13.5611 - mae: 13.5611\n",
            "Epoch 5/100\n",
            "1/1 [==============================] - 0s 11ms/step - loss: 13.4947 - mae: 13.4947\n",
            "Epoch 6/100\n",
            "1/1 [==============================] - 0s 17ms/step - loss: 13.4283 - mae: 13.4283\n",
            "Epoch 7/100\n",
            "1/1 [==============================] - 0s 12ms/step - loss: 13.3619 - mae: 13.3619\n",
            "Epoch 8/100\n",
            "1/1 [==============================] - 0s 14ms/step - loss: 13.2955 - mae: 13.2955\n",
            "Epoch 9/100\n",
            "1/1 [==============================] - 0s 13ms/step - loss: 13.2291 - mae: 13.2291\n",
            "Epoch 10/100\n",
            "1/1 [==============================] - 0s 14ms/step - loss: 13.1627 - mae: 13.1627\n",
            "Epoch 11/100\n",
            "1/1 [==============================] - 0s 13ms/step - loss: 13.0963 - mae: 13.0963\n",
            "Epoch 12/100\n",
            "1/1 [==============================] - 0s 15ms/step - loss: 13.0299 - mae: 13.0299\n",
            "Epoch 13/100\n",
            "1/1 [==============================] - 0s 12ms/step - loss: 12.9634 - mae: 12.9634\n",
            "Epoch 14/100\n",
            "1/1 [==============================] - 0s 14ms/step - loss: 12.8969 - mae: 12.8969\n",
            "Epoch 15/100\n",
            "1/1 [==============================] - 0s 14ms/step - loss: 12.8303 - mae: 12.8303\n",
            "Epoch 16/100\n",
            "1/1 [==============================] - 0s 12ms/step - loss: 12.7637 - mae: 12.7637\n",
            "Epoch 17/100\n",
            "1/1 [==============================] - 0s 12ms/step - loss: 12.6970 - mae: 12.6970\n",
            "Epoch 18/100\n",
            "1/1 [==============================] - 0s 12ms/step - loss: 12.6302 - mae: 12.6302\n",
            "Epoch 19/100\n",
            "1/1 [==============================] - 0s 12ms/step - loss: 12.5633 - mae: 12.5633\n",
            "Epoch 20/100\n",
            "1/1 [==============================] - 0s 14ms/step - loss: 12.4963 - mae: 12.4963\n",
            "Epoch 21/100\n",
            "1/1 [==============================] - 0s 12ms/step - loss: 12.4293 - mae: 12.4293\n",
            "Epoch 22/100\n",
            "1/1 [==============================] - 0s 11ms/step - loss: 12.3620 - mae: 12.3620\n",
            "Epoch 23/100\n",
            "1/1 [==============================] - 0s 15ms/step - loss: 12.2947 - mae: 12.2947\n",
            "Epoch 24/100\n",
            "1/1 [==============================] - 0s 12ms/step - loss: 12.2273 - mae: 12.2273\n",
            "Epoch 25/100\n",
            "1/1 [==============================] - 0s 12ms/step - loss: 12.1597 - mae: 12.1597\n",
            "Epoch 26/100\n",
            "1/1 [==============================] - 0s 12ms/step - loss: 12.0919 - mae: 12.0919\n",
            "Epoch 27/100\n",
            "1/1 [==============================] - 0s 13ms/step - loss: 12.0240 - mae: 12.0240\n",
            "Epoch 28/100\n",
            "1/1 [==============================] - 0s 11ms/step - loss: 11.9560 - mae: 11.9560\n",
            "Epoch 29/100\n",
            "1/1 [==============================] - 0s 12ms/step - loss: 11.8877 - mae: 11.8877\n",
            "Epoch 30/100\n",
            "1/1 [==============================] - 0s 11ms/step - loss: 11.8193 - mae: 11.8193\n",
            "Epoch 31/100\n",
            "1/1 [==============================] - 0s 12ms/step - loss: 11.7508 - mae: 11.7508\n",
            "Epoch 32/100\n",
            "1/1 [==============================] - 0s 12ms/step - loss: 11.6820 - mae: 11.6820\n",
            "Epoch 33/100\n",
            "1/1 [==============================] - 0s 18ms/step - loss: 11.6130 - mae: 11.6130\n",
            "Epoch 34/100\n",
            "1/1 [==============================] - 0s 14ms/step - loss: 11.5438 - mae: 11.5438\n",
            "Epoch 35/100\n",
            "1/1 [==============================] - 0s 12ms/step - loss: 11.4744 - mae: 11.4744\n",
            "Epoch 36/100\n",
            "1/1 [==============================] - 0s 13ms/step - loss: 11.4047 - mae: 11.4047\n",
            "Epoch 37/100\n",
            "1/1 [==============================] - 0s 15ms/step - loss: 11.3349 - mae: 11.3349\n",
            "Epoch 38/100\n",
            "1/1 [==============================] - 0s 14ms/step - loss: 11.2647 - mae: 11.2647\n",
            "Epoch 39/100\n",
            "1/1 [==============================] - 0s 13ms/step - loss: 11.1943 - mae: 11.1943\n",
            "Epoch 40/100\n",
            "1/1 [==============================] - 0s 15ms/step - loss: 11.1237 - mae: 11.1237\n",
            "Epoch 41/100\n",
            "1/1 [==============================] - 0s 13ms/step - loss: 11.0528 - mae: 11.0528\n",
            "Epoch 42/100\n",
            "1/1 [==============================] - 0s 17ms/step - loss: 10.9816 - mae: 10.9816\n",
            "Epoch 43/100\n",
            "1/1 [==============================] - 0s 13ms/step - loss: 10.9101 - mae: 10.9101\n",
            "Epoch 44/100\n",
            "1/1 [==============================] - 0s 17ms/step - loss: 10.8383 - mae: 10.8383\n",
            "Epoch 45/100\n",
            "1/1 [==============================] - 0s 14ms/step - loss: 10.7662 - mae: 10.7662\n",
            "Epoch 46/100\n",
            "1/1 [==============================] - 0s 14ms/step - loss: 10.6938 - mae: 10.6938\n",
            "Epoch 47/100\n",
            "1/1 [==============================] - 0s 13ms/step - loss: 10.6210 - mae: 10.6210\n",
            "Epoch 48/100\n",
            "1/1 [==============================] - 0s 14ms/step - loss: 10.5480 - mae: 10.5480\n",
            "Epoch 49/100\n",
            "1/1 [==============================] - 0s 14ms/step - loss: 10.4746 - mae: 10.4746\n",
            "Epoch 50/100\n",
            "1/1 [==============================] - 0s 14ms/step - loss: 10.4008 - mae: 10.4008\n",
            "Epoch 51/100\n",
            "1/1 [==============================] - 0s 15ms/step - loss: 10.3267 - mae: 10.3267\n",
            "Epoch 52/100\n",
            "1/1 [==============================] - 0s 20ms/step - loss: 10.2523 - mae: 10.2523\n",
            "Epoch 53/100\n",
            "1/1 [==============================] - 0s 14ms/step - loss: 10.1774 - mae: 10.1774\n",
            "Epoch 54/100\n",
            "1/1 [==============================] - 0s 18ms/step - loss: 10.1022 - mae: 10.1022\n",
            "Epoch 55/100\n",
            "1/1 [==============================] - 0s 12ms/step - loss: 10.0266 - mae: 10.0266\n",
            "Epoch 56/100\n",
            "1/1 [==============================] - 0s 12ms/step - loss: 9.9506 - mae: 9.9506\n",
            "Epoch 57/100\n",
            "1/1 [==============================] - 0s 12ms/step - loss: 9.8743 - mae: 9.8743\n",
            "Epoch 58/100\n",
            "1/1 [==============================] - 0s 12ms/step - loss: 9.7975 - mae: 9.7975\n",
            "Epoch 59/100\n",
            "1/1 [==============================] - 0s 20ms/step - loss: 9.7203 - mae: 9.7203\n",
            "Epoch 60/100\n",
            "1/1 [==============================] - 0s 14ms/step - loss: 9.6427 - mae: 9.6427\n",
            "Epoch 61/100\n",
            "1/1 [==============================] - 0s 15ms/step - loss: 9.5647 - mae: 9.5647\n",
            "Epoch 62/100\n",
            "1/1 [==============================] - 0s 11ms/step - loss: 9.4862 - mae: 9.4862\n",
            "Epoch 63/100\n",
            "1/1 [==============================] - 0s 11ms/step - loss: 9.4073 - mae: 9.4073\n",
            "Epoch 64/100\n",
            "1/1 [==============================] - 0s 11ms/step - loss: 9.3280 - mae: 9.3280\n",
            "Epoch 65/100\n",
            "1/1 [==============================] - 0s 11ms/step - loss: 9.2482 - mae: 9.2482\n",
            "Epoch 66/100\n",
            "1/1 [==============================] - 0s 13ms/step - loss: 9.1680 - mae: 9.1680\n",
            "Epoch 67/100\n",
            "1/1 [==============================] - 0s 11ms/step - loss: 9.0873 - mae: 9.0873\n",
            "Epoch 68/100\n",
            "1/1 [==============================] - 0s 13ms/step - loss: 9.0062 - mae: 9.0062\n",
            "Epoch 69/100\n",
            "1/1 [==============================] - 0s 12ms/step - loss: 8.9245 - mae: 8.9245\n",
            "Epoch 70/100\n",
            "1/1 [==============================] - 0s 12ms/step - loss: 8.8425 - mae: 8.8425\n",
            "Epoch 71/100\n",
            "1/1 [==============================] - 0s 12ms/step - loss: 8.7599 - mae: 8.7599\n",
            "Epoch 72/100\n",
            "1/1 [==============================] - 0s 13ms/step - loss: 8.6768 - mae: 8.6768\n",
            "Epoch 73/100\n",
            "1/1 [==============================] - 0s 12ms/step - loss: 8.5933 - mae: 8.5933\n",
            "Epoch 74/100\n",
            "1/1 [==============================] - 0s 12ms/step - loss: 8.5092 - mae: 8.5092\n",
            "Epoch 75/100\n",
            "1/1 [==============================] - 0s 12ms/step - loss: 8.4247 - mae: 8.4247\n",
            "Epoch 76/100\n",
            "1/1 [==============================] - 0s 12ms/step - loss: 8.3396 - mae: 8.3396\n",
            "Epoch 77/100\n",
            "1/1 [==============================] - 0s 13ms/step - loss: 8.2541 - mae: 8.2541\n",
            "Epoch 78/100\n",
            "1/1 [==============================] - 0s 12ms/step - loss: 8.1680 - mae: 8.1680\n",
            "Epoch 79/100\n",
            "1/1 [==============================] - 0s 12ms/step - loss: 8.0814 - mae: 8.0814\n",
            "Epoch 80/100\n",
            "1/1 [==============================] - 0s 12ms/step - loss: 7.9942 - mae: 7.9942\n",
            "Epoch 81/100\n",
            "1/1 [==============================] - 0s 12ms/step - loss: 7.9066 - mae: 7.9066\n",
            "Epoch 82/100\n",
            "1/1 [==============================] - 0s 13ms/step - loss: 7.8184 - mae: 7.8184\n",
            "Epoch 83/100\n",
            "1/1 [==============================] - 0s 13ms/step - loss: 7.7296 - mae: 7.7296\n",
            "Epoch 84/100\n",
            "1/1 [==============================] - 0s 12ms/step - loss: 7.6404 - mae: 7.6404\n",
            "Epoch 85/100\n",
            "1/1 [==============================] - 0s 13ms/step - loss: 7.5505 - mae: 7.5505\n",
            "Epoch 86/100\n",
            "1/1 [==============================] - 0s 17ms/step - loss: 7.4601 - mae: 7.4601\n",
            "Epoch 87/100\n",
            "1/1 [==============================] - 0s 17ms/step - loss: 7.3692 - mae: 7.3692\n",
            "Epoch 88/100\n",
            "1/1 [==============================] - 0s 13ms/step - loss: 7.2776 - mae: 7.2776\n",
            "Epoch 89/100\n",
            "1/1 [==============================] - 0s 12ms/step - loss: 7.1856 - mae: 7.1856\n",
            "Epoch 90/100\n",
            "1/1 [==============================] - 0s 12ms/step - loss: 7.0929 - mae: 7.0929\n",
            "Epoch 91/100\n",
            "1/1 [==============================] - 0s 16ms/step - loss: 6.9997 - mae: 6.9997\n",
            "Epoch 92/100\n",
            "1/1 [==============================] - 0s 16ms/step - loss: 6.9058 - mae: 6.9058\n",
            "Epoch 93/100\n",
            "1/1 [==============================] - 0s 12ms/step - loss: 6.8114 - mae: 6.8114\n",
            "Epoch 94/100\n",
            "1/1 [==============================] - 0s 14ms/step - loss: 6.7164 - mae: 6.7164\n",
            "Epoch 95/100\n",
            "1/1 [==============================] - 0s 12ms/step - loss: 6.6531 - mae: 6.6531\n",
            "Epoch 96/100\n",
            "1/1 [==============================] - 0s 14ms/step - loss: 6.6409 - mae: 6.6409\n",
            "Epoch 97/100\n",
            "1/1 [==============================] - 0s 12ms/step - loss: 6.6290 - mae: 6.6290\n",
            "Epoch 98/100\n",
            "1/1 [==============================] - 0s 17ms/step - loss: 6.6174 - mae: 6.6174\n",
            "Epoch 99/100\n",
            "1/1 [==============================] - 0s 13ms/step - loss: 6.6061 - mae: 6.6061\n",
            "Epoch 100/100\n",
            "1/1 [==============================] - 0s 12ms/step - loss: 6.5949 - mae: 6.5949\n"
          ]
        },
        {
          "output_type": "execute_result",
          "data": {
            "text/plain": [
              "<keras.src.callbacks.History at 0x7d396d8e21d0>"
            ]
          },
          "metadata": {},
          "execution_count": 20
        }
      ]
    },
    {
      "cell_type": "code",
      "source": [
        "X, y"
      ],
      "metadata": {
        "colab": {
          "base_uri": "https://localhost:8080/"
        },
        "id": "T3ybXJ7v2cLU",
        "outputId": "c5415f7c-4030-472f-d1e2-7a0f906e92c2"
      },
      "execution_count": 21,
      "outputs": [
        {
          "output_type": "execute_result",
          "data": {
            "text/plain": [
              "(<tf.Tensor: shape=(8,), dtype=float32, numpy=array([-7., -4., -1.,  2.,  5.,  8., 11., 14.], dtype=float32)>,\n",
              " <tf.Tensor: shape=(8,), dtype=float32, numpy=array([ 3.,  6.,  9., 12., 15., 18., 21., 24.], dtype=float32)>)"
            ]
          },
          "metadata": {},
          "execution_count": 21
        }
      ]
    },
    {
      "cell_type": "code",
      "source": [
        "# Let's try to make a prediction\n",
        "model.predict([17.0])"
      ],
      "metadata": {
        "colab": {
          "base_uri": "https://localhost:8080/"
        },
        "id": "OTWEdQJm2wRs",
        "outputId": "225c0a09-92a5-49b1-b307-7db296783a30"
      },
      "execution_count": 22,
      "outputs": [
        {
          "output_type": "stream",
          "name": "stdout",
          "text": [
            "1/1 [==============================] - 0s 85ms/step\n"
          ]
        },
        {
          "output_type": "execute_result",
          "data": {
            "text/plain": [
              "array([[30.836876]], dtype=float32)"
            ]
          },
          "metadata": {},
          "execution_count": 22
        }
      ]
    },
    {
      "cell_type": "markdown",
      "source": [
        "## Evaluating a model\n",
        "\n",
        "In practice, a typical workflow you'll go through when building neural networks is:\n",
        "\n",
        "```\n",
        "Build a model -> fit it -> evaluate it -> tweak a model -> fit it -> evaluate it -> tweak a model -> fit it -> evaluate it...\n",
        "```"
      ],
      "metadata": {
        "id": "7e_jxzni28Nk"
      }
    },
    {
      "cell_type": "markdown",
      "source": [
        "# When it comes to evaluation... there are 3 words you should memorize:\n",
        "\n",
        "> \"Visualize, visualize, visualize\"\n",
        "\n",
        "It's a good idea to visualize:\n",
        "* The data - what data are we working with? What does it look like?\n",
        "* The model itself - what does our model look like?\n",
        "* The training of a model - how does a model perform while it learns?\n",
        "* The predictions of the model - how do the predictions of a model line up against the ground truth (the original labels)?"
      ],
      "metadata": {
        "id": "HXOVp9x8vwOT"
      }
    },
    {
      "cell_type": "code",
      "source": [
        "# Make a bigger dataset\n",
        "X = tf.range(-100.0, 100.0, 4)\n",
        "X"
      ],
      "metadata": {
        "colab": {
          "base_uri": "https://localhost:8080/"
        },
        "id": "A_EqHdM5wWC6",
        "outputId": "b1915164-0b3a-4cf8-cdf5-c15618a2f9b9"
      },
      "execution_count": 23,
      "outputs": [
        {
          "output_type": "execute_result",
          "data": {
            "text/plain": [
              "<tf.Tensor: shape=(50,), dtype=float32, numpy=\n",
              "array([-100.,  -96.,  -92.,  -88.,  -84.,  -80.,  -76.,  -72.,  -68.,\n",
              "        -64.,  -60.,  -56.,  -52.,  -48.,  -44.,  -40.,  -36.,  -32.,\n",
              "        -28.,  -24.,  -20.,  -16.,  -12.,   -8.,   -4.,    0.,    4.,\n",
              "          8.,   12.,   16.,   20.,   24.,   28.,   32.,   36.,   40.,\n",
              "         44.,   48.,   52.,   56.,   60.,   64.,   68.,   72.,   76.,\n",
              "         80.,   84.,   88.,   92.,   96.], dtype=float32)>"
            ]
          },
          "metadata": {},
          "execution_count": 23
        }
      ]
    },
    {
      "cell_type": "code",
      "source": [
        "# Make labels for the dataset\n",
        "y = X + 10\n",
        "y"
      ],
      "metadata": {
        "colab": {
          "base_uri": "https://localhost:8080/"
        },
        "id": "dmGVr8m8zu6C",
        "outputId": "69bd3470-7593-4dd8-cfb2-4634e3156b8d"
      },
      "execution_count": 24,
      "outputs": [
        {
          "output_type": "execute_result",
          "data": {
            "text/plain": [
              "<tf.Tensor: shape=(50,), dtype=float32, numpy=\n",
              "array([-90., -86., -82., -78., -74., -70., -66., -62., -58., -54., -50.,\n",
              "       -46., -42., -38., -34., -30., -26., -22., -18., -14., -10.,  -6.,\n",
              "        -2.,   2.,   6.,  10.,  14.,  18.,  22.,  26.,  30.,  34.,  38.,\n",
              "        42.,  46.,  50.,  54.,  58.,  62.,  66.,  70.,  74.,  78.,  82.,\n",
              "        86.,  90.,  94.,  98., 102., 106.], dtype=float32)>"
            ]
          },
          "metadata": {},
          "execution_count": 24
        }
      ]
    },
    {
      "cell_type": "code",
      "source": [
        "# Visualize the data\n",
        "import matplotlib.pyplot as plt\n",
        "\n",
        "plt.scatter(X, y)"
      ],
      "metadata": {
        "colab": {
          "base_uri": "https://localhost:8080/",
          "height": 448
        },
        "id": "BeHb9sHo0GUZ",
        "outputId": "6a6663c2-9781-4039-b1c3-3b5cbdeb41a1"
      },
      "execution_count": 25,
      "outputs": [
        {
          "output_type": "execute_result",
          "data": {
            "text/plain": [
              "<matplotlib.collections.PathCollection at 0x7d396d8482e0>"
            ]
          },
          "metadata": {},
          "execution_count": 25
        },
        {
          "output_type": "display_data",
          "data": {
            "text/plain": [
              "<Figure size 640x480 with 1 Axes>"
            ],
            "image/png": "[encoded data removed]"
          },
          "metadata": {}
        }
      ]
    },
    {
      "cell_type": "markdown",
      "source": [
        "### The 3 sets...\n",
        "\n",
        "* **Training set** - the model learns from this data, which typically\n",
        "constitutes 70-80% of the total available data.\n",
        "* **Validation set** - the model is fine-tuned on this data, typically representing 10-15% of the available data.\n",
        "* **Test set** - the model is evaluated on this data to assess what it has learned; this set typically accounts for 10-15% of the total available data."
      ],
      "metadata": {
        "id": "afBef0tX0dzJ"
      }
    },
    {
      "cell_type": "code",
      "source": [
        "# Check the length of how many samples we have\n",
        "len(X)"
      ],
      "metadata": {
        "colab": {
          "base_uri": "https://localhost:8080/"
        },
        "id": "JSNYXWyp3q_U",
        "outputId": "445546aa-08b7-4204-e66c-4f6ca2f72d68"
      },
      "execution_count": 26,
      "outputs": [
        {
          "output_type": "execute_result",
          "data": {
            "text/plain": [
              "50"
            ]
          },
          "metadata": {},
          "execution_count": 26
        }
      ]
    },
    {
      "cell_type": "code",
      "source": [
        "# Split the data into train and test sets\n",
        "X_train = X[:40] # first 40 are training samples (80% of the data)\n",
        "y_train = y[:40]\n",
        "\n",
        "X_test = X[40:] # last 10 are testing samples (20% of the data)\n",
        "y_test = y[40:]\n",
        "\n",
        "len(X_train), len(X_test), len(y_train), len(y_test)"
      ],
      "metadata": {
        "colab": {
          "base_uri": "https://localhost:8080/"
        },
        "id": "Qmc2fgys3zwh",
        "outputId": "7d1be9b2-7f62-4bfd-ef2e-9c2dddcab8dd"
      },
      "execution_count": 27,
      "outputs": [
        {
          "output_type": "execute_result",
          "data": {
            "text/plain": [
              "(40, 10, 40, 10)"
            ]
          },
          "metadata": {},
          "execution_count": 27
        }
      ]
    },
    {
      "cell_type": "markdown",
      "source": [
        "### Visualizing the data\n",
        "\n",
        "Now we've got our data in training and test sets... let's visualize it again!"
      ],
      "metadata": {
        "id": "eYzIliLS41KB"
      }
    },
    {
      "cell_type": "code",
      "source": [
        "plt.figure(figsize=(10, 7))\n",
        "# Plot training data in blue\n",
        "plt.scatter(X_train, y_train, c=\"b\", label=\"Training data\")\n",
        "# Plot test data in green\n",
        "plt.scatter(X_test, y_test, c=\"g\", label=\"Testing data\")\n",
        "# Show a legend\n",
        "plt.legend();"
      ],
      "metadata": {
        "colab": {
          "base_uri": "https://localhost:8080/",
          "height": 599
        },
        "id": "kWrb5LB85Csx",
        "outputId": "9f5a5527-68fd-43a9-c018-6d62dec8c9ba"
      },
      "execution_count": 28,
      "outputs": [
        {
          "output_type": "display_data",
          "data": {
            "text/plain": [
              "<Figure size 1000x700 with 1 Axes>"
            ],
            "image/png": "[encoded data removed]"
          },
          "metadata": {}
        }
      ]
    },
    {
      "cell_type": "code",
      "source": [
        "# Let's have a look at how to build a neural network for our data\n",
        "\n",
        "# Create\n",
        "model = tf.keras.Sequential([\n",
        "    tf.keras.layers.Dense(1)\n",
        "])\n",
        "\n",
        "# Compile\n",
        "model.compile(loss=tf.keras.losses.mae,\n",
        "              optimizer=tf.keras.optimizers.SGD(),\n",
        "              metrics=[\"mae\"])\n",
        "\n",
        "# # Fit\n",
        "# model.fit(tf.expand_dims(X, axis=-1), y, epochs=100)"
      ],
      "metadata": {
        "id": "nfK2nyYa6XA5"
      },
      "execution_count": 29,
      "outputs": []
    },
    {
      "cell_type": "markdown",
      "source": [
        "### Visualizing the model"
      ],
      "metadata": {
        "id": "GQ11qyS2TzYg"
      }
    },
    {
      "cell_type": "code",
      "source": [
        "model.summary()"
      ],
      "metadata": {
        "id": "T_7oaThbhCtd",
        "outputId": "63065b63-b959-494a-96b5-d9564d892284",
        "colab": {
          "base_uri": "https://localhost:8080/",
          "height": 305
        }
      },
      "execution_count": 30,
      "outputs": [
        {
          "output_type": "error",
          "ename": "ValueError",
          "evalue": "This model has not yet been built. Build the model first by calling `build()` or by calling the model on a batch of data.",
          "traceback": [
            "\u001b[0;31m---------------------------------------------------------------------------\u001b[0m",
            "\u001b[0;31mValueError\u001b[0m                                Traceback (most recent call last)",
            "\u001b[0;32m<ipython-input-30-5f15418b3570>\u001b[0m in \u001b[0;36m<cell line: 1>\u001b[0;34m()\u001b[0m\n\u001b[0;32m----> 1\u001b[0;31m \u001b[0mmodel\u001b[0m\u001b[0;34m.\u001b[0m\u001b[0msummary\u001b[0m\u001b[0;34m(\u001b[0m\u001b[0;34m)\u001b[0m\u001b[0;34m\u001b[0m\u001b[0;34m\u001b[0m\u001b[0m\n\u001b[0m",
            "\u001b[0;32m/usr/local/lib/python3.10/dist-packages/keras/src/engine/training.py\u001b[0m in \u001b[0;36msummary\u001b[0;34m(self, line_length, positions, print_fn, expand_nested, show_trainable, layer_range)\u001b[0m\n\u001b[1;32m   3504\u001b[0m         \"\"\"\n\u001b[1;32m   3505\u001b[0m         \u001b[0;32mif\u001b[0m \u001b[0;32mnot\u001b[0m \u001b[0mself\u001b[0m\u001b[0;34m.\u001b[0m\u001b[0mbuilt\u001b[0m\u001b[0;34m:\u001b[0m\u001b[0;34m\u001b[0m\u001b[0;34m\u001b[0m\u001b[0m\n\u001b[0;32m-> 3506\u001b[0;31m             raise ValueError(\n\u001b[0m\u001b[1;32m   3507\u001b[0m                 \u001b[0;34m\"This model has not yet been built. \"\u001b[0m\u001b[0;34m\u001b[0m\u001b[0;34m\u001b[0m\u001b[0m\n\u001b[1;32m   3508\u001b[0m                 \u001b[0;34m\"Build the model first by calling `build()` or by calling \"\u001b[0m\u001b[0;34m\u001b[0m\u001b[0;34m\u001b[0m\u001b[0m\n",
            "\u001b[0;31mValueError\u001b[0m: This model has not yet been built. Build the model first by calling `build()` or by calling the model on a batch of data."
          ]
        }
      ]
    },
    {
      "cell_type": "code",
      "source": [
        "# Let's create a model which builds automatically by defining the input_shape argument in the first layer\n",
        "tf.random.set_seed(42)\n",
        "\n",
        "# Create\n",
        "model = tf.keras.Sequential([\n",
        "    tf.keras.layers.Dense(10, name=\"input_layer1\"),\n",
        "    tf.keras.layers.Dense(10, name=\"input_layer2\"),\n",
        "    tf.keras.layers.Dense(1, name=\"output_layer\")\n",
        "], name=\"model_1\")\n",
        "\n",
        "# Compile\n",
        "model.compile(loss=tf.keras.losses.mae,\n",
        "              optimizer=tf.keras.optimizers.SGD(),\n",
        "              metrics=[\"mae\"])"
      ],
      "metadata": {
        "id": "_PFAEPICsrOQ"
      },
      "execution_count": 32,
      "outputs": []
    },
    {
      "cell_type": "markdown",
      "source": [
        "* Total params - total number of parameters in the model.\n",
        "* Trainable parameters -these are the parameters (patterns) the model can update as it trains.\n",
        "* Non-trainable params - these parameters aren't updated during training (this is typical when you bring in already learn patterns or parameters from other models during **transfer learning**).\n",
        "\n"
      ],
      "metadata": {
        "id": "NFWq2l3zukOL"
      }
    },
    {
      "cell_type": "code",
      "source": [
        "model.fit(tf.expand_dims(X, axis=-1), y, epochs=100, verbose=0)"
      ],
      "metadata": {
        "colab": {
          "base_uri": "https://localhost:8080/"
        },
        "id": "ryH0ETZWymaW",
        "outputId": "e4f850ad-74ef-4e5d-cbd4-5559d7536890"
      },
      "execution_count": 33,
      "outputs": [
        {
          "output_type": "execute_result",
          "data": {
            "text/plain": [
              "<keras.src.callbacks.History at 0x7d396d7431c0>"
            ]
          },
          "metadata": {},
          "execution_count": 33
        }
      ]
    },
    {
      "cell_type": "code",
      "source": [
        "# Get a summary of our model\n",
        "model.summary()"
      ],
      "metadata": {
        "colab": {
          "base_uri": "https://localhost:8080/"
        },
        "id": "ND2jU4c5EQHV",
        "outputId": "f822c507-5bf9-4d05-fb71-1175a07ca553"
      },
      "execution_count": 34,
      "outputs": [
        {
          "output_type": "stream",
          "name": "stdout",
          "text": [
            "Model: \"model_1\"\n",
            "_________________________________________________________________\n",
            " Layer (type)                Output Shape              Param #   \n",
            "=================================================================\n",
            " input_layer1 (Dense)        (None, 10)                20        \n",
            "                                                                 \n",
            " input_layer2 (Dense)        (None, 10)                110       \n",
            "                                                                 \n",
            " output_layer (Dense)        (None, 1)                 11        \n",
            "                                                                 \n",
            "=================================================================\n",
            "Total params: 141 (564.00 Byte)\n",
            "Trainable params: 141 (564.00 Byte)\n",
            "Non-trainable params: 0 (0.00 Byte)\n",
            "_________________________________________________________________\n"
          ]
        }
      ]
    },
    {
      "cell_type": "code",
      "source": [
        "from tensorflow.keras.utils import plot_model\n",
        "\n",
        "plot_model(model=model, show_shapes=True)"
      ],
      "metadata": {
        "colab": {
          "base_uri": "https://localhost:8080/",
          "height": 422
        },
        "id": "AUCH60ppETLA",
        "outputId": "d705c602-11cf-48bc-84b1-b995bc589d63"
      },
      "execution_count": 35,
      "outputs": [
        {
          "output_type": "execute_result",
          "data": {
            "image/png": "[encoded data removed]",
            "text/plain": [
              "<IPython.core.display.Image object>"
            ]
          },
          "metadata": {},
          "execution_count": 35
        }
      ]
    },
    {
      "cell_type": "markdown",
      "source": [
        "### Visualize our model's predictions\n",
        "To visualize predictions, it's a good idea to plot them against the ground truth labels.\n",
        "\n",
        "Often you'll see this in the form of `y_test` or `y_true`\n",
        "versus `y_pred` (ground truth versus your model's predictions)."
      ],
      "metadata": {
        "id": "Bx9CckOTFIgZ"
      }
    },
    {
      "cell_type": "code",
      "source": [
        "# Make some predictions\n",
        "y_pred = model.predict(X_test)\n",
        "y_pred"
      ],
      "metadata": {
        "id": "sx4TwVJBn2CY",
        "outputId": "a933aed9-e476-4b9c-fd0e-17b3efebebed",
        "colab": {
          "base_uri": "https://localhost:8080/"
        }
      },
      "execution_count": 36,
      "outputs": [
        {
          "output_type": "stream",
          "name": "stderr",
          "text": [
            "WARNING:tensorflow:5 out of the last 5 calls to <function Model.make_predict_function.<locals>.predict_function at 0x7d396d5ab520> triggered tf.function retracing. Tracing is expensive and the excessive number of tracings could be due to (1) creating @tf.function repeatedly in a loop, (2) passing tensors with different shapes, (3) passing Python objects instead of tensors. For (1), please define your @tf.function outside of the loop. For (2), @tf.function has reduce_retracing=True option that can avoid unnecessary retracing. For (3), please refer to https://www.tensorflow.org/guide/function#controlling_retracing and https://www.tensorflow.org/api_docs/python/tf/function for  more details.\n"
          ]
        },
        {
          "output_type": "stream",
          "name": "stdout",
          "text": [
            "1/1 [==============================] - 0s 69ms/step\n"
          ]
        },
        {
          "output_type": "execute_result",
          "data": {
            "text/plain": [
              "array([[114.89788],\n",
              "       [122.44016],\n",
              "       [129.98244],\n",
              "       [137.52472],\n",
              "       [145.067  ],\n",
              "       [152.60927],\n",
              "       [160.15154],\n",
              "       [167.69383],\n",
              "       [175.2361 ],\n",
              "       [182.7784 ]], dtype=float32)"
            ]
          },
          "metadata": {},
          "execution_count": 36
        }
      ]
    },
    {
      "cell_type": "code",
      "source": [
        "y_test"
      ],
      "metadata": {
        "id": "jWDHrOSwoD6n",
        "outputId": "d9ae30fb-1f03-4b07-b141-450ccf119aaf",
        "colab": {
          "base_uri": "https://localhost:8080/"
        }
      },
      "execution_count": 37,
      "outputs": [
        {
          "output_type": "execute_result",
          "data": {
            "text/plain": [
              "<tf.Tensor: shape=(10,), dtype=float32, numpy=\n",
              "array([ 70.,  74.,  78.,  82.,  86.,  90.,  94.,  98., 102., 106.],\n",
              "      dtype=float32)>"
            ]
          },
          "metadata": {},
          "execution_count": 37
        }
      ]
    },
    {
      "cell_type": "code",
      "source": [
        " # Let's create a plotting function\n",
        "def plot_predictions(training_data=X_train,\n",
        "                      training_labels=y_train,\n",
        "                      test_data=X_test,\n",
        "                      test_labels=y_test,\n",
        "                      predictions=y_pred):\n",
        "   \"\"\"\n",
        "   Plots training data, test data and compares predictions to ground truth labels.\n",
        "   \"\"\"\n",
        "\n",
        "   plt.figure(figsize=(10, 7))\n",
        "   # Plot training data in blue\n",
        "   plt.scatter(training_data, training_labels, c='b', label=\"Training data\")\n",
        "   # Plot testing data in green\n",
        "   plt.scatter(test_data,test_labels, c='g', label=\"Testing data\")\n",
        "   #Plot model's predictions in red\n",
        "   plt.scatter(test_data, predictions, c='r', label=\"Predictions\")\n",
        "   # Show the legend\n",
        "   plt.legend();"
      ],
      "metadata": {
        "id": "R6UaFdxAoLZC"
      },
      "execution_count": 38,
      "outputs": []
    },
    {
      "cell_type": "code",
      "source": [
        "# Split the data into train and test sets\n",
        "X_train = X[:40] # first 40 are training samples (80% of the data)\n",
        "y_train = y[:40]\n",
        "\n",
        "X_test = X[40:] # last 10 are testing samples (20% of the data)\n",
        "y_test = y[40:]\n",
        "\n",
        "\n",
        "len(X_train), len(X_test), len(y_train), len(y_test)"
      ],
      "metadata": {
        "outputId": "6cb33b93-e33b-4de5-b850-ca25f3b3fd92",
        "colab": {
          "base_uri": "https://localhost:8080/"
        },
        "id": "hNtMnnS4ooKi"
      },
      "execution_count": 39,
      "outputs": [
        {
          "output_type": "execute_result",
          "data": {
            "text/plain": [
              "(40, 10, 40, 10)"
            ]
          },
          "metadata": {},
          "execution_count": 39
        }
      ]
    },
    {
      "cell_type": "code",
      "source": [
        "# Let's create a model which builds automatically by defining the input_shape argument in the first layer\n",
        "tf.random.set_seed(42)\n",
        "\n",
        "# Create\n",
        "model2 = tf.keras.Sequential([\n",
        "    tf.keras.layers.Dense(17, name=\"input_layer0\"),\n",
        "    tf.keras.layers.Dense(15, name=\"input_layer1\"),\n",
        "    tf.keras.layers.Dense(13, name=\"input_layer2\"),\n",
        "    tf.keras.layers.Dense(1, name=\"output_layer\")\n",
        "], name=\"model_2\")\n",
        "\n",
        "# Compile\n",
        "model2.compile(loss=tf.keras.losses.mae,\n",
        "               optimizer=tf.keras.optimizers.Adam(learning_rate=0.001),\n",
        "              metrics=[\"mae\"])\n",
        "\n",
        "# fit\n",
        "model2.fit(tf.expand_dims(X, axis=-1), y, epochs=190, verbose=1)"
      ],
      "metadata": {
        "colab": {
          "base_uri": "https://localhost:8080/"
        },
        "id": "dFC0EH20mfq4",
        "outputId": "882b9c2a-f1a6-444b-a7e2-b97654853053"
      },
      "execution_count": 40,
      "outputs": [
        {
          "output_type": "stream",
          "name": "stdout",
          "text": [
            "Epoch 1/190\n",
            "2/2 [==============================] - 1s 19ms/step - loss: 28.3104 - mae: 28.3104\n",
            "Epoch 2/190\n",
            "2/2 [==============================] - 0s 13ms/step - loss: 24.7047 - mae: 24.7047\n",
            "Epoch 3/190\n",
            "2/2 [==============================] - 0s 18ms/step - loss: 21.6180 - mae: 21.6180\n",
            "Epoch 4/190\n",
            "2/2 [==============================] - 0s 11ms/step - loss: 18.2924 - mae: 18.2924\n",
            "Epoch 5/190\n",
            "2/2 [==============================] - 0s 10ms/step - loss: 15.0524 - mae: 15.0524\n",
            "Epoch 6/190\n",
            "2/2 [==============================] - 0s 10ms/step - loss: 12.1000 - mae: 12.1000\n",
            "Epoch 7/190\n",
            "2/2 [==============================] - 0s 15ms/step - loss: 9.9396 - mae: 9.9396\n",
            "Epoch 8/190\n",
            "2/2 [==============================] - 0s 9ms/step - loss: 9.6530 - mae: 9.6530\n",
            "Epoch 9/190\n",
            "2/2 [==============================] - 0s 10ms/step - loss: 9.8917 - mae: 9.8917\n",
            "Epoch 10/190\n",
            "2/2 [==============================] - 0s 13ms/step - loss: 9.8852 - mae: 9.8852\n",
            "Epoch 11/190\n",
            "2/2 [==============================] - 0s 14ms/step - loss: 9.9458 - mae: 9.9458\n",
            "Epoch 12/190\n",
            "2/2 [==============================] - 0s 13ms/step - loss: 10.1509 - mae: 10.1509\n",
            "Epoch 13/190\n",
            "2/2 [==============================] - 0s 12ms/step - loss: 10.4865 - mae: 10.4865\n",
            "Epoch 14/190\n",
            "2/2 [==============================] - 0s 14ms/step - loss: 10.4841 - mae: 10.4841\n",
            "Epoch 15/190\n",
            "2/2 [==============================] - 0s 14ms/step - loss: 10.1362 - mae: 10.1362\n",
            "Epoch 16/190\n",
            "2/2 [==============================] - 0s 11ms/step - loss: 9.9640 - mae: 9.9640\n",
            "Epoch 17/190\n",
            "2/2 [==============================] - 0s 10ms/step - loss: 9.7810 - mae: 9.7810\n",
            "Epoch 18/190\n",
            "2/2 [==============================] - 0s 10ms/step - loss: 9.7447 - mae: 9.7447\n",
            "Epoch 19/190\n",
            "2/2 [==============================] - 0s 12ms/step - loss: 9.6711 - mae: 9.6711\n",
            "Epoch 20/190\n",
            "2/2 [==============================] - 0s 19ms/step - loss: 9.5908 - mae: 9.5908\n",
            "Epoch 21/190\n",
            "2/2 [==============================] - 0s 17ms/step - loss: 9.6832 - mae: 9.6832\n",
            "Epoch 22/190\n",
            "2/2 [==============================] - 0s 13ms/step - loss: 9.5264 - mae: 9.5264\n",
            "Epoch 23/190\n",
            "2/2 [==============================] - 0s 12ms/step - loss: 9.5222 - mae: 9.5222\n",
            "Epoch 24/190\n",
            "2/2 [==============================] - 0s 17ms/step - loss: 9.4561 - mae: 9.4561\n",
            "Epoch 25/190\n",
            "2/2 [==============================] - 0s 15ms/step - loss: 9.3938 - mae: 9.3938\n",
            "Epoch 26/190\n",
            "2/2 [==============================] - 0s 11ms/step - loss: 9.3812 - mae: 9.3812\n",
            "Epoch 27/190\n",
            "2/2 [==============================] - 0s 8ms/step - loss: 9.3203 - mae: 9.3203\n",
            "Epoch 28/190\n",
            "2/2 [==============================] - 0s 9ms/step - loss: 9.2850 - mae: 9.2850\n",
            "Epoch 29/190\n",
            "2/2 [==============================] - 0s 9ms/step - loss: 9.2505 - mae: 9.2505\n",
            "Epoch 30/190\n",
            "2/2 [==============================] - 0s 12ms/step - loss: 9.2289 - mae: 9.2289\n",
            "Epoch 31/190\n",
            "2/2 [==============================] - 0s 9ms/step - loss: 9.1762 - mae: 9.1762\n",
            "Epoch 32/190\n",
            "2/2 [==============================] - 0s 9ms/step - loss: 9.1723 - mae: 9.1723\n",
            "Epoch 33/190\n",
            "2/2 [==============================] - 0s 10ms/step - loss: 9.1726 - mae: 9.1726\n",
            "Epoch 34/190\n",
            "2/2 [==============================] - 0s 9ms/step - loss: 9.1440 - mae: 9.1440\n",
            "Epoch 35/190\n",
            "2/2 [==============================] - 0s 9ms/step - loss: 9.1046 - mae: 9.1046\n",
            "Epoch 36/190\n",
            "2/2 [==============================] - 0s 10ms/step - loss: 9.0714 - mae: 9.0714\n",
            "Epoch 37/190\n",
            "2/2 [==============================] - 0s 10ms/step - loss: 9.0434 - mae: 9.0434\n",
            "Epoch 38/190\n",
            "2/2 [==============================] - 0s 12ms/step - loss: 9.0206 - mae: 9.0206\n",
            "Epoch 39/190\n",
            "2/2 [==============================] - 0s 15ms/step - loss: 9.0138 - mae: 9.0138\n",
            "Epoch 40/190\n",
            "2/2 [==============================] - 0s 22ms/step - loss: 8.9735 - mae: 8.9735\n",
            "Epoch 41/190\n",
            "2/2 [==============================] - 0s 10ms/step - loss: 8.9662 - mae: 8.9662\n",
            "Epoch 42/190\n",
            "2/2 [==============================] - 0s 13ms/step - loss: 8.9290 - mae: 8.9290\n",
            "Epoch 43/190\n",
            "2/2 [==============================] - 0s 9ms/step - loss: 8.9065 - mae: 8.9065\n",
            "Epoch 44/190\n",
            "2/2 [==============================] - 0s 16ms/step - loss: 8.8893 - mae: 8.8893\n",
            "Epoch 45/190\n",
            "2/2 [==============================] - 0s 11ms/step - loss: 8.8840 - mae: 8.8840\n",
            "Epoch 46/190\n",
            "2/2 [==============================] - 0s 9ms/step - loss: 8.8506 - mae: 8.8506\n",
            "Epoch 47/190\n",
            "2/2 [==============================] - 0s 13ms/step - loss: 8.8231 - mae: 8.8231\n",
            "Epoch 48/190\n",
            "2/2 [==============================] - 0s 10ms/step - loss: 8.8063 - mae: 8.8063\n",
            "Epoch 49/190\n",
            "2/2 [==============================] - 0s 10ms/step - loss: 8.7882 - mae: 8.7882\n",
            "Epoch 50/190\n",
            "2/2 [==============================] - 0s 10ms/step - loss: 8.7597 - mae: 8.7597\n",
            "Epoch 51/190\n",
            "2/2 [==============================] - 0s 11ms/step - loss: 8.7204 - mae: 8.7204\n",
            "Epoch 52/190\n",
            "2/2 [==============================] - 0s 10ms/step - loss: 8.6992 - mae: 8.6992\n",
            "Epoch 53/190\n",
            "2/2 [==============================] - 0s 9ms/step - loss: 8.6725 - mae: 8.6725\n",
            "Epoch 54/190\n",
            "2/2 [==============================] - 0s 12ms/step - loss: 8.6484 - mae: 8.6484\n",
            "Epoch 55/190\n",
            "2/2 [==============================] - 0s 13ms/step - loss: 8.6393 - mae: 8.6393\n",
            "Epoch 56/190\n",
            "2/2 [==============================] - 0s 13ms/step - loss: 8.6050 - mae: 8.6050\n",
            "Epoch 57/190\n",
            "2/2 [==============================] - 0s 10ms/step - loss: 8.5965 - mae: 8.5965\n",
            "Epoch 58/190\n",
            "2/2 [==============================] - 0s 10ms/step - loss: 8.5509 - mae: 8.5509\n",
            "Epoch 59/190\n",
            "2/2 [==============================] - 0s 14ms/step - loss: 8.5373 - mae: 8.5373\n",
            "Epoch 60/190\n",
            "2/2 [==============================] - 0s 11ms/step - loss: 8.5308 - mae: 8.5308\n",
            "Epoch 61/190\n",
            "2/2 [==============================] - 0s 13ms/step - loss: 8.4806 - mae: 8.4806\n",
            "Epoch 62/190\n",
            "2/2 [==============================] - 0s 13ms/step - loss: 8.4634 - mae: 8.4634\n",
            "Epoch 63/190\n",
            "2/2 [==============================] - 0s 16ms/step - loss: 8.4307 - mae: 8.4307\n",
            "Epoch 64/190\n",
            "2/2 [==============================] - 0s 10ms/step - loss: 8.4124 - mae: 8.4124\n",
            "Epoch 65/190\n",
            "2/2 [==============================] - 0s 10ms/step - loss: 8.3976 - mae: 8.3976\n",
            "Epoch 66/190\n",
            "2/2 [==============================] - 0s 8ms/step - loss: 8.3715 - mae: 8.3715\n",
            "Epoch 67/190\n",
            "2/2 [==============================] - 0s 15ms/step - loss: 8.3458 - mae: 8.3458\n",
            "Epoch 68/190\n",
            "2/2 [==============================] - 0s 10ms/step - loss: 8.3208 - mae: 8.3208\n",
            "Epoch 69/190\n",
            "2/2 [==============================] - 0s 13ms/step - loss: 8.2912 - mae: 8.2912\n",
            "Epoch 70/190\n",
            "2/2 [==============================] - 0s 10ms/step - loss: 8.2799 - mae: 8.2799\n",
            "Epoch 71/190\n",
            "2/2 [==============================] - 0s 12ms/step - loss: 8.2329 - mae: 8.2329\n",
            "Epoch 72/190\n",
            "2/2 [==============================] - 0s 9ms/step - loss: 8.2133 - mae: 8.2133\n",
            "Epoch 73/190\n",
            "2/2 [==============================] - 0s 10ms/step - loss: 8.1897 - mae: 8.1897\n",
            "Epoch 74/190\n",
            "2/2 [==============================] - 0s 10ms/step - loss: 8.1681 - mae: 8.1681\n",
            "Epoch 75/190\n",
            "2/2 [==============================] - 0s 9ms/step - loss: 8.1203 - mae: 8.1203\n",
            "Epoch 76/190\n",
            "2/2 [==============================] - 0s 10ms/step - loss: 8.1228 - mae: 8.1228\n",
            "Epoch 77/190\n",
            "2/2 [==============================] - 0s 11ms/step - loss: 8.0875 - mae: 8.0875\n",
            "Epoch 78/190\n",
            "2/2 [==============================] - 0s 12ms/step - loss: 8.0633 - mae: 8.0633\n",
            "Epoch 79/190\n",
            "2/2 [==============================] - 0s 12ms/step - loss: 8.0459 - mae: 8.0459\n",
            "Epoch 80/190\n",
            "2/2 [==============================] - 0s 11ms/step - loss: 8.0029 - mae: 8.0029\n",
            "Epoch 81/190\n",
            "2/2 [==============================] - 0s 12ms/step - loss: 7.9659 - mae: 7.9659\n",
            "Epoch 82/190\n",
            "2/2 [==============================] - 0s 11ms/step - loss: 7.9188 - mae: 7.9188\n",
            "Epoch 83/190\n",
            "2/2 [==============================] - 0s 10ms/step - loss: 7.9070 - mae: 7.9070\n",
            "Epoch 84/190\n",
            "2/2 [==============================] - 0s 11ms/step - loss: 7.9003 - mae: 7.9003\n",
            "Epoch 85/190\n",
            "2/2 [==============================] - 0s 10ms/step - loss: 7.8412 - mae: 7.8412\n",
            "Epoch 86/190\n",
            "2/2 [==============================] - 0s 11ms/step - loss: 7.8046 - mae: 7.8046\n",
            "Epoch 87/190\n",
            "2/2 [==============================] - 0s 12ms/step - loss: 7.7836 - mae: 7.7836\n",
            "Epoch 88/190\n",
            "2/2 [==============================] - 0s 11ms/step - loss: 7.7674 - mae: 7.7674\n",
            "Epoch 89/190\n",
            "2/2 [==============================] - 0s 11ms/step - loss: 7.7443 - mae: 7.7443\n",
            "Epoch 90/190\n",
            "2/2 [==============================] - 0s 11ms/step - loss: 7.7212 - mae: 7.7212\n",
            "Epoch 91/190\n",
            "2/2 [==============================] - 0s 11ms/step - loss: 7.6963 - mae: 7.6963\n",
            "Epoch 92/190\n",
            "2/2 [==============================] - 0s 14ms/step - loss: 7.6689 - mae: 7.6689\n",
            "Epoch 93/190\n",
            "2/2 [==============================] - 0s 11ms/step - loss: 7.6785 - mae: 7.6785\n",
            "Epoch 94/190\n",
            "2/2 [==============================] - 0s 10ms/step - loss: 7.6105 - mae: 7.6105\n",
            "Epoch 95/190\n",
            "2/2 [==============================] - 0s 10ms/step - loss: 7.5662 - mae: 7.5662\n",
            "Epoch 96/190\n",
            "2/2 [==============================] - 0s 10ms/step - loss: 7.5207 - mae: 7.5207\n",
            "Epoch 97/190\n",
            "2/2 [==============================] - 0s 11ms/step - loss: 7.5037 - mae: 7.5037\n",
            "Epoch 98/190\n",
            "2/2 [==============================] - 0s 11ms/step - loss: 7.4263 - mae: 7.4263\n",
            "Epoch 99/190\n",
            "2/2 [==============================] - 0s 10ms/step - loss: 7.3803 - mae: 7.3803\n",
            "Epoch 100/190\n",
            "2/2 [==============================] - 0s 10ms/step - loss: 7.3502 - mae: 7.3502\n",
            "Epoch 101/190\n",
            "2/2 [==============================] - 0s 11ms/step - loss: 7.3316 - mae: 7.3316\n",
            "Epoch 102/190\n",
            "2/2 [==============================] - 0s 10ms/step - loss: 7.2853 - mae: 7.2853\n",
            "Epoch 103/190\n",
            "2/2 [==============================] - 0s 10ms/step - loss: 7.2315 - mae: 7.2315\n",
            "Epoch 104/190\n",
            "2/2 [==============================] - 0s 10ms/step - loss: 7.2013 - mae: 7.2013\n",
            "Epoch 105/190\n",
            "2/2 [==============================] - 0s 10ms/step - loss: 7.1706 - mae: 7.1706\n",
            "Epoch 106/190\n",
            "2/2 [==============================] - 0s 10ms/step - loss: 7.1587 - mae: 7.1587\n",
            "Epoch 107/190\n",
            "2/2 [==============================] - 0s 10ms/step - loss: 7.0708 - mae: 7.0708\n",
            "Epoch 108/190\n",
            "2/2 [==============================] - 0s 11ms/step - loss: 7.0265 - mae: 7.0265\n",
            "Epoch 109/190\n",
            "2/2 [==============================] - 0s 12ms/step - loss: 6.9890 - mae: 6.9890\n",
            "Epoch 110/190\n",
            "2/2 [==============================] - 0s 12ms/step - loss: 6.9633 - mae: 6.9633\n",
            "Epoch 111/190\n",
            "2/2 [==============================] - 0s 12ms/step - loss: 6.9194 - mae: 6.9194\n",
            "Epoch 112/190\n",
            "2/2 [==============================] - 0s 11ms/step - loss: 6.8812 - mae: 6.8812\n",
            "Epoch 113/190\n",
            "2/2 [==============================] - 0s 11ms/step - loss: 6.8695 - mae: 6.8695\n",
            "Epoch 114/190\n",
            "2/2 [==============================] - 0s 12ms/step - loss: 6.8098 - mae: 6.8098\n",
            "Epoch 115/190\n",
            "2/2 [==============================] - 0s 10ms/step - loss: 6.7529 - mae: 6.7529\n",
            "Epoch 116/190\n",
            "2/2 [==============================] - 0s 10ms/step - loss: 6.7000 - mae: 6.7000\n",
            "Epoch 117/190\n",
            "2/2 [==============================] - 0s 11ms/step - loss: 6.6436 - mae: 6.6436\n",
            "Epoch 118/190\n",
            "2/2 [==============================] - 0s 13ms/step - loss: 6.5763 - mae: 6.5763\n",
            "Epoch 119/190\n",
            "2/2 [==============================] - 0s 13ms/step - loss: 6.6010 - mae: 6.6010\n",
            "Epoch 120/190\n",
            "2/2 [==============================] - 0s 12ms/step - loss: 6.5092 - mae: 6.5092\n",
            "Epoch 121/190\n",
            "2/2 [==============================] - 0s 10ms/step - loss: 6.4092 - mae: 6.4092\n",
            "Epoch 122/190\n",
            "2/2 [==============================] - 0s 12ms/step - loss: 6.3396 - mae: 6.3396\n",
            "Epoch 123/190\n",
            "2/2 [==============================] - 0s 11ms/step - loss: 6.3144 - mae: 6.3144\n",
            "Epoch 124/190\n",
            "2/2 [==============================] - 0s 16ms/step - loss: 6.3756 - mae: 6.3756\n",
            "Epoch 125/190\n",
            "2/2 [==============================] - 0s 17ms/step - loss: 6.2709 - mae: 6.2709\n",
            "Epoch 126/190\n",
            "2/2 [==============================] - 0s 14ms/step - loss: 6.2229 - mae: 6.2229\n",
            "Epoch 127/190\n",
            "2/2 [==============================] - 0s 12ms/step - loss: 6.1722 - mae: 6.1722\n",
            "Epoch 128/190\n",
            "2/2 [==============================] - 0s 14ms/step - loss: 6.1180 - mae: 6.1180\n",
            "Epoch 129/190\n",
            "2/2 [==============================] - 0s 14ms/step - loss: 6.0649 - mae: 6.0649\n",
            "Epoch 130/190\n",
            "2/2 [==============================] - 0s 12ms/step - loss: 6.0007 - mae: 6.0007\n",
            "Epoch 131/190\n",
            "2/2 [==============================] - 0s 11ms/step - loss: 5.9291 - mae: 5.9291\n",
            "Epoch 132/190\n",
            "2/2 [==============================] - 0s 12ms/step - loss: 5.8823 - mae: 5.8823\n",
            "Epoch 133/190\n",
            "2/2 [==============================] - 0s 13ms/step - loss: 5.7967 - mae: 5.7967\n",
            "Epoch 134/190\n",
            "2/2 [==============================] - 0s 14ms/step - loss: 5.6971 - mae: 5.6971\n",
            "Epoch 135/190\n",
            "2/2 [==============================] - 0s 14ms/step - loss: 5.6224 - mae: 5.6224\n",
            "Epoch 136/190\n",
            "2/2 [==============================] - 0s 13ms/step - loss: 5.5449 - mae: 5.5449\n",
            "Epoch 137/190\n",
            "2/2 [==============================] - 0s 21ms/step - loss: 5.4700 - mae: 5.4700\n",
            "Epoch 138/190\n",
            "2/2 [==============================] - 0s 13ms/step - loss: 5.4179 - mae: 5.4179\n",
            "Epoch 139/190\n",
            "2/2 [==============================] - 0s 12ms/step - loss: 5.2760 - mae: 5.2760\n",
            "Epoch 140/190\n",
            "2/2 [==============================] - 0s 11ms/step - loss: 5.1717 - mae: 5.1717\n",
            "Epoch 141/190\n",
            "2/2 [==============================] - 0s 13ms/step - loss: 5.0649 - mae: 5.0649\n",
            "Epoch 142/190\n",
            "2/2 [==============================] - 0s 14ms/step - loss: 4.9345 - mae: 4.9345\n",
            "Epoch 143/190\n",
            "2/2 [==============================] - 0s 15ms/step - loss: 5.0699 - mae: 5.0699\n",
            "Epoch 144/190\n",
            "2/2 [==============================] - 0s 14ms/step - loss: 4.7415 - mae: 4.7415\n",
            "Epoch 145/190\n",
            "2/2 [==============================] - 0s 15ms/step - loss: 4.6751 - mae: 4.6751\n",
            "Epoch 146/190\n",
            "2/2 [==============================] - 0s 10ms/step - loss: 4.7026 - mae: 4.7026\n",
            "Epoch 147/190\n",
            "2/2 [==============================] - 0s 10ms/step - loss: 4.5763 - mae: 4.5763\n",
            "Epoch 148/190\n",
            "2/2 [==============================] - 0s 10ms/step - loss: 4.4814 - mae: 4.4814\n",
            "Epoch 149/190\n",
            "2/2 [==============================] - 0s 10ms/step - loss: 4.3816 - mae: 4.3816\n",
            "Epoch 150/190\n",
            "2/2 [==============================] - 0s 10ms/step - loss: 4.2637 - mae: 4.2637\n",
            "Epoch 151/190\n",
            "2/2 [==============================] - 0s 13ms/step - loss: 4.1499 - mae: 4.1499\n",
            "Epoch 152/190\n",
            "2/2 [==============================] - 0s 10ms/step - loss: 4.0244 - mae: 4.0244\n",
            "Epoch 153/190\n",
            "2/2 [==============================] - 0s 10ms/step - loss: 3.9284 - mae: 3.9284\n",
            "Epoch 154/190\n",
            "2/2 [==============================] - 0s 11ms/step - loss: 3.7428 - mae: 3.7428\n",
            "Epoch 155/190\n",
            "2/2 [==============================] - 0s 10ms/step - loss: 3.6213 - mae: 3.6213\n",
            "Epoch 156/190\n",
            "2/2 [==============================] - 0s 10ms/step - loss: 3.4781 - mae: 3.4781\n",
            "Epoch 157/190\n",
            "2/2 [==============================] - 0s 9ms/step - loss: 3.3158 - mae: 3.3158\n",
            "Epoch 158/190\n",
            "2/2 [==============================] - 0s 12ms/step - loss: 3.1828 - mae: 3.1828\n",
            "Epoch 159/190\n",
            "2/2 [==============================] - 0s 10ms/step - loss: 3.0680 - mae: 3.0680\n",
            "Epoch 160/190\n",
            "2/2 [==============================] - 0s 12ms/step - loss: 2.9293 - mae: 2.9293\n",
            "Epoch 161/190\n",
            "2/2 [==============================] - 0s 12ms/step - loss: 2.7241 - mae: 2.7241\n",
            "Epoch 162/190\n",
            "2/2 [==============================] - 0s 13ms/step - loss: 2.6346 - mae: 2.6346\n",
            "Epoch 163/190\n",
            "2/2 [==============================] - 0s 13ms/step - loss: 2.4371 - mae: 2.4371\n",
            "Epoch 164/190\n",
            "2/2 [==============================] - 0s 12ms/step - loss: 2.2670 - mae: 2.2670\n",
            "Epoch 165/190\n",
            "2/2 [==============================] - 0s 12ms/step - loss: 2.1091 - mae: 2.1091\n",
            "Epoch 166/190\n",
            "2/2 [==============================] - 0s 13ms/step - loss: 2.0503 - mae: 2.0503\n",
            "Epoch 167/190\n",
            "2/2 [==============================] - 0s 14ms/step - loss: 1.7228 - mae: 1.7228\n",
            "Epoch 168/190\n",
            "2/2 [==============================] - 0s 12ms/step - loss: 1.5451 - mae: 1.5451\n",
            "Epoch 169/190\n",
            "2/2 [==============================] - 0s 11ms/step - loss: 1.3246 - mae: 1.3246\n",
            "Epoch 170/190\n",
            "2/2 [==============================] - 0s 10ms/step - loss: 1.2980 - mae: 1.2980\n",
            "Epoch 171/190\n",
            "2/2 [==============================] - 0s 14ms/step - loss: 1.0568 - mae: 1.0568\n",
            "Epoch 172/190\n",
            "2/2 [==============================] - 0s 13ms/step - loss: 0.9730 - mae: 0.9730\n",
            "Epoch 173/190\n",
            "2/2 [==============================] - 0s 10ms/step - loss: 0.5902 - mae: 0.5902\n",
            "Epoch 174/190\n",
            "2/2 [==============================] - 0s 10ms/step - loss: 0.5896 - mae: 0.5896\n",
            "Epoch 175/190\n",
            "2/2 [==============================] - 0s 15ms/step - loss: 0.3839 - mae: 0.3839\n",
            "Epoch 176/190\n",
            "2/2 [==============================] - 0s 13ms/step - loss: 0.4986 - mae: 0.4986\n",
            "Epoch 177/190\n",
            "2/2 [==============================] - 0s 13ms/step - loss: 0.7129 - mae: 0.7129\n",
            "Epoch 178/190\n",
            "2/2 [==============================] - 0s 11ms/step - loss: 0.5795 - mae: 0.5795\n",
            "Epoch 179/190\n",
            "2/2 [==============================] - 0s 14ms/step - loss: 0.8607 - mae: 0.8607\n",
            "Epoch 180/190\n",
            "2/2 [==============================] - 0s 12ms/step - loss: 1.0747 - mae: 1.0747\n",
            "Epoch 181/190\n",
            "2/2 [==============================] - 0s 13ms/step - loss: 2.1130 - mae: 2.1130\n",
            "Epoch 182/190\n",
            "2/2 [==============================] - 0s 12ms/step - loss: 1.1948 - mae: 1.1948\n",
            "Epoch 183/190\n",
            "2/2 [==============================] - 0s 15ms/step - loss: 2.0519 - mae: 2.0519\n",
            "Epoch 184/190\n",
            "2/2 [==============================] - 0s 19ms/step - loss: 1.1745 - mae: 1.1745\n",
            "Epoch 185/190\n",
            "2/2 [==============================] - 0s 15ms/step - loss: 1.7228 - mae: 1.7228\n",
            "Epoch 186/190\n",
            "2/2 [==============================] - 0s 13ms/step - loss: 0.6657 - mae: 0.6657\n",
            "Epoch 187/190\n",
            "2/2 [==============================] - 0s 14ms/step - loss: 1.5446 - mae: 1.5446\n",
            "Epoch 188/190\n",
            "2/2 [==============================] - 0s 13ms/step - loss: 0.9717 - mae: 0.9717\n",
            "Epoch 189/190\n",
            "2/2 [==============================] - 0s 12ms/step - loss: 0.7185 - mae: 0.7185\n",
            "Epoch 190/190\n",
            "2/2 [==============================] - 0s 15ms/step - loss: 0.7305 - mae: 0.7305\n"
          ]
        },
        {
          "output_type": "execute_result",
          "data": {
            "text/plain": [
              "<keras.src.callbacks.History at 0x7d396f6f8070>"
            ]
          },
          "metadata": {},
          "execution_count": 40
        }
      ]
    },
    {
      "cell_type": "code",
      "source": [
        "# Make some predictions\n",
        "y_pred = model2.predict(X_test)\n",
        "y_pred"
      ],
      "metadata": {
        "colab": {
          "base_uri": "https://localhost:8080/"
        },
        "id": "4O2CAksAoJQv",
        "outputId": "3e8d1a7f-fa99-486d-ff54-13c27e29d5ac"
      },
      "execution_count": 41,
      "outputs": [
        {
          "output_type": "stream",
          "name": "stderr",
          "text": [
            "WARNING:tensorflow:6 out of the last 6 calls to <function Model.make_predict_function.<locals>.predict_function at 0x7d396f6ca320> triggered tf.function retracing. Tracing is expensive and the excessive number of tracings could be due to (1) creating @tf.function repeatedly in a loop, (2) passing tensors with different shapes, (3) passing Python objects instead of tensors. For (1), please define your @tf.function outside of the loop. For (2), @tf.function has reduce_retracing=True option that can avoid unnecessary retracing. For (3), please refer to https://www.tensorflow.org/guide/function#controlling_retracing and https://www.tensorflow.org/api_docs/python/tf/function for  more details.\n"
          ]
        },
        {
          "output_type": "stream",
          "name": "stdout",
          "text": [
            "1/1 [==============================] - 1s 545ms/step\n"
          ]
        },
        {
          "output_type": "execute_result",
          "data": {
            "text/plain": [
              "array([[ 71.78942 ],\n",
              "       [ 75.90361 ],\n",
              "       [ 80.01778 ],\n",
              "       [ 84.13195 ],\n",
              "       [ 88.246155],\n",
              "       [ 92.36032 ],\n",
              "       [ 96.47451 ],\n",
              "       [100.58871 ],\n",
              "       [104.70287 ],\n",
              "       [108.817055]], dtype=float32)"
            ]
          },
          "metadata": {},
          "execution_count": 41
        }
      ]
    },
    {
      "cell_type": "code",
      "source": [
        "plot_predictions(training_data=X_train,\n",
        "                 training_labels=y_train,\n",
        "                 test_data=X_test,\n",
        "                 test_labels=y_test,\n",
        "                 predictions=y_pred)"
      ],
      "metadata": {
        "id": "Eoxp3F7EIF0i",
        "colab": {
          "base_uri": "https://localhost:8080/",
          "height": 599
        },
        "outputId": "7922d5d2-5dbb-43cb-eee1-cfe8cc1e5f50"
      },
      "execution_count": 42,
      "outputs": [
        {
          "output_type": "display_data",
          "data": {
            "text/plain": [
              "<Figure size 1000x700 with 1 Axes>"
            ],
            "image/png": "[encoded data removed]"
          },
          "metadata": {}
        }
      ]
    },
    {
      "cell_type": "markdown",
      "source": [
        "### Evaluating our model's predictions with regression evaluation metrics\n",
        "\n",
        "Depending on the problem you're working on, there will be different evaluation metrics to evaluate your model's performance.\n",
        "\n",
        "Since we're working on a regression, two of the main metrics:\n",
        "* MAE - mean absolute error, \"on average, how wrong is each of my model's predictions\"\n",
        "* MSE - mean square error, \"square the average errors.\""
      ],
      "metadata": {
        "id": "T83SLa6zlI8v"
      }
    },
    {
      "cell_type": "code",
      "source": [
        "# Evaluate the model on the test\n",
        "model2.evaluate(X_test, y_test)"
      ],
      "metadata": {
        "colab": {
          "base_uri": "https://localhost:8080/"
        },
        "id": "RLhShIma4LKm",
        "outputId": "2e91aff3-972f-4f44-d32e-2265591b8406"
      },
      "execution_count": 43,
      "outputs": [
        {
          "output_type": "stream",
          "name": "stdout",
          "text": [
            "1/1 [==============================] - 0s 195ms/step - loss: 2.3032 - mae: 2.3032\n"
          ]
        },
        {
          "output_type": "execute_result",
          "data": {
            "text/plain": [
              "[2.3032402992248535, 2.3032402992248535]"
            ]
          },
          "metadata": {},
          "execution_count": 43
        }
      ]
    },
    {
      "cell_type": "code",
      "source": [
        "# Calculate the mean absolute error\n",
        "mae = tf.metrics.mean_absolute_error(y_true=y_test,\n",
        "                              y_pred=tf.constant(y_pred))\n",
        "mae"
      ],
      "metadata": {
        "colab": {
          "base_uri": "https://localhost:8080/"
        },
        "id": "JCp8lSyE6XXg",
        "outputId": "7889c9d9-7e20-463c-ba70-a7df7d38556d"
      },
      "execution_count": 44,
      "outputs": [
        {
          "output_type": "execute_result",
          "data": {
            "text/plain": [
              "<tf.Tensor: shape=(10,), dtype=float32, numpy=\n",
              "array([16.568462, 13.657834, 11.59289 , 10.37361 , 10.      , 10.472064,\n",
              "       11.789804, 13.953224, 16.9623  , 20.817055], dtype=float32)>"
            ]
          },
          "metadata": {},
          "execution_count": 44
        }
      ]
    },
    {
      "cell_type": "code",
      "source": [
        "tf.constant(y_pred)"
      ],
      "metadata": {
        "colab": {
          "base_uri": "https://localhost:8080/"
        },
        "id": "IATXuN9e6H3U",
        "outputId": "818adba1-3871-4d89-af2d-10434245780d"
      },
      "execution_count": 45,
      "outputs": [
        {
          "output_type": "execute_result",
          "data": {
            "text/plain": [
              "<tf.Tensor: shape=(10, 1), dtype=float32, numpy=\n",
              "array([[ 71.78942 ],\n",
              "       [ 75.90361 ],\n",
              "       [ 80.01778 ],\n",
              "       [ 84.13195 ],\n",
              "       [ 88.246155],\n",
              "       [ 92.36032 ],\n",
              "       [ 96.47451 ],\n",
              "       [100.58871 ],\n",
              "       [104.70287 ],\n",
              "       [108.817055]], dtype=float32)>"
            ]
          },
          "metadata": {},
          "execution_count": 45
        }
      ]
    },
    {
      "cell_type": "code",
      "source": [
        "y_test"
      ],
      "metadata": {
        "colab": {
          "base_uri": "https://localhost:8080/"
        },
        "id": "9oW140df6VmE",
        "outputId": "6ff6f52c-937e-4afd-d5c6-e0086362804e"
      },
      "execution_count": 46,
      "outputs": [
        {
          "output_type": "execute_result",
          "data": {
            "text/plain": [
              "<tf.Tensor: shape=(10,), dtype=float32, numpy=\n",
              "array([ 70.,  74.,  78.,  82.,  86.,  90.,  94.,  98., 102., 106.],\n",
              "      dtype=float32)>"
            ]
          },
          "metadata": {},
          "execution_count": 46
        }
      ]
    },
    {
      "cell_type": "code",
      "source": [
        "# Let's get rid of that one dimension (10, 1) --> (10,)\n",
        "tf.squeeze(y_pred)"
      ],
      "metadata": {
        "colab": {
          "base_uri": "https://localhost:8080/"
        },
        "id": "q7LzeOENBj4S",
        "outputId": "c3ea812b-85fc-4cd8-ad1b-b1c63dc0b784"
      },
      "execution_count": 47,
      "outputs": [
        {
          "output_type": "execute_result",
          "data": {
            "text/plain": [
              "<tf.Tensor: shape=(10,), dtype=float32, numpy=\n",
              "array([ 71.78942 ,  75.90361 ,  80.01778 ,  84.13195 ,  88.246155,\n",
              "        92.36032 ,  96.47451 , 100.58871 , 104.70287 , 108.817055],\n",
              "      dtype=float32)>"
            ]
          },
          "metadata": {},
          "execution_count": 47
        }
      ]
    },
    {
      "cell_type": "code",
      "source": [
        "# Calculate the mean absolute error\n",
        "mae = tf.metrics.mean_absolute_error(y_true=y_test,\n",
        "                                     y_pred=tf.squeeze(y_pred))\n",
        "mae"
      ],
      "metadata": {
        "colab": {
          "base_uri": "https://localhost:8080/"
        },
        "id": "l15GOD7FBwzR",
        "outputId": "88fac032-6d50-44c9-9c2d-76c19b322fcd"
      },
      "execution_count": 48,
      "outputs": [
        {
          "output_type": "execute_result",
          "data": {
            "text/plain": [
              "<tf.Tensor: shape=(), dtype=float32, numpy=2.303238>"
            ]
          },
          "metadata": {},
          "execution_count": 48
        }
      ]
    },
    {
      "cell_type": "code",
      "source": [
        "# Calculate the mean square error\n",
        "mse = tf.metrics.mean_squared_error(y_true=y_test,\n",
        "                                    y_pred=tf.squeeze(y_pred))\n",
        "mse"
      ],
      "metadata": {
        "colab": {
          "base_uri": "https://localhost:8080/"
        },
        "id": "oESgHXUHCZv6",
        "outputId": "89153a59-4351-4e33-e698-cd1b1e009bd5"
      },
      "execution_count": 49,
      "outputs": [
        {
          "output_type": "execute_result",
          "data": {
            "text/plain": [
              "<tf.Tensor: shape=(), dtype=float32, numpy=5.4124646>"
            ]
          },
          "metadata": {},
          "execution_count": 49
        }
      ]
    },
    {
      "cell_type": "code",
      "source": [
        "# Make some functions to reuse MAE and MSE\n",
        "def mae(y_true, y_pred):\n",
        "  return tf.metrics.mean_absolute_error(y_true=y_true,\n",
        "                                        y_pred=tf.squeeze(y_pred))\n",
        "\n",
        "def mse(y_true, y_pred):\n",
        "  return tf.metrics.mean_squared_error(y_true=y_true,\n",
        "                                       y_pred=tf.squeeze(y_pred))"
      ],
      "metadata": {
        "id": "-TluVL70Eu8q"
      },
      "execution_count": 50,
      "outputs": []
    },
    {
      "cell_type": "markdown",
      "source": [
        "### Running experiments to improve our model\n",
        "\n",
        "```\n",
        "Build a model -> fit it -> evaluate it -> tweak it -> fit it -> evaluate it -> tweak it -> fit it -> evaluate it ...\n",
        "```\n",
        "\n",
        "1. Get more data - get more examples for your model to train on (more opportunities to learn patterns or relationships between features and labels).\n",
        "2. Make your model larger (using a more complex model) - this might come in the form of more layers or more hidden units in each layer.\n",
        "3. Train for longer - give your model more of a chance to find patterns in the data.\n",
        "\n",
        "Let's do 3 modelling experiments:\n",
        "\n",
        "1. `model_1` - same as the original model, 1 layer, trained for 100 epochs.\n",
        "2. `model_2` - 2 layers, trained for 100 epochs\n",
        "3. `model_3` - 2 layers, trained for 500 epochs\n",
        "\n",
        "**Build `model_1`**"
      ],
      "metadata": {
        "id": "beMq45-gLgix"
      }
    },
    {
      "cell_type": "code",
      "source": [
        "# Set random seed\n",
        "tf.random.set_seed(42)\n",
        "\n",
        "# 1. Create the model\n",
        "model_1 = tf.keras.Sequential([\n",
        "    tf.keras.layers.Dense(1)\n",
        "])\n",
        "\n",
        "# 2. Compile the model\n",
        "model_1.compile(loss=tf.keras.losses.mae,\n",
        "                optimizer=tf.keras.optimizers.SGD(),\n",
        "                metrics=[\"mae\"])\n",
        "\n",
        "# 3. Fit the model\n",
        "model_1.fit(tf.expand_dims(X_train, axis=-1), y_train, epochs=100)"
      ],
      "metadata": {
        "colab": {
          "base_uri": "https://localhost:8080/"
        },
        "id": "VHkyljldPQbn",
        "outputId": "7989f09e-8a28-4aa2-a35a-180883e773bc"
      },
      "execution_count": 51,
      "outputs": [
        {
          "output_type": "stream",
          "name": "stdout",
          "text": [
            "Epoch 1/100\n",
            "2/2 [==============================] - 0s 13ms/step - loss: 18.9351 - mae: 18.9351\n",
            "Epoch 2/100\n",
            "2/2 [==============================] - 0s 9ms/step - loss: 11.5250 - mae: 11.5250\n",
            "Epoch 3/100\n",
            "2/2 [==============================] - 0s 14ms/step - loss: 11.5061 - mae: 11.5061\n",
            "Epoch 4/100\n",
            "2/2 [==============================] - 0s 9ms/step - loss: 9.4310 - mae: 9.4310\n",
            "Epoch 5/100\n",
            "2/2 [==============================] - 0s 15ms/step - loss: 10.3206 - mae: 10.3206\n",
            "Epoch 6/100\n",
            "2/2 [==============================] - 0s 10ms/step - loss: 9.5642 - mae: 9.5642\n",
            "Epoch 7/100\n",
            "2/2 [==============================] - 0s 8ms/step - loss: 8.6817 - mae: 8.6817\n",
            "Epoch 8/100\n",
            "2/2 [==============================] - 0s 10ms/step - loss: 9.0494 - mae: 9.0494\n",
            "Epoch 9/100\n",
            "2/2 [==============================] - 0s 9ms/step - loss: 19.0383 - mae: 19.0383\n",
            "Epoch 10/100\n",
            "2/2 [==============================] - 0s 9ms/step - loss: 10.2706 - mae: 10.2706\n",
            "Epoch 11/100\n",
            "2/2 [==============================] - 0s 15ms/step - loss: 8.4563 - mae: 8.4563\n",
            "Epoch 12/100\n",
            "2/2 [==============================] - 0s 8ms/step - loss: 10.7882 - mae: 10.7882\n",
            "Epoch 13/100\n",
            "2/2 [==============================] - 0s 9ms/step - loss: 9.8528 - mae: 9.8528\n",
            "Epoch 14/100\n",
            "2/2 [==============================] - 0s 10ms/step - loss: 12.0181 - mae: 12.0181\n",
            "Epoch 15/100\n",
            "2/2 [==============================] - 0s 8ms/step - loss: 12.4686 - mae: 12.4686\n",
            "Epoch 16/100\n",
            "2/2 [==============================] - 0s 9ms/step - loss: 7.9050 - mae: 7.9050\n",
            "Epoch 17/100\n",
            "2/2 [==============================] - 0s 11ms/step - loss: 12.8224 - mae: 12.8224\n",
            "Epoch 18/100\n",
            "2/2 [==============================] - 0s 11ms/step - loss: 10.4498 - mae: 10.4498\n",
            "Epoch 19/100\n",
            "2/2 [==============================] - 0s 8ms/step - loss: 19.2542 - mae: 19.2542\n",
            "Epoch 20/100\n",
            "2/2 [==============================] - 0s 9ms/step - loss: 15.9179 - mae: 15.9179\n",
            "Epoch 21/100\n",
            "2/2 [==============================] - 0s 9ms/step - loss: 11.8416 - mae: 11.8416\n",
            "Epoch 22/100\n",
            "2/2 [==============================] - 0s 9ms/step - loss: 8.4492 - mae: 8.4492\n",
            "Epoch 23/100\n",
            "2/2 [==============================] - 0s 13ms/step - loss: 9.8132 - mae: 9.8132\n",
            "Epoch 24/100\n",
            "2/2 [==============================] - 0s 9ms/step - loss: 10.8097 - mae: 10.8097\n",
            "Epoch 25/100\n",
            "2/2 [==============================] - 0s 9ms/step - loss: 9.0945 - mae: 9.0945\n",
            "Epoch 26/100\n",
            "2/2 [==============================] - 0s 13ms/step - loss: 13.0371 - mae: 13.0371\n",
            "Epoch 27/100\n",
            "2/2 [==============================] - 0s 9ms/step - loss: 10.3793 - mae: 10.3793\n",
            "Epoch 28/100\n",
            "2/2 [==============================] - 0s 11ms/step - loss: 13.3743 - mae: 13.3743\n",
            "Epoch 29/100\n",
            "2/2 [==============================] - 0s 14ms/step - loss: 9.5988 - mae: 9.5988\n",
            "Epoch 30/100\n",
            "2/2 [==============================] - 0s 14ms/step - loss: 17.1817 - mae: 17.1817\n",
            "Epoch 31/100\n",
            "2/2 [==============================] - 0s 9ms/step - loss: 22.8726 - mae: 22.8726\n",
            "Epoch 32/100\n",
            "2/2 [==============================] - 0s 9ms/step - loss: 7.9059 - mae: 7.9059\n",
            "Epoch 33/100\n",
            "2/2 [==============================] - 0s 9ms/step - loss: 14.1272 - mae: 14.1272\n",
            "Epoch 34/100\n",
            "2/2 [==============================] - 0s 10ms/step - loss: 12.3714 - mae: 12.3714\n",
            "Epoch 35/100\n",
            "2/2 [==============================] - 0s 10ms/step - loss: 8.2518 - mae: 8.2518\n",
            "Epoch 36/100\n",
            "2/2 [==============================] - 0s 9ms/step - loss: 10.4715 - mae: 10.4715\n",
            "Epoch 37/100\n",
            "2/2 [==============================] - 0s 12ms/step - loss: 10.1171 - mae: 10.1171\n",
            "Epoch 38/100\n",
            "2/2 [==============================] - 0s 11ms/step - loss: 11.3098 - mae: 11.3098\n",
            "Epoch 39/100\n",
            "2/2 [==============================] - 0s 9ms/step - loss: 14.7490 - mae: 14.7490\n",
            "Epoch 40/100\n",
            "2/2 [==============================] - 0s 10ms/step - loss: 12.8793 - mae: 12.8793\n",
            "Epoch 41/100\n",
            "2/2 [==============================] - 0s 9ms/step - loss: 9.2689 - mae: 9.2689\n",
            "Epoch 42/100\n",
            "2/2 [==============================] - 0s 9ms/step - loss: 10.9915 - mae: 10.9915\n",
            "Epoch 43/100\n",
            "2/2 [==============================] - 0s 9ms/step - loss: 8.3236 - mae: 8.3236\n",
            "Epoch 44/100\n",
            "2/2 [==============================] - 0s 9ms/step - loss: 13.0380 - mae: 13.0380\n",
            "Epoch 45/100\n",
            "2/2 [==============================] - 0s 9ms/step - loss: 13.6703 - mae: 13.6703\n",
            "Epoch 46/100\n",
            "2/2 [==============================] - 0s 8ms/step - loss: 8.2772 - mae: 8.2772\n",
            "Epoch 47/100\n",
            "2/2 [==============================] - 0s 8ms/step - loss: 8.7134 - mae: 8.7134\n",
            "Epoch 48/100\n",
            "2/2 [==============================] - 0s 9ms/step - loss: 10.0130 - mae: 10.0130\n",
            "Epoch 49/100\n",
            "2/2 [==============================] - 0s 9ms/step - loss: 8.4983 - mae: 8.4983\n",
            "Epoch 50/100\n",
            "2/2 [==============================] - 0s 11ms/step - loss: 9.0039 - mae: 9.0039\n",
            "Epoch 51/100\n",
            "2/2 [==============================] - 0s 11ms/step - loss: 9.3627 - mae: 9.3627\n",
            "Epoch 52/100\n",
            "2/2 [==============================] - 0s 13ms/step - loss: 13.9992 - mae: 13.9992\n",
            "Epoch 53/100\n",
            "2/2 [==============================] - 0s 10ms/step - loss: 15.4295 - mae: 15.4295\n",
            "Epoch 54/100\n",
            "2/2 [==============================] - 0s 9ms/step - loss: 8.2926 - mae: 8.2926\n",
            "Epoch 55/100\n",
            "2/2 [==============================] - 0s 10ms/step - loss: 17.0745 - mae: 17.0745\n",
            "Epoch 56/100\n",
            "2/2 [==============================] - 0s 9ms/step - loss: 9.8184 - mae: 9.8184\n",
            "Epoch 57/100\n",
            "2/2 [==============================] - 0s 10ms/step - loss: 9.6707 - mae: 9.6707\n",
            "Epoch 58/100\n",
            "2/2 [==============================] - 0s 11ms/step - loss: 8.9831 - mae: 8.9831\n",
            "Epoch 59/100\n",
            "2/2 [==============================] - 0s 9ms/step - loss: 10.2053 - mae: 10.2053\n",
            "Epoch 60/100\n",
            "2/2 [==============================] - 0s 9ms/step - loss: 8.3881 - mae: 8.3881\n",
            "Epoch 61/100\n",
            "2/2 [==============================] - 0s 9ms/step - loss: 9.2158 - mae: 9.2158\n",
            "Epoch 62/100\n",
            "2/2 [==============================] - 0s 8ms/step - loss: 7.2683 - mae: 7.2683\n",
            "Epoch 63/100\n",
            "2/2 [==============================] - 0s 10ms/step - loss: 8.1756 - mae: 8.1756\n",
            "Epoch 64/100\n",
            "2/2 [==============================] - 0s 10ms/step - loss: 12.5534 - mae: 12.5534\n",
            "Epoch 65/100\n",
            "2/2 [==============================] - 0s 10ms/step - loss: 10.6325 - mae: 10.6325\n",
            "Epoch 66/100\n",
            "2/2 [==============================] - 0s 10ms/step - loss: 15.4361 - mae: 15.4361\n",
            "Epoch 67/100\n",
            "2/2 [==============================] - 0s 10ms/step - loss: 9.8826 - mae: 9.8826\n",
            "Epoch 68/100\n",
            "2/2 [==============================] - 0s 10ms/step - loss: 8.6622 - mae: 8.6622\n",
            "Epoch 69/100\n",
            "2/2 [==============================] - 0s 12ms/step - loss: 13.3091 - mae: 13.3091\n",
            "Epoch 70/100\n",
            "2/2 [==============================] - 0s 10ms/step - loss: 7.8482 - mae: 7.8482\n",
            "Epoch 71/100\n",
            "2/2 [==============================] - 0s 10ms/step - loss: 11.3528 - mae: 11.3528\n",
            "Epoch 72/100\n",
            "2/2 [==============================] - 0s 11ms/step - loss: 9.5449 - mae: 9.5449\n",
            "Epoch 73/100\n",
            "2/2 [==============================] - 0s 10ms/step - loss: 11.6473 - mae: 11.6473\n",
            "Epoch 74/100\n",
            "2/2 [==============================] - 0s 9ms/step - loss: 10.7425 - mae: 10.7425\n",
            "Epoch 75/100\n",
            "2/2 [==============================] - 0s 10ms/step - loss: 9.5433 - mae: 9.5433\n",
            "Epoch 76/100\n",
            "2/2 [==============================] - 0s 10ms/step - loss: 10.9906 - mae: 10.9906\n",
            "Epoch 77/100\n",
            "2/2 [==============================] - 0s 12ms/step - loss: 11.0569 - mae: 11.0569\n",
            "Epoch 78/100\n",
            "2/2 [==============================] - 0s 11ms/step - loss: 11.5788 - mae: 11.5788\n",
            "Epoch 79/100\n",
            "2/2 [==============================] - 0s 11ms/step - loss: 15.6387 - mae: 15.6387\n",
            "Epoch 80/100\n",
            "2/2 [==============================] - 0s 10ms/step - loss: 11.5548 - mae: 11.5548\n",
            "Epoch 81/100\n",
            "2/2 [==============================] - 0s 10ms/step - loss: 9.4921 - mae: 9.4921\n",
            "Epoch 82/100\n",
            "2/2 [==============================] - 0s 10ms/step - loss: 12.5461 - mae: 12.5461\n",
            "Epoch 83/100\n",
            "2/2 [==============================] - 0s 10ms/step - loss: 8.1484 - mae: 8.1484\n",
            "Epoch 84/100\n",
            "2/2 [==============================] - 0s 10ms/step - loss: 7.5426 - mae: 7.5426\n",
            "Epoch 85/100\n",
            "2/2 [==============================] - 0s 13ms/step - loss: 9.7371 - mae: 9.7371\n",
            "Epoch 86/100\n",
            "2/2 [==============================] - 0s 10ms/step - loss: 9.0406 - mae: 9.0406\n",
            "Epoch 87/100\n",
            "2/2 [==============================] - 0s 10ms/step - loss: 11.6829 - mae: 11.6829\n",
            "Epoch 88/100\n",
            "2/2 [==============================] - 0s 13ms/step - loss: 10.2821 - mae: 10.2821\n",
            "Epoch 89/100\n",
            "2/2 [==============================] - 0s 10ms/step - loss: 6.7384 - mae: 6.7384\n",
            "Epoch 90/100\n",
            "2/2 [==============================] - 0s 9ms/step - loss: 8.1097 - mae: 8.1097\n",
            "Epoch 91/100\n",
            "2/2 [==============================] - 0s 10ms/step - loss: 6.8860 - mae: 6.8860\n",
            "Epoch 92/100\n",
            "2/2 [==============================] - 0s 9ms/step - loss: 8.9807 - mae: 8.9807\n",
            "Epoch 93/100\n",
            "2/2 [==============================] - 0s 10ms/step - loss: 7.4862 - mae: 7.4862\n",
            "Epoch 94/100\n",
            "2/2 [==============================] - 0s 9ms/step - loss: 9.1044 - mae: 9.1044\n",
            "Epoch 95/100\n",
            "2/2 [==============================] - 0s 10ms/step - loss: 10.5675 - mae: 10.5675\n",
            "Epoch 96/100\n",
            "2/2 [==============================] - 0s 10ms/step - loss: 10.5720 - mae: 10.5720\n",
            "Epoch 97/100\n",
            "2/2 [==============================] - 0s 10ms/step - loss: 6.9924 - mae: 6.9924\n",
            "Epoch 98/100\n",
            "2/2 [==============================] - 0s 10ms/step - loss: 9.1395 - mae: 9.1395\n",
            "Epoch 99/100\n",
            "2/2 [==============================] - 0s 9ms/step - loss: 8.9426 - mae: 8.9426\n",
            "Epoch 100/100\n",
            "2/2 [==============================] - 0s 8ms/step - loss: 13.0865 - mae: 13.0865\n"
          ]
        },
        {
          "output_type": "execute_result",
          "data": {
            "text/plain": [
              "<keras.src.callbacks.History at 0x7d396d704430>"
            ]
          },
          "metadata": {},
          "execution_count": 51
        }
      ]
    },
    {
      "cell_type": "code",
      "source": [
        "# Make and plot predictions for model_1\n",
        "y_preds_1 = model_1.predict(X_test)\n",
        "plot_predictions(predictions=y_preds_1)"
      ],
      "metadata": {
        "colab": {
          "base_uri": "https://localhost:8080/",
          "height": 617
        },
        "id": "HoA45gdqQrmf",
        "outputId": "fee87f5b-bc1b-4586-b54d-8e4d5aa77250"
      },
      "execution_count": 52,
      "outputs": [
        {
          "output_type": "stream",
          "name": "stdout",
          "text": [
            "1/1 [==============================] - 0s 60ms/step\n"
          ]
        },
        {
          "output_type": "display_data",
          "data": {
            "text/plain": [
              "<Figure size 1000x700 with 1 Axes>"
            ],
            "image/png": "[encoded data removed]"
          },
          "metadata": {}
        }
      ]
    },
    {
      "cell_type": "code",
      "source": [
        "# Calculate model_1 evaluation metrics\n",
        "mae_1 = mae(y_test, y_preds_1)\n",
        "mse_1 = mse(y_test, y_preds_1)\n",
        "mae_1, mse_1"
      ],
      "metadata": {
        "colab": {
          "base_uri": "https://localhost:8080/"
        },
        "id": "PnXaeWFYVD__",
        "outputId": "1d4c580c-1771-494a-89af-1e558fcdff99"
      },
      "execution_count": 53,
      "outputs": [
        {
          "output_type": "execute_result",
          "data": {
            "text/plain": [
              "(<tf.Tensor: shape=(), dtype=float32, numpy=32.60006>,\n",
              " <tf.Tensor: shape=(), dtype=float32, numpy=1075.1785>)"
            ]
          },
          "metadata": {},
          "execution_count": 53
        }
      ]
    },
    {
      "cell_type": "markdown",
      "source": [
        "**Build `model_2`**\n",
        "\n",
        "* 2 dense layers, trained for 100 epochs"
      ],
      "metadata": {
        "id": "uN-gwUoqVog3"
      }
    },
    {
      "cell_type": "code",
      "source": [
        "X_train.ndim, y_train.ndim"
      ],
      "metadata": {
        "colab": {
          "base_uri": "https://localhost:8080/"
        },
        "id": "P6_9KXkwceuO",
        "outputId": "7e6e7ac6-d37a-4139-f3c6-77cf0b777917"
      },
      "execution_count": 54,
      "outputs": [
        {
          "output_type": "execute_result",
          "data": {
            "text/plain": [
              "(1, 1)"
            ]
          },
          "metadata": {},
          "execution_count": 54
        }
      ]
    },
    {
      "cell_type": "code",
      "source": [
        "# set random seed\n",
        "tf.random.set_seed(42)\n",
        "\n",
        "# 1. Create the model\n",
        "model_2 = tf.keras.Sequential([\n",
        "    tf.keras.layers.Dense(10),\n",
        "    tf.keras.layers.Dense(1)\n",
        "])\n",
        "\n",
        "# 2. Compile the model\n",
        "model_2.compile(loss=tf.keras.losses.mae,\n",
        "                optimizer=tf.keras.optimizers.SGD(),\n",
        "                metrics=[\"mse\"])\n",
        "\n",
        "# 3. Fit the model\n",
        "model_2.fit(tf.expand_dims(X_train, axis=-1), y_train, epochs=100)"
      ],
      "metadata": {
        "colab": {
          "base_uri": "https://localhost:8080/"
        },
        "id": "i-hfR-P6c0hx",
        "outputId": "4563a49e-5198-439e-a1e0-2979c7321710"
      },
      "execution_count": 55,
      "outputs": [
        {
          "output_type": "stream",
          "name": "stdout",
          "text": [
            "Epoch 1/100\n",
            "2/2 [==============================] - 0s 19ms/step - loss: 48.3596 - mse: 3406.3738\n",
            "Epoch 2/100\n",
            "2/2 [==============================] - 0s 18ms/step - loss: 35.2285 - mse: 1786.3896\n",
            "Epoch 3/100\n",
            "2/2 [==============================] - 0s 9ms/step - loss: 31.0607 - mse: 1449.4576\n",
            "Epoch 4/100\n",
            "2/2 [==============================] - 0s 10ms/step - loss: 16.5501 - mse: 402.2972\n",
            "Epoch 5/100\n",
            "2/2 [==============================] - 0s 9ms/step - loss: 22.4065 - mse: 735.4352\n",
            "Epoch 6/100\n",
            "2/2 [==============================] - 0s 15ms/step - loss: 11.5855 - mse: 153.2492\n",
            "Epoch 7/100\n",
            "2/2 [==============================] - 0s 9ms/step - loss: 12.6882 - mse: 215.6497\n",
            "Epoch 8/100\n",
            "2/2 [==============================] - 0s 8ms/step - loss: 11.1130 - mse: 152.1551\n",
            "Epoch 9/100\n",
            "2/2 [==============================] - 0s 12ms/step - loss: 40.3070 - mse: 2553.8301\n",
            "Epoch 10/100\n",
            "2/2 [==============================] - 0s 9ms/step - loss: 27.7251 - mse: 1082.4534\n",
            "Epoch 11/100\n",
            "2/2 [==============================] - 0s 8ms/step - loss: 10.2538 - mse: 147.5222\n",
            "Epoch 12/100\n",
            "2/2 [==============================] - 0s 8ms/step - loss: 25.4216 - mse: 900.4401\n",
            "Epoch 13/100\n",
            "2/2 [==============================] - 0s 10ms/step - loss: 16.9469 - mse: 397.4730\n",
            "Epoch 14/100\n",
            "2/2 [==============================] - 0s 9ms/step - loss: 25.8533 - mse: 1043.3347\n",
            "Epoch 15/100\n",
            "2/2 [==============================] - 0s 9ms/step - loss: 17.9396 - mse: 447.5551\n",
            "Epoch 16/100\n",
            "2/2 [==============================] - 0s 9ms/step - loss: 7.3423 - mse: 80.7522\n",
            "Epoch 17/100\n",
            "2/2 [==============================] - 0s 9ms/step - loss: 12.8267 - mse: 233.8114\n",
            "Epoch 18/100\n",
            "2/2 [==============================] - 0s 11ms/step - loss: 10.1498 - mse: 126.8936\n",
            "Epoch 19/100\n",
            "2/2 [==============================] - 0s 10ms/step - loss: 14.3626 - mse: 324.7455\n",
            "Epoch 20/100\n",
            "2/2 [==============================] - 0s 10ms/step - loss: 10.4248 - mse: 148.6558\n",
            "Epoch 21/100\n",
            "2/2 [==============================] - 0s 9ms/step - loss: 15.1593 - mse: 311.6553\n",
            "Epoch 22/100\n",
            "2/2 [==============================] - 0s 10ms/step - loss: 15.4941 - mse: 330.8643\n",
            "Epoch 23/100\n",
            "2/2 [==============================] - 0s 9ms/step - loss: 9.2243 - mse: 118.2847\n",
            "Epoch 24/100\n",
            "2/2 [==============================] - 0s 9ms/step - loss: 17.2571 - mse: 408.1227\n",
            "Epoch 25/100\n",
            "2/2 [==============================] - 0s 8ms/step - loss: 15.9271 - mse: 333.3194\n",
            "Epoch 26/100\n",
            "2/2 [==============================] - 0s 8ms/step - loss: 20.9146 - mse: 648.5338\n",
            "Epoch 27/100\n",
            "2/2 [==============================] - 0s 11ms/step - loss: 25.9951 - mse: 1054.5656\n",
            "Epoch 28/100\n",
            "2/2 [==============================] - 0s 9ms/step - loss: 18.4878 - mse: 541.0088\n",
            "Epoch 29/100\n",
            "2/2 [==============================] - 0s 11ms/step - loss: 9.2274 - mse: 97.1609\n",
            "Epoch 30/100\n",
            "2/2 [==============================] - 0s 9ms/step - loss: 29.1199 - mse: 1515.6831\n",
            "Epoch 31/100\n",
            "2/2 [==============================] - 0s 10ms/step - loss: 52.7436 - mse: 4974.6982\n",
            "Epoch 32/100\n",
            "2/2 [==============================] - 0s 13ms/step - loss: 11.9241 - mse: 207.6001\n",
            "Epoch 33/100\n",
            "2/2 [==============================] - 0s 10ms/step - loss: 15.5362 - mse: 332.8239\n",
            "Epoch 34/100\n",
            "2/2 [==============================] - 0s 9ms/step - loss: 12.6171 - mse: 210.8061\n",
            "Epoch 35/100\n",
            "2/2 [==============================] - 0s 9ms/step - loss: 9.1994 - mse: 91.8397\n",
            "Epoch 36/100\n",
            "2/2 [==============================] - 0s 10ms/step - loss: 16.5471 - mse: 398.4271\n",
            "Epoch 37/100\n",
            "2/2 [==============================] - 0s 10ms/step - loss: 11.0532 - mse: 192.0403\n",
            "Epoch 38/100\n",
            "2/2 [==============================] - 0s 10ms/step - loss: 18.1805 - mse: 435.0350\n",
            "Epoch 39/100\n",
            "2/2 [==============================] - 0s 13ms/step - loss: 19.1140 - mse: 531.1968\n",
            "Epoch 40/100\n",
            "2/2 [==============================] - 0s 9ms/step - loss: 20.4577 - mse: 611.6392\n",
            "Epoch 41/100\n",
            "2/2 [==============================] - 0s 9ms/step - loss: 14.8571 - mse: 277.3315\n",
            "Epoch 42/100\n",
            "2/2 [==============================] - 0s 9ms/step - loss: 12.2414 - mse: 184.9845\n",
            "Epoch 43/100\n",
            "2/2 [==============================] - 0s 10ms/step - loss: 10.7052 - mse: 165.8144\n",
            "Epoch 44/100\n",
            "2/2 [==============================] - 0s 12ms/step - loss: 22.9819 - mse: 826.9014\n",
            "Epoch 45/100\n",
            "2/2 [==============================] - 0s 11ms/step - loss: 10.3618 - mse: 128.5097\n",
            "Epoch 46/100\n",
            "2/2 [==============================] - 0s 9ms/step - loss: 11.7598 - mse: 180.8634\n",
            "Epoch 47/100\n",
            "2/2 [==============================] - 0s 8ms/step - loss: 9.6375 - mse: 153.5569\n",
            "Epoch 48/100\n",
            "2/2 [==============================] - 0s 9ms/step - loss: 17.2309 - mse: 402.8978\n",
            "Epoch 49/100\n",
            "2/2 [==============================] - 0s 9ms/step - loss: 9.5567 - mse: 99.5147\n",
            "Epoch 50/100\n",
            "2/2 [==============================] - 0s 9ms/step - loss: 13.8041 - mse: 260.1000\n",
            "Epoch 51/100\n",
            "2/2 [==============================] - 0s 9ms/step - loss: 11.5815 - mse: 154.5506\n",
            "Epoch 52/100\n",
            "2/2 [==============================] - 0s 10ms/step - loss: 30.5853 - mse: 1616.4148\n",
            "Epoch 53/100\n",
            "2/2 [==============================] - 0s 10ms/step - loss: 14.3600 - mse: 302.8833\n",
            "Epoch 54/100\n",
            "2/2 [==============================] - 0s 11ms/step - loss: 23.9943 - mse: 861.0412\n",
            "Epoch 55/100\n",
            "2/2 [==============================] - 0s 9ms/step - loss: 23.2160 - mse: 807.1587\n",
            "Epoch 56/100\n",
            "2/2 [==============================] - 0s 9ms/step - loss: 10.8771 - mse: 170.5780\n",
            "Epoch 57/100\n",
            "2/2 [==============================] - 0s 8ms/step - loss: 12.7457 - mse: 199.0378\n",
            "Epoch 58/100\n",
            "2/2 [==============================] - 0s 16ms/step - loss: 9.5968 - mse: 102.4680\n",
            "Epoch 59/100\n",
            "2/2 [==============================] - 0s 9ms/step - loss: 12.5270 - mse: 217.6145\n",
            "Epoch 60/100\n",
            "2/2 [==============================] - 0s 9ms/step - loss: 12.3328 - mse: 209.8311\n",
            "Epoch 61/100\n",
            "2/2 [==============================] - 0s 10ms/step - loss: 13.2375 - mse: 229.5570\n",
            "Epoch 62/100\n",
            "2/2 [==============================] - 0s 9ms/step - loss: 17.0977 - mse: 445.1948\n",
            "Epoch 63/100\n",
            "2/2 [==============================] - 0s 9ms/step - loss: 9.0474 - mse: 87.1368\n",
            "Epoch 64/100\n",
            "2/2 [==============================] - 0s 9ms/step - loss: 17.7463 - mse: 456.5642\n",
            "Epoch 65/100\n",
            "2/2 [==============================] - 0s 8ms/step - loss: 10.5234 - mse: 134.2483\n",
            "Epoch 66/100\n",
            "2/2 [==============================] - 0s 8ms/step - loss: 21.2524 - mse: 666.7537\n",
            "Epoch 67/100\n",
            "2/2 [==============================] - 0s 9ms/step - loss: 10.5274 - mse: 129.4566\n",
            "Epoch 68/100\n",
            "2/2 [==============================] - 0s 12ms/step - loss: 14.7028 - mse: 328.6684\n",
            "Epoch 69/100\n",
            "2/2 [==============================] - 0s 9ms/step - loss: 10.6671 - mse: 131.1389\n",
            "Epoch 70/100\n",
            "2/2 [==============================] - 0s 9ms/step - loss: 12.7611 - mse: 207.5285\n",
            "Epoch 71/100\n",
            "2/2 [==============================] - 0s 11ms/step - loss: 13.1931 - mse: 236.4225\n",
            "Epoch 72/100\n",
            "2/2 [==============================] - 0s 9ms/step - loss: 19.8017 - mse: 557.2163\n",
            "Epoch 73/100\n",
            "2/2 [==============================] - 0s 10ms/step - loss: 11.2331 - mse: 189.8949\n",
            "Epoch 74/100\n",
            "2/2 [==============================] - 0s 9ms/step - loss: 22.1288 - mse: 762.7587\n",
            "Epoch 75/100\n",
            "2/2 [==============================] - 0s 12ms/step - loss: 6.9221 - mse: 64.1072\n",
            "Epoch 76/100\n",
            "2/2 [==============================] - 0s 10ms/step - loss: 11.4147 - mse: 203.2710\n",
            "Epoch 77/100\n",
            "2/2 [==============================] - 0s 9ms/step - loss: 21.5574 - mse: 699.4753\n",
            "Epoch 78/100\n",
            "2/2 [==============================] - 0s 9ms/step - loss: 18.6443 - mse: 528.1638\n",
            "Epoch 79/100\n",
            "2/2 [==============================] - 0s 11ms/step - loss: 15.9539 - mse: 373.8911\n",
            "Epoch 80/100\n",
            "2/2 [==============================] - 0s 8ms/step - loss: 23.5996 - mse: 843.3916\n",
            "Epoch 81/100\n",
            "2/2 [==============================] - 0s 10ms/step - loss: 10.9699 - mse: 143.0164\n",
            "Epoch 82/100\n",
            "2/2 [==============================] - 0s 9ms/step - loss: 12.7090 - mse: 231.3213\n",
            "Epoch 83/100\n",
            "2/2 [==============================] - 0s 14ms/step - loss: 17.4655 - mse: 397.6289\n",
            "Epoch 84/100\n",
            "2/2 [==============================] - 0s 12ms/step - loss: 7.2737 - mse: 73.1161\n",
            "Epoch 85/100\n",
            "2/2 [==============================] - 0s 13ms/step - loss: 14.9964 - mse: 314.0492\n",
            "Epoch 86/100\n",
            "2/2 [==============================] - 0s 10ms/step - loss: 15.3109 - mse: 315.9958\n",
            "Epoch 87/100\n",
            "2/2 [==============================] - 0s 13ms/step - loss: 19.1560 - mse: 523.4011\n",
            "Epoch 88/100\n",
            "2/2 [==============================] - 0s 10ms/step - loss: 29.6975 - mse: 1275.6082\n",
            "Epoch 89/100\n",
            "2/2 [==============================] - 0s 9ms/step - loss: 10.1587 - mse: 124.1171\n",
            "Epoch 90/100\n",
            "2/2 [==============================] - 0s 9ms/step - loss: 21.4252 - mse: 657.6284\n",
            "Epoch 91/100\n",
            "2/2 [==============================] - 0s 11ms/step - loss: 10.5508 - mse: 162.1746\n",
            "Epoch 92/100\n",
            "2/2 [==============================] - 0s 10ms/step - loss: 18.3128 - mse: 459.6033\n",
            "Epoch 93/100\n",
            "2/2 [==============================] - 0s 11ms/step - loss: 6.8122 - mse: 66.6663\n",
            "Epoch 94/100\n",
            "2/2 [==============================] - 0s 9ms/step - loss: 13.0644 - mse: 232.7063\n",
            "Epoch 95/100\n",
            "2/2 [==============================] - 0s 15ms/step - loss: 18.5152 - mse: 506.0249\n",
            "Epoch 96/100\n",
            "2/2 [==============================] - 0s 9ms/step - loss: 10.3810 - mse: 177.5963\n",
            "Epoch 97/100\n",
            "2/2 [==============================] - 0s 10ms/step - loss: 14.5124 - mse: 318.2910\n",
            "Epoch 98/100\n",
            "2/2 [==============================] - 0s 10ms/step - loss: 6.5697 - mse: 60.0575\n",
            "Epoch 99/100\n",
            "2/2 [==============================] - 0s 10ms/step - loss: 12.5668 - mse: 229.0578\n",
            "Epoch 100/100\n",
            "2/2 [==============================] - 0s 9ms/step - loss: 19.3521 - mse: 550.3028\n"
          ]
        },
        {
          "output_type": "execute_result",
          "data": {
            "text/plain": [
              "<keras.src.callbacks.History at 0x7d396d743250>"
            ]
          },
          "metadata": {},
          "execution_count": 55
        }
      ]
    },
    {
      "cell_type": "code",
      "source": [
        "# Make and plot predictions for model_2\n",
        "y_preds_2 = model_2.predict(X_test)\n",
        "plot_predictions(predictions=y_preds_2)"
      ],
      "metadata": {
        "colab": {
          "base_uri": "https://localhost:8080/",
          "height": 617
        },
        "id": "N4dQuGTMfJt5",
        "outputId": "2e6b9e63-4af4-45b7-d26f-b1ec53a63456"
      },
      "execution_count": 56,
      "outputs": [
        {
          "output_type": "stream",
          "name": "stdout",
          "text": [
            "1/1 [==============================] - 0s 65ms/step\n"
          ]
        },
        {
          "output_type": "display_data",
          "data": {
            "text/plain": [
              "<Figure size 1000x700 with 1 Axes>"
            ],
            "image/png": "[encoded data removed]"
          },
          "metadata": {}
        }
      ]
    },
    {
      "cell_type": "code",
      "source": [
        "# Calculate model_2 evaluation metrics\n",
        "mae_2 = mae(y_test, y_preds_2)\n",
        "mse_2 = mse(y_test, y_preds_2)\n",
        "mae_2, mse_2"
      ],
      "metadata": {
        "colab": {
          "base_uri": "https://localhost:8080/"
        },
        "id": "IcBBrXF9c1Xl",
        "outputId": "d316bf9f-010d-49f9-c24e-9f3e9dad0ed2"
      },
      "execution_count": 57,
      "outputs": [
        {
          "output_type": "execute_result",
          "data": {
            "text/plain": [
              "(<tf.Tensor: shape=(), dtype=float32, numpy=13.618744>,\n",
              " <tf.Tensor: shape=(), dtype=float32, numpy=195.80408>)"
            ]
          },
          "metadata": {},
          "execution_count": 57
        }
      ]
    },
    {
      "cell_type": "markdown",
      "source": [
        "**Build `model_3`**\n",
        "\n",
        "* 2 layers, trained for 500 epochs"
      ],
      "metadata": {
        "id": "umnL9NxriKeV"
      }
    },
    {
      "cell_type": "code",
      "source": [
        "# Set the random seed\n",
        "tf.random.set_seed(42)\n",
        "\n",
        "# 1. Create a model\n",
        "model_3 = tf.keras.Sequential([\n",
        "    tf.keras.layers.Dense(10),\n",
        "    tf.keras.layers.Dense(1)\n",
        "])\n",
        "\n",
        "# 2. Compile the model\n",
        "model_3.compile(loss=tf.keras.losses.mae,\n",
        "                optimizer=tf.keras.optimizers.SGD(),\n",
        "                metrics=[\"mae\"])\n",
        "\n",
        "# 3. Fit the model\n",
        "model_3.fit(tf.expand_dims(X_test, axis=-1), y_test, epochs=500)"
      ],
      "metadata": {
        "colab": {
          "base_uri": "https://localhost:8080/"
        },
        "id": "THpMKZac0Q3S",
        "outputId": "a293b72f-eedf-48bd-d870-2c0860a115a9"
      },
      "execution_count": 58,
      "outputs": [
        {
          "output_type": "stream",
          "name": "stdout",
          "text": [
            "Epoch 1/500\n",
            "1/1 [==============================] - 0s 471ms/step - loss: 157.6351 - mae: 157.6351\n",
            "Epoch 2/500\n",
            "1/1 [==============================] - 0s 12ms/step - loss: 18.1048 - mae: 18.1048\n",
            "Epoch 3/500\n",
            "1/1 [==============================] - 0s 12ms/step - loss: 98.6731 - mae: 98.6731\n",
            "Epoch 4/500\n",
            "1/1 [==============================] - 0s 12ms/step - loss: 71.7286 - mae: 71.7286\n",
            "Epoch 5/500\n",
            "1/1 [==============================] - 0s 12ms/step - loss: 34.0312 - mae: 34.0312\n",
            "Epoch 6/500\n",
            "1/1 [==============================] - 0s 11ms/step - loss: 83.0908 - mae: 83.0908\n",
            "Epoch 7/500\n",
            "1/1 [==============================] - 0s 12ms/step - loss: 79.7111 - mae: 79.7111\n",
            "Epoch 8/500\n",
            "1/1 [==============================] - 0s 12ms/step - loss: 61.7511 - mae: 61.7511\n",
            "Epoch 9/500\n",
            "1/1 [==============================] - 0s 11ms/step - loss: 4.8813 - mae: 4.8813\n",
            "Epoch 10/500\n",
            "1/1 [==============================] - 0s 10ms/step - loss: 175.2956 - mae: 175.2956\n",
            "Epoch 11/500\n",
            "1/1 [==============================] - 0s 14ms/step - loss: 75.2263 - mae: 75.2263\n",
            "Epoch 12/500\n",
            "1/1 [==============================] - 0s 13ms/step - loss: 47.6018 - mae: 47.6018\n",
            "Epoch 13/500\n",
            "1/1 [==============================] - 0s 13ms/step - loss: 39.9086 - mae: 39.9086\n",
            "Epoch 14/500\n",
            "1/1 [==============================] - 0s 13ms/step - loss: 81.7657 - mae: 81.7657\n",
            "Epoch 15/500\n",
            "1/1 [==============================] - 0s 11ms/step - loss: 68.3444 - mae: 68.3444\n",
            "Epoch 16/500\n",
            "1/1 [==============================] - 0s 11ms/step - loss: 25.8387 - mae: 25.8387\n",
            "Epoch 17/500\n",
            "1/1 [==============================] - 0s 12ms/step - loss: 108.8242 - mae: 108.8242\n",
            "Epoch 18/500\n",
            "1/1 [==============================] - 0s 12ms/step - loss: 78.4131 - mae: 78.4131\n",
            "Epoch 19/500\n",
            "1/1 [==============================] - 0s 11ms/step - loss: 57.7646 - mae: 57.7646\n",
            "Epoch 20/500\n",
            "1/1 [==============================] - 0s 12ms/step - loss: 7.6413 - mae: 7.6413\n",
            "Epoch 21/500\n",
            "1/1 [==============================] - 0s 11ms/step - loss: 83.2980 - mae: 83.2980\n",
            "Epoch 22/500\n",
            "1/1 [==============================] - 0s 12ms/step - loss: 73.2646 - mae: 73.2646\n",
            "Epoch 23/500\n",
            "1/1 [==============================] - 0s 21ms/step - loss: 41.4943 - mae: 41.4943\n",
            "Epoch 24/500\n",
            "1/1 [==============================] - 0s 15ms/step - loss: 59.1525 - mae: 59.1525\n",
            "Epoch 25/500\n",
            "1/1 [==============================] - 0s 15ms/step - loss: 80.7873 - mae: 80.7873\n",
            "Epoch 26/500\n",
            "1/1 [==============================] - 0s 17ms/step - loss: 65.3525 - mae: 65.3525\n",
            "Epoch 27/500\n",
            "1/1 [==============================] - 0s 14ms/step - loss: 16.4669 - mae: 16.4669\n",
            "Epoch 28/500\n",
            "1/1 [==============================] - 0s 18ms/step - loss: 138.4115 - mae: 138.4115\n",
            "Epoch 29/500\n",
            "1/1 [==============================] - 0s 18ms/step - loss: 76.9344 - mae: 76.9344\n",
            "Epoch 30/500\n",
            "1/1 [==============================] - 0s 17ms/step - loss: 53.1873 - mae: 53.1873\n",
            "Epoch 31/500\n",
            "1/1 [==============================] - 0s 18ms/step - loss: 22.0365 - mae: 22.0365\n",
            "Epoch 32/500\n",
            "1/1 [==============================] - 0s 13ms/step - loss: 82.5541 - mae: 82.5541\n",
            "Epoch 33/500\n",
            "1/1 [==============================] - 0s 14ms/step - loss: 71.0159 - mae: 71.0159\n",
            "Epoch 34/500\n",
            "1/1 [==============================] - 0s 13ms/step - loss: 34.4774 - mae: 34.4774\n",
            "Epoch 35/500\n",
            "1/1 [==============================] - 0s 14ms/step - loss: 81.2780 - mae: 81.2780\n",
            "Epoch 36/500\n",
            "1/1 [==============================] - 0s 16ms/step - loss: 79.6695 - mae: 79.6695\n",
            "Epoch 37/500\n",
            "1/1 [==============================] - 0s 22ms/step - loss: 61.9189 - mae: 61.9189\n",
            "Epoch 38/500\n",
            "1/1 [==============================] - 0s 18ms/step - loss: 5.6957 - mae: 5.6957\n",
            "Epoch 39/500\n",
            "1/1 [==============================] - 0s 18ms/step - loss: 172.4330 - mae: 172.4330\n",
            "Epoch 40/500\n",
            "1/1 [==============================] - 0s 16ms/step - loss: 75.2411 - mae: 75.2411\n",
            "Epoch 41/500\n",
            "1/1 [==============================] - 0s 15ms/step - loss: 47.9304 - mae: 47.9304\n",
            "Epoch 42/500\n",
            "1/1 [==============================] - 0s 16ms/step - loss: 38.5852 - mae: 38.5852\n",
            "Epoch 43/500\n",
            "1/1 [==============================] - 0s 14ms/step - loss: 81.7060 - mae: 81.7060\n",
            "Epoch 44/500\n",
            "1/1 [==============================] - 0s 15ms/step - loss: 68.4371 - mae: 68.4371\n",
            "Epoch 45/500\n",
            "1/1 [==============================] - 0s 14ms/step - loss: 26.4146 - mae: 26.4146\n",
            "Epoch 46/500\n",
            "1/1 [==============================] - 0s 14ms/step - loss: 106.7176 - mae: 106.7176\n",
            "Epoch 47/500\n",
            "1/1 [==============================] - 0s 11ms/step - loss: 78.3913 - mae: 78.3913\n",
            "Epoch 48/500\n",
            "1/1 [==============================] - 0s 11ms/step - loss: 57.9774 - mae: 57.9774\n",
            "Epoch 49/500\n",
            "1/1 [==============================] - 0s 12ms/step - loss: 6.6851 - mae: 6.6851\n",
            "Epoch 50/500\n",
            "1/1 [==============================] - 0s 14ms/step - loss: 83.2205 - mae: 83.2205\n",
            "Epoch 51/500\n",
            "1/1 [==============================] - 0s 13ms/step - loss: 73.3011 - mae: 73.3011\n",
            "Epoch 52/500\n",
            "1/1 [==============================] - 0s 11ms/step - loss: 41.8918 - mae: 41.8918\n",
            "Epoch 53/500\n",
            "1/1 [==============================] - 0s 12ms/step - loss: 57.6109 - mae: 57.6109\n",
            "Epoch 54/500\n",
            "1/1 [==============================] - 0s 12ms/step - loss: 80.7381 - mae: 80.7381\n",
            "Epoch 55/500\n",
            "1/1 [==============================] - 0s 14ms/step - loss: 65.4787 - mae: 65.4787\n",
            "Epoch 56/500\n",
            "1/1 [==============================] - 0s 12ms/step - loss: 17.1487 - mae: 17.1487\n",
            "Epoch 57/500\n",
            "1/1 [==============================] - 0s 11ms/step - loss: 135.9691 - mae: 135.9691\n",
            "Epoch 58/500\n",
            "1/1 [==============================] - 0s 14ms/step - loss: 76.9288 - mae: 76.9288\n",
            "Epoch 59/500\n",
            "1/1 [==============================] - 0s 14ms/step - loss: 53.4516 - mae: 53.4516\n",
            "Epoch 60/500\n",
            "1/1 [==============================] - 0s 13ms/step - loss: 20.9172 - mae: 20.9172\n",
            "Epoch 61/500\n",
            "1/1 [==============================] - 0s 12ms/step - loss: 82.4845 - mae: 82.4845\n",
            "Epoch 62/500\n",
            "1/1 [==============================] - 0s 16ms/step - loss: 71.0774 - mae: 71.0774\n",
            "Epoch 63/500\n",
            "1/1 [==============================] - 0s 16ms/step - loss: 34.9541 - mae: 34.9541\n",
            "Epoch 64/500\n",
            "1/1 [==============================] - 0s 14ms/step - loss: 79.4855 - mae: 79.4855\n",
            "Epoch 65/500\n",
            "1/1 [==============================] - 0s 12ms/step - loss: 79.6325 - mae: 79.6325\n",
            "Epoch 66/500\n",
            "1/1 [==============================] - 0s 11ms/step - loss: 62.0836 - mae: 62.0836\n",
            "Epoch 67/500\n",
            "1/1 [==============================] - 0s 11ms/step - loss: 6.4994 - mae: 6.4994\n",
            "Epoch 68/500\n",
            "1/1 [==============================] - 0s 11ms/step - loss: 169.6046 - mae: 169.6046\n",
            "Epoch 69/500\n",
            "1/1 [==============================] - 0s 11ms/step - loss: 75.2542 - mae: 75.2542\n",
            "Epoch 70/500\n",
            "1/1 [==============================] - 0s 12ms/step - loss: 48.2539 - mae: 48.2539\n",
            "Epoch 71/500\n",
            "1/1 [==============================] - 0s 11ms/step - loss: 37.2784 - mae: 37.2784\n",
            "Epoch 72/500\n",
            "1/1 [==============================] - 0s 13ms/step - loss: 81.6455 - mae: 81.6455\n",
            "Epoch 73/500\n",
            "1/1 [==============================] - 0s 12ms/step - loss: 68.5273 - mae: 68.5273\n",
            "Epoch 74/500\n",
            "1/1 [==============================] - 0s 14ms/step - loss: 26.9824 - mae: 26.9824\n",
            "Epoch 75/500\n",
            "1/1 [==============================] - 0s 13ms/step - loss: 104.6365 - mae: 104.6365\n",
            "Epoch 76/500\n",
            "1/1 [==============================] - 0s 20ms/step - loss: 78.3683 - mae: 78.3683\n",
            "Epoch 77/500\n",
            "1/1 [==============================] - 0s 18ms/step - loss: 58.1863 - mae: 58.1863\n",
            "Epoch 78/500\n",
            "1/1 [==============================] - 0s 13ms/step - loss: 5.7413 - mae: 5.7413\n",
            "Epoch 79/500\n",
            "1/1 [==============================] - 0s 11ms/step - loss: 83.1425 - mae: 83.1425\n",
            "Epoch 80/500\n",
            "1/1 [==============================] - 0s 11ms/step - loss: 73.3357 - mae: 73.3357\n",
            "Epoch 81/500\n",
            "1/1 [==============================] - 0s 13ms/step - loss: 42.2833 - mae: 42.2833\n",
            "Epoch 82/500\n",
            "1/1 [==============================] - 0s 11ms/step - loss: 56.0884 - mae: 56.0884\n",
            "Epoch 83/500\n",
            "1/1 [==============================] - 0s 11ms/step - loss: 80.6881 - mae: 80.6881\n",
            "Epoch 84/500\n",
            "1/1 [==============================] - 0s 18ms/step - loss: 65.6020 - mae: 65.6020\n",
            "Epoch 85/500\n",
            "1/1 [==============================] - 0s 14ms/step - loss: 17.8213 - mae: 17.8213\n",
            "Epoch 86/500\n",
            "1/1 [==============================] - 0s 14ms/step - loss: 133.5561 - mae: 133.5561\n",
            "Epoch 87/500\n",
            "1/1 [==============================] - 0s 16ms/step - loss: 76.9218 - mae: 76.9218\n",
            "Epoch 88/500\n",
            "1/1 [==============================] - 0s 14ms/step - loss: 53.7114 - mae: 53.7114\n",
            "Epoch 89/500\n",
            "1/1 [==============================] - 0s 14ms/step - loss: 19.8122 - mae: 19.8122\n",
            "Epoch 90/500\n",
            "1/1 [==============================] - 0s 13ms/step - loss: 82.4143 - mae: 82.4143\n",
            "Epoch 91/500\n",
            "1/1 [==============================] - 0s 11ms/step - loss: 71.1367 - mae: 71.1367\n",
            "Epoch 92/500\n",
            "1/1 [==============================] - 0s 11ms/step - loss: 35.4239 - mae: 35.4239\n",
            "Epoch 93/500\n",
            "1/1 [==============================] - 0s 19ms/step - loss: 77.7150 - mae: 77.7150\n",
            "Epoch 94/500\n",
            "1/1 [==============================] - 0s 15ms/step - loss: 79.5944 - mae: 79.5944\n",
            "Epoch 95/500\n",
            "1/1 [==============================] - 0s 12ms/step - loss: 62.2449 - mae: 62.2449\n",
            "Epoch 96/500\n",
            "1/1 [==============================] - 0s 13ms/step - loss: 7.2924 - mae: 7.2924\n",
            "Epoch 97/500\n",
            "1/1 [==============================] - 0s 11ms/step - loss: 166.8099 - mae: 166.8099\n",
            "Epoch 98/500\n",
            "1/1 [==============================] - 0s 11ms/step - loss: 75.2657 - mae: 75.2657\n",
            "Epoch 99/500\n",
            "1/1 [==============================] - 0s 11ms/step - loss: 48.5722 - mae: 48.5722\n",
            "Epoch 100/500\n",
            "1/1 [==============================] - 0s 11ms/step - loss: 35.9880 - mae: 35.9880\n",
            "Epoch 101/500\n",
            "1/1 [==============================] - 0s 12ms/step - loss: 81.5842 - mae: 81.5842\n",
            "Epoch 102/500\n",
            "1/1 [==============================] - 0s 13ms/step - loss: 68.6151 - mae: 68.6151\n",
            "Epoch 103/500\n",
            "1/1 [==============================] - 0s 12ms/step - loss: 27.5422 - mae: 27.5422\n",
            "Epoch 104/500\n",
            "1/1 [==============================] - 0s 12ms/step - loss: 102.5808 - mae: 102.5808\n",
            "Epoch 105/500\n",
            "1/1 [==============================] - 0s 12ms/step - loss: 78.3440 - mae: 78.3440\n",
            "Epoch 106/500\n",
            "1/1 [==============================] - 0s 12ms/step - loss: 58.3913 - mae: 58.3913\n",
            "Epoch 107/500\n",
            "1/1 [==============================] - 0s 12ms/step - loss: 4.8097 - mae: 4.8097\n",
            "Epoch 108/500\n",
            "1/1 [==============================] - 0s 11ms/step - loss: 83.0638 - mae: 83.0638\n",
            "Epoch 109/500\n",
            "1/1 [==============================] - 0s 11ms/step - loss: 73.3684 - mae: 73.3684\n",
            "Epoch 110/500\n",
            "1/1 [==============================] - 0s 12ms/step - loss: 42.6689 - mae: 42.6689\n",
            "Epoch 111/500\n",
            "1/1 [==============================] - 0s 12ms/step - loss: 54.5848 - mae: 54.5848\n",
            "Epoch 112/500\n",
            "1/1 [==============================] - 0s 11ms/step - loss: 80.6371 - mae: 80.6371\n",
            "Epoch 113/500\n",
            "1/1 [==============================] - 0s 11ms/step - loss: 65.7223 - mae: 65.7223\n",
            "Epoch 114/500\n",
            "1/1 [==============================] - 0s 15ms/step - loss: 18.4847 - mae: 18.4847\n",
            "Epoch 115/500\n",
            "1/1 [==============================] - 0s 11ms/step - loss: 131.1722 - mae: 131.1722\n",
            "Epoch 116/500\n",
            "1/1 [==============================] - 0s 11ms/step - loss: 76.9134 - mae: 76.9134\n",
            "Epoch 117/500\n",
            "1/1 [==============================] - 0s 11ms/step - loss: 53.9667 - mae: 53.9667\n",
            "Epoch 118/500\n",
            "1/1 [==============================] - 0s 12ms/step - loss: 18.7212 - mae: 18.7212\n",
            "Epoch 119/500\n",
            "1/1 [==============================] - 0s 12ms/step - loss: 82.3433 - mae: 82.3433\n",
            "Epoch 120/500\n",
            "1/1 [==============================] - 0s 11ms/step - loss: 71.1938 - mae: 71.1938\n",
            "Epoch 121/500\n",
            "1/1 [==============================] - 0s 12ms/step - loss: 35.8869 - mae: 35.8869\n",
            "Epoch 122/500\n",
            "1/1 [==============================] - 0s 11ms/step - loss: 75.9661 - mae: 75.9661\n",
            "Epoch 123/500\n",
            "1/1 [==============================] - 0s 10ms/step - loss: 79.5553 - mae: 79.5553\n",
            "Epoch 124/500\n",
            "1/1 [==============================] - 0s 11ms/step - loss: 62.4029 - mae: 62.4029\n",
            "Epoch 125/500\n",
            "1/1 [==============================] - 0s 11ms/step - loss: 8.0749 - mae: 8.0749\n",
            "Epoch 126/500\n",
            "1/1 [==============================] - 0s 11ms/step - loss: 164.0486 - mae: 164.0486\n",
            "Epoch 127/500\n",
            "1/1 [==============================] - 0s 10ms/step - loss: 75.2755 - mae: 75.2755\n",
            "Epoch 128/500\n",
            "1/1 [==============================] - 0s 11ms/step - loss: 48.8853 - mae: 48.8853\n",
            "Epoch 129/500\n",
            "1/1 [==============================] - 0s 11ms/step - loss: 34.7138 - mae: 34.7138\n",
            "Epoch 130/500\n",
            "1/1 [==============================] - 0s 11ms/step - loss: 81.5222 - mae: 81.5222\n",
            "Epoch 131/500\n",
            "1/1 [==============================] - 0s 13ms/step - loss: 68.7003 - mae: 68.7003\n",
            "Epoch 132/500\n",
            "1/1 [==============================] - 0s 13ms/step - loss: 28.0942 - mae: 28.0942\n",
            "Epoch 133/500\n",
            "1/1 [==============================] - 0s 14ms/step - loss: 100.5498 - mae: 100.5498\n",
            "Epoch 134/500\n",
            "1/1 [==============================] - 0s 12ms/step - loss: 78.3185 - mae: 78.3185\n",
            "Epoch 135/500\n",
            "1/1 [==============================] - 0s 11ms/step - loss: 58.5925 - mae: 58.5925\n",
            "Epoch 136/500\n",
            "1/1 [==============================] - 0s 12ms/step - loss: 3.8902 - mae: 3.8902\n",
            "Epoch 137/500\n",
            "1/1 [==============================] - 0s 12ms/step - loss: 82.9846 - mae: 82.9846\n",
            "Epoch 138/500\n",
            "1/1 [==============================] - 0s 11ms/step - loss: 73.3993 - mae: 73.3993\n",
            "Epoch 139/500\n",
            "1/1 [==============================] - 0s 10ms/step - loss: 43.0486 - mae: 43.0486\n",
            "Epoch 140/500\n",
            "1/1 [==============================] - 0s 11ms/step - loss: 53.0998 - mae: 53.0998\n",
            "Epoch 141/500\n",
            "1/1 [==============================] - 0s 11ms/step - loss: 80.5852 - mae: 80.5852\n",
            "Epoch 142/500\n",
            "1/1 [==============================] - 0s 11ms/step - loss: 65.8399 - mae: 65.8399\n",
            "Epoch 143/500\n",
            "1/1 [==============================] - 0s 11ms/step - loss: 19.1391 - mae: 19.1391\n",
            "Epoch 144/500\n",
            "1/1 [==============================] - 0s 12ms/step - loss: 128.8168 - mae: 128.8168\n",
            "Epoch 145/500\n",
            "1/1 [==============================] - 0s 14ms/step - loss: 76.9036 - mae: 76.9036\n",
            "Epoch 146/500\n",
            "1/1 [==============================] - 0s 15ms/step - loss: 54.2176 - mae: 54.2176\n",
            "Epoch 147/500\n",
            "1/1 [==============================] - 0s 19ms/step - loss: 17.6442 - mae: 17.6442\n",
            "Epoch 148/500\n",
            "1/1 [==============================] - 0s 20ms/step - loss: 82.2717 - mae: 82.2717\n",
            "Epoch 149/500\n",
            "1/1 [==============================] - 0s 14ms/step - loss: 71.2488 - mae: 71.2488\n",
            "Epoch 150/500\n",
            "1/1 [==============================] - 0s 14ms/step - loss: 36.3431 - mae: 36.3431\n",
            "Epoch 151/500\n",
            "1/1 [==============================] - 0s 14ms/step - loss: 74.2386 - mae: 74.2386\n",
            "Epoch 152/500\n",
            "1/1 [==============================] - 0s 12ms/step - loss: 79.5151 - mae: 79.5151\n",
            "Epoch 153/500\n",
            "1/1 [==============================] - 0s 19ms/step - loss: 62.5575 - mae: 62.5575\n",
            "Epoch 154/500\n",
            "1/1 [==============================] - 0s 19ms/step - loss: 8.8470 - mae: 8.8470\n",
            "Epoch 155/500\n",
            "1/1 [==============================] - 0s 13ms/step - loss: 161.3201 - mae: 161.3201\n",
            "Epoch 156/500\n",
            "1/1 [==============================] - 0s 15ms/step - loss: 75.2838 - mae: 75.2838\n",
            "Epoch 157/500\n",
            "1/1 [==============================] - 0s 12ms/step - loss: 49.1934 - mae: 49.1934\n",
            "Epoch 158/500\n",
            "1/1 [==============================] - 0s 11ms/step - loss: 33.4555 - mae: 33.4555\n",
            "Epoch 159/500\n",
            "1/1 [==============================] - 0s 15ms/step - loss: 81.4593 - mae: 81.4593\n",
            "Epoch 160/500\n",
            "1/1 [==============================] - 0s 16ms/step - loss: 68.7831 - mae: 68.7831\n",
            "Epoch 161/500\n",
            "1/1 [==============================] - 0s 16ms/step - loss: 28.6384 - mae: 28.6384\n",
            "Epoch 162/500\n",
            "1/1 [==============================] - 0s 11ms/step - loss: 98.5434 - mae: 98.5434\n",
            "Epoch 163/500\n",
            "1/1 [==============================] - 0s 13ms/step - loss: 78.2919 - mae: 78.2919\n",
            "Epoch 164/500\n",
            "1/1 [==============================] - 0s 17ms/step - loss: 58.7900 - mae: 58.7900\n",
            "Epoch 165/500\n",
            "1/1 [==============================] - 0s 19ms/step - loss: 2.9826 - mae: 2.9826\n",
            "Epoch 166/500\n",
            "1/1 [==============================] - 0s 16ms/step - loss: 82.9048 - mae: 82.9048\n",
            "Epoch 167/500\n",
            "1/1 [==============================] - 0s 17ms/step - loss: 73.4283 - mae: 73.4283\n",
            "Epoch 168/500\n",
            "1/1 [==============================] - 0s 12ms/step - loss: 43.4225 - mae: 43.4225\n",
            "Epoch 169/500\n",
            "1/1 [==============================] - 0s 11ms/step - loss: 51.6330 - mae: 51.6330\n",
            "Epoch 170/500\n",
            "1/1 [==============================] - 0s 14ms/step - loss: 80.5325 - mae: 80.5325\n",
            "Epoch 171/500\n",
            "1/1 [==============================] - 0s 12ms/step - loss: 65.9546 - mae: 65.9546\n",
            "Epoch 172/500\n",
            "1/1 [==============================] - 0s 13ms/step - loss: 19.7845 - mae: 19.7845\n",
            "Epoch 173/500\n",
            "1/1 [==============================] - 0s 13ms/step - loss: 126.4896 - mae: 126.4896\n",
            "Epoch 174/500\n",
            "1/1 [==============================] - 0s 17ms/step - loss: 76.8925 - mae: 76.8925\n",
            "Epoch 175/500\n",
            "1/1 [==============================] - 0s 19ms/step - loss: 54.4643 - mae: 54.4643\n",
            "Epoch 176/500\n",
            "1/1 [==============================] - 0s 12ms/step - loss: 16.5808 - mae: 16.5808\n",
            "Epoch 177/500\n",
            "1/1 [==============================] - 0s 20ms/step - loss: 82.1994 - mae: 82.1994\n",
            "Epoch 178/500\n",
            "1/1 [==============================] - 0s 16ms/step - loss: 71.3017 - mae: 71.3017\n",
            "Epoch 179/500\n",
            "1/1 [==============================] - 0s 13ms/step - loss: 36.7927 - mae: 36.7927\n",
            "Epoch 180/500\n",
            "1/1 [==============================] - 0s 12ms/step - loss: 72.5321 - mae: 72.5321\n",
            "Epoch 181/500\n",
            "1/1 [==============================] - 0s 16ms/step - loss: 79.4740 - mae: 79.4740\n",
            "Epoch 182/500\n",
            "1/1 [==============================] - 0s 20ms/step - loss: 62.7090 - mae: 62.7090\n",
            "Epoch 183/500\n",
            "1/1 [==============================] - 0s 12ms/step - loss: 9.6089 - mae: 9.6089\n",
            "Epoch 184/500\n",
            "1/1 [==============================] - 0s 13ms/step - loss: 158.6239 - mae: 158.6239\n",
            "Epoch 185/500\n",
            "1/1 [==============================] - 0s 15ms/step - loss: 75.2905 - mae: 75.2905\n",
            "Epoch 186/500\n",
            "1/1 [==============================] - 0s 18ms/step - loss: 49.4966 - mae: 49.4966\n",
            "Epoch 187/500\n",
            "1/1 [==============================] - 0s 15ms/step - loss: 32.2129 - mae: 32.2129\n",
            "Epoch 188/500\n",
            "1/1 [==============================] - 0s 21ms/step - loss: 81.3957 - mae: 81.3957\n",
            "Epoch 189/500\n",
            "1/1 [==============================] - 0s 15ms/step - loss: 68.8634 - mae: 68.8634\n",
            "Epoch 190/500\n",
            "1/1 [==============================] - 0s 13ms/step - loss: 29.1750 - mae: 29.1750\n",
            "Epoch 191/500\n",
            "1/1 [==============================] - 0s 16ms/step - loss: 96.5612 - mae: 96.5612\n",
            "Epoch 192/500\n",
            "1/1 [==============================] - 0s 17ms/step - loss: 78.2641 - mae: 78.2641\n",
            "Epoch 193/500\n",
            "1/1 [==============================] - 0s 16ms/step - loss: 58.9837 - mae: 58.9837\n",
            "Epoch 194/500\n",
            "1/1 [==============================] - 0s 17ms/step - loss: 2.1866 - mae: 2.1866\n",
            "Epoch 195/500\n",
            "1/1 [==============================] - 0s 28ms/step - loss: 76.8275 - mae: 76.8275\n",
            "Epoch 196/500\n",
            "1/1 [==============================] - 0s 19ms/step - loss: 54.4579 - mae: 54.4579\n",
            "Epoch 197/500\n",
            "1/1 [==============================] - 0s 23ms/step - loss: 16.4014 - mae: 16.4014\n",
            "Epoch 198/500\n",
            "1/1 [==============================] - 0s 21ms/step - loss: 82.1206 - mae: 82.1206\n",
            "Epoch 199/500\n",
            "1/1 [==============================] - 0s 24ms/step - loss: 71.2514 - mae: 71.2514\n",
            "Epoch 200/500\n",
            "1/1 [==============================] - 0s 31ms/step - loss: 36.8325 - mae: 36.8325\n",
            "Epoch 201/500\n",
            "1/1 [==============================] - 0s 34ms/step - loss: 72.2064 - mae: 72.2064\n",
            "Epoch 202/500\n",
            "1/1 [==============================] - 0s 37ms/step - loss: 79.4022 - mae: 79.4022\n",
            "Epoch 203/500\n",
            "1/1 [==============================] - 0s 23ms/step - loss: 62.6811 - mae: 62.6811\n",
            "Epoch 204/500\n",
            "1/1 [==============================] - 0s 26ms/step - loss: 9.7198 - mae: 9.7198\n",
            "Epoch 205/500\n",
            "1/1 [==============================] - 0s 36ms/step - loss: 158.0731 - mae: 158.0731\n",
            "Epoch 206/500\n",
            "1/1 [==============================] - 0s 30ms/step - loss: 75.2296 - mae: 75.2296\n",
            "Epoch 207/500\n",
            "1/1 [==============================] - 0s 26ms/step - loss: 49.5031 - mae: 49.5031\n",
            "Epoch 208/500\n",
            "1/1 [==============================] - 0s 31ms/step - loss: 31.9927 - mae: 31.9927\n",
            "Epoch 209/500\n",
            "1/1 [==============================] - 0s 30ms/step - loss: 81.3188 - mae: 81.3188\n",
            "Epoch 210/500\n",
            "1/1 [==============================] - 0s 29ms/step - loss: 68.8193 - mae: 68.8193\n",
            "Epoch 211/500\n",
            "1/1 [==============================] - 0s 31ms/step - loss: 29.2346 - mae: 29.2346\n",
            "Epoch 212/500\n",
            "1/1 [==============================] - 0s 21ms/step - loss: 96.1728 - mae: 96.1728\n",
            "Epoch 213/500\n",
            "1/1 [==============================] - 0s 62ms/step - loss: 78.1953 - mae: 78.1953\n",
            "Epoch 214/500\n",
            "1/1 [==============================] - 0s 29ms/step - loss: 58.9653 - mae: 58.9653\n",
            "Epoch 215/500\n",
            "1/1 [==============================] - 0s 29ms/step - loss: 2.0676 - mae: 2.0676\n",
            "Epoch 216/500\n",
            "1/1 [==============================] - 0s 30ms/step - loss: 67.5573 - mae: 67.5573\n",
            "Epoch 217/500\n",
            "1/1 [==============================] - 0s 23ms/step - loss: 25.2880 - mae: 25.2880\n",
            "Epoch 218/500\n",
            "1/1 [==============================] - 0s 28ms/step - loss: 108.6261 - mae: 108.6261\n",
            "Epoch 219/500\n",
            "1/1 [==============================] - 0s 27ms/step - loss: 77.5701 - mae: 77.5701\n",
            "Epoch 220/500\n",
            "1/1 [==============================] - 0s 36ms/step - loss: 57.0363 - mae: 57.0363\n",
            "Epoch 221/500\n",
            "1/1 [==============================] - 0s 37ms/step - loss: 8.0059 - mae: 8.0059\n",
            "Epoch 222/500\n",
            "1/1 [==============================] - 0s 32ms/step - loss: 82.4277 - mae: 82.4277\n",
            "Epoch 223/500\n",
            "1/1 [==============================] - 0s 30ms/step - loss: 72.4501 - mae: 72.4501\n",
            "Epoch 224/500\n",
            "1/1 [==============================] - 0s 28ms/step - loss: 40.8563 - mae: 40.8563\n",
            "Epoch 225/500\n",
            "1/1 [==============================] - 0s 24ms/step - loss: 59.2308 - mae: 59.2308\n",
            "Epoch 226/500\n",
            "1/1 [==============================] - 0s 23ms/step - loss: 79.9308 - mae: 79.9308\n",
            "Epoch 227/500\n",
            "1/1 [==============================] - 0s 21ms/step - loss: 64.5818 - mae: 64.5818\n",
            "Epoch 228/500\n",
            "1/1 [==============================] - 0s 28ms/step - loss: 15.9681 - mae: 15.9681\n",
            "Epoch 229/500\n",
            "1/1 [==============================] - 0s 30ms/step - loss: 138.0490 - mae: 138.0490\n",
            "Epoch 230/500\n",
            "1/1 [==============================] - 0s 27ms/step - loss: 76.0992 - mae: 76.0992\n",
            "Epoch 231/500\n",
            "1/1 [==============================] - 0s 25ms/step - loss: 52.4842 - mae: 52.4842\n",
            "Epoch 232/500\n",
            "1/1 [==============================] - 0s 22ms/step - loss: 22.3213 - mae: 22.3213\n",
            "Epoch 233/500\n",
            "1/1 [==============================] - 0s 30ms/step - loss: 81.6877 - mae: 81.6877\n",
            "Epoch 234/500\n",
            "1/1 [==============================] - 0s 30ms/step - loss: 70.2136 - mae: 70.2136\n",
            "Epoch 235/500\n",
            "1/1 [==============================] - 0s 20ms/step - loss: 33.8782 - mae: 33.8782\n",
            "Epoch 236/500\n",
            "1/1 [==============================] - 0s 15ms/step - loss: 81.2335 - mae: 81.2335\n",
            "Epoch 237/500\n",
            "1/1 [==============================] - 0s 28ms/step - loss: 78.8190 - mae: 78.8190\n",
            "Epoch 238/500\n",
            "1/1 [==============================] - 0s 16ms/step - loss: 61.1671 - mae: 61.1671\n",
            "Epoch 239/500\n",
            "1/1 [==============================] - 0s 16ms/step - loss: 5.2565 - mae: 5.2565\n",
            "Epoch 240/500\n",
            "1/1 [==============================] - 0s 22ms/step - loss: 171.8818 - mae: 171.8818\n",
            "Epoch 241/500\n",
            "1/1 [==============================] - 0s 24ms/step - loss: 74.4151 - mae: 74.4151\n",
            "Epoch 242/500\n",
            "1/1 [==============================] - 0s 24ms/step - loss: 47.2563 - mae: 47.2563\n",
            "Epoch 243/500\n",
            "1/1 [==============================] - 0s 30ms/step - loss: 38.7783 - mae: 38.7783\n",
            "Epoch 244/500\n",
            "1/1 [==============================] - 0s 24ms/step - loss: 80.8440 - mae: 80.8440\n",
            "Epoch 245/500\n",
            "1/1 [==============================] - 0s 22ms/step - loss: 67.6488 - mae: 67.6488\n",
            "Epoch 246/500\n",
            "1/1 [==============================] - 0s 21ms/step - loss: 25.8599 - mae: 25.8599\n",
            "Epoch 247/500\n",
            "1/1 [==============================] - 0s 26ms/step - loss: 106.5321 - mae: 106.5321\n",
            "Epoch 248/500\n",
            "1/1 [==============================] - 0s 35ms/step - loss: 77.5476 - mae: 77.5476\n",
            "Epoch 249/500\n",
            "1/1 [==============================] - 0s 55ms/step - loss: 57.2472 - mae: 57.2472\n",
            "Epoch 250/500\n",
            "1/1 [==============================] - 0s 32ms/step - loss: 7.0558 - mae: 7.0558\n",
            "Epoch 251/500\n",
            "1/1 [==============================] - 0s 19ms/step - loss: 82.3500 - mae: 82.3500\n",
            "Epoch 252/500\n",
            "1/1 [==============================] - 0s 27ms/step - loss: 72.4856 - mae: 72.4856\n",
            "Epoch 253/500\n",
            "1/1 [==============================] - 0s 28ms/step - loss: 41.2509 - mae: 41.2509\n",
            "Epoch 254/500\n",
            "1/1 [==============================] - 0s 32ms/step - loss: 57.6985 - mae: 57.6985\n",
            "Epoch 255/500\n",
            "1/1 [==============================] - 0s 23ms/step - loss: 79.8812 - mae: 79.8812\n",
            "Epoch 256/500\n",
            "1/1 [==============================] - 0s 24ms/step - loss: 64.7066 - mae: 64.7066\n",
            "Epoch 257/500\n",
            "1/1 [==============================] - 0s 28ms/step - loss: 16.6453 - mae: 16.6453\n",
            "Epoch 258/500\n",
            "1/1 [==============================] - 0s 63ms/step - loss: 135.6211 - mae: 135.6211\n",
            "Epoch 259/500\n",
            "1/1 [==============================] - 0s 26ms/step - loss: 76.0930 - mae: 76.0930\n",
            "Epoch 260/500\n",
            "1/1 [==============================] - 0s 45ms/step - loss: 52.7463 - mae: 52.7463\n",
            "Epoch 261/500\n",
            "1/1 [==============================] - 0s 40ms/step - loss: 21.2091 - mae: 21.2091\n",
            "Epoch 262/500\n",
            "1/1 [==============================] - 0s 25ms/step - loss: 81.6178 - mae: 81.6178\n",
            "Epoch 263/500\n",
            "1/1 [==============================] - 0s 13ms/step - loss: 70.2740 - mae: 70.2740\n",
            "Epoch 264/500\n",
            "1/1 [==============================] - 0s 32ms/step - loss: 34.3515 - mae: 34.3515\n",
            "Epoch 265/500\n",
            "1/1 [==============================] - 0s 27ms/step - loss: 79.4518 - mae: 79.4518\n",
            "Epoch 266/500\n",
            "1/1 [==============================] - 0s 22ms/step - loss: 78.7814 - mae: 78.7814\n",
            "Epoch 267/500\n",
            "1/1 [==============================] - 0s 30ms/step - loss: 61.3301 - mae: 61.3301\n",
            "Epoch 268/500\n",
            "1/1 [==============================] - 0s 23ms/step - loss: 6.0549 - mae: 6.0549\n",
            "Epoch 269/500\n",
            "1/1 [==============================] - 0s 36ms/step - loss: 169.0700 - mae: 169.0700\n",
            "Epoch 270/500\n",
            "1/1 [==============================] - 0s 26ms/step - loss: 74.4274 - mae: 74.4274\n",
            "Epoch 271/500\n",
            "1/1 [==============================] - 0s 23ms/step - loss: 47.5771 - mae: 47.5771\n",
            "Epoch 272/500\n",
            "1/1 [==============================] - 0s 27ms/step - loss: 37.4796 - mae: 37.4796\n",
            "Epoch 273/500\n",
            "1/1 [==============================] - 0s 32ms/step - loss: 80.7831 - mae: 80.7831\n",
            "Epoch 274/500\n",
            "1/1 [==============================] - 0s 19ms/step - loss: 67.7378 - mae: 67.7378\n",
            "Epoch 275/500\n",
            "1/1 [==============================] - 0s 43ms/step - loss: 26.4238 - mae: 26.4238\n",
            "Epoch 276/500\n",
            "1/1 [==============================] - 0s 27ms/step - loss: 104.4634 - mae: 104.4634\n",
            "Epoch 277/500\n",
            "1/1 [==============================] - 0s 21ms/step - loss: 77.5240 - mae: 77.5240\n",
            "Epoch 278/500\n",
            "1/1 [==============================] - 0s 26ms/step - loss: 57.4542 - mae: 57.4542\n",
            "Epoch 279/500\n",
            "1/1 [==============================] - 0s 23ms/step - loss: 6.1180 - mae: 6.1180\n",
            "Epoch 280/500\n",
            "1/1 [==============================] - 0s 23ms/step - loss: 82.2716 - mae: 82.2716\n",
            "Epoch 281/500\n",
            "1/1 [==============================] - 0s 27ms/step - loss: 72.5193 - mae: 72.5193\n",
            "Epoch 282/500\n",
            "1/1 [==============================] - 0s 34ms/step - loss: 41.6395 - mae: 41.6395\n",
            "Epoch 283/500\n",
            "1/1 [==============================] - 0s 23ms/step - loss: 56.1854 - mae: 56.1854\n",
            "Epoch 284/500\n",
            "1/1 [==============================] - 0s 28ms/step - loss: 79.8307 - mae: 79.8307\n",
            "Epoch 285/500\n",
            "1/1 [==============================] - 0s 24ms/step - loss: 64.8284 - mae: 64.8284\n",
            "Epoch 286/500\n",
            "1/1 [==============================] - 0s 24ms/step - loss: 17.3134 - mae: 17.3134\n",
            "Epoch 287/500\n",
            "1/1 [==============================] - 0s 18ms/step - loss: 133.2224 - mae: 133.2224\n",
            "Epoch 288/500\n",
            "1/1 [==============================] - 0s 24ms/step - loss: 76.0853 - mae: 76.0853\n",
            "Epoch 289/500\n",
            "1/1 [==============================] - 0s 43ms/step - loss: 53.0038 - mae: 53.0038\n",
            "Epoch 290/500\n",
            "1/1 [==============================] - 0s 25ms/step - loss: 20.1109 - mae: 20.1109\n",
            "Epoch 291/500\n",
            "1/1 [==============================] - 0s 27ms/step - loss: 81.5472 - mae: 81.5472\n",
            "Epoch 292/500\n",
            "1/1 [==============================] - 0s 14ms/step - loss: 70.3322 - mae: 70.3322\n",
            "Epoch 293/500\n",
            "1/1 [==============================] - 0s 13ms/step - loss: 34.8180 - mae: 34.8180\n",
            "Epoch 294/500\n",
            "1/1 [==============================] - 0s 11ms/step - loss: 77.6919 - mae: 77.6919\n",
            "Epoch 295/500\n",
            "1/1 [==============================] - 0s 14ms/step - loss: 78.7428 - mae: 78.7428\n",
            "Epoch 296/500\n",
            "1/1 [==============================] - 0s 13ms/step - loss: 61.4897 - mae: 61.4897\n",
            "Epoch 297/500\n",
            "1/1 [==============================] - 0s 25ms/step - loss: 6.8427 - mae: 6.8427\n",
            "Epoch 298/500\n",
            "1/1 [==============================] - 0s 26ms/step - loss: 166.2916 - mae: 166.2916\n",
            "Epoch 299/500\n",
            "1/1 [==============================] - 0s 24ms/step - loss: 74.4381 - mae: 74.4381\n",
            "Epoch 300/500\n",
            "1/1 [==============================] - 0s 24ms/step - loss: 47.8929 - mae: 47.8929\n",
            "Epoch 301/500\n",
            "1/1 [==============================] - 0s 22ms/step - loss: 36.1971 - mae: 36.1971\n",
            "Epoch 302/500\n",
            "1/1 [==============================] - 0s 53ms/step - loss: 80.7215 - mae: 80.7215\n",
            "Epoch 303/500\n",
            "1/1 [==============================] - 0s 28ms/step - loss: 67.8243 - mae: 67.8243\n",
            "Epoch 304/500\n",
            "1/1 [==============================] - 0s 27ms/step - loss: 26.9798 - mae: 26.9798\n",
            "Epoch 305/500\n",
            "1/1 [==============================] - 0s 13ms/step - loss: 102.4197 - mae: 102.4197\n",
            "Epoch 306/500\n",
            "1/1 [==============================] - 0s 26ms/step - loss: 77.4991 - mae: 77.4991\n",
            "Epoch 307/500\n",
            "1/1 [==============================] - 0s 29ms/step - loss: 57.6573 - mae: 57.6573\n",
            "Epoch 308/500\n",
            "1/1 [==============================] - 0s 17ms/step - loss: 5.1923 - mae: 5.1923\n",
            "Epoch 309/500\n",
            "1/1 [==============================] - 0s 23ms/step - loss: 82.1927 - mae: 82.1927\n",
            "Epoch 310/500\n",
            "1/1 [==============================] - 0s 31ms/step - loss: 72.5511 - mae: 72.5511\n",
            "Epoch 311/500\n",
            "1/1 [==============================] - 0s 24ms/step - loss: 42.0222 - mae: 42.0222\n",
            "Epoch 312/500\n",
            "1/1 [==============================] - 0s 13ms/step - loss: 54.6908 - mae: 54.6908\n",
            "Epoch 313/500\n",
            "1/1 [==============================] - 0s 25ms/step - loss: 79.7793 - mae: 79.7793\n",
            "Epoch 314/500\n",
            "1/1 [==============================] - 0s 16ms/step - loss: 64.9474 - mae: 64.9474\n",
            "Epoch 315/500\n",
            "1/1 [==============================] - 0s 22ms/step - loss: 17.9724 - mae: 17.9724\n",
            "Epoch 316/500\n",
            "1/1 [==============================] - 0s 29ms/step - loss: 130.8524 - mae: 130.8524\n",
            "Epoch 317/500\n",
            "1/1 [==============================] - 0s 24ms/step - loss: 76.0762 - mae: 76.0762\n",
            "Epoch 318/500\n",
            "1/1 [==============================] - 0s 32ms/step - loss: 53.2570 - mae: 53.2570\n",
            "Epoch 319/500\n",
            "1/1 [==============================] - 0s 22ms/step - loss: 19.0267 - mae: 19.0267\n",
            "Epoch 320/500\n",
            "1/1 [==============================] - 0s 26ms/step - loss: 81.4759 - mae: 81.4759\n",
            "Epoch 321/500\n",
            "1/1 [==============================] - 0s 28ms/step - loss: 70.3883 - mae: 70.3883\n",
            "Epoch 322/500\n",
            "1/1 [==============================] - 0s 22ms/step - loss: 35.2777 - mae: 35.2777\n",
            "Epoch 323/500\n",
            "1/1 [==============================] - 0s 23ms/step - loss: 75.9533 - mae: 75.9533\n",
            "Epoch 324/500\n",
            "1/1 [==============================] - 0s 23ms/step - loss: 78.7032 - mae: 78.7032\n",
            "Epoch 325/500\n",
            "1/1 [==============================] - 0s 22ms/step - loss: 61.6461 - mae: 61.6461\n",
            "Epoch 326/500\n",
            "1/1 [==============================] - 0s 21ms/step - loss: 7.6203 - mae: 7.6203\n",
            "Epoch 327/500\n",
            "1/1 [==============================] - 0s 23ms/step - loss: 163.5460 - mae: 163.5460\n",
            "Epoch 328/500\n",
            "1/1 [==============================] - 0s 28ms/step - loss: 74.4472 - mae: 74.4472\n",
            "Epoch 329/500\n",
            "1/1 [==============================] - 0s 20ms/step - loss: 48.2037 - mae: 48.2037\n",
            "Epoch 330/500\n",
            "1/1 [==============================] - 0s 24ms/step - loss: 34.9305 - mae: 34.9305\n",
            "Epoch 331/500\n",
            "1/1 [==============================] - 0s 22ms/step - loss: 80.6590 - mae: 80.6590\n",
            "Epoch 332/500\n",
            "1/1 [==============================] - 0s 19ms/step - loss: 67.9084 - mae: 67.9084\n",
            "Epoch 333/500\n",
            "1/1 [==============================] - 0s 24ms/step - loss: 27.5280 - mae: 27.5280\n",
            "Epoch 334/500\n",
            "1/1 [==============================] - 0s 21ms/step - loss: 100.4005 - mae: 100.4005\n",
            "Epoch 335/500\n",
            "1/1 [==============================] - 0s 31ms/step - loss: 77.4731 - mae: 77.4731\n",
            "Epoch 336/500\n",
            "1/1 [==============================] - 0s 31ms/step - loss: 57.8567 - mae: 57.8567\n",
            "Epoch 337/500\n",
            "1/1 [==============================] - 0s 28ms/step - loss: 4.2786 - mae: 4.2786\n",
            "Epoch 338/500\n",
            "1/1 [==============================] - 0s 54ms/step - loss: 82.1132 - mae: 82.1132\n",
            "Epoch 339/500\n",
            "1/1 [==============================] - 0s 21ms/step - loss: 72.5811 - mae: 72.5811\n",
            "Epoch 340/500\n",
            "1/1 [==============================] - 0s 34ms/step - loss: 42.3991 - mae: 42.3991\n",
            "Epoch 341/500\n",
            "1/1 [==============================] - 0s 30ms/step - loss: 53.2146 - mae: 53.2146\n",
            "Epoch 342/500\n",
            "1/1 [==============================] - 0s 15ms/step - loss: 79.7270 - mae: 79.7270\n",
            "Epoch 343/500\n",
            "1/1 [==============================] - 0s 22ms/step - loss: 65.0636 - mae: 65.0636\n",
            "Epoch 344/500\n",
            "1/1 [==============================] - 0s 22ms/step - loss: 18.6225 - mae: 18.6225\n",
            "Epoch 345/500\n",
            "1/1 [==============================] - 0s 27ms/step - loss: 128.5106 - mae: 128.5106\n",
            "Epoch 346/500\n",
            "1/1 [==============================] - 0s 20ms/step - loss: 76.0658 - mae: 76.0658\n",
            "Epoch 347/500\n",
            "1/1 [==============================] - 0s 24ms/step - loss: 53.5059 - mae: 53.5059\n",
            "Epoch 348/500\n",
            "1/1 [==============================] - 0s 20ms/step - loss: 17.9563 - mae: 17.9563\n",
            "Epoch 349/500\n",
            "1/1 [==============================] - 0s 20ms/step - loss: 81.4040 - mae: 81.4040\n",
            "Epoch 350/500\n",
            "1/1 [==============================] - 0s 21ms/step - loss: 70.4423 - mae: 70.4423\n",
            "Epoch 351/500\n",
            "1/1 [==============================] - 0s 21ms/step - loss: 35.7306 - mae: 35.7306\n",
            "Epoch 352/500\n",
            "1/1 [==============================] - 0s 24ms/step - loss: 74.2361 - mae: 74.2361\n",
            "Epoch 353/500\n",
            "1/1 [==============================] - 0s 18ms/step - loss: 78.6626 - mae: 78.6626\n",
            "Epoch 354/500\n",
            "1/1 [==============================] - 0s 41ms/step - loss: 61.7993 - mae: 61.7993\n",
            "Epoch 355/500\n",
            "1/1 [==============================] - 0s 20ms/step - loss: 8.3874 - mae: 8.3874\n",
            "Epoch 356/500\n",
            "1/1 [==============================] - 0s 20ms/step - loss: 160.8334 - mae: 160.8334\n",
            "Epoch 357/500\n",
            "1/1 [==============================] - 0s 28ms/step - loss: 74.4547 - mae: 74.4547\n",
            "Epoch 358/500\n",
            "1/1 [==============================] - 0s 29ms/step - loss: 48.5094 - mae: 48.5094\n",
            "Epoch 359/500\n",
            "1/1 [==============================] - 0s 47ms/step - loss: 33.6800 - mae: 33.6800\n",
            "Epoch 360/500\n",
            "1/1 [==============================] - 0s 31ms/step - loss: 80.5958 - mae: 80.5958\n",
            "Epoch 361/500\n",
            "1/1 [==============================] - 0s 25ms/step - loss: 67.9900 - mae: 67.9900\n",
            "Epoch 362/500\n",
            "1/1 [==============================] - 0s 21ms/step - loss: 28.0685 - mae: 28.0685\n",
            "Epoch 363/500\n",
            "1/1 [==============================] - 0s 20ms/step - loss: 98.4061 - mae: 98.4061\n",
            "Epoch 364/500\n",
            "1/1 [==============================] - 0s 24ms/step - loss: 77.4459 - mae: 77.4459\n",
            "Epoch 365/500\n",
            "1/1 [==============================] - 0s 41ms/step - loss: 58.0523 - mae: 58.0523\n",
            "Epoch 366/500\n",
            "1/1 [==============================] - 0s 35ms/step - loss: 3.3768 - mae: 3.3768\n",
            "Epoch 367/500\n",
            "1/1 [==============================] - 0s 33ms/step - loss: 82.0331 - mae: 82.0331\n",
            "Epoch 368/500\n",
            "1/1 [==============================] - 0s 34ms/step - loss: 72.6092 - mae: 72.6092\n",
            "Epoch 369/500\n",
            "1/1 [==============================] - 0s 21ms/step - loss: 42.7702 - mae: 42.7702\n",
            "Epoch 370/500\n",
            "1/1 [==============================] - 0s 37ms/step - loss: 51.7568 - mae: 51.7568\n",
            "Epoch 371/500\n",
            "1/1 [==============================] - 0s 40ms/step - loss: 79.6738 - mae: 79.6738\n",
            "Epoch 372/500\n",
            "1/1 [==============================] - 0s 28ms/step - loss: 65.1770 - mae: 65.1770\n",
            "Epoch 373/500\n",
            "1/1 [==============================] - 0s 19ms/step - loss: 19.2635 - mae: 19.2635\n",
            "Epoch 374/500\n",
            "1/1 [==============================] - 0s 18ms/step - loss: 126.1973 - mae: 126.1973\n",
            "Epoch 375/500\n",
            "1/1 [==============================] - 0s 13ms/step - loss: 76.0540 - mae: 76.0540\n",
            "Epoch 376/500\n",
            "1/1 [==============================] - 0s 22ms/step - loss: 53.7504 - mae: 53.7504\n",
            "Epoch 377/500\n",
            "1/1 [==============================] - 0s 24ms/step - loss: 16.8997 - mae: 16.8997\n",
            "Epoch 378/500\n",
            "1/1 [==============================] - 0s 19ms/step - loss: 81.3314 - mae: 81.3314\n",
            "Epoch 379/500\n",
            "1/1 [==============================] - 0s 20ms/step - loss: 70.4942 - mae: 70.4942\n",
            "Epoch 380/500\n",
            "1/1 [==============================] - 0s 27ms/step - loss: 36.1769 - mae: 36.1769\n",
            "Epoch 381/500\n",
            "1/1 [==============================] - 0s 22ms/step - loss: 72.5400 - mae: 72.5400\n",
            "Epoch 382/500\n",
            "1/1 [==============================] - 0s 28ms/step - loss: 78.6209 - mae: 78.6209\n",
            "Epoch 383/500\n",
            "1/1 [==============================] - 0s 15ms/step - loss: 61.9492 - mae: 61.9492\n",
            "Epoch 384/500\n",
            "1/1 [==============================] - 0s 18ms/step - loss: 9.1442 - mae: 9.1442\n",
            "Epoch 385/500\n",
            "1/1 [==============================] - 0s 27ms/step - loss: 158.1533 - mae: 158.1533\n",
            "Epoch 386/500\n",
            "1/1 [==============================] - 0s 16ms/step - loss: 74.4606 - mae: 74.4606\n",
            "Epoch 387/500\n",
            "1/1 [==============================] - 0s 19ms/step - loss: 48.8101 - mae: 48.8101\n",
            "Epoch 388/500\n",
            "1/1 [==============================] - 0s 23ms/step - loss: 32.4452 - mae: 32.4452\n",
            "Epoch 389/500\n",
            "1/1 [==============================] - 0s 23ms/step - loss: 80.5318 - mae: 80.5318\n",
            "Epoch 390/500\n",
            "1/1 [==============================] - 0s 19ms/step - loss: 68.0692 - mae: 68.0692\n",
            "Epoch 391/500\n",
            "1/1 [==============================] - 0s 17ms/step - loss: 28.6013 - mae: 28.6013\n",
            "Epoch 392/500\n",
            "1/1 [==============================] - 0s 21ms/step - loss: 96.4358 - mae: 96.4358\n",
            "Epoch 393/500\n",
            "1/1 [==============================] - 0s 20ms/step - loss: 77.4175 - mae: 77.4175\n",
            "Epoch 394/500\n",
            "1/1 [==============================] - 0s 18ms/step - loss: 58.2443 - mae: 58.2443\n",
            "Epoch 395/500\n",
            "1/1 [==============================] - 0s 31ms/step - loss: 2.4868 - mae: 2.4868\n",
            "Epoch 396/500\n",
            "1/1 [==============================] - 0s 12ms/step - loss: 81.9524 - mae: 81.9524\n",
            "Epoch 397/500\n",
            "1/1 [==============================] - 0s 21ms/step - loss: 72.6356 - mae: 72.6356\n",
            "Epoch 398/500\n",
            "1/1 [==============================] - 0s 32ms/step - loss: 43.1356 - mae: 43.1356\n",
            "Epoch 399/500\n",
            "1/1 [==============================] - 0s 84ms/step - loss: 50.3171 - mae: 50.3171\n",
            "Epoch 400/500\n",
            "1/1 [==============================] - 0s 56ms/step - loss: 79.6198 - mae: 79.6198\n",
            "Epoch 401/500\n",
            "1/1 [==============================] - 0s 27ms/step - loss: 65.2876 - mae: 65.2876\n",
            "Epoch 402/500\n",
            "1/1 [==============================] - 0s 25ms/step - loss: 19.8959 - mae: 19.8959\n",
            "Epoch 403/500\n",
            "1/1 [==============================] - 0s 28ms/step - loss: 123.9116 - mae: 123.9116\n",
            "Epoch 404/500\n",
            "1/1 [==============================] - 0s 13ms/step - loss: 76.0408 - mae: 76.0408\n",
            "Epoch 405/500\n",
            "1/1 [==============================] - 0s 11ms/step - loss: 53.9906 - mae: 53.9906\n",
            "Epoch 406/500\n",
            "1/1 [==============================] - 0s 17ms/step - loss: 15.8565 - mae: 15.8565\n",
            "Epoch 407/500\n",
            "1/1 [==============================] - 0s 33ms/step - loss: 81.2581 - mae: 81.2581\n",
            "Epoch 408/500\n",
            "1/1 [==============================] - 0s 19ms/step - loss: 70.5440 - mae: 70.5440\n",
            "Epoch 409/500\n",
            "1/1 [==============================] - 0s 33ms/step - loss: 36.6167 - mae: 36.6167\n",
            "Epoch 410/500\n",
            "1/1 [==============================] - 0s 52ms/step - loss: 70.8646 - mae: 70.8646\n",
            "Epoch 411/500\n",
            "1/1 [==============================] - 0s 61ms/step - loss: 78.5782 - mae: 78.5782\n",
            "Epoch 412/500\n",
            "1/1 [==============================] - 0s 23ms/step - loss: 62.0959 - mae: 62.0959\n",
            "Epoch 413/500\n",
            "1/1 [==============================] - 0s 42ms/step - loss: 9.8911 - mae: 9.8911\n",
            "Epoch 414/500\n",
            "1/1 [==============================] - 0s 21ms/step - loss: 155.5049 - mae: 155.5049\n",
            "Epoch 415/500\n",
            "1/1 [==============================] - 0s 36ms/step - loss: 74.4650 - mae: 74.4650\n",
            "Epoch 416/500\n",
            "1/1 [==============================] - 0s 28ms/step - loss: 49.1059 - mae: 49.1059\n",
            "Epoch 417/500\n",
            "1/1 [==============================] - 0s 21ms/step - loss: 31.2259 - mae: 31.2259\n",
            "Epoch 418/500\n",
            "1/1 [==============================] - 0s 30ms/step - loss: 80.4671 - mae: 80.4671\n",
            "Epoch 419/500\n",
            "1/1 [==============================] - 0s 13ms/step - loss: 68.1460 - mae: 68.1460\n",
            "Epoch 420/500\n",
            "1/1 [==============================] - 0s 18ms/step - loss: 29.1267 - mae: 29.1267\n",
            "Epoch 421/500\n",
            "1/1 [==============================] - 0s 17ms/step - loss: 94.4894 - mae: 94.4894\n",
            "Epoch 422/500\n",
            "1/1 [==============================] - 0s 11ms/step - loss: 77.3879 - mae: 77.3879\n",
            "Epoch 423/500\n",
            "1/1 [==============================] - 0s 12ms/step - loss: 58.4325 - mae: 58.4325\n",
            "Epoch 424/500\n",
            "1/1 [==============================] - 0s 28ms/step - loss: 1.7609 - mae: 1.7609\n",
            "Epoch 425/500\n",
            "1/1 [==============================] - 0s 43ms/step - loss: 66.9017 - mae: 66.9017\n",
            "Epoch 426/500\n",
            "1/1 [==============================] - 0s 34ms/step - loss: 25.2360 - mae: 25.2360\n",
            "Epoch 427/500\n",
            "1/1 [==============================] - 0s 18ms/step - loss: 106.7654 - mae: 106.7654\n",
            "Epoch 428/500\n",
            "1/1 [==============================] - 0s 19ms/step - loss: 76.7712 - mae: 76.7712\n",
            "Epoch 429/500\n",
            "1/1 [==============================] - 0s 27ms/step - loss: 56.5306 - mae: 56.5306\n",
            "Epoch 430/500\n",
            "1/1 [==============================] - 0s 19ms/step - loss: 7.5827 - mae: 7.5827\n",
            "Epoch 431/500\n",
            "1/1 [==============================] - 0s 42ms/step - loss: 81.5594 - mae: 81.5594\n",
            "Epoch 432/500\n",
            "1/1 [==============================] - 0s 21ms/step - loss: 71.7241 - mae: 71.7241\n",
            "Epoch 433/500\n",
            "1/1 [==============================] - 0s 18ms/step - loss: 40.5815 - mae: 40.5815\n",
            "Epoch 434/500\n",
            "1/1 [==============================] - 0s 17ms/step - loss: 58.0762 - mae: 58.0762\n",
            "Epoch 435/500\n",
            "1/1 [==============================] - 0s 17ms/step - loss: 79.0979 - mae: 79.0979\n",
            "Epoch 436/500\n",
            "1/1 [==============================] - 0s 15ms/step - loss: 63.9679 - mae: 63.9679\n",
            "Epoch 437/500\n",
            "1/1 [==============================] - 0s 17ms/step - loss: 16.0484 - mae: 16.0484\n",
            "Epoch 438/500\n",
            "1/1 [==============================] - 0s 16ms/step - loss: 135.7690 - mae: 135.7690\n",
            "Epoch 439/500\n",
            "1/1 [==============================] - 0s 17ms/step - loss: 75.3207 - mae: 75.3207\n",
            "Epoch 440/500\n",
            "1/1 [==============================] - 0s 17ms/step - loss: 52.0428 - mae: 52.0428\n",
            "Epoch 441/500\n",
            "1/1 [==============================] - 0s 19ms/step - loss: 21.6944 - mae: 21.6944\n",
            "Epoch 442/500\n",
            "1/1 [==============================] - 0s 18ms/step - loss: 80.8292 - mae: 80.8292\n",
            "Epoch 443/500\n",
            "1/1 [==============================] - 0s 22ms/step - loss: 69.5188 - mae: 69.5188\n",
            "Epoch 444/500\n",
            "1/1 [==============================] - 0s 20ms/step - loss: 33.7023 - mae: 33.7023\n",
            "Epoch 445/500\n",
            "1/1 [==============================] - 0s 20ms/step - loss: 79.7654 - mae: 79.7654\n",
            "Epoch 446/500\n",
            "1/1 [==============================] - 0s 26ms/step - loss: 78.0012 - mae: 78.0012\n",
            "Epoch 447/500\n",
            "1/1 [==============================] - 0s 24ms/step - loss: 60.6012 - mae: 60.6012\n",
            "Epoch 448/500\n",
            "1/1 [==============================] - 0s 25ms/step - loss: 5.4891 - mae: 5.4891\n",
            "Epoch 449/500\n",
            "1/1 [==============================] - 0s 26ms/step - loss: 169.1192 - mae: 169.1192\n",
            "Epoch 450/500\n",
            "1/1 [==============================] - 0s 29ms/step - loss: 73.6599 - mae: 73.6599\n",
            "Epoch 451/500\n",
            "1/1 [==============================] - 0s 22ms/step - loss: 46.8888 - mae: 46.8888\n",
            "Epoch 452/500\n",
            "1/1 [==============================] - 0s 24ms/step - loss: 37.9170 - mae: 37.9170\n",
            "Epoch 453/500\n",
            "1/1 [==============================] - 0s 22ms/step - loss: 79.9969 - mae: 79.9969\n",
            "Epoch 454/500\n",
            "1/1 [==============================] - 0s 27ms/step - loss: 66.9900 - mae: 66.9900\n",
            "Epoch 455/500\n",
            "1/1 [==============================] - 0s 31ms/step - loss: 25.7978 - mae: 25.7978\n",
            "Epoch 456/500\n",
            "1/1 [==============================] - 0s 31ms/step - loss: 104.7033 - mae: 104.7033\n",
            "Epoch 457/500\n",
            "1/1 [==============================] - 0s 30ms/step - loss: 76.7473 - mae: 76.7473\n",
            "Epoch 458/500\n",
            "1/1 [==============================] - 0s 26ms/step - loss: 56.7366 - mae: 56.7366\n",
            "Epoch 459/500\n",
            "1/1 [==============================] - 0s 14ms/step - loss: 6.6481 - mae: 6.6481\n",
            "Epoch 460/500\n",
            "1/1 [==============================] - 0s 22ms/step - loss: 81.4809 - mae: 81.4809\n",
            "Epoch 461/500\n",
            "1/1 [==============================] - 0s 24ms/step - loss: 71.7573 - mae: 71.7573\n",
            "Epoch 462/500\n",
            "1/1 [==============================] - 0s 24ms/step - loss: 40.9686 - mae: 40.9686\n",
            "Epoch 463/500\n",
            "1/1 [==============================] - 0s 21ms/step - loss: 56.5677 - mae: 56.5677\n",
            "Epoch 464/500\n",
            "1/1 [==============================] - 0s 25ms/step - loss: 79.0471 - mae: 79.0471\n",
            "Epoch 465/500\n",
            "1/1 [==============================] - 0s 24ms/step - loss: 64.0891 - mae: 64.0891\n",
            "Epoch 466/500\n",
            "1/1 [==============================] - 0s 27ms/step - loss: 16.7142 - mae: 16.7142\n",
            "Epoch 467/500\n",
            "1/1 [==============================] - 0s 28ms/step - loss: 133.3776 - mae: 133.3776\n",
            "Epoch 468/500\n",
            "1/1 [==============================] - 0s 28ms/step - loss: 75.3127 - mae: 75.3127\n",
            "Epoch 469/500\n",
            "1/1 [==============================] - 0s 22ms/step - loss: 52.2993 - mae: 52.2993\n",
            "Epoch 470/500\n",
            "1/1 [==============================] - 0s 25ms/step - loss: 20.5998 - mae: 20.5998\n",
            "Epoch 471/500\n",
            "1/1 [==============================] - 0s 27ms/step - loss: 80.7584 - mae: 80.7584\n",
            "Epoch 472/500\n",
            "1/1 [==============================] - 0s 16ms/step - loss: 69.5765 - mae: 69.5765\n",
            "Epoch 473/500\n",
            "1/1 [==============================] - 0s 23ms/step - loss: 34.1670 - mae: 34.1670\n",
            "Epoch 474/500\n",
            "1/1 [==============================] - 0s 24ms/step - loss: 78.0109 - mae: 78.0109\n",
            "Epoch 475/500\n",
            "1/1 [==============================] - 0s 22ms/step - loss: 77.9623 - mae: 77.9623\n",
            "Epoch 476/500\n",
            "1/1 [==============================] - 0s 34ms/step - loss: 60.7601 - mae: 60.7601\n",
            "Epoch 477/500\n",
            "1/1 [==============================] - 0s 48ms/step - loss: 6.2743 - mae: 6.2743\n",
            "Epoch 478/500\n",
            "1/1 [==============================] - 0s 56ms/step - loss: 166.3492 - mae: 166.3492\n",
            "Epoch 479/500\n",
            "1/1 [==============================] - 0s 32ms/step - loss: 73.6702 - mae: 73.6702\n",
            "Epoch 480/500\n",
            "1/1 [==============================] - 0s 34ms/step - loss: 47.2033 - mae: 47.2033\n",
            "Epoch 481/500\n",
            "1/1 [==============================] - 0s 17ms/step - loss: 36.6386 - mae: 36.6386\n",
            "Epoch 482/500\n",
            "1/1 [==============================] - 0s 23ms/step - loss: 79.9350 - mae: 79.9350\n",
            "Epoch 483/500\n",
            "1/1 [==============================] - 0s 23ms/step - loss: 67.0759 - mae: 67.0759\n",
            "Epoch 484/500\n",
            "1/1 [==============================] - 0s 25ms/step - loss: 26.3518 - mae: 26.3518\n",
            "Epoch 485/500\n",
            "1/1 [==============================] - 0s 22ms/step - loss: 102.6659 - mae: 102.6659\n",
            "Epoch 486/500\n",
            "1/1 [==============================] - 0s 26ms/step - loss: 76.7221 - mae: 76.7221\n",
            "Epoch 487/500\n",
            "1/1 [==============================] - 0s 33ms/step - loss: 56.9388 - mae: 56.9388\n",
            "Epoch 488/500\n",
            "1/1 [==============================] - 0s 33ms/step - loss: 5.7254 - mae: 5.7254\n",
            "Epoch 489/500\n",
            "1/1 [==============================] - 0s 27ms/step - loss: 81.4018 - mae: 81.4018\n",
            "Epoch 490/500\n",
            "1/1 [==============================] - 0s 25ms/step - loss: 71.7886 - mae: 71.7886\n",
            "Epoch 491/500\n",
            "1/1 [==============================] - 0s 32ms/step - loss: 41.3498 - mae: 41.3498\n",
            "Epoch 492/500\n",
            "1/1 [==============================] - 0s 36ms/step - loss: 55.0778 - mae: 55.0778\n",
            "Epoch 493/500\n",
            "1/1 [==============================] - 0s 21ms/step - loss: 78.9955 - mae: 78.9955\n",
            "Epoch 494/500\n",
            "1/1 [==============================] - 0s 21ms/step - loss: 64.2073 - mae: 64.2073\n",
            "Epoch 495/500\n",
            "1/1 [==============================] - 0s 19ms/step - loss: 17.3709 - mae: 17.3709\n",
            "Epoch 496/500\n",
            "1/1 [==============================] - 0s 23ms/step - loss: 131.0148 - mae: 131.0148\n",
            "Epoch 497/500\n",
            "1/1 [==============================] - 0s 16ms/step - loss: 75.3033 - mae: 75.3033\n",
            "Epoch 498/500\n",
            "1/1 [==============================] - 0s 37ms/step - loss: 52.5514 - mae: 52.5514\n",
            "Epoch 499/500\n",
            "1/1 [==============================] - 0s 70ms/step - loss: 19.5191 - mae: 19.5191\n",
            "Epoch 500/500\n",
            "1/1 [==============================] - 0s 44ms/step - loss: 80.6870 - mae: 80.6870\n"
          ]
        },
        {
          "output_type": "execute_result",
          "data": {
            "text/plain": [
              "<keras.src.callbacks.History at 0x7d396f674b20>"
            ]
          },
          "metadata": {},
          "execution_count": 58
        }
      ]
    },
    {
      "cell_type": "code",
      "source": [
        "# Make and plot some predictions\n",
        "y_preds_3 = model_3.predict(X_test)\n",
        "plot_predictions(predictions=y_preds_3)"
      ],
      "metadata": {
        "colab": {
          "base_uri": "https://localhost:8080/",
          "height": 617
        },
        "id": "0ClFtHqJ0bDL",
        "outputId": "e51f5b00-0b5f-42f9-d848-9506b3f818c0"
      },
      "execution_count": 59,
      "outputs": [
        {
          "output_type": "stream",
          "name": "stdout",
          "text": [
            "1/1 [==============================] - 0s 120ms/step\n"
          ]
        },
        {
          "output_type": "display_data",
          "data": {
            "text/plain": [
              "<Figure size 1000x700 with 1 Axes>"
            ],
            "image/png": "[encoded data removed]"
          },
          "metadata": {}
        }
      ]
    },
    {
      "cell_type": "code",
      "source": [
        "# Calculate model_3 evaluation metrics\n",
        "mae_3 = mae(y_test, y_preds_3)\n",
        "mse_3 = mse(y_test, y_preds_3)\n",
        "mae_3, mse_3"
      ],
      "metadata": {
        "colab": {
          "base_uri": "https://localhost:8080/"
        },
        "id": "wN9Lymsz2HhL",
        "outputId": "48e72823-388d-417c-e1ad-a01b83012144"
      },
      "execution_count": 60,
      "outputs": [
        {
          "output_type": "execute_result",
          "data": {
            "text/plain": [
              "(<tf.Tensor: shape=(), dtype=float32, numpy=69.632095>,\n",
              " <tf.Tensor: shape=(), dtype=float32, numpy=4931.664>)"
            ]
          },
          "metadata": {},
          "execution_count": 60
        }
      ]
    },
    {
      "cell_type": "markdown",
      "source": [
        "## Comparing the results of our experiments\n",
        "\n",
        "We've run a few experiments, let's compare the results."
      ],
      "metadata": {
        "id": "kKuAZxmX3G1b"
      }
    },
    {
      "cell_type": "code",
      "source": [
        "# Let's compare our model's results using a pandas DataFrame\n",
        "import pandas as pd\n",
        "\n",
        "model_results = [[\"model_1\", mae_1.numpy(), mse_1.numpy()],\n",
        "                 [\"model_2\", mae_2.numpy(), mse_2.numpy()],\n",
        "                 [\"model_3\", mae_3.numpy(), mse_3.numpy()]]\n",
        "\n",
        "all_results = pd.DataFrame(model_results, columns=[\"model\", \"mae\", \"mse\"])\n",
        "all_results"
      ],
      "metadata": {
        "id": "Kvpw2bH54xM9",
        "outputId": "8adbd9dc-8568-4bb8-d409-5078e89df169",
        "colab": {
          "base_uri": "https://localhost:8080/",
          "height": 143
        }
      },
      "execution_count": 61,
      "outputs": [
        {
          "output_type": "execute_result",
          "data": {
            "text/plain": [
              "     model        mae          mse\n",
              "0  model_1  32.600060  1075.178467\n",
              "1  model_2  13.618744   195.804077\n",
              "2  model_3  69.632095  4931.664062"
            ],
            "text/html": [
              "\n",
              "  <div id=\"df-a4346dfc-e559-4d3c-8d83-877205892b03\" class=\"colab-df-container\">\n",
              "    <div>\n",
              "<style scoped>\n",
              "    .dataframe tbody tr th:only-of-type {\n",
              "        vertical-align: middle;\n",
              "    }\n",
              "\n",
              "    .dataframe tbody tr th {\n",
              "        vertical-align: top;\n",
              "    }\n",
              "\n",
              "    .dataframe thead th {\n",
              "        text-align: right;\n",
              "    }\n",
              "</style>\n",
              "<table border=\"1\" class=\"dataframe\">\n",
              "  <thead>\n",
              "    <tr style=\"text-align: right;\">\n",
              "      <th></th>\n",
              "      <th>model</th>\n",
              "      <th>mae</th>\n",
              "      <th>mse</th>\n",
              "    </tr>\n",
              "  </thead>\n",
              "  <tbody>\n",
              "    <tr>\n",
              "      <th>0</th>\n",
              "      <td>model_1</td>\n",
              "      <td>32.600060</td>\n",
              "      <td>1075.178467</td>\n",
              "    </tr>\n",
              "    <tr>\n",
              "      <th>1</th>\n",
              "      <td>model_2</td>\n",
              "      <td>13.618744</td>\n",
              "      <td>195.804077</td>\n",
              "    </tr>\n",
              "    <tr>\n",
              "      <th>2</th>\n",
              "      <td>model_3</td>\n",
              "      <td>69.632095</td>\n",
              "      <td>4931.664062</td>\n",
              "    </tr>\n",
              "  </tbody>\n",
              "</table>\n",
              "</div>\n",
              "    <div class=\"colab-df-buttons\">\n",
              "\n",
              "  <div class=\"colab-df-container\">\n",
              "    <button class=\"colab-df-convert\" onclick=\"convertToInteractive('df-a4346dfc-e559-4d3c-8d83-877205892b03')\"\n",
              "            title=\"Convert this dataframe to an interactive table.\"\n",
              "            style=\"display:none;\">\n",
              "\n",
              "  <svg xmlns=\"http://www.w3.org/2000/svg\" height=\"24px\" viewBox=\"0 -960 960 960\">\n",
              "    <path d=\"M120-120v-720h720v720H120Zm60-500h600v-160H180v160Zm220 220h160v-160H400v160Zm0 220h160v-160H400v160ZM180-400h160v-160H180v160Zm440 0h160v-160H620v160ZM180-180h160v-160H180v160Zm440 0h160v-160H620v160Z\"/>\n",
              "  </svg>\n",
              "    </button>\n",
              "\n",
              "  <style>\n",
              "    .colab-df-container {\n",
              "      display:flex;\n",
              "      gap: 12px;\n",
              "    }\n",
              "\n",
              "    .colab-df-convert {\n",
              "      background-color: #E8F0FE;\n",
              "      border: none;\n",
              "      border-radius: 50%;\n",
              "      cursor: pointer;\n",
              "      display: none;\n",
              "      fill: #1967D2;\n",
              "      height: 32px;\n",
              "      padding: 0 0 0 0;\n",
              "      width: 32px;\n",
              "    }\n",
              "\n",
              "    .colab-df-convert:hover {\n",
              "      background-color: #E2EBFA;\n",
              "      box-shadow: 0px 1px 2px rgba(60, 64, 67, 0.3), 0px 1px 3px 1px rgba(60, 64, 67, 0.15);\n",
              "      fill: #174EA6;\n",
              "    }\n",
              "\n",
              "    .colab-df-buttons div {\n",
              "      margin-bottom: 4px;\n",
              "    }\n",
              "\n",
              "    [theme=dark] .colab-df-convert {\n",
              "      background-color: #3B4455;\n",
              "      fill: #D2E3FC;\n",
              "    }\n",
              "\n",
              "    [theme=dark] .colab-df-convert:hover {\n",
              "      background-color: #434B5C;\n",
              "      box-shadow: 0px 1px 3px 1px rgba(0, 0, 0, 0.15);\n",
              "      filter: drop-shadow(0px 1px 2px rgba(0, 0, 0, 0.3));\n",
              "      fill: #FFFFFF;\n",
              "    }\n",
              "  </style>\n",
              "\n",
              "    <script>\n",
              "      const buttonEl =\n",
              "        document.querySelector('#df-a4346dfc-e559-4d3c-8d83-877205892b03 button.colab-df-convert');\n",
              "      buttonEl.style.display =\n",
              "        google.colab.kernel.accessAllowed ? 'block' : 'none';\n",
              "\n",
              "      async function convertToInteractive(key) {\n",
              "        const element = document.querySelector('#df-a4346dfc-e559-4d3c-8d83-877205892b03');\n",
              "        const dataTable =\n",
              "          await google.colab.kernel.invokeFunction('convertToInteractive',\n",
              "                                                    [key], {});\n",
              "        if (!dataTable) return;\n",
              "\n",
              "        const docLinkHtml = 'Like what you see? Visit the ' +\n",
              "          '<a target=\"_blank\" href=https://colab.research.google.com/notebooks/data_table.ipynb>data table notebook</a>'\n",
              "          + ' to learn more about interactive tables.';\n",
              "        element.innerHTML = '';\n",
              "        dataTable['output_type'] = 'display_data';\n",
              "        await google.colab.output.renderOutput(dataTable, element);\n",
              "        const docLink = document.createElement('div');\n",
              "        docLink.innerHTML = docLinkHtml;\n",
              "        element.appendChild(docLink);\n",
              "      }\n",
              "    </script>\n",
              "  </div>\n",
              "\n",
              "\n",
              "<div id=\"df-1cbd2ec4-6d5c-406a-af0f-63902e365269\">\n",
              "  <button class=\"colab-df-quickchart\" onclick=\"quickchart('df-1cbd2ec4-6d5c-406a-af0f-63902e365269')\"\n",
              "            title=\"Suggest charts\"\n",
              "            style=\"display:none;\">\n",
              "\n",
              "<svg xmlns=\"http://www.w3.org/2000/svg\" height=\"24px\"viewBox=\"0 0 24 24\"\n",
              "     width=\"24px\">\n",
              "    <g>\n",
              "        <path d=\"M19 3H5c-1.1 0-2 .9-2 2v14c0 1.1.9 2 2 2h14c1.1 0 2-.9 2-2V5c0-1.1-.9-2-2-2zM9 17H7v-7h2v7zm4 0h-2V7h2v10zm4 0h-2v-4h2v4z\"/>\n",
              "    </g>\n",
              "</svg>\n",
              "  </button>\n",
              "\n",
              "<style>\n",
              "  .colab-df-quickchart {\n",
              "      --bg-color: #E8F0FE;\n",
              "      --fill-color: #1967D2;\n",
              "      --hover-bg-color: #E2EBFA;\n",
              "      --hover-fill-color: #174EA6;\n",
              "      --disabled-fill-color: #AAA;\n",
              "      --disabled-bg-color: #DDD;\n",
              "  }\n",
              "\n",
              "  [theme=dark] .colab-df-quickchart {\n",
              "      --bg-color: #3B4455;\n",
              "      --fill-color: #D2E3FC;\n",
              "      --hover-bg-color: #434B5C;\n",
              "      --hover-fill-color: #FFFFFF;\n",
              "      --disabled-bg-color: #3B4455;\n",
              "      --disabled-fill-color: #666;\n",
              "  }\n",
              "\n",
              "  .colab-df-quickchart {\n",
              "    background-color: var(--bg-color);\n",
              "    border: none;\n",
              "    border-radius: 50%;\n",
              "    cursor: pointer;\n",
              "    display: none;\n",
              "    fill: var(--fill-color);\n",
              "    height: 32px;\n",
              "    padding: 0;\n",
              "    width: 32px;\n",
              "  }\n",
              "\n",
              "  .colab-df-quickchart:hover {\n",
              "    background-color: var(--hover-bg-color);\n",
              "    box-shadow: 0 1px 2px rgba(60, 64, 67, 0.3), 0 1px 3px 1px rgba(60, 64, 67, 0.15);\n",
              "    fill: var(--button-hover-fill-color);\n",
              "  }\n",
              "\n",
              "  .colab-df-quickchart-complete:disabled,\n",
              "  .colab-df-quickchart-complete:disabled:hover {\n",
              "    background-color: var(--disabled-bg-color);\n",
              "    fill: var(--disabled-fill-color);\n",
              "    box-shadow: none;\n",
              "  }\n",
              "\n",
              "  .colab-df-spinner {\n",
              "    border: 2px solid var(--fill-color);\n",
              "    border-color: transparent;\n",
              "    border-bottom-color: var(--fill-color);\n",
              "    animation:\n",
              "      spin 1s steps(1) infinite;\n",
              "  }\n",
              "\n",
              "  @keyframes spin {\n",
              "    0% {\n",
              "      border-color: transparent;\n",
              "      border-bottom-color: var(--fill-color);\n",
              "      border-left-color: var(--fill-color);\n",
              "    }\n",
              "    20% {\n",
              "      border-color: transparent;\n",
              "      border-left-color: var(--fill-color);\n",
              "      border-top-color: var(--fill-color);\n",
              "    }\n",
              "    30% {\n",
              "      border-color: transparent;\n",
              "      border-left-color: var(--fill-color);\n",
              "      border-top-color: var(--fill-color);\n",
              "      border-right-color: var(--fill-color);\n",
              "    }\n",
              "    40% {\n",
              "      border-color: transparent;\n",
              "      border-right-color: var(--fill-color);\n",
              "      border-top-color: var(--fill-color);\n",
              "    }\n",
              "    60% {\n",
              "      border-color: transparent;\n",
              "      border-right-color: var(--fill-color);\n",
              "    }\n",
              "    80% {\n",
              "      border-color: transparent;\n",
              "      border-right-color: var(--fill-color);\n",
              "      border-bottom-color: var(--fill-color);\n",
              "    }\n",
              "    90% {\n",
              "      border-color: transparent;\n",
              "      border-bottom-color: var(--fill-color);\n",
              "    }\n",
              "  }\n",
              "</style>\n",
              "\n",
              "  <script>\n",
              "    async function quickchart(key) {\n",
              "      const quickchartButtonEl =\n",
              "        document.querySelector('#' + key + ' button');\n",
              "      quickchartButtonEl.disabled = true;  // To prevent multiple clicks.\n",
              "      quickchartButtonEl.classList.add('colab-df-spinner');\n",
              "      try {\n",
              "        const charts = await google.colab.kernel.invokeFunction(\n",
              "            'suggestCharts', [key], {});\n",
              "      } catch (error) {\n",
              "        console.error('Error during call to suggestCharts:', error);\n",
              "      }\n",
              "      quickchartButtonEl.classList.remove('colab-df-spinner');\n",
              "      quickchartButtonEl.classList.add('colab-df-quickchart-complete');\n",
              "    }\n",
              "    (() => {\n",
              "      let quickchartButtonEl =\n",
              "        document.querySelector('#df-1cbd2ec4-6d5c-406a-af0f-63902e365269 button');\n",
              "      quickchartButtonEl.style.display =\n",
              "        google.colab.kernel.accessAllowed ? 'block' : 'none';\n",
              "    })();\n",
              "  </script>\n",
              "</div>\n",
              "    </div>\n",
              "  </div>\n"
            ],
            "application/vnd.google.colaboratory.intrinsic+json": {
              "type": "dataframe",
              "variable_name": "all_results",
              "summary": "{\n  \"name\": \"all_results\",\n  \"rows\": 3,\n  \"fields\": [\n    {\n      \"column\": \"model\",\n      \"properties\": {\n        \"dtype\": \"string\",\n        \"num_unique_values\": 3,\n        \"samples\": [\n          \"model_1\",\n          \"model_2\",\n          \"model_3\"\n        ],\n        \"semantic_type\": \"\",\n        \"description\": \"\"\n      }\n    },\n    {\n      \"column\": \"mae\",\n      \"properties\": {\n        \"dtype\": \"float32\",\n        \"num_unique_values\": 3,\n        \"samples\": [\n          32.600059509277344,\n          13.618743896484375,\n          69.63209533691406\n        ],\n        \"semantic_type\": \"\",\n        \"description\": \"\"\n      }\n    },\n    {\n      \"column\": \"mse\",\n      \"properties\": {\n        \"dtype\": \"float32\",\n        \"num_unique_values\": 3,\n        \"samples\": [\n          1075.178466796875,\n          195.8040771484375,\n          4931.6640625\n        ],\n        \"semantic_type\": \"\",\n        \"description\": \"\"\n      }\n    }\n  ]\n}"
            }
          },
          "metadata": {},
          "execution_count": 61
        }
      ]
    },
    {
      "cell_type": "markdown",
      "source": [
        "Looks like `model_2` performed the best..."
      ],
      "metadata": {
        "id": "y3n8iN1y61if"
      }
    },
    {
      "cell_type": "code",
      "source": [
        "model_2.summary()"
      ],
      "metadata": {
        "id": "FEaVhq7r57PT",
        "outputId": "211720ca-894e-40ad-d684-bcb66601776f",
        "colab": {
          "base_uri": "https://localhost:8080/"
        }
      },
      "execution_count": 62,
      "outputs": [
        {
          "output_type": "stream",
          "name": "stdout",
          "text": [
            "Model: \"sequential_9\"\n",
            "_________________________________________________________________\n",
            " Layer (type)                Output Shape              Param #   \n",
            "=================================================================\n",
            " dense_17 (Dense)            (None, 10)                20        \n",
            "                                                                 \n",
            " dense_18 (Dense)            (None, 1)                 11        \n",
            "                                                                 \n",
            "=================================================================\n",
            "Total params: 31 (124.00 Byte)\n",
            "Trainable params: 31 (124.00 Byte)\n",
            "Non-trainable params: 0 (0.00 Byte)\n",
            "_________________________________________________________________\n"
          ]
        }
      ]
    },
    {
      "cell_type": "markdown",
      "source": [
        "## Tracking your experiments\n",
        "\n",
        "One really good habit in machine learning modelling is to track the results of your experiments.\n",
        "\n",
        "And when doing so, it can be tedious if you're running lots of experiments.\n",
        "\n",
        "Luckily, there are tools to help us!\n",
        "\n",
        "* **TensorBoard** - a component of the TensorFlow library to help track modelling experiments (we'll see this one later).\n",
        "* **Weights & Biases** - a tool for tracking all of kinds of machine learning experiments (plugs straight into TensorBoard)."
      ],
      "metadata": {
        "id": "NbPfLqyh60cr"
      }
    },
    {
      "cell_type": "markdown",
      "source": [
        "## Saving out models\n",
        "\n",
        "Saving our models allow us to use them outside of Google Colab (or wherever they were trained) such as in a web application or a mobile app.\n",
        "\n",
        "There are two main formatns we can save our model's too:\n",
        "\n",
        "1. The SavedModel format\n",
        "2. The HDF5 format"
      ],
      "metadata": {
        "id": "RDAg6pD788z7"
      }
    },
    {
      "cell_type": "code",
      "source": [
        "# Save model using the SaveModel format\n",
        "model_2.save(\"best_model_SavedModel_format\")"
      ],
      "metadata": {
        "id": "HomFQKWd9Ema"
      },
      "execution_count": 65,
      "outputs": []
    },
    {
      "cell_type": "code",
      "source": [
        "# Save model using the HDF5 format\n",
        "model_2.save(\"best_model_HDF5_format.h5\")"
      ],
      "metadata": {
        "id": "ee7_92g9Ep-G",
        "outputId": "242736c5-c7b8-483e-eb21-86b6ee7afe3c",
        "colab": {
          "base_uri": "https://localhost:8080/"
        }
      },
      "execution_count": 66,
      "outputs": [
        {
          "output_type": "stream",
          "name": "stderr",
          "text": [
            "/usr/local/lib/python3.10/dist-packages/keras/src/engine/training.py:3103: UserWarning: You are saving your model as an HDF5 file via `model.save()`. This file format is considered legacy. We recommend using instead the native Keras format, e.g. `model.save('my_model.keras')`.\n",
            "  saving_api.save_model(\n"
          ]
        }
      ]
    },
    {
      "cell_type": "code",
      "source": [],
      "metadata": {
        "id": "oMvAVddiG8XO"
      },
      "execution_count": null,
      "outputs": []
    }
  ]
}