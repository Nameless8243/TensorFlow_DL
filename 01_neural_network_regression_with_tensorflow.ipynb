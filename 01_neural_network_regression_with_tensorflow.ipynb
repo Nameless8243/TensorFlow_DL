{
  "nbformat": 4,
  "nbformat_minor": 0,
  "metadata": {
    "colab": {
      "provenance": [],
      "mount_file_id": "https://github.com/Nameless8243/TensorFlow_DL/blob/main/01_neural_network_regression_with_tensorflow.ipynb",
      "authorship_tag": "ABX9TyMz2frHYZ0XcbHQ9JpSTMlq",
      "include_colab_link": true
    },
    "kernelspec": {
      "name": "python3",
      "display_name": "Python 3"
    },
    "language_info": {
      "name": "python"
    }
  },
  "cells": [
    {
      "cell_type": "markdown",
      "metadata": {
        "id": "view-in-github",
        "colab_type": "text"
      },
      "source": [
        "<a href=\"https://colab.research.google.com/github/Nameless8243/TensorFlow_DL/blob/main/01_neural_network_regression_with_tensorflow.ipynb\" target=\"_parent\"><img src=\"https://colab.research.google.com/assets/colab-badge.svg\" alt=\"Open In Colab\"/></a>"
      ]
    },
    {
      "cell_type": "markdown",
      "source": [
        "# Introduction to Regression with Neural Networks in TensorFlow\n",
        "\n",
        "There are many definitions for a regression problem but in our case, we're going to simplify it: predicting a numerical variable based on some other combination of variables, even shorter... predicting a number."
      ],
      "metadata": {
        "id": "oP5JGRSITyJO"
      }
    },
    {
      "cell_type": "code",
      "source": [
        "# Import tensorflow\n",
        "import tensorflow as tf\n",
        "print(tf.__version__)"
      ],
      "metadata": {
        "colab": {
          "base_uri": "https://localhost:8080/"
        },
        "id": "LsGmYUhse5F-",
        "outputId": "92743c4b-d1c3-4a2e-8094-ecede6002a9e"
      },
      "execution_count": null,
      "outputs": [
        {
          "output_type": "stream",
          "name": "stdout",
          "text": [
            "2.15.0\n"
          ]
        }
      ]
    },
    {
      "cell_type": "markdown",
      "source": [
        "## Creating data to view and fit"
      ],
      "metadata": {
        "id": "uGT0hliwfDt-"
      }
    },
    {
      "cell_type": "code",
      "source": [
        "import numpy as np\n",
        "import matplotlib.pyplot as plt\n",
        "\n",
        "# Create features\n",
        "X = np.array([-7.0, -4.0, -1.0, 2.0, 5.0, 8.0, 11.0, 14.0])\n",
        "\n",
        "# Create labels\n",
        "y = np.array([3.0, 6.0, 9.0, 12.0, 15.0, 18.0, 21.0, 24.0])\n",
        "\n",
        "# Visualize it\n",
        "plt.scatter(X, y);"
      ],
      "metadata": {
        "colab": {
          "base_uri": "https://localhost:8080/",
          "height": 435
        },
        "id": "Bz9l-cqWfS7l",
        "outputId": "3c3ac2c2-9035-4a69-8842-744177afec32"
      },
      "execution_count": null,
      "outputs": [
        {
          "output_type": "display_data",
          "data": {
            "text/plain": [
              "<Figure size 640x480 with 1 Axes>"
            ],
            "image/png": "[encoded data removed]"
          },
          "metadata": {}
        }
      ]
    },
    {
      "cell_type": "code",
      "source": [
        "y == X + 10"
      ],
      "metadata": {
        "colab": {
          "base_uri": "https://localhost:8080/"
        },
        "id": "IhhPD6eigTzN",
        "outputId": "fb32fa7b-6458-4dc5-b995-03ef9a4fc8ec"
      },
      "execution_count": null,
      "outputs": [
        {
          "output_type": "execute_result",
          "data": {
            "text/plain": [
              "array([ True,  True,  True,  True,  True,  True,  True,  True])"
            ]
          },
          "metadata": {},
          "execution_count": 3
        }
      ]
    },
    {
      "cell_type": "markdown",
      "source": [
        "## Input and output shapes"
      ],
      "metadata": {
        "id": "ZTXfdcSOg2bE"
      }
    },
    {
      "cell_type": "code",
      "source": [
        "# Create demo tensor for our housing price prediction problem\n",
        "house_info = tf.constant([\"bedroom\", \"bathroom\", \"garage\"])\n",
        "house_price = tf.constant([939700])\n",
        "house_info, house_price"
      ],
      "metadata": {
        "colab": {
          "base_uri": "https://localhost:8080/"
        },
        "id": "vS_BbYWjj3Et",
        "outputId": "9c233408-b43c-4d2f-a8db-eb32bcb00f19"
      },
      "execution_count": null,
      "outputs": [
        {
          "output_type": "execute_result",
          "data": {
            "text/plain": [
              "(<tf.Tensor: shape=(3,), dtype=string, numpy=array([b'bedroom', b'bathroom', b'garage'], dtype=object)>,\n",
              " <tf.Tensor: shape=(1,), dtype=int32, numpy=array([939700], dtype=int32)>)"
            ]
          },
          "metadata": {},
          "execution_count": 4
        }
      ]
    },
    {
      "cell_type": "code",
      "source": [
        "input_shape = X[0].shape\n",
        "output_shape = y[0].shape\n",
        "input_shape, output_shape"
      ],
      "metadata": {
        "colab": {
          "base_uri": "https://localhost:8080/"
        },
        "id": "v4JCXIjjkcer",
        "outputId": "e3bef598-29be-4151-d139-adb6746e483c"
      },
      "execution_count": null,
      "outputs": [
        {
          "output_type": "execute_result",
          "data": {
            "text/plain": [
              "((), ())"
            ]
          },
          "metadata": {},
          "execution_count": 5
        }
      ]
    },
    {
      "cell_type": "code",
      "source": [
        "# Turn our NumPy arrays into tensors with dtype float32\n",
        "X = tf.cast(tf.constant(X), dtype=tf.float32)\n",
        "y = tf.cast(tf.constant(y), dtype=tf.float32)\n",
        "X, y"
      ],
      "metadata": {
        "colab": {
          "base_uri": "https://localhost:8080/"
        },
        "id": "jJeyIQYokyn7",
        "outputId": "faa77d27-e907-4610-ad73-4317228d60c2"
      },
      "execution_count": null,
      "outputs": [
        {
          "output_type": "execute_result",
          "data": {
            "text/plain": [
              "(<tf.Tensor: shape=(8,), dtype=float32, numpy=array([-7., -4., -1.,  2.,  5.,  8., 11., 14.], dtype=float32)>,\n",
              " <tf.Tensor: shape=(8,), dtype=float32, numpy=array([ 3.,  6.,  9., 12., 15., 18., 21., 24.], dtype=float32)>)"
            ]
          },
          "metadata": {},
          "execution_count": 6
        }
      ]
    },
    {
      "cell_type": "code",
      "source": [
        "input_shape = X[0].shape\n",
        "output_shape = y[0].shape\n",
        "input_shape, output_shape"
      ],
      "metadata": {
        "colab": {
          "base_uri": "https://localhost:8080/"
        },
        "id": "9dCoCjBQmAr7",
        "outputId": "9f544768-f650-4cfc-e097-5fee9b1ac791"
      },
      "execution_count": null,
      "outputs": [
        {
          "output_type": "execute_result",
          "data": {
            "text/plain": [
              "(TensorShape([]), TensorShape([]))"
            ]
          },
          "metadata": {},
          "execution_count": 7
        }
      ]
    },
    {
      "cell_type": "code",
      "source": [
        "plt.scatter(X,y)"
      ],
      "metadata": {
        "colab": {
          "base_uri": "https://localhost:8080/",
          "height": 453
        },
        "id": "am1A3auXmhoD",
        "outputId": "f2d6a149-1f93-4ca1-a380-52ed1c7538d1"
      },
      "execution_count": null,
      "outputs": [
        {
          "output_type": "execute_result",
          "data": {
            "text/plain": [
              "<matplotlib.collections.PathCollection at 0x7f2bc8265f00>"
            ]
          },
          "metadata": {},
          "execution_count": 8
        },
        {
          "output_type": "display_data",
          "data": {
            "text/plain": [
              "<Figure size 640x480 with 1 Axes>"
            ],
            "image/png": "[encoded data removed]"
          },
          "metadata": {}
        }
      ]
    },
    {
      "cell_type": "markdown",
      "source": [
        "## Steps in modelling with TensorFlow\n",
        "\n",
        "1. **Creating a model** - define the input and output layers, as well as the hidden layers of a deep learning model.\n",
        "2. **Compiling a model** - define the loss function (in other words, the\n",
        "function which tells our model how wrong it is) and the optimizer\n",
        "(tells our model how to improve the patterns its learning) and\n",
        "evaluation metrics (what we can use ta interpret the performance of our model).\n",
        "3. **Fitting the model** - letting the model try to find patterns between X & y (features and labels)."
      ],
      "metadata": {
        "id": "-buia87-msUz"
      }
    },
    {
      "cell_type": "code",
      "source": [
        "# Optionally, the first layer can receive an `input_shape` argument:\n",
        "model = tf.keras.Sequential()\n",
        "model.add(tf.keras.layers.Dense(8, input_shape=(16,)))\n",
        "# Afterwards, we do automatic shape inference:\n",
        "model.add(tf.keras.layers.Dense(4))\n",
        "\n",
        "model = tf.keras.Sequential()\n",
        "model.add(tf.keras.layers.Dense(8, input_shape=(16,)))\n",
        "model.add(tf.keras.layers.Dense(4))\n",
        "\n",
        "model = tf.keras.Sequential()\n",
        "model.add(tf.keras.layers.Dense(1))\n",
        "model.add(tf.keras.layers.Dense(1))"
      ],
      "metadata": {
        "id": "YM-kOlIPzdM1"
      },
      "execution_count": null,
      "outputs": []
    },
    {
      "cell_type": "code",
      "source": [
        "# Set random seed\n",
        "tf.random.set_seed(42)\n",
        "# 1. Create a model using the Sequential API\n",
        "model = tf.keras.Sequential([\n",
        "    tf.keras.layers.Dense(1),\n",
        "    tf.keras.layers.Dense(1)\n",
        "\n",
        "])\n",
        "\n",
        "# 2. Compile the model\n",
        "model.compile(loss=tf.keras.losses.mae, # mae is short for mean absolute error\n",
        "              optimizer=tf.keras.optimizers.SGD(), # sgd is short for stochastic gradient descent\n",
        "              metrics=[\"mae\"])\n",
        "\n",
        "# 3. Fit the model\n",
        "model.fit(tf.expand_dims(X, axis=-1), y, epochs=5)"
      ],
      "metadata": {
        "id": "jZi7FfNkm9by",
        "colab": {
          "base_uri": "https://localhost:8080/"
        },
        "outputId": "81b03ed4-abac-42e8-c7b6-4a3ea6a14945"
      },
      "execution_count": null,
      "outputs": [
        {
          "output_type": "stream",
          "name": "stdout",
          "text": [
            "Epoch 1/5\n",
            "1/1 [==============================] - 1s 1s/step - loss: 19.0683 - mae: 19.0683\n",
            "Epoch 2/5\n",
            "1/1 [==============================] - 0s 34ms/step - loss: 18.3585 - mae: 18.3585\n",
            "Epoch 3/5\n",
            "1/1 [==============================] - 0s 57ms/step - loss: 17.7158 - mae: 17.7158\n",
            "Epoch 4/5\n",
            "1/1 [==============================] - 0s 27ms/step - loss: 17.1327 - mae: 17.1327\n",
            "Epoch 5/5\n",
            "1/1 [==============================] - 0s 28ms/step - loss: 16.6022 - mae: 16.6022\n"
          ]
        },
        {
          "output_type": "execute_result",
          "data": {
            "text/plain": [
              "<keras.src.callbacks.History at 0x7f2bc44a0fd0>"
            ]
          },
          "metadata": {},
          "execution_count": 10
        }
      ]
    },
    {
      "cell_type": "code",
      "source": [
        "# Check out X, and y\n",
        "X, y"
      ],
      "metadata": {
        "colab": {
          "base_uri": "https://localhost:8080/"
        },
        "id": "9924Ks0cyEZc",
        "outputId": "fcef4456-a2f5-4e4a-bfc1-ab78b328e443"
      },
      "execution_count": null,
      "outputs": [
        {
          "output_type": "execute_result",
          "data": {
            "text/plain": [
              "(<tf.Tensor: shape=(8,), dtype=float32, numpy=array([-7., -4., -1.,  2.,  5.,  8., 11., 14.], dtype=float32)>,\n",
              " <tf.Tensor: shape=(8,), dtype=float32, numpy=array([ 3.,  6.,  9., 12., 15., 18., 21., 24.], dtype=float32)>)"
            ]
          },
          "metadata": {},
          "execution_count": 11
        }
      ]
    },
    {
      "cell_type": "code",
      "source": [
        "# Try and make a prediction using our model\n",
        "y_pred = model.predict([17.0])\n",
        "y_pred"
      ],
      "metadata": {
        "colab": {
          "base_uri": "https://localhost:8080/"
        },
        "id": "zaNtc7a57T9y",
        "outputId": "8c92d9ac-40a8-420c-c597-b4889f2b5361"
      },
      "execution_count": null,
      "outputs": [
        {
          "output_type": "stream",
          "name": "stdout",
          "text": [
            "1/1 [==============================] - 0s 334ms/step\n"
          ]
        },
        {
          "output_type": "execute_result",
          "data": {
            "text/plain": [
              "array([[-10.983653]], dtype=float32)"
            ]
          },
          "metadata": {},
          "execution_count": 12
        }
      ]
    },
    {
      "cell_type": "code",
      "source": [
        "y_pred + 18"
      ],
      "metadata": {
        "colab": {
          "base_uri": "https://localhost:8080/"
        },
        "id": "nqNb7qQL7t7U",
        "outputId": "c3e71da5-a498-44c7-d7fc-65e41d2addfe"
      },
      "execution_count": null,
      "outputs": [
        {
          "output_type": "execute_result",
          "data": {
            "text/plain": [
              "array([[7.016347]], dtype=float32)"
            ]
          },
          "metadata": {},
          "execution_count": 13
        }
      ]
    },
    {
      "cell_type": "markdown",
      "source": [
        "## Improving our model\n",
        "\n",
        "We can improve our model, by astering the steps we took to create a model.\n",
        "\n",
        "1. **Creating a model** - here we might add more layers,\n",
        "increase the number of hidden units (all called neurons) within each of the hidden layers, change the activation function of each layer.\n",
        "2. **Compiling a model** - here we might change the optimization function or perhaps the **learning rate** of the optimization function.\n",
        "3. **Fitting a model** - here we might fit a model for more **epochs** (leave it training for longer) or on more data (give the model more examples to learn from)."
      ],
      "metadata": {
        "id": "6ZSGWPSe8Fpe"
      }
    },
    {
      "cell_type": "code",
      "source": [
        "# Let's rebuild our model\n",
        "\n",
        "# 1. Create the model\n",
        "model = tf.keras.Sequential([\n",
        "    tf.keras.layers.Dense(1)\n",
        "])\n",
        "\n",
        "# 2. Compile the model\n",
        "model.compile(loss=tf.keras.losses.mae,\n",
        "              optimizer=tf.keras.optimizers.SGD(),\n",
        "              metrics=[\"mae\"])\n",
        "# 3. Fit the model (this time we'll train for longer)\n",
        "model.fit(tf.expand_dims(X, axis=-1), y, epochs=100)"
      ],
      "metadata": {
        "colab": {
          "base_uri": "https://localhost:8080/"
        },
        "id": "sG_Jes1K8z-M",
        "outputId": "b860ccb3-c803-4183-fc3f-6cc5ceea47f7"
      },
      "execution_count": null,
      "outputs": [
        {
          "output_type": "stream",
          "name": "stdout",
          "text": [
            "Epoch 1/100\n",
            "1/1 [==============================] - 1s 1s/step - loss: 9.7476 - mae: 9.7476\n",
            "Epoch 2/100\n",
            "1/1 [==============================] - 0s 14ms/step - loss: 9.6151 - mae: 9.6151\n",
            "Epoch 3/100\n",
            "1/1 [==============================] - 0s 29ms/step - loss: 9.4826 - mae: 9.4826\n",
            "Epoch 4/100\n",
            "1/1 [==============================] - 0s 24ms/step - loss: 9.3501 - mae: 9.3501\n",
            "Epoch 5/100\n",
            "1/1 [==============================] - 0s 21ms/step - loss: 9.2176 - mae: 9.2176\n",
            "Epoch 6/100\n",
            "1/1 [==============================] - 0s 29ms/step - loss: 9.0851 - mae: 9.0851\n",
            "Epoch 7/100\n",
            "1/1 [==============================] - 0s 17ms/step - loss: 8.9526 - mae: 8.9526\n",
            "Epoch 8/100\n",
            "1/1 [==============================] - 0s 37ms/step - loss: 8.8201 - mae: 8.8201\n",
            "Epoch 9/100\n",
            "1/1 [==============================] - 0s 22ms/step - loss: 8.6876 - mae: 8.6876\n",
            "Epoch 10/100\n",
            "1/1 [==============================] - 0s 17ms/step - loss: 8.5551 - mae: 8.5551\n",
            "Epoch 11/100\n",
            "1/1 [==============================] - 0s 10ms/step - loss: 8.4226 - mae: 8.4226\n",
            "Epoch 12/100\n",
            "1/1 [==============================] - 0s 9ms/step - loss: 8.2901 - mae: 8.2901\n",
            "Epoch 13/100\n",
            "1/1 [==============================] - 0s 11ms/step - loss: 8.1576 - mae: 8.1576\n",
            "Epoch 14/100\n",
            "1/1 [==============================] - 0s 10ms/step - loss: 8.0251 - mae: 8.0251\n",
            "Epoch 15/100\n",
            "1/1 [==============================] - 0s 16ms/step - loss: 7.8926 - mae: 7.8926\n",
            "Epoch 16/100\n",
            "1/1 [==============================] - 0s 21ms/step - loss: 7.7601 - mae: 7.7601\n",
            "Epoch 17/100\n",
            "1/1 [==============================] - 0s 17ms/step - loss: 7.6276 - mae: 7.6276\n",
            "Epoch 18/100\n",
            "1/1 [==============================] - 0s 27ms/step - loss: 7.4951 - mae: 7.4951\n",
            "Epoch 19/100\n",
            "1/1 [==============================] - 0s 20ms/step - loss: 7.3650 - mae: 7.3650\n",
            "Epoch 20/100\n",
            "1/1 [==============================] - 0s 28ms/step - loss: 7.3594 - mae: 7.3594\n",
            "Epoch 21/100\n",
            "1/1 [==============================] - 0s 22ms/step - loss: 7.3538 - mae: 7.3538\n",
            "Epoch 22/100\n",
            "1/1 [==============================] - 0s 14ms/step - loss: 7.3481 - mae: 7.3481\n",
            "Epoch 23/100\n",
            "1/1 [==============================] - 0s 18ms/step - loss: 7.3425 - mae: 7.3425\n",
            "Epoch 24/100\n",
            "1/1 [==============================] - 0s 32ms/step - loss: 7.3369 - mae: 7.3369\n",
            "Epoch 25/100\n",
            "1/1 [==============================] - 0s 20ms/step - loss: 7.3312 - mae: 7.3312\n",
            "Epoch 26/100\n",
            "1/1 [==============================] - 0s 19ms/step - loss: 7.3256 - mae: 7.3256\n",
            "Epoch 27/100\n",
            "1/1 [==============================] - 0s 18ms/step - loss: 7.3200 - mae: 7.3200\n",
            "Epoch 28/100\n",
            "1/1 [==============================] - 0s 14ms/step - loss: 7.3144 - mae: 7.3144\n",
            "Epoch 29/100\n",
            "1/1 [==============================] - 0s 13ms/step - loss: 7.3088 - mae: 7.3088\n",
            "Epoch 30/100\n",
            "1/1 [==============================] - 0s 11ms/step - loss: 7.3031 - mae: 7.3031\n",
            "Epoch 31/100\n",
            "1/1 [==============================] - 0s 11ms/step - loss: 7.2975 - mae: 7.2975\n",
            "Epoch 32/100\n",
            "1/1 [==============================] - 0s 23ms/step - loss: 7.2919 - mae: 7.2919\n",
            "Epoch 33/100\n",
            "1/1 [==============================] - 0s 15ms/step - loss: 7.2863 - mae: 7.2863\n",
            "Epoch 34/100\n",
            "1/1 [==============================] - 0s 17ms/step - loss: 7.2806 - mae: 7.2806\n",
            "Epoch 35/100\n",
            "1/1 [==============================] - 0s 21ms/step - loss: 7.2750 - mae: 7.2750\n",
            "Epoch 36/100\n",
            "1/1 [==============================] - 0s 14ms/step - loss: 7.2694 - mae: 7.2694\n",
            "Epoch 37/100\n",
            "1/1 [==============================] - 0s 15ms/step - loss: 7.2638 - mae: 7.2638\n",
            "Epoch 38/100\n",
            "1/1 [==============================] - 0s 64ms/step - loss: 7.2581 - mae: 7.2581\n",
            "Epoch 39/100\n",
            "1/1 [==============================] - 0s 14ms/step - loss: 7.2525 - mae: 7.2525\n",
            "Epoch 40/100\n",
            "1/1 [==============================] - 0s 11ms/step - loss: 7.2469 - mae: 7.2469\n",
            "Epoch 41/100\n",
            "1/1 [==============================] - 0s 10ms/step - loss: 7.2413 - mae: 7.2413\n",
            "Epoch 42/100\n",
            "1/1 [==============================] - 0s 10ms/step - loss: 7.2356 - mae: 7.2356\n",
            "Epoch 43/100\n",
            "1/1 [==============================] - 0s 11ms/step - loss: 7.2300 - mae: 7.2300\n",
            "Epoch 44/100\n",
            "1/1 [==============================] - 0s 17ms/step - loss: 7.2244 - mae: 7.2244\n",
            "Epoch 45/100\n",
            "1/1 [==============================] - 0s 21ms/step - loss: 7.2188 - mae: 7.2188\n",
            "Epoch 46/100\n",
            "1/1 [==============================] - 0s 23ms/step - loss: 7.2131 - mae: 7.2131\n",
            "Epoch 47/100\n",
            "1/1 [==============================] - 0s 22ms/step - loss: 7.2075 - mae: 7.2075\n",
            "Epoch 48/100\n",
            "1/1 [==============================] - 0s 44ms/step - loss: 7.2019 - mae: 7.2019\n",
            "Epoch 49/100\n",
            "1/1 [==============================] - 0s 27ms/step - loss: 7.1962 - mae: 7.1962\n",
            "Epoch 50/100\n",
            "1/1 [==============================] - 0s 21ms/step - loss: 7.1906 - mae: 7.1906\n",
            "Epoch 51/100\n",
            "1/1 [==============================] - 0s 24ms/step - loss: 7.1850 - mae: 7.1850\n",
            "Epoch 52/100\n",
            "1/1 [==============================] - 0s 21ms/step - loss: 7.1794 - mae: 7.1794\n",
            "Epoch 53/100\n",
            "1/1 [==============================] - 0s 22ms/step - loss: 7.1738 - mae: 7.1738\n",
            "Epoch 54/100\n",
            "1/1 [==============================] - 0s 12ms/step - loss: 7.1681 - mae: 7.1681\n",
            "Epoch 55/100\n",
            "1/1 [==============================] - 0s 22ms/step - loss: 7.1625 - mae: 7.1625\n",
            "Epoch 56/100\n",
            "1/1 [==============================] - 0s 11ms/step - loss: 7.1569 - mae: 7.1569\n",
            "Epoch 57/100\n",
            "1/1 [==============================] - 0s 23ms/step - loss: 7.1512 - mae: 7.1512\n",
            "Epoch 58/100\n",
            "1/1 [==============================] - 0s 19ms/step - loss: 7.1456 - mae: 7.1456\n",
            "Epoch 59/100\n",
            "1/1 [==============================] - 0s 16ms/step - loss: 7.1400 - mae: 7.1400\n",
            "Epoch 60/100\n",
            "1/1 [==============================] - 0s 19ms/step - loss: 7.1344 - mae: 7.1344\n",
            "Epoch 61/100\n",
            "1/1 [==============================] - 0s 18ms/step - loss: 7.1287 - mae: 7.1287\n",
            "Epoch 62/100\n",
            "1/1 [==============================] - 0s 23ms/step - loss: 7.1231 - mae: 7.1231\n",
            "Epoch 63/100\n",
            "1/1 [==============================] - 0s 21ms/step - loss: 7.1175 - mae: 7.1175\n",
            "Epoch 64/100\n",
            "1/1 [==============================] - 0s 17ms/step - loss: 7.1119 - mae: 7.1119\n",
            "Epoch 65/100\n",
            "1/1 [==============================] - 0s 17ms/step - loss: 7.1063 - mae: 7.1063\n",
            "Epoch 66/100\n",
            "1/1 [==============================] - 0s 19ms/step - loss: 7.1006 - mae: 7.1006\n",
            "Epoch 67/100\n",
            "1/1 [==============================] - 0s 24ms/step - loss: 7.0950 - mae: 7.0950\n",
            "Epoch 68/100\n",
            "1/1 [==============================] - 0s 21ms/step - loss: 7.0894 - mae: 7.0894\n",
            "Epoch 69/100\n",
            "1/1 [==============================] - 0s 18ms/step - loss: 7.0838 - mae: 7.0838\n",
            "Epoch 70/100\n",
            "1/1 [==============================] - 0s 67ms/step - loss: 7.0781 - mae: 7.0781\n",
            "Epoch 71/100\n",
            "1/1 [==============================] - 0s 27ms/step - loss: 7.0725 - mae: 7.0725\n",
            "Epoch 72/100\n",
            "1/1 [==============================] - 0s 20ms/step - loss: 7.0669 - mae: 7.0669\n",
            "Epoch 73/100\n",
            "1/1 [==============================] - 0s 25ms/step - loss: 7.0613 - mae: 7.0613\n",
            "Epoch 74/100\n",
            "1/1 [==============================] - 0s 12ms/step - loss: 7.0556 - mae: 7.0556\n",
            "Epoch 75/100\n",
            "1/1 [==============================] - 0s 31ms/step - loss: 7.0500 - mae: 7.0500\n",
            "Epoch 76/100\n",
            "1/1 [==============================] - 0s 30ms/step - loss: 7.0444 - mae: 7.0444\n",
            "Epoch 77/100\n",
            "1/1 [==============================] - 0s 24ms/step - loss: 7.0388 - mae: 7.0388\n",
            "Epoch 78/100\n",
            "1/1 [==============================] - 0s 23ms/step - loss: 7.0331 - mae: 7.0331\n",
            "Epoch 79/100\n",
            "1/1 [==============================] - 0s 17ms/step - loss: 7.0275 - mae: 7.0275\n",
            "Epoch 80/100\n",
            "1/1 [==============================] - 0s 24ms/step - loss: 7.0219 - mae: 7.0219\n",
            "Epoch 81/100\n",
            "1/1 [==============================] - 0s 16ms/step - loss: 7.0163 - mae: 7.0163\n",
            "Epoch 82/100\n",
            "1/1 [==============================] - 0s 19ms/step - loss: 7.0106 - mae: 7.0106\n",
            "Epoch 83/100\n",
            "1/1 [==============================] - 0s 21ms/step - loss: 7.0050 - mae: 7.0050\n",
            "Epoch 84/100\n",
            "1/1 [==============================] - 0s 18ms/step - loss: 6.9994 - mae: 6.9994\n",
            "Epoch 85/100\n",
            "1/1 [==============================] - 0s 22ms/step - loss: 6.9938 - mae: 6.9938\n",
            "Epoch 86/100\n",
            "1/1 [==============================] - 0s 19ms/step - loss: 6.9881 - mae: 6.9881\n",
            "Epoch 87/100\n",
            "1/1 [==============================] - 0s 19ms/step - loss: 6.9825 - mae: 6.9825\n",
            "Epoch 88/100\n",
            "1/1 [==============================] - 0s 19ms/step - loss: 6.9769 - mae: 6.9769\n",
            "Epoch 89/100\n",
            "1/1 [==============================] - 0s 22ms/step - loss: 6.9713 - mae: 6.9713\n",
            "Epoch 90/100\n",
            "1/1 [==============================] - 0s 14ms/step - loss: 6.9656 - mae: 6.9656\n",
            "Epoch 91/100\n",
            "1/1 [==============================] - 0s 19ms/step - loss: 6.9600 - mae: 6.9600\n",
            "Epoch 92/100\n",
            "1/1 [==============================] - 0s 16ms/step - loss: 6.9544 - mae: 6.9544\n",
            "Epoch 93/100\n",
            "1/1 [==============================] - 0s 18ms/step - loss: 6.9488 - mae: 6.9488\n",
            "Epoch 94/100\n",
            "1/1 [==============================] - 0s 13ms/step - loss: 6.9431 - mae: 6.9431\n",
            "Epoch 95/100\n",
            "1/1 [==============================] - 0s 13ms/step - loss: 6.9375 - mae: 6.9375\n",
            "Epoch 96/100\n",
            "1/1 [==============================] - 0s 19ms/step - loss: 6.9319 - mae: 6.9319\n",
            "Epoch 97/100\n",
            "1/1 [==============================] - 0s 14ms/step - loss: 6.9263 - mae: 6.9263\n",
            "Epoch 98/100\n",
            "1/1 [==============================] - 0s 15ms/step - loss: 6.9206 - mae: 6.9206\n",
            "Epoch 99/100\n",
            "1/1 [==============================] - 0s 16ms/step - loss: 6.9150 - mae: 6.9150\n",
            "Epoch 100/100\n",
            "1/1 [==============================] - 0s 19ms/step - loss: 6.9094 - mae: 6.9094\n"
          ]
        },
        {
          "output_type": "execute_result",
          "data": {
            "text/plain": [
              "<keras.src.callbacks.History at 0x7f2bc4501d80>"
            ]
          },
          "metadata": {},
          "execution_count": 14
        }
      ]
    },
    {
      "cell_type": "code",
      "source": [
        "# Remind ourselves of the data\n",
        "X, y"
      ],
      "metadata": {
        "id": "cLLGIsIWDA0J",
        "outputId": "cdfd2ee0-e862-4404-d883-b1366dc7046e",
        "colab": {
          "base_uri": "https://localhost:8080/"
        }
      },
      "execution_count": null,
      "outputs": [
        {
          "output_type": "execute_result",
          "data": {
            "text/plain": [
              "(<tf.Tensor: shape=(8,), dtype=float32, numpy=array([-7., -4., -1.,  2.,  5.,  8., 11., 14.], dtype=float32)>,\n",
              " <tf.Tensor: shape=(8,), dtype=float32, numpy=array([ 3.,  6.,  9., 12., 15., 18., 21., 24.], dtype=float32)>)"
            ]
          },
          "metadata": {},
          "execution_count": 15
        }
      ]
    },
    {
      "cell_type": "code",
      "source": [
        "# Let's see if our model's prediction has improved...\n",
        "model.predict([17.0])"
      ],
      "metadata": {
        "id": "gByFKupbFTdw",
        "colab": {
          "base_uri": "https://localhost:8080/"
        },
        "outputId": "fb295a10-3200-4909-8d37-f392495d9a56"
      },
      "execution_count": null,
      "outputs": [
        {
          "output_type": "stream",
          "name": "stdout",
          "text": [
            "1/1 [==============================] - 0s 248ms/step\n"
          ]
        },
        {
          "output_type": "execute_result",
          "data": {
            "text/plain": [
              "array([[29.73084]], dtype=float32)"
            ]
          },
          "metadata": {},
          "execution_count": 16
        }
      ]
    },
    {
      "cell_type": "markdown",
      "source": [
        "### Create a new model"
      ],
      "metadata": {
        "id": "pRt7GerdyLpM"
      }
    },
    {
      "cell_type": "code",
      "source": [
        "# Create\n",
        "model = tf.keras.Sequential([\n",
        "    tf.keras.layers.Dense(100, activation=\"relu\"),\n",
        "    tf.keras.layers.Dense(100, activation=\"relu\"),\n",
        "    tf.keras.layers.Dense(100, activation=\"relu\"),\n",
        "    tf.keras.layers.Dense(1)\n",
        "])\n",
        "\n",
        "# Compile\n",
        "model.compile(loss=tf.keras.losses.mae,\n",
        "              optimizer=tf.keras.optimizers.SGD(),\n",
        "              metrics=[\"mae\"])\n",
        "# Fit\n",
        "model.fit(tf.expand_dims(X, axis=-1), y, epochs=100)"
      ],
      "metadata": {
        "colab": {
          "base_uri": "https://localhost:8080/"
        },
        "id": "IfIIKP0Fy1P1",
        "outputId": "50b4a1f6-d4aa-4138-8730-f6024d285e1a"
      },
      "execution_count": null,
      "outputs": [
        {
          "output_type": "stream",
          "name": "stdout",
          "text": [
            "Epoch 1/100\n",
            "1/1 [==============================] - 2s 2s/step - loss: 13.6528 - mae: 13.6528\n",
            "Epoch 2/100\n",
            "1/1 [==============================] - 0s 33ms/step - loss: 13.1311 - mae: 13.1311\n",
            "Epoch 3/100\n",
            "1/1 [==============================] - 0s 27ms/step - loss: 12.6306 - mae: 12.6306\n",
            "Epoch 4/100\n",
            "1/1 [==============================] - 0s 27ms/step - loss: 12.1202 - mae: 12.1202\n",
            "Epoch 5/100\n",
            "1/1 [==============================] - 0s 28ms/step - loss: 11.5686 - mae: 11.5686\n",
            "Epoch 6/100\n",
            "1/1 [==============================] - 0s 39ms/step - loss: 10.9698 - mae: 10.9698\n",
            "Epoch 7/100\n",
            "1/1 [==============================] - 0s 38ms/step - loss: 10.2724 - mae: 10.2724\n",
            "Epoch 8/100\n",
            "1/1 [==============================] - 0s 44ms/step - loss: 9.4138 - mae: 9.4138\n",
            "Epoch 9/100\n",
            "1/1 [==============================] - 0s 19ms/step - loss: 8.3459 - mae: 8.3459\n",
            "Epoch 10/100\n",
            "1/1 [==============================] - 0s 11ms/step - loss: 7.1794 - mae: 7.1794\n",
            "Epoch 11/100\n",
            "1/1 [==============================] - 0s 11ms/step - loss: 5.6131 - mae: 5.6131\n",
            "Epoch 12/100\n",
            "1/1 [==============================] - 0s 14ms/step - loss: 3.9618 - mae: 3.9618\n",
            "Epoch 13/100\n",
            "1/1 [==============================] - 0s 26ms/step - loss: 4.0782 - mae: 4.0782\n",
            "Epoch 14/100\n",
            "1/1 [==============================] - 0s 24ms/step - loss: 3.9147 - mae: 3.9147\n",
            "Epoch 15/100\n",
            "1/1 [==============================] - 0s 26ms/step - loss: 4.0866 - mae: 4.0866\n",
            "Epoch 16/100\n",
            "1/1 [==============================] - 0s 17ms/step - loss: 3.8747 - mae: 3.8747\n",
            "Epoch 17/100\n",
            "1/1 [==============================] - 0s 22ms/step - loss: 4.0749 - mae: 4.0749\n",
            "Epoch 18/100\n",
            "1/1 [==============================] - 0s 18ms/step - loss: 3.8836 - mae: 3.8836\n",
            "Epoch 19/100\n",
            "1/1 [==============================] - 0s 21ms/step - loss: 4.0270 - mae: 4.0270\n",
            "Epoch 20/100\n",
            "1/1 [==============================] - 0s 21ms/step - loss: 3.8938 - mae: 3.8938\n",
            "Epoch 21/100\n",
            "1/1 [==============================] - 0s 24ms/step - loss: 3.9782 - mae: 3.9782\n",
            "Epoch 22/100\n",
            "1/1 [==============================] - 0s 21ms/step - loss: 3.9047 - mae: 3.9047\n",
            "Epoch 23/100\n",
            "1/1 [==============================] - 0s 17ms/step - loss: 3.9282 - mae: 3.9282\n",
            "Epoch 24/100\n",
            "1/1 [==============================] - 0s 38ms/step - loss: 3.9168 - mae: 3.9168\n",
            "Epoch 25/100\n",
            "1/1 [==============================] - 0s 19ms/step - loss: 3.8766 - mae: 3.8766\n",
            "Epoch 26/100\n",
            "1/1 [==============================] - 0s 21ms/step - loss: 3.9294 - mae: 3.9294\n",
            "Epoch 27/100\n",
            "1/1 [==============================] - 0s 32ms/step - loss: 3.8255 - mae: 3.8255\n",
            "Epoch 28/100\n",
            "1/1 [==============================] - 0s 20ms/step - loss: 3.9411 - mae: 3.9411\n",
            "Epoch 29/100\n",
            "1/1 [==============================] - 0s 25ms/step - loss: 3.7701 - mae: 3.7701\n",
            "Epoch 30/100\n",
            "1/1 [==============================] - 0s 45ms/step - loss: 3.9579 - mae: 3.9579\n",
            "Epoch 31/100\n",
            "1/1 [==============================] - 0s 26ms/step - loss: 3.7540 - mae: 3.7540\n",
            "Epoch 32/100\n",
            "1/1 [==============================] - 0s 49ms/step - loss: 3.9206 - mae: 3.9206\n",
            "Epoch 33/100\n",
            "1/1 [==============================] - 0s 23ms/step - loss: 3.7699 - mae: 3.7699\n",
            "Epoch 34/100\n",
            "1/1 [==============================] - 0s 40ms/step - loss: 3.8637 - mae: 3.8637\n",
            "Epoch 35/100\n",
            "1/1 [==============================] - 0s 16ms/step - loss: 3.7883 - mae: 3.7883\n",
            "Epoch 36/100\n",
            "1/1 [==============================] - 0s 34ms/step - loss: 3.8047 - mae: 3.8047\n",
            "Epoch 37/100\n",
            "1/1 [==============================] - 0s 30ms/step - loss: 3.8069 - mae: 3.8069\n",
            "Epoch 38/100\n",
            "1/1 [==============================] - 0s 16ms/step - loss: 3.7465 - mae: 3.7465\n",
            "Epoch 39/100\n",
            "1/1 [==============================] - 0s 40ms/step - loss: 3.8251 - mae: 3.8251\n",
            "Epoch 40/100\n",
            "1/1 [==============================] - 0s 16ms/step - loss: 3.6839 - mae: 3.6839\n",
            "Epoch 41/100\n",
            "1/1 [==============================] - 0s 14ms/step - loss: 3.8459 - mae: 3.8459\n",
            "Epoch 42/100\n",
            "1/1 [==============================] - 0s 22ms/step - loss: 3.6483 - mae: 3.6483\n",
            "Epoch 43/100\n",
            "1/1 [==============================] - 0s 17ms/step - loss: 3.8510 - mae: 3.8510\n",
            "Epoch 44/100\n",
            "1/1 [==============================] - 0s 44ms/step - loss: 3.7117 - mae: 3.7117\n",
            "Epoch 45/100\n",
            "1/1 [==============================] - 0s 21ms/step - loss: 3.7371 - mae: 3.7371\n",
            "Epoch 46/100\n",
            "1/1 [==============================] - 0s 15ms/step - loss: 3.7322 - mae: 3.7322\n",
            "Epoch 47/100\n",
            "1/1 [==============================] - 0s 13ms/step - loss: 3.6711 - mae: 3.6711\n",
            "Epoch 48/100\n",
            "1/1 [==============================] - 0s 11ms/step - loss: 3.7546 - mae: 3.7546\n",
            "Epoch 49/100\n",
            "1/1 [==============================] - 0s 22ms/step - loss: 3.6032 - mae: 3.6032\n",
            "Epoch 50/100\n",
            "1/1 [==============================] - 0s 12ms/step - loss: 3.7792 - mae: 3.7792\n",
            "Epoch 51/100\n",
            "1/1 [==============================] - 0s 11ms/step - loss: 3.5851 - mae: 3.5851\n",
            "Epoch 52/100\n",
            "1/1 [==============================] - 0s 10ms/step - loss: 3.7544 - mae: 3.7544\n",
            "Epoch 53/100\n",
            "1/1 [==============================] - 0s 22ms/step - loss: 3.6510 - mae: 3.6510\n",
            "Epoch 54/100\n",
            "1/1 [==============================] - 0s 35ms/step - loss: 3.6445 - mae: 3.6445\n",
            "Epoch 55/100\n",
            "1/1 [==============================] - 0s 21ms/step - loss: 3.6751 - mae: 3.6751\n",
            "Epoch 56/100\n",
            "1/1 [==============================] - 0s 49ms/step - loss: 3.5725 - mae: 3.5725\n",
            "Epoch 57/100\n",
            "1/1 [==============================] - 0s 49ms/step - loss: 3.7009 - mae: 3.7009\n",
            "Epoch 58/100\n",
            "1/1 [==============================] - 0s 21ms/step - loss: 3.5125 - mae: 3.5125\n",
            "Epoch 59/100\n",
            "1/1 [==============================] - 0s 24ms/step - loss: 3.7014 - mae: 3.7014\n",
            "Epoch 60/100\n",
            "1/1 [==============================] - 0s 21ms/step - loss: 3.5383 - mae: 3.5383\n",
            "Epoch 61/100\n",
            "1/1 [==============================] - 0s 23ms/step - loss: 3.6312 - mae: 3.6312\n",
            "Epoch 62/100\n",
            "1/1 [==============================] - 0s 15ms/step - loss: 3.5629 - mae: 3.5629\n",
            "Epoch 63/100\n",
            "1/1 [==============================] - 0s 18ms/step - loss: 3.5653 - mae: 3.5653\n",
            "Epoch 64/100\n",
            "1/1 [==============================] - 0s 20ms/step - loss: 3.6343 - mae: 3.6343\n",
            "Epoch 65/100\n",
            "1/1 [==============================] - 0s 27ms/step - loss: 3.4543 - mae: 3.4543\n",
            "Epoch 66/100\n",
            "1/1 [==============================] - 0s 19ms/step - loss: 3.6581 - mae: 3.6581\n",
            "Epoch 67/100\n",
            "1/1 [==============================] - 0s 20ms/step - loss: 3.4643 - mae: 3.4643\n",
            "Epoch 68/100\n",
            "1/1 [==============================] - 0s 22ms/step - loss: 3.5872 - mae: 3.5872\n",
            "Epoch 69/100\n",
            "1/1 [==============================] - 0s 35ms/step - loss: 3.4930 - mae: 3.4930\n",
            "Epoch 70/100\n",
            "1/1 [==============================] - 0s 20ms/step - loss: 3.5062 - mae: 3.5062\n",
            "Epoch 71/100\n",
            "1/1 [==============================] - 0s 22ms/step - loss: 3.5239 - mae: 3.5239\n",
            "Epoch 72/100\n",
            "1/1 [==============================] - 0s 26ms/step - loss: 3.4226 - mae: 3.4226\n",
            "Epoch 73/100\n",
            "1/1 [==============================] - 0s 21ms/step - loss: 3.5569 - mae: 3.5569\n",
            "Epoch 74/100\n",
            "1/1 [==============================] - 0s 20ms/step - loss: 3.3708 - mae: 3.3708\n",
            "Epoch 75/100\n",
            "1/1 [==============================] - 0s 28ms/step - loss: 3.5748 - mae: 3.5748\n",
            "Epoch 76/100\n",
            "1/1 [==============================] - 0s 35ms/step - loss: 3.4437 - mae: 3.4437\n",
            "Epoch 77/100\n",
            "1/1 [==============================] - 0s 24ms/step - loss: 3.4318 - mae: 3.4318\n",
            "Epoch 78/100\n",
            "1/1 [==============================] - 0s 28ms/step - loss: 3.4759 - mae: 3.4759\n",
            "Epoch 79/100\n",
            "1/1 [==============================] - 0s 32ms/step - loss: 3.3435 - mae: 3.3435\n",
            "Epoch 80/100\n",
            "1/1 [==============================] - 0s 23ms/step - loss: 3.5100 - mae: 3.5100\n",
            "Epoch 81/100\n",
            "1/1 [==============================] - 0s 26ms/step - loss: 3.3249 - mae: 3.3249\n",
            "Epoch 82/100\n",
            "1/1 [==============================] - 0s 40ms/step - loss: 3.4605 - mae: 3.4605\n",
            "Epoch 83/100\n",
            "1/1 [==============================] - 0s 48ms/step - loss: 3.3587 - mae: 3.3587\n",
            "Epoch 84/100\n",
            "1/1 [==============================] - 0s 33ms/step - loss: 3.3702 - mae: 3.3702\n",
            "Epoch 85/100\n",
            "1/1 [==============================] - 0s 23ms/step - loss: 3.4362 - mae: 3.4362\n",
            "Epoch 86/100\n",
            "1/1 [==============================] - 0s 23ms/step - loss: 3.2572 - mae: 3.2572\n",
            "Epoch 87/100\n",
            "1/1 [==============================] - 0s 70ms/step - loss: 3.4512 - mae: 3.4512\n",
            "Epoch 88/100\n",
            "1/1 [==============================] - 0s 50ms/step - loss: 3.2894 - mae: 3.2894\n",
            "Epoch 89/100\n",
            "1/1 [==============================] - 0s 21ms/step - loss: 3.3586 - mae: 3.3586\n",
            "Epoch 90/100\n",
            "1/1 [==============================] - 0s 44ms/step - loss: 3.3241 - mae: 3.3241\n",
            "Epoch 91/100\n",
            "1/1 [==============================] - 0s 37ms/step - loss: 3.2615 - mae: 3.2615\n",
            "Epoch 92/100\n",
            "1/1 [==============================] - 0s 28ms/step - loss: 3.3617 - mae: 3.3617\n",
            "Epoch 93/100\n",
            "1/1 [==============================] - 0s 41ms/step - loss: 3.1842 - mae: 3.1842\n",
            "Epoch 94/100\n",
            "1/1 [==============================] - 0s 23ms/step - loss: 3.3664 - mae: 3.3664\n",
            "Epoch 95/100\n",
            "1/1 [==============================] - 0s 37ms/step - loss: 3.2617 - mae: 3.2617\n",
            "Epoch 96/100\n",
            "1/1 [==============================] - 0s 35ms/step - loss: 3.2398 - mae: 3.2398\n",
            "Epoch 97/100\n",
            "1/1 [==============================] - 0s 43ms/step - loss: 3.2983 - mae: 3.2983\n",
            "Epoch 98/100\n",
            "1/1 [==============================] - 0s 36ms/step - loss: 3.1360 - mae: 3.1360\n",
            "Epoch 99/100\n",
            "1/1 [==============================] - 0s 20ms/step - loss: 3.3365 - mae: 3.3365\n",
            "Epoch 100/100\n",
            "1/1 [==============================] - 0s 18ms/step - loss: 3.1559 - mae: 3.1559\n"
          ]
        },
        {
          "output_type": "execute_result",
          "data": {
            "text/plain": [
              "<keras.src.callbacks.History at 0x7f2bc431dcf0>"
            ]
          },
          "metadata": {},
          "execution_count": 17
        }
      ]
    },
    {
      "cell_type": "code",
      "source": [
        "model.predict([17.0])"
      ],
      "metadata": {
        "colab": {
          "base_uri": "https://localhost:8080/"
        },
        "id": "-hgI8mhqz341",
        "outputId": "2f360e9e-7197-4dbb-b8d0-799363dacc19"
      },
      "execution_count": null,
      "outputs": [
        {
          "output_type": "stream",
          "name": "stdout",
          "text": [
            "1/1 [==============================] - 0s 271ms/step\n"
          ]
        },
        {
          "output_type": "execute_result",
          "data": {
            "text/plain": [
              "array([[29.665821]], dtype=float32)"
            ]
          },
          "metadata": {},
          "execution_count": 18
        }
      ]
    },
    {
      "cell_type": "code",
      "source": [
        "# Let's see if we can make another to improve our model\n",
        "\n",
        "# Create the model (this time with an extra hidden layer with 100 hidden units)\n",
        "model = tf.keras.Sequential([\n",
        "    tf.keras.layers.Dense(50, activation=None),\n",
        "    tf.keras.layers.Dense(1)\n",
        "])\n",
        "\n",
        "# Compile\n",
        "model.compile(loss=\"mae\",\n",
        "              optimizer=tf.keras.optimizers.Adam(lr=0.01),\n",
        "              metrics=[\"mae\"])\n",
        "\n",
        "# Fit\n",
        "model.fit(tf.expand_dims(X, axis=-1), y, epochs=100)"
      ],
      "metadata": {
        "colab": {
          "base_uri": "https://localhost:8080/"
        },
        "id": "IzL0gvD50N1l",
        "outputId": "b6616e53-4c3c-4c81-bfef-a589363de246"
      },
      "execution_count": null,
      "outputs": [
        {
          "output_type": "stream",
          "name": "stderr",
          "text": [
            "WARNING:absl:`lr` is deprecated in Keras optimizer, please use `learning_rate` or use the legacy optimizer, e.g.,tf.keras.optimizers.legacy.Adam.\n"
          ]
        },
        {
          "output_type": "stream",
          "name": "stdout",
          "text": [
            "Epoch 1/100\n",
            "1/1 [==============================] - 1s 1s/step - loss: 13.6714 - mae: 13.6714\n",
            "Epoch 2/100\n",
            "1/1 [==============================] - 0s 14ms/step - loss: 13.6104 - mae: 13.6104\n",
            "Epoch 3/100\n",
            "1/1 [==============================] - 0s 24ms/step - loss: 13.5494 - mae: 13.5494\n",
            "Epoch 4/100\n",
            "1/1 [==============================] - 0s 24ms/step - loss: 13.4883 - mae: 13.4883\n",
            "Epoch 5/100\n",
            "1/1 [==============================] - 0s 23ms/step - loss: 13.4272 - mae: 13.4272\n",
            "Epoch 6/100\n",
            "1/1 [==============================] - 0s 14ms/step - loss: 13.3660 - mae: 13.3660\n",
            "Epoch 7/100\n",
            "1/1 [==============================] - 0s 12ms/step - loss: 13.3047 - mae: 13.3047\n",
            "Epoch 8/100\n",
            "1/1 [==============================] - 0s 17ms/step - loss: 13.2434 - mae: 13.2434\n",
            "Epoch 9/100\n",
            "1/1 [==============================] - 0s 20ms/step - loss: 13.1820 - mae: 13.1820\n",
            "Epoch 10/100\n",
            "1/1 [==============================] - 0s 22ms/step - loss: 13.1205 - mae: 13.1205\n",
            "Epoch 11/100\n",
            "1/1 [==============================] - 0s 12ms/step - loss: 13.0589 - mae: 13.0589\n",
            "Epoch 12/100\n",
            "1/1 [==============================] - 0s 16ms/step - loss: 12.9972 - mae: 12.9972\n",
            "Epoch 13/100\n",
            "1/1 [==============================] - 0s 12ms/step - loss: 12.9354 - mae: 12.9354\n",
            "Epoch 14/100\n",
            "1/1 [==============================] - 0s 22ms/step - loss: 12.8735 - mae: 12.8735\n",
            "Epoch 15/100\n",
            "1/1 [==============================] - 0s 14ms/step - loss: 12.8115 - mae: 12.8115\n",
            "Epoch 16/100\n",
            "1/1 [==============================] - 0s 14ms/step - loss: 12.7493 - mae: 12.7493\n",
            "Epoch 17/100\n",
            "1/1 [==============================] - 0s 22ms/step - loss: 12.6870 - mae: 12.6870\n",
            "Epoch 18/100\n",
            "1/1 [==============================] - 0s 18ms/step - loss: 12.6245 - mae: 12.6245\n",
            "Epoch 19/100\n",
            "1/1 [==============================] - 0s 14ms/step - loss: 12.5619 - mae: 12.5619\n",
            "Epoch 20/100\n",
            "1/1 [==============================] - 0s 11ms/step - loss: 12.4991 - mae: 12.4991\n",
            "Epoch 21/100\n",
            "1/1 [==============================] - 0s 12ms/step - loss: 12.4361 - mae: 12.4361\n",
            "Epoch 22/100\n",
            "1/1 [==============================] - 0s 18ms/step - loss: 12.3729 - mae: 12.3729\n",
            "Epoch 23/100\n",
            "1/1 [==============================] - 0s 27ms/step - loss: 12.3095 - mae: 12.3095\n",
            "Epoch 24/100\n",
            "1/1 [==============================] - 0s 20ms/step - loss: 12.2459 - mae: 12.2459\n",
            "Epoch 25/100\n",
            "1/1 [==============================] - 0s 23ms/step - loss: 12.1820 - mae: 12.1820\n",
            "Epoch 26/100\n",
            "1/1 [==============================] - 0s 21ms/step - loss: 12.1179 - mae: 12.1179\n",
            "Epoch 27/100\n",
            "1/1 [==============================] - 0s 19ms/step - loss: 12.0536 - mae: 12.0536\n",
            "Epoch 28/100\n",
            "1/1 [==============================] - 0s 17ms/step - loss: 11.9890 - mae: 11.9890\n",
            "Epoch 29/100\n",
            "1/1 [==============================] - 0s 15ms/step - loss: 11.9241 - mae: 11.9241\n",
            "Epoch 30/100\n",
            "1/1 [==============================] - 0s 12ms/step - loss: 11.8589 - mae: 11.8589\n",
            "Epoch 31/100\n",
            "1/1 [==============================] - 0s 13ms/step - loss: 11.7935 - mae: 11.7935\n",
            "Epoch 32/100\n",
            "1/1 [==============================] - 0s 35ms/step - loss: 11.7278 - mae: 11.7278\n",
            "Epoch 33/100\n",
            "1/1 [==============================] - 0s 14ms/step - loss: 11.6618 - mae: 11.6618\n",
            "Epoch 34/100\n",
            "1/1 [==============================] - 0s 13ms/step - loss: 11.5955 - mae: 11.5955\n",
            "Epoch 35/100\n",
            "1/1 [==============================] - 0s 15ms/step - loss: 11.5288 - mae: 11.5288\n",
            "Epoch 36/100\n",
            "1/1 [==============================] - 0s 24ms/step - loss: 11.4619 - mae: 11.4619\n",
            "Epoch 37/100\n",
            "1/1 [==============================] - 0s 18ms/step - loss: 11.3946 - mae: 11.3946\n",
            "Epoch 38/100\n",
            "1/1 [==============================] - 0s 14ms/step - loss: 11.3269 - mae: 11.3269\n",
            "Epoch 39/100\n",
            "1/1 [==============================] - 0s 12ms/step - loss: 11.2590 - mae: 11.2590\n",
            "Epoch 40/100\n",
            "1/1 [==============================] - 0s 15ms/step - loss: 11.1907 - mae: 11.1907\n",
            "Epoch 41/100\n",
            "1/1 [==============================] - 0s 15ms/step - loss: 11.1220 - mae: 11.1220\n",
            "Epoch 42/100\n",
            "1/1 [==============================] - 0s 17ms/step - loss: 11.0530 - mae: 11.0530\n",
            "Epoch 43/100\n",
            "1/1 [==============================] - 0s 17ms/step - loss: 10.9836 - mae: 10.9836\n",
            "Epoch 44/100\n",
            "1/1 [==============================] - 0s 17ms/step - loss: 10.9138 - mae: 10.9138\n",
            "Epoch 45/100\n",
            "1/1 [==============================] - 0s 14ms/step - loss: 10.8436 - mae: 10.8436\n",
            "Epoch 46/100\n",
            "1/1 [==============================] - 0s 15ms/step - loss: 10.7731 - mae: 10.7731\n",
            "Epoch 47/100\n",
            "1/1 [==============================] - 0s 14ms/step - loss: 10.7021 - mae: 10.7021\n",
            "Epoch 48/100\n",
            "1/1 [==============================] - 0s 14ms/step - loss: 10.6308 - mae: 10.6308\n",
            "Epoch 49/100\n",
            "1/1 [==============================] - 0s 15ms/step - loss: 10.5590 - mae: 10.5590\n",
            "Epoch 50/100\n",
            "1/1 [==============================] - 0s 15ms/step - loss: 10.4868 - mae: 10.4868\n",
            "Epoch 51/100\n",
            "1/1 [==============================] - 0s 15ms/step - loss: 10.4142 - mae: 10.4142\n",
            "Epoch 52/100\n",
            "1/1 [==============================] - 0s 15ms/step - loss: 10.3412 - mae: 10.3412\n",
            "Epoch 53/100\n",
            "1/1 [==============================] - 0s 14ms/step - loss: 10.2677 - mae: 10.2677\n",
            "Epoch 54/100\n",
            "1/1 [==============================] - 0s 14ms/step - loss: 10.1938 - mae: 10.1938\n",
            "Epoch 55/100\n",
            "1/1 [==============================] - 0s 19ms/step - loss: 10.1194 - mae: 10.1194\n",
            "Epoch 56/100\n",
            "1/1 [==============================] - 0s 21ms/step - loss: 10.0446 - mae: 10.0446\n",
            "Epoch 57/100\n",
            "1/1 [==============================] - 0s 19ms/step - loss: 9.9693 - mae: 9.9693\n",
            "Epoch 58/100\n",
            "1/1 [==============================] - 0s 26ms/step - loss: 9.8935 - mae: 9.8935\n",
            "Epoch 59/100\n",
            "1/1 [==============================] - 0s 17ms/step - loss: 9.8173 - mae: 9.8173\n",
            "Epoch 60/100\n",
            "1/1 [==============================] - 0s 19ms/step - loss: 9.7406 - mae: 9.7406\n",
            "Epoch 61/100\n",
            "1/1 [==============================] - 0s 20ms/step - loss: 9.6634 - mae: 9.6634\n",
            "Epoch 62/100\n",
            "1/1 [==============================] - 0s 17ms/step - loss: 9.5857 - mae: 9.5857\n",
            "Epoch 63/100\n",
            "1/1 [==============================] - 0s 20ms/step - loss: 9.5075 - mae: 9.5075\n",
            "Epoch 64/100\n",
            "1/1 [==============================] - 0s 11ms/step - loss: 9.4288 - mae: 9.4288\n",
            "Epoch 65/100\n",
            "1/1 [==============================] - 0s 22ms/step - loss: 9.3495 - mae: 9.3495\n",
            "Epoch 66/100\n",
            "1/1 [==============================] - 0s 14ms/step - loss: 9.2698 - mae: 9.2698\n",
            "Epoch 67/100\n",
            "1/1 [==============================] - 0s 13ms/step - loss: 9.1895 - mae: 9.1895\n",
            "Epoch 68/100\n",
            "1/1 [==============================] - 0s 13ms/step - loss: 9.1088 - mae: 9.1088\n",
            "Epoch 69/100\n",
            "1/1 [==============================] - 0s 14ms/step - loss: 9.0274 - mae: 9.0274\n",
            "Epoch 70/100\n",
            "1/1 [==============================] - 0s 26ms/step - loss: 8.9456 - mae: 8.9456\n",
            "Epoch 71/100\n",
            "1/1 [==============================] - 0s 18ms/step - loss: 8.8632 - mae: 8.8632\n",
            "Epoch 72/100\n",
            "1/1 [==============================] - 0s 16ms/step - loss: 8.7802 - mae: 8.7802\n",
            "Epoch 73/100\n",
            "1/1 [==============================] - 0s 15ms/step - loss: 8.6967 - mae: 8.6967\n",
            "Epoch 74/100\n",
            "1/1 [==============================] - 0s 12ms/step - loss: 8.6126 - mae: 8.6126\n",
            "Epoch 75/100\n",
            "1/1 [==============================] - 0s 22ms/step - loss: 8.5279 - mae: 8.5279\n",
            "Epoch 76/100\n",
            "1/1 [==============================] - 0s 52ms/step - loss: 8.4427 - mae: 8.4427\n",
            "Epoch 77/100\n",
            "1/1 [==============================] - 0s 21ms/step - loss: 8.3569 - mae: 8.3569\n",
            "Epoch 78/100\n",
            "1/1 [==============================] - 0s 18ms/step - loss: 8.2705 - mae: 8.2705\n",
            "Epoch 79/100\n",
            "1/1 [==============================] - 0s 18ms/step - loss: 8.1835 - mae: 8.1835\n",
            "Epoch 80/100\n",
            "1/1 [==============================] - 0s 24ms/step - loss: 8.0960 - mae: 8.0960\n",
            "Epoch 81/100\n",
            "1/1 [==============================] - 0s 20ms/step - loss: 8.0078 - mae: 8.0078\n",
            "Epoch 82/100\n",
            "1/1 [==============================] - 0s 26ms/step - loss: 7.9190 - mae: 7.9190\n",
            "Epoch 83/100\n",
            "1/1 [==============================] - 0s 34ms/step - loss: 7.8296 - mae: 7.8296\n",
            "Epoch 84/100\n",
            "1/1 [==============================] - 0s 23ms/step - loss: 7.7396 - mae: 7.7396\n",
            "Epoch 85/100\n",
            "1/1 [==============================] - 0s 23ms/step - loss: 7.6490 - mae: 7.6490\n",
            "Epoch 86/100\n",
            "1/1 [==============================] - 0s 20ms/step - loss: 7.5577 - mae: 7.5577\n",
            "Epoch 87/100\n",
            "1/1 [==============================] - 0s 18ms/step - loss: 7.4658 - mae: 7.4658\n",
            "Epoch 88/100\n",
            "1/1 [==============================] - 0s 24ms/step - loss: 7.3733 - mae: 7.3733\n",
            "Epoch 89/100\n",
            "1/1 [==============================] - 0s 25ms/step - loss: 7.2801 - mae: 7.2801\n",
            "Epoch 90/100\n",
            "1/1 [==============================] - 0s 24ms/step - loss: 7.1863 - mae: 7.1863\n",
            "Epoch 91/100\n",
            "1/1 [==============================] - 0s 24ms/step - loss: 7.0919 - mae: 7.0919\n",
            "Epoch 92/100\n",
            "1/1 [==============================] - 0s 39ms/step - loss: 6.9967 - mae: 6.9967\n",
            "Epoch 93/100\n",
            "1/1 [==============================] - 0s 35ms/step - loss: 6.9010 - mae: 6.9010\n",
            "Epoch 94/100\n",
            "1/1 [==============================] - 0s 24ms/step - loss: 6.8045 - mae: 6.8045\n",
            "Epoch 95/100\n",
            "1/1 [==============================] - 0s 23ms/step - loss: 6.7074 - mae: 6.7074\n",
            "Epoch 96/100\n",
            "1/1 [==============================] - 0s 31ms/step - loss: 6.6656 - mae: 6.6656\n",
            "Epoch 97/100\n",
            "1/1 [==============================] - 0s 15ms/step - loss: 6.6531 - mae: 6.6531\n",
            "Epoch 98/100\n",
            "1/1 [==============================] - 0s 23ms/step - loss: 6.6409 - mae: 6.6409\n",
            "Epoch 99/100\n",
            "1/1 [==============================] - 0s 25ms/step - loss: 6.6291 - mae: 6.6291\n",
            "Epoch 100/100\n",
            "1/1 [==============================] - 0s 29ms/step - loss: 6.6175 - mae: 6.6175\n"
          ]
        },
        {
          "output_type": "execute_result",
          "data": {
            "text/plain": [
              "<keras.src.callbacks.History at 0x7f2bc431ec50>"
            ]
          },
          "metadata": {},
          "execution_count": 19
        }
      ]
    },
    {
      "cell_type": "code",
      "source": [
        "X, y"
      ],
      "metadata": {
        "colab": {
          "base_uri": "https://localhost:8080/"
        },
        "id": "T3ybXJ7v2cLU",
        "outputId": "2ac82754-9525-4aa3-e5ca-38c99b0ecbaa"
      },
      "execution_count": null,
      "outputs": [
        {
          "output_type": "execute_result",
          "data": {
            "text/plain": [
              "(<tf.Tensor: shape=(8,), dtype=float32, numpy=array([-7., -4., -1.,  2.,  5.,  8., 11., 14.], dtype=float32)>,\n",
              " <tf.Tensor: shape=(8,), dtype=float32, numpy=array([ 3.,  6.,  9., 12., 15., 18., 21., 24.], dtype=float32)>)"
            ]
          },
          "metadata": {},
          "execution_count": 20
        }
      ]
    },
    {
      "cell_type": "code",
      "source": [
        "# Let's try to make a prediction\n",
        "model.predict([17.0])"
      ],
      "metadata": {
        "colab": {
          "base_uri": "https://localhost:8080/"
        },
        "id": "OTWEdQJm2wRs",
        "outputId": "ade432aa-58df-49e9-9768-c3e24f344892"
      },
      "execution_count": null,
      "outputs": [
        {
          "output_type": "stream",
          "name": "stdout",
          "text": [
            "1/1 [==============================] - 0s 94ms/step\n"
          ]
        },
        {
          "output_type": "execute_result",
          "data": {
            "text/plain": [
              "array([[30.759039]], dtype=float32)"
            ]
          },
          "metadata": {},
          "execution_count": 21
        }
      ]
    },
    {
      "cell_type": "markdown",
      "source": [
        "## Evaluating a model\n",
        "\n",
        "In practice, a typical workflow you'll go through when building neural networks is:\n",
        "\n",
        "```\n",
        "Build a model -> fit it -> evaluate it -> tweak a model -> fit it -> evaluate it -> tweak a model -> fit it -> evaluate it...\n",
        "```"
      ],
      "metadata": {
        "id": "7e_jxzni28Nk"
      }
    },
    {
      "cell_type": "markdown",
      "source": [
        "# When it comes to evaluation... there are 3 words you should memorize:\n",
        "\n",
        "> \"Visualize, visualize, visualize\"\n",
        "\n",
        "It's a good idea to visualize:\n",
        "* The data - what data are we working with? What does it look like?\n",
        "* The model itself - what does our model look like?\n",
        "* The training of a model - how does a model perform while it learns?\n",
        "* The predictions of the model - how do the predictions of a model line up against the ground truth (the original labels)?"
      ],
      "metadata": {
        "id": "HXOVp9x8vwOT"
      }
    },
    {
      "cell_type": "code",
      "source": [
        "# Make a bigger dataset\n",
        "X = tf.range(-100.0, 100.0, 4)\n",
        "X"
      ],
      "metadata": {
        "colab": {
          "base_uri": "https://localhost:8080/"
        },
        "id": "A_EqHdM5wWC6",
        "outputId": "8fa9c18d-5ca9-49f9-c960-c2d97058315b"
      },
      "execution_count": null,
      "outputs": [
        {
          "output_type": "execute_result",
          "data": {
            "text/plain": [
              "<tf.Tensor: shape=(50,), dtype=float32, numpy=\n",
              "array([-100.,  -96.,  -92.,  -88.,  -84.,  -80.,  -76.,  -72.,  -68.,\n",
              "        -64.,  -60.,  -56.,  -52.,  -48.,  -44.,  -40.,  -36.,  -32.,\n",
              "        -28.,  -24.,  -20.,  -16.,  -12.,   -8.,   -4.,    0.,    4.,\n",
              "          8.,   12.,   16.,   20.,   24.,   28.,   32.,   36.,   40.,\n",
              "         44.,   48.,   52.,   56.,   60.,   64.,   68.,   72.,   76.,\n",
              "         80.,   84.,   88.,   92.,   96.], dtype=float32)>"
            ]
          },
          "metadata": {},
          "execution_count": 22
        }
      ]
    },
    {
      "cell_type": "code",
      "source": [
        "# Make labels for the dataset\n",
        "y = X + 10\n",
        "y"
      ],
      "metadata": {
        "colab": {
          "base_uri": "https://localhost:8080/"
        },
        "id": "dmGVr8m8zu6C",
        "outputId": "ab08d922-87ba-4c53-f4a4-06ac79256861"
      },
      "execution_count": null,
      "outputs": [
        {
          "output_type": "execute_result",
          "data": {
            "text/plain": [
              "<tf.Tensor: shape=(50,), dtype=float32, numpy=\n",
              "array([-90., -86., -82., -78., -74., -70., -66., -62., -58., -54., -50.,\n",
              "       -46., -42., -38., -34., -30., -26., -22., -18., -14., -10.,  -6.,\n",
              "        -2.,   2.,   6.,  10.,  14.,  18.,  22.,  26.,  30.,  34.,  38.,\n",
              "        42.,  46.,  50.,  54.,  58.,  62.,  66.,  70.,  74.,  78.,  82.,\n",
              "        86.,  90.,  94.,  98., 102., 106.], dtype=float32)>"
            ]
          },
          "metadata": {},
          "execution_count": 23
        }
      ]
    },
    {
      "cell_type": "code",
      "source": [
        "# Visualize the data\n",
        "import matplotlib.pyplot as plt\n",
        "\n",
        "plt.scatter(X, y)"
      ],
      "metadata": {
        "colab": {
          "base_uri": "https://localhost:8080/",
          "height": 448
        },
        "id": "BeHb9sHo0GUZ",
        "outputId": "6b87fc14-b5cd-400f-cfab-4d532db7aac9"
      },
      "execution_count": null,
      "outputs": [
        {
          "output_type": "execute_result",
          "data": {
            "text/plain": [
              "<matplotlib.collections.PathCollection at 0x7f2bbd63e380>"
            ]
          },
          "metadata": {},
          "execution_count": 24
        },
        {
          "output_type": "display_data",
          "data": {
            "text/plain": [
              "<Figure size 640x480 with 1 Axes>"
            ],
            "image/png": "[encoded data removed]"
          },
          "metadata": {}
        }
      ]
    },
    {
      "cell_type": "markdown",
      "source": [
        "### The 3 sets...\n",
        "\n",
        "* **Training set** - the model learns from this data, which typically\n",
        "constitutes 70-80% of the total available data.\n",
        "* **Validation set** - the model is fine-tuned on this data, typically representing 10-15% of the available data.\n",
        "* **Test set** - the model is evaluated on this data to assess what it has learned; this set typically accounts for 10-15% of the total available data."
      ],
      "metadata": {
        "id": "afBef0tX0dzJ"
      }
    },
    {
      "cell_type": "code",
      "source": [
        "# Check the length of how many samples we have\n",
        "len(X)"
      ],
      "metadata": {
        "colab": {
          "base_uri": "https://localhost:8080/"
        },
        "id": "JSNYXWyp3q_U",
        "outputId": "eb79553b-fb52-469d-d4a9-059efc2412e0"
      },
      "execution_count": null,
      "outputs": [
        {
          "output_type": "execute_result",
          "data": {
            "text/plain": [
              "50"
            ]
          },
          "metadata": {},
          "execution_count": 25
        }
      ]
    },
    {
      "cell_type": "code",
      "source": [
        "# Split the data into train and test sets\n",
        "X_train = X[:40] # first 40 are training samples (80% of the data)\n",
        "y_train = y[:40]\n",
        "\n",
        "X_test = X[40:] # last 10 are testing samples (20% of the data)\n",
        "y_test = y[40:]\n",
        "\n",
        "len(X_train), len(X_test), len(y_train), len(y_test)"
      ],
      "metadata": {
        "colab": {
          "base_uri": "https://localhost:8080/"
        },
        "id": "Qmc2fgys3zwh",
        "outputId": "130921c3-a8ff-4a6f-e177-183b68ba2537"
      },
      "execution_count": null,
      "outputs": [
        {
          "output_type": "execute_result",
          "data": {
            "text/plain": [
              "(40, 10, 40, 10)"
            ]
          },
          "metadata": {},
          "execution_count": 26
        }
      ]
    },
    {
      "cell_type": "markdown",
      "source": [
        "### Visualizing the data\n",
        "\n",
        "Now we've got our data in training and test sets... let's visualize it again!"
      ],
      "metadata": {
        "id": "eYzIliLS41KB"
      }
    },
    {
      "cell_type": "code",
      "source": [
        "plt.figure(figsize=(10, 7))\n",
        "# Plot training data in blue\n",
        "plt.scatter(X_train, y_train, c=\"b\", label=\"Training data\")\n",
        "# Plot test data in green\n",
        "plt.scatter(X_test, y_test, c=\"g\", label=\"Testing data\")\n",
        "# Show a legend\n",
        "plt.legend();"
      ],
      "metadata": {
        "colab": {
          "base_uri": "https://localhost:8080/",
          "height": 599
        },
        "id": "kWrb5LB85Csx",
        "outputId": "9654d2a3-7666-47fd-8c5b-437d852262ab"
      },
      "execution_count": null,
      "outputs": [
        {
          "output_type": "display_data",
          "data": {
            "text/plain": [
              "<Figure size 1000x700 with 1 Axes>"
            ],
            "image/png": "[encoded data removed]"
          },
          "metadata": {}
        }
      ]
    },
    {
      "cell_type": "code",
      "source": [
        "# Let's have a look at how to build a neural network for our data\n",
        "\n",
        "# Create\n",
        "model = tf.keras.Sequential([\n",
        "    tf.keras.layers.Dense(1)\n",
        "])\n",
        "\n",
        "# Compile\n",
        "model.compile(loss=tf.keras.losses.mae,\n",
        "              optimizer=tf.keras.optimizers.SGD(),\n",
        "              metrics=[\"mae\"])\n",
        "\n",
        "# # Fit\n",
        "# model.fit(tf.expand_dims(X, axis=-1), y, epochs=100)"
      ],
      "metadata": {
        "id": "nfK2nyYa6XA5"
      },
      "execution_count": null,
      "outputs": []
    },
    {
      "cell_type": "markdown",
      "source": [
        "### Visualizing the model"
      ],
      "metadata": {
        "id": "GQ11qyS2TzYg"
      }
    },
    {
      "cell_type": "code",
      "source": [
        "\n",
        "model.summary()"
      ],
      "metadata": {
        "id": "T_7oaThbhCtd",
        "outputId": "0e193c5e-a7ea-40ec-cf00-f18fd755737c",
        "colab": {
          "base_uri": "https://localhost:8080/",
          "height": 270
        }
      },
      "execution_count": null,
      "outputs": [
        {
          "output_type": "error",
          "ename": "ValueError",
          "evalue": "This model has not yet been built. Build the model first by calling `build()` or by calling the model on a batch of data.",
          "traceback": [
            "\u001b[0;31m---------------------------------------------------------------------------\u001b[0m",
            "\u001b[0;31mValueError\u001b[0m                                Traceback (most recent call last)",
            "\u001b[0;32m<ipython-input-29-5f15418b3570>\u001b[0m in \u001b[0;36m<cell line: 1>\u001b[0;34m()\u001b[0m\n\u001b[0;32m----> 1\u001b[0;31m \u001b[0mmodel\u001b[0m\u001b[0;34m.\u001b[0m\u001b[0msummary\u001b[0m\u001b[0;34m(\u001b[0m\u001b[0;34m)\u001b[0m\u001b[0;34m\u001b[0m\u001b[0;34m\u001b[0m\u001b[0m\n\u001b[0m",
            "\u001b[0;32m/usr/local/lib/python3.10/dist-packages/keras/src/engine/training.py\u001b[0m in \u001b[0;36msummary\u001b[0;34m(self, line_length, positions, print_fn, expand_nested, show_trainable, layer_range)\u001b[0m\n\u001b[1;32m   3504\u001b[0m         \"\"\"\n\u001b[1;32m   3505\u001b[0m         \u001b[0;32mif\u001b[0m \u001b[0;32mnot\u001b[0m \u001b[0mself\u001b[0m\u001b[0;34m.\u001b[0m\u001b[0mbuilt\u001b[0m\u001b[0;34m:\u001b[0m\u001b[0;34m\u001b[0m\u001b[0;34m\u001b[0m\u001b[0m\n\u001b[0;32m-> 3506\u001b[0;31m             raise ValueError(\n\u001b[0m\u001b[1;32m   3507\u001b[0m                 \u001b[0;34m\"This model has not yet been built. \"\u001b[0m\u001b[0;34m\u001b[0m\u001b[0;34m\u001b[0m\u001b[0m\n\u001b[1;32m   3508\u001b[0m                 \u001b[0;34m\"Build the model first by calling `build()` or by calling \"\u001b[0m\u001b[0;34m\u001b[0m\u001b[0;34m\u001b[0m\u001b[0m\n",
            "\u001b[0;31mValueError\u001b[0m: This model has not yet been built. Build the model first by calling `build()` or by calling the model on a batch of data."
          ]
        }
      ]
    },
    {
      "cell_type": "code",
      "source": [
        "# Let's create a model which builds automatically by defining the input_shape argument in the first layer\n",
        "tf.random.set_seed(42)\n",
        "\n",
        "# Create\n",
        "model = tf.keras.Sequential([\n",
        "    tf.keras.layers.Dense(10, name=\"input_layer1\"),\n",
        "    tf.keras.layers.Dense(10, name=\"input_layer2\"),\n",
        "    tf.keras.layers.Dense(1, name=\"output_layer\")\n",
        "], name=\"model_1\")\n",
        "\n",
        "# Compile\n",
        "model.compile(loss=tf.keras.losses.mae,\n",
        "              optimizer=tf.keras.optimizers.SGD(),\n",
        "              metrics=[\"mae\"])"
      ],
      "metadata": {
        "id": "_PFAEPICsrOQ"
      },
      "execution_count": null,
      "outputs": []
    },
    {
      "cell_type": "markdown",
      "source": [
        "* Total params - total number of parameters in the model.\n",
        "* Trainable parameters -these are the parameters (patterns) the model can update as it trains.\n",
        "* Non-trainable params - these parameters aren't updated during training (this is typical when you bring in already learn patterns or parameters from other models during **transfer learning**).\n",
        "\n"
      ],
      "metadata": {
        "id": "NFWq2l3zukOL"
      }
    },
    {
      "cell_type": "code",
      "source": [
        "model.fit(tf.expand_dims(X, axis=-1), y, epochs=100, verbose=0)"
      ],
      "metadata": {
        "colab": {
          "base_uri": "https://localhost:8080/"
        },
        "id": "ryH0ETZWymaW",
        "outputId": "d019386f-d1bf-42f3-bfed-ab4ba75af894"
      },
      "execution_count": null,
      "outputs": [
        {
          "output_type": "execute_result",
          "data": {
            "text/plain": [
              "<keras.src.callbacks.History at 0x7f2bbd53beb0>"
            ]
          },
          "metadata": {},
          "execution_count": 32
        }
      ]
    },
    {
      "cell_type": "code",
      "source": [
        "# Get a summary of our model\n",
        "model.summary()"
      ],
      "metadata": {
        "colab": {
          "base_uri": "https://localhost:8080/"
        },
        "id": "ND2jU4c5EQHV",
        "outputId": "e0a14a5c-86c5-4ed3-91b9-33553cd29e3e"
      },
      "execution_count": null,
      "outputs": [
        {
          "output_type": "stream",
          "name": "stdout",
          "text": [
            "Model: \"model_1\"\n",
            "_________________________________________________________________\n",
            " Layer (type)                Output Shape              Param #   \n",
            "=================================================================\n",
            " input_layer1 (Dense)        (None, 10)                20        \n",
            "                                                                 \n",
            " input_layer2 (Dense)        (None, 10)                110       \n",
            "                                                                 \n",
            " output_layer (Dense)        (None, 1)                 11        \n",
            "                                                                 \n",
            "=================================================================\n",
            "Total params: 141 (564.00 Byte)\n",
            "Trainable params: 141 (564.00 Byte)\n",
            "Non-trainable params: 0 (0.00 Byte)\n",
            "_________________________________________________________________\n"
          ]
        }
      ]
    },
    {
      "cell_type": "code",
      "source": [
        "from tensorflow.keras.utils import plot_model\n",
        "\n",
        "plot_model(model=model, show_shapes=True)"
      ],
      "metadata": {
        "colab": {
          "base_uri": "https://localhost:8080/",
          "height": 422
        },
        "id": "AUCH60ppETLA",
        "outputId": "d60dc71b-8daf-4f06-bb3d-b635fe9179e6"
      },
      "execution_count": null,
      "outputs": [
        {
          "output_type": "execute_result",
          "data": {
            "image/png": "[encoded data removed]",
            "text/plain": [
              "<IPython.core.display.Image object>"
            ]
          },
          "metadata": {},
          "execution_count": 34
        }
      ]
    },
    {
      "cell_type": "markdown",
      "source": [
        "### Visualize our model's predictions\n",
        "To visualize predictions, it's a good idea to plot them against the ground truth labels.\n",
        "\n",
        "Often you'll see this in the form of `y_test` or `y_true`\n",
        "versus `y_pred` (ground truth versus your model's predictions)."
      ],
      "metadata": {
        "id": "Bx9CckOTFIgZ"
      }
    },
    {
      "cell_type": "code",
      "source": [
        "# Make some predictions\n",
        "y_pred = model.predict(X_test)\n",
        "y_pred"
      ],
      "metadata": {
        "id": "sx4TwVJBn2CY",
        "outputId": "9c6b18f0-0cb1-42d5-a092-a6fd0ca2c3c4",
        "colab": {
          "base_uri": "https://localhost:8080/"
        }
      },
      "execution_count": null,
      "outputs": [
        {
          "output_type": "stream",
          "name": "stderr",
          "text": [
            "WARNING:tensorflow:5 out of the last 5 calls to <function Model.make_predict_function.<locals>.predict_function at 0x7f2bbe771e10> triggered tf.function retracing. Tracing is expensive and the excessive number of tracings could be due to (1) creating @tf.function repeatedly in a loop, (2) passing tensors with different shapes, (3) passing Python objects instead of tensors. For (1), please define your @tf.function outside of the loop. For (2), @tf.function has reduce_retracing=True option that can avoid unnecessary retracing. For (3), please refer to https://www.tensorflow.org/guide/function#controlling_retracing and https://www.tensorflow.org/api_docs/python/tf/function for  more details.\n"
          ]
        },
        {
          "output_type": "stream",
          "name": "stdout",
          "text": [
            "1/1 [==============================] - 0s 57ms/step\n"
          ]
        },
        {
          "output_type": "execute_result",
          "data": {
            "text/plain": [
              "array([[6.3725724],\n",
              "       [6.7341776],\n",
              "       [7.0957828],\n",
              "       [7.4573874],\n",
              "       [7.818992 ],\n",
              "       [8.180597 ],\n",
              "       [8.542203 ],\n",
              "       [8.903808 ],\n",
              "       [9.265413 ],\n",
              "       [9.627018 ]], dtype=float32)"
            ]
          },
          "metadata": {},
          "execution_count": 35
        }
      ]
    },
    {
      "cell_type": "code",
      "source": [
        "y_test"
      ],
      "metadata": {
        "id": "jWDHrOSwoD6n",
        "outputId": "b859071a-ebeb-4161-f91e-03e5bd2849a1",
        "colab": {
          "base_uri": "https://localhost:8080/"
        }
      },
      "execution_count": null,
      "outputs": [
        {
          "output_type": "execute_result",
          "data": {
            "text/plain": [
              "<tf.Tensor: shape=(10,), dtype=float32, numpy=\n",
              "array([ 70.,  74.,  78.,  82.,  86.,  90.,  94.,  98., 102., 106.],\n",
              "      dtype=float32)>"
            ]
          },
          "metadata": {},
          "execution_count": 36
        }
      ]
    },
    {
      "cell_type": "code",
      "source": [
        " # Let's create a plotting function\n",
        "def plot_predictions(training_data=X_train,\n",
        "                      training_labels=y_train,\n",
        "                      test_data=X_test,\n",
        "                      test_labels=y_test,\n",
        "                      predictions=y_pred):\n",
        "   \"\"\"\n",
        "   Plots training data, test data and compares predictions to ground truth labels.\n",
        "   \"\"\"\n",
        "\n",
        "   plt.figure(figsize=(10, 7))\n",
        "   # Plot training data in blue\n",
        "   plt.scatter(training_data, training_labels, c='b', label=\"Training data\")\n",
        "   # Plot testing data in green\n",
        "   plt.scatter(test_data,test_labels, c='g', label=\"Testing data\")\n",
        "   #Plot model's predictions in red\n",
        "   plt.scatter(test_data, predictions, c='r', label=\"Predictions\")\n",
        "   # Show the legend\n",
        "   plt.legend();"
      ],
      "metadata": {
        "id": "R6UaFdxAoLZC"
      },
      "execution_count": null,
      "outputs": []
    },
    {
      "cell_type": "code",
      "source": [
        "# Split the data into train and test sets\n",
        "X_train = X[:40] # first 40 are training samples (80% of the data)\n",
        "y_train = y[:40]\n",
        "\n",
        "X_test = X[40:] # last 10 are testing samples (20% of the data)\n",
        "y_test = y[40:]\n",
        "\n",
        "\n",
        "len(X_train), len(X_test), len(y_train), len(y_test)"
      ],
      "metadata": {
        "outputId": "815ac5f4-62db-4175-c9af-0eba2cd4829f",
        "colab": {
          "base_uri": "https://localhost:8080/"
        },
        "id": "hNtMnnS4ooKi"
      },
      "execution_count": null,
      "outputs": [
        {
          "output_type": "execute_result",
          "data": {
            "text/plain": [
              "(40, 10, 40, 10)"
            ]
          },
          "metadata": {},
          "execution_count": 38
        }
      ]
    },
    {
      "cell_type": "code",
      "source": [
        "# Let's create a model which builds automatically by defining the input_shape argument in the first layer\n",
        "tf.random.set_seed(42)\n",
        "\n",
        "# Create\n",
        "model2 = tf.keras.Sequential([\n",
        "    tf.keras.layers.Dense(17, name=\"input_layer0\"),\n",
        "    tf.keras.layers.Dense(15, name=\"input_layer1\"),\n",
        "    tf.keras.layers.Dense(13, name=\"input_layer2\"),\n",
        "    tf.keras.layers.Dense(1, name=\"output_layer\")\n",
        "], name=\"model_2\")\n",
        "\n",
        "# Compile\n",
        "model2.compile(loss=tf.keras.losses.mae,\n",
        "               optimizer=tf.keras.optimizers.Adam(learning_rate=0.001),\n",
        "              metrics=[\"mae\"])\n",
        "\n",
        "# fit\n",
        "model2.fit(tf.expand_dims(X, axis=-1), y, epochs=190, verbose=1)"
      ],
      "metadata": {
        "colab": {
          "base_uri": "https://localhost:8080/"
        },
        "id": "dFC0EH20mfq4",
        "outputId": "2b7a8c14-da7b-4155-9887-9d8e4010212b"
      },
      "execution_count": null,
      "outputs": [
        {
          "output_type": "stream",
          "name": "stdout",
          "text": [
            "Epoch 1/190\n",
            "2/2 [==============================] - 1s 13ms/step - loss: 56.3138 - mae: 56.3138\n",
            "Epoch 2/190\n",
            "2/2 [==============================] - 0s 9ms/step - loss: 51.3986 - mae: 51.3986\n",
            "Epoch 3/190\n",
            "2/2 [==============================] - 0s 7ms/step - loss: 47.0710 - mae: 47.0710\n",
            "Epoch 4/190\n",
            "2/2 [==============================] - 0s 13ms/step - loss: 42.3266 - mae: 42.3266\n",
            "Epoch 5/190\n",
            "2/2 [==============================] - 0s 8ms/step - loss: 37.5860 - mae: 37.5860\n",
            "Epoch 6/190\n",
            "2/2 [==============================] - 0s 10ms/step - loss: 32.8743 - mae: 32.8743\n",
            "Epoch 7/190\n",
            "2/2 [==============================] - 0s 9ms/step - loss: 27.8659 - mae: 27.8659\n",
            "Epoch 8/190\n",
            "2/2 [==============================] - 0s 8ms/step - loss: 22.9987 - mae: 22.9987\n",
            "Epoch 9/190\n",
            "2/2 [==============================] - 0s 8ms/step - loss: 18.5348 - mae: 18.5348\n",
            "Epoch 10/190\n",
            "2/2 [==============================] - 0s 8ms/step - loss: 13.7299 - mae: 13.7299\n",
            "Epoch 11/190\n",
            "2/2 [==============================] - 0s 9ms/step - loss: 10.1879 - mae: 10.1879\n",
            "Epoch 12/190\n",
            "2/2 [==============================] - 0s 10ms/step - loss: 9.6682 - mae: 9.6682\n",
            "Epoch 13/190\n",
            "2/2 [==============================] - 0s 11ms/step - loss: 9.9544 - mae: 9.9544\n",
            "Epoch 14/190\n",
            "2/2 [==============================] - 0s 9ms/step - loss: 10.3837 - mae: 10.3837\n",
            "Epoch 15/190\n",
            "2/2 [==============================] - 0s 9ms/step - loss: 11.4793 - mae: 11.4793\n",
            "Epoch 16/190\n",
            "2/2 [==============================] - 0s 8ms/step - loss: 11.7614 - mae: 11.7614\n",
            "Epoch 17/190\n",
            "2/2 [==============================] - 0s 8ms/step - loss: 11.1345 - mae: 11.1345\n",
            "Epoch 18/190\n",
            "2/2 [==============================] - 0s 8ms/step - loss: 10.3013 - mae: 10.3013\n",
            "Epoch 19/190\n",
            "2/2 [==============================] - 0s 11ms/step - loss: 9.6953 - mae: 9.6953\n",
            "Epoch 20/190\n",
            "2/2 [==============================] - 0s 8ms/step - loss: 9.5378 - mae: 9.5378\n",
            "Epoch 21/190\n",
            "2/2 [==============================] - 0s 9ms/step - loss: 9.7257 - mae: 9.7257\n",
            "Epoch 22/190\n",
            "2/2 [==============================] - 0s 8ms/step - loss: 9.4625 - mae: 9.4625\n",
            "Epoch 23/190\n",
            "2/2 [==============================] - 0s 8ms/step - loss: 9.4580 - mae: 9.4580\n",
            "Epoch 24/190\n",
            "2/2 [==============================] - 0s 8ms/step - loss: 9.3503 - mae: 9.3503\n",
            "Epoch 25/190\n",
            "2/2 [==============================] - 0s 7ms/step - loss: 9.2450 - mae: 9.2450\n",
            "Epoch 26/190\n",
            "2/2 [==============================] - 0s 7ms/step - loss: 9.2256 - mae: 9.2256\n",
            "Epoch 27/190\n",
            "2/2 [==============================] - 0s 8ms/step - loss: 9.1634 - mae: 9.1634\n",
            "Epoch 28/190\n",
            "2/2 [==============================] - 0s 8ms/step - loss: 9.2072 - mae: 9.2072\n",
            "Epoch 29/190\n",
            "2/2 [==============================] - 0s 9ms/step - loss: 9.1546 - mae: 9.1546\n",
            "Epoch 30/190\n",
            "2/2 [==============================] - 0s 9ms/step - loss: 9.0379 - mae: 9.0379\n",
            "Epoch 31/190\n",
            "2/2 [==============================] - 0s 8ms/step - loss: 9.0749 - mae: 9.0749\n",
            "Epoch 32/190\n",
            "2/2 [==============================] - 0s 9ms/step - loss: 8.9934 - mae: 8.9934\n",
            "Epoch 33/190\n",
            "2/2 [==============================] - 0s 7ms/step - loss: 8.9611 - mae: 8.9611\n",
            "Epoch 34/190\n",
            "2/2 [==============================] - 0s 11ms/step - loss: 8.9289 - mae: 8.9289\n",
            "Epoch 35/190\n",
            "2/2 [==============================] - 0s 7ms/step - loss: 8.8790 - mae: 8.8790\n",
            "Epoch 36/190\n",
            "2/2 [==============================] - 0s 10ms/step - loss: 8.8297 - mae: 8.8297\n",
            "Epoch 37/190\n",
            "2/2 [==============================] - 0s 8ms/step - loss: 8.8310 - mae: 8.8310\n",
            "Epoch 38/190\n",
            "2/2 [==============================] - 0s 8ms/step - loss: 8.8163 - mae: 8.8163\n",
            "Epoch 39/190\n",
            "2/2 [==============================] - 0s 10ms/step - loss: 8.7932 - mae: 8.7932\n",
            "Epoch 40/190\n",
            "2/2 [==============================] - 0s 8ms/step - loss: 8.7025 - mae: 8.7025\n",
            "Epoch 41/190\n",
            "2/2 [==============================] - 0s 10ms/step - loss: 8.6852 - mae: 8.6852\n",
            "Epoch 42/190\n",
            "2/2 [==============================] - 0s 8ms/step - loss: 8.6429 - mae: 8.6429\n",
            "Epoch 43/190\n",
            "2/2 [==============================] - 0s 10ms/step - loss: 8.6081 - mae: 8.6081\n",
            "Epoch 44/190\n",
            "2/2 [==============================] - 0s 9ms/step - loss: 8.5757 - mae: 8.5757\n",
            "Epoch 45/190\n",
            "2/2 [==============================] - 0s 11ms/step - loss: 8.5447 - mae: 8.5447\n",
            "Epoch 46/190\n",
            "2/2 [==============================] - 0s 9ms/step - loss: 8.5026 - mae: 8.5026\n",
            "Epoch 47/190\n",
            "2/2 [==============================] - 0s 9ms/step - loss: 8.4790 - mae: 8.4790\n",
            "Epoch 48/190\n",
            "2/2 [==============================] - 0s 13ms/step - loss: 8.4502 - mae: 8.4502\n",
            "Epoch 49/190\n",
            "2/2 [==============================] - 0s 8ms/step - loss: 8.3885 - mae: 8.3885\n",
            "Epoch 50/190\n",
            "2/2 [==============================] - 0s 9ms/step - loss: 8.4108 - mae: 8.4108\n",
            "Epoch 51/190\n",
            "2/2 [==============================] - 0s 12ms/step - loss: 8.3693 - mae: 8.3693\n",
            "Epoch 52/190\n",
            "2/2 [==============================] - 0s 8ms/step - loss: 8.3383 - mae: 8.3383\n",
            "Epoch 53/190\n",
            "2/2 [==============================] - 0s 10ms/step - loss: 8.3104 - mae: 8.3104\n",
            "Epoch 54/190\n",
            "2/2 [==============================] - 0s 11ms/step - loss: 8.2739 - mae: 8.2739\n",
            "Epoch 55/190\n",
            "2/2 [==============================] - 0s 8ms/step - loss: 8.2524 - mae: 8.2524\n",
            "Epoch 56/190\n",
            "2/2 [==============================] - 0s 7ms/step - loss: 8.2080 - mae: 8.2080\n",
            "Epoch 57/190\n",
            "2/2 [==============================] - 0s 8ms/step - loss: 8.1750 - mae: 8.1750\n",
            "Epoch 58/190\n",
            "2/2 [==============================] - 0s 8ms/step - loss: 8.1129 - mae: 8.1129\n",
            "Epoch 59/190\n",
            "2/2 [==============================] - 0s 13ms/step - loss: 8.0603 - mae: 8.0603\n",
            "Epoch 60/190\n",
            "2/2 [==============================] - 0s 9ms/step - loss: 8.0557 - mae: 8.0557\n",
            "Epoch 61/190\n",
            "2/2 [==============================] - 0s 8ms/step - loss: 8.0631 - mae: 8.0631\n",
            "Epoch 62/190\n",
            "2/2 [==============================] - 0s 9ms/step - loss: 7.9795 - mae: 7.9795\n",
            "Epoch 63/190\n",
            "2/2 [==============================] - 0s 9ms/step - loss: 7.9337 - mae: 7.9337\n",
            "Epoch 64/190\n",
            "2/2 [==============================] - 0s 9ms/step - loss: 7.9224 - mae: 7.9224\n",
            "Epoch 65/190\n",
            "2/2 [==============================] - 0s 8ms/step - loss: 7.9212 - mae: 7.9212\n",
            "Epoch 66/190\n",
            "2/2 [==============================] - 0s 8ms/step - loss: 7.8861 - mae: 7.8861\n",
            "Epoch 67/190\n",
            "2/2 [==============================] - 0s 7ms/step - loss: 7.8577 - mae: 7.8577\n",
            "Epoch 68/190\n",
            "2/2 [==============================] - 0s 7ms/step - loss: 7.8286 - mae: 7.8286\n",
            "Epoch 69/190\n",
            "2/2 [==============================] - 0s 9ms/step - loss: 7.7954 - mae: 7.7954\n",
            "Epoch 70/190\n",
            "2/2 [==============================] - 0s 9ms/step - loss: 7.7913 - mae: 7.7913\n",
            "Epoch 71/190\n",
            "2/2 [==============================] - 0s 9ms/step - loss: 7.7335 - mae: 7.7335\n",
            "Epoch 72/190\n",
            "2/2 [==============================] - 0s 7ms/step - loss: 7.7040 - mae: 7.7040\n",
            "Epoch 73/190\n",
            "2/2 [==============================] - 0s 7ms/step - loss: 7.6573 - mae: 7.6573\n",
            "Epoch 74/190\n",
            "2/2 [==============================] - 0s 7ms/step - loss: 7.6071 - mae: 7.6071\n",
            "Epoch 75/190\n",
            "2/2 [==============================] - 0s 7ms/step - loss: 7.5588 - mae: 7.5588\n",
            "Epoch 76/190\n",
            "2/2 [==============================] - 0s 12ms/step - loss: 7.5170 - mae: 7.5170\n",
            "Epoch 77/190\n",
            "2/2 [==============================] - 0s 9ms/step - loss: 7.4949 - mae: 7.4949\n",
            "Epoch 78/190\n",
            "2/2 [==============================] - 0s 9ms/step - loss: 7.4265 - mae: 7.4265\n",
            "Epoch 79/190\n",
            "2/2 [==============================] - 0s 8ms/step - loss: 7.3906 - mae: 7.3906\n",
            "Epoch 80/190\n",
            "2/2 [==============================] - 0s 8ms/step - loss: 7.3849 - mae: 7.3849\n",
            "Epoch 81/190\n",
            "2/2 [==============================] - 0s 7ms/step - loss: 7.3721 - mae: 7.3721\n",
            "Epoch 82/190\n",
            "2/2 [==============================] - 0s 9ms/step - loss: 7.2943 - mae: 7.2943\n",
            "Epoch 83/190\n",
            "2/2 [==============================] - 0s 7ms/step - loss: 7.2572 - mae: 7.2572\n",
            "Epoch 84/190\n",
            "2/2 [==============================] - 0s 7ms/step - loss: 7.2327 - mae: 7.2327\n",
            "Epoch 85/190\n",
            "2/2 [==============================] - 0s 8ms/step - loss: 7.1854 - mae: 7.1854\n",
            "Epoch 86/190\n",
            "2/2 [==============================] - 0s 8ms/step - loss: 7.1551 - mae: 7.1551\n",
            "Epoch 87/190\n",
            "2/2 [==============================] - 0s 7ms/step - loss: 7.1019 - mae: 7.1019\n",
            "Epoch 88/190\n",
            "2/2 [==============================] - 0s 7ms/step - loss: 7.0833 - mae: 7.0833\n",
            "Epoch 89/190\n",
            "2/2 [==============================] - 0s 9ms/step - loss: 7.0559 - mae: 7.0559\n",
            "Epoch 90/190\n",
            "2/2 [==============================] - 0s 6ms/step - loss: 7.0292 - mae: 7.0292\n",
            "Epoch 91/190\n",
            "2/2 [==============================] - 0s 7ms/step - loss: 7.0003 - mae: 7.0003\n",
            "Epoch 92/190\n",
            "2/2 [==============================] - 0s 9ms/step - loss: 6.9690 - mae: 6.9690\n",
            "Epoch 93/190\n",
            "2/2 [==============================] - 0s 6ms/step - loss: 6.9770 - mae: 6.9770\n",
            "Epoch 94/190\n",
            "2/2 [==============================] - 0s 8ms/step - loss: 6.9028 - mae: 6.9028\n",
            "Epoch 95/190\n",
            "2/2 [==============================] - 0s 7ms/step - loss: 6.8538 - mae: 6.8538\n",
            "Epoch 96/190\n",
            "2/2 [==============================] - 0s 7ms/step - loss: 6.8039 - mae: 6.8039\n",
            "Epoch 97/190\n",
            "2/2 [==============================] - 0s 7ms/step - loss: 6.7838 - mae: 6.7838\n",
            "Epoch 98/190\n",
            "2/2 [==============================] - 0s 7ms/step - loss: 6.7011 - mae: 6.7011\n",
            "Epoch 99/190\n",
            "2/2 [==============================] - 0s 10ms/step - loss: 6.6601 - mae: 6.6601\n",
            "Epoch 100/190\n",
            "2/2 [==============================] - 0s 9ms/step - loss: 6.6307 - mae: 6.6307\n",
            "Epoch 101/190\n",
            "2/2 [==============================] - 0s 12ms/step - loss: 6.5829 - mae: 6.5829\n",
            "Epoch 102/190\n",
            "2/2 [==============================] - 0s 13ms/step - loss: 6.5444 - mae: 6.5444\n",
            "Epoch 103/190\n",
            "2/2 [==============================] - 0s 11ms/step - loss: 6.5056 - mae: 6.5056\n",
            "Epoch 104/190\n",
            "2/2 [==============================] - 0s 10ms/step - loss: 6.4619 - mae: 6.4619\n",
            "Epoch 105/190\n",
            "2/2 [==============================] - 0s 9ms/step - loss: 6.4451 - mae: 6.4451\n",
            "Epoch 106/190\n",
            "2/2 [==============================] - 0s 8ms/step - loss: 6.4151 - mae: 6.4151\n",
            "Epoch 107/190\n",
            "2/2 [==============================] - 0s 9ms/step - loss: 6.3353 - mae: 6.3353\n",
            "Epoch 108/190\n",
            "2/2 [==============================] - 0s 9ms/step - loss: 6.3038 - mae: 6.3038\n",
            "Epoch 109/190\n",
            "2/2 [==============================] - 0s 9ms/step - loss: 6.2508 - mae: 6.2508\n",
            "Epoch 110/190\n",
            "2/2 [==============================] - 0s 9ms/step - loss: 6.2289 - mae: 6.2289\n",
            "Epoch 111/190\n",
            "2/2 [==============================] - 0s 9ms/step - loss: 6.1817 - mae: 6.1817\n",
            "Epoch 112/190\n",
            "2/2 [==============================] - 0s 8ms/step - loss: 6.1312 - mae: 6.1312\n",
            "Epoch 113/190\n",
            "2/2 [==============================] - 0s 8ms/step - loss: 6.1147 - mae: 6.1147\n",
            "Epoch 114/190\n",
            "2/2 [==============================] - 0s 7ms/step - loss: 6.0614 - mae: 6.0614\n",
            "Epoch 115/190\n",
            "2/2 [==============================] - 0s 8ms/step - loss: 6.0023 - mae: 6.0023\n",
            "Epoch 116/190\n",
            "2/2 [==============================] - 0s 7ms/step - loss: 5.9528 - mae: 5.9528\n",
            "Epoch 117/190\n",
            "2/2 [==============================] - 0s 7ms/step - loss: 5.8982 - mae: 5.8982\n",
            "Epoch 118/190\n",
            "2/2 [==============================] - 0s 8ms/step - loss: 5.8520 - mae: 5.8520\n",
            "Epoch 119/190\n",
            "2/2 [==============================] - 0s 8ms/step - loss: 5.8694 - mae: 5.8694\n",
            "Epoch 120/190\n",
            "2/2 [==============================] - 0s 9ms/step - loss: 5.7816 - mae: 5.7816\n",
            "Epoch 121/190\n",
            "2/2 [==============================] - 0s 7ms/step - loss: 5.7368 - mae: 5.7368\n",
            "Epoch 122/190\n",
            "2/2 [==============================] - 0s 10ms/step - loss: 5.6645 - mae: 5.6645\n",
            "Epoch 123/190\n",
            "2/2 [==============================] - 0s 6ms/step - loss: 5.6287 - mae: 5.6287\n",
            "Epoch 124/190\n",
            "2/2 [==============================] - 0s 6ms/step - loss: 5.6767 - mae: 5.6767\n",
            "Epoch 125/190\n",
            "2/2 [==============================] - 0s 7ms/step - loss: 5.5862 - mae: 5.5862\n",
            "Epoch 126/190\n",
            "2/2 [==============================] - 0s 8ms/step - loss: 5.5435 - mae: 5.5435\n",
            "Epoch 127/190\n",
            "2/2 [==============================] - 0s 8ms/step - loss: 5.4987 - mae: 5.4987\n",
            "Epoch 128/190\n",
            "2/2 [==============================] - 0s 11ms/step - loss: 5.4525 - mae: 5.4525\n",
            "Epoch 129/190\n",
            "2/2 [==============================] - 0s 9ms/step - loss: 5.4073 - mae: 5.4073\n",
            "Epoch 130/190\n",
            "2/2 [==============================] - 0s 8ms/step - loss: 5.3544 - mae: 5.3544\n",
            "Epoch 131/190\n",
            "2/2 [==============================] - 0s 8ms/step - loss: 5.2961 - mae: 5.2961\n",
            "Epoch 132/190\n",
            "2/2 [==============================] - 0s 10ms/step - loss: 5.2605 - mae: 5.2605\n",
            "Epoch 133/190\n",
            "2/2 [==============================] - 0s 12ms/step - loss: 5.1918 - mae: 5.1918\n",
            "Epoch 134/190\n",
            "2/2 [==============================] - 0s 10ms/step - loss: 5.1125 - mae: 5.1125\n",
            "Epoch 135/190\n",
            "2/2 [==============================] - 0s 7ms/step - loss: 5.0554 - mae: 5.0554\n",
            "Epoch 136/190\n",
            "2/2 [==============================] - 0s 10ms/step - loss: 4.9970 - mae: 4.9970\n",
            "Epoch 137/190\n",
            "2/2 [==============================] - 0s 7ms/step - loss: 4.9416 - mae: 4.9416\n",
            "Epoch 138/190\n",
            "2/2 [==============================] - 0s 7ms/step - loss: 4.9079 - mae: 4.9079\n",
            "Epoch 139/190\n",
            "2/2 [==============================] - 0s 8ms/step - loss: 4.7997 - mae: 4.7997\n",
            "Epoch 140/190\n",
            "2/2 [==============================] - 0s 7ms/step - loss: 4.7249 - mae: 4.7249\n",
            "Epoch 141/190\n",
            "2/2 [==============================] - 0s 7ms/step - loss: 4.6496 - mae: 4.6496\n",
            "Epoch 142/190\n",
            "2/2 [==============================] - 0s 7ms/step - loss: 4.5591 - mae: 4.5591\n",
            "Epoch 143/190\n",
            "2/2 [==============================] - 0s 7ms/step - loss: 4.5698 - mae: 4.5698\n",
            "Epoch 144/190\n",
            "2/2 [==============================] - 0s 7ms/step - loss: 4.4274 - mae: 4.4274\n",
            "Epoch 145/190\n",
            "2/2 [==============================] - 0s 7ms/step - loss: 4.3570 - mae: 4.3570\n",
            "Epoch 146/190\n",
            "2/2 [==============================] - 0s 7ms/step - loss: 4.4081 - mae: 4.4081\n",
            "Epoch 147/190\n",
            "2/2 [==============================] - 0s 8ms/step - loss: 4.3189 - mae: 4.3189\n",
            "Epoch 148/190\n",
            "2/2 [==============================] - 0s 7ms/step - loss: 4.2599 - mae: 4.2599\n",
            "Epoch 149/190\n",
            "2/2 [==============================] - 0s 7ms/step - loss: 4.1951 - mae: 4.1951\n",
            "Epoch 150/190\n",
            "2/2 [==============================] - 0s 7ms/step - loss: 4.1250 - mae: 4.1250\n",
            "Epoch 151/190\n",
            "2/2 [==============================] - 0s 8ms/step - loss: 4.0587 - mae: 4.0587\n",
            "Epoch 152/190\n",
            "2/2 [==============================] - 0s 7ms/step - loss: 3.9850 - mae: 3.9850\n",
            "Epoch 153/190\n",
            "2/2 [==============================] - 0s 7ms/step - loss: 3.9268 - mae: 3.9268\n",
            "Epoch 154/190\n",
            "2/2 [==============================] - 0s 8ms/step - loss: 3.8175 - mae: 3.8175\n",
            "Epoch 155/190\n",
            "2/2 [==============================] - 0s 7ms/step - loss: 3.7479 - mae: 3.7479\n",
            "Epoch 156/190\n",
            "2/2 [==============================] - 0s 8ms/step - loss: 3.6592 - mae: 3.6592\n",
            "Epoch 157/190\n",
            "2/2 [==============================] - 0s 7ms/step - loss: 3.5649 - mae: 3.5649\n",
            "Epoch 158/190\n",
            "2/2 [==============================] - 0s 7ms/step - loss: 3.4843 - mae: 3.4843\n",
            "Epoch 159/190\n",
            "2/2 [==============================] - 0s 7ms/step - loss: 3.3923 - mae: 3.3923\n",
            "Epoch 160/190\n",
            "2/2 [==============================] - 0s 7ms/step - loss: 3.3021 - mae: 3.3021\n",
            "Epoch 161/190\n",
            "2/2 [==============================] - 0s 8ms/step - loss: 3.1949 - mae: 3.1949\n",
            "Epoch 162/190\n",
            "2/2 [==============================] - 0s 8ms/step - loss: 3.2164 - mae: 3.2164\n",
            "Epoch 163/190\n",
            "2/2 [==============================] - 0s 8ms/step - loss: 3.0877 - mae: 3.0877\n",
            "Epoch 164/190\n",
            "2/2 [==============================] - 0s 8ms/step - loss: 2.9934 - mae: 2.9934\n",
            "Epoch 165/190\n",
            "2/2 [==============================] - 0s 7ms/step - loss: 2.9435 - mae: 2.9435\n",
            "Epoch 166/190\n",
            "2/2 [==============================] - 0s 8ms/step - loss: 2.9051 - mae: 2.9051\n",
            "Epoch 167/190\n",
            "2/2 [==============================] - 0s 7ms/step - loss: 2.7474 - mae: 2.7474\n",
            "Epoch 168/190\n",
            "2/2 [==============================] - 0s 12ms/step - loss: 2.6472 - mae: 2.6472\n",
            "Epoch 169/190\n",
            "2/2 [==============================] - 0s 7ms/step - loss: 2.5593 - mae: 2.5593\n",
            "Epoch 170/190\n",
            "2/2 [==============================] - 0s 7ms/step - loss: 2.4303 - mae: 2.4303\n",
            "Epoch 171/190\n",
            "2/2 [==============================] - 0s 9ms/step - loss: 2.3592 - mae: 2.3592\n",
            "Epoch 172/190\n",
            "2/2 [==============================] - 0s 8ms/step - loss: 2.2229 - mae: 2.2229\n",
            "Epoch 173/190\n",
            "2/2 [==============================] - 0s 8ms/step - loss: 2.1575 - mae: 2.1575\n",
            "Epoch 174/190\n",
            "2/2 [==============================] - 0s 7ms/step - loss: 2.0805 - mae: 2.0805\n",
            "Epoch 175/190\n",
            "2/2 [==============================] - 0s 7ms/step - loss: 1.9867 - mae: 1.9867\n",
            "Epoch 176/190\n",
            "2/2 [==============================] - 0s 7ms/step - loss: 1.8619 - mae: 1.8619\n",
            "Epoch 177/190\n",
            "2/2 [==============================] - 0s 8ms/step - loss: 1.7460 - mae: 1.7460\n",
            "Epoch 178/190\n",
            "2/2 [==============================] - 0s 7ms/step - loss: 1.6530 - mae: 1.6530\n",
            "Epoch 179/190\n",
            "2/2 [==============================] - 0s 7ms/step - loss: 1.5430 - mae: 1.5430\n",
            "Epoch 180/190\n",
            "2/2 [==============================] - 0s 7ms/step - loss: 1.4986 - mae: 1.4986\n",
            "Epoch 181/190\n",
            "2/2 [==============================] - 0s 7ms/step - loss: 1.2697 - mae: 1.2697\n",
            "Epoch 182/190\n",
            "2/2 [==============================] - 0s 7ms/step - loss: 1.4364 - mae: 1.4364\n",
            "Epoch 183/190\n",
            "2/2 [==============================] - 0s 7ms/step - loss: 1.3148 - mae: 1.3148\n",
            "Epoch 184/190\n",
            "2/2 [==============================] - 0s 7ms/step - loss: 1.0123 - mae: 1.0123\n",
            "Epoch 185/190\n",
            "2/2 [==============================] - 0s 7ms/step - loss: 1.1761 - mae: 1.1761\n",
            "Epoch 186/190\n",
            "2/2 [==============================] - 0s 7ms/step - loss: 1.1917 - mae: 1.1917\n",
            "Epoch 187/190\n",
            "2/2 [==============================] - 0s 8ms/step - loss: 0.8521 - mae: 0.8521\n",
            "Epoch 188/190\n",
            "2/2 [==============================] - 0s 7ms/step - loss: 0.9169 - mae: 0.9169\n",
            "Epoch 189/190\n",
            "2/2 [==============================] - 0s 7ms/step - loss: 0.8813 - mae: 0.8813\n",
            "Epoch 190/190\n",
            "2/2 [==============================] - 0s 7ms/step - loss: 0.8351 - mae: 0.8351\n"
          ]
        },
        {
          "output_type": "execute_result",
          "data": {
            "text/plain": [
              "<keras.src.callbacks.History at 0x7f2bbe7ace80>"
            ]
          },
          "metadata": {},
          "execution_count": 39
        }
      ]
    },
    {
      "cell_type": "code",
      "source": [
        "# Make some predictions\n",
        "y_pred = model2.predict(X_test)\n",
        "y_pred"
      ],
      "metadata": {
        "colab": {
          "base_uri": "https://localhost:8080/"
        },
        "id": "4O2CAksAoJQv",
        "outputId": "f846f3b3-e62b-40ea-d221-fbcfcefddbfb"
      },
      "execution_count": null,
      "outputs": [
        {
          "output_type": "stream",
          "name": "stderr",
          "text": [
            "WARNING:tensorflow:6 out of the last 6 calls to <function Model.make_predict_function.<locals>.predict_function at 0x7f2bbd43d3f0> triggered tf.function retracing. Tracing is expensive and the excessive number of tracings could be due to (1) creating @tf.function repeatedly in a loop, (2) passing tensors with different shapes, (3) passing Python objects instead of tensors. For (1), please define your @tf.function outside of the loop. For (2), @tf.function has reduce_retracing=True option that can avoid unnecessary retracing. For (3), please refer to https://www.tensorflow.org/guide/function#controlling_retracing and https://www.tensorflow.org/api_docs/python/tf/function for  more details.\n"
          ]
        },
        {
          "output_type": "stream",
          "name": "stdout",
          "text": [
            "1/1 [==============================] - 0s 63ms/step\n"
          ]
        },
        {
          "output_type": "execute_result",
          "data": {
            "text/plain": [
              "array([[ 69.896545],\n",
              "       [ 73.9184  ],\n",
              "       [ 77.940254],\n",
              "       [ 81.962105],\n",
              "       [ 85.983955],\n",
              "       [ 90.00581 ],\n",
              "       [ 94.02767 ],\n",
              "       [ 98.049515],\n",
              "       [102.07137 ],\n",
              "       [106.09323 ]], dtype=float32)"
            ]
          },
          "metadata": {},
          "execution_count": 40
        }
      ]
    },
    {
      "cell_type": "code",
      "source": [
        "plot_predictions(training_data=X_train,\n",
        "                 training_labels=y_train,\n",
        "                 test_data=X_test,\n",
        "                 test_labels=y_test,\n",
        "                 predictions=y_pred)"
      ],
      "metadata": {
        "id": "Eoxp3F7EIF0i",
        "colab": {
          "base_uri": "https://localhost:8080/",
          "height": 599
        },
        "outputId": "ecacb382-ad04-468b-e732-d8b7742c46c0"
      },
      "execution_count": null,
      "outputs": [
        {
          "output_type": "display_data",
          "data": {
            "text/plain": [
              "<Figure size 1000x700 with 1 Axes>"
            ],
            "image/png": "[encoded data removed]"
          },
          "metadata": {}
        }
      ]
    },
    {
      "cell_type": "markdown",
      "source": [
        "### Evaluating our model's predictions with regression evaluation metrics\n",
        "\n",
        "Depending on the problem you're working on, there will be different evaluation metrics to evaluate your model's performance.\n",
        "\n",
        "Since we're working on a regression, two of the main metrics:\n",
        "* MAE - mean absolute error, \"on average, how wrong is each of my model's predictions\"\n",
        "* MSE - mean square error, \"square the average errors.\""
      ],
      "metadata": {
        "id": "T83SLa6zlI8v"
      }
    },
    {
      "cell_type": "code",
      "source": [
        "# Evaluate the model on the test\n",
        "model2.evaluate(X_test, y_test)"
      ],
      "metadata": {
        "colab": {
          "base_uri": "https://localhost:8080/"
        },
        "id": "RLhShIma4LKm",
        "outputId": "6bd85d94-976a-4614-f186-1da6bf4aaf86"
      },
      "execution_count": null,
      "outputs": [
        {
          "output_type": "stream",
          "name": "stdout",
          "text": [
            "1/1 [==============================] - 0s 151ms/step - loss: 0.0546 - mae: 0.0546\n"
          ]
        },
        {
          "output_type": "execute_result",
          "data": {
            "text/plain": [
              "[0.05463409423828125, 0.05463409423828125]"
            ]
          },
          "metadata": {},
          "execution_count": 42
        }
      ]
    },
    {
      "cell_type": "code",
      "source": [
        "# Calculate the mean absolute error\n",
        "mae = tf.metrics.mean_absolute_error(y_true=y_test,\n",
        "                              y_pred=tf.constant(y_pred))\n",
        "mae"
      ],
      "metadata": {
        "colab": {
          "base_uri": "https://localhost:8080/"
        },
        "id": "JCp8lSyE6XXg",
        "outputId": "022fdf66-f9f9-4254-eab2-0ce757c5372c"
      },
      "execution_count": null,
      "outputs": [
        {
          "output_type": "execute_result",
          "data": {
            "text/plain": [
              "<tf.Tensor: shape=(10,), dtype=float32, numpy=\n",
              "array([18.103455 , 14.865277 , 12.435847 , 10.815158 , 10.003209 ,\n",
              "       10.001163 , 10.811069 , 12.4297085, 14.857099 , 18.093231 ],\n",
              "      dtype=float32)>"
            ]
          },
          "metadata": {},
          "execution_count": 43
        }
      ]
    },
    {
      "cell_type": "code",
      "source": [
        "tf.constant(y_pred)"
      ],
      "metadata": {
        "colab": {
          "base_uri": "https://localhost:8080/"
        },
        "id": "IATXuN9e6H3U",
        "outputId": "bf34d9b3-644f-4538-ae71-8cdeda5b9bec"
      },
      "execution_count": null,
      "outputs": [
        {
          "output_type": "execute_result",
          "data": {
            "text/plain": [
              "<tf.Tensor: shape=(10, 1), dtype=float32, numpy=\n",
              "array([[ 69.896545],\n",
              "       [ 73.9184  ],\n",
              "       [ 77.940254],\n",
              "       [ 81.962105],\n",
              "       [ 85.983955],\n",
              "       [ 90.00581 ],\n",
              "       [ 94.02767 ],\n",
              "       [ 98.049515],\n",
              "       [102.07137 ],\n",
              "       [106.09323 ]], dtype=float32)>"
            ]
          },
          "metadata": {},
          "execution_count": 44
        }
      ]
    },
    {
      "cell_type": "code",
      "source": [
        "y_test"
      ],
      "metadata": {
        "colab": {
          "base_uri": "https://localhost:8080/"
        },
        "id": "9oW140df6VmE",
        "outputId": "5e4f916c-f0c3-4cd4-c090-0d149c286eb2"
      },
      "execution_count": null,
      "outputs": [
        {
          "output_type": "execute_result",
          "data": {
            "text/plain": [
              "<tf.Tensor: shape=(10,), dtype=float32, numpy=\n",
              "array([ 70.,  74.,  78.,  82.,  86.,  90.,  94.,  98., 102., 106.],\n",
              "      dtype=float32)>"
            ]
          },
          "metadata": {},
          "execution_count": 45
        }
      ]
    },
    {
      "cell_type": "code",
      "source": [
        "# Let's get rid of that one dimension (10, 1) --> (10,)\n",
        "tf.squeeze(y_pred)"
      ],
      "metadata": {
        "colab": {
          "base_uri": "https://localhost:8080/"
        },
        "id": "q7LzeOENBj4S",
        "outputId": "cbb881eb-0dde-4254-bcb3-c35fe1d4258a"
      },
      "execution_count": null,
      "outputs": [
        {
          "output_type": "execute_result",
          "data": {
            "text/plain": [
              "<tf.Tensor: shape=(10,), dtype=float32, numpy=\n",
              "array([ 69.896545,  73.9184  ,  77.940254,  81.962105,  85.983955,\n",
              "        90.00581 ,  94.02767 ,  98.049515, 102.07137 , 106.09323 ],\n",
              "      dtype=float32)>"
            ]
          },
          "metadata": {},
          "execution_count": 46
        }
      ]
    },
    {
      "cell_type": "code",
      "source": [
        "# Calculate the mean absolute error\n",
        "mae = tf.metrics.mean_absolute_error(y_true=y_test,\n",
        "                                     y_pred=tf.squeeze(y_pred))\n",
        "mae"
      ],
      "metadata": {
        "colab": {
          "base_uri": "https://localhost:8080/"
        },
        "id": "l15GOD7FBwzR",
        "outputId": "00315e69-cc15-475b-b376-1f7e5dd8902e"
      },
      "execution_count": null,
      "outputs": [
        {
          "output_type": "execute_result",
          "data": {
            "text/plain": [
              "<tf.Tensor: shape=(), dtype=float32, numpy=0.054634094>"
            ]
          },
          "metadata": {},
          "execution_count": 47
        }
      ]
    },
    {
      "cell_type": "code",
      "source": [
        "# Calculate the mean square error\n",
        "mse = tf.metrics.mean_squared_error(y_true=y_test,\n",
        "                                    y_pred=tf.squeeze(y_pred))\n",
        "mse"
      ],
      "metadata": {
        "colab": {
          "base_uri": "https://localhost:8080/"
        },
        "id": "oESgHXUHCZv6",
        "outputId": "0d629054-b536-4e48-95fe-67bbbb12b1fd"
      },
      "execution_count": null,
      "outputs": [
        {
          "output_type": "execute_result",
          "data": {
            "text/plain": [
              "<tf.Tensor: shape=(), dtype=float32, numpy=0.0039661257>"
            ]
          },
          "metadata": {},
          "execution_count": 48
        }
      ]
    },
    {
      "cell_type": "code",
      "source": [
        "# Make some functions to reuse MAE and MSE\n",
        "def mae(y_true, y_pred):\n",
        "  return tf.metrics.mean_absolute_error(y_true=y_true,\n",
        "                                        y_pred=tf.squeeze(y_pred))\n",
        "\n",
        "def mse(y_true, y_pred):\n",
        "  return tf.metrics.mean_squared_error(y_true=y_true,\n",
        "                                       y_pred=tf.squeeze(y_pred))"
      ],
      "metadata": {
        "id": "-TluVL70Eu8q"
      },
      "execution_count": null,
      "outputs": []
    },
    {
      "cell_type": "markdown",
      "source": [
        "## Running experiments to improve our model\n",
        "\n",
        "```\n",
        "Build a model -> fit it -> evaluate it -> tweak it -> fit it -> evaluate it -> tweak it -> fit it -> evaluate it ...\n",
        "```\n",
        "\n",
        "1. Get more data - get more examples for your model to train on (more opportunities to learn patterns or relationships between features and labels).\n",
        "2. Make your model larger (using a more complex model) - this might come in the form of more layers or more hidden units in each layer.\n",
        "3. Train for longer - give your model more of a chance to find patterns in the data.\n",
        "\n",
        "Let's do 3 modelling experiments:\n",
        "\n",
        "1. `model_1` - same as the original model, 1 layer, trained for 100 epochs.\n",
        "2. `model_2` - 2 layers, trained for 100 epochs\n",
        "3. `model_3` - 2 layers, trained for 500 epochs\n",
        "\n",
        "**Build `model_1`**"
      ],
      "metadata": {
        "id": "beMq45-gLgix"
      }
    },
    {
      "cell_type": "code",
      "source": [
        "# Set random seed\n",
        "tf.random.set_seed(42)\n",
        "\n",
        "# 1. Create the model\n",
        "model_1 = tf.keras.Sequential([\n",
        "    tf.keras.layers.Dense(1)\n",
        "])\n",
        "\n",
        "# 2. Compile the model\n",
        "model_1.compile(loss=tf.keras.losses.mae,\n",
        "                optimizer=tf.keras.optimizers.SGD(),\n",
        "                metrics=[\"mae\"])\n",
        "\n",
        "# 3. Fit the model\n",
        "model_1.fit(tf.expand_dims(X_train, axis=-1), y_train, epochs=100)"
      ],
      "metadata": {
        "colab": {
          "base_uri": "https://localhost:8080/"
        },
        "id": "VHkyljldPQbn",
        "outputId": "746a2361-d903-461c-ce71-f3040c6caffb"
      },
      "execution_count": null,
      "outputs": [
        {
          "output_type": "stream",
          "name": "stdout",
          "text": [
            "Epoch 1/100\n",
            "2/2 [==============================] - 0s 10ms/step - loss: 31.4745 - mae: 31.4745\n",
            "Epoch 2/100\n",
            "2/2 [==============================] - 0s 6ms/step - loss: 8.8385 - mae: 8.8385\n",
            "Epoch 3/100\n",
            "2/2 [==============================] - 0s 6ms/step - loss: 9.7020 - mae: 9.7020\n",
            "Epoch 4/100\n",
            "2/2 [==============================] - 0s 11ms/step - loss: 11.8468 - mae: 11.8468\n",
            "Epoch 5/100\n",
            "2/2 [==============================] - 0s 11ms/step - loss: 10.9136 - mae: 10.9136\n",
            "Epoch 6/100\n",
            "2/2 [==============================] - 0s 10ms/step - loss: 10.0858 - mae: 10.0858\n",
            "Epoch 7/100\n",
            "2/2 [==============================] - 0s 7ms/step - loss: 9.1176 - mae: 9.1176\n",
            "Epoch 8/100\n",
            "2/2 [==============================] - 0s 5ms/step - loss: 9.0967 - mae: 9.0967\n",
            "Epoch 9/100\n",
            "2/2 [==============================] - 0s 5ms/step - loss: 15.0915 - mae: 15.0915\n",
            "Epoch 10/100\n",
            "2/2 [==============================] - 0s 9ms/step - loss: 7.5680 - mae: 7.5680\n",
            "Epoch 11/100\n",
            "2/2 [==============================] - 0s 6ms/step - loss: 11.4249 - mae: 11.4249\n",
            "Epoch 12/100\n",
            "2/2 [==============================] - 0s 6ms/step - loss: 16.8770 - mae: 16.8770\n",
            "Epoch 13/100\n",
            "2/2 [==============================] - 0s 7ms/step - loss: 11.9959 - mae: 11.9959\n",
            "Epoch 14/100\n",
            "2/2 [==============================] - 0s 6ms/step - loss: 13.9451 - mae: 13.9451\n",
            "Epoch 15/100\n",
            "2/2 [==============================] - 0s 6ms/step - loss: 11.3360 - mae: 11.3360\n",
            "Epoch 16/100\n",
            "2/2 [==============================] - 0s 6ms/step - loss: 8.5557 - mae: 8.5557\n",
            "Epoch 17/100\n",
            "2/2 [==============================] - 0s 5ms/step - loss: 13.6770 - mae: 13.6770\n",
            "Epoch 18/100\n",
            "2/2 [==============================] - 0s 6ms/step - loss: 11.5168 - mae: 11.5168\n",
            "Epoch 19/100\n",
            "2/2 [==============================] - 0s 6ms/step - loss: 17.8417 - mae: 17.8417\n",
            "Epoch 20/100\n",
            "2/2 [==============================] - 0s 7ms/step - loss: 14.9769 - mae: 14.9769\n",
            "Epoch 21/100\n",
            "2/2 [==============================] - 0s 6ms/step - loss: 10.8531 - mae: 10.8531\n",
            "Epoch 22/100\n",
            "2/2 [==============================] - 0s 6ms/step - loss: 8.6052 - mae: 8.6052\n",
            "Epoch 23/100\n",
            "2/2 [==============================] - 0s 6ms/step - loss: 9.6942 - mae: 9.6942\n",
            "Epoch 24/100\n",
            "2/2 [==============================] - 0s 7ms/step - loss: 8.5795 - mae: 8.5795\n",
            "Epoch 25/100\n",
            "2/2 [==============================] - 0s 6ms/step - loss: 11.6039 - mae: 11.6039\n",
            "Epoch 26/100\n",
            "2/2 [==============================] - 0s 6ms/step - loss: 15.1138 - mae: 15.1138\n",
            "Epoch 27/100\n",
            "2/2 [==============================] - 0s 6ms/step - loss: 11.8629 - mae: 11.8629\n",
            "Epoch 28/100\n",
            "2/2 [==============================] - 0s 6ms/step - loss: 13.9025 - mae: 13.9025\n",
            "Epoch 29/100\n",
            "2/2 [==============================] - 0s 7ms/step - loss: 9.5981 - mae: 9.5981\n",
            "Epoch 30/100\n",
            "2/2 [==============================] - 0s 6ms/step - loss: 17.1532 - mae: 17.1532\n",
            "Epoch 31/100\n",
            "2/2 [==============================] - 0s 6ms/step - loss: 22.9008 - mae: 22.9008\n",
            "Epoch 32/100\n",
            "2/2 [==============================] - 0s 6ms/step - loss: 7.9091 - mae: 7.9091\n",
            "Epoch 33/100\n",
            "2/2 [==============================] - 0s 5ms/step - loss: 14.1115 - mae: 14.1115\n",
            "Epoch 34/100\n",
            "2/2 [==============================] - 0s 7ms/step - loss: 12.3519 - mae: 12.3519\n",
            "Epoch 35/100\n",
            "2/2 [==============================] - 0s 8ms/step - loss: 8.2613 - mae: 8.2613\n",
            "Epoch 36/100\n",
            "2/2 [==============================] - 0s 6ms/step - loss: 10.4859 - mae: 10.4859\n",
            "Epoch 37/100\n",
            "2/2 [==============================] - 0s 5ms/step - loss: 10.1291 - mae: 10.1291\n",
            "Epoch 38/100\n",
            "2/2 [==============================] - 0s 5ms/step - loss: 11.3293 - mae: 11.3293\n",
            "Epoch 39/100\n",
            "2/2 [==============================] - 0s 6ms/step - loss: 14.7337 - mae: 14.7337\n",
            "Epoch 40/100\n",
            "2/2 [==============================] - 0s 6ms/step - loss: 12.8641 - mae: 12.8641\n",
            "Epoch 41/100\n",
            "2/2 [==============================] - 0s 6ms/step - loss: 9.2516 - mae: 9.2516\n",
            "Epoch 42/100\n",
            "2/2 [==============================] - 0s 6ms/step - loss: 11.0077 - mae: 11.0077\n",
            "Epoch 43/100\n",
            "2/2 [==============================] - 0s 6ms/step - loss: 8.3291 - mae: 8.3291\n",
            "Epoch 44/100\n",
            "2/2 [==============================] - 0s 6ms/step - loss: 13.0623 - mae: 13.0623\n",
            "Epoch 45/100\n",
            "2/2 [==============================] - 0s 6ms/step - loss: 13.6525 - mae: 13.6525\n",
            "Epoch 46/100\n",
            "2/2 [==============================] - 0s 6ms/step - loss: 8.2687 - mae: 8.2687\n",
            "Epoch 47/100\n",
            "2/2 [==============================] - 0s 6ms/step - loss: 8.7256 - mae: 8.7256\n",
            "Epoch 48/100\n",
            "2/2 [==============================] - 0s 6ms/step - loss: 10.0284 - mae: 10.0284\n",
            "Epoch 49/100\n",
            "2/2 [==============================] - 0s 6ms/step - loss: 8.5109 - mae: 8.5109\n",
            "Epoch 50/100\n",
            "2/2 [==============================] - 0s 6ms/step - loss: 9.0182 - mae: 9.0182\n",
            "Epoch 51/100\n",
            "2/2 [==============================] - 0s 6ms/step - loss: 9.3702 - mae: 9.3702\n",
            "Epoch 52/100\n",
            "2/2 [==============================] - 0s 6ms/step - loss: 14.0278 - mae: 14.0278\n",
            "Epoch 53/100\n",
            "2/2 [==============================] - 0s 6ms/step - loss: 15.4114 - mae: 15.4114\n",
            "Epoch 54/100\n",
            "2/2 [==============================] - 0s 6ms/step - loss: 10.9102 - mae: 10.9102\n",
            "Epoch 55/100\n",
            "2/2 [==============================] - 0s 6ms/step - loss: 15.4450 - mae: 15.4450\n",
            "Epoch 56/100\n",
            "2/2 [==============================] - 0s 6ms/step - loss: 9.1339 - mae: 9.1339\n",
            "Epoch 57/100\n",
            "2/2 [==============================] - 0s 6ms/step - loss: 9.6807 - mae: 9.6807\n",
            "Epoch 58/100\n",
            "2/2 [==============================] - 0s 6ms/step - loss: 8.9898 - mae: 8.9898\n",
            "Epoch 59/100\n",
            "2/2 [==============================] - 0s 6ms/step - loss: 10.2179 - mae: 10.2179\n",
            "Epoch 60/100\n",
            "2/2 [==============================] - 0s 6ms/step - loss: 8.1702 - mae: 8.1702\n",
            "Epoch 61/100\n",
            "2/2 [==============================] - 0s 7ms/step - loss: 10.0476 - mae: 10.0476\n",
            "Epoch 62/100\n",
            "2/2 [==============================] - 0s 7ms/step - loss: 7.0275 - mae: 7.0275\n",
            "Epoch 63/100\n",
            "2/2 [==============================] - 0s 6ms/step - loss: 12.6863 - mae: 12.6863\n",
            "Epoch 64/100\n",
            "2/2 [==============================] - 0s 6ms/step - loss: 12.6336 - mae: 12.6336\n",
            "Epoch 65/100\n",
            "2/2 [==============================] - 0s 6ms/step - loss: 9.4467 - mae: 9.4467\n",
            "Epoch 66/100\n",
            "2/2 [==============================] - 0s 7ms/step - loss: 11.5234 - mae: 11.5234\n",
            "Epoch 67/100\n",
            "2/2 [==============================] - 0s 6ms/step - loss: 8.0238 - mae: 8.0238\n",
            "Epoch 68/100\n",
            "2/2 [==============================] - 0s 7ms/step - loss: 8.5549 - mae: 8.5549\n",
            "Epoch 69/100\n",
            "2/2 [==============================] - 0s 7ms/step - loss: 12.2361 - mae: 12.2361\n",
            "Epoch 70/100\n",
            "2/2 [==============================] - 0s 7ms/step - loss: 8.9419 - mae: 8.9419\n",
            "Epoch 71/100\n",
            "2/2 [==============================] - 0s 10ms/step - loss: 9.9164 - mae: 9.9164\n",
            "Epoch 72/100\n",
            "2/2 [==============================] - 0s 7ms/step - loss: 9.9573 - mae: 9.9573\n",
            "Epoch 73/100\n",
            "2/2 [==============================] - 0s 7ms/step - loss: 12.4184 - mae: 12.4184\n",
            "Epoch 74/100\n",
            "2/2 [==============================] - 0s 7ms/step - loss: 10.5823 - mae: 10.5823\n",
            "Epoch 75/100\n",
            "2/2 [==============================] - 0s 6ms/step - loss: 9.6155 - mae: 9.6155\n",
            "Epoch 76/100\n",
            "2/2 [==============================] - 0s 7ms/step - loss: 11.0781 - mae: 11.0781\n",
            "Epoch 77/100\n",
            "2/2 [==============================] - 0s 7ms/step - loss: 8.2651 - mae: 8.2651\n",
            "Epoch 78/100\n",
            "2/2 [==============================] - 0s 9ms/step - loss: 8.9488 - mae: 8.9488\n",
            "Epoch 79/100\n",
            "2/2 [==============================] - 0s 9ms/step - loss: 19.8058 - mae: 19.8058\n",
            "Epoch 80/100\n",
            "2/2 [==============================] - 0s 6ms/step - loss: 17.7965 - mae: 17.7965\n",
            "Epoch 81/100\n",
            "2/2 [==============================] - 0s 7ms/step - loss: 7.0790 - mae: 7.0790\n",
            "Epoch 82/100\n",
            "2/2 [==============================] - 0s 6ms/step - loss: 10.3916 - mae: 10.3916\n",
            "Epoch 83/100\n",
            "2/2 [==============================] - 0s 9ms/step - loss: 9.8129 - mae: 9.8129\n",
            "Epoch 84/100\n",
            "2/2 [==============================] - 0s 7ms/step - loss: 7.9353 - mae: 7.9353\n",
            "Epoch 85/100\n",
            "2/2 [==============================] - 0s 8ms/step - loss: 9.4479 - mae: 9.4479\n",
            "Epoch 86/100\n",
            "2/2 [==============================] - 0s 6ms/step - loss: 9.4917 - mae: 9.4917\n",
            "Epoch 87/100\n",
            "2/2 [==============================] - 0s 8ms/step - loss: 11.4412 - mae: 11.4412\n",
            "Epoch 88/100\n",
            "2/2 [==============================] - 0s 9ms/step - loss: 9.9384 - mae: 9.9384\n",
            "Epoch 89/100\n",
            "2/2 [==============================] - 0s 7ms/step - loss: 7.2452 - mae: 7.2452\n",
            "Epoch 90/100\n",
            "2/2 [==============================] - 0s 7ms/step - loss: 12.7010 - mae: 12.7010\n",
            "Epoch 91/100\n",
            "2/2 [==============================] - 0s 7ms/step - loss: 7.3082 - mae: 7.3082\n",
            "Epoch 92/100\n",
            "2/2 [==============================] - 0s 8ms/step - loss: 7.6722 - mae: 7.6722\n",
            "Epoch 93/100\n",
            "2/2 [==============================] - 0s 6ms/step - loss: 7.1097 - mae: 7.1097\n",
            "Epoch 94/100\n",
            "2/2 [==============================] - 0s 7ms/step - loss: 12.5474 - mae: 12.5474\n",
            "Epoch 95/100\n",
            "2/2 [==============================] - 0s 8ms/step - loss: 9.9217 - mae: 9.9217\n",
            "Epoch 96/100\n",
            "2/2 [==============================] - 0s 7ms/step - loss: 9.1281 - mae: 9.1281\n",
            "Epoch 97/100\n",
            "2/2 [==============================] - 0s 8ms/step - loss: 12.0685 - mae: 12.0685\n",
            "Epoch 98/100\n",
            "2/2 [==============================] - 0s 7ms/step - loss: 9.0684 - mae: 9.0684\n",
            "Epoch 99/100\n",
            "2/2 [==============================] - 0s 6ms/step - loss: 8.4878 - mae: 8.4878\n",
            "Epoch 100/100\n",
            "2/2 [==============================] - 0s 6ms/step - loss: 14.4445 - mae: 14.4445\n"
          ]
        },
        {
          "output_type": "execute_result",
          "data": {
            "text/plain": [
              "<keras.src.callbacks.History at 0x7f2bc42f6bc0>"
            ]
          },
          "metadata": {},
          "execution_count": 50
        }
      ]
    },
    {
      "cell_type": "code",
      "source": [
        "# Make and plot predictions for model_1\n",
        "y_preds_1 = model_1.predict(X_test)\n",
        "plot_predictions(predictions=y_preds_1)"
      ],
      "metadata": {
        "colab": {
          "base_uri": "https://localhost:8080/",
          "height": 617
        },
        "id": "HoA45gdqQrmf",
        "outputId": "d154cd8e-9d4f-47b4-e6f7-6bf3180fef0a"
      },
      "execution_count": null,
      "outputs": [
        {
          "output_type": "stream",
          "name": "stdout",
          "text": [
            "1/1 [==============================] - 0s 47ms/step\n"
          ]
        },
        {
          "output_type": "display_data",
          "data": {
            "text/plain": [
              "<Figure size 1000x700 with 1 Axes>"
            ],
            "image/png": "[encoded data removed]"
          },
          "metadata": {}
        }
      ]
    },
    {
      "cell_type": "code",
      "source": [
        "# Calculate model_1 evaluation metrics\n",
        "mae_1 = mae(y_test, y_preds_1)\n",
        "mse_1 = mse(y_test, y_preds_1)\n",
        "mae_1, mse_1"
      ],
      "metadata": {
        "colab": {
          "base_uri": "https://localhost:8080/"
        },
        "id": "PnXaeWFYVD__",
        "outputId": "8efd20d8-7af7-491f-8117-5a109a4c93fb"
      },
      "execution_count": null,
      "outputs": [
        {
          "output_type": "execute_result",
          "data": {
            "text/plain": [
              "(<tf.Tensor: shape=(), dtype=float32, numpy=30.606339>,\n",
              " <tf.Tensor: shape=(), dtype=float32, numpy=947.16974>)"
            ]
          },
          "metadata": {},
          "execution_count": 52
        }
      ]
    },
    {
      "cell_type": "markdown",
      "source": [
        "**Build `model_2`**\n",
        "\n",
        "* 2 dense layers, trained for 100 epochs"
      ],
      "metadata": {
        "id": "uN-gwUoqVog3"
      }
    },
    {
      "cell_type": "code",
      "source": [
        "X_train.ndim, y_train.ndim"
      ],
      "metadata": {
        "colab": {
          "base_uri": "https://localhost:8080/"
        },
        "id": "P6_9KXkwceuO",
        "outputId": "7d858580-080d-400d-db1b-36adf0d6a7a3"
      },
      "execution_count": null,
      "outputs": [
        {
          "output_type": "execute_result",
          "data": {
            "text/plain": [
              "(1, 1)"
            ]
          },
          "metadata": {},
          "execution_count": 53
        }
      ]
    },
    {
      "cell_type": "code",
      "source": [
        "# set random seed\n",
        "tf.random.set_seed(42)\n",
        "\n",
        "# 1. Create the model\n",
        "model_2 = tf.keras.Sequential([\n",
        "    tf.keras.layers.Dense(10),\n",
        "    tf.keras.layers.Dense(1)\n",
        "])\n",
        "\n",
        "# 2. Compile the model\n",
        "model_2.compile(loss=tf.keras.losses.mae,\n",
        "                optimizer=tf.keras.optimizers.SGD(),\n",
        "                metrics=[\"mse\"])\n",
        "\n",
        "# 3. Fit the model\n",
        "model_2.fit(tf.expand_dims(X_train, axis=-1), y_train, epochs=100)"
      ],
      "metadata": {
        "colab": {
          "base_uri": "https://localhost:8080/"
        },
        "id": "i-hfR-P6c0hx",
        "outputId": "6b18b270-9839-4ee5-8522-50c411f1ff55"
      },
      "execution_count": null,
      "outputs": [
        {
          "output_type": "stream",
          "name": "stdout",
          "text": [
            "Epoch 1/100\n",
            "2/2 [==============================] - 0s 10ms/step - loss: 16.1120 - mse: 391.5409\n",
            "Epoch 2/100\n",
            "2/2 [==============================] - 0s 6ms/step - loss: 28.6630 - mse: 1267.3724\n",
            "Epoch 3/100\n",
            "2/2 [==============================] - 0s 6ms/step - loss: 21.4096 - mse: 678.0517\n",
            "Epoch 4/100\n",
            "2/2 [==============================] - 0s 6ms/step - loss: 13.7383 - mse: 257.1273\n",
            "Epoch 5/100\n",
            "2/2 [==============================] - 0s 6ms/step - loss: 18.6784 - mse: 473.1283\n",
            "Epoch 6/100\n",
            "2/2 [==============================] - 0s 6ms/step - loss: 9.3952 - mse: 125.4737\n",
            "Epoch 7/100\n",
            "2/2 [==============================] - 0s 7ms/step - loss: 10.3888 - mse: 140.6308\n",
            "Epoch 8/100\n",
            "2/2 [==============================] - 0s 6ms/step - loss: 12.0556 - mse: 197.2345\n",
            "Epoch 9/100\n",
            "2/2 [==============================] - 0s 7ms/step - loss: 37.6683 - mse: 2185.2678\n",
            "Epoch 10/100\n",
            "2/2 [==============================] - 0s 6ms/step - loss: 25.3094 - mse: 898.7174\n",
            "Epoch 11/100\n",
            "2/2 [==============================] - 0s 6ms/step - loss: 10.2529 - mse: 147.1374\n",
            "Epoch 12/100\n",
            "2/2 [==============================] - 0s 6ms/step - loss: 25.3972 - mse: 898.2220\n",
            "Epoch 13/100\n",
            "2/2 [==============================] - 0s 7ms/step - loss: 16.8828 - mse: 393.7034\n",
            "Epoch 14/100\n",
            "2/2 [==============================] - 0s 6ms/step - loss: 25.7261 - mse: 1031.9192\n",
            "Epoch 15/100\n",
            "2/2 [==============================] - 0s 6ms/step - loss: 17.5851 - mse: 428.0257\n",
            "Epoch 16/100\n",
            "2/2 [==============================] - 0s 7ms/step - loss: 10.0516 - mse: 124.3560\n",
            "Epoch 17/100\n",
            "2/2 [==============================] - 0s 6ms/step - loss: 18.5989 - mse: 462.4876\n",
            "Epoch 18/100\n",
            "2/2 [==============================] - 0s 6ms/step - loss: 11.7527 - mse: 211.1664\n",
            "Epoch 19/100\n",
            "2/2 [==============================] - 0s 6ms/step - loss: 16.4201 - mse: 432.5351\n",
            "Epoch 20/100\n",
            "2/2 [==============================] - 0s 6ms/step - loss: 8.2460 - mse: 93.3811\n",
            "Epoch 21/100\n",
            "2/2 [==============================] - 0s 6ms/step - loss: 14.4433 - mse: 289.1475\n",
            "Epoch 22/100\n",
            "2/2 [==============================] - 0s 12ms/step - loss: 12.8600 - mse: 246.2912\n",
            "Epoch 23/100\n",
            "2/2 [==============================] - 0s 7ms/step - loss: 15.4941 - mse: 315.3004\n",
            "Epoch 24/100\n",
            "2/2 [==============================] - 0s 6ms/step - loss: 15.2842 - mse: 316.4534\n",
            "Epoch 25/100\n",
            "2/2 [==============================] - 0s 7ms/step - loss: 14.3511 - mse: 272.8893\n",
            "Epoch 26/100\n",
            "2/2 [==============================] - 0s 6ms/step - loss: 19.3659 - mse: 569.0925\n",
            "Epoch 27/100\n",
            "2/2 [==============================] - 0s 6ms/step - loss: 11.4413 - mse: 168.1640\n",
            "Epoch 28/100\n",
            "2/2 [==============================] - 0s 6ms/step - loss: 29.0302 - mse: 1369.5286\n",
            "Epoch 29/100\n",
            "2/2 [==============================] - 0s 7ms/step - loss: 9.2504 - mse: 94.6611\n",
            "Epoch 30/100\n",
            "2/2 [==============================] - 0s 7ms/step - loss: 29.7803 - mse: 1604.8486\n",
            "Epoch 31/100\n",
            "2/2 [==============================] - 0s 6ms/step - loss: 54.0298 - mse: 5229.4302\n",
            "Epoch 32/100\n",
            "2/2 [==============================] - 0s 6ms/step - loss: 9.5569 - mse: 101.0342\n",
            "Epoch 33/100\n",
            "2/2 [==============================] - 0s 6ms/step - loss: 12.1465 - mse: 180.0752\n",
            "Epoch 34/100\n",
            "2/2 [==============================] - 0s 6ms/step - loss: 23.8345 - mse: 860.4619\n",
            "Epoch 35/100\n",
            "2/2 [==============================] - 0s 6ms/step - loss: 12.6325 - mse: 242.2707\n",
            "Epoch 36/100\n",
            "2/2 [==============================] - 0s 6ms/step - loss: 21.5568 - mse: 662.7665\n",
            "Epoch 37/100\n",
            "2/2 [==============================] - 0s 7ms/step - loss: 11.3559 - mse: 149.5617\n",
            "Epoch 38/100\n",
            "2/2 [==============================] - 0s 8ms/step - loss: 13.4247 - mse: 267.2014\n",
            "Epoch 39/100\n",
            "2/2 [==============================] - 0s 7ms/step - loss: 10.7709 - mse: 138.2329\n",
            "Epoch 40/100\n",
            "2/2 [==============================] - 0s 7ms/step - loss: 16.5423 - mse: 397.2379\n",
            "Epoch 41/100\n",
            "2/2 [==============================] - 0s 7ms/step - loss: 10.9453 - mse: 179.9633\n",
            "Epoch 42/100\n",
            "2/2 [==============================] - 0s 6ms/step - loss: 9.2798 - mse: 115.3459\n",
            "Epoch 43/100\n",
            "2/2 [==============================] - 0s 11ms/step - loss: 9.5864 - mse: 111.2703\n",
            "Epoch 44/100\n",
            "2/2 [==============================] - 0s 11ms/step - loss: 27.9141 - mse: 1249.1069\n",
            "Epoch 45/100\n",
            "2/2 [==============================] - 0s 7ms/step - loss: 11.2633 - mse: 146.2896\n",
            "Epoch 46/100\n",
            "2/2 [==============================] - 0s 6ms/step - loss: 13.8596 - mse: 281.2037\n",
            "Epoch 47/100\n",
            "2/2 [==============================] - 0s 10ms/step - loss: 11.9200 - mse: 211.9854\n",
            "Epoch 48/100\n",
            "2/2 [==============================] - 0s 6ms/step - loss: 16.9533 - mse: 389.2318\n",
            "Epoch 49/100\n",
            "2/2 [==============================] - 0s 6ms/step - loss: 9.7748 - mse: 104.9269\n",
            "Epoch 50/100\n",
            "2/2 [==============================] - 0s 6ms/step - loss: 14.1684 - mse: 280.9085\n",
            "Epoch 51/100\n",
            "2/2 [==============================] - 0s 6ms/step - loss: 11.7364 - mse: 161.2605\n",
            "Epoch 52/100\n",
            "2/2 [==============================] - 0s 6ms/step - loss: 31.3937 - mse: 1712.5375\n",
            "Epoch 53/100\n",
            "2/2 [==============================] - 0s 7ms/step - loss: 14.7273 - mse: 321.2773\n",
            "Epoch 54/100\n",
            "2/2 [==============================] - 0s 7ms/step - loss: 24.6200 - mse: 912.1389\n",
            "Epoch 55/100\n",
            "2/2 [==============================] - 0s 7ms/step - loss: 23.9035 - mse: 859.0828\n",
            "Epoch 56/100\n",
            "2/2 [==============================] - 0s 7ms/step - loss: 11.1224 - mse: 171.0470\n",
            "Epoch 57/100\n",
            "2/2 [==============================] - 0s 6ms/step - loss: 13.0627 - mse: 211.6122\n",
            "Epoch 58/100\n",
            "2/2 [==============================] - 0s 6ms/step - loss: 9.7821 - mse: 105.6438\n",
            "Epoch 59/100\n",
            "2/2 [==============================] - 0s 6ms/step - loss: 13.2435 - mse: 245.7863\n",
            "Epoch 60/100\n",
            "2/2 [==============================] - 0s 6ms/step - loss: 10.8360 - mse: 138.0100\n",
            "Epoch 61/100\n",
            "2/2 [==============================] - 0s 6ms/step - loss: 13.4205 - mse: 238.6475\n",
            "Epoch 62/100\n",
            "2/2 [==============================] - 0s 8ms/step - loss: 17.3979 - mse: 461.6010\n",
            "Epoch 63/100\n",
            "2/2 [==============================] - 0s 7ms/step - loss: 9.1392 - mse: 87.6517\n",
            "Epoch 64/100\n",
            "2/2 [==============================] - 0s 7ms/step - loss: 18.2721 - mse: 485.3818\n",
            "Epoch 65/100\n",
            "2/2 [==============================] - 0s 10ms/step - loss: 10.0943 - mse: 114.0141\n",
            "Epoch 66/100\n",
            "2/2 [==============================] - 0s 6ms/step - loss: 24.1098 - mse: 876.0223\n",
            "Epoch 67/100\n",
            "2/2 [==============================] - 0s 7ms/step - loss: 10.8467 - mse: 140.9173\n",
            "Epoch 68/100\n",
            "2/2 [==============================] - 0s 7ms/step - loss: 10.7407 - mse: 156.3670\n",
            "Epoch 69/100\n",
            "2/2 [==============================] - 0s 7ms/step - loss: 23.0846 - mse: 769.6312\n",
            "Epoch 70/100\n",
            "2/2 [==============================] - 0s 7ms/step - loss: 8.8441 - mse: 142.9057\n",
            "Epoch 71/100\n",
            "2/2 [==============================] - 0s 10ms/step - loss: 16.0738 - mse: 352.3954\n",
            "Epoch 72/100\n",
            "2/2 [==============================] - 0s 7ms/step - loss: 7.7595 - mse: 91.3444\n",
            "Epoch 73/100\n",
            "2/2 [==============================] - 0s 7ms/step - loss: 10.1613 - mse: 165.2611\n",
            "Epoch 74/100\n",
            "2/2 [==============================] - 0s 7ms/step - loss: 28.3446 - mse: 1124.3325\n",
            "Epoch 75/100\n",
            "2/2 [==============================] - 0s 6ms/step - loss: 9.9983 - mse: 146.2727\n",
            "Epoch 76/100\n",
            "2/2 [==============================] - 0s 8ms/step - loss: 12.9119 - mse: 207.1872\n",
            "Epoch 77/100\n",
            "2/2 [==============================] - 0s 7ms/step - loss: 17.8562 - mse: 496.6780\n",
            "Epoch 78/100\n",
            "2/2 [==============================] - 0s 6ms/step - loss: 8.9614 - mse: 87.6446\n",
            "Epoch 79/100\n",
            "2/2 [==============================] - 0s 6ms/step - loss: 28.6737 - mse: 1297.8147\n",
            "Epoch 80/100\n",
            "2/2 [==============================] - 0s 6ms/step - loss: 31.0041 - mse: 1525.8875\n",
            "Epoch 81/100\n",
            "2/2 [==============================] - 0s 6ms/step - loss: 13.3884 - mse: 250.4612\n",
            "Epoch 82/100\n",
            "2/2 [==============================] - 0s 7ms/step - loss: 14.5258 - mse: 291.1881\n",
            "Epoch 83/100\n",
            "2/2 [==============================] - 0s 7ms/step - loss: 18.5484 - mse: 454.0466\n",
            "Epoch 84/100\n",
            "2/2 [==============================] - 0s 7ms/step - loss: 8.8180 - mse: 127.9064\n",
            "Epoch 85/100\n",
            "2/2 [==============================] - 0s 7ms/step - loss: 18.4241 - mse: 531.2668\n",
            "Epoch 86/100\n",
            "2/2 [==============================] - 0s 7ms/step - loss: 22.5366 - mse: 726.3500\n",
            "Epoch 87/100\n",
            "2/2 [==============================] - 0s 6ms/step - loss: 11.3674 - mse: 153.7784\n",
            "Epoch 88/100\n",
            "2/2 [==============================] - 0s 7ms/step - loss: 26.5583 - mse: 1007.3414\n",
            "Epoch 89/100\n",
            "2/2 [==============================] - 0s 7ms/step - loss: 9.6539 - mse: 129.9491\n",
            "Epoch 90/100\n",
            "2/2 [==============================] - 0s 6ms/step - loss: 18.7154 - mse: 502.1928\n",
            "Epoch 91/100\n",
            "2/2 [==============================] - 0s 7ms/step - loss: 10.4865 - mse: 164.7755\n",
            "Epoch 92/100\n",
            "2/2 [==============================] - 0s 7ms/step - loss: 17.9431 - mse: 440.3045\n",
            "Epoch 93/100\n",
            "2/2 [==============================] - 0s 7ms/step - loss: 6.5911 - mse: 62.2531\n",
            "Epoch 94/100\n",
            "2/2 [==============================] - 0s 7ms/step - loss: 11.1339 - mse: 152.3905\n",
            "Epoch 95/100\n",
            "2/2 [==============================] - 0s 8ms/step - loss: 24.2768 - mse: 883.8506\n",
            "Epoch 96/100\n",
            "2/2 [==============================] - 0s 7ms/step - loss: 10.7382 - mse: 173.5719\n",
            "Epoch 97/100\n",
            "2/2 [==============================] - 0s 7ms/step - loss: 15.3028 - mse: 354.5024\n",
            "Epoch 98/100\n",
            "2/2 [==============================] - 0s 7ms/step - loss: 8.2591 - mse: 112.2994\n",
            "Epoch 99/100\n",
            "2/2 [==============================] - 0s 6ms/step - loss: 16.4621 - mse: 380.7277\n",
            "Epoch 100/100\n",
            "2/2 [==============================] - 0s 6ms/step - loss: 13.8743 - mse: 274.9874\n"
          ]
        },
        {
          "output_type": "execute_result",
          "data": {
            "text/plain": [
              "<keras.src.callbacks.History at 0x7f2bbee4b2b0>"
            ]
          },
          "metadata": {},
          "execution_count": 54
        }
      ]
    },
    {
      "cell_type": "code",
      "source": [
        "# Make and plot predictions for model_2\n",
        "y_preds_2 = model_2.predict(X_test)\n",
        "plot_predictions(predictions=y_preds_2)"
      ],
      "metadata": {
        "colab": {
          "base_uri": "https://localhost:8080/",
          "height": 617
        },
        "id": "N4dQuGTMfJt5",
        "outputId": "c15a8766-20f1-4d23-9bbc-a1d844667c17"
      },
      "execution_count": null,
      "outputs": [
        {
          "output_type": "stream",
          "name": "stdout",
          "text": [
            "1/1 [==============================] - 0s 51ms/step\n"
          ]
        },
        {
          "output_type": "display_data",
          "data": {
            "text/plain": [
              "<Figure size 1000x700 with 1 Axes>"
            ],
            "image/png": "[encoded data removed]"
          },
          "metadata": {}
        }
      ]
    },
    {
      "cell_type": "code",
      "source": [
        "# Calculate model_2 evaluation metrics\n",
        "mae_2 = mae(y_test, y_preds_2)\n",
        "mse_2 = mse(y_test, y_preds_2)\n",
        "mae_2, mse_2"
      ],
      "metadata": {
        "colab": {
          "base_uri": "https://localhost:8080/"
        },
        "id": "IcBBrXF9c1Xl",
        "outputId": "e1d1d398-6295-440c-9d0e-0e7aaee65e3f"
      },
      "execution_count": null,
      "outputs": [
        {
          "output_type": "execute_result",
          "data": {
            "text/plain": [
              "(<tf.Tensor: shape=(), dtype=float32, numpy=17.640299>,\n",
              " <tf.Tensor: shape=(), dtype=float32, numpy=325.75208>)"
            ]
          },
          "metadata": {},
          "execution_count": 56
        }
      ]
    },
    {
      "cell_type": "markdown",
      "source": [
        "**Build `model_3`**\n",
        "\n",
        "* 2 layers, trained for 500 epochs"
      ],
      "metadata": {
        "id": "umnL9NxriKeV"
      }
    },
    {
      "cell_type": "code",
      "source": [
        "# Set the random seed\n",
        "tf.random.set_seed(42)\n",
        "\n",
        "# 1. Create a model\n",
        "model_3 = tf.keras.Sequential([\n",
        "    tf.keras.layers.Dense(10),\n",
        "    tf.keras.layers.Dense(1)\n",
        "])\n",
        "\n",
        "# 2. Compile the model\n",
        "model_3.compile(loss=tf.keras.losses.mae,\n",
        "                optimizer=tf.keras.optimizers.SGD(),\n",
        "                metrics=[\"mae\"])\n",
        "\n",
        "# 3. Fit the model\n",
        "model_3.fit(tf.expand_dims(X_test, axis=-1), y_test, epochs=500)"
      ],
      "metadata": {
        "colab": {
          "base_uri": "https://localhost:8080/"
        },
        "id": "THpMKZac0Q3S",
        "outputId": "9aa9bf2d-040d-4058-def8-0eb4f9ccd8b4"
      },
      "execution_count": null,
      "outputs": [
        {
          "output_type": "stream",
          "name": "stdout",
          "text": [
            "Epoch 1/500\n",
            "1/1 [==============================] - 1s 804ms/step - loss: 39.6057 - mae: 39.6057\n",
            "Epoch 2/500\n",
            "1/1 [==============================] - 0s 13ms/step - loss: 171.5218 - mae: 171.5218\n",
            "Epoch 3/500\n",
            "1/1 [==============================] - 0s 21ms/step - loss: 80.5825 - mae: 80.5825\n",
            "Epoch 4/500\n",
            "1/1 [==============================] - 0s 17ms/step - loss: 48.2140 - mae: 48.2140\n",
            "Epoch 5/500\n",
            "1/1 [==============================] - 0s 14ms/step - loss: 38.8424 - mae: 38.8424\n",
            "Epoch 6/500\n",
            "1/1 [==============================] - 0s 21ms/step - loss: 81.8934 - mae: 81.8934\n",
            "Epoch 7/500\n",
            "1/1 [==============================] - 0s 20ms/step - loss: 68.5417 - mae: 68.5417\n",
            "Epoch 8/500\n",
            "1/1 [==============================] - 0s 16ms/step - loss: 26.3713 - mae: 26.3713\n",
            "Epoch 9/500\n",
            "1/1 [==============================] - 0s 20ms/step - loss: 107.2237 - mae: 107.2237\n",
            "Epoch 10/500\n",
            "1/1 [==============================] - 0s 18ms/step - loss: 78.5286 - mae: 78.5286\n",
            "Epoch 11/500\n",
            "1/1 [==============================] - 0s 15ms/step - loss: 58.0438 - mae: 58.0438\n",
            "Epoch 12/500\n",
            "1/1 [==============================] - 0s 14ms/step - loss: 6.8435 - mae: 6.8435\n",
            "Epoch 13/500\n",
            "1/1 [==============================] - 0s 17ms/step - loss: 83.3747 - mae: 83.3747\n",
            "Epoch 14/500\n",
            "1/1 [==============================] - 0s 12ms/step - loss: 73.4208 - mae: 73.4208\n",
            "Epoch 15/500\n",
            "1/1 [==============================] - 0s 22ms/step - loss: 41.9023 - mae: 41.9023\n",
            "Epoch 16/500\n",
            "1/1 [==============================] - 0s 19ms/step - loss: 57.9462 - mae: 57.9462\n",
            "Epoch 17/500\n",
            "1/1 [==============================] - 0s 12ms/step - loss: 80.8837 - mae: 80.8837\n",
            "Epoch 18/500\n",
            "1/1 [==============================] - 0s 33ms/step - loss: 65.5712 - mae: 65.5712\n",
            "Epoch 19/500\n",
            "1/1 [==============================] - 0s 14ms/step - loss: 17.0733 - mae: 17.0733\n",
            "Epoch 20/500\n",
            "1/1 [==============================] - 0s 13ms/step - loss: 136.5767 - mae: 136.5767\n",
            "Epoch 21/500\n",
            "1/1 [==============================] - 0s 15ms/step - loss: 77.0612 - mae: 77.0612\n",
            "Epoch 22/500\n",
            "1/1 [==============================] - 0s 19ms/step - loss: 53.5024 - mae: 53.5024\n",
            "Epoch 23/500\n",
            "1/1 [==============================] - 0s 14ms/step - loss: 21.1248 - mae: 21.1248\n",
            "Epoch 24/500\n",
            "1/1 [==============================] - 0s 20ms/step - loss: 82.6363 - mae: 82.6363\n",
            "Epoch 25/500\n",
            "1/1 [==============================] - 0s 10ms/step - loss: 71.1895 - mae: 71.1895\n",
            "Epoch 26/500\n",
            "1/1 [==============================] - 0s 14ms/step - loss: 34.9407 - mae: 34.9407\n",
            "Epoch 27/500\n",
            "1/1 [==============================] - 0s 15ms/step - loss: 79.8967 - mae: 79.8967\n",
            "Epoch 28/500\n",
            "1/1 [==============================] - 0s 17ms/step - loss: 79.7743 - mae: 79.7743\n",
            "Epoch 29/500\n",
            "1/1 [==============================] - 0s 9ms/step - loss: 62.1645 - mae: 62.1645\n",
            "Epoch 30/500\n",
            "1/1 [==============================] - 0s 9ms/step - loss: 6.3871 - mae: 6.3871\n",
            "Epoch 31/500\n",
            "1/1 [==============================] - 0s 15ms/step - loss: 170.3291 - mae: 170.3291\n",
            "Epoch 32/500\n",
            "1/1 [==============================] - 0s 15ms/step - loss: 75.3809 - mae: 75.3809\n",
            "Epoch 33/500\n",
            "1/1 [==============================] - 0s 14ms/step - loss: 48.2868 - mae: 48.2868\n",
            "Epoch 34/500\n",
            "1/1 [==============================] - 0s 15ms/step - loss: 37.5428 - mae: 37.5428\n",
            "Epoch 35/500\n",
            "1/1 [==============================] - 0s 15ms/step - loss: 81.7945 - mae: 81.7945\n",
            "Epoch 36/500\n",
            "1/1 [==============================] - 0s 17ms/step - loss: 68.6308 - mae: 68.6308\n",
            "Epoch 37/500\n",
            "1/1 [==============================] - 0s 15ms/step - loss: 26.9414 - mae: 26.9414\n",
            "Epoch 38/500\n",
            "1/1 [==============================] - 0s 14ms/step - loss: 105.1351 - mae: 105.1351\n",
            "Epoch 39/500\n",
            "1/1 [==============================] - 0s 16ms/step - loss: 78.5059 - mae: 78.5059\n",
            "Epoch 40/500\n",
            "1/1 [==============================] - 0s 18ms/step - loss: 58.2538 - mae: 58.2538\n",
            "Epoch 41/500\n",
            "1/1 [==============================] - 0s 12ms/step - loss: 5.8960 - mae: 5.8960\n",
            "Epoch 42/500\n",
            "1/1 [==============================] - 0s 16ms/step - loss: 83.2968 - mae: 83.2968\n",
            "Epoch 43/500\n",
            "1/1 [==============================] - 0s 13ms/step - loss: 73.4559 - mae: 73.4559\n",
            "Epoch 44/500\n",
            "1/1 [==============================] - 0s 14ms/step - loss: 42.2956 - mae: 42.2956\n",
            "Epoch 45/500\n",
            "1/1 [==============================] - 0s 14ms/step - loss: 56.4181 - mae: 56.4181\n",
            "Epoch 46/500\n",
            "1/1 [==============================] - 0s 13ms/step - loss: 80.8339 - mae: 80.8339\n",
            "Epoch 47/500\n",
            "1/1 [==============================] - 0s 13ms/step - loss: 65.6954 - mae: 65.6954\n",
            "Epoch 48/500\n",
            "1/1 [==============================] - 0s 13ms/step - loss: 17.7486 - mae: 17.7486\n",
            "Epoch 49/500\n",
            "1/1 [==============================] - 0s 25ms/step - loss: 134.1550 - mae: 134.1550\n",
            "Epoch 50/500\n",
            "1/1 [==============================] - 0s 14ms/step - loss: 77.0546 - mae: 77.0546\n",
            "Epoch 51/500\n",
            "1/1 [==============================] - 0s 19ms/step - loss: 53.7635 - mae: 53.7635\n",
            "Epoch 52/500\n",
            "1/1 [==============================] - 0s 24ms/step - loss: 20.0156 - mae: 20.0156\n",
            "Epoch 53/500\n",
            "1/1 [==============================] - 0s 9ms/step - loss: 82.5662 - mae: 82.5662\n",
            "Epoch 54/500\n",
            "1/1 [==============================] - 0s 24ms/step - loss: 71.2495 - mae: 71.2495\n",
            "Epoch 55/500\n",
            "1/1 [==============================] - 0s 20ms/step - loss: 35.4126 - mae: 35.4126\n",
            "Epoch 56/500\n",
            "1/1 [==============================] - 0s 18ms/step - loss: 78.1196 - mae: 78.1196\n",
            "Epoch 57/500\n",
            "1/1 [==============================] - 0s 25ms/step - loss: 79.7366 - mae: 79.7366\n",
            "Epoch 58/500\n",
            "1/1 [==============================] - 0s 15ms/step - loss: 62.3268 - mae: 62.3268\n",
            "Epoch 59/500\n",
            "1/1 [==============================] - 0s 16ms/step - loss: 7.1833 - mae: 7.1833\n",
            "Epoch 60/500\n",
            "1/1 [==============================] - 0s 62ms/step - loss: 167.5242 - mae: 167.5242\n",
            "Epoch 61/500\n",
            "1/1 [==============================] - 0s 20ms/step - loss: 75.3929 - mae: 75.3929\n",
            "Epoch 62/500\n",
            "1/1 [==============================] - 0s 30ms/step - loss: 48.6066 - mae: 48.6066\n",
            "Epoch 63/500\n",
            "1/1 [==============================] - 0s 18ms/step - loss: 36.2475 - mae: 36.2475\n",
            "Epoch 64/500\n",
            "1/1 [==============================] - 0s 21ms/step - loss: 81.7335 - mae: 81.7335\n",
            "Epoch 65/500\n",
            "1/1 [==============================] - 0s 41ms/step - loss: 68.7192 - mae: 68.7192\n",
            "Epoch 66/500\n",
            "1/1 [==============================] - 0s 10ms/step - loss: 27.5036 - mae: 27.5036\n",
            "Epoch 67/500\n",
            "1/1 [==============================] - 0s 15ms/step - loss: 103.0716 - mae: 103.0716\n",
            "Epoch 68/500\n",
            "1/1 [==============================] - 0s 25ms/step - loss: 78.4820 - mae: 78.4820\n",
            "Epoch 69/500\n",
            "1/1 [==============================] - 0s 10ms/step - loss: 58.4600 - mae: 58.4600\n",
            "Epoch 70/500\n",
            "1/1 [==============================] - 0s 16ms/step - loss: 4.9607 - mae: 4.9607\n",
            "Epoch 71/500\n",
            "1/1 [==============================] - 0s 13ms/step - loss: 83.2183 - mae: 83.2183\n",
            "Epoch 72/500\n",
            "1/1 [==============================] - 0s 27ms/step - loss: 73.4892 - mae: 73.4892\n",
            "Epoch 73/500\n",
            "1/1 [==============================] - 0s 45ms/step - loss: 42.6830 - mae: 42.6830\n",
            "Epoch 74/500\n",
            "1/1 [==============================] - 0s 32ms/step - loss: 54.9087 - mae: 54.9087\n",
            "Epoch 75/500\n",
            "1/1 [==============================] - 0s 20ms/step - loss: 80.7832 - mae: 80.7832\n",
            "Epoch 76/500\n",
            "1/1 [==============================] - 0s 22ms/step - loss: 65.8166 - mae: 65.8166\n",
            "Epoch 77/500\n",
            "1/1 [==============================] - 0s 37ms/step - loss: 18.4148 - mae: 18.4148\n",
            "Epoch 78/500\n",
            "1/1 [==============================] - 0s 14ms/step - loss: 131.7623 - mae: 131.7623\n",
            "Epoch 79/500\n",
            "1/1 [==============================] - 0s 15ms/step - loss: 77.0466 - mae: 77.0466\n",
            "Epoch 80/500\n",
            "1/1 [==============================] - 0s 14ms/step - loss: 54.0202 - mae: 54.0202\n",
            "Epoch 81/500\n",
            "1/1 [==============================] - 0s 14ms/step - loss: 18.9204 - mae: 18.9204\n",
            "Epoch 82/500\n",
            "1/1 [==============================] - 0s 15ms/step - loss: 82.4955 - mae: 82.4955\n",
            "Epoch 83/500\n",
            "1/1 [==============================] - 0s 50ms/step - loss: 71.3073 - mae: 71.3073\n",
            "Epoch 84/500\n",
            "1/1 [==============================] - 0s 33ms/step - loss: 35.8776 - mae: 35.8776\n",
            "Epoch 85/500\n",
            "1/1 [==============================] - 0s 36ms/step - loss: 76.3641 - mae: 76.3641\n",
            "Epoch 86/500\n",
            "1/1 [==============================] - 0s 18ms/step - loss: 79.6978 - mae: 79.6978\n",
            "Epoch 87/500\n",
            "1/1 [==============================] - 0s 14ms/step - loss: 62.4858 - mae: 62.4858\n",
            "Epoch 88/500\n",
            "1/1 [==============================] - 0s 15ms/step - loss: 7.9690 - mae: 7.9690\n",
            "Epoch 89/500\n",
            "1/1 [==============================] - 0s 32ms/step - loss: 164.7528 - mae: 164.7528\n",
            "Epoch 90/500\n",
            "1/1 [==============================] - 0s 26ms/step - loss: 75.4032 - mae: 75.4032\n",
            "Epoch 91/500\n",
            "1/1 [==============================] - 0s 19ms/step - loss: 48.9213 - mae: 48.9213\n",
            "Epoch 92/500\n",
            "1/1 [==============================] - 0s 25ms/step - loss: 34.9683 - mae: 34.9683\n",
            "Epoch 93/500\n",
            "1/1 [==============================] - 0s 40ms/step - loss: 81.6716 - mae: 81.6716\n",
            "Epoch 94/500\n",
            "1/1 [==============================] - 0s 17ms/step - loss: 68.8052 - mae: 68.8052\n",
            "Epoch 95/500\n",
            "1/1 [==============================] - 0s 35ms/step - loss: 28.0580 - mae: 28.0580\n",
            "Epoch 96/500\n",
            "1/1 [==============================] - 0s 14ms/step - loss: 101.0332 - mae: 101.0332\n",
            "Epoch 97/500\n",
            "1/1 [==============================] - 0s 17ms/step - loss: 78.4569 - mae: 78.4569\n",
            "Epoch 98/500\n",
            "1/1 [==============================] - 0s 16ms/step - loss: 58.6624 - mae: 58.6624\n",
            "Epoch 99/500\n",
            "1/1 [==============================] - 0s 14ms/step - loss: 4.0376 - mae: 4.0376\n",
            "Epoch 100/500\n",
            "1/1 [==============================] - 0s 9ms/step - loss: 83.1393 - mae: 83.1393\n",
            "Epoch 101/500\n",
            "1/1 [==============================] - 0s 9ms/step - loss: 73.5206 - mae: 73.5206\n",
            "Epoch 102/500\n",
            "1/1 [==============================] - 0s 21ms/step - loss: 43.0645 - mae: 43.0645\n",
            "Epoch 103/500\n",
            "1/1 [==============================] - 0s 18ms/step - loss: 53.4181 - mae: 53.4181\n",
            "Epoch 104/500\n",
            "1/1 [==============================] - 0s 10ms/step - loss: 80.7316 - mae: 80.7316\n",
            "Epoch 105/500\n",
            "1/1 [==============================] - 0s 9ms/step - loss: 65.9350 - mae: 65.9350\n",
            "Epoch 106/500\n",
            "1/1 [==============================] - 0s 9ms/step - loss: 19.0719 - mae: 19.0719\n",
            "Epoch 107/500\n",
            "1/1 [==============================] - 0s 11ms/step - loss: 129.3983 - mae: 129.3983\n",
            "Epoch 108/500\n",
            "1/1 [==============================] - 0s 17ms/step - loss: 77.0373 - mae: 77.0373\n",
            "Epoch 109/500\n",
            "1/1 [==============================] - 0s 15ms/step - loss: 54.2725 - mae: 54.2725\n",
            "Epoch 110/500\n",
            "1/1 [==============================] - 0s 9ms/step - loss: 17.8391 - mae: 17.8391\n",
            "Epoch 111/500\n",
            "1/1 [==============================] - 0s 9ms/step - loss: 82.4241 - mae: 82.4241\n",
            "Epoch 112/500\n",
            "1/1 [==============================] - 0s 12ms/step - loss: 71.3629 - mae: 71.3629\n",
            "Epoch 113/500\n",
            "1/1 [==============================] - 0s 10ms/step - loss: 36.3359 - mae: 36.3359\n",
            "Epoch 114/500\n",
            "1/1 [==============================] - 0s 9ms/step - loss: 74.6302 - mae: 74.6302\n",
            "Epoch 115/500\n",
            "1/1 [==============================] - 0s 9ms/step - loss: 79.6579 - mae: 79.6579\n",
            "Epoch 116/500\n",
            "1/1 [==============================] - 0s 12ms/step - loss: 62.6415 - mae: 62.6415\n",
            "Epoch 117/500\n",
            "1/1 [==============================] - 0s 9ms/step - loss: 8.7443 - mae: 8.7443\n",
            "Epoch 118/500\n",
            "1/1 [==============================] - 0s 10ms/step - loss: 162.0143 - mae: 162.0143\n",
            "Epoch 119/500\n",
            "1/1 [==============================] - 0s 9ms/step - loss: 75.4120 - mae: 75.4120\n",
            "Epoch 120/500\n",
            "1/1 [==============================] - 0s 10ms/step - loss: 49.2310 - mae: 49.2310\n",
            "Epoch 121/500\n",
            "1/1 [==============================] - 0s 9ms/step - loss: 33.7052 - mae: 33.7052\n",
            "Epoch 122/500\n",
            "1/1 [==============================] - 0s 11ms/step - loss: 81.6090 - mae: 81.6090\n",
            "Epoch 123/500\n",
            "1/1 [==============================] - 0s 11ms/step - loss: 68.8887 - mae: 68.8887\n",
            "Epoch 124/500\n",
            "1/1 [==============================] - 0s 11ms/step - loss: 28.6046 - mae: 28.6046\n",
            "Epoch 125/500\n",
            "1/1 [==============================] - 0s 17ms/step - loss: 99.0193 - mae: 99.0193\n",
            "Epoch 126/500\n",
            "1/1 [==============================] - 0s 15ms/step - loss: 78.4306 - mae: 78.4306\n",
            "Epoch 127/500\n",
            "1/1 [==============================] - 0s 16ms/step - loss: 58.8610 - mae: 58.8610\n",
            "Epoch 128/500\n",
            "1/1 [==============================] - 0s 17ms/step - loss: 3.1263 - mae: 3.1263\n",
            "Epoch 129/500\n",
            "1/1 [==============================] - 0s 35ms/step - loss: 83.0596 - mae: 83.0596\n",
            "Epoch 130/500\n",
            "1/1 [==============================] - 0s 17ms/step - loss: 73.5502 - mae: 73.5502\n",
            "Epoch 131/500\n",
            "1/1 [==============================] - 0s 17ms/step - loss: 43.4402 - mae: 43.4402\n",
            "Epoch 132/500\n",
            "1/1 [==============================] - 0s 19ms/step - loss: 51.9457 - mae: 51.9457\n",
            "Epoch 133/500\n",
            "1/1 [==============================] - 0s 15ms/step - loss: 80.6791 - mae: 80.6791\n",
            "Epoch 134/500\n",
            "1/1 [==============================] - 0s 18ms/step - loss: 66.0506 - mae: 66.0506\n",
            "Epoch 135/500\n",
            "1/1 [==============================] - 0s 16ms/step - loss: 19.7201 - mae: 19.7201\n",
            "Epoch 136/500\n",
            "1/1 [==============================] - 0s 12ms/step - loss: 127.0625 - mae: 127.0625\n",
            "Epoch 137/500\n",
            "1/1 [==============================] - 0s 15ms/step - loss: 77.0265 - mae: 77.0265\n",
            "Epoch 138/500\n",
            "1/1 [==============================] - 0s 15ms/step - loss: 54.5204 - mae: 54.5204\n",
            "Epoch 139/500\n",
            "1/1 [==============================] - 0s 15ms/step - loss: 16.7716 - mae: 16.7716\n",
            "Epoch 140/500\n",
            "1/1 [==============================] - 0s 15ms/step - loss: 82.3520 - mae: 82.3520\n",
            "Epoch 141/500\n",
            "1/1 [==============================] - 0s 17ms/step - loss: 71.4165 - mae: 71.4165\n",
            "Epoch 142/500\n",
            "1/1 [==============================] - 0s 16ms/step - loss: 36.7874 - mae: 36.7874\n",
            "Epoch 143/500\n",
            "1/1 [==============================] - 0s 16ms/step - loss: 72.9173 - mae: 72.9173\n",
            "Epoch 144/500\n",
            "1/1 [==============================] - 0s 26ms/step - loss: 79.6171 - mae: 79.6171\n",
            "Epoch 145/500\n",
            "1/1 [==============================] - 0s 22ms/step - loss: 62.7939 - mae: 62.7939\n",
            "Epoch 146/500\n",
            "1/1 [==============================] - 0s 17ms/step - loss: 9.5093 - mae: 9.5093\n",
            "Epoch 147/500\n",
            "1/1 [==============================] - 0s 15ms/step - loss: 159.3083 - mae: 159.3083\n",
            "Epoch 148/500\n",
            "1/1 [==============================] - 0s 14ms/step - loss: 75.4192 - mae: 75.4192\n",
            "Epoch 149/500\n",
            "1/1 [==============================] - 0s 20ms/step - loss: 49.5357 - mae: 49.5357\n",
            "Epoch 150/500\n",
            "1/1 [==============================] - 0s 15ms/step - loss: 32.4579 - mae: 32.4579\n",
            "Epoch 151/500\n",
            "1/1 [==============================] - 0s 15ms/step - loss: 81.5456 - mae: 81.5456\n",
            "Epoch 152/500\n",
            "1/1 [==============================] - 0s 15ms/step - loss: 68.9698 - mae: 68.9698\n",
            "Epoch 153/500\n",
            "1/1 [==============================] - 0s 16ms/step - loss: 29.1435 - mae: 29.1435\n",
            "Epoch 154/500\n",
            "1/1 [==============================] - 0s 18ms/step - loss: 97.0298 - mae: 97.0298\n",
            "Epoch 155/500\n",
            "1/1 [==============================] - 0s 16ms/step - loss: 78.4032 - mae: 78.4032\n",
            "Epoch 156/500\n",
            "1/1 [==============================] - 0s 22ms/step - loss: 59.0558 - mae: 59.0558\n",
            "Epoch 157/500\n",
            "1/1 [==============================] - 0s 21ms/step - loss: 2.3134 - mae: 2.3134\n",
            "Epoch 158/500\n",
            "1/1 [==============================] - 0s 18ms/step - loss: 76.9618 - mae: 76.9618\n",
            "Epoch 159/500\n",
            "1/1 [==============================] - 0s 15ms/step - loss: 54.5146 - mae: 54.5146\n",
            "Epoch 160/500\n",
            "1/1 [==============================] - 0s 12ms/step - loss: 16.5903 - mae: 16.5903\n",
            "Epoch 161/500\n",
            "1/1 [==============================] - 0s 24ms/step - loss: 82.2732 - mae: 82.2732\n",
            "Epoch 162/500\n",
            "1/1 [==============================] - 0s 30ms/step - loss: 71.3663 - mae: 71.3663\n",
            "Epoch 163/500\n",
            "1/1 [==============================] - 0s 29ms/step - loss: 36.8282 - mae: 36.8282\n",
            "Epoch 164/500\n",
            "1/1 [==============================] - 0s 15ms/step - loss: 72.5887 - mae: 72.5887\n",
            "Epoch 165/500\n",
            "1/1 [==============================] - 0s 22ms/step - loss: 79.5454 - mae: 79.5454\n",
            "Epoch 166/500\n",
            "1/1 [==============================] - 0s 17ms/step - loss: 62.7664 - mae: 62.7664\n",
            "Epoch 167/500\n",
            "1/1 [==============================] - 0s 14ms/step - loss: 9.6216 - mae: 9.6216\n",
            "Epoch 168/500\n",
            "1/1 [==============================] - 0s 13ms/step - loss: 158.7531 - mae: 158.7531\n",
            "Epoch 169/500\n",
            "1/1 [==============================] - 0s 13ms/step - loss: 75.3585 - mae: 75.3585\n",
            "Epoch 170/500\n",
            "1/1 [==============================] - 0s 15ms/step - loss: 49.5429 - mae: 49.5429\n",
            "Epoch 171/500\n",
            "1/1 [==============================] - 0s 15ms/step - loss: 32.2355 - mae: 32.2355\n",
            "Epoch 172/500\n",
            "1/1 [==============================] - 0s 15ms/step - loss: 81.4688 - mae: 81.4688\n",
            "Epoch 173/500\n",
            "1/1 [==============================] - 0s 14ms/step - loss: 68.9260 - mae: 68.9260\n",
            "Epoch 174/500\n",
            "1/1 [==============================] - 0s 13ms/step - loss: 29.2041 - mae: 29.2041\n",
            "Epoch 175/500\n",
            "1/1 [==============================] - 0s 14ms/step - loss: 96.6380 - mae: 96.6380\n",
            "Epoch 176/500\n",
            "1/1 [==============================] - 0s 13ms/step - loss: 78.3345 - mae: 78.3345\n",
            "Epoch 177/500\n",
            "1/1 [==============================] - 0s 12ms/step - loss: 59.0380 - mae: 59.0380\n",
            "Epoch 178/500\n",
            "1/1 [==============================] - 0s 22ms/step - loss: 2.1882 - mae: 2.1882\n",
            "Epoch 179/500\n",
            "1/1 [==============================] - 0s 19ms/step - loss: 76.8969 - mae: 76.8969\n",
            "Epoch 180/500\n",
            "1/1 [==============================] - 0s 14ms/step - loss: 54.5086 - mae: 54.5086\n",
            "Epoch 181/500\n",
            "1/1 [==============================] - 0s 14ms/step - loss: 16.4097 - mae: 16.4097\n",
            "Epoch 182/500\n",
            "1/1 [==============================] - 0s 14ms/step - loss: 82.1944 - mae: 82.1944\n",
            "Epoch 183/500\n",
            "1/1 [==============================] - 0s 16ms/step - loss: 71.3161 - mae: 71.3161\n",
            "Epoch 184/500\n",
            "1/1 [==============================] - 0s 13ms/step - loss: 36.8685 - mae: 36.8685\n",
            "Epoch 185/500\n",
            "1/1 [==============================] - 0s 22ms/step - loss: 72.2613 - mae: 72.2613\n",
            "Epoch 186/500\n",
            "1/1 [==============================] - 0s 13ms/step - loss: 79.4737 - mae: 79.4737\n",
            "Epoch 187/500\n",
            "1/1 [==============================] - 0s 18ms/step - loss: 62.7387 - mae: 62.7387\n",
            "Epoch 188/500\n",
            "1/1 [==============================] - 0s 17ms/step - loss: 9.7332 - mae: 9.7332\n",
            "Epoch 189/500\n",
            "1/1 [==============================] - 0s 14ms/step - loss: 158.1996 - mae: 158.1996\n",
            "Epoch 190/500\n",
            "1/1 [==============================] - 0s 9ms/step - loss: 75.2977 - mae: 75.2977\n",
            "Epoch 191/500\n",
            "1/1 [==============================] - 0s 9ms/step - loss: 49.5498 - mae: 49.5498\n",
            "Epoch 192/500\n",
            "1/1 [==============================] - 0s 16ms/step - loss: 32.0141 - mae: 32.0141\n",
            "Epoch 193/500\n",
            "1/1 [==============================] - 0s 16ms/step - loss: 81.3920 - mae: 81.3920\n",
            "Epoch 194/500\n",
            "1/1 [==============================] - 0s 15ms/step - loss: 68.8821 - mae: 68.8821\n",
            "Epoch 195/500\n",
            "1/1 [==============================] - 0s 12ms/step - loss: 29.2644 - mae: 29.2644\n",
            "Epoch 196/500\n",
            "1/1 [==============================] - 0s 13ms/step - loss: 96.2477 - mae: 96.2477\n",
            "Epoch 197/500\n",
            "1/1 [==============================] - 0s 13ms/step - loss: 78.2659 - mae: 78.2659\n",
            "Epoch 198/500\n",
            "1/1 [==============================] - 0s 17ms/step - loss: 59.0199 - mae: 59.0199\n",
            "Epoch 199/500\n",
            "1/1 [==============================] - 0s 17ms/step - loss: 2.0720 - mae: 2.0720\n",
            "Epoch 200/500\n",
            "1/1 [==============================] - 0s 28ms/step - loss: 67.6193 - mae: 67.6193\n",
            "Epoch 201/500\n",
            "1/1 [==============================] - 0s 27ms/step - loss: 25.3152 - mae: 25.3152\n",
            "Epoch 202/500\n",
            "1/1 [==============================] - 0s 18ms/step - loss: 108.7091 - mae: 108.7091\n",
            "Epoch 203/500\n",
            "1/1 [==============================] - 0s 21ms/step - loss: 77.6403 - mae: 77.6403\n",
            "Epoch 204/500\n",
            "1/1 [==============================] - 0s 17ms/step - loss: 57.0896 - mae: 57.0896\n",
            "Epoch 205/500\n",
            "1/1 [==============================] - 0s 19ms/step - loss: 8.0062 - mae: 8.0062\n",
            "Epoch 206/500\n",
            "1/1 [==============================] - 0s 17ms/step - loss: 82.5019 - mae: 82.5019\n",
            "Epoch 207/500\n",
            "1/1 [==============================] - 0s 19ms/step - loss: 72.5161 - mae: 72.5161\n",
            "Epoch 208/500\n",
            "1/1 [==============================] - 0s 9ms/step - loss: 40.8964 - mae: 40.8964\n",
            "Epoch 209/500\n",
            "1/1 [==============================] - 0s 16ms/step - loss: 59.2731 - mae: 59.2731\n",
            "Epoch 210/500\n",
            "1/1 [==============================] - 0s 17ms/step - loss: 80.0030 - mae: 80.0030\n",
            "Epoch 211/500\n",
            "1/1 [==============================] - 0s 18ms/step - loss: 64.6414 - mae: 64.6414\n",
            "Epoch 212/500\n",
            "1/1 [==============================] - 0s 14ms/step - loss: 15.9876 - mae: 15.9876\n",
            "Epoch 213/500\n",
            "1/1 [==============================] - 0s 16ms/step - loss: 138.1563 - mae: 138.1563\n",
            "Epoch 214/500\n",
            "1/1 [==============================] - 0s 21ms/step - loss: 76.1683 - mae: 76.1683\n",
            "Epoch 215/500\n",
            "1/1 [==============================] - 0s 20ms/step - loss: 52.5338 - mae: 52.5338\n",
            "Epoch 216/500\n",
            "1/1 [==============================] - 0s 20ms/step - loss: 22.3333 - mae: 22.3333\n",
            "Epoch 217/500\n",
            "1/1 [==============================] - 0s 15ms/step - loss: 81.7613 - mae: 81.7613\n",
            "Epoch 218/500\n",
            "1/1 [==============================] - 0s 17ms/step - loss: 70.2778 - mae: 70.2778\n",
            "Epoch 219/500\n",
            "1/1 [==============================] - 0s 10ms/step - loss: 33.9125 - mae: 33.9125\n",
            "Epoch 220/500\n",
            "1/1 [==============================] - 0s 13ms/step - loss: 81.2940 - mae: 81.2940\n",
            "Epoch 221/500\n",
            "1/1 [==============================] - 0s 12ms/step - loss: 78.8903 - mae: 78.8903\n",
            "Epoch 222/500\n",
            "1/1 [==============================] - 0s 24ms/step - loss: 61.2238 - mae: 61.2238\n",
            "Epoch 223/500\n",
            "1/1 [==============================] - 0s 15ms/step - loss: 5.2672 - mae: 5.2672\n",
            "Epoch 224/500\n",
            "1/1 [==============================] - 0s 15ms/step - loss: 172.0170 - mae: 172.0170\n",
            "Epoch 225/500\n",
            "1/1 [==============================] - 0s 14ms/step - loss: 74.4828 - mae: 74.4828\n",
            "Epoch 226/500\n",
            "1/1 [==============================] - 0s 14ms/step - loss: 47.3016 - mae: 47.3016\n",
            "Epoch 227/500\n",
            "1/1 [==============================] - 0s 14ms/step - loss: 38.8039 - mae: 38.8039\n",
            "Epoch 228/500\n",
            "1/1 [==============================] - 0s 13ms/step - loss: 80.9170 - mae: 80.9170\n",
            "Epoch 229/500\n",
            "1/1 [==============================] - 0s 14ms/step - loss: 67.7110 - mae: 67.7110\n",
            "Epoch 230/500\n",
            "1/1 [==============================] - 0s 17ms/step - loss: 25.8876 - mae: 25.8876\n",
            "Epoch 231/500\n",
            "1/1 [==============================] - 0s 14ms/step - loss: 106.6134 - mae: 106.6134\n",
            "Epoch 232/500\n",
            "1/1 [==============================] - 0s 17ms/step - loss: 77.6179 - mae: 77.6179\n",
            "Epoch 233/500\n",
            "1/1 [==============================] - 0s 21ms/step - loss: 57.3007 - mae: 57.3007\n",
            "Epoch 234/500\n",
            "1/1 [==============================] - 0s 18ms/step - loss: 7.0552 - mae: 7.0552\n",
            "Epoch 235/500\n",
            "1/1 [==============================] - 0s 14ms/step - loss: 82.4242 - mae: 82.4242\n",
            "Epoch 236/500\n",
            "1/1 [==============================] - 0s 14ms/step - loss: 72.5518 - mae: 72.5518\n",
            "Epoch 237/500\n",
            "1/1 [==============================] - 0s 20ms/step - loss: 41.2914 - mae: 41.2914\n",
            "Epoch 238/500\n",
            "1/1 [==============================] - 0s 17ms/step - loss: 57.7396 - mae: 57.7396\n",
            "Epoch 239/500\n",
            "1/1 [==============================] - 0s 16ms/step - loss: 79.9535 - mae: 79.9535\n",
            "Epoch 240/500\n",
            "1/1 [==============================] - 0s 19ms/step - loss: 64.7663 - mae: 64.7663\n",
            "Epoch 241/500\n",
            "1/1 [==============================] - 0s 27ms/step - loss: 16.6655 - mae: 16.6655\n",
            "Epoch 242/500\n",
            "1/1 [==============================] - 0s 21ms/step - loss: 135.7263 - mae: 135.7263\n",
            "Epoch 243/500\n",
            "1/1 [==============================] - 0s 18ms/step - loss: 76.1621 - mae: 76.1621\n",
            "Epoch 244/500\n",
            "1/1 [==============================] - 0s 24ms/step - loss: 52.7962 - mae: 52.7962\n",
            "Epoch 245/500\n",
            "1/1 [==============================] - 0s 40ms/step - loss: 21.2201 - mae: 21.2201\n",
            "Epoch 246/500\n",
            "1/1 [==============================] - 0s 29ms/step - loss: 81.6915 - mae: 81.6915\n",
            "Epoch 247/500\n",
            "1/1 [==============================] - 0s 49ms/step - loss: 70.3384 - mae: 70.3384\n",
            "Epoch 248/500\n",
            "1/1 [==============================] - 0s 41ms/step - loss: 34.3863 - mae: 34.3863\n",
            "Epoch 249/500\n",
            "1/1 [==============================] - 0s 28ms/step - loss: 79.5108 - mae: 79.5108\n",
            "Epoch 250/500\n",
            "1/1 [==============================] - 0s 18ms/step - loss: 78.8528 - mae: 78.8528\n",
            "Epoch 251/500\n",
            "1/1 [==============================] - 0s 14ms/step - loss: 61.3871 - mae: 61.3871\n",
            "Epoch 252/500\n",
            "1/1 [==============================] - 0s 17ms/step - loss: 6.0664 - mae: 6.0664\n",
            "Epoch 253/500\n",
            "1/1 [==============================] - 0s 11ms/step - loss: 169.2027 - mae: 169.2027\n",
            "Epoch 254/500\n",
            "1/1 [==============================] - 0s 22ms/step - loss: 74.4952 - mae: 74.4952\n",
            "Epoch 255/500\n",
            "1/1 [==============================] - 0s 11ms/step - loss: 47.6228 - mae: 47.6228\n",
            "Epoch 256/500\n",
            "1/1 [==============================] - 0s 12ms/step - loss: 37.5040 - mae: 37.5040\n",
            "Epoch 257/500\n",
            "1/1 [==============================] - 0s 22ms/step - loss: 80.8562 - mae: 80.8562\n",
            "Epoch 258/500\n",
            "1/1 [==============================] - 0s 22ms/step - loss: 67.8001 - mae: 67.8001\n",
            "Epoch 259/500\n",
            "1/1 [==============================] - 0s 18ms/step - loss: 26.4521 - mae: 26.4521\n",
            "Epoch 260/500\n",
            "1/1 [==============================] - 0s 9ms/step - loss: 104.5429 - mae: 104.5429\n",
            "Epoch 261/500\n",
            "1/1 [==============================] - 0s 16ms/step - loss: 77.5944 - mae: 77.5944\n",
            "Epoch 262/500\n",
            "1/1 [==============================] - 0s 12ms/step - loss: 57.5080 - mae: 57.5080\n",
            "Epoch 263/500\n",
            "1/1 [==============================] - 0s 23ms/step - loss: 6.1165 - mae: 6.1165\n",
            "Epoch 264/500\n",
            "1/1 [==============================] - 0s 11ms/step - loss: 82.3459 - mae: 82.3459\n",
            "Epoch 265/500\n",
            "1/1 [==============================] - 0s 14ms/step - loss: 72.5856 - mae: 72.5856\n",
            "Epoch 266/500\n",
            "1/1 [==============================] - 0s 13ms/step - loss: 41.6804 - mae: 41.6804\n",
            "Epoch 267/500\n",
            "1/1 [==============================] - 0s 17ms/step - loss: 56.2251 - mae: 56.2251\n",
            "Epoch 268/500\n",
            "1/1 [==============================] - 0s 15ms/step - loss: 79.9030 - mae: 79.9030\n",
            "Epoch 269/500\n",
            "1/1 [==============================] - 0s 15ms/step - loss: 64.8884 - mae: 64.8884\n",
            "Epoch 270/500\n",
            "1/1 [==============================] - 0s 16ms/step - loss: 17.3342 - mae: 17.3342\n",
            "Epoch 271/500\n",
            "1/1 [==============================] - 0s 20ms/step - loss: 133.3255 - mae: 133.3255\n",
            "Epoch 272/500\n",
            "1/1 [==============================] - 0s 14ms/step - loss: 76.1545 - mae: 76.1545\n",
            "Epoch 273/500\n",
            "1/1 [==============================] - 0s 14ms/step - loss: 53.0541 - mae: 53.0541\n",
            "Epoch 274/500\n",
            "1/1 [==============================] - 0s 16ms/step - loss: 20.1209 - mae: 20.1209\n",
            "Epoch 275/500\n",
            "1/1 [==============================] - 0s 16ms/step - loss: 81.6209 - mae: 81.6209\n",
            "Epoch 276/500\n",
            "1/1 [==============================] - 0s 14ms/step - loss: 70.3968 - mae: 70.3968\n",
            "Epoch 277/500\n",
            "1/1 [==============================] - 0s 14ms/step - loss: 34.8532 - mae: 34.8532\n",
            "Epoch 278/500\n",
            "1/1 [==============================] - 0s 57ms/step - loss: 77.7492 - mae: 77.7492\n",
            "Epoch 279/500\n",
            "1/1 [==============================] - 0s 16ms/step - loss: 78.8143 - mae: 78.8143\n",
            "Epoch 280/500\n",
            "1/1 [==============================] - 0s 13ms/step - loss: 61.5470 - mae: 61.5470\n",
            "Epoch 281/500\n",
            "1/1 [==============================] - 0s 15ms/step - loss: 6.8550 - mae: 6.8550\n",
            "Epoch 282/500\n",
            "1/1 [==============================] - 0s 20ms/step - loss: 166.4218 - mae: 166.4218\n",
            "Epoch 283/500\n",
            "1/1 [==============================] - 0s 18ms/step - loss: 74.5060 - mae: 74.5060\n",
            "Epoch 284/500\n",
            "1/1 [==============================] - 0s 18ms/step - loss: 47.9390 - mae: 47.9390\n",
            "Epoch 285/500\n",
            "1/1 [==============================] - 0s 25ms/step - loss: 36.2203 - mae: 36.2203\n",
            "Epoch 286/500\n",
            "1/1 [==============================] - 0s 22ms/step - loss: 80.7946 - mae: 80.7946\n",
            "Epoch 287/500\n",
            "1/1 [==============================] - 0s 15ms/step - loss: 67.8868 - mae: 67.8868\n",
            "Epoch 288/500\n",
            "1/1 [==============================] - 0s 11ms/step - loss: 27.0087 - mae: 27.0087\n",
            "Epoch 289/500\n",
            "1/1 [==============================] - 0s 18ms/step - loss: 102.4974 - mae: 102.4974\n",
            "Epoch 290/500\n",
            "1/1 [==============================] - 0s 16ms/step - loss: 77.5696 - mae: 77.5696\n",
            "Epoch 291/500\n",
            "1/1 [==============================] - 0s 15ms/step - loss: 57.7115 - mae: 57.7115\n",
            "Epoch 292/500\n",
            "1/1 [==============================] - 0s 13ms/step - loss: 5.1899 - mae: 5.1899\n",
            "Epoch 293/500\n",
            "1/1 [==============================] - 0s 19ms/step - loss: 82.2670 - mae: 82.2670\n",
            "Epoch 294/500\n",
            "1/1 [==============================] - 0s 19ms/step - loss: 72.6175 - mae: 72.6175\n",
            "Epoch 295/500\n",
            "1/1 [==============================] - 0s 10ms/step - loss: 42.0635 - mae: 42.0635\n",
            "Epoch 296/500\n",
            "1/1 [==============================] - 0s 14ms/step - loss: 54.7291 - mae: 54.7291\n",
            "Epoch 297/500\n",
            "1/1 [==============================] - 0s 14ms/step - loss: 79.8517 - mae: 79.8517\n",
            "Epoch 298/500\n",
            "1/1 [==============================] - 0s 14ms/step - loss: 65.0076 - mae: 65.0076\n",
            "Epoch 299/500\n",
            "1/1 [==============================] - 0s 21ms/step - loss: 17.9939 - mae: 17.9939\n",
            "Epoch 300/500\n",
            "1/1 [==============================] - 0s 21ms/step - loss: 130.9534 - mae: 130.9534\n",
            "Epoch 301/500\n",
            "1/1 [==============================] - 0s 28ms/step - loss: 76.1456 - mae: 76.1456\n",
            "Epoch 302/500\n",
            "1/1 [==============================] - 0s 19ms/step - loss: 53.3076 - mae: 53.3076\n",
            "Epoch 303/500\n",
            "1/1 [==============================] - 0s 15ms/step - loss: 19.0357 - mae: 19.0357\n",
            "Epoch 304/500\n",
            "1/1 [==============================] - 0s 19ms/step - loss: 81.5497 - mae: 81.5497\n",
            "Epoch 305/500\n",
            "1/1 [==============================] - 0s 15ms/step - loss: 70.4530 - mae: 70.4530\n",
            "Epoch 306/500\n",
            "1/1 [==============================] - 0s 14ms/step - loss: 35.3134 - mae: 35.3134\n",
            "Epoch 307/500\n",
            "1/1 [==============================] - 0s 16ms/step - loss: 76.0092 - mae: 76.0092\n",
            "Epoch 308/500\n",
            "1/1 [==============================] - 0s 14ms/step - loss: 78.7747 - mae: 78.7747\n",
            "Epoch 309/500\n",
            "1/1 [==============================] - 0s 14ms/step - loss: 61.7036 - mae: 61.7036\n",
            "Epoch 310/500\n",
            "1/1 [==============================] - 0s 15ms/step - loss: 7.6332 - mae: 7.6332\n",
            "Epoch 311/500\n",
            "1/1 [==============================] - 0s 13ms/step - loss: 163.6741 - mae: 163.6741\n",
            "Epoch 312/500\n",
            "1/1 [==============================] - 0s 17ms/step - loss: 74.5152 - mae: 74.5152\n",
            "Epoch 313/500\n",
            "1/1 [==============================] - 0s 18ms/step - loss: 48.2501 - mae: 48.2501\n",
            "Epoch 314/500\n",
            "1/1 [==============================] - 0s 14ms/step - loss: 34.9526 - mae: 34.9526\n",
            "Epoch 315/500\n",
            "1/1 [==============================] - 0s 15ms/step - loss: 80.7322 - mae: 80.7322\n",
            "Epoch 316/500\n",
            "1/1 [==============================] - 0s 33ms/step - loss: 67.9710 - mae: 67.9710\n",
            "Epoch 317/500\n",
            "1/1 [==============================] - 0s 22ms/step - loss: 27.5574 - mae: 27.5574\n",
            "Epoch 318/500\n",
            "1/1 [==============================] - 0s 23ms/step - loss: 100.4766 - mae: 100.4766\n",
            "Epoch 319/500\n",
            "1/1 [==============================] - 0s 22ms/step - loss: 77.5436 - mae: 77.5436\n",
            "Epoch 320/500\n",
            "1/1 [==============================] - 0s 26ms/step - loss: 57.9111 - mae: 57.9111\n",
            "Epoch 321/500\n",
            "1/1 [==============================] - 0s 12ms/step - loss: 4.2754 - mae: 4.2754\n",
            "Epoch 322/500\n",
            "1/1 [==============================] - 0s 25ms/step - loss: 82.1875 - mae: 82.1875\n",
            "Epoch 323/500\n",
            "1/1 [==============================] - 0s 21ms/step - loss: 72.6476 - mae: 72.6476\n",
            "Epoch 324/500\n",
            "1/1 [==============================] - 0s 16ms/step - loss: 42.4408 - mae: 42.4408\n",
            "Epoch 325/500\n",
            "1/1 [==============================] - 0s 23ms/step - loss: 53.2518 - mae: 53.2518\n",
            "Epoch 326/500\n",
            "1/1 [==============================] - 0s 18ms/step - loss: 79.7994 - mae: 79.7994\n",
            "Epoch 327/500\n",
            "1/1 [==============================] - 0s 19ms/step - loss: 65.1240 - mae: 65.1240\n",
            "Epoch 328/500\n",
            "1/1 [==============================] - 0s 20ms/step - loss: 18.6445 - mae: 18.6445\n",
            "Epoch 329/500\n",
            "1/1 [==============================] - 0s 19ms/step - loss: 128.6099 - mae: 128.6099\n",
            "Epoch 330/500\n",
            "1/1 [==============================] - 0s 21ms/step - loss: 76.1352 - mae: 76.1352\n",
            "Epoch 331/500\n",
            "1/1 [==============================] - 0s 14ms/step - loss: 53.5567 - mae: 53.5567\n",
            "Epoch 332/500\n",
            "1/1 [==============================] - 0s 18ms/step - loss: 17.9644 - mae: 17.9644\n",
            "Epoch 333/500\n",
            "1/1 [==============================] - 0s 15ms/step - loss: 81.4778 - mae: 81.4778\n",
            "Epoch 334/500\n",
            "1/1 [==============================] - 0s 9ms/step - loss: 70.5071 - mae: 70.5071\n",
            "Epoch 335/500\n",
            "1/1 [==============================] - 0s 17ms/step - loss: 35.7668 - mae: 35.7668\n",
            "Epoch 336/500\n",
            "1/1 [==============================] - 0s 14ms/step - loss: 74.2906 - mae: 74.2906\n",
            "Epoch 337/500\n",
            "1/1 [==============================] - 0s 16ms/step - loss: 78.7342 - mae: 78.7342\n",
            "Epoch 338/500\n",
            "1/1 [==============================] - 0s 16ms/step - loss: 61.8570 - mae: 61.8570\n",
            "Epoch 339/500\n",
            "1/1 [==============================] - 0s 18ms/step - loss: 8.4010 - mae: 8.4010\n",
            "Epoch 340/500\n",
            "1/1 [==============================] - 0s 36ms/step - loss: 160.9592 - mae: 160.9592\n",
            "Epoch 341/500\n",
            "1/1 [==============================] - 0s 20ms/step - loss: 74.5228 - mae: 74.5228\n",
            "Epoch 342/500\n",
            "1/1 [==============================] - 0s 20ms/step - loss: 48.5561 - mae: 48.5561\n",
            "Epoch 343/500\n",
            "1/1 [==============================] - 0s 27ms/step - loss: 33.7010 - mae: 33.7010\n",
            "Epoch 344/500\n",
            "1/1 [==============================] - 0s 9ms/step - loss: 80.6690 - mae: 80.6690\n",
            "Epoch 345/500\n",
            "1/1 [==============================] - 0s 16ms/step - loss: 68.0528 - mae: 68.0528\n",
            "Epoch 346/500\n",
            "1/1 [==============================] - 0s 18ms/step - loss: 28.0985 - mae: 28.0985\n",
            "Epoch 347/500\n",
            "1/1 [==============================] - 0s 15ms/step - loss: 98.4804 - mae: 98.4804\n",
            "Epoch 348/500\n",
            "1/1 [==============================] - 0s 19ms/step - loss: 77.5165 - mae: 77.5165\n",
            "Epoch 349/500\n",
            "1/1 [==============================] - 0s 23ms/step - loss: 58.1070 - mae: 58.1070\n",
            "Epoch 350/500\n",
            "1/1 [==============================] - 0s 19ms/step - loss: 3.3727 - mae: 3.3727\n",
            "Epoch 351/500\n",
            "1/1 [==============================] - 0s 18ms/step - loss: 82.1075 - mae: 82.1075\n",
            "Epoch 352/500\n",
            "1/1 [==============================] - 0s 9ms/step - loss: 72.6759 - mae: 72.6759\n",
            "Epoch 353/500\n",
            "1/1 [==============================] - 0s 9ms/step - loss: 42.8123 - mae: 42.8123\n",
            "Epoch 354/500\n",
            "1/1 [==============================] - 0s 27ms/step - loss: 51.7926 - mae: 51.7926\n",
            "Epoch 355/500\n",
            "1/1 [==============================] - 0s 17ms/step - loss: 79.7463 - mae: 79.7463\n",
            "Epoch 356/500\n",
            "1/1 [==============================] - 0s 17ms/step - loss: 65.2375 - mae: 65.2375\n",
            "Epoch 357/500\n",
            "1/1 [==============================] - 0s 14ms/step - loss: 19.2864 - mae: 19.2864\n",
            "Epoch 358/500\n",
            "1/1 [==============================] - 0s 12ms/step - loss: 126.2942 - mae: 126.2942\n",
            "Epoch 359/500\n",
            "1/1 [==============================] - 0s 34ms/step - loss: 76.1235 - mae: 76.1235\n",
            "Epoch 360/500\n",
            "1/1 [==============================] - 0s 31ms/step - loss: 53.8016 - mae: 53.8016\n",
            "Epoch 361/500\n",
            "1/1 [==============================] - 0s 27ms/step - loss: 16.9066 - mae: 16.9066\n",
            "Epoch 362/500\n",
            "1/1 [==============================] - 0s 33ms/step - loss: 81.4053 - mae: 81.4053\n",
            "Epoch 363/500\n",
            "1/1 [==============================] - 0s 19ms/step - loss: 70.5592 - mae: 70.5592\n",
            "Epoch 364/500\n",
            "1/1 [==============================] - 0s 22ms/step - loss: 36.2137 - mae: 36.2137\n",
            "Epoch 365/500\n",
            "1/1 [==============================] - 0s 26ms/step - loss: 72.5927 - mae: 72.5927\n",
            "Epoch 366/500\n",
            "1/1 [==============================] - 0s 14ms/step - loss: 78.6926 - mae: 78.6926\n",
            "Epoch 367/500\n",
            "1/1 [==============================] - 0s 15ms/step - loss: 62.0071 - mae: 62.0071\n",
            "Epoch 368/500\n",
            "1/1 [==============================] - 0s 18ms/step - loss: 9.1588 - mae: 9.1588\n",
            "Epoch 369/500\n",
            "1/1 [==============================] - 0s 26ms/step - loss: 158.2764 - mae: 158.2764\n",
            "Epoch 370/500\n",
            "1/1 [==============================] - 0s 14ms/step - loss: 74.5289 - mae: 74.5289\n",
            "Epoch 371/500\n",
            "1/1 [==============================] - 0s 15ms/step - loss: 48.8573 - mae: 48.8573\n",
            "Epoch 372/500\n",
            "1/1 [==============================] - 0s 19ms/step - loss: 32.4649 - mae: 32.4649\n",
            "Epoch 373/500\n",
            "1/1 [==============================] - 0s 18ms/step - loss: 80.6051 - mae: 80.6051\n",
            "Epoch 374/500\n",
            "1/1 [==============================] - 0s 11ms/step - loss: 68.1322 - mae: 68.1322\n",
            "Epoch 375/500\n",
            "1/1 [==============================] - 0s 14ms/step - loss: 28.6319 - mae: 28.6319\n",
            "Epoch 376/500\n",
            "1/1 [==============================] - 0s 14ms/step - loss: 96.5081 - mae: 96.5081\n",
            "Epoch 377/500\n",
            "1/1 [==============================] - 0s 17ms/step - loss: 77.4882 - mae: 77.4882\n",
            "Epoch 378/500\n",
            "1/1 [==============================] - 0s 10ms/step - loss: 58.2992 - mae: 58.2992\n",
            "Epoch 379/500\n",
            "1/1 [==============================] - 0s 10ms/step - loss: 2.4834 - mae: 2.4834\n",
            "Epoch 380/500\n",
            "1/1 [==============================] - 0s 14ms/step - loss: 76.0585 - mae: 76.0585\n",
            "Epoch 381/500\n",
            "1/1 [==============================] - 0s 31ms/step - loss: 53.7950 - mae: 53.7950\n",
            "Epoch 382/500\n",
            "1/1 [==============================] - 0s 24ms/step - loss: 16.7278 - mae: 16.7278\n",
            "Epoch 383/500\n",
            "1/1 [==============================] - 0s 27ms/step - loss: 81.3264 - mae: 81.3264\n",
            "Epoch 384/500\n",
            "1/1 [==============================] - 0s 17ms/step - loss: 70.5087 - mae: 70.5087\n",
            "Epoch 385/500\n",
            "1/1 [==============================] - 0s 21ms/step - loss: 36.2532 - mae: 36.2532\n",
            "Epoch 386/500\n",
            "1/1 [==============================] - 0s 17ms/step - loss: 72.2680 - mae: 72.2680\n",
            "Epoch 387/500\n",
            "1/1 [==============================] - 0s 22ms/step - loss: 78.6208 - mae: 78.6208\n",
            "Epoch 388/500\n",
            "1/1 [==============================] - 0s 18ms/step - loss: 61.9790 - mae: 61.9790\n",
            "Epoch 389/500\n",
            "1/1 [==============================] - 0s 39ms/step - loss: 9.2692 - mae: 9.2692\n",
            "Epoch 390/500\n",
            "1/1 [==============================] - 0s 19ms/step - loss: 157.7270 - mae: 157.7270\n",
            "Epoch 391/500\n",
            "1/1 [==============================] - 0s 23ms/step - loss: 74.4679 - mae: 74.4679\n",
            "Epoch 392/500\n",
            "1/1 [==============================] - 0s 15ms/step - loss: 48.8636 - mae: 48.8636\n",
            "Epoch 393/500\n",
            "1/1 [==============================] - 0s 12ms/step - loss: 32.2454 - mae: 32.2454\n",
            "Epoch 394/500\n",
            "1/1 [==============================] - 0s 16ms/step - loss: 80.5282 - mae: 80.5282\n",
            "Epoch 395/500\n",
            "1/1 [==============================] - 0s 18ms/step - loss: 68.0880 - mae: 68.0880\n",
            "Epoch 396/500\n",
            "1/1 [==============================] - 0s 33ms/step - loss: 28.6912 - mae: 28.6912\n",
            "Epoch 397/500\n",
            "1/1 [==============================] - 0s 16ms/step - loss: 96.1208 - mae: 96.1208\n",
            "Epoch 398/500\n",
            "1/1 [==============================] - 0s 15ms/step - loss: 77.4194 - mae: 77.4194\n",
            "Epoch 399/500\n",
            "1/1 [==============================] - 0s 15ms/step - loss: 58.2807 - mae: 58.2807\n",
            "Epoch 400/500\n",
            "1/1 [==============================] - 0s 17ms/step - loss: 2.3600 - mae: 2.3600\n",
            "Epoch 401/500\n",
            "1/1 [==============================] - 0s 28ms/step - loss: 75.9934 - mae: 75.9934\n",
            "Epoch 402/500\n",
            "1/1 [==============================] - 0s 15ms/step - loss: 53.7883 - mae: 53.7883\n",
            "Epoch 403/500\n",
            "1/1 [==============================] - 0s 14ms/step - loss: 16.5497 - mae: 16.5497\n",
            "Epoch 404/500\n",
            "1/1 [==============================] - 0s 18ms/step - loss: 81.2474 - mae: 81.2474\n",
            "Epoch 405/500\n",
            "1/1 [==============================] - 0s 30ms/step - loss: 70.4581 - mae: 70.4581\n",
            "Epoch 406/500\n",
            "1/1 [==============================] - 0s 12ms/step - loss: 36.2924 - mae: 36.2924\n",
            "Epoch 407/500\n",
            "1/1 [==============================] - 0s 15ms/step - loss: 71.9443 - mae: 71.9443\n",
            "Epoch 408/500\n",
            "1/1 [==============================] - 0s 25ms/step - loss: 78.5489 - mae: 78.5489\n",
            "Epoch 409/500\n",
            "1/1 [==============================] - 0s 20ms/step - loss: 61.9507 - mae: 61.9507\n",
            "Epoch 410/500\n",
            "1/1 [==============================] - 0s 28ms/step - loss: 9.3790 - mae: 9.3790\n",
            "Epoch 411/500\n",
            "1/1 [==============================] - 0s 23ms/step - loss: 157.1794 - mae: 157.1794\n",
            "Epoch 412/500\n",
            "1/1 [==============================] - 0s 27ms/step - loss: 74.4069 - mae: 74.4069\n",
            "Epoch 413/500\n",
            "1/1 [==============================] - 0s 17ms/step - loss: 48.8696 - mae: 48.8696\n",
            "Epoch 414/500\n",
            "1/1 [==============================] - 0s 14ms/step - loss: 32.0268 - mae: 32.0268\n",
            "Epoch 415/500\n",
            "1/1 [==============================] - 0s 22ms/step - loss: 80.4512 - mae: 80.4512\n",
            "Epoch 416/500\n",
            "1/1 [==============================] - 0s 19ms/step - loss: 68.0435 - mae: 68.0435\n",
            "Epoch 417/500\n",
            "1/1 [==============================] - 0s 24ms/step - loss: 28.7500 - mae: 28.7500\n",
            "Epoch 418/500\n",
            "1/1 [==============================] - 0s 28ms/step - loss: 95.7348 - mae: 95.7348\n",
            "Epoch 419/500\n",
            "1/1 [==============================] - 0s 18ms/step - loss: 77.3505 - mae: 77.3505\n",
            "Epoch 420/500\n",
            "1/1 [==============================] - 0s 16ms/step - loss: 58.2619 - mae: 58.2619\n",
            "Epoch 421/500\n",
            "1/1 [==============================] - 0s 14ms/step - loss: 2.2371 - mae: 2.2371\n",
            "Epoch 422/500\n",
            "1/1 [==============================] - 0s 14ms/step - loss: 75.9282 - mae: 75.9282\n",
            "Epoch 423/500\n",
            "1/1 [==============================] - 0s 12ms/step - loss: 53.7812 - mae: 53.7812\n",
            "Epoch 424/500\n",
            "1/1 [==============================] - 0s 12ms/step - loss: 16.3725 - mae: 16.3725\n",
            "Epoch 425/500\n",
            "1/1 [==============================] - 0s 10ms/step - loss: 81.1684 - mae: 81.1684\n",
            "Epoch 426/500\n",
            "1/1 [==============================] - 0s 15ms/step - loss: 70.4074 - mae: 70.4074\n",
            "Epoch 427/500\n",
            "1/1 [==============================] - 0s 10ms/step - loss: 36.3312 - mae: 36.3312\n",
            "Epoch 428/500\n",
            "1/1 [==============================] - 0s 14ms/step - loss: 71.6220 - mae: 71.6220\n",
            "Epoch 429/500\n",
            "1/1 [==============================] - 0s 12ms/step - loss: 78.4769 - mae: 78.4769\n",
            "Epoch 430/500\n",
            "1/1 [==============================] - 0s 14ms/step - loss: 61.9222 - mae: 61.9222\n",
            "Epoch 431/500\n",
            "1/1 [==============================] - 0s 18ms/step - loss: 9.4882 - mae: 9.4882\n",
            "Epoch 432/500\n",
            "1/1 [==============================] - 0s 17ms/step - loss: 156.6339 - mae: 156.6339\n",
            "Epoch 433/500\n",
            "1/1 [==============================] - 0s 11ms/step - loss: 74.3457 - mae: 74.3457\n",
            "Epoch 434/500\n",
            "1/1 [==============================] - 0s 13ms/step - loss: 48.8753 - mae: 48.8753\n",
            "Epoch 435/500\n",
            "1/1 [==============================] - 0s 21ms/step - loss: 31.8091 - mae: 31.8091\n",
            "Epoch 436/500\n",
            "1/1 [==============================] - 0s 35ms/step - loss: 80.3742 - mae: 80.3742\n",
            "Epoch 437/500\n",
            "1/1 [==============================] - 0s 17ms/step - loss: 67.9990 - mae: 67.9990\n",
            "Epoch 438/500\n",
            "1/1 [==============================] - 0s 13ms/step - loss: 28.8084 - mae: 28.8084\n",
            "Epoch 439/500\n",
            "1/1 [==============================] - 0s 20ms/step - loss: 95.3502 - mae: 95.3502\n",
            "Epoch 440/500\n",
            "1/1 [==============================] - 0s 16ms/step - loss: 77.2815 - mae: 77.2815\n",
            "Epoch 441/500\n",
            "1/1 [==============================] - 0s 13ms/step - loss: 58.2430 - mae: 58.2430\n",
            "Epoch 442/500\n",
            "1/1 [==============================] - 0s 37ms/step - loss: 2.1149 - mae: 2.1149\n",
            "Epoch 443/500\n",
            "1/1 [==============================] - 0s 36ms/step - loss: 75.8629 - mae: 75.8629\n",
            "Epoch 444/500\n",
            "1/1 [==============================] - 0s 20ms/step - loss: 53.7740 - mae: 53.7740\n",
            "Epoch 445/500\n",
            "1/1 [==============================] - 0s 17ms/step - loss: 16.1960 - mae: 16.1960\n",
            "Epoch 446/500\n",
            "1/1 [==============================] - 0s 15ms/step - loss: 81.0894 - mae: 81.0894\n",
            "Epoch 447/500\n",
            "1/1 [==============================] - 0s 20ms/step - loss: 70.3565 - mae: 70.3565\n",
            "Epoch 448/500\n",
            "1/1 [==============================] - 0s 20ms/step - loss: 36.3695 - mae: 36.3695\n",
            "Epoch 449/500\n",
            "1/1 [==============================] - 0s 37ms/step - loss: 71.3008 - mae: 71.3008\n",
            "Epoch 450/500\n",
            "1/1 [==============================] - 0s 22ms/step - loss: 78.4049 - mae: 78.4049\n",
            "Epoch 451/500\n",
            "1/1 [==============================] - 0s 23ms/step - loss: 61.8935 - mae: 61.8935\n",
            "Epoch 452/500\n",
            "1/1 [==============================] - 0s 20ms/step - loss: 9.5969 - mae: 9.5969\n",
            "Epoch 453/500\n",
            "1/1 [==============================] - 0s 15ms/step - loss: 156.0900 - mae: 156.0900\n",
            "Epoch 454/500\n",
            "1/1 [==============================] - 0s 12ms/step - loss: 74.2844 - mae: 74.2844\n",
            "Epoch 455/500\n",
            "1/1 [==============================] - 0s 11ms/step - loss: 48.8808 - mae: 48.8808\n",
            "Epoch 456/500\n",
            "1/1 [==============================] - 0s 9ms/step - loss: 31.5923 - mae: 31.5923\n",
            "Epoch 457/500\n",
            "1/1 [==============================] - 0s 11ms/step - loss: 80.2971 - mae: 80.2971\n",
            "Epoch 458/500\n",
            "1/1 [==============================] - 0s 10ms/step - loss: 67.9543 - mae: 67.9543\n",
            "Epoch 459/500\n",
            "1/1 [==============================] - 0s 10ms/step - loss: 28.8664 - mae: 28.8664\n",
            "Epoch 460/500\n",
            "1/1 [==============================] - 0s 10ms/step - loss: 94.9670 - mae: 94.9670\n",
            "Epoch 461/500\n",
            "1/1 [==============================] - 0s 12ms/step - loss: 77.2125 - mae: 77.2125\n",
            "Epoch 462/500\n",
            "1/1 [==============================] - 0s 16ms/step - loss: 58.2238 - mae: 58.2238\n",
            "Epoch 463/500\n",
            "1/1 [==============================] - 0s 18ms/step - loss: 1.9932 - mae: 1.9932\n",
            "Epoch 464/500\n",
            "1/1 [==============================] - 0s 12ms/step - loss: 75.7976 - mae: 75.7976\n",
            "Epoch 465/500\n",
            "1/1 [==============================] - 0s 9ms/step - loss: 53.7665 - mae: 53.7665\n",
            "Epoch 466/500\n",
            "1/1 [==============================] - 0s 13ms/step - loss: 16.0202 - mae: 16.0202\n",
            "Epoch 467/500\n",
            "1/1 [==============================] - 0s 16ms/step - loss: 81.0104 - mae: 81.0104\n",
            "Epoch 468/500\n",
            "1/1 [==============================] - 0s 25ms/step - loss: 70.3056 - mae: 70.3056\n",
            "Epoch 469/500\n",
            "1/1 [==============================] - 0s 30ms/step - loss: 36.4076 - mae: 36.4076\n",
            "Epoch 470/500\n",
            "1/1 [==============================] - 0s 12ms/step - loss: 70.9808 - mae: 70.9808\n",
            "Epoch 471/500\n",
            "1/1 [==============================] - 0s 19ms/step - loss: 78.3328 - mae: 78.3328\n",
            "Epoch 472/500\n",
            "1/1 [==============================] - 0s 14ms/step - loss: 61.8647 - mae: 61.8647\n",
            "Epoch 473/500\n",
            "1/1 [==============================] - 0s 17ms/step - loss: 9.7050 - mae: 9.7050\n",
            "Epoch 474/500\n",
            "1/1 [==============================] - 0s 36ms/step - loss: 155.5479 - mae: 155.5479\n",
            "Epoch 475/500\n",
            "1/1 [==============================] - 0s 24ms/step - loss: 74.2231 - mae: 74.2231\n",
            "Epoch 476/500\n",
            "1/1 [==============================] - 0s 12ms/step - loss: 48.8860 - mae: 48.8860\n",
            "Epoch 477/500\n",
            "1/1 [==============================] - 0s 10ms/step - loss: 31.3763 - mae: 31.3763\n",
            "Epoch 478/500\n",
            "1/1 [==============================] - 0s 9ms/step - loss: 80.2200 - mae: 80.2200\n",
            "Epoch 479/500\n",
            "1/1 [==============================] - 0s 19ms/step - loss: 67.9096 - mae: 67.9096\n",
            "Epoch 480/500\n",
            "1/1 [==============================] - 0s 18ms/step - loss: 28.9240 - mae: 28.9240\n",
            "Epoch 481/500\n",
            "1/1 [==============================] - 0s 10ms/step - loss: 94.5850 - mae: 94.5850\n",
            "Epoch 482/500\n",
            "1/1 [==============================] - 0s 11ms/step - loss: 77.1434 - mae: 77.1434\n",
            "Epoch 483/500\n",
            "1/1 [==============================] - 0s 20ms/step - loss: 58.2045 - mae: 58.2045\n",
            "Epoch 484/500\n",
            "1/1 [==============================] - 0s 15ms/step - loss: 1.8720 - mae: 1.8720\n",
            "Epoch 485/500\n",
            "1/1 [==============================] - 0s 10ms/step - loss: 75.7322 - mae: 75.7322\n",
            "Epoch 486/500\n",
            "1/1 [==============================] - 0s 13ms/step - loss: 53.7588 - mae: 53.7588\n",
            "Epoch 487/500\n",
            "1/1 [==============================] - 0s 14ms/step - loss: 15.8452 - mae: 15.8452\n",
            "Epoch 488/500\n",
            "1/1 [==============================] - 0s 27ms/step - loss: 80.9313 - mae: 80.9313\n",
            "Epoch 489/500\n",
            "1/1 [==============================] - 0s 21ms/step - loss: 70.2545 - mae: 70.2545\n",
            "Epoch 490/500\n",
            "1/1 [==============================] - 0s 27ms/step - loss: 36.4453 - mae: 36.4453\n",
            "Epoch 491/500\n",
            "1/1 [==============================] - 0s 18ms/step - loss: 70.6618 - mae: 70.6618\n",
            "Epoch 492/500\n",
            "1/1 [==============================] - 0s 16ms/step - loss: 78.2607 - mae: 78.2607\n",
            "Epoch 493/500\n",
            "1/1 [==============================] - 0s 18ms/step - loss: 61.8357 - mae: 61.8357\n",
            "Epoch 494/500\n",
            "1/1 [==============================] - 0s 13ms/step - loss: 9.8126 - mae: 9.8126\n",
            "Epoch 495/500\n",
            "1/1 [==============================] - 0s 18ms/step - loss: 155.0075 - mae: 155.0075\n",
            "Epoch 496/500\n",
            "1/1 [==============================] - 0s 17ms/step - loss: 74.1617 - mae: 74.1617\n",
            "Epoch 497/500\n",
            "1/1 [==============================] - 0s 28ms/step - loss: 48.8909 - mae: 48.8909\n",
            "Epoch 498/500\n",
            "1/1 [==============================] - 0s 19ms/step - loss: 31.1612 - mae: 31.1612\n",
            "Epoch 499/500\n",
            "1/1 [==============================] - 0s 15ms/step - loss: 80.1429 - mae: 80.1429\n",
            "Epoch 500/500\n",
            "1/1 [==============================] - 0s 12ms/step - loss: 67.8646 - mae: 67.8646\n"
          ]
        },
        {
          "output_type": "execute_result",
          "data": {
            "text/plain": [
              "<keras.src.callbacks.History at 0x7f2bbeec6500>"
            ]
          },
          "metadata": {},
          "execution_count": 57
        }
      ]
    },
    {
      "cell_type": "code",
      "source": [
        "# Make and plot some predictions\n",
        "y_preds_3 = model_3.predict(X_test)\n",
        "plot_predictions(predictions=y_preds_3)"
      ],
      "metadata": {
        "colab": {
          "base_uri": "https://localhost:8080/",
          "height": 617
        },
        "id": "0ClFtHqJ0bDL",
        "outputId": "c68739af-17e6-4fb7-ead9-ef45ea599130"
      },
      "execution_count": null,
      "outputs": [
        {
          "output_type": "stream",
          "name": "stdout",
          "text": [
            "1/1 [==============================] - 0s 47ms/step\n"
          ]
        },
        {
          "output_type": "display_data",
          "data": {
            "text/plain": [
              "<Figure size 1000x700 with 1 Axes>"
            ],
            "image/png": "[encoded data removed]"
          },
          "metadata": {}
        }
      ]
    },
    {
      "cell_type": "code",
      "source": [
        "# Calculate model_3 evaluation metrics\n",
        "mae_3 = mae(y_test, y_preds_3)\n",
        "mse_3 = mse(y_test, y_preds_3)\n",
        "mae_3, mse_3"
      ],
      "metadata": {
        "colab": {
          "base_uri": "https://localhost:8080/"
        },
        "id": "wN9Lymsz2HhL",
        "outputId": "0338f169-b7ad-420b-8c82-7f15c2f244e2"
      },
      "execution_count": null,
      "outputs": [
        {
          "output_type": "execute_result",
          "data": {
            "text/plain": [
              "(<tf.Tensor: shape=(), dtype=float32, numpy=28.98114>,\n",
              " <tf.Tensor: shape=(), dtype=float32, numpy=849.6625>)"
            ]
          },
          "metadata": {},
          "execution_count": 59
        }
      ]
    },
    {
      "cell_type": "markdown",
      "source": [
        "## Comparing the results of our experiments\n",
        "\n",
        "We've run a few experiments, let's compare the results."
      ],
      "metadata": {
        "id": "kKuAZxmX3G1b"
      }
    },
    {
      "cell_type": "code",
      "source": [
        "# Let's compare our model's results using a pandas DataFrame\n",
        "import pandas as pd\n",
        "\n",
        "model_results = [[\"model_1\", mae_1.numpy(), mse_1.numpy()],\n",
        "                 [\"model_2\", mae_2.numpy(), mse_2.numpy()],\n",
        "                 [\"model_3\", mae_3.numpy(), mse_3.numpy()]]\n",
        "\n",
        "all_results = pd.DataFrame(model_results, columns=[\"model\", \"mae\", \"mse\"])\n",
        "all_results"
      ],
      "metadata": {
        "id": "Kvpw2bH54xM9",
        "outputId": "d7725250-5bd7-48ea-b3dc-c85d954a7839",
        "colab": {
          "base_uri": "https://localhost:8080/",
          "height": 144
        }
      },
      "execution_count": null,
      "outputs": [
        {
          "output_type": "execute_result",
          "data": {
            "text/plain": [
              "     model        mae         mse\n",
              "0  model_1  30.606339  947.169739\n",
              "1  model_2  17.640299  325.752075\n",
              "2  model_3  28.981140  849.662476"
            ],
            "text/html": [
              "\n",
              "  <div id=\"df-6b528c22-7633-4161-849d-b49e3f82251f\" class=\"colab-df-container\">\n",
              "    <div>\n",
              "<style scoped>\n",
              "    .dataframe tbody tr th:only-of-type {\n",
              "        vertical-align: middle;\n",
              "    }\n",
              "\n",
              "    .dataframe tbody tr th {\n",
              "        vertical-align: top;\n",
              "    }\n",
              "\n",
              "    .dataframe thead th {\n",
              "        text-align: right;\n",
              "    }\n",
              "</style>\n",
              "<table border=\"1\" class=\"dataframe\">\n",
              "  <thead>\n",
              "    <tr style=\"text-align: right;\">\n",
              "      <th></th>\n",
              "      <th>model</th>\n",
              "      <th>mae</th>\n",
              "      <th>mse</th>\n",
              "    </tr>\n",
              "  </thead>\n",
              "  <tbody>\n",
              "    <tr>\n",
              "      <th>0</th>\n",
              "      <td>model_1</td>\n",
              "      <td>30.606339</td>\n",
              "      <td>947.169739</td>\n",
              "    </tr>\n",
              "    <tr>\n",
              "      <th>1</th>\n",
              "      <td>model_2</td>\n",
              "      <td>17.640299</td>\n",
              "      <td>325.752075</td>\n",
              "    </tr>\n",
              "    <tr>\n",
              "      <th>2</th>\n",
              "      <td>model_3</td>\n",
              "      <td>28.981140</td>\n",
              "      <td>849.662476</td>\n",
              "    </tr>\n",
              "  </tbody>\n",
              "</table>\n",
              "</div>\n",
              "    <div class=\"colab-df-buttons\">\n",
              "\n",
              "  <div class=\"colab-df-container\">\n",
              "    <button class=\"colab-df-convert\" onclick=\"convertToInteractive('df-6b528c22-7633-4161-849d-b49e3f82251f')\"\n",
              "            title=\"Convert this dataframe to an interactive table.\"\n",
              "            style=\"display:none;\">\n",
              "\n",
              "  <svg xmlns=\"http://www.w3.org/2000/svg\" height=\"24px\" viewBox=\"0 -960 960 960\">\n",
              "    <path d=\"M120-120v-720h720v720H120Zm60-500h600v-160H180v160Zm220 220h160v-160H400v160Zm0 220h160v-160H400v160ZM180-400h160v-160H180v160Zm440 0h160v-160H620v160ZM180-180h160v-160H180v160Zm440 0h160v-160H620v160Z\"/>\n",
              "  </svg>\n",
              "    </button>\n",
              "\n",
              "  <style>\n",
              "    .colab-df-container {\n",
              "      display:flex;\n",
              "      gap: 12px;\n",
              "    }\n",
              "\n",
              "    .colab-df-convert {\n",
              "      background-color: #E8F0FE;\n",
              "      border: none;\n",
              "      border-radius: 50%;\n",
              "      cursor: pointer;\n",
              "      display: none;\n",
              "      fill: #1967D2;\n",
              "      height: 32px;\n",
              "      padding: 0 0 0 0;\n",
              "      width: 32px;\n",
              "    }\n",
              "\n",
              "    .colab-df-convert:hover {\n",
              "      background-color: #E2EBFA;\n",
              "      box-shadow: 0px 1px 2px rgba(60, 64, 67, 0.3), 0px 1px 3px 1px rgba(60, 64, 67, 0.15);\n",
              "      fill: #174EA6;\n",
              "    }\n",
              "\n",
              "    .colab-df-buttons div {\n",
              "      margin-bottom: 4px;\n",
              "    }\n",
              "\n",
              "    [theme=dark] .colab-df-convert {\n",
              "      background-color: #3B4455;\n",
              "      fill: #D2E3FC;\n",
              "    }\n",
              "\n",
              "    [theme=dark] .colab-df-convert:hover {\n",
              "      background-color: #434B5C;\n",
              "      box-shadow: 0px 1px 3px 1px rgba(0, 0, 0, 0.15);\n",
              "      filter: drop-shadow(0px 1px 2px rgba(0, 0, 0, 0.3));\n",
              "      fill: #FFFFFF;\n",
              "    }\n",
              "  </style>\n",
              "\n",
              "    <script>\n",
              "      const buttonEl =\n",
              "        document.querySelector('#df-6b528c22-7633-4161-849d-b49e3f82251f button.colab-df-convert');\n",
              "      buttonEl.style.display =\n",
              "        google.colab.kernel.accessAllowed ? 'block' : 'none';\n",
              "\n",
              "      async function convertToInteractive(key) {\n",
              "        const element = document.querySelector('#df-6b528c22-7633-4161-849d-b49e3f82251f');\n",
              "        const dataTable =\n",
              "          await google.colab.kernel.invokeFunction('convertToInteractive',\n",
              "                                                    [key], {});\n",
              "        if (!dataTable) return;\n",
              "\n",
              "        const docLinkHtml = 'Like what you see? Visit the ' +\n",
              "          '<a target=\"_blank\" href=https://colab.research.google.com/notebooks/data_table.ipynb>data table notebook</a>'\n",
              "          + ' to learn more about interactive tables.';\n",
              "        element.innerHTML = '';\n",
              "        dataTable['output_type'] = 'display_data';\n",
              "        await google.colab.output.renderOutput(dataTable, element);\n",
              "        const docLink = document.createElement('div');\n",
              "        docLink.innerHTML = docLinkHtml;\n",
              "        element.appendChild(docLink);\n",
              "      }\n",
              "    </script>\n",
              "  </div>\n",
              "\n",
              "\n",
              "<div id=\"df-a2549969-17d3-48a9-95b6-a34fc3ae9dcb\">\n",
              "  <button class=\"colab-df-quickchart\" onclick=\"quickchart('df-a2549969-17d3-48a9-95b6-a34fc3ae9dcb')\"\n",
              "            title=\"Suggest charts\"\n",
              "            style=\"display:none;\">\n",
              "\n",
              "<svg xmlns=\"http://www.w3.org/2000/svg\" height=\"24px\"viewBox=\"0 0 24 24\"\n",
              "     width=\"24px\">\n",
              "    <g>\n",
              "        <path d=\"M19 3H5c-1.1 0-2 .9-2 2v14c0 1.1.9 2 2 2h14c1.1 0 2-.9 2-2V5c0-1.1-.9-2-2-2zM9 17H7v-7h2v7zm4 0h-2V7h2v10zm4 0h-2v-4h2v4z\"/>\n",
              "    </g>\n",
              "</svg>\n",
              "  </button>\n",
              "\n",
              "<style>\n",
              "  .colab-df-quickchart {\n",
              "      --bg-color: #E8F0FE;\n",
              "      --fill-color: #1967D2;\n",
              "      --hover-bg-color: #E2EBFA;\n",
              "      --hover-fill-color: #174EA6;\n",
              "      --disabled-fill-color: #AAA;\n",
              "      --disabled-bg-color: #DDD;\n",
              "  }\n",
              "\n",
              "  [theme=dark] .colab-df-quickchart {\n",
              "      --bg-color: #3B4455;\n",
              "      --fill-color: #D2E3FC;\n",
              "      --hover-bg-color: #434B5C;\n",
              "      --hover-fill-color: #FFFFFF;\n",
              "      --disabled-bg-color: #3B4455;\n",
              "      --disabled-fill-color: #666;\n",
              "  }\n",
              "\n",
              "  .colab-df-quickchart {\n",
              "    background-color: var(--bg-color);\n",
              "    border: none;\n",
              "    border-radius: 50%;\n",
              "    cursor: pointer;\n",
              "    display: none;\n",
              "    fill: var(--fill-color);\n",
              "    height: 32px;\n",
              "    padding: 0;\n",
              "    width: 32px;\n",
              "  }\n",
              "\n",
              "  .colab-df-quickchart:hover {\n",
              "    background-color: var(--hover-bg-color);\n",
              "    box-shadow: 0 1px 2px rgba(60, 64, 67, 0.3), 0 1px 3px 1px rgba(60, 64, 67, 0.15);\n",
              "    fill: var(--button-hover-fill-color);\n",
              "  }\n",
              "\n",
              "  .colab-df-quickchart-complete:disabled,\n",
              "  .colab-df-quickchart-complete:disabled:hover {\n",
              "    background-color: var(--disabled-bg-color);\n",
              "    fill: var(--disabled-fill-color);\n",
              "    box-shadow: none;\n",
              "  }\n",
              "\n",
              "  .colab-df-spinner {\n",
              "    border: 2px solid var(--fill-color);\n",
              "    border-color: transparent;\n",
              "    border-bottom-color: var(--fill-color);\n",
              "    animation:\n",
              "      spin 1s steps(1) infinite;\n",
              "  }\n",
              "\n",
              "  @keyframes spin {\n",
              "    0% {\n",
              "      border-color: transparent;\n",
              "      border-bottom-color: var(--fill-color);\n",
              "      border-left-color: var(--fill-color);\n",
              "    }\n",
              "    20% {\n",
              "      border-color: transparent;\n",
              "      border-left-color: var(--fill-color);\n",
              "      border-top-color: var(--fill-color);\n",
              "    }\n",
              "    30% {\n",
              "      border-color: transparent;\n",
              "      border-left-color: var(--fill-color);\n",
              "      border-top-color: var(--fill-color);\n",
              "      border-right-color: var(--fill-color);\n",
              "    }\n",
              "    40% {\n",
              "      border-color: transparent;\n",
              "      border-right-color: var(--fill-color);\n",
              "      border-top-color: var(--fill-color);\n",
              "    }\n",
              "    60% {\n",
              "      border-color: transparent;\n",
              "      border-right-color: var(--fill-color);\n",
              "    }\n",
              "    80% {\n",
              "      border-color: transparent;\n",
              "      border-right-color: var(--fill-color);\n",
              "      border-bottom-color: var(--fill-color);\n",
              "    }\n",
              "    90% {\n",
              "      border-color: transparent;\n",
              "      border-bottom-color: var(--fill-color);\n",
              "    }\n",
              "  }\n",
              "</style>\n",
              "\n",
              "  <script>\n",
              "    async function quickchart(key) {\n",
              "      const quickchartButtonEl =\n",
              "        document.querySelector('#' + key + ' button');\n",
              "      quickchartButtonEl.disabled = true;  // To prevent multiple clicks.\n",
              "      quickchartButtonEl.classList.add('colab-df-spinner');\n",
              "      try {\n",
              "        const charts = await google.colab.kernel.invokeFunction(\n",
              "            'suggestCharts', [key], {});\n",
              "      } catch (error) {\n",
              "        console.error('Error during call to suggestCharts:', error);\n",
              "      }\n",
              "      quickchartButtonEl.classList.remove('colab-df-spinner');\n",
              "      quickchartButtonEl.classList.add('colab-df-quickchart-complete');\n",
              "    }\n",
              "    (() => {\n",
              "      let quickchartButtonEl =\n",
              "        document.querySelector('#df-a2549969-17d3-48a9-95b6-a34fc3ae9dcb button');\n",
              "      quickchartButtonEl.style.display =\n",
              "        google.colab.kernel.accessAllowed ? 'block' : 'none';\n",
              "    })();\n",
              "  </script>\n",
              "</div>\n",
              "    </div>\n",
              "  </div>\n"
            ],
            "application/vnd.google.colaboratory.intrinsic+json": {
              "type": "dataframe",
              "variable_name": "all_results",
              "summary": "{\n  \"name\": \"all_results\",\n  \"rows\": 3,\n  \"fields\": [\n    {\n      \"column\": \"model\",\n      \"properties\": {\n        \"dtype\": \"string\",\n        \"num_unique_values\": 3,\n        \"samples\": [\n          \"model_1\",\n          \"model_2\",\n          \"model_3\"\n        ],\n        \"semantic_type\": \"\",\n        \"description\": \"\"\n      }\n    },\n    {\n      \"column\": \"mae\",\n      \"properties\": {\n        \"dtype\": \"float32\",\n        \"num_unique_values\": 3,\n        \"samples\": [\n          30.606338500976562,\n          17.64029884338379,\n          28.98114013671875\n        ],\n        \"semantic_type\": \"\",\n        \"description\": \"\"\n      }\n    },\n    {\n      \"column\": \"mse\",\n      \"properties\": {\n        \"dtype\": \"float32\",\n        \"num_unique_values\": 3,\n        \"samples\": [\n          947.1697387695312,\n          325.7520751953125,\n          849.6624755859375\n        ],\n        \"semantic_type\": \"\",\n        \"description\": \"\"\n      }\n    }\n  ]\n}"
            }
          },
          "metadata": {},
          "execution_count": 60
        }
      ]
    },
    {
      "cell_type": "markdown",
      "source": [
        "Looks like `model_2` performed the best..."
      ],
      "metadata": {
        "id": "y3n8iN1y61if"
      }
    },
    {
      "cell_type": "code",
      "source": [
        "model_2.summary()"
      ],
      "metadata": {
        "id": "FEaVhq7r57PT",
        "outputId": "23d3edb9-d770-4ba9-a847-08e17f61e9d0",
        "colab": {
          "base_uri": "https://localhost:8080/"
        }
      },
      "execution_count": null,
      "outputs": [
        {
          "output_type": "stream",
          "name": "stdout",
          "text": [
            "Model: \"sequential_9\"\n",
            "_________________________________________________________________\n",
            " Layer (type)                Output Shape              Param #   \n",
            "=================================================================\n",
            " dense_17 (Dense)            (None, 10)                20        \n",
            "                                                                 \n",
            " dense_18 (Dense)            (None, 1)                 11        \n",
            "                                                                 \n",
            "=================================================================\n",
            "Total params: 31 (124.00 Byte)\n",
            "Trainable params: 31 (124.00 Byte)\n",
            "Non-trainable params: 0 (0.00 Byte)\n",
            "_________________________________________________________________\n"
          ]
        }
      ]
    },
    {
      "cell_type": "markdown",
      "source": [
        "## Tracking your experiments\n",
        "\n",
        "One really good habit in machine learning modelling is to track the results of your experiments.\n",
        "\n",
        "And when doing so, it can be tedious if you're running lots of experiments.\n",
        "\n",
        "Luckily, there are tools to help us!\n",
        "\n",
        "* **TensorBoard** - a component of the TensorFlow library to help track modelling experiments (we'll see this one later).\n",
        "* **Weights & Biases** - a tool for tracking all of kinds of machine learning experiments (plugs straight into TensorBoard)."
      ],
      "metadata": {
        "id": "NbPfLqyh60cr"
      }
    },
    {
      "cell_type": "markdown",
      "source": [
        "## Saving out models\n",
        "\n",
        "Saving our models allow us to use them outside of Google Colab (or wherever they were trained) such as in a web application or a mobile app.\n",
        "\n",
        "There are two main formatns we can save our model's too:\n",
        "\n",
        "1. The SavedModel format\n",
        "2. The HDF5 format"
      ],
      "metadata": {
        "id": "RDAg6pD788z7"
      }
    },
    {
      "cell_type": "code",
      "source": [
        "# Save model using the SaveModel format\n",
        "model_2.save(\"best_model_SavedModel_format\")"
      ],
      "metadata": {
        "id": "HomFQKWd9Ema"
      },
      "execution_count": null,
      "outputs": []
    },
    {
      "cell_type": "code",
      "source": [
        "# Save model using the HDF5 format\n",
        "model_2.save(\"best_model_HDF5_format.h5\")"
      ],
      "metadata": {
        "colab": {
          "base_uri": "https://localhost:8080/"
        },
        "id": "ee7_92g9Ep-G",
        "outputId": "b73b0849-0dc2-43e4-d189-33ebd3ccc7df"
      },
      "execution_count": null,
      "outputs": [
        {
          "output_type": "stream",
          "name": "stderr",
          "text": [
            "/usr/local/lib/python3.10/dist-packages/keras/src/engine/training.py:3103: UserWarning: You are saving your model as an HDF5 file via `model.save()`. This file format is considered legacy. We recommend using instead the native Keras format, e.g. `model.save('my_model.keras')`.\n",
            "  saving_api.save_model(\n"
          ]
        }
      ]
    },
    {
      "cell_type": "markdown",
      "source": [
        "## loading in a saved model"
      ],
      "metadata": {
        "id": "oMvAVddiG8XO"
      }
    },
    {
      "cell_type": "code",
      "source": [
        "# Load in the SavedModel format model\n",
        "loaded_SavedModel_format = tf.keras.models.load_model(\"/content/best_model_SavedModel_format\")\n",
        "loaded_SavedModel_format.summary()"
      ],
      "metadata": {
        "id": "lPuIniKtHmeo",
        "outputId": "e6e996e7-e0cb-4c6b-8099-913fa4e48924",
        "colab": {
          "base_uri": "https://localhost:8080/"
        }
      },
      "execution_count": null,
      "outputs": [
        {
          "output_type": "stream",
          "name": "stdout",
          "text": [
            "Model: \"sequential_9\"\n",
            "_________________________________________________________________\n",
            " Layer (type)                Output Shape              Param #   \n",
            "=================================================================\n",
            " dense_17 (Dense)            (None, 10)                20        \n",
            "                                                                 \n",
            " dense_18 (Dense)            (None, 1)                 11        \n",
            "                                                                 \n",
            "=================================================================\n",
            "Total params: 31 (124.00 Byte)\n",
            "Trainable params: 31 (124.00 Byte)\n",
            "Non-trainable params: 0 (0.00 Byte)\n",
            "_________________________________________________________________\n"
          ]
        }
      ]
    },
    {
      "cell_type": "code",
      "source": [
        "# Compare model_2 predictions with SavedModel format model predictions\n",
        "model_2_preds = model_2.predict(X_test)\n",
        "loaded_SavedModel_format_preds = loaded_SavedModel_format.predict(X_test)\n",
        "model_2_preds == loaded_SavedModel_format_preds"
      ],
      "metadata": {
        "id": "J-iH5uvxICME",
        "outputId": "3333863d-f10a-409f-a086-da57b82bacce",
        "colab": {
          "base_uri": "https://localhost:8080/"
        }
      },
      "execution_count": null,
      "outputs": [
        {
          "output_type": "stream",
          "name": "stdout",
          "text": [
            "1/1 [==============================] - 0s 48ms/step\n",
            "1/1 [==============================] - 0s 75ms/step\n"
          ]
        },
        {
          "output_type": "execute_result",
          "data": {
            "text/plain": [
              "array([[ True],\n",
              "       [ True],\n",
              "       [ True],\n",
              "       [ True],\n",
              "       [ True],\n",
              "       [ True],\n",
              "       [ True],\n",
              "       [ True],\n",
              "       [ True],\n",
              "       [ True]])"
            ]
          },
          "metadata": {},
          "execution_count": 65
        }
      ]
    },
    {
      "cell_type": "code",
      "source": [
        "# Load in a model using the .h5 format\n",
        "loaded_h5_model = tf.keras.models.load_model(\"/content/best_model_HDF5_format.h5\")\n",
        "loaded_h5_model.summary()"
      ],
      "metadata": {
        "id": "O1cyoQCbIJD1",
        "outputId": "112c559f-c878-427e-8ad9-85684f365609",
        "colab": {
          "base_uri": "https://localhost:8080/"
        }
      },
      "execution_count": null,
      "outputs": [
        {
          "output_type": "stream",
          "name": "stdout",
          "text": [
            "Model: \"sequential_9\"\n",
            "_________________________________________________________________\n",
            " Layer (type)                Output Shape              Param #   \n",
            "=================================================================\n",
            " dense_17 (Dense)            (None, 10)                20        \n",
            "                                                                 \n",
            " dense_18 (Dense)            (None, 1)                 11        \n",
            "                                                                 \n",
            "=================================================================\n",
            "Total params: 31 (124.00 Byte)\n",
            "Trainable params: 31 (124.00 Byte)\n",
            "Non-trainable params: 0 (0.00 Byte)\n",
            "_________________________________________________________________\n"
          ]
        }
      ]
    },
    {
      "cell_type": "code",
      "source": [
        "# Check to see if loaded .h5 model predictions match model_2\n",
        "model_2_preds = model_2.predict(X_test)\n",
        "loaded_h5_model_preds = loaded_h5_model.predict(X_test)\n",
        "model_2_preds == loaded_h5_model_preds"
      ],
      "metadata": {
        "id": "HauehjXAKCWy",
        "outputId": "8b84eaa0-80ff-4039-9e8d-c564b0f8286d",
        "colab": {
          "base_uri": "https://localhost:8080/"
        }
      },
      "execution_count": null,
      "outputs": [
        {
          "output_type": "stream",
          "name": "stdout",
          "text": [
            "1/1 [==============================] - 0s 19ms/step\n",
            "1/1 [==============================] - 0s 46ms/step\n"
          ]
        },
        {
          "output_type": "execute_result",
          "data": {
            "text/plain": [
              "array([[ True],\n",
              "       [ True],\n",
              "       [ True],\n",
              "       [ True],\n",
              "       [ True],\n",
              "       [ True],\n",
              "       [ True],\n",
              "       [ True],\n",
              "       [ True],\n",
              "       [ True]])"
            ]
          },
          "metadata": {},
          "execution_count": 67
        }
      ]
    },
    {
      "cell_type": "markdown",
      "source": [
        "## Download a model (or any other file from Google Colab)\n",
        "\n",
        "If you want to download your files from Google Colab:\n",
        "\n",
        "1. You can go to the \"files\" tab and right click on the file you're after and click \"download\".\n",
        "\n",
        "2. Use code (see the cell below).\n",
        "\n",
        "3. Save it to Google Drive by connecting Google Drive and copying it there (see 2nd code cell below)."
      ],
      "metadata": {
        "id": "-6wywM4AKL0F"
      }
    },
    {
      "cell_type": "code",
      "source": [
        "# Download a file from Google Colab\n",
        "from google.colab import files\n",
        "files.download(\"/content/best_model_HDF5_format.h5\")"
      ],
      "metadata": {
        "colab": {
          "base_uri": "https://localhost:8080/",
          "height": 17
        },
        "id": "BPvTiw8G3jfE",
        "outputId": "2138ff0b-1c89-4647-e8b2-46ef4c2b052c"
      },
      "execution_count": null,
      "outputs": [
        {
          "output_type": "display_data",
          "data": {
            "text/plain": [
              "<IPython.core.display.Javascript object>"
            ],
            "application/javascript": [
              "\n",
              "    async function download(id, filename, size) {\n",
              "      if (!google.colab.kernel.accessAllowed) {\n",
              "        return;\n",
              "      }\n",
              "      const div = document.createElement('div');\n",
              "      const label = document.createElement('label');\n",
              "      label.textContent = `Downloading \"${filename}\": `;\n",
              "      div.appendChild(label);\n",
              "      const progress = document.createElement('progress');\n",
              "      progress.max = size;\n",
              "      div.appendChild(progress);\n",
              "      document.body.appendChild(div);\n",
              "\n",
              "      const buffers = [];\n",
              "      let downloaded = 0;\n",
              "\n",
              "      const channel = await google.colab.kernel.comms.open(id);\n",
              "      // Send a message to notify the kernel that we're ready.\n",
              "      channel.send({})\n",
              "\n",
              "      for await (const message of channel.messages) {\n",
              "        // Send a message to notify the kernel that we're ready.\n",
              "        channel.send({})\n",
              "        if (message.buffers) {\n",
              "          for (const buffer of message.buffers) {\n",
              "            buffers.push(buffer);\n",
              "            downloaded += buffer.byteLength;\n",
              "            progress.value = downloaded;\n",
              "          }\n",
              "        }\n",
              "      }\n",
              "      const blob = new Blob(buffers, {type: 'application/binary'});\n",
              "      const a = document.createElement('a');\n",
              "      a.href = window.URL.createObjectURL(blob);\n",
              "      a.download = filename;\n",
              "      div.appendChild(a);\n",
              "      a.click();\n",
              "      div.remove();\n",
              "    }\n",
              "  "
            ]
          },
          "metadata": {}
        },
        {
          "output_type": "display_data",
          "data": {
            "text/plain": [
              "<IPython.core.display.Javascript object>"
            ],
            "application/javascript": [
              "download(\"download_c7337f5d-ff76-41d9-ad50-e381365bb905\", \"best_model_HDF5_format.h5\", 21952)"
            ]
          },
          "metadata": {}
        }
      ]
    },
    {
      "cell_type": "code",
      "source": [
        "# Save a file from Google Colab to Google Drive (requires mounting Google Drive)\n",
        "!cp /content/best_model_HDF5_format.h5 /content/drive/MyDrive/Colab_Notebooks/tensorflow_coure"
      ],
      "metadata": {
        "id": "iooO6zr25j4z"
      },
      "execution_count": null,
      "outputs": []
    },
    {
      "cell_type": "code",
      "source": [
        "!ls /content/drive/MyDrive/Colab_Notebooks/tensorflow_coure"
      ],
      "metadata": {
        "colab": {
          "base_uri": "https://localhost:8080/"
        },
        "id": "JM_uxO0T85a0",
        "outputId": "f5df3b31-007f-46c9-878b-617955201681"
      },
      "execution_count": null,
      "outputs": [
        {
          "output_type": "stream",
          "name": "stdout",
          "text": [
            "best_model_HDF5_format.h5\n"
          ]
        }
      ]
    },
    {
      "cell_type": "markdown",
      "source": [
        "## A larger example"
      ],
      "metadata": {
        "id": "R_QdFCvg9PdG"
      }
    },
    {
      "cell_type": "code",
      "source": [
        "# Import required libraries\n",
        "import tensorflow as tf\n",
        "import pandas as pd\n",
        "import matplotlib.pyplot as plt\n"
      ],
      "metadata": {
        "id": "YSkm2OROBFDa"
      },
      "execution_count": 1,
      "outputs": []
    },
    {
      "cell_type": "code",
      "source": [
        "# Read in the insurance dataset\n",
        "insurance = pd.read_csv(\"https://raw.githubusercontent.com/stedy/Machine-Learning-with-R-datasets/master/insurance.csv\")\n",
        "insurance"
      ],
      "metadata": {
        "colab": {
          "base_uri": "https://localhost:8080/",
          "height": 424
        },
        "id": "MEYzqZIPEn1T",
        "outputId": "f49b92f5-9e08-47dd-c5b5-ad8de99995a9"
      },
      "execution_count": 26,
      "outputs": [
        {
          "output_type": "execute_result",
          "data": {
            "text/plain": [
              "      age     sex     bmi  children smoker     region      charges\n",
              "0      19  female  27.900         0    yes  southwest  16884.92400\n",
              "1      18    male  33.770         1     no  southeast   1725.55230\n",
              "2      28    male  33.000         3     no  southeast   4449.46200\n",
              "3      33    male  22.705         0     no  northwest  21984.47061\n",
              "4      32    male  28.880         0     no  northwest   3866.85520\n",
              "...   ...     ...     ...       ...    ...        ...          ...\n",
              "1333   50    male  30.970         3     no  northwest  10600.54830\n",
              "1334   18  female  31.920         0     no  northeast   2205.98080\n",
              "1335   18  female  36.850         0     no  southeast   1629.83350\n",
              "1336   21  female  25.800         0     no  southwest   2007.94500\n",
              "1337   61  female  29.070         0    yes  northwest  29141.36030\n",
              "\n",
              "[1338 rows x 7 columns]"
            ],
            "text/html": [
              "\n",
              "  <div id=\"df-2ac0b6e9-ca70-4551-9581-b816144e0d66\" class=\"colab-df-container\">\n",
              "    <div>\n",
              "<style scoped>\n",
              "    .dataframe tbody tr th:only-of-type {\n",
              "        vertical-align: middle;\n",
              "    }\n",
              "\n",
              "    .dataframe tbody tr th {\n",
              "        vertical-align: top;\n",
              "    }\n",
              "\n",
              "    .dataframe thead th {\n",
              "        text-align: right;\n",
              "    }\n",
              "</style>\n",
              "<table border=\"1\" class=\"dataframe\">\n",
              "  <thead>\n",
              "    <tr style=\"text-align: right;\">\n",
              "      <th></th>\n",
              "      <th>age</th>\n",
              "      <th>sex</th>\n",
              "      <th>bmi</th>\n",
              "      <th>children</th>\n",
              "      <th>smoker</th>\n",
              "      <th>region</th>\n",
              "      <th>charges</th>\n",
              "    </tr>\n",
              "  </thead>\n",
              "  <tbody>\n",
              "    <tr>\n",
              "      <th>0</th>\n",
              "      <td>19</td>\n",
              "      <td>female</td>\n",
              "      <td>27.900</td>\n",
              "      <td>0</td>\n",
              "      <td>yes</td>\n",
              "      <td>southwest</td>\n",
              "      <td>16884.92400</td>\n",
              "    </tr>\n",
              "    <tr>\n",
              "      <th>1</th>\n",
              "      <td>18</td>\n",
              "      <td>male</td>\n",
              "      <td>33.770</td>\n",
              "      <td>1</td>\n",
              "      <td>no</td>\n",
              "      <td>southeast</td>\n",
              "      <td>1725.55230</td>\n",
              "    </tr>\n",
              "    <tr>\n",
              "      <th>2</th>\n",
              "      <td>28</td>\n",
              "      <td>male</td>\n",
              "      <td>33.000</td>\n",
              "      <td>3</td>\n",
              "      <td>no</td>\n",
              "      <td>southeast</td>\n",
              "      <td>4449.46200</td>\n",
              "    </tr>\n",
              "    <tr>\n",
              "      <th>3</th>\n",
              "      <td>33</td>\n",
              "      <td>male</td>\n",
              "      <td>22.705</td>\n",
              "      <td>0</td>\n",
              "      <td>no</td>\n",
              "      <td>northwest</td>\n",
              "      <td>21984.47061</td>\n",
              "    </tr>\n",
              "    <tr>\n",
              "      <th>4</th>\n",
              "      <td>32</td>\n",
              "      <td>male</td>\n",
              "      <td>28.880</td>\n",
              "      <td>0</td>\n",
              "      <td>no</td>\n",
              "      <td>northwest</td>\n",
              "      <td>3866.85520</td>\n",
              "    </tr>\n",
              "    <tr>\n",
              "      <th>...</th>\n",
              "      <td>...</td>\n",
              "      <td>...</td>\n",
              "      <td>...</td>\n",
              "      <td>...</td>\n",
              "      <td>...</td>\n",
              "      <td>...</td>\n",
              "      <td>...</td>\n",
              "    </tr>\n",
              "    <tr>\n",
              "      <th>1333</th>\n",
              "      <td>50</td>\n",
              "      <td>male</td>\n",
              "      <td>30.970</td>\n",
              "      <td>3</td>\n",
              "      <td>no</td>\n",
              "      <td>northwest</td>\n",
              "      <td>10600.54830</td>\n",
              "    </tr>\n",
              "    <tr>\n",
              "      <th>1334</th>\n",
              "      <td>18</td>\n",
              "      <td>female</td>\n",
              "      <td>31.920</td>\n",
              "      <td>0</td>\n",
              "      <td>no</td>\n",
              "      <td>northeast</td>\n",
              "      <td>2205.98080</td>\n",
              "    </tr>\n",
              "    <tr>\n",
              "      <th>1335</th>\n",
              "      <td>18</td>\n",
              "      <td>female</td>\n",
              "      <td>36.850</td>\n",
              "      <td>0</td>\n",
              "      <td>no</td>\n",
              "      <td>southeast</td>\n",
              "      <td>1629.83350</td>\n",
              "    </tr>\n",
              "    <tr>\n",
              "      <th>1336</th>\n",
              "      <td>21</td>\n",
              "      <td>female</td>\n",
              "      <td>25.800</td>\n",
              "      <td>0</td>\n",
              "      <td>no</td>\n",
              "      <td>southwest</td>\n",
              "      <td>2007.94500</td>\n",
              "    </tr>\n",
              "    <tr>\n",
              "      <th>1337</th>\n",
              "      <td>61</td>\n",
              "      <td>female</td>\n",
              "      <td>29.070</td>\n",
              "      <td>0</td>\n",
              "      <td>yes</td>\n",
              "      <td>northwest</td>\n",
              "      <td>29141.36030</td>\n",
              "    </tr>\n",
              "  </tbody>\n",
              "</table>\n",
              "<p>1338 rows × 7 columns</p>\n",
              "</div>\n",
              "    <div class=\"colab-df-buttons\">\n",
              "\n",
              "  <div class=\"colab-df-container\">\n",
              "    <button class=\"colab-df-convert\" onclick=\"convertToInteractive('df-2ac0b6e9-ca70-4551-9581-b816144e0d66')\"\n",
              "            title=\"Convert this dataframe to an interactive table.\"\n",
              "            style=\"display:none;\">\n",
              "\n",
              "  <svg xmlns=\"http://www.w3.org/2000/svg\" height=\"24px\" viewBox=\"0 -960 960 960\">\n",
              "    <path d=\"M120-120v-720h720v720H120Zm60-500h600v-160H180v160Zm220 220h160v-160H400v160Zm0 220h160v-160H400v160ZM180-400h160v-160H180v160Zm440 0h160v-160H620v160ZM180-180h160v-160H180v160Zm440 0h160v-160H620v160Z\"/>\n",
              "  </svg>\n",
              "    </button>\n",
              "\n",
              "  <style>\n",
              "    .colab-df-container {\n",
              "      display:flex;\n",
              "      gap: 12px;\n",
              "    }\n",
              "\n",
              "    .colab-df-convert {\n",
              "      background-color: #E8F0FE;\n",
              "      border: none;\n",
              "      border-radius: 50%;\n",
              "      cursor: pointer;\n",
              "      display: none;\n",
              "      fill: #1967D2;\n",
              "      height: 32px;\n",
              "      padding: 0 0 0 0;\n",
              "      width: 32px;\n",
              "    }\n",
              "\n",
              "    .colab-df-convert:hover {\n",
              "      background-color: #E2EBFA;\n",
              "      box-shadow: 0px 1px 2px rgba(60, 64, 67, 0.3), 0px 1px 3px 1px rgba(60, 64, 67, 0.15);\n",
              "      fill: #174EA6;\n",
              "    }\n",
              "\n",
              "    .colab-df-buttons div {\n",
              "      margin-bottom: 4px;\n",
              "    }\n",
              "\n",
              "    [theme=dark] .colab-df-convert {\n",
              "      background-color: #3B4455;\n",
              "      fill: #D2E3FC;\n",
              "    }\n",
              "\n",
              "    [theme=dark] .colab-df-convert:hover {\n",
              "      background-color: #434B5C;\n",
              "      box-shadow: 0px 1px 3px 1px rgba(0, 0, 0, 0.15);\n",
              "      filter: drop-shadow(0px 1px 2px rgba(0, 0, 0, 0.3));\n",
              "      fill: #FFFFFF;\n",
              "    }\n",
              "  </style>\n",
              "\n",
              "    <script>\n",
              "      const buttonEl =\n",
              "        document.querySelector('#df-2ac0b6e9-ca70-4551-9581-b816144e0d66 button.colab-df-convert');\n",
              "      buttonEl.style.display =\n",
              "        google.colab.kernel.accessAllowed ? 'block' : 'none';\n",
              "\n",
              "      async function convertToInteractive(key) {\n",
              "        const element = document.querySelector('#df-2ac0b6e9-ca70-4551-9581-b816144e0d66');\n",
              "        const dataTable =\n",
              "          await google.colab.kernel.invokeFunction('convertToInteractive',\n",
              "                                                    [key], {});\n",
              "        if (!dataTable) return;\n",
              "\n",
              "        const docLinkHtml = 'Like what you see? Visit the ' +\n",
              "          '<a target=\"_blank\" href=https://colab.research.google.com/notebooks/data_table.ipynb>data table notebook</a>'\n",
              "          + ' to learn more about interactive tables.';\n",
              "        element.innerHTML = '';\n",
              "        dataTable['output_type'] = 'display_data';\n",
              "        await google.colab.output.renderOutput(dataTable, element);\n",
              "        const docLink = document.createElement('div');\n",
              "        docLink.innerHTML = docLinkHtml;\n",
              "        element.appendChild(docLink);\n",
              "      }\n",
              "    </script>\n",
              "  </div>\n",
              "\n",
              "\n",
              "<div id=\"df-f29279d6-3d77-4467-8c6d-f754224406d0\">\n",
              "  <button class=\"colab-df-quickchart\" onclick=\"quickchart('df-f29279d6-3d77-4467-8c6d-f754224406d0')\"\n",
              "            title=\"Suggest charts\"\n",
              "            style=\"display:none;\">\n",
              "\n",
              "<svg xmlns=\"http://www.w3.org/2000/svg\" height=\"24px\"viewBox=\"0 0 24 24\"\n",
              "     width=\"24px\">\n",
              "    <g>\n",
              "        <path d=\"M19 3H5c-1.1 0-2 .9-2 2v14c0 1.1.9 2 2 2h14c1.1 0 2-.9 2-2V5c0-1.1-.9-2-2-2zM9 17H7v-7h2v7zm4 0h-2V7h2v10zm4 0h-2v-4h2v4z\"/>\n",
              "    </g>\n",
              "</svg>\n",
              "  </button>\n",
              "\n",
              "<style>\n",
              "  .colab-df-quickchart {\n",
              "      --bg-color: #E8F0FE;\n",
              "      --fill-color: #1967D2;\n",
              "      --hover-bg-color: #E2EBFA;\n",
              "      --hover-fill-color: #174EA6;\n",
              "      --disabled-fill-color: #AAA;\n",
              "      --disabled-bg-color: #DDD;\n",
              "  }\n",
              "\n",
              "  [theme=dark] .colab-df-quickchart {\n",
              "      --bg-color: #3B4455;\n",
              "      --fill-color: #D2E3FC;\n",
              "      --hover-bg-color: #434B5C;\n",
              "      --hover-fill-color: #FFFFFF;\n",
              "      --disabled-bg-color: #3B4455;\n",
              "      --disabled-fill-color: #666;\n",
              "  }\n",
              "\n",
              "  .colab-df-quickchart {\n",
              "    background-color: var(--bg-color);\n",
              "    border: none;\n",
              "    border-radius: 50%;\n",
              "    cursor: pointer;\n",
              "    display: none;\n",
              "    fill: var(--fill-color);\n",
              "    height: 32px;\n",
              "    padding: 0;\n",
              "    width: 32px;\n",
              "  }\n",
              "\n",
              "  .colab-df-quickchart:hover {\n",
              "    background-color: var(--hover-bg-color);\n",
              "    box-shadow: 0 1px 2px rgba(60, 64, 67, 0.3), 0 1px 3px 1px rgba(60, 64, 67, 0.15);\n",
              "    fill: var(--button-hover-fill-color);\n",
              "  }\n",
              "\n",
              "  .colab-df-quickchart-complete:disabled,\n",
              "  .colab-df-quickchart-complete:disabled:hover {\n",
              "    background-color: var(--disabled-bg-color);\n",
              "    fill: var(--disabled-fill-color);\n",
              "    box-shadow: none;\n",
              "  }\n",
              "\n",
              "  .colab-df-spinner {\n",
              "    border: 2px solid var(--fill-color);\n",
              "    border-color: transparent;\n",
              "    border-bottom-color: var(--fill-color);\n",
              "    animation:\n",
              "      spin 1s steps(1) infinite;\n",
              "  }\n",
              "\n",
              "  @keyframes spin {\n",
              "    0% {\n",
              "      border-color: transparent;\n",
              "      border-bottom-color: var(--fill-color);\n",
              "      border-left-color: var(--fill-color);\n",
              "    }\n",
              "    20% {\n",
              "      border-color: transparent;\n",
              "      border-left-color: var(--fill-color);\n",
              "      border-top-color: var(--fill-color);\n",
              "    }\n",
              "    30% {\n",
              "      border-color: transparent;\n",
              "      border-left-color: var(--fill-color);\n",
              "      border-top-color: var(--fill-color);\n",
              "      border-right-color: var(--fill-color);\n",
              "    }\n",
              "    40% {\n",
              "      border-color: transparent;\n",
              "      border-right-color: var(--fill-color);\n",
              "      border-top-color: var(--fill-color);\n",
              "    }\n",
              "    60% {\n",
              "      border-color: transparent;\n",
              "      border-right-color: var(--fill-color);\n",
              "    }\n",
              "    80% {\n",
              "      border-color: transparent;\n",
              "      border-right-color: var(--fill-color);\n",
              "      border-bottom-color: var(--fill-color);\n",
              "    }\n",
              "    90% {\n",
              "      border-color: transparent;\n",
              "      border-bottom-color: var(--fill-color);\n",
              "    }\n",
              "  }\n",
              "</style>\n",
              "\n",
              "  <script>\n",
              "    async function quickchart(key) {\n",
              "      const quickchartButtonEl =\n",
              "        document.querySelector('#' + key + ' button');\n",
              "      quickchartButtonEl.disabled = true;  // To prevent multiple clicks.\n",
              "      quickchartButtonEl.classList.add('colab-df-spinner');\n",
              "      try {\n",
              "        const charts = await google.colab.kernel.invokeFunction(\n",
              "            'suggestCharts', [key], {});\n",
              "      } catch (error) {\n",
              "        console.error('Error during call to suggestCharts:', error);\n",
              "      }\n",
              "      quickchartButtonEl.classList.remove('colab-df-spinner');\n",
              "      quickchartButtonEl.classList.add('colab-df-quickchart-complete');\n",
              "    }\n",
              "    (() => {\n",
              "      let quickchartButtonEl =\n",
              "        document.querySelector('#df-f29279d6-3d77-4467-8c6d-f754224406d0 button');\n",
              "      quickchartButtonEl.style.display =\n",
              "        google.colab.kernel.accessAllowed ? 'block' : 'none';\n",
              "    })();\n",
              "  </script>\n",
              "</div>\n",
              "    </div>\n",
              "  </div>\n"
            ],
            "application/vnd.google.colaboratory.intrinsic+json": {
              "type": "dataframe",
              "variable_name": "insurance",
              "summary": "{\n  \"name\": \"insurance\",\n  \"rows\": 1338,\n  \"fields\": [\n    {\n      \"column\": \"age\",\n      \"properties\": {\n        \"dtype\": \"number\",\n        \"std\": 14,\n        \"min\": 18,\n        \"max\": 64,\n        \"num_unique_values\": 47,\n        \"samples\": [\n          21,\n          45,\n          36\n        ],\n        \"semantic_type\": \"\",\n        \"description\": \"\"\n      }\n    },\n    {\n      \"column\": \"sex\",\n      \"properties\": {\n        \"dtype\": \"category\",\n        \"num_unique_values\": 2,\n        \"samples\": [\n          \"male\",\n          \"female\"\n        ],\n        \"semantic_type\": \"\",\n        \"description\": \"\"\n      }\n    },\n    {\n      \"column\": \"bmi\",\n      \"properties\": {\n        \"dtype\": \"number\",\n        \"std\": 6.098186911679014,\n        \"min\": 15.96,\n        \"max\": 53.13,\n        \"num_unique_values\": 548,\n        \"samples\": [\n          23.18,\n          26.885\n        ],\n        \"semantic_type\": \"\",\n        \"description\": \"\"\n      }\n    },\n    {\n      \"column\": \"children\",\n      \"properties\": {\n        \"dtype\": \"number\",\n        \"std\": 1,\n        \"min\": 0,\n        \"max\": 5,\n        \"num_unique_values\": 6,\n        \"samples\": [\n          0,\n          1\n        ],\n        \"semantic_type\": \"\",\n        \"description\": \"\"\n      }\n    },\n    {\n      \"column\": \"smoker\",\n      \"properties\": {\n        \"dtype\": \"category\",\n        \"num_unique_values\": 2,\n        \"samples\": [\n          \"no\",\n          \"yes\"\n        ],\n        \"semantic_type\": \"\",\n        \"description\": \"\"\n      }\n    },\n    {\n      \"column\": \"region\",\n      \"properties\": {\n        \"dtype\": \"category\",\n        \"num_unique_values\": 4,\n        \"samples\": [\n          \"southeast\",\n          \"northeast\"\n        ],\n        \"semantic_type\": \"\",\n        \"description\": \"\"\n      }\n    },\n    {\n      \"column\": \"charges\",\n      \"properties\": {\n        \"dtype\": \"number\",\n        \"std\": 12110.011236694001,\n        \"min\": 1121.8739,\n        \"max\": 63770.42801,\n        \"num_unique_values\": 1337,\n        \"samples\": [\n          8688.85885,\n          5708.867\n        ],\n        \"semantic_type\": \"\",\n        \"description\": \"\"\n      }\n    }\n  ]\n}"
            }
          },
          "metadata": {},
          "execution_count": 26
        }
      ]
    },
    {
      "cell_type": "code",
      "source": [
        "insurance[\"smoker\"], insurance[\"age\"]"
      ],
      "metadata": {
        "colab": {
          "base_uri": "https://localhost:8080/"
        },
        "id": "rx2ZwoPcEyEc",
        "outputId": "531941ff-74d3-47e7-99ec-3d0c981553cc"
      },
      "execution_count": 3,
      "outputs": [
        {
          "output_type": "execute_result",
          "data": {
            "text/plain": [
              "(0       yes\n",
              " 1        no\n",
              " 2        no\n",
              " 3        no\n",
              " 4        no\n",
              "        ... \n",
              " 1333     no\n",
              " 1334     no\n",
              " 1335     no\n",
              " 1336     no\n",
              " 1337    yes\n",
              " Name: smoker, Length: 1338, dtype: object,\n",
              " 0       19\n",
              " 1       18\n",
              " 2       28\n",
              " 3       33\n",
              " 4       32\n",
              "         ..\n",
              " 1333    50\n",
              " 1334    18\n",
              " 1335    18\n",
              " 1336    21\n",
              " 1337    61\n",
              " Name: age, Length: 1338, dtype: int64)"
            ]
          },
          "metadata": {},
          "execution_count": 3
        }
      ]
    },
    {
      "cell_type": "code",
      "source": [
        "# Let's try one-hot encode our Dataframe so it's all numbers\\\n",
        "insurance_one_hot = pd.get_dummies(insurance)\n",
        "insurance_one_hot.head()"
      ],
      "metadata": {
        "colab": {
          "base_uri": "https://localhost:8080/",
          "height": 226
        },
        "id": "4jH4XqHdFcXC",
        "outputId": "7e38dfac-0961-43d8-c79f-1f795a880643"
      },
      "execution_count": 4,
      "outputs": [
        {
          "output_type": "execute_result",
          "data": {
            "text/plain": [
              "   age     bmi  children      charges  sex_female  sex_male  smoker_no  \\\n",
              "0   19  27.900         0  16884.92400           1         0          0   \n",
              "1   18  33.770         1   1725.55230           0         1          1   \n",
              "2   28  33.000         3   4449.46200           0         1          1   \n",
              "3   33  22.705         0  21984.47061           0         1          1   \n",
              "4   32  28.880         0   3866.85520           0         1          1   \n",
              "\n",
              "   smoker_yes  region_northeast  region_northwest  region_southeast  \\\n",
              "0           1                 0                 0                 0   \n",
              "1           0                 0                 0                 1   \n",
              "2           0                 0                 0                 1   \n",
              "3           0                 0                 1                 0   \n",
              "4           0                 0                 1                 0   \n",
              "\n",
              "   region_southwest  \n",
              "0                 1  \n",
              "1                 0  \n",
              "2                 0  \n",
              "3                 0  \n",
              "4                 0  "
            ],
            "text/html": [
              "\n",
              "  <div id=\"df-0e49c768-1efe-4b3e-be3c-8784626d1c9c\" class=\"colab-df-container\">\n",
              "    <div>\n",
              "<style scoped>\n",
              "    .dataframe tbody tr th:only-of-type {\n",
              "        vertical-align: middle;\n",
              "    }\n",
              "\n",
              "    .dataframe tbody tr th {\n",
              "        vertical-align: top;\n",
              "    }\n",
              "\n",
              "    .dataframe thead th {\n",
              "        text-align: right;\n",
              "    }\n",
              "</style>\n",
              "<table border=\"1\" class=\"dataframe\">\n",
              "  <thead>\n",
              "    <tr style=\"text-align: right;\">\n",
              "      <th></th>\n",
              "      <th>age</th>\n",
              "      <th>bmi</th>\n",
              "      <th>children</th>\n",
              "      <th>charges</th>\n",
              "      <th>sex_female</th>\n",
              "      <th>sex_male</th>\n",
              "      <th>smoker_no</th>\n",
              "      <th>smoker_yes</th>\n",
              "      <th>region_northeast</th>\n",
              "      <th>region_northwest</th>\n",
              "      <th>region_southeast</th>\n",
              "      <th>region_southwest</th>\n",
              "    </tr>\n",
              "  </thead>\n",
              "  <tbody>\n",
              "    <tr>\n",
              "      <th>0</th>\n",
              "      <td>19</td>\n",
              "      <td>27.900</td>\n",
              "      <td>0</td>\n",
              "      <td>16884.92400</td>\n",
              "      <td>1</td>\n",
              "      <td>0</td>\n",
              "      <td>0</td>\n",
              "      <td>1</td>\n",
              "      <td>0</td>\n",
              "      <td>0</td>\n",
              "      <td>0</td>\n",
              "      <td>1</td>\n",
              "    </tr>\n",
              "    <tr>\n",
              "      <th>1</th>\n",
              "      <td>18</td>\n",
              "      <td>33.770</td>\n",
              "      <td>1</td>\n",
              "      <td>1725.55230</td>\n",
              "      <td>0</td>\n",
              "      <td>1</td>\n",
              "      <td>1</td>\n",
              "      <td>0</td>\n",
              "      <td>0</td>\n",
              "      <td>0</td>\n",
              "      <td>1</td>\n",
              "      <td>0</td>\n",
              "    </tr>\n",
              "    <tr>\n",
              "      <th>2</th>\n",
              "      <td>28</td>\n",
              "      <td>33.000</td>\n",
              "      <td>3</td>\n",
              "      <td>4449.46200</td>\n",
              "      <td>0</td>\n",
              "      <td>1</td>\n",
              "      <td>1</td>\n",
              "      <td>0</td>\n",
              "      <td>0</td>\n",
              "      <td>0</td>\n",
              "      <td>1</td>\n",
              "      <td>0</td>\n",
              "    </tr>\n",
              "    <tr>\n",
              "      <th>3</th>\n",
              "      <td>33</td>\n",
              "      <td>22.705</td>\n",
              "      <td>0</td>\n",
              "      <td>21984.47061</td>\n",
              "      <td>0</td>\n",
              "      <td>1</td>\n",
              "      <td>1</td>\n",
              "      <td>0</td>\n",
              "      <td>0</td>\n",
              "      <td>1</td>\n",
              "      <td>0</td>\n",
              "      <td>0</td>\n",
              "    </tr>\n",
              "    <tr>\n",
              "      <th>4</th>\n",
              "      <td>32</td>\n",
              "      <td>28.880</td>\n",
              "      <td>0</td>\n",
              "      <td>3866.85520</td>\n",
              "      <td>0</td>\n",
              "      <td>1</td>\n",
              "      <td>1</td>\n",
              "      <td>0</td>\n",
              "      <td>0</td>\n",
              "      <td>1</td>\n",
              "      <td>0</td>\n",
              "      <td>0</td>\n",
              "    </tr>\n",
              "  </tbody>\n",
              "</table>\n",
              "</div>\n",
              "    <div class=\"colab-df-buttons\">\n",
              "\n",
              "  <div class=\"colab-df-container\">\n",
              "    <button class=\"colab-df-convert\" onclick=\"convertToInteractive('df-0e49c768-1efe-4b3e-be3c-8784626d1c9c')\"\n",
              "            title=\"Convert this dataframe to an interactive table.\"\n",
              "            style=\"display:none;\">\n",
              "\n",
              "  <svg xmlns=\"http://www.w3.org/2000/svg\" height=\"24px\" viewBox=\"0 -960 960 960\">\n",
              "    <path d=\"M120-120v-720h720v720H120Zm60-500h600v-160H180v160Zm220 220h160v-160H400v160Zm0 220h160v-160H400v160ZM180-400h160v-160H180v160Zm440 0h160v-160H620v160ZM180-180h160v-160H180v160Zm440 0h160v-160H620v160Z\"/>\n",
              "  </svg>\n",
              "    </button>\n",
              "\n",
              "  <style>\n",
              "    .colab-df-container {\n",
              "      display:flex;\n",
              "      gap: 12px;\n",
              "    }\n",
              "\n",
              "    .colab-df-convert {\n",
              "      background-color: #E8F0FE;\n",
              "      border: none;\n",
              "      border-radius: 50%;\n",
              "      cursor: pointer;\n",
              "      display: none;\n",
              "      fill: #1967D2;\n",
              "      height: 32px;\n",
              "      padding: 0 0 0 0;\n",
              "      width: 32px;\n",
              "    }\n",
              "\n",
              "    .colab-df-convert:hover {\n",
              "      background-color: #E2EBFA;\n",
              "      box-shadow: 0px 1px 2px rgba(60, 64, 67, 0.3), 0px 1px 3px 1px rgba(60, 64, 67, 0.15);\n",
              "      fill: #174EA6;\n",
              "    }\n",
              "\n",
              "    .colab-df-buttons div {\n",
              "      margin-bottom: 4px;\n",
              "    }\n",
              "\n",
              "    [theme=dark] .colab-df-convert {\n",
              "      background-color: #3B4455;\n",
              "      fill: #D2E3FC;\n",
              "    }\n",
              "\n",
              "    [theme=dark] .colab-df-convert:hover {\n",
              "      background-color: #434B5C;\n",
              "      box-shadow: 0px 1px 3px 1px rgba(0, 0, 0, 0.15);\n",
              "      filter: drop-shadow(0px 1px 2px rgba(0, 0, 0, 0.3));\n",
              "      fill: #FFFFFF;\n",
              "    }\n",
              "  </style>\n",
              "\n",
              "    <script>\n",
              "      const buttonEl =\n",
              "        document.querySelector('#df-0e49c768-1efe-4b3e-be3c-8784626d1c9c button.colab-df-convert');\n",
              "      buttonEl.style.display =\n",
              "        google.colab.kernel.accessAllowed ? 'block' : 'none';\n",
              "\n",
              "      async function convertToInteractive(key) {\n",
              "        const element = document.querySelector('#df-0e49c768-1efe-4b3e-be3c-8784626d1c9c');\n",
              "        const dataTable =\n",
              "          await google.colab.kernel.invokeFunction('convertToInteractive',\n",
              "                                                    [key], {});\n",
              "        if (!dataTable) return;\n",
              "\n",
              "        const docLinkHtml = 'Like what you see? Visit the ' +\n",
              "          '<a target=\"_blank\" href=https://colab.research.google.com/notebooks/data_table.ipynb>data table notebook</a>'\n",
              "          + ' to learn more about interactive tables.';\n",
              "        element.innerHTML = '';\n",
              "        dataTable['output_type'] = 'display_data';\n",
              "        await google.colab.output.renderOutput(dataTable, element);\n",
              "        const docLink = document.createElement('div');\n",
              "        docLink.innerHTML = docLinkHtml;\n",
              "        element.appendChild(docLink);\n",
              "      }\n",
              "    </script>\n",
              "  </div>\n",
              "\n",
              "\n",
              "<div id=\"df-a3a025fe-5d7b-4733-a4c6-e242e7a77039\">\n",
              "  <button class=\"colab-df-quickchart\" onclick=\"quickchart('df-a3a025fe-5d7b-4733-a4c6-e242e7a77039')\"\n",
              "            title=\"Suggest charts\"\n",
              "            style=\"display:none;\">\n",
              "\n",
              "<svg xmlns=\"http://www.w3.org/2000/svg\" height=\"24px\"viewBox=\"0 0 24 24\"\n",
              "     width=\"24px\">\n",
              "    <g>\n",
              "        <path d=\"M19 3H5c-1.1 0-2 .9-2 2v14c0 1.1.9 2 2 2h14c1.1 0 2-.9 2-2V5c0-1.1-.9-2-2-2zM9 17H7v-7h2v7zm4 0h-2V7h2v10zm4 0h-2v-4h2v4z\"/>\n",
              "    </g>\n",
              "</svg>\n",
              "  </button>\n",
              "\n",
              "<style>\n",
              "  .colab-df-quickchart {\n",
              "      --bg-color: #E8F0FE;\n",
              "      --fill-color: #1967D2;\n",
              "      --hover-bg-color: #E2EBFA;\n",
              "      --hover-fill-color: #174EA6;\n",
              "      --disabled-fill-color: #AAA;\n",
              "      --disabled-bg-color: #DDD;\n",
              "  }\n",
              "\n",
              "  [theme=dark] .colab-df-quickchart {\n",
              "      --bg-color: #3B4455;\n",
              "      --fill-color: #D2E3FC;\n",
              "      --hover-bg-color: #434B5C;\n",
              "      --hover-fill-color: #FFFFFF;\n",
              "      --disabled-bg-color: #3B4455;\n",
              "      --disabled-fill-color: #666;\n",
              "  }\n",
              "\n",
              "  .colab-df-quickchart {\n",
              "    background-color: var(--bg-color);\n",
              "    border: none;\n",
              "    border-radius: 50%;\n",
              "    cursor: pointer;\n",
              "    display: none;\n",
              "    fill: var(--fill-color);\n",
              "    height: 32px;\n",
              "    padding: 0;\n",
              "    width: 32px;\n",
              "  }\n",
              "\n",
              "  .colab-df-quickchart:hover {\n",
              "    background-color: var(--hover-bg-color);\n",
              "    box-shadow: 0 1px 2px rgba(60, 64, 67, 0.3), 0 1px 3px 1px rgba(60, 64, 67, 0.15);\n",
              "    fill: var(--button-hover-fill-color);\n",
              "  }\n",
              "\n",
              "  .colab-df-quickchart-complete:disabled,\n",
              "  .colab-df-quickchart-complete:disabled:hover {\n",
              "    background-color: var(--disabled-bg-color);\n",
              "    fill: var(--disabled-fill-color);\n",
              "    box-shadow: none;\n",
              "  }\n",
              "\n",
              "  .colab-df-spinner {\n",
              "    border: 2px solid var(--fill-color);\n",
              "    border-color: transparent;\n",
              "    border-bottom-color: var(--fill-color);\n",
              "    animation:\n",
              "      spin 1s steps(1) infinite;\n",
              "  }\n",
              "\n",
              "  @keyframes spin {\n",
              "    0% {\n",
              "      border-color: transparent;\n",
              "      border-bottom-color: var(--fill-color);\n",
              "      border-left-color: var(--fill-color);\n",
              "    }\n",
              "    20% {\n",
              "      border-color: transparent;\n",
              "      border-left-color: var(--fill-color);\n",
              "      border-top-color: var(--fill-color);\n",
              "    }\n",
              "    30% {\n",
              "      border-color: transparent;\n",
              "      border-left-color: var(--fill-color);\n",
              "      border-top-color: var(--fill-color);\n",
              "      border-right-color: var(--fill-color);\n",
              "    }\n",
              "    40% {\n",
              "      border-color: transparent;\n",
              "      border-right-color: var(--fill-color);\n",
              "      border-top-color: var(--fill-color);\n",
              "    }\n",
              "    60% {\n",
              "      border-color: transparent;\n",
              "      border-right-color: var(--fill-color);\n",
              "    }\n",
              "    80% {\n",
              "      border-color: transparent;\n",
              "      border-right-color: var(--fill-color);\n",
              "      border-bottom-color: var(--fill-color);\n",
              "    }\n",
              "    90% {\n",
              "      border-color: transparent;\n",
              "      border-bottom-color: var(--fill-color);\n",
              "    }\n",
              "  }\n",
              "</style>\n",
              "\n",
              "  <script>\n",
              "    async function quickchart(key) {\n",
              "      const quickchartButtonEl =\n",
              "        document.querySelector('#' + key + ' button');\n",
              "      quickchartButtonEl.disabled = true;  // To prevent multiple clicks.\n",
              "      quickchartButtonEl.classList.add('colab-df-spinner');\n",
              "      try {\n",
              "        const charts = await google.colab.kernel.invokeFunction(\n",
              "            'suggestCharts', [key], {});\n",
              "      } catch (error) {\n",
              "        console.error('Error during call to suggestCharts:', error);\n",
              "      }\n",
              "      quickchartButtonEl.classList.remove('colab-df-spinner');\n",
              "      quickchartButtonEl.classList.add('colab-df-quickchart-complete');\n",
              "    }\n",
              "    (() => {\n",
              "      let quickchartButtonEl =\n",
              "        document.querySelector('#df-a3a025fe-5d7b-4733-a4c6-e242e7a77039 button');\n",
              "      quickchartButtonEl.style.display =\n",
              "        google.colab.kernel.accessAllowed ? 'block' : 'none';\n",
              "    })();\n",
              "  </script>\n",
              "</div>\n",
              "    </div>\n",
              "  </div>\n"
            ],
            "application/vnd.google.colaboratory.intrinsic+json": {
              "type": "dataframe",
              "variable_name": "insurance_one_hot",
              "summary": "{\n  \"name\": \"insurance_one_hot\",\n  \"rows\": 1338,\n  \"fields\": [\n    {\n      \"column\": \"age\",\n      \"properties\": {\n        \"dtype\": \"number\",\n        \"std\": 14,\n        \"min\": 18,\n        \"max\": 64,\n        \"num_unique_values\": 47,\n        \"samples\": [\n          21,\n          45,\n          36\n        ],\n        \"semantic_type\": \"\",\n        \"description\": \"\"\n      }\n    },\n    {\n      \"column\": \"bmi\",\n      \"properties\": {\n        \"dtype\": \"number\",\n        \"std\": 6.098186911679014,\n        \"min\": 15.96,\n        \"max\": 53.13,\n        \"num_unique_values\": 548,\n        \"samples\": [\n          23.18,\n          26.885,\n          29.26\n        ],\n        \"semantic_type\": \"\",\n        \"description\": \"\"\n      }\n    },\n    {\n      \"column\": \"children\",\n      \"properties\": {\n        \"dtype\": \"number\",\n        \"std\": 1,\n        \"min\": 0,\n        \"max\": 5,\n        \"num_unique_values\": 6,\n        \"samples\": [\n          0,\n          1,\n          4\n        ],\n        \"semantic_type\": \"\",\n        \"description\": \"\"\n      }\n    },\n    {\n      \"column\": \"charges\",\n      \"properties\": {\n        \"dtype\": \"number\",\n        \"std\": 12110.011236694001,\n        \"min\": 1121.8739,\n        \"max\": 63770.42801,\n        \"num_unique_values\": 1337,\n        \"samples\": [\n          8688.85885,\n          5708.867,\n          11436.73815\n        ],\n        \"semantic_type\": \"\",\n        \"description\": \"\"\n      }\n    },\n    {\n      \"column\": \"sex_female\",\n      \"properties\": {\n        \"dtype\": \"uint8\",\n        \"num_unique_values\": 2,\n        \"samples\": [\n          0,\n          1\n        ],\n        \"semantic_type\": \"\",\n        \"description\": \"\"\n      }\n    },\n    {\n      \"column\": \"sex_male\",\n      \"properties\": {\n        \"dtype\": \"uint8\",\n        \"num_unique_values\": 2,\n        \"samples\": [\n          1,\n          0\n        ],\n        \"semantic_type\": \"\",\n        \"description\": \"\"\n      }\n    },\n    {\n      \"column\": \"smoker_no\",\n      \"properties\": {\n        \"dtype\": \"uint8\",\n        \"num_unique_values\": 2,\n        \"samples\": [\n          1,\n          0\n        ],\n        \"semantic_type\": \"\",\n        \"description\": \"\"\n      }\n    },\n    {\n      \"column\": \"smoker_yes\",\n      \"properties\": {\n        \"dtype\": \"uint8\",\n        \"num_unique_values\": 2,\n        \"samples\": [\n          0,\n          1\n        ],\n        \"semantic_type\": \"\",\n        \"description\": \"\"\n      }\n    },\n    {\n      \"column\": \"region_northeast\",\n      \"properties\": {\n        \"dtype\": \"uint8\",\n        \"num_unique_values\": 2,\n        \"samples\": [\n          1,\n          0\n        ],\n        \"semantic_type\": \"\",\n        \"description\": \"\"\n      }\n    },\n    {\n      \"column\": \"region_northwest\",\n      \"properties\": {\n        \"dtype\": \"uint8\",\n        \"num_unique_values\": 2,\n        \"samples\": [\n          1,\n          0\n        ],\n        \"semantic_type\": \"\",\n        \"description\": \"\"\n      }\n    },\n    {\n      \"column\": \"region_southeast\",\n      \"properties\": {\n        \"dtype\": \"uint8\",\n        \"num_unique_values\": 2,\n        \"samples\": [\n          1,\n          0\n        ],\n        \"semantic_type\": \"\",\n        \"description\": \"\"\n      }\n    },\n    {\n      \"column\": \"region_southwest\",\n      \"properties\": {\n        \"dtype\": \"uint8\",\n        \"num_unique_values\": 2,\n        \"samples\": [\n          0,\n          1\n        ],\n        \"semantic_type\": \"\",\n        \"description\": \"\"\n      }\n    }\n  ]\n}"
            }
          },
          "metadata": {},
          "execution_count": 4
        }
      ]
    },
    {
      "cell_type": "code",
      "source": [
        "# Create X & y values (features and labels)\n",
        "X = insurance_one_hot.drop(\"charges\", axis=1)\n",
        "y = insurance_one_hot[\"charges\"]"
      ],
      "metadata": {
        "id": "dbQ9FGp1MJyo"
      },
      "execution_count": 5,
      "outputs": []
    },
    {
      "cell_type": "code",
      "source": [
        "# View X\n",
        "X.head()"
      ],
      "metadata": {
        "colab": {
          "base_uri": "https://localhost:8080/",
          "height": 226
        },
        "id": "Ssegjnhvc95L",
        "outputId": "3cd8c848-185a-42d0-a202-a8ba052dc539"
      },
      "execution_count": 6,
      "outputs": [
        {
          "output_type": "execute_result",
          "data": {
            "text/plain": [
              "   age     bmi  children  sex_female  sex_male  smoker_no  smoker_yes  \\\n",
              "0   19  27.900         0           1         0          0           1   \n",
              "1   18  33.770         1           0         1          1           0   \n",
              "2   28  33.000         3           0         1          1           0   \n",
              "3   33  22.705         0           0         1          1           0   \n",
              "4   32  28.880         0           0         1          1           0   \n",
              "\n",
              "   region_northeast  region_northwest  region_southeast  region_southwest  \n",
              "0                 0                 0                 0                 1  \n",
              "1                 0                 0                 1                 0  \n",
              "2                 0                 0                 1                 0  \n",
              "3                 0                 1                 0                 0  \n",
              "4                 0                 1                 0                 0  "
            ],
            "text/html": [
              "\n",
              "  <div id=\"df-109e8deb-1fed-4f73-aa04-3f5654836d82\" class=\"colab-df-container\">\n",
              "    <div>\n",
              "<style scoped>\n",
              "    .dataframe tbody tr th:only-of-type {\n",
              "        vertical-align: middle;\n",
              "    }\n",
              "\n",
              "    .dataframe tbody tr th {\n",
              "        vertical-align: top;\n",
              "    }\n",
              "\n",
              "    .dataframe thead th {\n",
              "        text-align: right;\n",
              "    }\n",
              "</style>\n",
              "<table border=\"1\" class=\"dataframe\">\n",
              "  <thead>\n",
              "    <tr style=\"text-align: right;\">\n",
              "      <th></th>\n",
              "      <th>age</th>\n",
              "      <th>bmi</th>\n",
              "      <th>children</th>\n",
              "      <th>sex_female</th>\n",
              "      <th>sex_male</th>\n",
              "      <th>smoker_no</th>\n",
              "      <th>smoker_yes</th>\n",
              "      <th>region_northeast</th>\n",
              "      <th>region_northwest</th>\n",
              "      <th>region_southeast</th>\n",
              "      <th>region_southwest</th>\n",
              "    </tr>\n",
              "  </thead>\n",
              "  <tbody>\n",
              "    <tr>\n",
              "      <th>0</th>\n",
              "      <td>19</td>\n",
              "      <td>27.900</td>\n",
              "      <td>0</td>\n",
              "      <td>1</td>\n",
              "      <td>0</td>\n",
              "      <td>0</td>\n",
              "      <td>1</td>\n",
              "      <td>0</td>\n",
              "      <td>0</td>\n",
              "      <td>0</td>\n",
              "      <td>1</td>\n",
              "    </tr>\n",
              "    <tr>\n",
              "      <th>1</th>\n",
              "      <td>18</td>\n",
              "      <td>33.770</td>\n",
              "      <td>1</td>\n",
              "      <td>0</td>\n",
              "      <td>1</td>\n",
              "      <td>1</td>\n",
              "      <td>0</td>\n",
              "      <td>0</td>\n",
              "      <td>0</td>\n",
              "      <td>1</td>\n",
              "      <td>0</td>\n",
              "    </tr>\n",
              "    <tr>\n",
              "      <th>2</th>\n",
              "      <td>28</td>\n",
              "      <td>33.000</td>\n",
              "      <td>3</td>\n",
              "      <td>0</td>\n",
              "      <td>1</td>\n",
              "      <td>1</td>\n",
              "      <td>0</td>\n",
              "      <td>0</td>\n",
              "      <td>0</td>\n",
              "      <td>1</td>\n",
              "      <td>0</td>\n",
              "    </tr>\n",
              "    <tr>\n",
              "      <th>3</th>\n",
              "      <td>33</td>\n",
              "      <td>22.705</td>\n",
              "      <td>0</td>\n",
              "      <td>0</td>\n",
              "      <td>1</td>\n",
              "      <td>1</td>\n",
              "      <td>0</td>\n",
              "      <td>0</td>\n",
              "      <td>1</td>\n",
              "      <td>0</td>\n",
              "      <td>0</td>\n",
              "    </tr>\n",
              "    <tr>\n",
              "      <th>4</th>\n",
              "      <td>32</td>\n",
              "      <td>28.880</td>\n",
              "      <td>0</td>\n",
              "      <td>0</td>\n",
              "      <td>1</td>\n",
              "      <td>1</td>\n",
              "      <td>0</td>\n",
              "      <td>0</td>\n",
              "      <td>1</td>\n",
              "      <td>0</td>\n",
              "      <td>0</td>\n",
              "    </tr>\n",
              "  </tbody>\n",
              "</table>\n",
              "</div>\n",
              "    <div class=\"colab-df-buttons\">\n",
              "\n",
              "  <div class=\"colab-df-container\">\n",
              "    <button class=\"colab-df-convert\" onclick=\"convertToInteractive('df-109e8deb-1fed-4f73-aa04-3f5654836d82')\"\n",
              "            title=\"Convert this dataframe to an interactive table.\"\n",
              "            style=\"display:none;\">\n",
              "\n",
              "  <svg xmlns=\"http://www.w3.org/2000/svg\" height=\"24px\" viewBox=\"0 -960 960 960\">\n",
              "    <path d=\"M120-120v-720h720v720H120Zm60-500h600v-160H180v160Zm220 220h160v-160H400v160Zm0 220h160v-160H400v160ZM180-400h160v-160H180v160Zm440 0h160v-160H620v160ZM180-180h160v-160H180v160Zm440 0h160v-160H620v160Z\"/>\n",
              "  </svg>\n",
              "    </button>\n",
              "\n",
              "  <style>\n",
              "    .colab-df-container {\n",
              "      display:flex;\n",
              "      gap: 12px;\n",
              "    }\n",
              "\n",
              "    .colab-df-convert {\n",
              "      background-color: #E8F0FE;\n",
              "      border: none;\n",
              "      border-radius: 50%;\n",
              "      cursor: pointer;\n",
              "      display: none;\n",
              "      fill: #1967D2;\n",
              "      height: 32px;\n",
              "      padding: 0 0 0 0;\n",
              "      width: 32px;\n",
              "    }\n",
              "\n",
              "    .colab-df-convert:hover {\n",
              "      background-color: #E2EBFA;\n",
              "      box-shadow: 0px 1px 2px rgba(60, 64, 67, 0.3), 0px 1px 3px 1px rgba(60, 64, 67, 0.15);\n",
              "      fill: #174EA6;\n",
              "    }\n",
              "\n",
              "    .colab-df-buttons div {\n",
              "      margin-bottom: 4px;\n",
              "    }\n",
              "\n",
              "    [theme=dark] .colab-df-convert {\n",
              "      background-color: #3B4455;\n",
              "      fill: #D2E3FC;\n",
              "    }\n",
              "\n",
              "    [theme=dark] .colab-df-convert:hover {\n",
              "      background-color: #434B5C;\n",
              "      box-shadow: 0px 1px 3px 1px rgba(0, 0, 0, 0.15);\n",
              "      filter: drop-shadow(0px 1px 2px rgba(0, 0, 0, 0.3));\n",
              "      fill: #FFFFFF;\n",
              "    }\n",
              "  </style>\n",
              "\n",
              "    <script>\n",
              "      const buttonEl =\n",
              "        document.querySelector('#df-109e8deb-1fed-4f73-aa04-3f5654836d82 button.colab-df-convert');\n",
              "      buttonEl.style.display =\n",
              "        google.colab.kernel.accessAllowed ? 'block' : 'none';\n",
              "\n",
              "      async function convertToInteractive(key) {\n",
              "        const element = document.querySelector('#df-109e8deb-1fed-4f73-aa04-3f5654836d82');\n",
              "        const dataTable =\n",
              "          await google.colab.kernel.invokeFunction('convertToInteractive',\n",
              "                                                    [key], {});\n",
              "        if (!dataTable) return;\n",
              "\n",
              "        const docLinkHtml = 'Like what you see? Visit the ' +\n",
              "          '<a target=\"_blank\" href=https://colab.research.google.com/notebooks/data_table.ipynb>data table notebook</a>'\n",
              "          + ' to learn more about interactive tables.';\n",
              "        element.innerHTML = '';\n",
              "        dataTable['output_type'] = 'display_data';\n",
              "        await google.colab.output.renderOutput(dataTable, element);\n",
              "        const docLink = document.createElement('div');\n",
              "        docLink.innerHTML = docLinkHtml;\n",
              "        element.appendChild(docLink);\n",
              "      }\n",
              "    </script>\n",
              "  </div>\n",
              "\n",
              "\n",
              "<div id=\"df-720fba06-657d-44d9-b56f-649a0a1f1ea2\">\n",
              "  <button class=\"colab-df-quickchart\" onclick=\"quickchart('df-720fba06-657d-44d9-b56f-649a0a1f1ea2')\"\n",
              "            title=\"Suggest charts\"\n",
              "            style=\"display:none;\">\n",
              "\n",
              "<svg xmlns=\"http://www.w3.org/2000/svg\" height=\"24px\"viewBox=\"0 0 24 24\"\n",
              "     width=\"24px\">\n",
              "    <g>\n",
              "        <path d=\"M19 3H5c-1.1 0-2 .9-2 2v14c0 1.1.9 2 2 2h14c1.1 0 2-.9 2-2V5c0-1.1-.9-2-2-2zM9 17H7v-7h2v7zm4 0h-2V7h2v10zm4 0h-2v-4h2v4z\"/>\n",
              "    </g>\n",
              "</svg>\n",
              "  </button>\n",
              "\n",
              "<style>\n",
              "  .colab-df-quickchart {\n",
              "      --bg-color: #E8F0FE;\n",
              "      --fill-color: #1967D2;\n",
              "      --hover-bg-color: #E2EBFA;\n",
              "      --hover-fill-color: #174EA6;\n",
              "      --disabled-fill-color: #AAA;\n",
              "      --disabled-bg-color: #DDD;\n",
              "  }\n",
              "\n",
              "  [theme=dark] .colab-df-quickchart {\n",
              "      --bg-color: #3B4455;\n",
              "      --fill-color: #D2E3FC;\n",
              "      --hover-bg-color: #434B5C;\n",
              "      --hover-fill-color: #FFFFFF;\n",
              "      --disabled-bg-color: #3B4455;\n",
              "      --disabled-fill-color: #666;\n",
              "  }\n",
              "\n",
              "  .colab-df-quickchart {\n",
              "    background-color: var(--bg-color);\n",
              "    border: none;\n",
              "    border-radius: 50%;\n",
              "    cursor: pointer;\n",
              "    display: none;\n",
              "    fill: var(--fill-color);\n",
              "    height: 32px;\n",
              "    padding: 0;\n",
              "    width: 32px;\n",
              "  }\n",
              "\n",
              "  .colab-df-quickchart:hover {\n",
              "    background-color: var(--hover-bg-color);\n",
              "    box-shadow: 0 1px 2px rgba(60, 64, 67, 0.3), 0 1px 3px 1px rgba(60, 64, 67, 0.15);\n",
              "    fill: var(--button-hover-fill-color);\n",
              "  }\n",
              "\n",
              "  .colab-df-quickchart-complete:disabled,\n",
              "  .colab-df-quickchart-complete:disabled:hover {\n",
              "    background-color: var(--disabled-bg-color);\n",
              "    fill: var(--disabled-fill-color);\n",
              "    box-shadow: none;\n",
              "  }\n",
              "\n",
              "  .colab-df-spinner {\n",
              "    border: 2px solid var(--fill-color);\n",
              "    border-color: transparent;\n",
              "    border-bottom-color: var(--fill-color);\n",
              "    animation:\n",
              "      spin 1s steps(1) infinite;\n",
              "  }\n",
              "\n",
              "  @keyframes spin {\n",
              "    0% {\n",
              "      border-color: transparent;\n",
              "      border-bottom-color: var(--fill-color);\n",
              "      border-left-color: var(--fill-color);\n",
              "    }\n",
              "    20% {\n",
              "      border-color: transparent;\n",
              "      border-left-color: var(--fill-color);\n",
              "      border-top-color: var(--fill-color);\n",
              "    }\n",
              "    30% {\n",
              "      border-color: transparent;\n",
              "      border-left-color: var(--fill-color);\n",
              "      border-top-color: var(--fill-color);\n",
              "      border-right-color: var(--fill-color);\n",
              "    }\n",
              "    40% {\n",
              "      border-color: transparent;\n",
              "      border-right-color: var(--fill-color);\n",
              "      border-top-color: var(--fill-color);\n",
              "    }\n",
              "    60% {\n",
              "      border-color: transparent;\n",
              "      border-right-color: var(--fill-color);\n",
              "    }\n",
              "    80% {\n",
              "      border-color: transparent;\n",
              "      border-right-color: var(--fill-color);\n",
              "      border-bottom-color: var(--fill-color);\n",
              "    }\n",
              "    90% {\n",
              "      border-color: transparent;\n",
              "      border-bottom-color: var(--fill-color);\n",
              "    }\n",
              "  }\n",
              "</style>\n",
              "\n",
              "  <script>\n",
              "    async function quickchart(key) {\n",
              "      const quickchartButtonEl =\n",
              "        document.querySelector('#' + key + ' button');\n",
              "      quickchartButtonEl.disabled = true;  // To prevent multiple clicks.\n",
              "      quickchartButtonEl.classList.add('colab-df-spinner');\n",
              "      try {\n",
              "        const charts = await google.colab.kernel.invokeFunction(\n",
              "            'suggestCharts', [key], {});\n",
              "      } catch (error) {\n",
              "        console.error('Error during call to suggestCharts:', error);\n",
              "      }\n",
              "      quickchartButtonEl.classList.remove('colab-df-spinner');\n",
              "      quickchartButtonEl.classList.add('colab-df-quickchart-complete');\n",
              "    }\n",
              "    (() => {\n",
              "      let quickchartButtonEl =\n",
              "        document.querySelector('#df-720fba06-657d-44d9-b56f-649a0a1f1ea2 button');\n",
              "      quickchartButtonEl.style.display =\n",
              "        google.colab.kernel.accessAllowed ? 'block' : 'none';\n",
              "    })();\n",
              "  </script>\n",
              "</div>\n",
              "    </div>\n",
              "  </div>\n"
            ],
            "application/vnd.google.colaboratory.intrinsic+json": {
              "type": "dataframe",
              "variable_name": "X",
              "summary": "{\n  \"name\": \"X\",\n  \"rows\": 1338,\n  \"fields\": [\n    {\n      \"column\": \"age\",\n      \"properties\": {\n        \"dtype\": \"number\",\n        \"std\": 14,\n        \"min\": 18,\n        \"max\": 64,\n        \"num_unique_values\": 47,\n        \"samples\": [\n          21,\n          45,\n          36\n        ],\n        \"semantic_type\": \"\",\n        \"description\": \"\"\n      }\n    },\n    {\n      \"column\": \"bmi\",\n      \"properties\": {\n        \"dtype\": \"number\",\n        \"std\": 6.098186911679014,\n        \"min\": 15.96,\n        \"max\": 53.13,\n        \"num_unique_values\": 548,\n        \"samples\": [\n          23.18,\n          26.885,\n          29.26\n        ],\n        \"semantic_type\": \"\",\n        \"description\": \"\"\n      }\n    },\n    {\n      \"column\": \"children\",\n      \"properties\": {\n        \"dtype\": \"number\",\n        \"std\": 1,\n        \"min\": 0,\n        \"max\": 5,\n        \"num_unique_values\": 6,\n        \"samples\": [\n          0,\n          1,\n          4\n        ],\n        \"semantic_type\": \"\",\n        \"description\": \"\"\n      }\n    },\n    {\n      \"column\": \"sex_female\",\n      \"properties\": {\n        \"dtype\": \"uint8\",\n        \"num_unique_values\": 2,\n        \"samples\": [\n          0,\n          1\n        ],\n        \"semantic_type\": \"\",\n        \"description\": \"\"\n      }\n    },\n    {\n      \"column\": \"sex_male\",\n      \"properties\": {\n        \"dtype\": \"uint8\",\n        \"num_unique_values\": 2,\n        \"samples\": [\n          1,\n          0\n        ],\n        \"semantic_type\": \"\",\n        \"description\": \"\"\n      }\n    },\n    {\n      \"column\": \"smoker_no\",\n      \"properties\": {\n        \"dtype\": \"uint8\",\n        \"num_unique_values\": 2,\n        \"samples\": [\n          1,\n          0\n        ],\n        \"semantic_type\": \"\",\n        \"description\": \"\"\n      }\n    },\n    {\n      \"column\": \"smoker_yes\",\n      \"properties\": {\n        \"dtype\": \"uint8\",\n        \"num_unique_values\": 2,\n        \"samples\": [\n          0,\n          1\n        ],\n        \"semantic_type\": \"\",\n        \"description\": \"\"\n      }\n    },\n    {\n      \"column\": \"region_northeast\",\n      \"properties\": {\n        \"dtype\": \"uint8\",\n        \"num_unique_values\": 2,\n        \"samples\": [\n          1,\n          0\n        ],\n        \"semantic_type\": \"\",\n        \"description\": \"\"\n      }\n    },\n    {\n      \"column\": \"region_northwest\",\n      \"properties\": {\n        \"dtype\": \"uint8\",\n        \"num_unique_values\": 2,\n        \"samples\": [\n          1,\n          0\n        ],\n        \"semantic_type\": \"\",\n        \"description\": \"\"\n      }\n    },\n    {\n      \"column\": \"region_southeast\",\n      \"properties\": {\n        \"dtype\": \"uint8\",\n        \"num_unique_values\": 2,\n        \"samples\": [\n          1,\n          0\n        ],\n        \"semantic_type\": \"\",\n        \"description\": \"\"\n      }\n    },\n    {\n      \"column\": \"region_southwest\",\n      \"properties\": {\n        \"dtype\": \"uint8\",\n        \"num_unique_values\": 2,\n        \"samples\": [\n          0,\n          1\n        ],\n        \"semantic_type\": \"\",\n        \"description\": \"\"\n      }\n    }\n  ]\n}"
            }
          },
          "metadata": {},
          "execution_count": 6
        }
      ]
    },
    {
      "cell_type": "code",
      "source": [
        "# View y\n",
        "y.head()"
      ],
      "metadata": {
        "colab": {
          "base_uri": "https://localhost:8080/"
        },
        "id": "034mpk-0dHgN",
        "outputId": "28cda639-6be3-44a0-91ca-5213a877eb50"
      },
      "execution_count": 7,
      "outputs": [
        {
          "output_type": "execute_result",
          "data": {
            "text/plain": [
              "0    16884.92400\n",
              "1     1725.55230\n",
              "2     4449.46200\n",
              "3    21984.47061\n",
              "4     3866.85520\n",
              "Name: charges, dtype: float64"
            ]
          },
          "metadata": {},
          "execution_count": 7
        }
      ]
    },
    {
      "cell_type": "code",
      "source": [
        "# Create training and test sets\n",
        "from sklearn.model_selection import train_test_split\n",
        "X_train, X_test, y_train, y_test = train_test_split(X, y, test_size=0.2, random_state=42)\n",
        "len(X), len(X_train), len(X_test)"
      ],
      "metadata": {
        "colab": {
          "base_uri": "https://localhost:8080/"
        },
        "id": "S9cG8ip5MTon",
        "outputId": "2a8dc8e5-a59e-43c5-e9a4-18e582017e77"
      },
      "execution_count": 8,
      "outputs": [
        {
          "output_type": "execute_result",
          "data": {
            "text/plain": [
              "(1338, 1070, 268)"
            ]
          },
          "metadata": {},
          "execution_count": 8
        }
      ]
    },
    {
      "cell_type": "code",
      "source": [
        "# Build a neural network (sort of like model_2 above)\n",
        "tf.random.set_seed(42)\n",
        "\n",
        "# 1. Create a model\n",
        "insurance_model = tf.keras.Sequential([\n",
        "  tf.keras.layers.Dense(10),\n",
        "  tf.keras.layers.Dense(1)\n",
        "])\n",
        "\n",
        "# 2. Compile the model\n",
        "insurance_model.compile(loss=tf.keras.losses.mae,\n",
        "                        optimizer=tf.keras.optimizers.Adam(learning_rate=(0.008)),\n",
        "                        metrics=[\"mae\"])\n",
        "\n",
        "# 3. Fit the model\n",
        "insurance_model.fit(X_train, y_train, epochs=100)"
      ],
      "metadata": {
        "colab": {
          "base_uri": "https://localhost:8080/"
        },
        "id": "6bToAsB8MW4u",
        "outputId": "12be7816-8256-44f6-83dc-493227d1e230"
      },
      "execution_count": 9,
      "outputs": [
        {
          "output_type": "stream",
          "name": "stdout",
          "text": [
            "Epoch 1/100\n",
            "34/34 [==============================] - 1s 3ms/step - loss: 13274.1836 - mae: 13274.1836\n",
            "Epoch 2/100\n",
            "34/34 [==============================] - 0s 2ms/step - loss: 13106.0879 - mae: 13106.0879\n",
            "Epoch 3/100\n",
            "34/34 [==============================] - 0s 2ms/step - loss: 12777.9941 - mae: 12777.9941\n",
            "Epoch 4/100\n",
            "34/34 [==============================] - 0s 2ms/step - loss: 12169.2676 - mae: 12169.2676\n",
            "Epoch 5/100\n",
            "34/34 [==============================] - 0s 2ms/step - loss: 11226.8613 - mae: 11226.8613\n",
            "Epoch 6/100\n",
            "34/34 [==============================] - 0s 2ms/step - loss: 10092.4521 - mae: 10092.4521\n",
            "Epoch 7/100\n",
            "34/34 [==============================] - 0s 2ms/step - loss: 9001.9990 - mae: 9001.9990\n",
            "Epoch 8/100\n",
            "34/34 [==============================] - 0s 4ms/step - loss: 8153.9619 - mae: 8153.9619\n",
            "Epoch 9/100\n",
            "34/34 [==============================] - 0s 4ms/step - loss: 7667.4604 - mae: 7667.4604\n",
            "Epoch 10/100\n",
            "34/34 [==============================] - 0s 7ms/step - loss: 7491.8921 - mae: 7491.8921\n",
            "Epoch 11/100\n",
            "34/34 [==============================] - 0s 3ms/step - loss: 7445.5947 - mae: 7445.5947\n",
            "Epoch 12/100\n",
            "34/34 [==============================] - 0s 4ms/step - loss: 7419.7500 - mae: 7419.7500\n",
            "Epoch 13/100\n",
            "34/34 [==============================] - 0s 4ms/step - loss: 7402.6646 - mae: 7402.6646\n",
            "Epoch 14/100\n",
            "34/34 [==============================] - 0s 4ms/step - loss: 7384.1953 - mae: 7384.1953\n",
            "Epoch 15/100\n",
            "34/34 [==============================] - 0s 5ms/step - loss: 7367.1743 - mae: 7367.1743\n",
            "Epoch 16/100\n",
            "34/34 [==============================] - 0s 5ms/step - loss: 7349.0786 - mae: 7349.0786\n",
            "Epoch 17/100\n",
            "34/34 [==============================] - 0s 3ms/step - loss: 7331.0747 - mae: 7331.0747\n",
            "Epoch 18/100\n",
            "34/34 [==============================] - 0s 3ms/step - loss: 7311.4111 - mae: 7311.4111\n",
            "Epoch 19/100\n",
            "34/34 [==============================] - 0s 6ms/step - loss: 7292.7173 - mae: 7292.7173\n",
            "Epoch 20/100\n",
            "34/34 [==============================] - 0s 7ms/step - loss: 7273.1367 - mae: 7273.1367\n",
            "Epoch 21/100\n",
            "34/34 [==============================] - 0s 8ms/step - loss: 7256.5625 - mae: 7256.5625\n",
            "Epoch 22/100\n",
            "34/34 [==============================] - 0s 5ms/step - loss: 7234.0117 - mae: 7234.0117\n",
            "Epoch 23/100\n",
            "34/34 [==============================] - 0s 7ms/step - loss: 7214.4634 - mae: 7214.4634\n",
            "Epoch 24/100\n",
            "34/34 [==============================] - 0s 4ms/step - loss: 7194.4551 - mae: 7194.4551\n",
            "Epoch 25/100\n",
            "34/34 [==============================] - 0s 6ms/step - loss: 7179.6367 - mae: 7179.6367\n",
            "Epoch 26/100\n",
            "34/34 [==============================] - 0s 5ms/step - loss: 7153.3506 - mae: 7153.3506\n",
            "Epoch 27/100\n",
            "34/34 [==============================] - 0s 4ms/step - loss: 7130.5088 - mae: 7130.5088\n",
            "Epoch 28/100\n",
            "34/34 [==============================] - 0s 4ms/step - loss: 7107.6621 - mae: 7107.6621\n",
            "Epoch 29/100\n",
            "34/34 [==============================] - 0s 3ms/step - loss: 7085.6328 - mae: 7085.6328\n",
            "Epoch 30/100\n",
            "34/34 [==============================] - 0s 6ms/step - loss: 7062.2168 - mae: 7062.2168\n",
            "Epoch 31/100\n",
            "34/34 [==============================] - 0s 3ms/step - loss: 7038.5361 - mae: 7038.5361\n",
            "Epoch 32/100\n",
            "34/34 [==============================] - 0s 4ms/step - loss: 7016.3032 - mae: 7016.3032\n",
            "Epoch 33/100\n",
            "34/34 [==============================] - 0s 3ms/step - loss: 6991.4321 - mae: 6991.4321\n",
            "Epoch 34/100\n",
            "34/34 [==============================] - 0s 3ms/step - loss: 6966.0303 - mae: 6966.0303\n",
            "Epoch 35/100\n",
            "34/34 [==============================] - 0s 3ms/step - loss: 6940.7417 - mae: 6940.7417\n",
            "Epoch 36/100\n",
            "34/34 [==============================] - 0s 3ms/step - loss: 6914.2915 - mae: 6914.2915\n",
            "Epoch 37/100\n",
            "34/34 [==============================] - 0s 7ms/step - loss: 6887.2661 - mae: 6887.2661\n",
            "Epoch 38/100\n",
            "34/34 [==============================] - 0s 6ms/step - loss: 6863.8677 - mae: 6863.8677\n",
            "Epoch 39/100\n",
            "34/34 [==============================] - 0s 4ms/step - loss: 6833.4512 - mae: 6833.4512\n",
            "Epoch 40/100\n",
            "34/34 [==============================] - 0s 4ms/step - loss: 6806.3755 - mae: 6806.3755\n",
            "Epoch 41/100\n",
            "34/34 [==============================] - 0s 4ms/step - loss: 6779.4043 - mae: 6779.4043\n",
            "Epoch 42/100\n",
            "34/34 [==============================] - 0s 4ms/step - loss: 6753.0000 - mae: 6753.0000\n",
            "Epoch 43/100\n",
            "34/34 [==============================] - 0s 6ms/step - loss: 6721.3496 - mae: 6721.3496\n",
            "Epoch 44/100\n",
            "34/34 [==============================] - 0s 5ms/step - loss: 6692.2510 - mae: 6692.2510\n",
            "Epoch 45/100\n",
            "34/34 [==============================] - 0s 7ms/step - loss: 6664.4600 - mae: 6664.4600\n",
            "Epoch 46/100\n",
            "34/34 [==============================] - 0s 8ms/step - loss: 6634.3569 - mae: 6634.3569\n",
            "Epoch 47/100\n",
            "34/34 [==============================] - 0s 4ms/step - loss: 6609.5161 - mae: 6609.5161\n",
            "Epoch 48/100\n",
            "34/34 [==============================] - 0s 4ms/step - loss: 6579.3184 - mae: 6579.3184\n",
            "Epoch 49/100\n",
            "34/34 [==============================] - 0s 3ms/step - loss: 6553.1450 - mae: 6553.1450\n",
            "Epoch 50/100\n",
            "34/34 [==============================] - 0s 4ms/step - loss: 6529.2969 - mae: 6529.2969\n",
            "Epoch 51/100\n",
            "34/34 [==============================] - 0s 3ms/step - loss: 6509.4785 - mae: 6509.4785\n",
            "Epoch 52/100\n",
            "34/34 [==============================] - 0s 3ms/step - loss: 6493.3892 - mae: 6493.3892\n",
            "Epoch 53/100\n",
            "34/34 [==============================] - 0s 5ms/step - loss: 6473.8188 - mae: 6473.8188\n",
            "Epoch 54/100\n",
            "34/34 [==============================] - 0s 6ms/step - loss: 6459.2783 - mae: 6459.2783\n",
            "Epoch 55/100\n",
            "34/34 [==============================] - 0s 7ms/step - loss: 6445.6968 - mae: 6445.6968\n",
            "Epoch 56/100\n",
            "34/34 [==============================] - 0s 4ms/step - loss: 6433.4185 - mae: 6433.4185\n",
            "Epoch 57/100\n",
            "34/34 [==============================] - 0s 4ms/step - loss: 6423.1138 - mae: 6423.1138\n",
            "Epoch 58/100\n",
            "34/34 [==============================] - 0s 4ms/step - loss: 6411.0913 - mae: 6411.0913\n",
            "Epoch 59/100\n",
            "34/34 [==============================] - 0s 4ms/step - loss: 6399.3936 - mae: 6399.3936\n",
            "Epoch 60/100\n",
            "34/34 [==============================] - 0s 6ms/step - loss: 6391.8999 - mae: 6391.8999\n",
            "Epoch 61/100\n",
            "34/34 [==============================] - 0s 5ms/step - loss: 6378.4653 - mae: 6378.4653\n",
            "Epoch 62/100\n",
            "34/34 [==============================] - 0s 3ms/step - loss: 6367.1860 - mae: 6367.1860\n",
            "Epoch 63/100\n",
            "34/34 [==============================] - 0s 4ms/step - loss: 6358.0908 - mae: 6358.0908\n",
            "Epoch 64/100\n",
            "34/34 [==============================] - 0s 5ms/step - loss: 6346.2949 - mae: 6346.2949\n",
            "Epoch 65/100\n",
            "34/34 [==============================] - 0s 5ms/step - loss: 6335.2339 - mae: 6335.2339\n",
            "Epoch 66/100\n",
            "34/34 [==============================] - 0s 5ms/step - loss: 6325.1006 - mae: 6325.1006\n",
            "Epoch 67/100\n",
            "34/34 [==============================] - 0s 4ms/step - loss: 6315.0698 - mae: 6315.0698\n",
            "Epoch 68/100\n",
            "34/34 [==============================] - 0s 5ms/step - loss: 6303.4385 - mae: 6303.4385\n",
            "Epoch 69/100\n",
            "34/34 [==============================] - 0s 5ms/step - loss: 6292.9282 - mae: 6292.9282\n",
            "Epoch 70/100\n",
            "34/34 [==============================] - 0s 8ms/step - loss: 6280.1357 - mae: 6280.1357\n",
            "Epoch 71/100\n",
            "34/34 [==============================] - 0s 3ms/step - loss: 6268.3745 - mae: 6268.3745\n",
            "Epoch 72/100\n",
            "34/34 [==============================] - 0s 2ms/step - loss: 6260.2920 - mae: 6260.2920\n",
            "Epoch 73/100\n",
            "34/34 [==============================] - 0s 3ms/step - loss: 6247.6621 - mae: 6247.6621\n",
            "Epoch 74/100\n",
            "34/34 [==============================] - 0s 3ms/step - loss: 6234.6006 - mae: 6234.6006\n",
            "Epoch 75/100\n",
            "34/34 [==============================] - 0s 2ms/step - loss: 6223.9492 - mae: 6223.9492\n",
            "Epoch 76/100\n",
            "34/34 [==============================] - 0s 4ms/step - loss: 6216.4946 - mae: 6216.4946\n",
            "Epoch 77/100\n",
            "34/34 [==============================] - 0s 5ms/step - loss: 6195.9727 - mae: 6195.9727\n",
            "Epoch 78/100\n",
            "34/34 [==============================] - 0s 4ms/step - loss: 6186.2710 - mae: 6186.2710\n",
            "Epoch 79/100\n",
            "34/34 [==============================] - 0s 3ms/step - loss: 6172.5337 - mae: 6172.5337\n",
            "Epoch 80/100\n",
            "34/34 [==============================] - 0s 4ms/step - loss: 6160.9863 - mae: 6160.9863\n",
            "Epoch 81/100\n",
            "34/34 [==============================] - 0s 4ms/step - loss: 6147.5488 - mae: 6147.5488\n",
            "Epoch 82/100\n",
            "34/34 [==============================] - 0s 3ms/step - loss: 6135.3975 - mae: 6135.3975\n",
            "Epoch 83/100\n",
            "34/34 [==============================] - 0s 4ms/step - loss: 6121.7783 - mae: 6121.7783\n",
            "Epoch 84/100\n",
            "34/34 [==============================] - 0s 3ms/step - loss: 6106.3252 - mae: 6106.3252\n",
            "Epoch 85/100\n",
            "34/34 [==============================] - 0s 3ms/step - loss: 6096.5913 - mae: 6096.5913\n",
            "Epoch 86/100\n",
            "34/34 [==============================] - 0s 3ms/step - loss: 6080.8340 - mae: 6080.8340\n",
            "Epoch 87/100\n",
            "34/34 [==============================] - 0s 3ms/step - loss: 6068.6323 - mae: 6068.6323\n",
            "Epoch 88/100\n",
            "34/34 [==============================] - 0s 3ms/step - loss: 6054.7046 - mae: 6054.7046\n",
            "Epoch 89/100\n",
            "34/34 [==============================] - 0s 3ms/step - loss: 6039.4341 - mae: 6039.4341\n",
            "Epoch 90/100\n",
            "34/34 [==============================] - 0s 4ms/step - loss: 6024.5698 - mae: 6024.5698\n",
            "Epoch 91/100\n",
            "34/34 [==============================] - 0s 4ms/step - loss: 6009.7012 - mae: 6009.7012\n",
            "Epoch 92/100\n",
            "34/34 [==============================] - 0s 3ms/step - loss: 5996.5024 - mae: 5996.5024\n",
            "Epoch 93/100\n",
            "34/34 [==============================] - 0s 4ms/step - loss: 5980.9087 - mae: 5980.9087\n",
            "Epoch 94/100\n",
            "34/34 [==============================] - 0s 4ms/step - loss: 5966.7363 - mae: 5966.7363\n",
            "Epoch 95/100\n",
            "34/34 [==============================] - 0s 3ms/step - loss: 5951.0469 - mae: 5951.0469\n",
            "Epoch 96/100\n",
            "34/34 [==============================] - 0s 4ms/step - loss: 5934.1753 - mae: 5934.1753\n",
            "Epoch 97/100\n",
            "34/34 [==============================] - 0s 2ms/step - loss: 5918.9717 - mae: 5918.9717\n",
            "Epoch 98/100\n",
            "34/34 [==============================] - 0s 4ms/step - loss: 5901.0566 - mae: 5901.0566\n",
            "Epoch 99/100\n",
            "34/34 [==============================] - 0s 3ms/step - loss: 5884.8940 - mae: 5884.8940\n",
            "Epoch 100/100\n",
            "34/34 [==============================] - 0s 4ms/step - loss: 5867.0508 - mae: 5867.0508\n"
          ]
        },
        {
          "output_type": "execute_result",
          "data": {
            "text/plain": [
              "<keras.src.callbacks.History at 0x7fe5245fd120>"
            ]
          },
          "metadata": {},
          "execution_count": 9
        }
      ]
    },
    {
      "cell_type": "code",
      "source": [
        "# Check the results of the insurance model on the test data\n",
        "insurance_model.evaluate(X_test, y_test)"
      ],
      "metadata": {
        "colab": {
          "base_uri": "https://localhost:8080/"
        },
        "id": "qImWRBXiilkI",
        "outputId": "0d109405-7dcb-412b-d9bf-648fae2c1125"
      },
      "execution_count": 10,
      "outputs": [
        {
          "output_type": "stream",
          "name": "stdout",
          "text": [
            "9/9 [==============================] - 0s 3ms/step - loss: 5731.3926 - mae: 5731.3926\n"
          ]
        },
        {
          "output_type": "execute_result",
          "data": {
            "text/plain": [
              "[5731.392578125, 5731.392578125]"
            ]
          },
          "metadata": {},
          "execution_count": 10
        }
      ]
    },
    {
      "cell_type": "code",
      "source": [
        "y_train.median(), y_train.mean()"
      ],
      "metadata": {
        "colab": {
          "base_uri": "https://localhost:8080/"
        },
        "id": "cnyKpuZrjIUI",
        "outputId": "b23d08e5-55c7-46f5-a848-12a4bb34b184"
      },
      "execution_count": 11,
      "outputs": [
        {
          "output_type": "execute_result",
          "data": {
            "text/plain": [
              "(9575.4421, 13346.089736364485)"
            ]
          },
          "metadata": {},
          "execution_count": 11
        }
      ]
    },
    {
      "cell_type": "markdown",
      "source": [
        "Right now it looks like our model isn't performing too well... let's try and improve it!\n",
        "\n",
        "To (try) improve our model, we'll run 2 experiments:\n",
        "\n",
        " 1. Add an extra layer with more hidden units and use the Adam optimizer\n",
        " 2. Same as above but train for longer (200 epochs)"
      ],
      "metadata": {
        "id": "oqcjxRe7jaUI"
      }
    },
    {
      "cell_type": "code",
      "source": [
        "# Set random seed\n",
        "tf.random.set_seed(42)\n",
        "\n",
        "# 1. Create the model\n",
        "insurance_model_2 = tf.keras.Sequential([\n",
        "    tf.keras.layers.Dense(100),\n",
        "    tf.keras.layers.Dense(10),\n",
        "    tf.keras.layers.Dense(1)\n",
        "])\n",
        "\n",
        "# 2. Compile the model\n",
        "insurance_model_2.compile(loss=tf.keras.losses.mae,\n",
        "                                     optimizer=tf.keras.optimizers.Adam(),\n",
        "                                     metrics=[\"mae\"])\n",
        "\n",
        "# 3. Fit the model\n",
        "insurance_model_2.fit(X_train, y_train, epochs=100)"
      ],
      "metadata": {
        "colab": {
          "base_uri": "https://localhost:8080/"
        },
        "id": "vaVmYuMrj7wv",
        "outputId": "9cd2e844-fb6f-4057-daf9-202720be0f40"
      },
      "execution_count": 12,
      "outputs": [
        {
          "output_type": "stream",
          "name": "stdout",
          "text": [
            "Epoch 1/100\n",
            "34/34 [==============================] - 2s 4ms/step - loss: 13298.0449 - mae: 13298.0449\n",
            "Epoch 2/100\n",
            "34/34 [==============================] - 0s 3ms/step - loss: 13165.1299 - mae: 13165.1299\n",
            "Epoch 3/100\n",
            "34/34 [==============================] - 0s 3ms/step - loss: 12866.1709 - mae: 12866.1709\n",
            "Epoch 4/100\n",
            "34/34 [==============================] - 0s 3ms/step - loss: 12250.7266 - mae: 12250.7266\n",
            "Epoch 5/100\n",
            "34/34 [==============================] - 0s 2ms/step - loss: 11177.6426 - mae: 11177.6426\n",
            "Epoch 6/100\n",
            "34/34 [==============================] - 0s 4ms/step - loss: 9723.8037 - mae: 9723.8037\n",
            "Epoch 7/100\n",
            "34/34 [==============================] - 0s 2ms/step - loss: 8319.5957 - mae: 8319.5957\n",
            "Epoch 8/100\n",
            "34/34 [==============================] - 0s 3ms/step - loss: 7565.2920 - mae: 7565.2920\n",
            "Epoch 9/100\n",
            "34/34 [==============================] - 0s 3ms/step - loss: 7418.0679 - mae: 7418.0679\n",
            "Epoch 10/100\n",
            "34/34 [==============================] - 0s 3ms/step - loss: 7396.1411 - mae: 7396.1411\n",
            "Epoch 11/100\n",
            "34/34 [==============================] - 0s 6ms/step - loss: 7377.8999 - mae: 7377.8999\n",
            "Epoch 12/100\n",
            "34/34 [==============================] - 0s 5ms/step - loss: 7356.9639 - mae: 7356.9639\n",
            "Epoch 13/100\n",
            "34/34 [==============================] - 0s 6ms/step - loss: 7337.4185 - mae: 7337.4185\n",
            "Epoch 14/100\n",
            "34/34 [==============================] - 0s 5ms/step - loss: 7315.8628 - mae: 7315.8628\n",
            "Epoch 15/100\n",
            "34/34 [==============================] - 0s 5ms/step - loss: 7298.0010 - mae: 7298.0010\n",
            "Epoch 16/100\n",
            "34/34 [==============================] - 0s 3ms/step - loss: 7276.6548 - mae: 7276.6548\n",
            "Epoch 17/100\n",
            "34/34 [==============================] - 0s 5ms/step - loss: 7257.3652 - mae: 7257.3647\n",
            "Epoch 18/100\n",
            "34/34 [==============================] - 0s 5ms/step - loss: 7235.2432 - mae: 7235.2432\n",
            "Epoch 19/100\n",
            "34/34 [==============================] - 0s 5ms/step - loss: 7213.9185 - mae: 7213.9185\n",
            "Epoch 20/100\n",
            "34/34 [==============================] - 0s 7ms/step - loss: 7191.4541 - mae: 7191.4541\n",
            "Epoch 21/100\n",
            "34/34 [==============================] - 0s 5ms/step - loss: 7174.1782 - mae: 7174.1782\n",
            "Epoch 22/100\n",
            "34/34 [==============================] - 0s 8ms/step - loss: 7147.1968 - mae: 7147.1968\n",
            "Epoch 23/100\n",
            "34/34 [==============================] - 0s 4ms/step - loss: 7123.4248 - mae: 7123.4248\n",
            "Epoch 24/100\n",
            "34/34 [==============================] - 0s 4ms/step - loss: 7099.9590 - mae: 7099.9590\n",
            "Epoch 25/100\n",
            "34/34 [==============================] - 0s 6ms/step - loss: 7083.4634 - mae: 7083.4634\n",
            "Epoch 26/100\n",
            "34/34 [==============================] - 0s 7ms/step - loss: 7052.2544 - mae: 7052.2544\n",
            "Epoch 27/100\n",
            "34/34 [==============================] - 0s 6ms/step - loss: 7025.8970 - mae: 7025.8970\n",
            "Epoch 28/100\n",
            "34/34 [==============================] - 0s 4ms/step - loss: 6999.4316 - mae: 6999.4316\n",
            "Epoch 29/100\n",
            "34/34 [==============================] - 0s 5ms/step - loss: 6973.2988 - mae: 6973.2988\n",
            "Epoch 30/100\n",
            "34/34 [==============================] - 0s 7ms/step - loss: 6947.3193 - mae: 6947.3193\n",
            "Epoch 31/100\n",
            "34/34 [==============================] - 0s 7ms/step - loss: 6918.4443 - mae: 6918.4443\n",
            "Epoch 32/100\n",
            "34/34 [==============================] - 0s 6ms/step - loss: 6892.2725 - mae: 6892.2725\n",
            "Epoch 33/100\n",
            "34/34 [==============================] - 0s 11ms/step - loss: 6862.7788 - mae: 6862.7788\n",
            "Epoch 34/100\n",
            "34/34 [==============================] - 0s 5ms/step - loss: 6833.5464 - mae: 6833.5464\n",
            "Epoch 35/100\n",
            "34/34 [==============================] - 0s 3ms/step - loss: 6802.6313 - mae: 6802.6313\n",
            "Epoch 36/100\n",
            "34/34 [==============================] - 0s 3ms/step - loss: 6770.7163 - mae: 6770.7163\n",
            "Epoch 37/100\n",
            "34/34 [==============================] - 0s 3ms/step - loss: 6737.0273 - mae: 6737.0273\n",
            "Epoch 38/100\n",
            "34/34 [==============================] - 0s 5ms/step - loss: 6707.9248 - mae: 6707.9248\n",
            "Epoch 39/100\n",
            "34/34 [==============================] - 0s 3ms/step - loss: 6671.6558 - mae: 6671.6558\n",
            "Epoch 40/100\n",
            "34/34 [==============================] - 0s 3ms/step - loss: 6639.0864 - mae: 6639.0864\n",
            "Epoch 41/100\n",
            "34/34 [==============================] - 0s 3ms/step - loss: 6607.5220 - mae: 6607.5220\n",
            "Epoch 42/100\n",
            "34/34 [==============================] - 0s 3ms/step - loss: 6578.3135 - mae: 6578.3135\n",
            "Epoch 43/100\n",
            "34/34 [==============================] - 0s 3ms/step - loss: 6550.0151 - mae: 6550.0151\n",
            "Epoch 44/100\n",
            "34/34 [==============================] - 0s 3ms/step - loss: 6526.1338 - mae: 6526.1338\n",
            "Epoch 45/100\n",
            "34/34 [==============================] - 0s 3ms/step - loss: 6510.2144 - mae: 6510.2144\n",
            "Epoch 46/100\n",
            "34/34 [==============================] - 0s 3ms/step - loss: 6490.7441 - mae: 6490.7441\n",
            "Epoch 47/100\n",
            "34/34 [==============================] - 0s 4ms/step - loss: 6475.5049 - mae: 6475.5049\n",
            "Epoch 48/100\n",
            "34/34 [==============================] - 0s 3ms/step - loss: 6460.8169 - mae: 6460.8169\n",
            "Epoch 49/100\n",
            "34/34 [==============================] - 0s 3ms/step - loss: 6448.4512 - mae: 6448.4512\n",
            "Epoch 50/100\n",
            "34/34 [==============================] - 0s 3ms/step - loss: 6434.3428 - mae: 6434.3428\n",
            "Epoch 51/100\n",
            "34/34 [==============================] - 0s 3ms/step - loss: 6421.3545 - mae: 6421.3545\n",
            "Epoch 52/100\n",
            "34/34 [==============================] - 0s 3ms/step - loss: 6410.9243 - mae: 6410.9243\n",
            "Epoch 53/100\n",
            "34/34 [==============================] - 0s 3ms/step - loss: 6397.4233 - mae: 6397.4233\n",
            "Epoch 54/100\n",
            "34/34 [==============================] - 0s 4ms/step - loss: 6384.7832 - mae: 6384.7832\n",
            "Epoch 55/100\n",
            "34/34 [==============================] - 0s 3ms/step - loss: 6372.0161 - mae: 6372.0161\n",
            "Epoch 56/100\n",
            "34/34 [==============================] - 0s 4ms/step - loss: 6358.5635 - mae: 6358.5635\n",
            "Epoch 57/100\n",
            "34/34 [==============================] - 0s 3ms/step - loss: 6347.5654 - mae: 6347.5654\n",
            "Epoch 58/100\n",
            "34/34 [==============================] - 0s 2ms/step - loss: 6333.1704 - mae: 6333.1704\n",
            "Epoch 59/100\n",
            "34/34 [==============================] - 0s 3ms/step - loss: 6319.6660 - mae: 6319.6660\n",
            "Epoch 60/100\n",
            "34/34 [==============================] - 0s 3ms/step - loss: 6310.1924 - mae: 6310.1924\n",
            "Epoch 61/100\n",
            "34/34 [==============================] - 0s 3ms/step - loss: 6292.3203 - mae: 6292.3203\n",
            "Epoch 62/100\n",
            "34/34 [==============================] - 0s 3ms/step - loss: 6280.1123 - mae: 6280.1123\n",
            "Epoch 63/100\n",
            "34/34 [==============================] - 0s 3ms/step - loss: 6263.2964 - mae: 6263.2964\n",
            "Epoch 64/100\n",
            "34/34 [==============================] - 0s 3ms/step - loss: 6248.4863 - mae: 6248.4863\n",
            "Epoch 65/100\n",
            "34/34 [==============================] - 0s 3ms/step - loss: 6232.2588 - mae: 6232.2588\n",
            "Epoch 66/100\n",
            "34/34 [==============================] - 0s 4ms/step - loss: 6216.7041 - mae: 6216.7041\n",
            "Epoch 67/100\n",
            "34/34 [==============================] - 0s 6ms/step - loss: 6205.2705 - mae: 6205.2705\n",
            "Epoch 68/100\n",
            "34/34 [==============================] - 0s 4ms/step - loss: 6185.1626 - mae: 6185.1626\n",
            "Epoch 69/100\n",
            "34/34 [==============================] - 0s 4ms/step - loss: 6169.7998 - mae: 6169.7998\n",
            "Epoch 70/100\n",
            "34/34 [==============================] - 0s 3ms/step - loss: 6150.9121 - mae: 6150.9121\n",
            "Epoch 71/100\n",
            "34/34 [==============================] - 0s 4ms/step - loss: 6132.8062 - mae: 6132.8062\n",
            "Epoch 72/100\n",
            "34/34 [==============================] - 0s 3ms/step - loss: 6115.4590 - mae: 6115.4590\n",
            "Epoch 73/100\n",
            "34/34 [==============================] - 0s 3ms/step - loss: 6101.6826 - mae: 6101.6826\n",
            "Epoch 74/100\n",
            "34/34 [==============================] - 0s 3ms/step - loss: 6077.7534 - mae: 6077.7534\n",
            "Epoch 75/100\n",
            "34/34 [==============================] - 0s 4ms/step - loss: 6059.8667 - mae: 6059.8667\n",
            "Epoch 76/100\n",
            "34/34 [==============================] - 0s 4ms/step - loss: 6045.8218 - mae: 6045.8218\n",
            "Epoch 77/100\n",
            "34/34 [==============================] - 0s 3ms/step - loss: 6014.8379 - mae: 6014.8379\n",
            "Epoch 78/100\n",
            "34/34 [==============================] - 0s 3ms/step - loss: 5994.9985 - mae: 5994.9985\n",
            "Epoch 79/100\n",
            "34/34 [==============================] - 0s 3ms/step - loss: 5973.0049 - mae: 5973.0049\n",
            "Epoch 80/100\n",
            "34/34 [==============================] - 0s 3ms/step - loss: 5948.8149 - mae: 5948.8149\n",
            "Epoch 81/100\n",
            "34/34 [==============================] - 0s 3ms/step - loss: 5925.4790 - mae: 5925.4790\n",
            "Epoch 82/100\n",
            "34/34 [==============================] - 0s 3ms/step - loss: 5901.9355 - mae: 5901.9355\n",
            "Epoch 83/100\n",
            "34/34 [==============================] - 0s 3ms/step - loss: 5875.7588 - mae: 5875.7588\n",
            "Epoch 84/100\n",
            "34/34 [==============================] - 0s 3ms/step - loss: 5844.2051 - mae: 5844.2051\n",
            "Epoch 85/100\n",
            "34/34 [==============================] - 0s 3ms/step - loss: 5822.8613 - mae: 5822.8613\n",
            "Epoch 86/100\n",
            "34/34 [==============================] - 0s 4ms/step - loss: 5789.9727 - mae: 5789.9727\n",
            "Epoch 87/100\n",
            "34/34 [==============================] - 0s 4ms/step - loss: 5758.7397 - mae: 5758.7397\n",
            "Epoch 88/100\n",
            "34/34 [==============================] - 0s 3ms/step - loss: 5729.1904 - mae: 5729.1904\n",
            "Epoch 89/100\n",
            "34/34 [==============================] - 0s 5ms/step - loss: 5693.5273 - mae: 5693.5273\n",
            "Epoch 90/100\n",
            "34/34 [==============================] - 0s 4ms/step - loss: 5657.3213 - mae: 5657.3213\n",
            "Epoch 91/100\n",
            "34/34 [==============================] - 0s 3ms/step - loss: 5626.8643 - mae: 5626.8643\n",
            "Epoch 92/100\n",
            "34/34 [==============================] - 0s 2ms/step - loss: 5581.7471 - mae: 5581.7471\n",
            "Epoch 93/100\n",
            "34/34 [==============================] - 0s 3ms/step - loss: 5546.0425 - mae: 5546.0425\n",
            "Epoch 94/100\n",
            "34/34 [==============================] - 0s 2ms/step - loss: 5509.4551 - mae: 5509.4551\n",
            "Epoch 95/100\n",
            "34/34 [==============================] - 0s 2ms/step - loss: 5460.6890 - mae: 5460.6890\n",
            "Epoch 96/100\n",
            "34/34 [==============================] - 0s 4ms/step - loss: 5421.1157 - mae: 5421.1157\n",
            "Epoch 97/100\n",
            "34/34 [==============================] - 0s 4ms/step - loss: 5373.5347 - mae: 5373.5347\n",
            "Epoch 98/100\n",
            "34/34 [==============================] - 0s 6ms/step - loss: 5319.9312 - mae: 5319.9312\n",
            "Epoch 99/100\n",
            "34/34 [==============================] - 0s 5ms/step - loss: 5267.7944 - mae: 5267.7944\n",
            "Epoch 100/100\n",
            "34/34 [==============================] - 0s 4ms/step - loss: 5216.3208 - mae: 5216.3208\n"
          ]
        },
        {
          "output_type": "execute_result",
          "data": {
            "text/plain": [
              "<keras.src.callbacks.History at 0x7fe51c3bb460>"
            ]
          },
          "metadata": {},
          "execution_count": 12
        }
      ]
    },
    {
      "cell_type": "code",
      "source": [
        "# Evaluate the larger model\n",
        "insurance_model_2.evaluate(X_test, y_test)"
      ],
      "metadata": {
        "id": "Rd-t4MvYsNna",
        "outputId": "01590c2b-aa79-4f6a-b147-dc03e727e290",
        "colab": {
          "base_uri": "https://localhost:8080/"
        }
      },
      "execution_count": 13,
      "outputs": [
        {
          "output_type": "stream",
          "name": "stdout",
          "text": [
            "9/9 [==============================] - 0s 2ms/step - loss: 5084.3560 - mae: 5084.3560\n"
          ]
        },
        {
          "output_type": "execute_result",
          "data": {
            "text/plain": [
              "[5084.35595703125, 5084.35595703125]"
            ]
          },
          "metadata": {},
          "execution_count": 13
        }
      ]
    },
    {
      "cell_type": "code",
      "source": [
        "insurance_model.evaluate(X_test, y_test)"
      ],
      "metadata": {
        "id": "ocGvi2vUstQl",
        "outputId": "2a5e9bf1-6616-462e-a46c-da42c0d61f72",
        "colab": {
          "base_uri": "https://localhost:8080/"
        }
      },
      "execution_count": 14,
      "outputs": [
        {
          "output_type": "stream",
          "name": "stdout",
          "text": [
            "9/9 [==============================] - 0s 2ms/step - loss: 5731.3926 - mae: 5731.3926\n"
          ]
        },
        {
          "output_type": "execute_result",
          "data": {
            "text/plain": [
              "[5731.392578125, 5731.392578125]"
            ]
          },
          "metadata": {},
          "execution_count": 14
        }
      ]
    },
    {
      "cell_type": "code",
      "source": [
        "# Set random seed\n",
        "tf.random.set_seed(42)\n",
        "\n",
        "# 1. Create the model\n",
        "insurance_model_3 = tf.keras.Sequential([\n",
        "    tf.keras.layers.Dense(100),\n",
        "    tf.keras.layers.Dense(10),\n",
        "    tf.keras.layers.Dense(1)\n",
        "])\n",
        "\n",
        "# 2. Compile the model\n",
        "insurance_model_3.compile(loss=tf.keras.losses.mae,\n",
        "                          optimizer=tf.keras.optimizers.Adam(),\n",
        "                          metrics=[\"mae\"])\n",
        "\n",
        "# 3. Fit the model\n",
        "history = insurance_model_3.fit(X_train, y_train, epochs=200)"
      ],
      "metadata": {
        "id": "DNhPiC3St2ZA",
        "outputId": "e0393dd1-ed6b-475a-f60b-4a6fb114cc21",
        "colab": {
          "base_uri": "https://localhost:8080/"
        }
      },
      "execution_count": 15,
      "outputs": [
        {
          "output_type": "stream",
          "name": "stdout",
          "text": [
            "Epoch 1/200\n",
            "34/34 [==============================] - 1s 3ms/step - loss: 13276.3438 - mae: 13276.3438\n",
            "Epoch 2/200\n",
            "34/34 [==============================] - 0s 3ms/step - loss: 13093.0273 - mae: 13093.0273\n",
            "Epoch 3/200\n",
            "34/34 [==============================] - 0s 2ms/step - loss: 12712.2539 - mae: 12712.2539\n",
            "Epoch 4/200\n",
            "34/34 [==============================] - 0s 3ms/step - loss: 11986.0479 - mae: 11986.0479\n",
            "Epoch 5/200\n",
            "34/34 [==============================] - 0s 3ms/step - loss: 10818.0977 - mae: 10818.0977\n",
            "Epoch 6/200\n",
            "34/34 [==============================] - 0s 3ms/step - loss: 9392.3271 - mae: 9392.3271\n",
            "Epoch 7/200\n",
            "34/34 [==============================] - 0s 3ms/step - loss: 8127.2793 - mae: 8127.2793\n",
            "Epoch 8/200\n",
            "34/34 [==============================] - 0s 4ms/step - loss: 7548.3950 - mae: 7548.3950\n",
            "Epoch 9/200\n",
            "34/34 [==============================] - 0s 2ms/step - loss: 7454.6318 - mae: 7454.6318\n",
            "Epoch 10/200\n",
            "34/34 [==============================] - 0s 3ms/step - loss: 7434.7012 - mae: 7434.7012\n",
            "Epoch 11/200\n",
            "34/34 [==============================] - 0s 4ms/step - loss: 7416.3130 - mae: 7416.3130\n",
            "Epoch 12/200\n",
            "34/34 [==============================] - 0s 2ms/step - loss: 7394.5415 - mae: 7394.5415\n",
            "Epoch 13/200\n",
            "34/34 [==============================] - 0s 2ms/step - loss: 7374.4741 - mae: 7374.4741\n",
            "Epoch 14/200\n",
            "34/34 [==============================] - 0s 2ms/step - loss: 7352.6680 - mae: 7352.6680\n",
            "Epoch 15/200\n",
            "34/34 [==============================] - 0s 4ms/step - loss: 7333.7041 - mae: 7333.7041\n",
            "Epoch 16/200\n",
            "34/34 [==============================] - 0s 3ms/step - loss: 7311.6089 - mae: 7311.6089\n",
            "Epoch 17/200\n",
            "34/34 [==============================] - 0s 3ms/step - loss: 7291.6411 - mae: 7291.6411\n",
            "Epoch 18/200\n",
            "34/34 [==============================] - 0s 3ms/step - loss: 7268.5054 - mae: 7268.5054\n",
            "Epoch 19/200\n",
            "34/34 [==============================] - 0s 4ms/step - loss: 7246.6528 - mae: 7246.6528\n",
            "Epoch 20/200\n",
            "34/34 [==============================] - 0s 3ms/step - loss: 7224.0386 - mae: 7224.0386\n",
            "Epoch 21/200\n",
            "34/34 [==============================] - 0s 3ms/step - loss: 7204.0991 - mae: 7204.0991\n",
            "Epoch 22/200\n",
            "34/34 [==============================] - 0s 3ms/step - loss: 7179.1362 - mae: 7179.1362\n",
            "Epoch 23/200\n",
            "34/34 [==============================] - 0s 3ms/step - loss: 7155.1362 - mae: 7155.1362\n",
            "Epoch 24/200\n",
            "34/34 [==============================] - 0s 3ms/step - loss: 7130.5503 - mae: 7130.5503\n",
            "Epoch 25/200\n",
            "34/34 [==============================] - 0s 5ms/step - loss: 7113.5186 - mae: 7113.5186\n",
            "Epoch 26/200\n",
            "34/34 [==============================] - 0s 3ms/step - loss: 7082.5981 - mae: 7082.5981\n",
            "Epoch 27/200\n",
            "34/34 [==============================] - 0s 3ms/step - loss: 7054.4810 - mae: 7054.4810\n",
            "Epoch 28/200\n",
            "34/34 [==============================] - 0s 3ms/step - loss: 7027.1377 - mae: 7027.1377\n",
            "Epoch 29/200\n",
            "34/34 [==============================] - 0s 5ms/step - loss: 7000.7568 - mae: 7000.7568\n",
            "Epoch 30/200\n",
            "34/34 [==============================] - 0s 2ms/step - loss: 6973.5142 - mae: 6973.5142\n",
            "Epoch 31/200\n",
            "34/34 [==============================] - 0s 2ms/step - loss: 6943.5962 - mae: 6943.5962\n",
            "Epoch 32/200\n",
            "34/34 [==============================] - 0s 2ms/step - loss: 6916.7500 - mae: 6916.7500\n",
            "Epoch 33/200\n",
            "34/34 [==============================] - 0s 2ms/step - loss: 6885.6460 - mae: 6885.6460\n",
            "Epoch 34/200\n",
            "34/34 [==============================] - 0s 3ms/step - loss: 6854.8203 - mae: 6854.8203\n",
            "Epoch 35/200\n",
            "34/34 [==============================] - 0s 3ms/step - loss: 6822.6714 - mae: 6822.6714\n",
            "Epoch 36/200\n",
            "34/34 [==============================] - 0s 3ms/step - loss: 6789.6484 - mae: 6789.6484\n",
            "Epoch 37/200\n",
            "34/34 [==============================] - 0s 3ms/step - loss: 6754.7598 - mae: 6754.7598\n",
            "Epoch 38/200\n",
            "34/34 [==============================] - 0s 4ms/step - loss: 6722.8843 - mae: 6722.8843\n",
            "Epoch 39/200\n",
            "34/34 [==============================] - 0s 2ms/step - loss: 6683.9458 - mae: 6683.9458\n",
            "Epoch 40/200\n",
            "34/34 [==============================] - 0s 3ms/step - loss: 6648.2769 - mae: 6648.2769\n",
            "Epoch 41/200\n",
            "34/34 [==============================] - 0s 4ms/step - loss: 6614.2500 - mae: 6614.2500\n",
            "Epoch 42/200\n",
            "34/34 [==============================] - 0s 3ms/step - loss: 6584.2695 - mae: 6584.2695\n",
            "Epoch 43/200\n",
            "34/34 [==============================] - 0s 3ms/step - loss: 6549.3477 - mae: 6549.3477\n",
            "Epoch 44/200\n",
            "34/34 [==============================] - 0s 3ms/step - loss: 6521.8096 - mae: 6521.8096\n",
            "Epoch 45/200\n",
            "34/34 [==============================] - 0s 3ms/step - loss: 6501.3525 - mae: 6501.3525\n",
            "Epoch 46/200\n",
            "34/34 [==============================] - 0s 4ms/step - loss: 6480.6660 - mae: 6480.6660\n",
            "Epoch 47/200\n",
            "34/34 [==============================] - 0s 2ms/step - loss: 6463.2256 - mae: 6463.2256\n",
            "Epoch 48/200\n",
            "34/34 [==============================] - 0s 2ms/step - loss: 6445.8765 - mae: 6445.8765\n",
            "Epoch 49/200\n",
            "34/34 [==============================] - 0s 2ms/step - loss: 6431.9248 - mae: 6431.9248\n",
            "Epoch 50/200\n",
            "34/34 [==============================] - 0s 3ms/step - loss: 6418.1763 - mae: 6418.1763\n",
            "Epoch 51/200\n",
            "34/34 [==============================] - 0s 4ms/step - loss: 6404.1650 - mae: 6404.1650\n",
            "Epoch 52/200\n",
            "34/34 [==============================] - 0s 2ms/step - loss: 6392.3335 - mae: 6392.3335\n",
            "Epoch 53/200\n",
            "34/34 [==============================] - 0s 2ms/step - loss: 6377.9780 - mae: 6377.9780\n",
            "Epoch 54/200\n",
            "34/34 [==============================] - 0s 2ms/step - loss: 6363.7925 - mae: 6363.7925\n",
            "Epoch 55/200\n",
            "34/34 [==============================] - 0s 3ms/step - loss: 6349.9946 - mae: 6349.9946\n",
            "Epoch 56/200\n",
            "34/34 [==============================] - 0s 3ms/step - loss: 6335.6675 - mae: 6335.6675\n",
            "Epoch 57/200\n",
            "34/34 [==============================] - 0s 3ms/step - loss: 6323.5942 - mae: 6323.5942\n",
            "Epoch 58/200\n",
            "34/34 [==============================] - 0s 2ms/step - loss: 6309.0791 - mae: 6309.0791\n",
            "Epoch 59/200\n",
            "34/34 [==============================] - 0s 2ms/step - loss: 6293.2329 - mae: 6293.2329\n",
            "Epoch 60/200\n",
            "34/34 [==============================] - 0s 2ms/step - loss: 6281.9360 - mae: 6281.9360\n",
            "Epoch 61/200\n",
            "34/34 [==============================] - 0s 2ms/step - loss: 6262.3208 - mae: 6262.3208\n",
            "Epoch 62/200\n",
            "34/34 [==============================] - 0s 2ms/step - loss: 6249.6274 - mae: 6249.6274\n",
            "Epoch 63/200\n",
            "34/34 [==============================] - 0s 2ms/step - loss: 6231.4824 - mae: 6231.4824\n",
            "Epoch 64/200\n",
            "34/34 [==============================] - 0s 2ms/step - loss: 6215.1265 - mae: 6215.1265\n",
            "Epoch 65/200\n",
            "34/34 [==============================] - 0s 2ms/step - loss: 6197.8325 - mae: 6197.8325\n",
            "Epoch 66/200\n",
            "34/34 [==============================] - 0s 2ms/step - loss: 6180.4697 - mae: 6180.4697\n",
            "Epoch 67/200\n",
            "34/34 [==============================] - 0s 3ms/step - loss: 6167.7065 - mae: 6167.7065\n",
            "Epoch 68/200\n",
            "34/34 [==============================] - 0s 3ms/step - loss: 6144.9858 - mae: 6144.9858\n",
            "Epoch 69/200\n",
            "34/34 [==============================] - 0s 3ms/step - loss: 6128.4238 - mae: 6128.4238\n",
            "Epoch 70/200\n",
            "34/34 [==============================] - 0s 3ms/step - loss: 6107.8340 - mae: 6107.8340\n",
            "Epoch 71/200\n",
            "34/34 [==============================] - 0s 3ms/step - loss: 6088.0225 - mae: 6088.0225\n",
            "Epoch 72/200\n",
            "34/34 [==============================] - 0s 3ms/step - loss: 6069.8203 - mae: 6069.8203\n",
            "Epoch 73/200\n",
            "34/34 [==============================] - 0s 3ms/step - loss: 6053.8149 - mae: 6053.8149\n",
            "Epoch 74/200\n",
            "34/34 [==============================] - 0s 3ms/step - loss: 6026.0752 - mae: 6026.0752\n",
            "Epoch 75/200\n",
            "34/34 [==============================] - 0s 3ms/step - loss: 6005.0342 - mae: 6005.0342\n",
            "Epoch 76/200\n",
            "34/34 [==============================] - 0s 5ms/step - loss: 5990.1504 - mae: 5990.1504\n",
            "Epoch 77/200\n",
            "34/34 [==============================] - 0s 5ms/step - loss: 5957.2236 - mae: 5957.2236\n",
            "Epoch 78/200\n",
            "34/34 [==============================] - 0s 4ms/step - loss: 5934.0801 - mae: 5934.0801\n",
            "Epoch 79/200\n",
            "34/34 [==============================] - 0s 2ms/step - loss: 5909.4077 - mae: 5909.4077\n",
            "Epoch 80/200\n",
            "34/34 [==============================] - 0s 3ms/step - loss: 5881.8569 - mae: 5881.8569\n",
            "Epoch 81/200\n",
            "34/34 [==============================] - 0s 5ms/step - loss: 5855.0708 - mae: 5855.0708\n",
            "Epoch 82/200\n",
            "34/34 [==============================] - 0s 6ms/step - loss: 5827.4580 - mae: 5827.4580\n",
            "Epoch 83/200\n",
            "34/34 [==============================] - 0s 3ms/step - loss: 5798.7402 - mae: 5798.7402\n",
            "Epoch 84/200\n",
            "34/34 [==============================] - 0s 5ms/step - loss: 5765.5464 - mae: 5765.5464\n",
            "Epoch 85/200\n",
            "34/34 [==============================] - 0s 4ms/step - loss: 5738.4731 - mae: 5738.4731\n",
            "Epoch 86/200\n",
            "34/34 [==============================] - 0s 2ms/step - loss: 5704.5620 - mae: 5704.5620\n",
            "Epoch 87/200\n",
            "34/34 [==============================] - 0s 3ms/step - loss: 5667.4526 - mae: 5667.4526\n",
            "Epoch 88/200\n",
            "34/34 [==============================] - 0s 3ms/step - loss: 5632.1548 - mae: 5632.1548\n",
            "Epoch 89/200\n",
            "34/34 [==============================] - 0s 2ms/step - loss: 5593.6255 - mae: 5593.6255\n",
            "Epoch 90/200\n",
            "34/34 [==============================] - 0s 5ms/step - loss: 5552.1392 - mae: 5552.1392\n",
            "Epoch 91/200\n",
            "34/34 [==============================] - 0s 5ms/step - loss: 5516.2852 - mae: 5516.2852\n",
            "Epoch 92/200\n",
            "34/34 [==============================] - 0s 3ms/step - loss: 5466.9028 - mae: 5466.9028\n",
            "Epoch 93/200\n",
            "34/34 [==============================] - 0s 3ms/step - loss: 5424.7036 - mae: 5424.7036\n",
            "Epoch 94/200\n",
            "34/34 [==============================] - 0s 6ms/step - loss: 5378.6792 - mae: 5378.6792\n",
            "Epoch 95/200\n",
            "34/34 [==============================] - 0s 3ms/step - loss: 5326.1206 - mae: 5326.1206\n",
            "Epoch 96/200\n",
            "34/34 [==============================] - 0s 3ms/step - loss: 5282.4302 - mae: 5282.4302\n",
            "Epoch 97/200\n",
            "34/34 [==============================] - 0s 3ms/step - loss: 5228.1533 - mae: 5228.1533\n",
            "Epoch 98/200\n",
            "34/34 [==============================] - 0s 3ms/step - loss: 5165.7471 - mae: 5165.7471\n",
            "Epoch 99/200\n",
            "34/34 [==============================] - 0s 2ms/step - loss: 5108.1240 - mae: 5108.1240\n",
            "Epoch 100/200\n",
            "34/34 [==============================] - 0s 3ms/step - loss: 5053.0146 - mae: 5053.0146\n",
            "Epoch 101/200\n",
            "34/34 [==============================] - 0s 3ms/step - loss: 4983.3872 - mae: 4983.3872\n",
            "Epoch 102/200\n",
            "34/34 [==============================] - 0s 3ms/step - loss: 4911.9961 - mae: 4911.9961\n",
            "Epoch 103/200\n",
            "34/34 [==============================] - 0s 3ms/step - loss: 4845.1421 - mae: 4845.1421\n",
            "Epoch 104/200\n",
            "34/34 [==============================] - 0s 2ms/step - loss: 4767.1543 - mae: 4767.1543\n",
            "Epoch 105/200\n",
            "34/34 [==============================] - 0s 2ms/step - loss: 4683.2183 - mae: 4683.2183\n",
            "Epoch 106/200\n",
            "34/34 [==============================] - 0s 4ms/step - loss: 4601.8823 - mae: 4601.8823\n",
            "Epoch 107/200\n",
            "34/34 [==============================] - 0s 6ms/step - loss: 4517.1982 - mae: 4517.1982\n",
            "Epoch 108/200\n",
            "34/34 [==============================] - 0s 3ms/step - loss: 4427.3203 - mae: 4427.3203\n",
            "Epoch 109/200\n",
            "34/34 [==============================] - 0s 3ms/step - loss: 4345.7163 - mae: 4345.7163\n",
            "Epoch 110/200\n",
            "34/34 [==============================] - 0s 4ms/step - loss: 4261.6318 - mae: 4261.6318\n",
            "Epoch 111/200\n",
            "34/34 [==============================] - 0s 3ms/step - loss: 4180.2246 - mae: 4180.2246\n",
            "Epoch 112/200\n",
            "34/34 [==============================] - 0s 3ms/step - loss: 4111.1699 - mae: 4111.1699\n",
            "Epoch 113/200\n",
            "34/34 [==============================] - 0s 2ms/step - loss: 4046.6277 - mae: 4046.6277\n",
            "Epoch 114/200\n",
            "34/34 [==============================] - 0s 2ms/step - loss: 3992.5920 - mae: 3992.5920\n",
            "Epoch 115/200\n",
            "34/34 [==============================] - 0s 2ms/step - loss: 3949.0598 - mae: 3949.0598\n",
            "Epoch 116/200\n",
            "34/34 [==============================] - 0s 2ms/step - loss: 3927.8206 - mae: 3927.8206\n",
            "Epoch 117/200\n",
            "34/34 [==============================] - 0s 3ms/step - loss: 3900.2039 - mae: 3900.2039\n",
            "Epoch 118/200\n",
            "34/34 [==============================] - 0s 4ms/step - loss: 3872.9934 - mae: 3872.9934\n",
            "Epoch 119/200\n",
            "34/34 [==============================] - 0s 3ms/step - loss: 3854.9412 - mae: 3854.9412\n",
            "Epoch 120/200\n",
            "34/34 [==============================] - 0s 3ms/step - loss: 3838.7397 - mae: 3838.7397\n",
            "Epoch 121/200\n",
            "34/34 [==============================] - 0s 3ms/step - loss: 3831.6311 - mae: 3831.6311\n",
            "Epoch 122/200\n",
            "34/34 [==============================] - 0s 4ms/step - loss: 3824.2876 - mae: 3824.2876\n",
            "Epoch 123/200\n",
            "34/34 [==============================] - 0s 3ms/step - loss: 3818.9705 - mae: 3818.9705\n",
            "Epoch 124/200\n",
            "34/34 [==============================] - 0s 3ms/step - loss: 3810.9539 - mae: 3810.9539\n",
            "Epoch 125/200\n",
            "34/34 [==============================] - 0s 3ms/step - loss: 3799.0410 - mae: 3799.0410\n",
            "Epoch 126/200\n",
            "34/34 [==============================] - 0s 2ms/step - loss: 3809.7065 - mae: 3809.7065\n",
            "Epoch 127/200\n",
            "34/34 [==============================] - 0s 3ms/step - loss: 3801.1431 - mae: 3801.1431\n",
            "Epoch 128/200\n",
            "34/34 [==============================] - 0s 3ms/step - loss: 3794.2161 - mae: 3794.2161\n",
            "Epoch 129/200\n",
            "34/34 [==============================] - 0s 3ms/step - loss: 3803.3594 - mae: 3803.3594\n",
            "Epoch 130/200\n",
            "34/34 [==============================] - 0s 3ms/step - loss: 3791.9739 - mae: 3791.9739\n",
            "Epoch 131/200\n",
            "34/34 [==============================] - 0s 2ms/step - loss: 3783.9265 - mae: 3783.9265\n",
            "Epoch 132/200\n",
            "34/34 [==============================] - 0s 2ms/step - loss: 3778.0081 - mae: 3778.0081\n",
            "Epoch 133/200\n",
            "34/34 [==============================] - 0s 3ms/step - loss: 3773.6748 - mae: 3773.6748\n",
            "Epoch 134/200\n",
            "34/34 [==============================] - 0s 3ms/step - loss: 3772.5598 - mae: 3772.5598\n",
            "Epoch 135/200\n",
            "34/34 [==============================] - 0s 3ms/step - loss: 3769.7339 - mae: 3769.7339\n",
            "Epoch 136/200\n",
            "34/34 [==============================] - 0s 3ms/step - loss: 3768.4270 - mae: 3768.4270\n",
            "Epoch 137/200\n",
            "34/34 [==============================] - 0s 2ms/step - loss: 3777.8855 - mae: 3777.8855\n",
            "Epoch 138/200\n",
            "34/34 [==============================] - 0s 2ms/step - loss: 3783.7061 - mae: 3783.7061\n",
            "Epoch 139/200\n",
            "34/34 [==============================] - 0s 2ms/step - loss: 3763.9468 - mae: 3763.9468\n",
            "Epoch 140/200\n",
            "34/34 [==============================] - 0s 4ms/step - loss: 3765.0295 - mae: 3765.0295\n",
            "Epoch 141/200\n",
            "34/34 [==============================] - 0s 2ms/step - loss: 3765.9680 - mae: 3765.9680\n",
            "Epoch 142/200\n",
            "34/34 [==============================] - 0s 2ms/step - loss: 3768.7314 - mae: 3768.7314\n",
            "Epoch 143/200\n",
            "34/34 [==============================] - 0s 2ms/step - loss: 3756.7432 - mae: 3756.7432\n",
            "Epoch 144/200\n",
            "34/34 [==============================] - 0s 3ms/step - loss: 3752.8088 - mae: 3752.8088\n",
            "Epoch 145/200\n",
            "34/34 [==============================] - 0s 3ms/step - loss: 3753.4287 - mae: 3753.4287\n",
            "Epoch 146/200\n",
            "34/34 [==============================] - 0s 3ms/step - loss: 3757.2773 - mae: 3757.2773\n",
            "Epoch 147/200\n",
            "34/34 [==============================] - 0s 2ms/step - loss: 3754.0994 - mae: 3754.0994\n",
            "Epoch 148/200\n",
            "34/34 [==============================] - 0s 3ms/step - loss: 3757.5815 - mae: 3757.5815\n",
            "Epoch 149/200\n",
            "34/34 [==============================] - 0s 3ms/step - loss: 3746.0642 - mae: 3746.0642\n",
            "Epoch 150/200\n",
            "34/34 [==============================] - 0s 3ms/step - loss: 3740.6211 - mae: 3740.6211\n",
            "Epoch 151/200\n",
            "34/34 [==============================] - 0s 3ms/step - loss: 3742.9917 - mae: 3742.9917\n",
            "Epoch 152/200\n",
            "34/34 [==============================] - 0s 3ms/step - loss: 3743.9397 - mae: 3743.9397\n",
            "Epoch 153/200\n",
            "34/34 [==============================] - 0s 2ms/step - loss: 3744.4312 - mae: 3744.4312\n",
            "Epoch 154/200\n",
            "34/34 [==============================] - 0s 2ms/step - loss: 3739.2754 - mae: 3739.2754\n",
            "Epoch 155/200\n",
            "34/34 [==============================] - 0s 2ms/step - loss: 3741.5342 - mae: 3741.5342\n",
            "Epoch 156/200\n",
            "34/34 [==============================] - 0s 2ms/step - loss: 3737.1846 - mae: 3737.1846\n",
            "Epoch 157/200\n",
            "34/34 [==============================] - 0s 3ms/step - loss: 3735.6216 - mae: 3735.6216\n",
            "Epoch 158/200\n",
            "34/34 [==============================] - 0s 2ms/step - loss: 3731.4084 - mae: 3731.4084\n",
            "Epoch 159/200\n",
            "34/34 [==============================] - 0s 2ms/step - loss: 3728.4595 - mae: 3728.4595\n",
            "Epoch 160/200\n",
            "34/34 [==============================] - 0s 2ms/step - loss: 3735.9163 - mae: 3735.9163\n",
            "Epoch 161/200\n",
            "34/34 [==============================] - 0s 3ms/step - loss: 3730.8394 - mae: 3730.8394\n",
            "Epoch 162/200\n",
            "34/34 [==============================] - 0s 2ms/step - loss: 3727.1689 - mae: 3727.1689\n",
            "Epoch 163/200\n",
            "34/34 [==============================] - 0s 2ms/step - loss: 3724.9749 - mae: 3724.9749\n",
            "Epoch 164/200\n",
            "34/34 [==============================] - 0s 2ms/step - loss: 3729.1812 - mae: 3729.1812\n",
            "Epoch 165/200\n",
            "34/34 [==============================] - 0s 2ms/step - loss: 3717.9866 - mae: 3717.9866\n",
            "Epoch 166/200\n",
            "34/34 [==============================] - 0s 2ms/step - loss: 3722.3782 - mae: 3722.3782\n",
            "Epoch 167/200\n",
            "34/34 [==============================] - 0s 3ms/step - loss: 3721.3953 - mae: 3721.3953\n",
            "Epoch 168/200\n",
            "34/34 [==============================] - 0s 3ms/step - loss: 3717.3708 - mae: 3717.3708\n",
            "Epoch 169/200\n",
            "34/34 [==============================] - 0s 2ms/step - loss: 3717.4153 - mae: 3717.4153\n",
            "Epoch 170/200\n",
            "34/34 [==============================] - 0s 2ms/step - loss: 3710.4431 - mae: 3710.4431\n",
            "Epoch 171/200\n",
            "34/34 [==============================] - 0s 2ms/step - loss: 3710.3159 - mae: 3710.3159\n",
            "Epoch 172/200\n",
            "34/34 [==============================] - 0s 2ms/step - loss: 3711.9702 - mae: 3711.9702\n",
            "Epoch 173/200\n",
            "34/34 [==============================] - 0s 3ms/step - loss: 3707.6221 - mae: 3707.6221\n",
            "Epoch 174/200\n",
            "34/34 [==============================] - 0s 2ms/step - loss: 3712.2202 - mae: 3712.2202\n",
            "Epoch 175/200\n",
            "34/34 [==============================] - 0s 2ms/step - loss: 3712.9519 - mae: 3712.9519\n",
            "Epoch 176/200\n",
            "34/34 [==============================] - 0s 2ms/step - loss: 3709.4807 - mae: 3709.4807\n",
            "Epoch 177/200\n",
            "34/34 [==============================] - 0s 4ms/step - loss: 3702.9084 - mae: 3702.9084\n",
            "Epoch 178/200\n",
            "34/34 [==============================] - 0s 3ms/step - loss: 3699.5515 - mae: 3699.5515\n",
            "Epoch 179/200\n",
            "34/34 [==============================] - 0s 2ms/step - loss: 3709.9749 - mae: 3709.9749\n",
            "Epoch 180/200\n",
            "34/34 [==============================] - 0s 2ms/step - loss: 3710.7810 - mae: 3710.7810\n",
            "Epoch 181/200\n",
            "34/34 [==============================] - 0s 2ms/step - loss: 3699.8000 - mae: 3699.8000\n",
            "Epoch 182/200\n",
            "34/34 [==============================] - 0s 2ms/step - loss: 3696.0742 - mae: 3696.0742\n",
            "Epoch 183/200\n",
            "34/34 [==============================] - 0s 3ms/step - loss: 3694.0659 - mae: 3694.0659\n",
            "Epoch 184/200\n",
            "34/34 [==============================] - 0s 2ms/step - loss: 3700.1477 - mae: 3700.1477\n",
            "Epoch 185/200\n",
            "34/34 [==============================] - 0s 2ms/step - loss: 3695.2617 - mae: 3695.2617\n",
            "Epoch 186/200\n",
            "34/34 [==============================] - 0s 2ms/step - loss: 3698.6670 - mae: 3698.6670\n",
            "Epoch 187/200\n",
            "34/34 [==============================] - 0s 3ms/step - loss: 3690.8740 - mae: 3690.8740\n",
            "Epoch 188/200\n",
            "34/34 [==============================] - 0s 2ms/step - loss: 3695.9248 - mae: 3695.9248\n",
            "Epoch 189/200\n",
            "34/34 [==============================] - 0s 2ms/step - loss: 3685.5256 - mae: 3685.5256\n",
            "Epoch 190/200\n",
            "34/34 [==============================] - 0s 2ms/step - loss: 3686.1812 - mae: 3686.1812\n",
            "Epoch 191/200\n",
            "34/34 [==============================] - 0s 2ms/step - loss: 3704.3086 - mae: 3704.3086\n",
            "Epoch 192/200\n",
            "34/34 [==============================] - 0s 2ms/step - loss: 3687.1985 - mae: 3687.1985\n",
            "Epoch 193/200\n",
            "34/34 [==============================] - 0s 2ms/step - loss: 3677.4407 - mae: 3677.4407\n",
            "Epoch 194/200\n",
            "34/34 [==============================] - 0s 2ms/step - loss: 3679.3372 - mae: 3679.3372\n",
            "Epoch 195/200\n",
            "34/34 [==============================] - 0s 2ms/step - loss: 3675.7085 - mae: 3675.7085\n",
            "Epoch 196/200\n",
            "34/34 [==============================] - 0s 3ms/step - loss: 3683.3728 - mae: 3683.3728\n",
            "Epoch 197/200\n",
            "34/34 [==============================] - 0s 3ms/step - loss: 3668.5886 - mae: 3668.5886\n",
            "Epoch 198/200\n",
            "34/34 [==============================] - 0s 3ms/step - loss: 3674.1587 - mae: 3674.1587\n",
            "Epoch 199/200\n",
            "34/34 [==============================] - 0s 3ms/step - loss: 3683.4453 - mae: 3683.4453\n",
            "Epoch 200/200\n",
            "34/34 [==============================] - 0s 2ms/step - loss: 3669.1602 - mae: 3669.1602\n"
          ]
        }
      ]
    },
    {
      "cell_type": "code",
      "source": [
        "# Evaluate our model\n",
        "insurance_model_3.evaluate(X_test, y_test)"
      ],
      "metadata": {
        "id": "FfWJukqNwFkq",
        "outputId": "0d6ebb81-1439-4a6a-b436-ea45c9bf8812",
        "colab": {
          "base_uri": "https://localhost:8080/"
        }
      },
      "execution_count": 16,
      "outputs": [
        {
          "output_type": "stream",
          "name": "stdout",
          "text": [
            "9/9 [==============================] - 0s 5ms/step - loss: 3498.5454 - mae: 3498.5454\n"
          ]
        },
        {
          "output_type": "execute_result",
          "data": {
            "text/plain": [
              "[3498.54541015625, 3498.54541015625]"
            ]
          },
          "metadata": {},
          "execution_count": 16
        }
      ]
    },
    {
      "cell_type": "code",
      "source": [
        "insurance_model.evaluate(X_test, y_test)"
      ],
      "metadata": {
        "id": "F_WXONruwaDt",
        "outputId": "07b6122f-f168-45e7-e30e-3b315a611458",
        "colab": {
          "base_uri": "https://localhost:8080/"
        }
      },
      "execution_count": 17,
      "outputs": [
        {
          "output_type": "stream",
          "name": "stdout",
          "text": [
            "9/9 [==============================] - 0s 2ms/step - loss: 5731.3926 - mae: 5731.3926\n"
          ]
        },
        {
          "output_type": "execute_result",
          "data": {
            "text/plain": [
              "[5731.392578125, 5731.392578125]"
            ]
          },
          "metadata": {},
          "execution_count": 17
        }
      ]
    },
    {
      "cell_type": "code",
      "source": [
        "# Plot history (also known as a loss curve or a training curve)\n",
        "pd.DataFrame(history.history).plot()\n",
        "plt.ylabel(\"loss\")\n",
        "plt.xlabel(\"epochs\")\n"
      ],
      "metadata": {
        "id": "Bu2RCj4Rwl00",
        "outputId": "d95e6231-195e-403b-8916-fb6f68ccb18c",
        "colab": {
          "base_uri": "https://localhost:8080/",
          "height": 467
        }
      },
      "execution_count": 18,
      "outputs": [
        {
          "output_type": "execute_result",
          "data": {
            "text/plain": [
              "Text(0.5, 0, 'epochs')"
            ]
          },
          "metadata": {},
          "execution_count": 18
        },
        {
          "output_type": "display_data",
          "data": {
            "text/plain": [
              "<Figure size 640x480 with 1 Axes>"
            ],
            "image/png": "[encoded data removed]"
          },
          "metadata": {}
        }
      ]
    },
    {
      "cell_type": "markdown",
      "source": [
        "### How long should you train for?\n",
        "\n",
        "It depends on the problem, but TensorFlow has a solution! It's called the **EarlyStopping Callback**.\n",
        "It is a TensorFlow component you can add to your model to stop training once it stops improving a certain metric."
      ],
      "metadata": {
        "id": "om_emgVzxMbz"
      }
    },
    {
      "cell_type": "markdown",
      "source": [
        "## Preprocessing data (normalization and standardization)\n",
        "\n",
        "In terms of scaling values, neural networks tend to prefer normalization.\n",
        "\n",
        "If you're not sure which to use, you could try both and see which performs better."
      ],
      "metadata": {
        "id": "gBjguYkPyM7k"
      }
    },
    {
      "cell_type": "code",
      "source": [
        "import pandas as pd\n",
        "import matplotlib.pyplot as plt\n",
        "import tensorflow as tf\n",
        "\n",
        "# Read in the insurance dataframe\n",
        "insurance = pd.read_csv(\"https://raw.githubusercontent.com/stedy/Machine-Learning-with-R-datasets/master/insurance.csv\")\n",
        "insurance"
      ],
      "metadata": {
        "colab": {
          "base_uri": "https://localhost:8080/",
          "height": 424
        },
        "id": "QRlm1ZmGPIeD",
        "outputId": "83c03c9e-fcd1-4f43-f4f4-f96c1ce81be6"
      },
      "execution_count": 27,
      "outputs": [
        {
          "output_type": "execute_result",
          "data": {
            "text/plain": [
              "      age     sex     bmi  children smoker     region      charges\n",
              "0      19  female  27.900         0    yes  southwest  16884.92400\n",
              "1      18    male  33.770         1     no  southeast   1725.55230\n",
              "2      28    male  33.000         3     no  southeast   4449.46200\n",
              "3      33    male  22.705         0     no  northwest  21984.47061\n",
              "4      32    male  28.880         0     no  northwest   3866.85520\n",
              "...   ...     ...     ...       ...    ...        ...          ...\n",
              "1333   50    male  30.970         3     no  northwest  10600.54830\n",
              "1334   18  female  31.920         0     no  northeast   2205.98080\n",
              "1335   18  female  36.850         0     no  southeast   1629.83350\n",
              "1336   21  female  25.800         0     no  southwest   2007.94500\n",
              "1337   61  female  29.070         0    yes  northwest  29141.36030\n",
              "\n",
              "[1338 rows x 7 columns]"
            ],
            "text/html": [
              "\n",
              "  <div id=\"df-1ff53297-bc46-4276-a933-d5933c261478\" class=\"colab-df-container\">\n",
              "    <div>\n",
              "<style scoped>\n",
              "    .dataframe tbody tr th:only-of-type {\n",
              "        vertical-align: middle;\n",
              "    }\n",
              "\n",
              "    .dataframe tbody tr th {\n",
              "        vertical-align: top;\n",
              "    }\n",
              "\n",
              "    .dataframe thead th {\n",
              "        text-align: right;\n",
              "    }\n",
              "</style>\n",
              "<table border=\"1\" class=\"dataframe\">\n",
              "  <thead>\n",
              "    <tr style=\"text-align: right;\">\n",
              "      <th></th>\n",
              "      <th>age</th>\n",
              "      <th>sex</th>\n",
              "      <th>bmi</th>\n",
              "      <th>children</th>\n",
              "      <th>smoker</th>\n",
              "      <th>region</th>\n",
              "      <th>charges</th>\n",
              "    </tr>\n",
              "  </thead>\n",
              "  <tbody>\n",
              "    <tr>\n",
              "      <th>0</th>\n",
              "      <td>19</td>\n",
              "      <td>female</td>\n",
              "      <td>27.900</td>\n",
              "      <td>0</td>\n",
              "      <td>yes</td>\n",
              "      <td>southwest</td>\n",
              "      <td>16884.92400</td>\n",
              "    </tr>\n",
              "    <tr>\n",
              "      <th>1</th>\n",
              "      <td>18</td>\n",
              "      <td>male</td>\n",
              "      <td>33.770</td>\n",
              "      <td>1</td>\n",
              "      <td>no</td>\n",
              "      <td>southeast</td>\n",
              "      <td>1725.55230</td>\n",
              "    </tr>\n",
              "    <tr>\n",
              "      <th>2</th>\n",
              "      <td>28</td>\n",
              "      <td>male</td>\n",
              "      <td>33.000</td>\n",
              "      <td>3</td>\n",
              "      <td>no</td>\n",
              "      <td>southeast</td>\n",
              "      <td>4449.46200</td>\n",
              "    </tr>\n",
              "    <tr>\n",
              "      <th>3</th>\n",
              "      <td>33</td>\n",
              "      <td>male</td>\n",
              "      <td>22.705</td>\n",
              "      <td>0</td>\n",
              "      <td>no</td>\n",
              "      <td>northwest</td>\n",
              "      <td>21984.47061</td>\n",
              "    </tr>\n",
              "    <tr>\n",
              "      <th>4</th>\n",
              "      <td>32</td>\n",
              "      <td>male</td>\n",
              "      <td>28.880</td>\n",
              "      <td>0</td>\n",
              "      <td>no</td>\n",
              "      <td>northwest</td>\n",
              "      <td>3866.85520</td>\n",
              "    </tr>\n",
              "    <tr>\n",
              "      <th>...</th>\n",
              "      <td>...</td>\n",
              "      <td>...</td>\n",
              "      <td>...</td>\n",
              "      <td>...</td>\n",
              "      <td>...</td>\n",
              "      <td>...</td>\n",
              "      <td>...</td>\n",
              "    </tr>\n",
              "    <tr>\n",
              "      <th>1333</th>\n",
              "      <td>50</td>\n",
              "      <td>male</td>\n",
              "      <td>30.970</td>\n",
              "      <td>3</td>\n",
              "      <td>no</td>\n",
              "      <td>northwest</td>\n",
              "      <td>10600.54830</td>\n",
              "    </tr>\n",
              "    <tr>\n",
              "      <th>1334</th>\n",
              "      <td>18</td>\n",
              "      <td>female</td>\n",
              "      <td>31.920</td>\n",
              "      <td>0</td>\n",
              "      <td>no</td>\n",
              "      <td>northeast</td>\n",
              "      <td>2205.98080</td>\n",
              "    </tr>\n",
              "    <tr>\n",
              "      <th>1335</th>\n",
              "      <td>18</td>\n",
              "      <td>female</td>\n",
              "      <td>36.850</td>\n",
              "      <td>0</td>\n",
              "      <td>no</td>\n",
              "      <td>southeast</td>\n",
              "      <td>1629.83350</td>\n",
              "    </tr>\n",
              "    <tr>\n",
              "      <th>1336</th>\n",
              "      <td>21</td>\n",
              "      <td>female</td>\n",
              "      <td>25.800</td>\n",
              "      <td>0</td>\n",
              "      <td>no</td>\n",
              "      <td>southwest</td>\n",
              "      <td>2007.94500</td>\n",
              "    </tr>\n",
              "    <tr>\n",
              "      <th>1337</th>\n",
              "      <td>61</td>\n",
              "      <td>female</td>\n",
              "      <td>29.070</td>\n",
              "      <td>0</td>\n",
              "      <td>yes</td>\n",
              "      <td>northwest</td>\n",
              "      <td>29141.36030</td>\n",
              "    </tr>\n",
              "  </tbody>\n",
              "</table>\n",
              "<p>1338 rows × 7 columns</p>\n",
              "</div>\n",
              "    <div class=\"colab-df-buttons\">\n",
              "\n",
              "  <div class=\"colab-df-container\">\n",
              "    <button class=\"colab-df-convert\" onclick=\"convertToInteractive('df-1ff53297-bc46-4276-a933-d5933c261478')\"\n",
              "            title=\"Convert this dataframe to an interactive table.\"\n",
              "            style=\"display:none;\">\n",
              "\n",
              "  <svg xmlns=\"http://www.w3.org/2000/svg\" height=\"24px\" viewBox=\"0 -960 960 960\">\n",
              "    <path d=\"M120-120v-720h720v720H120Zm60-500h600v-160H180v160Zm220 220h160v-160H400v160Zm0 220h160v-160H400v160ZM180-400h160v-160H180v160Zm440 0h160v-160H620v160ZM180-180h160v-160H180v160Zm440 0h160v-160H620v160Z\"/>\n",
              "  </svg>\n",
              "    </button>\n",
              "\n",
              "  <style>\n",
              "    .colab-df-container {\n",
              "      display:flex;\n",
              "      gap: 12px;\n",
              "    }\n",
              "\n",
              "    .colab-df-convert {\n",
              "      background-color: #E8F0FE;\n",
              "      border: none;\n",
              "      border-radius: 50%;\n",
              "      cursor: pointer;\n",
              "      display: none;\n",
              "      fill: #1967D2;\n",
              "      height: 32px;\n",
              "      padding: 0 0 0 0;\n",
              "      width: 32px;\n",
              "    }\n",
              "\n",
              "    .colab-df-convert:hover {\n",
              "      background-color: #E2EBFA;\n",
              "      box-shadow: 0px 1px 2px rgba(60, 64, 67, 0.3), 0px 1px 3px 1px rgba(60, 64, 67, 0.15);\n",
              "      fill: #174EA6;\n",
              "    }\n",
              "\n",
              "    .colab-df-buttons div {\n",
              "      margin-bottom: 4px;\n",
              "    }\n",
              "\n",
              "    [theme=dark] .colab-df-convert {\n",
              "      background-color: #3B4455;\n",
              "      fill: #D2E3FC;\n",
              "    }\n",
              "\n",
              "    [theme=dark] .colab-df-convert:hover {\n",
              "      background-color: #434B5C;\n",
              "      box-shadow: 0px 1px 3px 1px rgba(0, 0, 0, 0.15);\n",
              "      filter: drop-shadow(0px 1px 2px rgba(0, 0, 0, 0.3));\n",
              "      fill: #FFFFFF;\n",
              "    }\n",
              "  </style>\n",
              "\n",
              "    <script>\n",
              "      const buttonEl =\n",
              "        document.querySelector('#df-1ff53297-bc46-4276-a933-d5933c261478 button.colab-df-convert');\n",
              "      buttonEl.style.display =\n",
              "        google.colab.kernel.accessAllowed ? 'block' : 'none';\n",
              "\n",
              "      async function convertToInteractive(key) {\n",
              "        const element = document.querySelector('#df-1ff53297-bc46-4276-a933-d5933c261478');\n",
              "        const dataTable =\n",
              "          await google.colab.kernel.invokeFunction('convertToInteractive',\n",
              "                                                    [key], {});\n",
              "        if (!dataTable) return;\n",
              "\n",
              "        const docLinkHtml = 'Like what you see? Visit the ' +\n",
              "          '<a target=\"_blank\" href=https://colab.research.google.com/notebooks/data_table.ipynb>data table notebook</a>'\n",
              "          + ' to learn more about interactive tables.';\n",
              "        element.innerHTML = '';\n",
              "        dataTable['output_type'] = 'display_data';\n",
              "        await google.colab.output.renderOutput(dataTable, element);\n",
              "        const docLink = document.createElement('div');\n",
              "        docLink.innerHTML = docLinkHtml;\n",
              "        element.appendChild(docLink);\n",
              "      }\n",
              "    </script>\n",
              "  </div>\n",
              "\n",
              "\n",
              "<div id=\"df-e4b36a80-54e7-478c-8393-a238d1ce6882\">\n",
              "  <button class=\"colab-df-quickchart\" onclick=\"quickchart('df-e4b36a80-54e7-478c-8393-a238d1ce6882')\"\n",
              "            title=\"Suggest charts\"\n",
              "            style=\"display:none;\">\n",
              "\n",
              "<svg xmlns=\"http://www.w3.org/2000/svg\" height=\"24px\"viewBox=\"0 0 24 24\"\n",
              "     width=\"24px\">\n",
              "    <g>\n",
              "        <path d=\"M19 3H5c-1.1 0-2 .9-2 2v14c0 1.1.9 2 2 2h14c1.1 0 2-.9 2-2V5c0-1.1-.9-2-2-2zM9 17H7v-7h2v7zm4 0h-2V7h2v10zm4 0h-2v-4h2v4z\"/>\n",
              "    </g>\n",
              "</svg>\n",
              "  </button>\n",
              "\n",
              "<style>\n",
              "  .colab-df-quickchart {\n",
              "      --bg-color: #E8F0FE;\n",
              "      --fill-color: #1967D2;\n",
              "      --hover-bg-color: #E2EBFA;\n",
              "      --hover-fill-color: #174EA6;\n",
              "      --disabled-fill-color: #AAA;\n",
              "      --disabled-bg-color: #DDD;\n",
              "  }\n",
              "\n",
              "  [theme=dark] .colab-df-quickchart {\n",
              "      --bg-color: #3B4455;\n",
              "      --fill-color: #D2E3FC;\n",
              "      --hover-bg-color: #434B5C;\n",
              "      --hover-fill-color: #FFFFFF;\n",
              "      --disabled-bg-color: #3B4455;\n",
              "      --disabled-fill-color: #666;\n",
              "  }\n",
              "\n",
              "  .colab-df-quickchart {\n",
              "    background-color: var(--bg-color);\n",
              "    border: none;\n",
              "    border-radius: 50%;\n",
              "    cursor: pointer;\n",
              "    display: none;\n",
              "    fill: var(--fill-color);\n",
              "    height: 32px;\n",
              "    padding: 0;\n",
              "    width: 32px;\n",
              "  }\n",
              "\n",
              "  .colab-df-quickchart:hover {\n",
              "    background-color: var(--hover-bg-color);\n",
              "    box-shadow: 0 1px 2px rgba(60, 64, 67, 0.3), 0 1px 3px 1px rgba(60, 64, 67, 0.15);\n",
              "    fill: var(--button-hover-fill-color);\n",
              "  }\n",
              "\n",
              "  .colab-df-quickchart-complete:disabled,\n",
              "  .colab-df-quickchart-complete:disabled:hover {\n",
              "    background-color: var(--disabled-bg-color);\n",
              "    fill: var(--disabled-fill-color);\n",
              "    box-shadow: none;\n",
              "  }\n",
              "\n",
              "  .colab-df-spinner {\n",
              "    border: 2px solid var(--fill-color);\n",
              "    border-color: transparent;\n",
              "    border-bottom-color: var(--fill-color);\n",
              "    animation:\n",
              "      spin 1s steps(1) infinite;\n",
              "  }\n",
              "\n",
              "  @keyframes spin {\n",
              "    0% {\n",
              "      border-color: transparent;\n",
              "      border-bottom-color: var(--fill-color);\n",
              "      border-left-color: var(--fill-color);\n",
              "    }\n",
              "    20% {\n",
              "      border-color: transparent;\n",
              "      border-left-color: var(--fill-color);\n",
              "      border-top-color: var(--fill-color);\n",
              "    }\n",
              "    30% {\n",
              "      border-color: transparent;\n",
              "      border-left-color: var(--fill-color);\n",
              "      border-top-color: var(--fill-color);\n",
              "      border-right-color: var(--fill-color);\n",
              "    }\n",
              "    40% {\n",
              "      border-color: transparent;\n",
              "      border-right-color: var(--fill-color);\n",
              "      border-top-color: var(--fill-color);\n",
              "    }\n",
              "    60% {\n",
              "      border-color: transparent;\n",
              "      border-right-color: var(--fill-color);\n",
              "    }\n",
              "    80% {\n",
              "      border-color: transparent;\n",
              "      border-right-color: var(--fill-color);\n",
              "      border-bottom-color: var(--fill-color);\n",
              "    }\n",
              "    90% {\n",
              "      border-color: transparent;\n",
              "      border-bottom-color: var(--fill-color);\n",
              "    }\n",
              "  }\n",
              "</style>\n",
              "\n",
              "  <script>\n",
              "    async function quickchart(key) {\n",
              "      const quickchartButtonEl =\n",
              "        document.querySelector('#' + key + ' button');\n",
              "      quickchartButtonEl.disabled = true;  // To prevent multiple clicks.\n",
              "      quickchartButtonEl.classList.add('colab-df-spinner');\n",
              "      try {\n",
              "        const charts = await google.colab.kernel.invokeFunction(\n",
              "            'suggestCharts', [key], {});\n",
              "      } catch (error) {\n",
              "        console.error('Error during call to suggestCharts:', error);\n",
              "      }\n",
              "      quickchartButtonEl.classList.remove('colab-df-spinner');\n",
              "      quickchartButtonEl.classList.add('colab-df-quickchart-complete');\n",
              "    }\n",
              "    (() => {\n",
              "      let quickchartButtonEl =\n",
              "        document.querySelector('#df-e4b36a80-54e7-478c-8393-a238d1ce6882 button');\n",
              "      quickchartButtonEl.style.display =\n",
              "        google.colab.kernel.accessAllowed ? 'block' : 'none';\n",
              "    })();\n",
              "  </script>\n",
              "</div>\n",
              "    </div>\n",
              "  </div>\n"
            ],
            "application/vnd.google.colaboratory.intrinsic+json": {
              "type": "dataframe",
              "variable_name": "insurance",
              "summary": "{\n  \"name\": \"insurance\",\n  \"rows\": 1338,\n  \"fields\": [\n    {\n      \"column\": \"age\",\n      \"properties\": {\n        \"dtype\": \"number\",\n        \"std\": 14,\n        \"min\": 18,\n        \"max\": 64,\n        \"num_unique_values\": 47,\n        \"samples\": [\n          21,\n          45,\n          36\n        ],\n        \"semantic_type\": \"\",\n        \"description\": \"\"\n      }\n    },\n    {\n      \"column\": \"sex\",\n      \"properties\": {\n        \"dtype\": \"category\",\n        \"num_unique_values\": 2,\n        \"samples\": [\n          \"male\",\n          \"female\"\n        ],\n        \"semantic_type\": \"\",\n        \"description\": \"\"\n      }\n    },\n    {\n      \"column\": \"bmi\",\n      \"properties\": {\n        \"dtype\": \"number\",\n        \"std\": 6.098186911679014,\n        \"min\": 15.96,\n        \"max\": 53.13,\n        \"num_unique_values\": 548,\n        \"samples\": [\n          23.18,\n          26.885\n        ],\n        \"semantic_type\": \"\",\n        \"description\": \"\"\n      }\n    },\n    {\n      \"column\": \"children\",\n      \"properties\": {\n        \"dtype\": \"number\",\n        \"std\": 1,\n        \"min\": 0,\n        \"max\": 5,\n        \"num_unique_values\": 6,\n        \"samples\": [\n          0,\n          1\n        ],\n        \"semantic_type\": \"\",\n        \"description\": \"\"\n      }\n    },\n    {\n      \"column\": \"smoker\",\n      \"properties\": {\n        \"dtype\": \"category\",\n        \"num_unique_values\": 2,\n        \"samples\": [\n          \"no\",\n          \"yes\"\n        ],\n        \"semantic_type\": \"\",\n        \"description\": \"\"\n      }\n    },\n    {\n      \"column\": \"region\",\n      \"properties\": {\n        \"dtype\": \"category\",\n        \"num_unique_values\": 4,\n        \"samples\": [\n          \"southeast\",\n          \"northeast\"\n        ],\n        \"semantic_type\": \"\",\n        \"description\": \"\"\n      }\n    },\n    {\n      \"column\": \"charges\",\n      \"properties\": {\n        \"dtype\": \"number\",\n        \"std\": 12110.011236694001,\n        \"min\": 1121.8739,\n        \"max\": 63770.42801,\n        \"num_unique_values\": 1337,\n        \"samples\": [\n          8688.85885,\n          5708.867\n        ],\n        \"semantic_type\": \"\",\n        \"description\": \"\"\n      }\n    }\n  ]\n}"
            }
          },
          "metadata": {},
          "execution_count": 27
        }
      ]
    },
    {
      "cell_type": "markdown",
      "source": [
        "To prepare our data, we can borrow a few classes from Scikit-Learn"
      ],
      "metadata": {
        "id": "fNpAM8djQ2LU"
      }
    },
    {
      "cell_type": "code",
      "source": [
        "from sklearn.compose import make_column_transformer\n",
        "from sklearn.preprocessing import MinMaxScaler, OneHotEncoder\n",
        "from sklearn.model_selection import train_test_split\n",
        "\n",
        "# Create a column transformer\n",
        "ct = make_column_transformer(\n",
        "    (MinMaxScaler(), [\"age\", \"bmi\", \"children\"]), # turn all values in these columns between 0 and 1.\n",
        "    (OneHotEncoder(handle_unknown=\"ignore\"), [\"sex\", \"smoker\", \"region\"])\n",
        ")\n",
        "\n",
        "# Create X & y\n",
        "X = insurance.drop(\"charges\", axis=1)\n",
        "y = insurance[\"charges\"]\n",
        "\n",
        "# Build our train and test sets\n",
        "X_train, X_test, y_train, y_test = train_test_split(X, y, test_size=0.2, random_state=42)\n",
        "\n",
        "# Fit the column transformer to our training data\n",
        "ct.fit(X_train)\n",
        "\n",
        "# Transform training and test data with normalization (MinMaxScaler) and (OneHotEncoder)\n",
        "X_train_normal = ct.transform(X_train)\n",
        "X_test_normal = ct.transform(X_test)"
      ],
      "metadata": {
        "id": "BA07n5bHzSMJ"
      },
      "execution_count": 30,
      "outputs": []
    },
    {
      "cell_type": "code",
      "source": [
        "# What does our data look like now?\n",
        "X_train.loc[0]"
      ],
      "metadata": {
        "id": "9wuH1oSTsgY5",
        "outputId": "64ca80ad-93a6-478d-9bc8-b597277ff153",
        "colab": {
          "base_uri": "https://localhost:8080/"
        }
      },
      "execution_count": 31,
      "outputs": [
        {
          "output_type": "execute_result",
          "data": {
            "text/plain": [
              "age                19\n",
              "sex            female\n",
              "bmi              27.9\n",
              "children            0\n",
              "smoker            yes\n",
              "region      southwest\n",
              "Name: 0, dtype: object"
            ]
          },
          "metadata": {},
          "execution_count": 31
        }
      ]
    },
    {
      "cell_type": "code",
      "source": [
        "X_train_normal[0]"
      ],
      "metadata": {
        "id": "IvJF6SAiszss",
        "outputId": "c2dace59-c00b-4561-e12a-43b8302bb56c",
        "colab": {
          "base_uri": "https://localhost:8080/"
        }
      },
      "execution_count": 35,
      "outputs": [
        {
          "output_type": "execute_result",
          "data": {
            "text/plain": [
              "array([0.60869565, 0.10734463, 0.4       , 1.        , 0.        ,\n",
              "       1.        , 0.        , 0.        , 1.        , 0.        ,\n",
              "       0.        ])"
            ]
          },
          "metadata": {},
          "execution_count": 35
        }
      ]
    },
    {
      "cell_type": "code",
      "source": [
        "X_train.shape, X_train_normal.shape"
      ],
      "metadata": {
        "id": "ZGRrmUFGtU0M",
        "outputId": "9711e55a-f2b0-422d-bd36-c573df898c01",
        "colab": {
          "base_uri": "https://localhost:8080/"
        }
      },
      "execution_count": 36,
      "outputs": [
        {
          "output_type": "execute_result",
          "data": {
            "text/plain": [
              "((1070, 6), (1070, 11))"
            ]
          },
          "metadata": {},
          "execution_count": 36
        }
      ]
    },
    {
      "cell_type": "markdown",
      "source": [
        "Our data has been normalized and one hot encoded. Now let's build a neural network model on it and see how it goes"
      ],
      "metadata": {
        "id": "GEadwsNNtlG6"
      }
    },
    {
      "cell_type": "code",
      "source": [
        "# Build a neural network model to fit on our normalized data\n"
      ],
      "metadata": {
        "id": "i-8AENect61y"
      },
      "execution_count": null,
      "outputs": []
    },
    {
      "cell_type": "code",
      "source": [
        "X[\"age\"].plot(kind=\"hist\")"
      ],
      "metadata": {
        "colab": {
          "base_uri": "https://localhost:8080/",
          "height": 448
        },
        "id": "PIH13OiqCuZk",
        "outputId": "02c64c35-7f04-4fc1-c5b1-ccb501d29753"
      },
      "execution_count": 22,
      "outputs": [
        {
          "output_type": "execute_result",
          "data": {
            "text/plain": [
              "<Axes: ylabel='Frequency'>"
            ]
          },
          "metadata": {},
          "execution_count": 22
        },
        {
          "output_type": "display_data",
          "data": {
            "text/plain": [
              "<Figure size 640x480 with 1 Axes>"
            ],
            "image/png": "[encoded data removed]"
          },
          "metadata": {}
        }
      ]
    },
    {
      "cell_type": "code",
      "source": [
        "X[\"bmi\"].plot(kind=\"hist\")"
      ],
      "metadata": {
        "colab": {
          "base_uri": "https://localhost:8080/",
          "height": 448
        },
        "id": "QDr902TSC3kE",
        "outputId": "c08ab581-af6f-4153-876f-7e399d5800c9"
      },
      "execution_count": 23,
      "outputs": [
        {
          "output_type": "execute_result",
          "data": {
            "text/plain": [
              "<Axes: ylabel='Frequency'>"
            ]
          },
          "metadata": {},
          "execution_count": 23
        },
        {
          "output_type": "display_data",
          "data": {
            "text/plain": [
              "<Figure size 640x480 with 1 Axes>"
            ],
            "image/png": "[encoded data removed]"
          },
          "metadata": {}
        }
      ]
    },
    {
      "cell_type": "code",
      "source": [
        "X[\"children\"].value_counts()"
      ],
      "metadata": {
        "colab": {
          "base_uri": "https://localhost:8080/"
        },
        "id": "4b2dPuV3EiUD",
        "outputId": "1faa8897-d4b8-4b57-ca53-5d6008585e52"
      },
      "execution_count": 24,
      "outputs": [
        {
          "output_type": "execute_result",
          "data": {
            "text/plain": [
              "0    574\n",
              "1    324\n",
              "2    240\n",
              "3    157\n",
              "4     25\n",
              "5     18\n",
              "Name: children, dtype: int64"
            ]
          },
          "metadata": {},
          "execution_count": 24
        }
      ]
    },
    {
      "cell_type": "code",
      "source": [],
      "metadata": {
        "id": "Egg6d4lAEvkD"
      },
      "execution_count": null,
      "outputs": []
    }
  ]
}