{
  "nbformat": 4,
  "nbformat_minor": 0,
  "metadata": {
    "colab": {
      "provenance": [],
      "authorship_tag": "ABX9TyNcBU3o+w0SZDF4zNs8v5IM",
      "include_colab_link": true
    },
    "kernelspec": {
      "name": "python3",
      "display_name": "Python 3"
    },
    "language_info": {
      "name": "python"
    }
  },
  "cells": [
    {
      "cell_type": "markdown",
      "metadata": {
        "id": "view-in-github",
        "colab_type": "text"
      },
      "source": [
        "<a href=\"https://colab.research.google.com/github/Nameless8243/TensorFlow_DL/blob/main/00_tensorflow_fundamentals.ipynb\" target=\"_parent\"><img src=\"https://colab.research.google.com/assets/colab-badge.svg\" alt=\"Open In Colab\"/></a>"
      ]
    },
    {
      "cell_type": "markdown",
      "source": [
        "# In this notebook, we're going to cover some of the most fundamental concepts of tensors using TensorFlow\n",
        "\n",
        "More specifically, we're going to cover:\n",
        "\n",
        " * Introduction to tensors\n",
        " * Getting information from tensors\n",
        " * Manipulating tensors\n",
        " * Tensors & NumPy\n",
        " * Using @tf.function (a way to speed up your regular Python functions)\n",
        " * Using  GPUs with TensorFlow (or TPUs)\n",
        " * Exercises to try for yourself!\n",
        "\n"
      ],
      "metadata": {
        "id": "_01VcyK0kQwH"
      }
    },
    {
      "cell_type": "markdown",
      "source": [
        "## Introduction to Tensors"
      ],
      "metadata": {
        "id": "lO6txl90k8Co"
      }
    },
    {
      "cell_type": "code",
      "source": [
        "# Import TensorFlow\n",
        "import tensorflow as tf\n",
        "print(tf.__version__)"
      ],
      "metadata": {
        "colab": {
          "base_uri": "https://localhost:8080/"
        },
        "id": "7NLw7PYFvbAW",
        "outputId": "899a4052-c8fe-447e-a9bd-34de1664ea0c"
      },
      "execution_count": 1,
      "outputs": [
        {
          "output_type": "stream",
          "name": "stdout",
          "text": [
            "2.15.0\n"
          ]
        }
      ]
    },
    {
      "cell_type": "code",
      "source": [
        "# Create tensors with tf.constant()\n",
        "scalar = tf.constant(7)\n",
        "scalar"
      ],
      "metadata": {
        "colab": {
          "base_uri": "https://localhost:8080/"
        },
        "id": "D-7QAjqAvt8i",
        "outputId": "37a271a9-f2e1-4a86-eee7-50c9923a2229"
      },
      "execution_count": null,
      "outputs": [
        {
          "output_type": "execute_result",
          "data": {
            "text/plain": [
              "<tf.Tensor: shape=(), dtype=int32, numpy=7>"
            ]
          },
          "metadata": {},
          "execution_count": 3
        }
      ]
    },
    {
      "cell_type": "code",
      "source": [
        "# Check the number of dimensions of a tensor (ndim stands for number of dimensions)\n",
        "scalar.ndim"
      ],
      "metadata": {
        "colab": {
          "base_uri": "https://localhost:8080/"
        },
        "id": "yi01XMD-xKAW",
        "outputId": "9f9131f5-426a-403a-c70c-dacb36c4c71d"
      },
      "execution_count": null,
      "outputs": [
        {
          "output_type": "execute_result",
          "data": {
            "text/plain": [
              "0"
            ]
          },
          "metadata": {},
          "execution_count": 4
        }
      ]
    },
    {
      "cell_type": "code",
      "source": [
        "# Create a vector\n",
        "vector = tf.constant([10,10])\n",
        "vector"
      ],
      "metadata": {
        "colab": {
          "base_uri": "https://localhost:8080/"
        },
        "id": "bBpiYO9cxeMU",
        "outputId": "6f494ddd-b5b9-48c1-a15e-eba2bb6787a8"
      },
      "execution_count": null,
      "outputs": [
        {
          "output_type": "execute_result",
          "data": {
            "text/plain": [
              "<tf.Tensor: shape=(2,), dtype=int32, numpy=array([10, 10], dtype=int32)>"
            ]
          },
          "metadata": {},
          "execution_count": 5
        }
      ]
    },
    {
      "cell_type": "code",
      "source": [
        "# Check the dimension of our vector\n",
        "vector.ndim"
      ],
      "metadata": {
        "colab": {
          "base_uri": "https://localhost:8080/"
        },
        "id": "Pt78xikBxxc9",
        "outputId": "a6eded28-c9df-43fa-9a71-7d9c5888ac2f"
      },
      "execution_count": null,
      "outputs": [
        {
          "output_type": "execute_result",
          "data": {
            "text/plain": [
              "1"
            ]
          },
          "metadata": {},
          "execution_count": 6
        }
      ]
    },
    {
      "cell_type": "code",
      "source": [
        "# Create a matrix (has more than 1 dimension)\n",
        "matrix = tf.constant([[10, 7],[7, 10]])\n",
        "matrix"
      ],
      "metadata": {
        "colab": {
          "base_uri": "https://localhost:8080/"
        },
        "id": "yAbaL2Fax4wx",
        "outputId": "19f70468-fb76-4a5a-9b61-e46318c22929"
      },
      "execution_count": null,
      "outputs": [
        {
          "output_type": "execute_result",
          "data": {
            "text/plain": [
              "<tf.Tensor: shape=(2, 2), dtype=int32, numpy=\n",
              "array([[10,  7],\n",
              "       [ 7, 10]], dtype=int32)>"
            ]
          },
          "metadata": {},
          "execution_count": 7
        }
      ]
    },
    {
      "cell_type": "code",
      "source": [
        "matrix.ndim"
      ],
      "metadata": {
        "colab": {
          "base_uri": "https://localhost:8080/"
        },
        "id": "Csw6J-b5yqds",
        "outputId": "95c2a6ac-a42a-4318-8be8-2e35898cfbe9"
      },
      "execution_count": null,
      "outputs": [
        {
          "output_type": "execute_result",
          "data": {
            "text/plain": [
              "2"
            ]
          },
          "metadata": {},
          "execution_count": 8
        }
      ]
    },
    {
      "cell_type": "code",
      "source": [
        "# Create another matrix\n",
        "another_matrix = tf.constant([[10., 7.],\n",
        "                             [3., 2.],\n",
        "                             [8., 9.]], dtype=tf.float16) #specify the data type with dtype parameter\n",
        "\n",
        "another_matrix"
      ],
      "metadata": {
        "colab": {
          "base_uri": "https://localhost:8080/"
        },
        "id": "7nvRxaQUzAeb",
        "outputId": "4f007ede-171e-43c2-f049-aa3ec8d20f37"
      },
      "execution_count": null,
      "outputs": [
        {
          "output_type": "execute_result",
          "data": {
            "text/plain": [
              "<tf.Tensor: shape=(3, 2), dtype=float16, numpy=\n",
              "array([[10.,  7.],\n",
              "       [ 3.,  2.],\n",
              "       [ 8.,  9.]], dtype=float16)>"
            ]
          },
          "metadata": {},
          "execution_count": 9
        }
      ]
    },
    {
      "cell_type": "code",
      "source": [
        "# What's the number of dimensions of another_matrix?\n",
        "\n",
        "another_matrix.ndim"
      ],
      "metadata": {
        "colab": {
          "base_uri": "https://localhost:8080/"
        },
        "id": "YKlxfKAg_tE9",
        "outputId": "3f3a9931-065a-4218-e7d6-37c24ef1358a"
      },
      "execution_count": null,
      "outputs": [
        {
          "output_type": "execute_result",
          "data": {
            "text/plain": [
              "2"
            ]
          },
          "metadata": {},
          "execution_count": 10
        }
      ]
    },
    {
      "cell_type": "code",
      "source": [
        "# Let's create a tensor\n",
        "tensor = tf.constant([[[1, 2, 3],\n",
        "                       [4, 5, 6]],\n",
        "                      [[7, 8, 9],\n",
        "                       [10, 11, 12]],\n",
        "                      [[13, 14, 15],\n",
        "                       [16, 17, 18]]])\n",
        "tensor"
      ],
      "metadata": {
        "colab": {
          "base_uri": "https://localhost:8080/"
        },
        "id": "7qlAHxdWAwVa",
        "outputId": "44627986-8e08-48eb-8e43-a075b8eb1547"
      },
      "execution_count": null,
      "outputs": [
        {
          "output_type": "execute_result",
          "data": {
            "text/plain": [
              "<tf.Tensor: shape=(3, 2, 3), dtype=int32, numpy=\n",
              "array([[[ 1,  2,  3],\n",
              "        [ 4,  5,  6]],\n",
              "\n",
              "       [[ 7,  8,  9],\n",
              "        [10, 11, 12]],\n",
              "\n",
              "       [[13, 14, 15],\n",
              "        [16, 17, 18]]], dtype=int32)>"
            ]
          },
          "metadata": {},
          "execution_count": 11
        }
      ]
    },
    {
      "cell_type": "code",
      "source": [
        "tensor.ndim"
      ],
      "metadata": {
        "colab": {
          "base_uri": "https://localhost:8080/"
        },
        "id": "aV5W8wDyCEOZ",
        "outputId": "5cac7c82-f631-4db6-c42a-0629aee817c9"
      },
      "execution_count": null,
      "outputs": [
        {
          "output_type": "execute_result",
          "data": {
            "text/plain": [
              "3"
            ]
          },
          "metadata": {},
          "execution_count": 12
        }
      ]
    },
    {
      "cell_type": "markdown",
      "source": [
        "What we've created so far:\n",
        "\n",
        "* Scalar: a single number\n",
        "* Vector: a number with direction (e.g. wind, speed and direction)\n",
        "* Matrix: a 2-dimensional array of numbers\n",
        "* Tensor: an n-dimensional array of numbers (where n can be any number, a 0-dimensional tensor is a scalar, a 1-dimensional tensor is a vector)\n"
      ],
      "metadata": {
        "id": "0v-eUWigCXlH"
      }
    },
    {
      "cell_type": "markdown",
      "source": [
        "### Creating tensors with `tf.Variable`"
      ],
      "metadata": {
        "id": "abjexyisHP5Q"
      }
    },
    {
      "cell_type": "code",
      "source": [
        "# Create the same tensor with tf.Variable() as above\n",
        "changeable_tensor = tf.Variable([10, 7])\n",
        "unchangeable_tensor = tf.constant([10, 7])\n",
        "changeable_tensor, unchangeable_tensor"
      ],
      "metadata": {
        "colab": {
          "base_uri": "https://localhost:8080/"
        },
        "id": "ycE8WtXkHIvG",
        "outputId": "6e2f68de-6043-4f00-fb20-a5f8def255db"
      },
      "execution_count": null,
      "outputs": [
        {
          "output_type": "execute_result",
          "data": {
            "text/plain": [
              "(<tf.Variable 'Variable:0' shape=(2,) dtype=int32, numpy=array([10,  7], dtype=int32)>,\n",
              " <tf.Tensor: shape=(2,), dtype=int32, numpy=array([10,  7], dtype=int32)>)"
            ]
          },
          "metadata": {},
          "execution_count": 13
        }
      ]
    },
    {
      "cell_type": "code",
      "source": [
        "# Let's try change one of the elements in our changeable tensor\n",
        "changeable_tensor[0] = 7\n",
        "changeable_tensor"
      ],
      "metadata": {
        "colab": {
          "base_uri": "https://localhost:8080/",
          "height": 180
        },
        "id": "XL4pLnP7HdUc",
        "outputId": "da0f52a0-f49c-4f36-d0b9-7294b2e2501e"
      },
      "execution_count": null,
      "outputs": [
        {
          "output_type": "error",
          "ename": "TypeError",
          "evalue": "'ResourceVariable' object does not support item assignment",
          "traceback": [
            "\u001b[0;31m---------------------------------------------------------------------------\u001b[0m",
            "\u001b[0;31mTypeError\u001b[0m                                 Traceback (most recent call last)",
            "\u001b[0;32m<ipython-input-15-55cb07e37ee9>\u001b[0m in \u001b[0;36m<cell line: 2>\u001b[0;34m()\u001b[0m\n\u001b[1;32m      1\u001b[0m \u001b[0;31m# Let's try change one of the elements in our changeable tensor\u001b[0m\u001b[0;34m\u001b[0m\u001b[0;34m\u001b[0m\u001b[0m\n\u001b[0;32m----> 2\u001b[0;31m \u001b[0mchangeable_tensor\u001b[0m\u001b[0;34m[\u001b[0m\u001b[0;36m0\u001b[0m\u001b[0;34m]\u001b[0m \u001b[0;34m=\u001b[0m \u001b[0;36m7\u001b[0m\u001b[0;34m\u001b[0m\u001b[0;34m\u001b[0m\u001b[0m\n\u001b[0m\u001b[1;32m      3\u001b[0m \u001b[0mchangeable_tensor\u001b[0m\u001b[0;34m\u001b[0m\u001b[0;34m\u001b[0m\u001b[0m\n",
            "\u001b[0;31mTypeError\u001b[0m: 'ResourceVariable' object does not support item assignment"
          ]
        }
      ]
    },
    {
      "cell_type": "code",
      "source": [
        "# How about we try .assign?\n",
        "changeable_tensor[0].assign(7)\n",
        "changeable_tensor"
      ],
      "metadata": {
        "colab": {
          "base_uri": "https://localhost:8080/"
        },
        "id": "mb84kEcmJFB_",
        "outputId": "33c8b932-18b8-4b49-ce0b-f289dcd35570"
      },
      "execution_count": null,
      "outputs": [
        {
          "output_type": "execute_result",
          "data": {
            "text/plain": [
              "<tf.Variable 'Variable:0' shape=(2,) dtype=int32, numpy=array([7, 7], dtype=int32)>"
            ]
          },
          "metadata": {},
          "execution_count": 16
        }
      ]
    },
    {
      "cell_type": "code",
      "source": [
        "unchangeable_tensor[0].assign(8)\n",
        "unchangeable_tensor"
      ],
      "metadata": {
        "colab": {
          "base_uri": "https://localhost:8080/",
          "height": 287
        },
        "id": "D461OsSEJsDH",
        "outputId": "afc370b8-5669-452c-cb5b-2d214278c5af"
      },
      "execution_count": null,
      "outputs": [
        {
          "output_type": "error",
          "ename": "AttributeError",
          "evalue": "'tensorflow.python.framework.ops.EagerTensor' object has no attribute 'assign'",
          "traceback": [
            "\u001b[0;31m---------------------------------------------------------------------------\u001b[0m",
            "\u001b[0;31mAttributeError\u001b[0m                            Traceback (most recent call last)",
            "\u001b[0;32m<ipython-input-17-0930ad20ac0a>\u001b[0m in \u001b[0;36m<cell line: 1>\u001b[0;34m()\u001b[0m\n\u001b[0;32m----> 1\u001b[0;31m \u001b[0munchangeable_tensor\u001b[0m\u001b[0;34m[\u001b[0m\u001b[0;36m0\u001b[0m\u001b[0;34m]\u001b[0m\u001b[0;34m.\u001b[0m\u001b[0massign\u001b[0m\u001b[0;34m(\u001b[0m\u001b[0;36m8\u001b[0m\u001b[0;34m)\u001b[0m\u001b[0;34m\u001b[0m\u001b[0;34m\u001b[0m\u001b[0m\n\u001b[0m\u001b[1;32m      2\u001b[0m \u001b[0munchangeable_tensor\u001b[0m\u001b[0;34m\u001b[0m\u001b[0;34m\u001b[0m\u001b[0m\n",
            "\u001b[0;32m/usr/local/lib/python3.10/dist-packages/tensorflow/python/framework/tensor.py\u001b[0m in \u001b[0;36m__getattr__\u001b[0;34m(self, name)\u001b[0m\n\u001b[1;32m    259\u001b[0m         \u001b[0mtf\u001b[0m\u001b[0;34m.\u001b[0m\u001b[0mexperimental\u001b[0m\u001b[0;34m.\u001b[0m\u001b[0mnumpy\u001b[0m\u001b[0;34m.\u001b[0m\u001b[0mexperimental_enable_numpy_behavior\u001b[0m\u001b[0;34m(\u001b[0m\u001b[0;34m)\u001b[0m\u001b[0;34m\u001b[0m\u001b[0;34m\u001b[0m\u001b[0m\n\u001b[1;32m    260\u001b[0m       \"\"\")\n\u001b[0;32m--> 261\u001b[0;31m     \u001b[0mself\u001b[0m\u001b[0;34m.\u001b[0m\u001b[0m__getattribute__\u001b[0m\u001b[0;34m(\u001b[0m\u001b[0mname\u001b[0m\u001b[0;34m)\u001b[0m\u001b[0;34m\u001b[0m\u001b[0;34m\u001b[0m\u001b[0m\n\u001b[0m\u001b[1;32m    262\u001b[0m \u001b[0;34m\u001b[0m\u001b[0m\n\u001b[1;32m    263\u001b[0m   \u001b[0;34m@\u001b[0m\u001b[0mproperty\u001b[0m\u001b[0;34m\u001b[0m\u001b[0;34m\u001b[0m\u001b[0m\n",
            "\u001b[0;31mAttributeError\u001b[0m: 'tensorflow.python.framework.ops.EagerTensor' object has no attribute 'assign'"
          ]
        }
      ]
    },
    {
      "cell_type": "markdown",
      "source": [
        "### Creating random tensors\n",
        "Random tensors are tensors of some abitrary(tetszőleges) size which contain random numbers."
      ],
      "metadata": {
        "id": "rAHb05WkKNN9"
      }
    },
    {
      "cell_type": "code",
      "source": [
        "# Create two random (but the same) tensors\n",
        "random_1 = tf.random.Generator.from_seed(7) # set seed for reproducibility\n",
        "random_1 = random_1.normal(shape=(3, 2))\n",
        "random_2 = tf.random.Generator.from_seed(7)\n",
        "random_2 = random_2.normal(shape=(3, 2))\n",
        "\n",
        "# Are they equal?\n",
        "random_1, random_2, random_1 == random_2"
      ],
      "metadata": {
        "colab": {
          "base_uri": "https://localhost:8080/"
        },
        "id": "3UX-zPcWJmEj",
        "outputId": "951b1f31-fd29-4840-fea5-4dcaf928653b"
      },
      "execution_count": null,
      "outputs": [
        {
          "output_type": "execute_result",
          "data": {
            "text/plain": [
              "(<tf.Tensor: shape=(3, 2), dtype=float32, numpy=\n",
              " array([[-1.3240396 ,  0.28785667],\n",
              "        [-0.8757901 , -0.08857018],\n",
              "        [ 0.69211644,  0.84215707]], dtype=float32)>,\n",
              " <tf.Tensor: shape=(3, 2), dtype=float32, numpy=\n",
              " array([[-1.3240396 ,  0.28785667],\n",
              "        [-0.8757901 , -0.08857018],\n",
              "        [ 0.69211644,  0.84215707]], dtype=float32)>,\n",
              " <tf.Tensor: shape=(3, 2), dtype=bool, numpy=\n",
              " array([[ True,  True],\n",
              "        [ True,  True],\n",
              "        [ True,  True]])>)"
            ]
          },
          "metadata": {},
          "execution_count": 18
        }
      ]
    },
    {
      "cell_type": "markdown",
      "source": [
        "### Shuffle the order of elements in a tensor"
      ],
      "metadata": {
        "id": "UtuTj42I5p7J"
      }
    },
    {
      "cell_type": "code",
      "source": [
        "### Shuffle a tensor (valuable for when you want to shuffle your data so the inherent order doesn't affect learning)\n",
        "not_shuffled = tf.constant([[10, 7],\n",
        "                            [3, 4],\n",
        "                            [2, 5]])\n",
        "\n",
        "# shuffle our non-shuffled tensor\n",
        "tf.random.shuffle(not_shuffled)"
      ],
      "metadata": {
        "colab": {
          "base_uri": "https://localhost:8080/"
        },
        "id": "IvTcZk62OutR",
        "outputId": "2313b674-2b38-4503-f33b-22179e55018f"
      },
      "execution_count": null,
      "outputs": [
        {
          "output_type": "execute_result",
          "data": {
            "text/plain": [
              "<tf.Tensor: shape=(3, 2), dtype=int32, numpy=\n",
              "array([[ 3,  4],\n",
              "       [10,  7],\n",
              "       [ 2,  5]], dtype=int32)>"
            ]
          },
          "metadata": {},
          "execution_count": 20
        }
      ]
    },
    {
      "cell_type": "code",
      "source": [
        "# shuffle our non-shuffled tensor\n",
        "tf.random.set_seed(42)\n",
        "tf.random.shuffle(not_shuffled, seed=42)"
      ],
      "metadata": {
        "colab": {
          "base_uri": "https://localhost:8080/"
        },
        "id": "egeLO_GR7KOm",
        "outputId": "eb9c0e02-7e25-43da-b062-998a66748dfb"
      },
      "execution_count": null,
      "outputs": [
        {
          "output_type": "execute_result",
          "data": {
            "text/plain": [
              "<tf.Tensor: shape=(3, 2), dtype=int32, numpy=\n",
              "array([[10,  7],\n",
              "       [ 3,  4],\n",
              "       [ 2,  5]], dtype=int32)>"
            ]
          },
          "metadata": {},
          "execution_count": 21
        }
      ]
    },
    {
      "cell_type": "markdown",
      "source": [],
      "metadata": {
        "id": "5taVRug8Aky_"
      }
    },
    {
      "cell_type": "code",
      "source": [
        "tensor1 = tf.constant([[1, 2],\n",
        "                       [3, 4],\n",
        "                       [5, 6]])\n",
        "tensor1"
      ],
      "metadata": {
        "colab": {
          "base_uri": "https://localhost:8080/"
        },
        "id": "XJKAl9Vs8aEG",
        "outputId": "3a3b1617-bc01-44ea-fd91-02c1b8c3f6eb"
      },
      "execution_count": null,
      "outputs": [
        {
          "output_type": "execute_result",
          "data": {
            "text/plain": [
              "<tf.Tensor: shape=(3, 2), dtype=int32, numpy=\n",
              "array([[1, 2],\n",
              "       [3, 4],\n",
              "       [5, 6]], dtype=int32)>"
            ]
          },
          "metadata": {},
          "execution_count": 22
        }
      ]
    },
    {
      "cell_type": "code",
      "source": [
        "tf.random.shuffle(tensor1)"
      ],
      "metadata": {
        "colab": {
          "base_uri": "https://localhost:8080/"
        },
        "id": "v3NJ3Zz_Co9s",
        "outputId": "c6e68be6-90b5-43ce-f39b-af2684289c7c"
      },
      "execution_count": null,
      "outputs": [
        {
          "output_type": "execute_result",
          "data": {
            "text/plain": [
              "<tf.Tensor: shape=(3, 2), dtype=int32, numpy=\n",
              "array([[3, 4],\n",
              "       [5, 6],\n",
              "       [1, 2]], dtype=int32)>"
            ]
          },
          "metadata": {},
          "execution_count": 23
        }
      ]
    },
    {
      "cell_type": "code",
      "source": [
        "tf.random.set_seed(11)\n",
        "tf.random.shuffle(tensor1, seed=11)"
      ],
      "metadata": {
        "colab": {
          "base_uri": "https://localhost:8080/"
        },
        "id": "f-KwZ9AxCzeF",
        "outputId": "5c55f2bb-e4b9-419c-98da-a74b3a6e2fd9"
      },
      "execution_count": null,
      "outputs": [
        {
          "output_type": "execute_result",
          "data": {
            "text/plain": [
              "<tf.Tensor: shape=(3, 2), dtype=int32, numpy=\n",
              "array([[3, 4],\n",
              "       [1, 2],\n",
              "       [5, 6]], dtype=int32)>"
            ]
          },
          "metadata": {},
          "execution_count": 24
        }
      ]
    },
    {
      "cell_type": "code",
      "source": [
        "tensor2 = tf.constant([[7, 8],\n",
        "                       [9, 10],\n",
        "                       [11, 12]])\n",
        "\n",
        "tensor2"
      ],
      "metadata": {
        "colab": {
          "base_uri": "https://localhost:8080/"
        },
        "id": "SRu6VePWDAPc",
        "outputId": "b8b1c543-eb70-45a5-c45b-6f28c8f90bf3"
      },
      "execution_count": null,
      "outputs": [
        {
          "output_type": "execute_result",
          "data": {
            "text/plain": [
              "<tf.Tensor: shape=(3, 2), dtype=int32, numpy=\n",
              "array([[ 7,  8],\n",
              "       [ 9, 10],\n",
              "       [11, 12]], dtype=int32)>"
            ]
          },
          "metadata": {},
          "execution_count": 25
        }
      ]
    },
    {
      "cell_type": "code",
      "source": [
        "tf.random.shuffle(tensor2)"
      ],
      "metadata": {
        "colab": {
          "base_uri": "https://localhost:8080/"
        },
        "id": "dUi0arWbDplU",
        "outputId": "0ee08be3-65c9-4b8a-c7c7-eed5ef0b1f87"
      },
      "execution_count": null,
      "outputs": [
        {
          "output_type": "execute_result",
          "data": {
            "text/plain": [
              "<tf.Tensor: shape=(3, 2), dtype=int32, numpy=\n",
              "array([[ 9, 10],\n",
              "       [ 7,  8],\n",
              "       [11, 12]], dtype=int32)>"
            ]
          },
          "metadata": {},
          "execution_count": 26
        }
      ]
    },
    {
      "cell_type": "code",
      "source": [
        "tf.random.set_seed(22)\n",
        "tf.random.shuffle(tensor2, seed=22)"
      ],
      "metadata": {
        "colab": {
          "base_uri": "https://localhost:8080/"
        },
        "id": "iHKGHTcTDyBc",
        "outputId": "9b71ec3d-d9d5-4cda-a39f-3e16d0144f4f"
      },
      "execution_count": null,
      "outputs": [
        {
          "output_type": "execute_result",
          "data": {
            "text/plain": [
              "<tf.Tensor: shape=(3, 2), dtype=int32, numpy=\n",
              "array([[11, 12],\n",
              "       [ 7,  8],\n",
              "       [ 9, 10]], dtype=int32)>"
            ]
          },
          "metadata": {},
          "execution_count": 27
        }
      ]
    },
    {
      "cell_type": "code",
      "source": [
        "tensor3 = tf.constant([[13, 14],\n",
        "                       [15, 16],\n",
        "                       [17, 18]])\n",
        "\n",
        "tensor3"
      ],
      "metadata": {
        "colab": {
          "base_uri": "https://localhost:8080/"
        },
        "id": "FktyK9x5EPgU",
        "outputId": "9a6c2ad9-9536-4e74-c9d9-235f9b41ff42"
      },
      "execution_count": null,
      "outputs": [
        {
          "output_type": "execute_result",
          "data": {
            "text/plain": [
              "<tf.Tensor: shape=(3, 2), dtype=int32, numpy=\n",
              "array([[13, 14],\n",
              "       [15, 16],\n",
              "       [17, 18]], dtype=int32)>"
            ]
          },
          "metadata": {},
          "execution_count": 28
        }
      ]
    },
    {
      "cell_type": "code",
      "source": [
        "tf.random.set_seed(33)\n",
        "tf.random.shuffle(tensor3, seed=33)"
      ],
      "metadata": {
        "colab": {
          "base_uri": "https://localhost:8080/"
        },
        "id": "W0IYoC11Ei48",
        "outputId": "d67c30bf-3dba-4235-bac3-745c20176334"
      },
      "execution_count": null,
      "outputs": [
        {
          "output_type": "execute_result",
          "data": {
            "text/plain": [
              "<tf.Tensor: shape=(3, 2), dtype=int32, numpy=\n",
              "array([[17, 18],\n",
              "       [15, 16],\n",
              "       [13, 14]], dtype=int32)>"
            ]
          },
          "metadata": {},
          "execution_count": 29
        }
      ]
    },
    {
      "cell_type": "code",
      "source": [
        "tensor4 = tf.constant([[19, 20],\n",
        "                       [21, 22],\n",
        "                       [23, 24]])\n",
        "\n",
        "tensor4"
      ],
      "metadata": {
        "colab": {
          "base_uri": "https://localhost:8080/"
        },
        "id": "7-iE-SSUE2M1",
        "outputId": "dbf446c3-27e8-43dd-e309-0f0c2808b1c1"
      },
      "execution_count": null,
      "outputs": [
        {
          "output_type": "execute_result",
          "data": {
            "text/plain": [
              "<tf.Tensor: shape=(3, 2), dtype=int32, numpy=\n",
              "array([[19, 20],\n",
              "       [21, 22],\n",
              "       [23, 24]], dtype=int32)>"
            ]
          },
          "metadata": {},
          "execution_count": 30
        }
      ]
    },
    {
      "cell_type": "code",
      "source": [
        "tf.random.set_seed(44)\n",
        "tf.random.shuffle(tensor4, seed=44)"
      ],
      "metadata": {
        "colab": {
          "base_uri": "https://localhost:8080/"
        },
        "id": "Q2OKbuDPFIUE",
        "outputId": "4bd7596f-c39c-4289-aa94-130e387c34a8"
      },
      "execution_count": null,
      "outputs": [
        {
          "output_type": "execute_result",
          "data": {
            "text/plain": [
              "<tf.Tensor: shape=(3, 2), dtype=int32, numpy=\n",
              "array([[19, 20],\n",
              "       [23, 24],\n",
              "       [21, 22]], dtype=int32)>"
            ]
          },
          "metadata": {},
          "execution_count": 31
        }
      ]
    },
    {
      "cell_type": "code",
      "source": [
        "tensor5 = tf.constant([[25, 26],\n",
        "                       [27, 28],\n",
        "                       [29, 30]])\n",
        "\n",
        "tensor5"
      ],
      "metadata": {
        "colab": {
          "base_uri": "https://localhost:8080/"
        },
        "id": "L6PU4flzFY1U",
        "outputId": "aa7bdbfd-c38c-402e-e0f0-134d2d468f8e"
      },
      "execution_count": null,
      "outputs": [
        {
          "output_type": "execute_result",
          "data": {
            "text/plain": [
              "<tf.Tensor: shape=(3, 2), dtype=int32, numpy=\n",
              "array([[25, 26],\n",
              "       [27, 28],\n",
              "       [29, 30]], dtype=int32)>"
            ]
          },
          "metadata": {},
          "execution_count": 32
        }
      ]
    },
    {
      "cell_type": "code",
      "source": [
        "tf.random.set_seed(55) # global level random seed\n",
        "tf.random.shuffle(tensor5, seed=55) # operation level random seed"
      ],
      "metadata": {
        "colab": {
          "base_uri": "https://localhost:8080/"
        },
        "id": "o4QZUwsjFrFx",
        "outputId": "badc473d-6d05-4ab0-dace-031a2b273c3e"
      },
      "execution_count": null,
      "outputs": [
        {
          "output_type": "execute_result",
          "data": {
            "text/plain": [
              "<tf.Tensor: shape=(3, 2), dtype=int32, numpy=\n",
              "array([[29, 30],\n",
              "       [25, 26],\n",
              "       [27, 28]], dtype=int32)>"
            ]
          },
          "metadata": {},
          "execution_count": 33
        }
      ]
    },
    {
      "cell_type": "markdown",
      "source": [
        "If we want our shuffled tensors to be in the same order, we've got to use the global level random seed as well as the operation level random seed:\n",
        "\n",
        "> Rule 4: \"If both the global and the operation seed are set: Both seeds are used in conjunction to determine the random sequence.\""
      ],
      "metadata": {
        "id": "uII7kwsoIxND"
      }
    },
    {
      "cell_type": "markdown",
      "source": [
        "### Other ways to make tensors"
      ],
      "metadata": {
        "id": "gkuX1CNMLKJj"
      }
    },
    {
      "cell_type": "code",
      "source": [
        "# Create a tensor of all ones\n",
        "tf.ones([10, 7])"
      ],
      "metadata": {
        "colab": {
          "base_uri": "https://localhost:8080/"
        },
        "id": "ct7txw1WJSn-",
        "outputId": "a4bf688c-8a92-412c-ca94-1d51efb1b818"
      },
      "execution_count": null,
      "outputs": [
        {
          "output_type": "execute_result",
          "data": {
            "text/plain": [
              "<tf.Tensor: shape=(10, 7), dtype=float32, numpy=\n",
              "array([[1., 1., 1., 1., 1., 1., 1.],\n",
              "       [1., 1., 1., 1., 1., 1., 1.],\n",
              "       [1., 1., 1., 1., 1., 1., 1.],\n",
              "       [1., 1., 1., 1., 1., 1., 1.],\n",
              "       [1., 1., 1., 1., 1., 1., 1.],\n",
              "       [1., 1., 1., 1., 1., 1., 1.],\n",
              "       [1., 1., 1., 1., 1., 1., 1.],\n",
              "       [1., 1., 1., 1., 1., 1., 1.],\n",
              "       [1., 1., 1., 1., 1., 1., 1.],\n",
              "       [1., 1., 1., 1., 1., 1., 1.]], dtype=float32)>"
            ]
          },
          "metadata": {},
          "execution_count": 34
        }
      ]
    },
    {
      "cell_type": "code",
      "source": [
        "# Create a tensor of all zeros\n",
        "tf.zeros([3, 4])"
      ],
      "metadata": {
        "colab": {
          "base_uri": "https://localhost:8080/"
        },
        "id": "SVPHib6wLjKr",
        "outputId": "273d8c72-232c-433c-aaea-4aea27cd98b0"
      },
      "execution_count": null,
      "outputs": [
        {
          "output_type": "execute_result",
          "data": {
            "text/plain": [
              "<tf.Tensor: shape=(3, 4), dtype=float32, numpy=\n",
              "array([[0., 0., 0., 0.],\n",
              "       [0., 0., 0., 0.],\n",
              "       [0., 0., 0., 0.]], dtype=float32)>"
            ]
          },
          "metadata": {},
          "execution_count": 35
        }
      ]
    },
    {
      "cell_type": "markdown",
      "source": [
        "### Turn NumPy arrays into tensors\n",
        "\n",
        "The main difference between NumPy arrays and TensorFlow tensors is that tensors can be run on a GPU (much faster for numerical computing).\n"
      ],
      "metadata": {
        "id": "2irTSiPiLynq"
      }
    },
    {
      "cell_type": "code",
      "source": [
        "# You can also turn NumPy arrays into tensors\n",
        "import numpy as np\n",
        "numpy_A = np.arange(1, 25, dtype=np.int32) # create a NumPy array between 1 and 25\n",
        "numpy_A\n",
        "\n",
        "# X = tf.constant(some_matrix)  # capital for matrix or tensor\n",
        "# y = tf.constant(vector)  # non capital for vector"
      ],
      "metadata": {
        "colab": {
          "base_uri": "https://localhost:8080/"
        },
        "id": "53-opBTSMfi6",
        "outputId": "3dee3b7f-0ed6-455c-b540-24e5b0b9cfa6"
      },
      "execution_count": null,
      "outputs": [
        {
          "output_type": "execute_result",
          "data": {
            "text/plain": [
              "array([ 1,  2,  3,  4,  5,  6,  7,  8,  9, 10, 11, 12, 13, 14, 15, 16, 17,\n",
              "       18, 19, 20, 21, 22, 23, 24], dtype=int32)"
            ]
          },
          "metadata": {},
          "execution_count": 36
        }
      ]
    },
    {
      "cell_type": "code",
      "source": [
        "A = tf.constant(numpy_A, shape=(2, 3, 4))\n",
        "B = tf.constant(numpy_A)\n",
        "\n",
        "A, B"
      ],
      "metadata": {
        "colab": {
          "base_uri": "https://localhost:8080/"
        },
        "id": "_wGvmBGuPI_S",
        "outputId": "6ea75262-d4cf-46e9-ce3c-b390a780a266"
      },
      "execution_count": null,
      "outputs": [
        {
          "output_type": "execute_result",
          "data": {
            "text/plain": [
              "(<tf.Tensor: shape=(2, 3, 4), dtype=int32, numpy=\n",
              " array([[[ 1,  2,  3,  4],\n",
              "         [ 5,  6,  7,  8],\n",
              "         [ 9, 10, 11, 12]],\n",
              " \n",
              "        [[13, 14, 15, 16],\n",
              "         [17, 18, 19, 20],\n",
              "         [21, 22, 23, 24]]], dtype=int32)>,\n",
              " <tf.Tensor: shape=(24,), dtype=int32, numpy=\n",
              " array([ 1,  2,  3,  4,  5,  6,  7,  8,  9, 10, 11, 12, 13, 14, 15, 16, 17,\n",
              "        18, 19, 20, 21, 22, 23, 24], dtype=int32)>)"
            ]
          },
          "metadata": {},
          "execution_count": 37
        }
      ]
    },
    {
      "cell_type": "markdown",
      "source": [
        "### Getting information from tensors\n",
        "\n",
        "When dealing with tensors you probably want to be aware of the following attributes:\n",
        "\n",
        "* Shape\n",
        "* Rank\n",
        "* Axis or dimensions\n",
        "* Size"
      ],
      "metadata": {
        "id": "ejxfWU8-PXny"
      }
    },
    {
      "cell_type": "code",
      "source": [
        "# Create a rank 4 tensor (4 dimensions)\n",
        "rank_4_tensor = tf.zeros(shape=[2, 3, 4, 5])\n",
        "rank_4_tensor"
      ],
      "metadata": {
        "id": "vL-qhh7zQxLb",
        "outputId": "f264026e-84e5-47eb-ad37-73c27e16e00e",
        "colab": {
          "base_uri": "https://localhost:8080/"
        }
      },
      "execution_count": null,
      "outputs": [
        {
          "output_type": "execute_result",
          "data": {
            "text/plain": [
              "<tf.Tensor: shape=(2, 3, 4, 5), dtype=float32, numpy=\n",
              "array([[[[0., 0., 0., 0., 0.],\n",
              "         [0., 0., 0., 0., 0.],\n",
              "         [0., 0., 0., 0., 0.],\n",
              "         [0., 0., 0., 0., 0.]],\n",
              "\n",
              "        [[0., 0., 0., 0., 0.],\n",
              "         [0., 0., 0., 0., 0.],\n",
              "         [0., 0., 0., 0., 0.],\n",
              "         [0., 0., 0., 0., 0.]],\n",
              "\n",
              "        [[0., 0., 0., 0., 0.],\n",
              "         [0., 0., 0., 0., 0.],\n",
              "         [0., 0., 0., 0., 0.],\n",
              "         [0., 0., 0., 0., 0.]]],\n",
              "\n",
              "\n",
              "       [[[0., 0., 0., 0., 0.],\n",
              "         [0., 0., 0., 0., 0.],\n",
              "         [0., 0., 0., 0., 0.],\n",
              "         [0., 0., 0., 0., 0.]],\n",
              "\n",
              "        [[0., 0., 0., 0., 0.],\n",
              "         [0., 0., 0., 0., 0.],\n",
              "         [0., 0., 0., 0., 0.],\n",
              "         [0., 0., 0., 0., 0.]],\n",
              "\n",
              "        [[0., 0., 0., 0., 0.],\n",
              "         [0., 0., 0., 0., 0.],\n",
              "         [0., 0., 0., 0., 0.],\n",
              "         [0., 0., 0., 0., 0.]]]], dtype=float32)>"
            ]
          },
          "metadata": {},
          "execution_count": 38
        }
      ]
    },
    {
      "cell_type": "code",
      "source": [
        "rank_4_tensor[0]"
      ],
      "metadata": {
        "id": "_rSGPkhIsMod",
        "outputId": "815386a7-702d-4d32-d435-6d4ebc79fe82",
        "colab": {
          "base_uri": "https://localhost:8080/"
        }
      },
      "execution_count": null,
      "outputs": [
        {
          "output_type": "execute_result",
          "data": {
            "text/plain": [
              "<tf.Tensor: shape=(3, 4, 5), dtype=float32, numpy=\n",
              "array([[[0., 0., 0., 0., 0.],\n",
              "        [0., 0., 0., 0., 0.],\n",
              "        [0., 0., 0., 0., 0.],\n",
              "        [0., 0., 0., 0., 0.]],\n",
              "\n",
              "       [[0., 0., 0., 0., 0.],\n",
              "        [0., 0., 0., 0., 0.],\n",
              "        [0., 0., 0., 0., 0.],\n",
              "        [0., 0., 0., 0., 0.]],\n",
              "\n",
              "       [[0., 0., 0., 0., 0.],\n",
              "        [0., 0., 0., 0., 0.],\n",
              "        [0., 0., 0., 0., 0.],\n",
              "        [0., 0., 0., 0., 0.]]], dtype=float32)>"
            ]
          },
          "metadata": {},
          "execution_count": 39
        }
      ]
    },
    {
      "cell_type": "code",
      "source": [
        "rank_4_tensor.shape, rank_4_tensor.ndim, tf.size(rank_4_tensor)"
      ],
      "metadata": {
        "id": "SkYERcNYsy1Q",
        "outputId": "f1c216b4-2eaa-4b34-c59a-2c3bd6ee16be",
        "colab": {
          "base_uri": "https://localhost:8080/"
        }
      },
      "execution_count": null,
      "outputs": [
        {
          "output_type": "execute_result",
          "data": {
            "text/plain": [
              "(TensorShape([2, 3, 4, 5]), 4, <tf.Tensor: shape=(), dtype=int32, numpy=120>)"
            ]
          },
          "metadata": {},
          "execution_count": 40
        }
      ]
    },
    {
      "cell_type": "code",
      "source": [
        "2 * 3 * 4 * 5"
      ],
      "metadata": {
        "id": "e7SOqHpF2bKZ",
        "outputId": "c0954eb4-24f9-4ce4-881a-1043f9487b2e",
        "colab": {
          "base_uri": "https://localhost:8080/"
        }
      },
      "execution_count": null,
      "outputs": [
        {
          "output_type": "execute_result",
          "data": {
            "text/plain": [
              "120"
            ]
          },
          "metadata": {},
          "execution_count": 41
        }
      ]
    },
    {
      "cell_type": "code",
      "source": [
        "# Get various attributes of our tensor\n",
        "print(\"Datatype of every element:\", rank_4_tensor.dtype)\n",
        "print(\"Number of dimensions rank:\", rank_4_tensor.ndim)\n",
        "print(\"Shape of tensor:\", rank_4_tensor.shape)\n",
        "print(\"Elements along the 0 axis:\", rank_4_tensor.shape[0])\n",
        "print(\"Elements along the last axis:\", rank_4_tensor.shape[-1])\n",
        "print(\"Total number of elements in our tensor:\", tf.size(rank_4_tensor))\n",
        "print(\"Total number of elements in our tensor:\", tf.size(rank_4_tensor).numpy())"
      ],
      "metadata": {
        "id": "hFi1G6zW2pOA",
        "outputId": "27280dba-b26b-417b-a22f-d0fd0ece8e24",
        "colab": {
          "base_uri": "https://localhost:8080/"
        }
      },
      "execution_count": null,
      "outputs": [
        {
          "output_type": "stream",
          "name": "stdout",
          "text": [
            "Datatype of every element: <dtype: 'float32'>\n",
            "Number of dimensions rank: 4\n",
            "Shape of tensor: (2, 3, 4, 5)\n",
            "Elements along the 0 axis: 2\n",
            "Elements along the last axis: 5\n",
            "Total number of elements in our tensor: tf.Tensor(120, shape=(), dtype=int32)\n",
            "Total number of elements in our tensor: 120\n"
          ]
        }
      ]
    },
    {
      "cell_type": "markdown",
      "source": [
        "### Indexing tensors\n",
        "\n",
        "Tensors can be indexed just like Python lists."
      ],
      "metadata": {
        "id": "0X4IOnkV9bIw"
      }
    },
    {
      "cell_type": "code",
      "source": [
        "# Get the first 2 items of each dimension\n",
        "rank_4_tensor[:2, :2, :2, :2]"
      ],
      "metadata": {
        "id": "bEK4Gsf38Q9m",
        "colab": {
          "base_uri": "https://localhost:8080/"
        },
        "outputId": "6324732c-e522-460c-d38a-e490b4dcc154"
      },
      "execution_count": null,
      "outputs": [
        {
          "output_type": "execute_result",
          "data": {
            "text/plain": [
              "<tf.Tensor: shape=(2, 2, 2, 2), dtype=float32, numpy=\n",
              "array([[[[0., 0.],\n",
              "         [0., 0.]],\n",
              "\n",
              "        [[0., 0.],\n",
              "         [0., 0.]]],\n",
              "\n",
              "\n",
              "       [[[0., 0.],\n",
              "         [0., 0.]],\n",
              "\n",
              "        [[0., 0.],\n",
              "         [0., 0.]]]], dtype=float32)>"
            ]
          },
          "metadata": {},
          "execution_count": 43
        }
      ]
    },
    {
      "cell_type": "code",
      "source": [
        "# Get the dimension from each index except for the final one\n",
        "rank_4_tensor[:1, :1, :1, :]"
      ],
      "metadata": {
        "colab": {
          "base_uri": "https://localhost:8080/"
        },
        "id": "CEFXPApxMCmR",
        "outputId": "c119fac0-5437-48c7-ebc7-7207320e75e9"
      },
      "execution_count": null,
      "outputs": [
        {
          "output_type": "execute_result",
          "data": {
            "text/plain": [
              "<tf.Tensor: shape=(1, 1, 1, 5), dtype=float32, numpy=array([[[[0., 0., 0., 0., 0.]]]], dtype=float32)>"
            ]
          },
          "metadata": {},
          "execution_count": 44
        }
      ]
    },
    {
      "cell_type": "code",
      "source": [
        "# Create a rank 2 tensor (2 dimensions)\n",
        "rank_2_tensor = tf.constant([[10, 7],\n",
        "                             [3, 4]])\n",
        "\n",
        "# Get the last item of each row\n",
        "rank_2_tensor[:, -1]\n"
      ],
      "metadata": {
        "colab": {
          "base_uri": "https://localhost:8080/"
        },
        "id": "c1DQzKwQMFPW",
        "outputId": "4abcd082-01dd-4573-e401-6343b7946af6"
      },
      "execution_count": null,
      "outputs": [
        {
          "output_type": "execute_result",
          "data": {
            "text/plain": [
              "<tf.Tensor: shape=(2,), dtype=int32, numpy=array([7, 4], dtype=int32)>"
            ]
          },
          "metadata": {},
          "execution_count": 45
        }
      ]
    },
    {
      "cell_type": "code",
      "source": [
        "# Add an extra dimension (to the end)\n",
        "rank_3_tensor = rank_2_tensor[..., tf.newaxis] # in Python \"...\" means \"all dimensions prior to\"\n",
        "rank_2_tensor, rank_3_tensor # shape (2, 2), shape (2, 2, 1)"
      ],
      "metadata": {
        "colab": {
          "base_uri": "https://localhost:8080/"
        },
        "id": "hGPL-y0aMHML",
        "outputId": "cfd951a5-5fc2-4359-8240-e790abb95783"
      },
      "execution_count": null,
      "outputs": [
        {
          "output_type": "execute_result",
          "data": {
            "text/plain": [
              "(<tf.Tensor: shape=(2, 2), dtype=int32, numpy=\n",
              " array([[10,  7],\n",
              "        [ 3,  4]], dtype=int32)>,\n",
              " <tf.Tensor: shape=(2, 2, 1), dtype=int32, numpy=\n",
              " array([[[10],\n",
              "         [ 7]],\n",
              " \n",
              "        [[ 3],\n",
              "         [ 4]]], dtype=int32)>)"
            ]
          },
          "metadata": {},
          "execution_count": 46
        }
      ]
    },
    {
      "cell_type": "code",
      "source": [
        "tf.expand_dims(rank_2_tensor, axis=-1) # \"-1\" means last axis"
      ],
      "metadata": {
        "colab": {
          "base_uri": "https://localhost:8080/"
        },
        "id": "H7iYfqmpMJvY",
        "outputId": "8d85d3f9-dc5b-4896-8497-c3d4e7e8dfa2"
      },
      "execution_count": null,
      "outputs": [
        {
          "output_type": "execute_result",
          "data": {
            "text/plain": [
              "<tf.Tensor: shape=(2, 2, 1), dtype=int32, numpy=\n",
              "array([[[10],\n",
              "        [ 7]],\n",
              "\n",
              "       [[ 3],\n",
              "        [ 4]]], dtype=int32)>"
            ]
          },
          "metadata": {},
          "execution_count": 47
        }
      ]
    },
    {
      "cell_type": "markdown",
      "source": [
        "### Manipulating tensors (tensor operations)\n",
        "\n",
        "**Basic operations**\n",
        "`+`, `-`, `*`, `/`"
      ],
      "metadata": {
        "id": "82tsa1ykMM5N"
      }
    },
    {
      "cell_type": "code",
      "source": [
        "# You can add values to a tensor using the addition operator\n",
        "tensor = tf.constant([[10, 7],\n",
        "                      [3, 4]])\n",
        "tensor + 10"
      ],
      "metadata": {
        "id": "dw9GX87PMLZx",
        "colab": {
          "base_uri": "https://localhost:8080/"
        },
        "outputId": "7b8718a9-ed58-4439-e561-1bbab740e48e"
      },
      "execution_count": null,
      "outputs": [
        {
          "output_type": "execute_result",
          "data": {
            "text/plain": [
              "<tf.Tensor: shape=(2, 2), dtype=int32, numpy=\n",
              "array([[20, 17],\n",
              "       [13, 14]], dtype=int32)>"
            ]
          },
          "metadata": {},
          "execution_count": 35
        }
      ]
    },
    {
      "cell_type": "code",
      "source": [
        "# Original tensor is unchanged\n",
        "tensor"
      ],
      "metadata": {
        "colab": {
          "base_uri": "https://localhost:8080/"
        },
        "id": "0FT_2Cvh2Myy",
        "outputId": "5f579287-52fb-4474-ffd0-f6b4c59d7de5"
      },
      "execution_count": null,
      "outputs": [
        {
          "output_type": "execute_result",
          "data": {
            "text/plain": [
              "<tf.Tensor: shape=(2, 2), dtype=int32, numpy=\n",
              "array([[10,  7],\n",
              "       [ 3,  4]], dtype=int32)>"
            ]
          },
          "metadata": {},
          "execution_count": 50
        }
      ]
    },
    {
      "cell_type": "code",
      "source": [
        "# Multiplication also works\n",
        "tensor * 10"
      ],
      "metadata": {
        "colab": {
          "base_uri": "https://localhost:8080/"
        },
        "id": "IZB8IoWB3J-f",
        "outputId": "93c8014c-a363-4c6b-9af5-ae861df1f9b4"
      },
      "execution_count": null,
      "outputs": [
        {
          "output_type": "execute_result",
          "data": {
            "text/plain": [
              "<tf.Tensor: shape=(2, 2), dtype=int32, numpy=\n",
              "array([[100,  70],\n",
              "       [ 30,  40]], dtype=int32)>"
            ]
          },
          "metadata": {},
          "execution_count": 52
        }
      ]
    },
    {
      "cell_type": "code",
      "source": [
        "# Subtraction if you want\n",
        "tensor -10"
      ],
      "metadata": {
        "colab": {
          "base_uri": "https://localhost:8080/"
        },
        "id": "wTwzNtSm3fuJ",
        "outputId": "7ad489e8-6156-43b5-aa56-647667d520e9"
      },
      "execution_count": null,
      "outputs": [
        {
          "output_type": "execute_result",
          "data": {
            "text/plain": [
              "<tf.Tensor: shape=(2, 2), dtype=int32, numpy=\n",
              "array([[ 0, -3],\n",
              "       [-7, -6]], dtype=int32)>"
            ]
          },
          "metadata": {},
          "execution_count": 53
        }
      ]
    },
    {
      "cell_type": "code",
      "source": [
        "# We can use the tensorflow built-in function too (faster)\n",
        "tf.multiply(tensor, 10)"
      ],
      "metadata": {
        "colab": {
          "base_uri": "https://localhost:8080/"
        },
        "id": "Z8LPD0jV3mj0",
        "outputId": "9cca654a-0896-4ddd-ab8a-e84987e76654"
      },
      "execution_count": null,
      "outputs": [
        {
          "output_type": "execute_result",
          "data": {
            "text/plain": [
              "<tf.Tensor: shape=(2, 2), dtype=int32, numpy=\n",
              "array([[100,  70],\n",
              "       [ 30,  40]], dtype=int32)>"
            ]
          },
          "metadata": {},
          "execution_count": 59
        }
      ]
    },
    {
      "cell_type": "markdown",
      "source": [
        "**Matrix multiplication**\n",
        "\n",
        "In machine learning, matrix multiplycation is one of the most common operations.\n",
        "\n",
        "There are 2 rules our tensors (or matrices) need to fulfil if we're going to matrix multiply them:\n",
        "1. The inner dimensions must match\n",
        "2. The resulting matrix has the shape of the outer dimensions"
      ],
      "metadata": {
        "id": "DIRzq4ns5CJj"
      }
    },
    {
      "cell_type": "code",
      "source": [
        "# Matrix multiplication in tensorflow\n",
        "print(tensor)\n",
        "tf.matmul(tensor, tensor)"
      ],
      "metadata": {
        "colab": {
          "base_uri": "https://localhost:8080/"
        },
        "id": "VSYULjo5vOfD",
        "outputId": "c06208b9-da9e-430d-c6aa-8f4d047b98a3"
      },
      "execution_count": null,
      "outputs": [
        {
          "output_type": "stream",
          "name": "stdout",
          "text": [
            "tf.Tensor(\n",
            "[[10  7]\n",
            " [ 3  4]], shape=(2, 2), dtype=int32)\n"
          ]
        },
        {
          "output_type": "execute_result",
          "data": {
            "text/plain": [
              "<tf.Tensor: shape=(2, 2), dtype=int32, numpy=\n",
              "array([[121,  98],\n",
              "       [ 42,  37]], dtype=int32)>"
            ]
          },
          "metadata": {},
          "execution_count": 4
        }
      ]
    },
    {
      "cell_type": "code",
      "source": [
        "tensor * tensor"
      ],
      "metadata": {
        "colab": {
          "base_uri": "https://localhost:8080/"
        },
        "id": "ljXKtCVMwZ4J",
        "outputId": "0a0dc42a-98fb-4c2b-dd87-01b4f43515e1"
      },
      "execution_count": null,
      "outputs": [
        {
          "output_type": "execute_result",
          "data": {
            "text/plain": [
              "<tf.Tensor: shape=(2, 2), dtype=int32, numpy=\n",
              "array([[100,  49],\n",
              "       [  9,  16]], dtype=int32)>"
            ]
          },
          "metadata": {},
          "execution_count": 5
        }
      ]
    },
    {
      "cell_type": "code",
      "source": [
        "# Matrix multiplication with Python operator \"@\"\n",
        "tensor @ tensor"
      ],
      "metadata": {
        "colab": {
          "base_uri": "https://localhost:8080/"
        },
        "id": "6DLS2wY1vihC",
        "outputId": "cd4f1bc1-d779-41d8-aced-8d5ecd9c371b"
      },
      "execution_count": null,
      "outputs": [
        {
          "output_type": "execute_result",
          "data": {
            "text/plain": [
              "<tf.Tensor: shape=(2, 2), dtype=int32, numpy=\n",
              "array([[121,  98],\n",
              "       [ 42,  37]], dtype=int32)>"
            ]
          },
          "metadata": {},
          "execution_count": 6
        }
      ]
    },
    {
      "cell_type": "code",
      "source": [
        "tensor.shape"
      ],
      "metadata": {
        "colab": {
          "base_uri": "https://localhost:8080/"
        },
        "id": "rcMcT1xywugi",
        "outputId": "cb955c0d-295f-4e01-ee15-5229c3e1c7c2"
      },
      "execution_count": null,
      "outputs": [
        {
          "output_type": "execute_result",
          "data": {
            "text/plain": [
              "TensorShape([2, 2])"
            ]
          },
          "metadata": {},
          "execution_count": 7
        }
      ]
    },
    {
      "cell_type": "code",
      "source": [
        "# Create a tensor (3, 2)\n",
        "X = tf.constant([[1, 2],\n",
        "                 [3, 4],\n",
        "                 [5, 6]])\n",
        "\n",
        "# Create another (3, 2)\n",
        "Y = tf.constant([[7, 8],\n",
        "                 [9, 10],\n",
        "                 [11, 12]])\n",
        "X, Y"
      ],
      "metadata": {
        "colab": {
          "base_uri": "https://localhost:8080/"
        },
        "id": "soLwqct1w3Dq",
        "outputId": "71950e3f-9499-48fe-9e17-b4f6c279be87"
      },
      "execution_count": null,
      "outputs": [
        {
          "output_type": "execute_result",
          "data": {
            "text/plain": [
              "(<tf.Tensor: shape=(3, 2), dtype=int32, numpy=\n",
              " array([[1, 2],\n",
              "        [3, 4],\n",
              "        [5, 6]], dtype=int32)>,\n",
              " <tf.Tensor: shape=(3, 2), dtype=int32, numpy=\n",
              " array([[ 7,  8],\n",
              "        [ 9, 10],\n",
              "        [11, 12]], dtype=int32)>)"
            ]
          },
          "metadata": {},
          "execution_count": 2
        }
      ]
    },
    {
      "cell_type": "code",
      "source": [
        "# Try to matrix multiply tensors of same shape\n",
        "X @ Y"
      ],
      "metadata": {
        "colab": {
          "base_uri": "https://localhost:8080/"
        },
        "id": "Zjj_ULcfxo1i",
        "outputId": "8cdc834e-2a2f-4e44-84bf-b14b9512a5f7"
      },
      "execution_count": null,
      "outputs": [
        {
          "output_type": "execute_result",
          "data": {
            "text/plain": [
              "<tf.Tensor: shape=(3, 3), dtype=int32, numpy=\n",
              "array([[ 27,  30,  33],\n",
              "       [ 61,  68,  75],\n",
              "       [ 95, 106, 117]], dtype=int32)>"
            ]
          },
          "metadata": {},
          "execution_count": 17
        }
      ]
    },
    {
      "cell_type": "code",
      "source": [
        "Y"
      ],
      "metadata": {
        "colab": {
          "base_uri": "https://localhost:8080/"
        },
        "id": "ZGZHuQBvP5hF",
        "outputId": "a0bbcd9a-5531-41ed-8771-8f986328efab"
      },
      "execution_count": null,
      "outputs": [
        {
          "output_type": "execute_result",
          "data": {
            "text/plain": [
              "<tf.Tensor: shape=(3, 2), dtype=int32, numpy=\n",
              "array([[ 7,  8],\n",
              "       [ 9, 10],\n",
              "       [11, 12]], dtype=int32)>"
            ]
          },
          "metadata": {},
          "execution_count": 22
        }
      ]
    },
    {
      "cell_type": "code",
      "source": [
        "# Let's change the shape of Y\n",
        "tf.reshape(Y, shape=(2, 3))"
      ],
      "metadata": {
        "colab": {
          "base_uri": "https://localhost:8080/"
        },
        "id": "dGS2YOixx-_K",
        "outputId": "9dfab4f6-67a5-491e-993b-58188973bf81"
      },
      "execution_count": null,
      "outputs": [
        {
          "output_type": "execute_result",
          "data": {
            "text/plain": [
              "<tf.Tensor: shape=(2, 3), dtype=int32, numpy=\n",
              "array([[ 7,  8,  9],\n",
              "       [10, 11, 12]], dtype=int32)>"
            ]
          },
          "metadata": {},
          "execution_count": 24
        }
      ]
    },
    {
      "cell_type": "code",
      "source": [
        "X.shape, tf.reshape(Y, shape=(2, 3)).shape"
      ],
      "metadata": {
        "colab": {
          "base_uri": "https://localhost:8080/"
        },
        "id": "y1SHb4xZQkN_",
        "outputId": "017a642b-2e41-4056-c257-53bfc44a0de9"
      },
      "execution_count": null,
      "outputs": [
        {
          "output_type": "execute_result",
          "data": {
            "text/plain": [
              "(TensorShape([3, 2]), TensorShape([2, 3]))"
            ]
          },
          "metadata": {},
          "execution_count": 28
        }
      ]
    },
    {
      "cell_type": "code",
      "source": [
        "# Try to matrix multiply X by reshaped Y\n",
        "X @ tf.reshape(Y, shape=(2, 3))"
      ],
      "metadata": {
        "colab": {
          "base_uri": "https://localhost:8080/"
        },
        "id": "k1N8tmnIQA5C",
        "outputId": "a23007b4-0c7e-4461-ac50-29c16fca2170"
      },
      "execution_count": null,
      "outputs": [
        {
          "output_type": "execute_result",
          "data": {
            "text/plain": [
              "<tf.Tensor: shape=(3, 3), dtype=int32, numpy=\n",
              "array([[ 27,  30,  33],\n",
              "       [ 61,  68,  75],\n",
              "       [ 95, 106, 117]], dtype=int32)>"
            ]
          },
          "metadata": {},
          "execution_count": 25
        }
      ]
    },
    {
      "cell_type": "code",
      "source": [
        "tf.matmul(X, tf.reshape(Y, shape=(2, 3)))"
      ],
      "metadata": {
        "colab": {
          "base_uri": "https://localhost:8080/"
        },
        "id": "dhzM8W3uQfMi",
        "outputId": "f58ce05d-37ed-4825-a7f7-30e92c4f9bac"
      },
      "execution_count": null,
      "outputs": [
        {
          "output_type": "execute_result",
          "data": {
            "text/plain": [
              "<tf.Tensor: shape=(3, 3), dtype=int32, numpy=\n",
              "array([[ 27,  30,  33],\n",
              "       [ 61,  68,  75],\n",
              "       [ 95, 106, 117]], dtype=int32)>"
            ]
          },
          "metadata": {},
          "execution_count": 29
        }
      ]
    },
    {
      "cell_type": "code",
      "source": [
        "# Try change the shape of X instead of Y\n",
        "tf.matmul(tf.reshape(X, shape=(2, 3)), Y)"
      ],
      "metadata": {
        "colab": {
          "base_uri": "https://localhost:8080/"
        },
        "id": "BdJKWU4MSPKK",
        "outputId": "50e1f840-a862-44f6-c06e-a0eeaa26caab"
      },
      "execution_count": null,
      "outputs": [
        {
          "output_type": "execute_result",
          "data": {
            "text/plain": [
              "<tf.Tensor: shape=(2, 2), dtype=int32, numpy=\n",
              "array([[ 58,  64],\n",
              "       [139, 154]], dtype=int32)>"
            ]
          },
          "metadata": {},
          "execution_count": 31
        }
      ]
    },
    {
      "cell_type": "code",
      "source": [
        "# Can do the same with transpose\n",
        "X, tf.transpose(X), tf.reshape(X, shape=(2, 3))"
      ],
      "metadata": {
        "colab": {
          "base_uri": "https://localhost:8080/"
        },
        "id": "qAWcsRlIT79h",
        "outputId": "55e04fe5-6dbb-4813-928d-ef5a991143f6"
      },
      "execution_count": null,
      "outputs": [
        {
          "output_type": "execute_result",
          "data": {
            "text/plain": [
              "(<tf.Tensor: shape=(3, 2), dtype=int32, numpy=\n",
              " array([[1, 2],\n",
              "        [3, 4],\n",
              "        [5, 6]], dtype=int32)>,\n",
              " <tf.Tensor: shape=(2, 3), dtype=int32, numpy=\n",
              " array([[1, 3, 5],\n",
              "        [2, 4, 6]], dtype=int32)>,\n",
              " <tf.Tensor: shape=(2, 3), dtype=int32, numpy=\n",
              " array([[1, 2, 3],\n",
              "        [4, 5, 6]], dtype=int32)>)"
            ]
          },
          "metadata": {},
          "execution_count": 37
        }
      ]
    },
    {
      "cell_type": "code",
      "source": [
        "# Try matrix multiplication with transpose rather than reshape\n",
        "tf.matmul(tf.transpose(X), Y)"
      ],
      "metadata": {
        "colab": {
          "base_uri": "https://localhost:8080/"
        },
        "id": "uCXJI727UKqZ",
        "outputId": "6a821bb1-d30f-4771-8c33-ab7a40857f85"
      },
      "execution_count": null,
      "outputs": [
        {
          "output_type": "execute_result",
          "data": {
            "text/plain": [
              "<tf.Tensor: shape=(2, 2), dtype=int32, numpy=\n",
              "array([[ 89,  98],\n",
              "       [116, 128]], dtype=int32)>"
            ]
          },
          "metadata": {},
          "execution_count": 38
        }
      ]
    },
    {
      "cell_type": "markdown",
      "source": [
        "** The dot product **\n",
        "\n",
        "Matrix multiplication is also referred to as the dot product.\n",
        "\n",
        "You can perform matrix multiplication using:\n",
        "* `tf.matmul()`\n",
        "* `tf.tensordot()`"
      ],
      "metadata": {
        "id": "Tc2nAhk6WfIB"
      }
    },
    {
      "cell_type": "code",
      "source": [
        "X, Y"
      ],
      "metadata": {
        "colab": {
          "base_uri": "https://localhost:8080/"
        },
        "id": "cMlya83_NUFv",
        "outputId": "30a2aa91-9c3c-4339-efc1-c63b63db9a65"
      },
      "execution_count": null,
      "outputs": [
        {
          "output_type": "execute_result",
          "data": {
            "text/plain": [
              "(<tf.Tensor: shape=(3, 2), dtype=int32, numpy=\n",
              " array([[1, 2],\n",
              "        [3, 4],\n",
              "        [5, 6]], dtype=int32)>,\n",
              " <tf.Tensor: shape=(3, 2), dtype=int32, numpy=\n",
              " array([[ 7,  8],\n",
              "        [ 9, 10],\n",
              "        [11, 12]], dtype=int32)>)"
            ]
          },
          "metadata": {},
          "execution_count": 3
        }
      ]
    },
    {
      "cell_type": "code",
      "source": [
        "# Perform the dot product on X and Y(requires X or Y to be transposed)\n",
        "tf.tensordot(tf.transpose(X), Y, axes=1)"
      ],
      "metadata": {
        "id": "p8Y2QEvTbXTo",
        "colab": {
          "base_uri": "https://localhost:8080/"
        },
        "outputId": "3b3c52f0-3a68-4b10-ae63-36ea28e520e2"
      },
      "execution_count": null,
      "outputs": [
        {
          "output_type": "execute_result",
          "data": {
            "text/plain": [
              "<tf.Tensor: shape=(2, 2), dtype=int32, numpy=\n",
              "array([[ 89,  98],\n",
              "       [116, 128]], dtype=int32)>"
            ]
          },
          "metadata": {},
          "execution_count": 5
        }
      ]
    },
    {
      "cell_type": "code",
      "source": [
        "# Perform matrix multiplication between X and Y (transposed)\n",
        "tf.matmul(X, tf.transpose(Y))"
      ],
      "metadata": {
        "colab": {
          "base_uri": "https://localhost:8080/"
        },
        "id": "HqorF1RPODCQ",
        "outputId": "43ca9f6a-50dc-4465-bd8f-869620671d67"
      },
      "execution_count": null,
      "outputs": [
        {
          "output_type": "execute_result",
          "data": {
            "text/plain": [
              "<tf.Tensor: shape=(3, 3), dtype=int32, numpy=\n",
              "array([[ 23,  29,  35],\n",
              "       [ 53,  67,  81],\n",
              "       [ 83, 105, 127]], dtype=int32)>"
            ]
          },
          "metadata": {},
          "execution_count": 6
        }
      ]
    },
    {
      "cell_type": "code",
      "source": [
        "# Perform matrix multiplication between X and Y (reshaped)\n",
        "tf.matmul(X, tf.reshape(Y, shape=(2, 3)))"
      ],
      "metadata": {
        "colab": {
          "base_uri": "https://localhost:8080/"
        },
        "id": "1strh9JDOWgW",
        "outputId": "5ad745a4-635e-4c64-8ee7-55322550e43e"
      },
      "execution_count": null,
      "outputs": [
        {
          "output_type": "execute_result",
          "data": {
            "text/plain": [
              "<tf.Tensor: shape=(3, 3), dtype=int32, numpy=\n",
              "array([[ 27,  30,  33],\n",
              "       [ 61,  68,  75],\n",
              "       [ 95, 106, 117]], dtype=int32)>"
            ]
          },
          "metadata": {},
          "execution_count": 7
        }
      ]
    },
    {
      "cell_type": "code",
      "source": [
        "# Check the values of Y, reshape Y and transposed Y\n",
        "print(\"Normal Y:\")\n",
        "print(Y, \"\\n\")\n",
        "\n",
        "print(\"Y reshaped to (2, 3):\")\n",
        "print(tf.reshape(Y, (2, 3)),  \"\\n\")\n",
        "\n",
        "print(\"Y transposed:\")\n",
        "print(tf.transpose(Y))"
      ],
      "metadata": {
        "colab": {
          "base_uri": "https://localhost:8080/"
        },
        "id": "RF4G-0vUO5OK",
        "outputId": "32b6643d-9671-4c35-c4a2-ec2203aef2a0"
      },
      "execution_count": null,
      "outputs": [
        {
          "output_type": "stream",
          "name": "stdout",
          "text": [
            "Normal Y:\n",
            "tf.Tensor(\n",
            "[[ 7  8]\n",
            " [ 9 10]\n",
            " [11 12]], shape=(3, 2), dtype=int32) \n",
            "\n",
            "Y reshaped to (2, 3):\n",
            "tf.Tensor(\n",
            "[[ 7  8  9]\n",
            " [10 11 12]], shape=(2, 3), dtype=int32) \n",
            "\n",
            "Y transposed:\n",
            "tf.Tensor(\n",
            "[[ 7  9 11]\n",
            " [ 8 10 12]], shape=(2, 3), dtype=int32)\n"
          ]
        }
      ]
    },
    {
      "cell_type": "code",
      "source": [
        "tf.matmul(X, tf.transpose(Y))"
      ],
      "metadata": {
        "colab": {
          "base_uri": "https://localhost:8080/"
        },
        "id": "G3oUX42KQWPH",
        "outputId": "155f90dd-24a3-4b6b-e47b-e9ff616a7cd9"
      },
      "execution_count": null,
      "outputs": [
        {
          "output_type": "execute_result",
          "data": {
            "text/plain": [
              "<tf.Tensor: shape=(3, 3), dtype=int32, numpy=\n",
              "array([[ 23,  29,  35],\n",
              "       [ 53,  67,  81],\n",
              "       [ 83, 105, 127]], dtype=int32)>"
            ]
          },
          "metadata": {},
          "execution_count": 9
        }
      ]
    },
    {
      "cell_type": "markdown",
      "source": [
        "Generally, when performing matrix multiplication on two tensors and one of the axes doesn't line up, you will transpose (rather than reshape) one of the tensors to satisfy the matrix multiplication rules."
      ],
      "metadata": {
        "id": "Kx09ZOJbRAJh"
      }
    },
    {
      "cell_type": "markdown",
      "source": [
        "### Changing the datatype of a tensor"
      ],
      "metadata": {
        "id": "2K40oy5gXKF-"
      }
    },
    {
      "cell_type": "code",
      "source": [
        "tf.__version__"
      ],
      "metadata": {
        "colab": {
          "base_uri": "https://localhost:8080/",
          "height": 35
        },
        "id": "KNR1SpU6d1xS",
        "outputId": "acf8d760-62f6-4cec-9c22-a0222cf41a7e"
      },
      "execution_count": null,
      "outputs": [
        {
          "output_type": "execute_result",
          "data": {
            "text/plain": [
              "'2.15.0'"
            ],
            "application/vnd.google.colaboratory.intrinsic+json": {
              "type": "string"
            }
          },
          "metadata": {},
          "execution_count": 11
        }
      ]
    },
    {
      "cell_type": "code",
      "source": [
        "# Create a new tensor with default datatype (float32)\n",
        "B = tf.constant([1.7, 7.4])\n",
        "B, B.dtype"
      ],
      "metadata": {
        "colab": {
          "base_uri": "https://localhost:8080/"
        },
        "id": "-8QCgtEdX9bK",
        "outputId": "28d8cbc4-2853-45e4-e75c-35d1598c84ef"
      },
      "execution_count": null,
      "outputs": [
        {
          "output_type": "execute_result",
          "data": {
            "text/plain": [
              "(<tf.Tensor: shape=(2,), dtype=float32, numpy=array([1.7, 7.4], dtype=float32)>,\n",
              " tf.float32)"
            ]
          },
          "metadata": {},
          "execution_count": 21
        }
      ]
    },
    {
      "cell_type": "code",
      "source": [
        "C = tf.constant([7, 10])\n",
        "C, C.dtype"
      ],
      "metadata": {
        "colab": {
          "base_uri": "https://localhost:8080/"
        },
        "id": "d5dv7sxMYRbp",
        "outputId": "85eee8c1-53fe-4ea8-9848-e3191d56246a"
      },
      "execution_count": null,
      "outputs": [
        {
          "output_type": "execute_result",
          "data": {
            "text/plain": [
              "(<tf.Tensor: shape=(2,), dtype=int32, numpy=array([ 7, 10], dtype=int32)>,\n",
              " tf.int32)"
            ]
          },
          "metadata": {},
          "execution_count": 25
        }
      ]
    },
    {
      "cell_type": "code",
      "source": [
        "# Change from float32 to float16 (reduced precision)\n",
        "D = tf.cast(B, dtype=tf.float16)\n",
        "D, D.dtype"
      ],
      "metadata": {
        "colab": {
          "base_uri": "https://localhost:8080/"
        },
        "id": "INqFJpKLd9T4",
        "outputId": "4d3b15d3-3b39-44ce-bbfa-d60f8f89d3c9"
      },
      "execution_count": null,
      "outputs": [
        {
          "output_type": "execute_result",
          "data": {
            "text/plain": [
              "(<tf.Tensor: shape=(2,), dtype=float16, numpy=array([1.7, 7.4], dtype=float16)>,\n",
              " tf.float16)"
            ]
          },
          "metadata": {},
          "execution_count": 23
        }
      ]
    },
    {
      "cell_type": "code",
      "source": [
        "# Change from int32 to float32\n",
        "E = tf.cast(C, dtype=tf.float32)\n",
        "E\n"
      ],
      "metadata": {
        "colab": {
          "base_uri": "https://localhost:8080/"
        },
        "id": "CaCni-UPfFAX",
        "outputId": "80c900af-bbd4-40ee-fb14-93457ae034b8"
      },
      "execution_count": null,
      "outputs": [
        {
          "output_type": "execute_result",
          "data": {
            "text/plain": [
              "<tf.Tensor: shape=(2,), dtype=float32, numpy=array([ 7., 10.], dtype=float32)>"
            ]
          },
          "metadata": {},
          "execution_count": 24
        }
      ]
    },
    {
      "cell_type": "code",
      "source": [
        "E_float16 = tf.cast(E, dtype=tf.float16)\n",
        "E_float16"
      ],
      "metadata": {
        "colab": {
          "base_uri": "https://localhost:8080/"
        },
        "id": "EGEUTw1Afwjh",
        "outputId": "c5dae6eb-a7ec-498f-dfe0-8df19439e601"
      },
      "execution_count": null,
      "outputs": [
        {
          "output_type": "execute_result",
          "data": {
            "text/plain": [
              "<tf.Tensor: shape=(2,), dtype=float16, numpy=array([ 7., 10.], dtype=float16)>"
            ]
          },
          "metadata": {},
          "execution_count": 26
        }
      ]
    },
    {
      "cell_type": "markdown",
      "source": [
        "### Aggregating tensors\n",
        "\n",
        "Aggregating tensors = condensing them from multiple values down to a smaller amount of values"
      ],
      "metadata": {
        "id": "WSnjBgA1z-_I"
      }
    },
    {
      "cell_type": "code",
      "source": [
        "D = tf.constant([-7, -10])\n",
        "D"
      ],
      "metadata": {
        "colab": {
          "base_uri": "https://localhost:8080/"
        },
        "id": "TRcaPbVp45Vk",
        "outputId": "96d4efd6-bd0e-42fa-e794-ae0ca1bfbb88"
      },
      "execution_count": null,
      "outputs": [
        {
          "output_type": "execute_result",
          "data": {
            "text/plain": [
              "<tf.Tensor: shape=(2,), dtype=int32, numpy=array([ -7, -10], dtype=int32)>"
            ]
          },
          "metadata": {},
          "execution_count": 27
        }
      ]
    },
    {
      "cell_type": "code",
      "source": [
        "# Get the absolute values\n",
        "tf.abs(D)"
      ],
      "metadata": {
        "colab": {
          "base_uri": "https://localhost:8080/"
        },
        "id": "XxNoNkO35ae9",
        "outputId": "8b938f1d-d45b-45ca-8a4c-d18e45376a21"
      },
      "execution_count": null,
      "outputs": [
        {
          "output_type": "execute_result",
          "data": {
            "text/plain": [
              "<tf.Tensor: shape=(2,), dtype=int32, numpy=array([ 7, 10], dtype=int32)>"
            ]
          },
          "metadata": {},
          "execution_count": 29
        }
      ]
    },
    {
      "cell_type": "markdown",
      "source": [
        "Let's go througd the following forms of aggregation:\n",
        "* Get the minimum\n",
        "* Get the maximum\n",
        "* Get the mean of a tensor\n",
        "* Get the sum of a tensor\n"
      ],
      "metadata": {
        "id": "M7RkGz1H5pKM"
      }
    },
    {
      "cell_type": "code",
      "source": [
        "# Create a vector\n",
        "E = tf.random.uniform(shape=[50], minval=0, maxval=100, dtype=tf.int32)\n",
        "E"
      ],
      "metadata": {
        "colab": {
          "base_uri": "https://localhost:8080/"
        },
        "id": "2mrKrLR368Dc",
        "outputId": "d34d56b0-6968-4b28-c079-c25ac4644d9e"
      },
      "execution_count": null,
      "outputs": [
        {
          "output_type": "execute_result",
          "data": {
            "text/plain": [
              "<tf.Tensor: shape=(50,), dtype=int32, numpy=\n",
              "array([ 8, 20, 84, 48, 13, 21, 37, 11,  8, 66,  6, 72,  2, 96, 46, 81, 45,\n",
              "       48, 66, 50, 75, 16, 39, 77, 21, 60, 28, 30, 19, 98, 76, 84, 21,  4,\n",
              "       95, 24, 98, 88, 26, 93, 53, 47, 62,  4, 71, 24, 53, 17, 92, 66],\n",
              "      dtype=int32)>"
            ]
          },
          "metadata": {},
          "execution_count": 2
        }
      ]
    },
    {
      "cell_type": "code",
      "source": [
        "tf.size(E), E.shape, E.ndim"
      ],
      "metadata": {
        "colab": {
          "base_uri": "https://localhost:8080/"
        },
        "id": "lMVE2vhRL8kY",
        "outputId": "91b422b5-13f1-4803-99c1-2e2765ac068b"
      },
      "execution_count": null,
      "outputs": [
        {
          "output_type": "execute_result",
          "data": {
            "text/plain": [
              "(<tf.Tensor: shape=(), dtype=int32, numpy=50>, TensorShape([50]), 1)"
            ]
          },
          "metadata": {},
          "execution_count": 3
        }
      ]
    },
    {
      "cell_type": "code",
      "source": [
        "# Get the minimum\n",
        "tf.reduce_min(E)"
      ],
      "metadata": {
        "colab": {
          "base_uri": "https://localhost:8080/"
        },
        "id": "TRciRxxwEwJE",
        "outputId": "9ff1aa46-91c9-4365-b0d5-c2151cf61ca4"
      },
      "execution_count": null,
      "outputs": [
        {
          "output_type": "execute_result",
          "data": {
            "text/plain": [
              "<tf.Tensor: shape=(), dtype=int32, numpy=2>"
            ]
          },
          "metadata": {},
          "execution_count": 4
        }
      ]
    },
    {
      "cell_type": "code",
      "source": [
        "# Get the maximum\n",
        "tf.reduce_max(E)"
      ],
      "metadata": {
        "colab": {
          "base_uri": "https://localhost:8080/"
        },
        "id": "GUHnhRaNIDPr",
        "outputId": "ef914190-699f-4fc5-ae3b-3bf69d23136c"
      },
      "execution_count": null,
      "outputs": [
        {
          "output_type": "execute_result",
          "data": {
            "text/plain": [
              "<tf.Tensor: shape=(), dtype=int32, numpy=98>"
            ]
          },
          "metadata": {},
          "execution_count": 5
        }
      ]
    },
    {
      "cell_type": "code",
      "source": [
        "# Get the mean of a tensor\n",
        "tf.reduce_mean(E)"
      ],
      "metadata": {
        "colab": {
          "base_uri": "https://localhost:8080/"
        },
        "id": "4i5egLyCIo78",
        "outputId": "9a9b7440-4266-4e4a-976b-6f88776cd2d5"
      },
      "execution_count": null,
      "outputs": [
        {
          "output_type": "execute_result",
          "data": {
            "text/plain": [
              "<tf.Tensor: shape=(), dtype=int32, numpy=47>"
            ]
          },
          "metadata": {},
          "execution_count": 6
        }
      ]
    },
    {
      "cell_type": "markdown",
      "source": [
        "#### Standard deviation and variance are both measures of the spread or dispersion of a dataset, but they represent it in slightly different ways:\n",
        "\n",
        "    Variance:\n",
        "        The variance is the average of the squared differences from the mean of the data.\n",
        "        It is calculated by taking the average of the squared differences between each data point and the mean.\n",
        "        Because it involves squaring the differences, the variance gives higher weight to values that are further from the mean.\n",
        "        The variance is denoted by the symbol σ^2 (sigma squared).\n",
        "\n",
        "    Standard Deviation:\n",
        "        The standard deviation is the square root of the variance.\n",
        "        It measures the average distance of each data point from the mean.\n",
        "        Unlike the variance, the standard deviation is in the same unit as the original data, making it easier to interpret.\n",
        "        The standard deviation is denoted by the symbol σ (sigma).\n",
        "\n",
        "In summary, while the variance gives an idea of how spread out the data is, the standard deviation provides a more interpretable measure of the same spread because it's expressed in the same units as the original data."
      ],
      "metadata": {
        "id": "yRb6Cno1TpHL"
      }
    },
    {
      "cell_type": "code",
      "source": [
        "# Get the sum of a vector\n",
        "tf.reduce_sum(E)"
      ],
      "metadata": {
        "colab": {
          "base_uri": "https://localhost:8080/"
        },
        "id": "D1EJ8LAbLCAs",
        "outputId": "39315668-e8a2-4c61-efe0-5031407c14ad"
      },
      "execution_count": null,
      "outputs": [
        {
          "output_type": "execute_result",
          "data": {
            "text/plain": [
              "<tf.Tensor: shape=(), dtype=int32, numpy=2389>"
            ]
          },
          "metadata": {},
          "execution_count": 7
        }
      ]
    },
    {
      "cell_type": "code",
      "source": [
        "# Get the variance (for general calculations)\n",
        "tf.math.reduce_variance(tf.cast(E, dtype=tf.float16))\n"
      ],
      "metadata": {
        "colab": {
          "base_uri": "https://localhost:8080/"
        },
        "id": "ooQmnm6YLRG1",
        "outputId": "4ad6a891-56e6-4775-d26d-32ebd9e127be"
      },
      "execution_count": null,
      "outputs": [
        {
          "output_type": "execute_result",
          "data": {
            "text/plain": [
              "<tf.Tensor: shape=(), dtype=float16, numpy=909.5>"
            ]
          },
          "metadata": {},
          "execution_count": 8
        }
      ]
    },
    {
      "cell_type": "code",
      "source": [
        "# Get the variance (for probabilistic calculations)\n",
        "import tensorflow_probability as tfp\n",
        "tfp.stats.variance(tf.cast(E, dtype=tf.float16))"
      ],
      "metadata": {
        "colab": {
          "base_uri": "https://localhost:8080/"
        },
        "id": "gKmJpBQOWH7a",
        "outputId": "ba947278-5fa4-48ad-d67c-1cf3f244fc70"
      },
      "execution_count": null,
      "outputs": [
        {
          "output_type": "execute_result",
          "data": {
            "text/plain": [
              "<tf.Tensor: shape=(), dtype=float16, numpy=909.5>"
            ]
          },
          "metadata": {},
          "execution_count": 15
        }
      ]
    },
    {
      "cell_type": "code",
      "source": [
        "# Get the standard deviation\n",
        "tf.math.reduce_std(tf.cast(E, dtype=tf.float16))"
      ],
      "metadata": {
        "id": "xbYpCMgZRs0-",
        "outputId": "41b811bb-8ae3-4695-f727-9b730a93379f",
        "colab": {
          "base_uri": "https://localhost:8080/"
        }
      },
      "execution_count": null,
      "outputs": [
        {
          "output_type": "execute_result",
          "data": {
            "text/plain": [
              "<tf.Tensor: shape=(), dtype=float16, numpy=30.16>"
            ]
          },
          "metadata": {},
          "execution_count": 10
        }
      ]
    },
    {
      "cell_type": "markdown",
      "source": [
        "## Find the positional maximum and minimum"
      ],
      "metadata": {
        "id": "s3CFcEqKcTnF"
      }
    },
    {
      "cell_type": "code",
      "source": [
        "# Create a new tensor for finding positional maximum and minimum\n",
        "tf.random.set_seed(42)\n",
        "F = tf.random.uniform(shape=[50])\n",
        "F"
      ],
      "metadata": {
        "colab": {
          "base_uri": "https://localhost:8080/"
        },
        "id": "pbFw5f90gQGj",
        "outputId": "0f81c9a2-0e38-4cdc-bb14-8136b522a303"
      },
      "execution_count": null,
      "outputs": [
        {
          "output_type": "execute_result",
          "data": {
            "text/plain": [
              "<tf.Tensor: shape=(50,), dtype=float32, numpy=\n",
              "array([0.6645621 , 0.44100678, 0.3528825 , 0.46448255, 0.03366041,\n",
              "       0.68467236, 0.74011743, 0.8724445 , 0.22632635, 0.22319686,\n",
              "       0.3103881 , 0.7223358 , 0.13318717, 0.5480639 , 0.5746088 ,\n",
              "       0.8996835 , 0.00946367, 0.5212307 , 0.6345445 , 0.1993283 ,\n",
              "       0.72942245, 0.54583454, 0.10756552, 0.6767061 , 0.6602763 ,\n",
              "       0.33695042, 0.60141766, 0.21062577, 0.8527372 , 0.44062173,\n",
              "       0.9485276 , 0.23752594, 0.81179297, 0.5263394 , 0.494308  ,\n",
              "       0.21612847, 0.8457197 , 0.8718841 , 0.3083862 , 0.6868038 ,\n",
              "       0.23764038, 0.7817228 , 0.9671384 , 0.06870162, 0.79873943,\n",
              "       0.66028714, 0.5871513 , 0.16461694, 0.7381023 , 0.32054043],\n",
              "      dtype=float32)>"
            ]
          },
          "metadata": {},
          "execution_count": 19
        }
      ]
    },
    {
      "cell_type": "code",
      "source": [
        "# find the positional maximum\n",
        "tf.argmax(F)"
      ],
      "metadata": {
        "colab": {
          "base_uri": "https://localhost:8080/"
        },
        "id": "xsi68YEIg8cY",
        "outputId": "b1ff5662-1d72-4e08-acd9-396fdf5b42eb"
      },
      "execution_count": null,
      "outputs": [
        {
          "output_type": "execute_result",
          "data": {
            "text/plain": [
              "<tf.Tensor: shape=(), dtype=int64, numpy=42>"
            ]
          },
          "metadata": {},
          "execution_count": 20
        }
      ]
    },
    {
      "cell_type": "code",
      "source": [
        "# Index on our largest value position\n",
        "F[tf.argmax(F)]"
      ],
      "metadata": {
        "colab": {
          "base_uri": "https://localhost:8080/"
        },
        "id": "nUB43lyHhVoU",
        "outputId": "bf4cb13b-5d77-4229-cc2d-e4221f4c41ac"
      },
      "execution_count": null,
      "outputs": [
        {
          "output_type": "execute_result",
          "data": {
            "text/plain": [
              "<tf.Tensor: shape=(), dtype=float32, numpy=0.9671384>"
            ]
          },
          "metadata": {},
          "execution_count": 21
        }
      ]
    },
    {
      "cell_type": "code",
      "source": [
        "#Find the max value of F\n",
        "tf.reduce_max(F)"
      ],
      "metadata": {
        "colab": {
          "base_uri": "https://localhost:8080/"
        },
        "id": "5G0Cktqrh20M",
        "outputId": "141067e9-e12e-4bbd-f043-b1a8e8653e3c"
      },
      "execution_count": null,
      "outputs": [
        {
          "output_type": "execute_result",
          "data": {
            "text/plain": [
              "<tf.Tensor: shape=(), dtype=float32, numpy=0.9671384>"
            ]
          },
          "metadata": {},
          "execution_count": 22
        }
      ]
    },
    {
      "cell_type": "code",
      "source": [
        "# Check for equality\n",
        "F[tf.argmax(F)] == tf.reduce_max(F)"
      ],
      "metadata": {
        "colab": {
          "base_uri": "https://localhost:8080/"
        },
        "id": "gOxTe8tqd5jm",
        "outputId": "ffadc461-c2c2-41c7-ba83-4d289bcf3dc6"
      },
      "execution_count": null,
      "outputs": [
        {
          "output_type": "execute_result",
          "data": {
            "text/plain": [
              "<tf.Tensor: shape=(), dtype=bool, numpy=True>"
            ]
          },
          "metadata": {},
          "execution_count": 26
        }
      ]
    },
    {
      "cell_type": "code",
      "source": [
        "# Find the positional minimum\n",
        "tf.argmin(F)"
      ],
      "metadata": {
        "colab": {
          "base_uri": "https://localhost:8080/"
        },
        "id": "vhkFIQAeioL1",
        "outputId": "9a7eb0c3-25ee-4284-b1dc-dfe864ec9ca8"
      },
      "execution_count": null,
      "outputs": [
        {
          "output_type": "execute_result",
          "data": {
            "text/plain": [
              "<tf.Tensor: shape=(), dtype=int64, numpy=16>"
            ]
          },
          "metadata": {},
          "execution_count": 27
        }
      ]
    },
    {
      "cell_type": "code",
      "source": [
        "# Find the minimum using the positional minimum index\n",
        "F[tf.argmin(F)]"
      ],
      "metadata": {
        "colab": {
          "base_uri": "https://localhost:8080/"
        },
        "id": "OOq9v4pFjHwN",
        "outputId": "5c42f021-356f-43e0-95dc-1dbc455149e5"
      },
      "execution_count": null,
      "outputs": [
        {
          "output_type": "execute_result",
          "data": {
            "text/plain": [
              "<tf.Tensor: shape=(), dtype=float32, numpy=0.009463668>"
            ]
          },
          "metadata": {},
          "execution_count": 28
        }
      ]
    },
    {
      "cell_type": "markdown",
      "source": [
        "* The result of tf.argmax() is typically used when you need to know the index of the maximum value in a tensor.\n",
        "* The result of tf.reduce_max() is typically used when you need the actual maximum value(s) from the tensor."
      ],
      "metadata": {
        "id": "zadM8ovrkjWd"
      }
    },
    {
      "cell_type": "code",
      "source": [
        "tf.random.set_seed(42)\n",
        "G = tf.random.uniform(shape=[30])\n",
        "G"
      ],
      "metadata": {
        "colab": {
          "base_uri": "https://localhost:8080/"
        },
        "id": "q8dVksS4jg78",
        "outputId": "b0e47ee6-478e-498e-bd1e-16fd08252f35"
      },
      "execution_count": null,
      "outputs": [
        {
          "output_type": "execute_result",
          "data": {
            "text/plain": [
              "<tf.Tensor: shape=(30,), dtype=float32, numpy=\n",
              "array([0.6645621 , 0.44100678, 0.3528825 , 0.46448255, 0.03366041,\n",
              "       0.68467236, 0.74011743, 0.8724445 , 0.22632635, 0.22319686,\n",
              "       0.3103881 , 0.7223358 , 0.13318717, 0.5480639 , 0.5746088 ,\n",
              "       0.8996835 , 0.00946367, 0.5212307 , 0.6345445 , 0.1993283 ,\n",
              "       0.72942245, 0.54583454, 0.10756552, 0.6767061 , 0.6602763 ,\n",
              "       0.33695042, 0.60141766, 0.21062577, 0.8527372 , 0.44062173],\n",
              "      dtype=float32)>"
            ]
          },
          "metadata": {},
          "execution_count": 47
        }
      ]
    },
    {
      "cell_type": "code",
      "source": [
        "G[tf.argmax(G)]"
      ],
      "metadata": {
        "colab": {
          "base_uri": "https://localhost:8080/"
        },
        "id": "NX35oV_ypcqa",
        "outputId": "db9695f1-44d6-49e7-d367-73cc89b5c47e"
      },
      "execution_count": null,
      "outputs": [
        {
          "output_type": "execute_result",
          "data": {
            "text/plain": [
              "<tf.Tensor: shape=(), dtype=float32, numpy=0.8996835>"
            ]
          },
          "metadata": {},
          "execution_count": 48
        }
      ]
    },
    {
      "cell_type": "code",
      "source": [
        "tf.argmax(G)"
      ],
      "metadata": {
        "colab": {
          "base_uri": "https://localhost:8080/"
        },
        "id": "jJombis_qc9Z",
        "outputId": "4bc15e14-07ba-4341-f2f6-5a1b79ba4a0b"
      },
      "execution_count": null,
      "outputs": [
        {
          "output_type": "execute_result",
          "data": {
            "text/plain": [
              "<tf.Tensor: shape=(), dtype=int64, numpy=15>"
            ]
          },
          "metadata": {},
          "execution_count": 49
        }
      ]
    },
    {
      "cell_type": "code",
      "source": [
        "G[15]"
      ],
      "metadata": {
        "colab": {
          "base_uri": "https://localhost:8080/"
        },
        "id": "_rwIBACwq4pS",
        "outputId": "d8bebd87-6794-4c9c-a554-db665ac8b329"
      },
      "execution_count": null,
      "outputs": [
        {
          "output_type": "execute_result",
          "data": {
            "text/plain": [
              "<tf.Tensor: shape=(), dtype=float32, numpy=0.8996835>"
            ]
          },
          "metadata": {},
          "execution_count": 50
        }
      ]
    },
    {
      "cell_type": "code",
      "source": [
        "tf.reduce_max(G)"
      ],
      "metadata": {
        "colab": {
          "base_uri": "https://localhost:8080/"
        },
        "id": "48DNf7jMrAAB",
        "outputId": "cacc0e00-0d25-4a4c-962d-17149159017a"
      },
      "execution_count": null,
      "outputs": [
        {
          "output_type": "execute_result",
          "data": {
            "text/plain": [
              "<tf.Tensor: shape=(), dtype=float32, numpy=0.8996835>"
            ]
          },
          "metadata": {},
          "execution_count": 51
        }
      ]
    },
    {
      "cell_type": "code",
      "source": [
        "tf.argmin(G)"
      ],
      "metadata": {
        "colab": {
          "base_uri": "https://localhost:8080/"
        },
        "id": "QW4UEyyFrcvK",
        "outputId": "710bd1b8-bd39-4796-bfa7-f4882f8a7bce"
      },
      "execution_count": null,
      "outputs": [
        {
          "output_type": "execute_result",
          "data": {
            "text/plain": [
              "<tf.Tensor: shape=(), dtype=int64, numpy=16>"
            ]
          },
          "metadata": {},
          "execution_count": 52
        }
      ]
    },
    {
      "cell_type": "code",
      "source": [
        "G[tf.argmin(G)]"
      ],
      "metadata": {
        "colab": {
          "base_uri": "https://localhost:8080/"
        },
        "id": "NPsh6L3jrhBp",
        "outputId": "442a30a0-af9d-4faf-abd2-2f2a419c9a2e"
      },
      "execution_count": null,
      "outputs": [
        {
          "output_type": "execute_result",
          "data": {
            "text/plain": [
              "<tf.Tensor: shape=(), dtype=float32, numpy=0.009463668>"
            ]
          },
          "metadata": {},
          "execution_count": 53
        }
      ]
    },
    {
      "cell_type": "code",
      "source": [
        "tf.reduce_min(G)"
      ],
      "metadata": {
        "colab": {
          "base_uri": "https://localhost:8080/"
        },
        "id": "ovL_yDsOrl4K",
        "outputId": "41de2099-9742-45d3-d832-4668ee69bf5f"
      },
      "execution_count": null,
      "outputs": [
        {
          "output_type": "execute_result",
          "data": {
            "text/plain": [
              "<tf.Tensor: shape=(), dtype=float32, numpy=0.009463668>"
            ]
          },
          "metadata": {},
          "execution_count": 54
        }
      ]
    },
    {
      "cell_type": "markdown",
      "source": [
        "### squeezing a tensor (removing all single dimensions)"
      ],
      "metadata": {
        "id": "_Aa_qIkSrrDS"
      }
    },
    {
      "cell_type": "code",
      "source": [
        "# Create a tensor to get started\n",
        "tf.random.set_seed(42)\n",
        "G = tf.constant(tf.random.uniform(shape=[50]), shape=(1, 1, 1, 1, 50))\n",
        "G"
      ],
      "metadata": {
        "colab": {
          "base_uri": "https://localhost:8080/"
        },
        "id": "9Zuu8GRosIZK",
        "outputId": "b13b02a1-9ebb-4dec-d200-6291568fd59f"
      },
      "execution_count": null,
      "outputs": [
        {
          "output_type": "execute_result",
          "data": {
            "text/plain": [
              "<tf.Tensor: shape=(1, 1, 1, 1, 50), dtype=float32, numpy=\n",
              "array([[[[[0.6645621 , 0.44100678, 0.3528825 , 0.46448255, 0.03366041,\n",
              "           0.68467236, 0.74011743, 0.8724445 , 0.22632635, 0.22319686,\n",
              "           0.3103881 , 0.7223358 , 0.13318717, 0.5480639 , 0.5746088 ,\n",
              "           0.8996835 , 0.00946367, 0.5212307 , 0.6345445 , 0.1993283 ,\n",
              "           0.72942245, 0.54583454, 0.10756552, 0.6767061 , 0.6602763 ,\n",
              "           0.33695042, 0.60141766, 0.21062577, 0.8527372 , 0.44062173,\n",
              "           0.9485276 , 0.23752594, 0.81179297, 0.5263394 , 0.494308  ,\n",
              "           0.21612847, 0.8457197 , 0.8718841 , 0.3083862 , 0.6868038 ,\n",
              "           0.23764038, 0.7817228 , 0.9671384 , 0.06870162, 0.79873943,\n",
              "           0.66028714, 0.5871513 , 0.16461694, 0.7381023 , 0.32054043]]]]],\n",
              "      dtype=float32)>"
            ]
          },
          "metadata": {},
          "execution_count": 57
        }
      ]
    },
    {
      "cell_type": "code",
      "source": [
        "G.shape"
      ],
      "metadata": {
        "colab": {
          "base_uri": "https://localhost:8080/"
        },
        "id": "f2FPHf4ssfQa",
        "outputId": "c2ca2993-ae84-4fb4-8227-6538a5775e70"
      },
      "execution_count": null,
      "outputs": [
        {
          "output_type": "execute_result",
          "data": {
            "text/plain": [
              "TensorShape([1, 1, 1, 1, 50])"
            ]
          },
          "metadata": {},
          "execution_count": 58
        }
      ]
    },
    {
      "cell_type": "code",
      "source": [
        "G_squeezed = tf.squeeze(G)\n",
        "G_squeezed, G_squeezed.shape"
      ],
      "metadata": {
        "colab": {
          "base_uri": "https://localhost:8080/"
        },
        "id": "-gIE_66ns6Qh",
        "outputId": "517c36a5-2c3a-4529-f023-fde448a91f91"
      },
      "execution_count": null,
      "outputs": [
        {
          "output_type": "execute_result",
          "data": {
            "text/plain": [
              "(<tf.Tensor: shape=(50,), dtype=float32, numpy=\n",
              " array([0.6645621 , 0.44100678, 0.3528825 , 0.46448255, 0.03366041,\n",
              "        0.68467236, 0.74011743, 0.8724445 , 0.22632635, 0.22319686,\n",
              "        0.3103881 , 0.7223358 , 0.13318717, 0.5480639 , 0.5746088 ,\n",
              "        0.8996835 , 0.00946367, 0.5212307 , 0.6345445 , 0.1993283 ,\n",
              "        0.72942245, 0.54583454, 0.10756552, 0.6767061 , 0.6602763 ,\n",
              "        0.33695042, 0.60141766, 0.21062577, 0.8527372 , 0.44062173,\n",
              "        0.9485276 , 0.23752594, 0.81179297, 0.5263394 , 0.494308  ,\n",
              "        0.21612847, 0.8457197 , 0.8718841 , 0.3083862 , 0.6868038 ,\n",
              "        0.23764038, 0.7817228 , 0.9671384 , 0.06870162, 0.79873943,\n",
              "        0.66028714, 0.5871513 , 0.16461694, 0.7381023 , 0.32054043],\n",
              "       dtype=float32)>,\n",
              " TensorShape([50]))"
            ]
          },
          "metadata": {},
          "execution_count": 62
        }
      ]
    },
    {
      "cell_type": "markdown",
      "source": [
        "### One-hot encoding tensors"
      ],
      "metadata": {
        "id": "aRY_M8zAtLmp"
      }
    },
    {
      "cell_type": "code",
      "source": [
        "# Create a list of indices (indices = plural of index)\n",
        "some_list = [0, 1, 2, 3] # could be red, green, blue, purple\n",
        "\n",
        "# one-hot encode our List of indices\n",
        "tf.one_hot(some_list, depth=4)"
      ],
      "metadata": {
        "colab": {
          "base_uri": "https://localhost:8080/"
        },
        "id": "51ArwEsBt-Rg",
        "outputId": "e22b48bb-ef34-4f68-f666-5dcc1e44154d"
      },
      "execution_count": null,
      "outputs": [
        {
          "output_type": "execute_result",
          "data": {
            "text/plain": [
              "<tf.Tensor: shape=(4, 4), dtype=float32, numpy=\n",
              "array([[1., 0., 0., 0.],\n",
              "       [0., 1., 0., 0.],\n",
              "       [0., 0., 1., 0.],\n",
              "       [0., 0., 0., 1.]], dtype=float32)>"
            ]
          },
          "metadata": {},
          "execution_count": 73
        }
      ]
    },
    {
      "cell_type": "code",
      "source": [
        "# Specify custom values for one hot encoding\n",
        "tf.one_hot(some_list, depth=4, on_value=\"apple\", off_value=\"banana\")"
      ],
      "metadata": {
        "colab": {
          "base_uri": "https://localhost:8080/"
        },
        "id": "4MXEdrfZ1Tge",
        "outputId": "8cd43fd6-cc2d-4975-f56c-13a8df085977"
      },
      "execution_count": null,
      "outputs": [
        {
          "output_type": "execute_result",
          "data": {
            "text/plain": [
              "<tf.Tensor: shape=(4, 4), dtype=string, numpy=\n",
              "array([[b'apple', b'banana', b'banana', b'banana'],\n",
              "       [b'banana', b'apple', b'banana', b'banana'],\n",
              "       [b'banana', b'banana', b'apple', b'banana'],\n",
              "       [b'banana', b'banana', b'banana', b'apple']], dtype=object)>"
            ]
          },
          "metadata": {},
          "execution_count": 74
        }
      ]
    },
    {
      "cell_type": "markdown",
      "source": [
        "the 'b' does not change the functionality of the tensor; it's just a representation detail indicating byte literals. The strings themselves are 'apple', 'banana', etc."
      ],
      "metadata": {
        "id": "iPuUDePs6GtO"
      }
    },
    {
      "cell_type": "markdown",
      "source": [
        "### Squaring, log, square root"
      ],
      "metadata": {
        "id": "r6lIxZwS4Qkm"
      }
    },
    {
      "cell_type": "code",
      "source": [
        "# Create a new tensor\n",
        "H = tf.range(1, 10)\n",
        "H"
      ],
      "metadata": {
        "colab": {
          "base_uri": "https://localhost:8080/"
        },
        "id": "viuXyCiq_LH-",
        "outputId": "bb241173-4c94-4a4e-d278-da44f239419c"
      },
      "execution_count": null,
      "outputs": [
        {
          "output_type": "execute_result",
          "data": {
            "text/plain": [
              "<tf.Tensor: shape=(9,), dtype=int32, numpy=array([1, 2, 3, 4, 5, 6, 7, 8, 9], dtype=int32)>"
            ]
          },
          "metadata": {},
          "execution_count": 75
        }
      ]
    },
    {
      "cell_type": "code",
      "source": [
        "# Square it\n",
        "tf.square(H)"
      ],
      "metadata": {
        "colab": {
          "base_uri": "https://localhost:8080/"
        },
        "id": "VC3snOll_vDj",
        "outputId": "744ae4bc-fc34-4413-e6c0-30168700623a"
      },
      "execution_count": null,
      "outputs": [
        {
          "output_type": "execute_result",
          "data": {
            "text/plain": [
              "<tf.Tensor: shape=(9,), dtype=int32, numpy=array([ 1,  4,  9, 16, 25, 36, 49, 64, 81], dtype=int32)>"
            ]
          },
          "metadata": {},
          "execution_count": 77
        }
      ]
    },
    {
      "cell_type": "code",
      "source": [
        "# Find the square root\n",
        "tf.sqrt(tf.cast(H, tf.float32))"
      ],
      "metadata": {
        "colab": {
          "base_uri": "https://localhost:8080/"
        },
        "id": "vm7fxdQe_1sL",
        "outputId": "2da25d8f-36d6-4996-d447-ce837fede512"
      },
      "execution_count": null,
      "outputs": [
        {
          "output_type": "execute_result",
          "data": {
            "text/plain": [
              "<tf.Tensor: shape=(9,), dtype=float32, numpy=\n",
              "array([1.       , 1.4142135, 1.7320508, 2.       , 2.236068 , 2.4494898,\n",
              "       2.6457512, 2.828427 , 3.       ], dtype=float32)>"
            ]
          },
          "metadata": {},
          "execution_count": 79
        }
      ]
    },
    {
      "cell_type": "code",
      "source": [
        "# Find the log\n",
        "tf.math.log(tf.cast(H, tf.float32))"
      ],
      "metadata": {
        "colab": {
          "base_uri": "https://localhost:8080/"
        },
        "id": "-mstSSeXALaC",
        "outputId": "92da11c6-20ef-4638-a71b-be88c574c189"
      },
      "execution_count": null,
      "outputs": [
        {
          "output_type": "execute_result",
          "data": {
            "text/plain": [
              "<tf.Tensor: shape=(9,), dtype=float32, numpy=\n",
              "array([0.       , 0.6931472, 1.0986123, 1.3862944, 1.609438 , 1.7917595,\n",
              "       1.9459102, 2.0794415, 2.1972246], dtype=float32)>"
            ]
          },
          "metadata": {},
          "execution_count": 83
        }
      ]
    },
    {
      "cell_type": "code",
      "source": [
        "# Find the power of\n",
        "tf.pow(H, 4)"
      ],
      "metadata": {
        "colab": {
          "base_uri": "https://localhost:8080/"
        },
        "id": "BGg4RQkABJsi",
        "outputId": "37ed81a5-79c5-4a29-d97c-2976ee7393c2"
      },
      "execution_count": null,
      "outputs": [
        {
          "output_type": "execute_result",
          "data": {
            "text/plain": [
              "<tf.Tensor: shape=(9,), dtype=int32, numpy=array([   1,   16,   81,  256,  625, 1296, 2401, 4096, 6561], dtype=int32)>"
            ]
          },
          "metadata": {},
          "execution_count": 97
        }
      ]
    },
    {
      "cell_type": "code",
      "source": [
        "tf.math.pow(H, 4)"
      ],
      "metadata": {
        "colab": {
          "base_uri": "https://localhost:8080/"
        },
        "id": "bkcme1yzESTB",
        "outputId": "6d0f1d11-2e72-4717-cbb1-7ed1dba6f173"
      },
      "execution_count": null,
      "outputs": [
        {
          "output_type": "execute_result",
          "data": {
            "text/plain": [
              "<tf.Tensor: shape=(9,), dtype=int32, numpy=array([   1,   16,   81,  256,  625, 1296, 2401, 4096, 6561], dtype=int32)>"
            ]
          },
          "metadata": {},
          "execution_count": 93
        }
      ]
    },
    {
      "cell_type": "code",
      "source": [
        "# Find the element-wise exponential of H\n",
        "tf.math.exp(tf.cast(H, tf.float32))"
      ],
      "metadata": {
        "colab": {
          "base_uri": "https://localhost:8080/"
        },
        "id": "ivP6pRfbEym_",
        "outputId": "e8eebba1-52bf-4f85-803a-8948dd2c60e3"
      },
      "execution_count": null,
      "outputs": [
        {
          "output_type": "execute_result",
          "data": {
            "text/plain": [
              "<tf.Tensor: shape=(9,), dtype=float32, numpy=\n",
              "array([2.7182817e+00, 7.3890562e+00, 2.0085537e+01, 5.4598148e+01,\n",
              "       1.4841316e+02, 4.0342877e+02, 1.0966332e+03, 2.9809580e+03,\n",
              "       8.1030840e+03], dtype=float32)>"
            ]
          },
          "metadata": {},
          "execution_count": 98
        }
      ]
    },
    {
      "cell_type": "code",
      "source": [
        "# Find the sine of H\n",
        "tf.math.sin(tf.cast(H, tf.float32))"
      ],
      "metadata": {
        "colab": {
          "base_uri": "https://localhost:8080/"
        },
        "id": "7JY5m1_NF0JQ",
        "outputId": "8c607c97-b212-472c-d590-8ab20f08ecdd"
      },
      "execution_count": null,
      "outputs": [
        {
          "output_type": "execute_result",
          "data": {
            "text/plain": [
              "<tf.Tensor: shape=(9,), dtype=float32, numpy=\n",
              "array([ 0.84147096,  0.9092974 ,  0.14112   , -0.7568025 , -0.9589243 ,\n",
              "       -0.2794155 ,  0.6569866 ,  0.98935825,  0.4121185 ], dtype=float32)>"
            ]
          },
          "metadata": {},
          "execution_count": 101
        }
      ]
    },
    {
      "cell_type": "markdown",
      "source": [
        "### Tensors and NumPy\n",
        "\n",
        "TensorFlow interacts beautifully with NumPy arrays."
      ],
      "metadata": {
        "id": "vlKDpXFzJKJP"
      }
    },
    {
      "cell_type": "code",
      "source": [
        "import numpy as np"
      ],
      "metadata": {
        "id": "AiQue0G1UlyG"
      },
      "execution_count": null,
      "outputs": []
    },
    {
      "cell_type": "code",
      "source": [
        "# Create a tensor directly from a NumPy array\n",
        "J = tf.constant(np.array([3., 7., 10.]))\n",
        "J"
      ],
      "metadata": {
        "colab": {
          "base_uri": "https://localhost:8080/"
        },
        "id": "QgmG-CqYSe6z",
        "outputId": "2d88c094-d908-4e55-8971-a783183d28a0"
      },
      "execution_count": null,
      "outputs": [
        {
          "output_type": "execute_result",
          "data": {
            "text/plain": [
              "<tf.Tensor: shape=(3,), dtype=float64, numpy=array([ 3.,  7., 10.])>"
            ]
          },
          "metadata": {},
          "execution_count": 17
        }
      ]
    },
    {
      "cell_type": "code",
      "source": [
        "# Convert our tensor back to a NumPy array\n",
        "np.array(J), type(np.array(J))"
      ],
      "metadata": {
        "id": "2QOLgLwPUg-y",
        "outputId": "82106ff9-8153-4e26-c5a2-5b7cd59aeb90",
        "colab": {
          "base_uri": "https://localhost:8080/"
        }
      },
      "execution_count": null,
      "outputs": [
        {
          "output_type": "execute_result",
          "data": {
            "text/plain": [
              "(array([ 3.,  7., 10.]), numpy.ndarray)"
            ]
          },
          "metadata": {},
          "execution_count": 106
        }
      ]
    },
    {
      "cell_type": "code",
      "source": [
        "# The default types of each are slightly different\n",
        "numpy_J = tf.constant(np.array([3., 7., 10.]))\n",
        "tensor_J = tf.constant([3., 7., 10.])\n",
        "# Check the datatypes of each\n",
        "numpy_J.dtype, tensor_J.dtype"
      ],
      "metadata": {
        "colab": {
          "base_uri": "https://localhost:8080/"
        },
        "id": "XZGeoPtA-QkZ",
        "outputId": "fd5c3cdd-db70-4715-b7ee-a3ee3c963e03"
      },
      "execution_count": null,
      "outputs": [
        {
          "output_type": "execute_result",
          "data": {
            "text/plain": [
              "(tf.float64, tf.float32)"
            ]
          },
          "metadata": {},
          "execution_count": 18
        }
      ]
    },
    {
      "cell_type": "markdown",
      "source": [
        "### Exercises\n",
        "\n",
        "1. Create a vector, scalar, matrix and tensor with values of your choosing using tf.constant().\n",
        "2. Find the shape, rank and size of the tensors you created in 1.\n",
        "3. Create two tensors containing random values between 0 and 1 with shape [5, 300].\n",
        "4. Multiply the two tensors you created in 3 using matrix multiplication.\n",
        "5. Multiply the two tensors you created in 3 using dot product.\n",
        "6. Create a tensor with random values between 0 and 1 with shape [224, 224, 3].\n",
        "7. Find the min and max values of the tensor you created in 6 along the first axis.\n",
        "8. Created a tensor with random values of shape [1, 224, 224, 3] then squeeze it to change the shape to [224, 224, 3].\n",
        "9. Create a tensor with shape [10] using your own choice of values, then find the index which has the maximum value.\n",
        "10. One-hot encode the tensor you created in 9."
      ],
      "metadata": {
        "id": "4wWyHwgY---Q"
      }
    },
    {
      "cell_type": "code",
      "source": [
        "# 1. Create a vector, scalar, matrix and tensor with values of your choosing using tf.constant().\n",
        "vector = tf.constant([3, 4])\n",
        "vector\n"
      ],
      "metadata": {
        "colab": {
          "base_uri": "https://localhost:8080/"
        },
        "id": "7jyWTz1d-5Nm",
        "outputId": "5fa7a231-2f0c-474d-8813-f4d778a5ef97"
      },
      "execution_count": null,
      "outputs": [
        {
          "output_type": "execute_result",
          "data": {
            "text/plain": [
              "<tf.Tensor: shape=(2,), dtype=int32, numpy=array([3, 4], dtype=int32)>"
            ]
          },
          "metadata": {},
          "execution_count": 31
        }
      ]
    },
    {
      "cell_type": "code",
      "source": [
        "scalar = tf.constant(5)\n",
        "scalar"
      ],
      "metadata": {
        "colab": {
          "base_uri": "https://localhost:8080/"
        },
        "id": "gJf5SnYO_uJi",
        "outputId": "df1ac0c4-05b0-4624-c6ff-9a3efbd63bc4"
      },
      "execution_count": null,
      "outputs": [
        {
          "output_type": "execute_result",
          "data": {
            "text/plain": [
              "<tf.Tensor: shape=(), dtype=int32, numpy=5>"
            ]
          },
          "metadata": {},
          "execution_count": 22
        }
      ]
    },
    {
      "cell_type": "code",
      "source": [
        "matrix = tf.constant([[3, 4],\n",
        "                     [5, 6]])\n",
        "matrix"
      ],
      "metadata": {
        "colab": {
          "base_uri": "https://localhost:8080/"
        },
        "id": "_8xN-joLA6_3",
        "outputId": "bbf1ab3e-5758-4489-9b7e-08a2d009c90e"
      },
      "execution_count": null,
      "outputs": [
        {
          "output_type": "execute_result",
          "data": {
            "text/plain": [
              "<tf.Tensor: shape=(2, 2), dtype=int32, numpy=\n",
              "array([[3, 4],\n",
              "       [5, 6]], dtype=int32)>"
            ]
          },
          "metadata": {},
          "execution_count": 24
        }
      ]
    },
    {
      "cell_type": "code",
      "source": [
        "tensor = tf.constant([[[1, 2, 3],\n",
        "                      [4, 5, 6]],\n",
        "                      [[7, 8, 9],\n",
        "                      [10, 11, 12]],\n",
        "                      [[13, 14, 15],\n",
        "                      [16, 17, 18]]])\n",
        "tensor"
      ],
      "metadata": {
        "colab": {
          "base_uri": "https://localhost:8080/"
        },
        "id": "1Y9YpoTKBRXT",
        "outputId": "f5d0f822-4709-4b1b-a0db-3a54e598f2d6"
      },
      "execution_count": null,
      "outputs": [
        {
          "output_type": "execute_result",
          "data": {
            "text/plain": [
              "<tf.Tensor: shape=(3, 2, 3), dtype=int32, numpy=\n",
              "array([[[ 1,  2,  3],\n",
              "        [ 4,  5,  6]],\n",
              "\n",
              "       [[ 7,  8,  9],\n",
              "        [10, 11, 12]],\n",
              "\n",
              "       [[13, 14, 15],\n",
              "        [16, 17, 18]]], dtype=int32)>"
            ]
          },
          "metadata": {},
          "execution_count": 26
        }
      ]
    },
    {
      "cell_type": "code",
      "source": [
        "# 2. Find the shape, rank and size of the tensors you created in 1.\n",
        "print(f\"Vector shape: {vector.shape}\\n\\n\"\n",
        "      f\"Scalar shape: {scalar.shape}\\n\\n\"\n",
        "      f\"Matrix shape: {matrix.shape}\\n\\n\"\n",
        "      f\"Tensor shape: {tensor.shape}\")"
      ],
      "metadata": {
        "colab": {
          "base_uri": "https://localhost:8080/"
        },
        "id": "a0u0r0bOCLcJ",
        "outputId": "08fe2e1e-884b-455e-fcb9-e215a4df5974"
      },
      "execution_count": null,
      "outputs": [
        {
          "output_type": "stream",
          "name": "stdout",
          "text": [
            "Vector shape: (2,)\n",
            "\n",
            "Scalar shape: ()\n",
            "\n",
            "Matrix shape: (2, 2)\n",
            "\n",
            "Tensor shape: (3, 2, 3)\n"
          ]
        }
      ]
    },
    {
      "cell_type": "code",
      "source": [
        "print(f\"Vector rank: {tf.rank(vector)}\\n\\n\"\n",
        "      f\"Scalar rank: {tf.rank(scalar)}\\n\\n\"\n",
        "      f\"Matrix rank: {tf.rank(matrix)}\\n\\n\"\n",
        "      f\"Tensor rank: {tf.rank(tensor)}\")"
      ],
      "metadata": {
        "colab": {
          "base_uri": "https://localhost:8080/"
        },
        "id": "UMFMibd1CZTG",
        "outputId": "ef17cf0a-921d-4c78-90ee-908dfed41ebd"
      },
      "execution_count": null,
      "outputs": [
        {
          "output_type": "stream",
          "name": "stdout",
          "text": [
            "Vector rank: 1\n",
            "\n",
            "Scalar rank: 0\n",
            "\n",
            "Matrix rank: 2\n",
            "\n",
            "Tensor rank: 3\n"
          ]
        }
      ]
    },
    {
      "cell_type": "code",
      "source": [
        "print(f\"Vector size: {tf.size(vector)}\\n\\n\"\n",
        "      f\"Scalar size: {tf.size(scalar)}\\n\\n\"\n",
        "      f\"Matrix size: {tf.size(matrix)}\\n\\n\"\n",
        "      f\"Tensor size: {tf.size(tensor)}\")"
      ],
      "metadata": {
        "colab": {
          "base_uri": "https://localhost:8080/"
        },
        "id": "q0470MuQIv3W",
        "outputId": "e537019a-43a8-4919-d6cb-f5252919f5f4"
      },
      "execution_count": null,
      "outputs": [
        {
          "output_type": "stream",
          "name": "stdout",
          "text": [
            "Vector size: 2\n",
            "\n",
            "Scalar size: 1\n",
            "\n",
            "Matrix size: 4\n",
            "\n",
            "Tensor size: 18\n"
          ]
        }
      ]
    },
    {
      "cell_type": "code",
      "source": [
        "# 3. Create two tensors containing random values between 0 and 1 with shape [5, 300].\n",
        "random_tensor1 = tf.random.uniform(shape=[5, 300], seed=42)\n",
        "random_tensor2 = tf.random.uniform(shape=[5, 300], seed=43)\n",
        "random_tensor1, random_tensor2"
      ],
      "metadata": {
        "colab": {
          "base_uri": "https://localhost:8080/"
        },
        "id": "jc_XVTcBJ_vv",
        "outputId": "4a177b5e-4f5c-4c2a-b875-a08a3a056f18"
      },
      "execution_count": null,
      "outputs": [
        {
          "output_type": "execute_result",
          "data": {
            "text/plain": [
              "(<tf.Tensor: shape=(5, 300), dtype=float32, numpy=\n",
              " array([[0.68199456, 0.42772686, 0.91583705, ..., 0.7759527 , 0.23281741,\n",
              "         0.44756937],\n",
              "        [0.8417139 , 0.9600885 , 0.45484674, ..., 0.27437472, 0.11039436,\n",
              "         0.34174395],\n",
              "        [0.75364614, 0.5741807 , 0.5281739 , ..., 0.17360818, 0.9134972 ,\n",
              "         0.16209841],\n",
              "        [0.0090369 , 0.23039317, 0.8060751 , ..., 0.11280978, 0.0865643 ,\n",
              "         0.35216224],\n",
              "        [0.06173015, 0.5260377 , 0.5921991 , ..., 0.34130323, 0.00487649,\n",
              "         0.19443905]], dtype=float32)>,\n",
              " <tf.Tensor: shape=(5, 300), dtype=float32, numpy=\n",
              " array([[0.15199935, 0.5515324 , 0.49704242, ..., 0.27851176, 0.06518638,\n",
              "         0.6590928 ],\n",
              "        [0.57343435, 0.41055846, 0.48867476, ..., 0.07363367, 0.13872588,\n",
              "         0.73916566],\n",
              "        [0.47179306, 0.77704906, 0.10686707, ..., 0.11792111, 0.05241907,\n",
              "         0.44199038],\n",
              "        [0.5980997 , 0.09270048, 0.21866083, ..., 0.52040863, 0.84768   ,\n",
              "         0.49068427],\n",
              "        [0.36618567, 0.44207454, 0.27158523, ..., 0.6086135 , 0.04463017,\n",
              "         0.6850499 ]], dtype=float32)>)"
            ]
          },
          "metadata": {},
          "execution_count": 41
        }
      ]
    },
    {
      "cell_type": "code",
      "source": [
        "# 4. Multiply the two tensors you created in #3 using matrix multiplication.\n",
        "random_tensor2T = tf.transpose(random_tensor2)\n",
        "tf.matmul(random_tensor1, random_tensor2T)"
      ],
      "metadata": {
        "id": "H3TModZAK4f2",
        "outputId": "db2b5ea5-a2b2-4eb5-daa1-8bf55c64c3c0",
        "colab": {
          "base_uri": "https://localhost:8080/"
        }
      },
      "execution_count": null,
      "outputs": [
        {
          "output_type": "execute_result",
          "data": {
            "text/plain": [
              "<tf.Tensor: shape=(5, 5), dtype=float32, numpy=\n",
              "array([[77.69604 , 78.47806 , 77.71608 , 80.31393 , 72.58696 ],\n",
              "       [81.6739  , 78.938705, 81.39644 , 81.02225 , 72.73315 ],\n",
              "       [75.65102 , 73.77399 , 73.7224  , 80.04654 , 68.73307 ],\n",
              "       [85.08348 , 81.04671 , 85.098724, 85.73088 , 76.398056],\n",
              "       [71.69407 , 72.143005, 74.300995, 75.774345, 66.87716 ]],\n",
              "      dtype=float32)>"
            ]
          },
          "metadata": {},
          "execution_count": 46
        }
      ]
    },
    {
      "cell_type": "code",
      "source": [
        "# 5. Multiply the two tensors you created in 3 using dot product.\n",
        "tf.tensordot(random_tensor1, random_tensor2T, axes=1)"
      ],
      "metadata": {
        "id": "HAb2HgMYNkqL",
        "outputId": "a50c3861-324d-4406-9d1f-27f535be5c48",
        "colab": {
          "base_uri": "https://localhost:8080/"
        }
      },
      "execution_count": null,
      "outputs": [
        {
          "output_type": "execute_result",
          "data": {
            "text/plain": [
              "<tf.Tensor: shape=(5, 5), dtype=float32, numpy=\n",
              "array([[77.69604 , 78.47806 , 77.71608 , 80.31393 , 72.58696 ],\n",
              "       [81.6739  , 78.938705, 81.39644 , 81.02225 , 72.73315 ],\n",
              "       [75.65102 , 73.77399 , 73.7224  , 80.04654 , 68.73307 ],\n",
              "       [85.08348 , 81.04671 , 85.098724, 85.73088 , 76.398056],\n",
              "       [71.69407 , 72.143005, 74.300995, 75.774345, 66.87716 ]],\n",
              "      dtype=float32)>"
            ]
          },
          "metadata": {},
          "execution_count": 49
        }
      ]
    },
    {
      "cell_type": "code",
      "source": [
        "# 6. Create a tensor with random values between 0 and 1 with shape [224, 224, 3]\n",
        "tensor6 = tf.random.uniform(shape=([224, 224, 3]), seed=44)\n",
        "tensor6"
      ],
      "metadata": {
        "id": "VqoLwupfRoKg",
        "outputId": "d8671510-b966-4423-a6d0-479403de9705",
        "colab": {
          "base_uri": "https://localhost:8080/"
        }
      },
      "execution_count": 7,
      "outputs": [
        {
          "output_type": "execute_result",
          "data": {
            "text/plain": [
              "<tf.Tensor: shape=(224, 224, 3), dtype=float32, numpy=\n",
              "array([[[0.3420055 , 0.9138253 , 0.98868954],\n",
              "        [0.31657588, 0.34402096, 0.64491105],\n",
              "        [0.46890926, 0.62241435, 0.8380735 ],\n",
              "        ...,\n",
              "        [0.23947775, 0.89989316, 0.6501105 ],\n",
              "        [0.32492697, 0.29383492, 0.29964685],\n",
              "        [0.9002441 , 0.3302387 , 0.7886456 ]],\n",
              "\n",
              "       [[0.39132547, 0.9433751 , 0.8350029 ],\n",
              "        [0.0678637 , 0.5063102 , 0.77834606],\n",
              "        [0.21263373, 0.63810647, 0.5659189 ],\n",
              "        ...,\n",
              "        [0.64508235, 0.5784466 , 0.7833476 ],\n",
              "        [0.8612926 , 0.8368716 , 0.8873552 ],\n",
              "        [0.3351984 , 0.3584689 , 0.6656232 ]],\n",
              "\n",
              "       [[0.17287898, 0.03203976, 0.5338819 ],\n",
              "        [0.93709505, 0.8846803 , 0.877216  ],\n",
              "        [0.89101577, 0.52051866, 0.86556697],\n",
              "        ...,\n",
              "        [0.28869915, 0.7420533 , 0.5741637 ],\n",
              "        [0.40021133, 0.5421115 , 0.05365705],\n",
              "        [0.82813084, 0.91176414, 0.6729531 ]],\n",
              "\n",
              "       ...,\n",
              "\n",
              "       [[0.20260835, 0.17327166, 0.29231286],\n",
              "        [0.96409416, 0.29944348, 0.6390103 ],\n",
              "        [0.3567202 , 0.24723458, 0.7383652 ],\n",
              "        ...,\n",
              "        [0.5300597 , 0.5175171 , 0.14194906],\n",
              "        [0.58655095, 0.07228446, 0.51206684],\n",
              "        [0.3494953 , 0.78200686, 0.16319227]],\n",
              "\n",
              "       [[0.56172574, 0.48880577, 0.8689976 ],\n",
              "        [0.45496786, 0.5080291 , 0.25644886],\n",
              "        [0.99673784, 0.77410054, 0.5580504 ],\n",
              "        ...,\n",
              "        [0.07450247, 0.85589683, 0.9698477 ],\n",
              "        [0.71249354, 0.8830259 , 0.03630435],\n",
              "        [0.90217435, 0.9729731 , 0.87788844]],\n",
              "\n",
              "       [[0.31583357, 0.06450343, 0.765355  ],\n",
              "        [0.24681842, 0.69477654, 0.9966191 ],\n",
              "        [0.60604095, 0.961233  , 0.41777563],\n",
              "        ...,\n",
              "        [0.57478034, 0.83033526, 0.68703055],\n",
              "        [0.49215567, 0.8514694 , 0.9343101 ],\n",
              "        [0.09823358, 0.2637633 , 0.9800128 ]]], dtype=float32)>"
            ]
          },
          "metadata": {},
          "execution_count": 7
        }
      ]
    },
    {
      "cell_type": "code",
      "source": [
        "# 7. Find the min and max values of the tensor you created in #6 along the first axis.\n",
        "tf.reduce_max(tensor6, axis=1)\n"
      ],
      "metadata": {
        "id": "Ju8r_6_K1irZ",
        "outputId": "a83e785d-e158-4c1c-ce6e-3431a7af1aed",
        "colab": {
          "base_uri": "https://localhost:8080/"
        }
      },
      "execution_count": 12,
      "outputs": [
        {
          "output_type": "execute_result",
          "data": {
            "text/plain": [
              "<tf.Tensor: shape=(224, 3), dtype=float32, numpy=\n",
              "array([[0.9891285 , 0.9939729 , 0.9987885 ],\n",
              "       [0.9822507 , 0.9972985 , 0.9996587 ],\n",
              "       [0.98958933, 0.9866961 , 0.99995947],\n",
              "       [0.998765  , 0.9973836 , 0.9993894 ],\n",
              "       [0.99790084, 0.9946852 , 0.99205685],\n",
              "       [0.999315  , 0.9930382 , 0.99900615],\n",
              "       [0.9979836 , 0.9992323 , 0.99927735],\n",
              "       [0.99996924, 0.9950223 , 0.9985267 ],\n",
              "       [0.9996388 , 0.9877988 , 0.99768245],\n",
              "       [0.9920796 , 0.99848187, 0.9962187 ],\n",
              "       [0.9889369 , 0.99429727, 0.9984462 ],\n",
              "       [0.99676657, 0.9986018 , 0.9998255 ],\n",
              "       [0.9942337 , 0.999357  , 0.999799  ],\n",
              "       [0.99636364, 0.99521947, 0.9956261 ],\n",
              "       [0.994372  , 0.9873495 , 0.99392855],\n",
              "       [0.9923495 , 0.9994081 , 0.9951471 ],\n",
              "       [0.97816706, 0.9991965 , 0.996259  ],\n",
              "       [0.9986925 , 0.98652315, 0.99878526],\n",
              "       [0.9830438 , 0.99554276, 0.9994526 ],\n",
              "       [0.99593294, 0.99912274, 0.990832  ],\n",
              "       [0.99582255, 0.9993372 , 0.9953331 ],\n",
              "       [0.9944283 , 0.9970219 , 0.9803307 ],\n",
              "       [0.990196  , 0.9994304 , 0.9832926 ],\n",
              "       [0.9872376 , 0.99714315, 0.99467933],\n",
              "       [0.99852335, 0.9985466 , 0.99733114],\n",
              "       [0.99822927, 0.9968053 , 0.9992815 ],\n",
              "       [0.99850607, 0.99674416, 0.99776876],\n",
              "       [0.99923265, 0.99747777, 0.99880433],\n",
              "       [0.9972044 , 0.99993086, 0.988819  ],\n",
              "       [0.9966171 , 0.996704  , 0.9932635 ],\n",
              "       [0.99994016, 0.9975282 , 0.99743545],\n",
              "       [0.9983915 , 0.9993552 , 0.9941473 ],\n",
              "       [0.99489164, 0.998966  , 0.9968084 ],\n",
              "       [0.99066556, 0.9966978 , 0.9979925 ],\n",
              "       [0.9979763 , 0.9951036 , 0.9966055 ],\n",
              "       [0.99308467, 0.9992553 , 0.9997449 ],\n",
              "       [0.99716794, 0.99514115, 0.99479795],\n",
              "       [0.998852  , 0.9995637 , 0.9902904 ],\n",
              "       [0.9922509 , 0.99316156, 0.9991605 ],\n",
              "       [0.9996029 , 0.9925991 , 0.997257  ],\n",
              "       [0.99429965, 0.9974171 , 0.998551  ],\n",
              "       [0.9967998 , 0.9972198 , 0.9995074 ],\n",
              "       [0.9933989 , 0.9911165 , 0.9987407 ],\n",
              "       [0.99384654, 0.99578476, 0.99906003],\n",
              "       [0.9963379 , 0.99268043, 0.98806405],\n",
              "       [0.9985051 , 0.9899503 , 0.9978299 ],\n",
              "       [0.99868023, 0.99953794, 0.99930334],\n",
              "       [0.9877447 , 0.9926362 , 0.9943646 ],\n",
              "       [0.99071085, 0.9997773 , 0.9907334 ],\n",
              "       [0.99827147, 0.9974241 , 0.9790139 ],\n",
              "       [0.9977671 , 0.9977912 , 0.9996884 ],\n",
              "       [0.9976442 , 0.9945445 , 0.9991187 ],\n",
              "       [0.99935246, 0.99592566, 0.99963486],\n",
              "       [0.99563694, 0.99729896, 0.9927026 ],\n",
              "       [0.99813414, 0.9944061 , 0.9949951 ],\n",
              "       [0.9986414 , 0.9897096 , 0.99707377],\n",
              "       [0.99826634, 0.9978187 , 0.99531794],\n",
              "       [0.9833777 , 0.9955406 , 0.99963033],\n",
              "       [0.9980023 , 0.9936812 , 0.9965272 ],\n",
              "       [0.9911276 , 0.99900365, 0.99912524],\n",
              "       [0.99819577, 0.9982219 , 0.99605215],\n",
              "       [0.98008597, 0.99427557, 0.9896947 ],\n",
              "       [0.9917096 , 0.99558544, 0.9853959 ],\n",
              "       [0.9951067 , 0.9824134 , 0.9983889 ],\n",
              "       [0.998731  , 0.99842095, 0.99244153],\n",
              "       [0.9967052 , 0.99436927, 0.9995984 ],\n",
              "       [0.99978614, 0.9990865 , 0.99616945],\n",
              "       [0.9989221 , 0.9994434 , 0.9930413 ],\n",
              "       [0.9937842 , 0.99265146, 0.9966271 ],\n",
              "       [0.99442816, 0.99499846, 0.9886538 ],\n",
              "       [0.99714744, 0.999519  , 0.9995649 ],\n",
              "       [0.9994726 , 0.9996468 , 0.9950088 ],\n",
              "       [0.9894575 , 0.9922298 , 0.99677896],\n",
              "       [0.9998152 , 0.9986824 , 0.99443996],\n",
              "       [0.9753088 , 0.9987898 , 0.99928904],\n",
              "       [0.99996793, 0.9911152 , 0.99900067],\n",
              "       [0.9994991 , 0.99902785, 0.99391615],\n",
              "       [0.9980639 , 0.9963546 , 0.9987893 ],\n",
              "       [0.99922955, 0.9975072 , 0.99632347],\n",
              "       [0.98892045, 0.99470925, 0.9977839 ],\n",
              "       [0.9959377 , 0.9947059 , 0.9958335 ],\n",
              "       [0.9942658 , 0.9995103 , 0.9977673 ],\n",
              "       [0.9925462 , 0.9839163 , 0.99740183],\n",
              "       [0.96829367, 0.99857485, 0.9974067 ],\n",
              "       [0.97588074, 0.9990076 , 0.9909221 ],\n",
              "       [0.99437153, 0.9981853 , 0.9760084 ],\n",
              "       [0.9998348 , 0.9992622 , 0.9952893 ],\n",
              "       [0.9940772 , 0.9936764 , 0.9962692 ],\n",
              "       [0.9922688 , 0.9961654 , 0.99468327],\n",
              "       [0.99899435, 0.9979608 , 0.9983555 ],\n",
              "       [0.99851334, 0.9995544 , 0.99860334],\n",
              "       [0.99871767, 0.99616754, 0.9965459 ],\n",
              "       [0.9913207 , 0.98795927, 0.9891399 ],\n",
              "       [0.9959247 , 0.9952071 , 0.9959724 ],\n",
              "       [0.99613917, 0.9966116 , 0.99658525],\n",
              "       [0.99588156, 0.98019695, 0.9919803 ],\n",
              "       [0.99128973, 0.9995146 , 0.99925554],\n",
              "       [0.9977591 , 0.99873924, 0.99781156],\n",
              "       [0.9826406 , 0.9898908 , 0.9990845 ],\n",
              "       [0.99550617, 0.9996724 , 0.9937668 ],\n",
              "       [0.99928343, 0.9973304 , 0.99686337],\n",
              "       [0.99887645, 0.9921876 , 0.9991746 ],\n",
              "       [0.992561  , 0.99820495, 0.99548876],\n",
              "       [0.99925065, 0.99702144, 0.99810565],\n",
              "       [0.99442804, 0.99989474, 0.9972007 ],\n",
              "       [0.99929   , 0.9981613 , 0.99831593],\n",
              "       [0.998433  , 0.9958118 , 0.99849176],\n",
              "       [0.9970523 , 0.99916184, 0.9973427 ],\n",
              "       [0.9993961 , 0.9996549 , 0.99487686],\n",
              "       [0.99398065, 0.9980805 , 0.99344075],\n",
              "       [0.9987503 , 0.98728657, 0.9995326 ],\n",
              "       [0.9957875 , 0.99312615, 0.99301445],\n",
              "       [0.9971509 , 0.9990543 , 0.9953581 ],\n",
              "       [0.9953898 , 0.99203706, 0.997156  ],\n",
              "       [0.99571717, 0.9845202 , 0.9997325 ],\n",
              "       [0.99877787, 0.96383893, 0.99740255],\n",
              "       [0.9977733 , 0.9909035 , 0.99474573],\n",
              "       [0.9810356 , 0.9976305 , 0.987494  ],\n",
              "       [0.99666095, 0.99908066, 0.9945432 ],\n",
              "       [0.99821734, 0.9968587 , 0.9921019 ],\n",
              "       [0.9996643 , 0.99954236, 0.9939778 ],\n",
              "       [0.99865854, 0.99807644, 0.99876654],\n",
              "       [0.98999035, 0.99350834, 0.99653625],\n",
              "       [0.99975526, 0.99915063, 0.99817777],\n",
              "       [0.99982476, 0.99362266, 0.9976709 ],\n",
              "       [0.9937556 , 0.99156845, 0.99847317],\n",
              "       [0.99592316, 0.98753273, 0.9958253 ],\n",
              "       [0.99796057, 0.988392  , 0.99847996],\n",
              "       [0.9985739 , 0.99302864, 0.9986614 ],\n",
              "       [0.98548126, 0.99579597, 0.9983752 ],\n",
              "       [0.9973079 , 0.9986429 , 0.9998448 ],\n",
              "       [0.9980917 , 0.9993162 , 0.9928932 ],\n",
              "       [0.9946579 , 0.9968842 , 0.99525034],\n",
              "       [0.9894564 , 0.99466   , 0.9961196 ],\n",
              "       [0.9970106 , 0.99621487, 0.9992652 ],\n",
              "       [0.992437  , 0.99741423, 0.9981133 ],\n",
              "       [0.99872184, 0.99968636, 0.9977279 ],\n",
              "       [0.9995456 , 0.9997902 , 0.99891233],\n",
              "       [0.99113595, 0.9994421 , 0.99975693],\n",
              "       [0.99475336, 0.99999714, 0.9879106 ],\n",
              "       [0.99860275, 0.99748886, 0.999825  ],\n",
              "       [0.99603164, 0.99419546, 0.99866223],\n",
              "       [0.9966074 , 0.9982523 , 0.99728656],\n",
              "       [0.9986447 , 0.9971851 , 0.9949006 ],\n",
              "       [0.99870837, 0.9935806 , 0.9974258 ],\n",
              "       [0.99845004, 0.9939405 , 0.9992473 ],\n",
              "       [0.9992062 , 0.998171  , 0.9915297 ],\n",
              "       [0.9983548 , 0.9938426 , 0.9946177 ],\n",
              "       [0.99145913, 0.99406767, 0.99844146],\n",
              "       [0.9981024 , 0.99975455, 0.9976566 ],\n",
              "       [0.9983375 , 0.98878837, 0.99909616],\n",
              "       [0.99262273, 0.9946164 , 0.999866  ],\n",
              "       [0.98827183, 0.9925138 , 0.9999057 ],\n",
              "       [0.99397993, 0.98980916, 0.99722624],\n",
              "       [0.99910593, 0.9975406 , 0.99939036],\n",
              "       [0.988485  , 0.997807  , 0.99750185],\n",
              "       [0.99350953, 0.99518967, 0.9971062 ],\n",
              "       [0.9796293 , 0.99833417, 0.9904003 ],\n",
              "       [0.9956448 , 0.99336576, 0.9986508 ],\n",
              "       [0.99748576, 0.99699366, 0.99803865],\n",
              "       [0.99072206, 0.99562466, 0.9981495 ],\n",
              "       [0.99620605, 0.99512243, 0.99643433],\n",
              "       [0.9992726 , 0.9983685 , 0.97958636],\n",
              "       [0.99857914, 0.9911438 , 0.9973165 ],\n",
              "       [0.9956231 , 0.9985846 , 0.9935994 ],\n",
              "       [0.99578846, 0.9976888 , 0.9982518 ],\n",
              "       [0.99925256, 0.99884975, 0.9964012 ],\n",
              "       [0.9933176 , 0.99882805, 0.99243665],\n",
              "       [0.9927298 , 0.9992728 , 0.99986327],\n",
              "       [0.9890516 , 0.98701966, 0.9942515 ],\n",
              "       [0.99993277, 0.9958842 , 0.9987099 ],\n",
              "       [0.9998599 , 0.99590015, 0.9949062 ],\n",
              "       [0.99969256, 0.9982033 , 0.9847139 ],\n",
              "       [0.9797615 , 0.99419785, 0.99767256],\n",
              "       [0.9947723 , 0.99523354, 0.99943864],\n",
              "       [0.99734294, 0.9953821 , 0.9992285 ],\n",
              "       [0.99139977, 0.9992198 , 0.998659  ],\n",
              "       [0.99946606, 0.9937409 , 0.99657476],\n",
              "       [0.995962  , 0.99796236, 0.99722445],\n",
              "       [0.9974023 , 0.9994509 , 0.9959786 ],\n",
              "       [0.99425924, 0.9798448 , 0.9862684 ],\n",
              "       [0.99521744, 0.9914354 , 0.97965264],\n",
              "       [0.9998673 , 0.9943199 , 0.9990258 ],\n",
              "       [0.9982033 , 0.9984168 , 0.9977524 ],\n",
              "       [0.99193203, 0.99837005, 0.99924827],\n",
              "       [0.98247397, 0.99883616, 0.9922607 ],\n",
              "       [0.9948139 , 0.99909437, 0.99630785],\n",
              "       [0.99187124, 0.98909056, 0.99957323],\n",
              "       [0.9984039 , 0.99397457, 0.9976181 ],\n",
              "       [0.99900866, 0.98984766, 0.9949658 ],\n",
              "       [0.99525154, 0.99724007, 0.99693453],\n",
              "       [0.9874345 , 0.999455  , 0.9764998 ],\n",
              "       [0.9923248 , 0.99977255, 0.998101  ],\n",
              "       [0.99965525, 0.9995539 , 0.9943391 ],\n",
              "       [0.9894867 , 0.97711575, 0.9992527 ],\n",
              "       [0.9978291 , 0.99895227, 0.9917184 ],\n",
              "       [0.99590015, 0.99993134, 0.999797  ],\n",
              "       [0.9984664 , 0.99795187, 0.9909258 ],\n",
              "       [0.99962413, 0.99151814, 0.9975307 ],\n",
              "       [0.9992075 , 0.99889565, 0.9975784 ],\n",
              "       [0.99952054, 0.9896493 , 0.99737227],\n",
              "       [0.9985703 , 0.99225247, 0.9992293 ],\n",
              "       [0.9931904 , 0.99945164, 0.9988966 ],\n",
              "       [0.9924829 , 0.98939395, 0.9893776 ],\n",
              "       [0.99788415, 0.99738264, 0.9998374 ],\n",
              "       [0.9969866 , 0.9920511 , 0.98885417],\n",
              "       [0.9951589 , 0.992432  , 0.9990393 ],\n",
              "       [0.9961165 , 0.99234414, 0.99492836],\n",
              "       [0.99748504, 0.9961698 , 0.98945117],\n",
              "       [0.99347556, 0.99789846, 0.99418366],\n",
              "       [0.99943674, 0.9960934 , 0.9991356 ],\n",
              "       [0.9959974 , 0.9985738 , 0.9942044 ],\n",
              "       [0.99596655, 0.9977838 , 0.99226713],\n",
              "       [0.99215746, 0.9977962 , 0.99728596],\n",
              "       [0.9987869 , 0.9986764 , 0.9973351 ],\n",
              "       [0.99934864, 0.99460566, 0.9995116 ],\n",
              "       [0.99022424, 0.9956993 , 0.9991374 ],\n",
              "       [0.99714136, 0.99864817, 0.9993229 ],\n",
              "       [0.996161  , 0.99850345, 0.9961127 ],\n",
              "       [0.99255085, 0.99523187, 0.99213886],\n",
              "       [0.98650396, 0.9934139 , 0.9885019 ],\n",
              "       [0.99152446, 0.9997878 , 0.99472225],\n",
              "       [0.998737  , 0.9985336 , 0.9958254 ],\n",
              "       [0.9992635 , 0.9835267 , 0.99848986]], dtype=float32)>"
            ]
          },
          "metadata": {},
          "execution_count": 12
        }
      ]
    },
    {
      "cell_type": "code",
      "source": [
        "tf.reduce_min(tensor6, axis=1)"
      ],
      "metadata": {
        "id": "FGW5rEzO51mu",
        "outputId": "59a2bf6a-8b83-4e2e-bf64-e066d1637cd5",
        "colab": {
          "base_uri": "https://localhost:8080/"
        }
      },
      "execution_count": 13,
      "outputs": [
        {
          "output_type": "execute_result",
          "data": {
            "text/plain": [
              "<tf.Tensor: shape=(224, 3), dtype=float32, numpy=\n",
              "array([[6.29377365e-03, 2.45487690e-03, 6.20365143e-04],\n",
              "       [8.57114792e-04, 1.56915188e-03, 1.16403103e-02],\n",
              "       [5.01215458e-03, 7.77709484e-03, 5.41090965e-03],\n",
              "       [9.22560692e-04, 4.24861908e-04, 1.54423714e-03],\n",
              "       [4.23860550e-03, 6.26111031e-03, 3.56280804e-03],\n",
              "       [2.01058388e-03, 1.81019306e-03, 5.16915321e-03],\n",
              "       [1.20246410e-03, 4.82356548e-03, 7.01677799e-03],\n",
              "       [2.50601768e-03, 8.69750977e-04, 1.22678280e-03],\n",
              "       [6.71184063e-03, 5.35750389e-03, 3.73482704e-04],\n",
              "       [1.45024061e-02, 5.23090363e-04, 7.84420967e-03],\n",
              "       [2.97093391e-03, 3.24976444e-03, 1.57415867e-03],\n",
              "       [1.14989281e-03, 2.26020813e-03, 7.55429268e-03],\n",
              "       [3.66353989e-03, 3.04508209e-03, 4.02307510e-03],\n",
              "       [5.72395325e-03, 4.52208519e-03, 1.74689293e-03],\n",
              "       [1.18446350e-03, 3.20219994e-03, 3.88872623e-03],\n",
              "       [3.64542007e-04, 8.30543041e-03, 1.32800341e-02],\n",
              "       [7.25269318e-04, 4.32479382e-03, 6.17694855e-03],\n",
              "       [6.37412071e-04, 5.16295433e-04, 7.56740570e-04],\n",
              "       [4.45163250e-03, 4.82094288e-03, 2.69722939e-03],\n",
              "       [8.92400742e-04, 4.15647030e-03, 2.43830681e-03],\n",
              "       [1.47068501e-03, 1.84273720e-03, 1.22404099e-03],\n",
              "       [2.28941441e-03, 5.50282001e-03, 2.24435329e-03],\n",
              "       [1.58489943e-02, 6.97624683e-03, 1.22356415e-03],\n",
              "       [3.77118587e-03, 5.00071049e-03, 2.53450871e-03],\n",
              "       [6.12497330e-04, 1.91946030e-02, 4.16088104e-03],\n",
              "       [7.68792629e-03, 3.73959541e-03, 1.00297928e-02],\n",
              "       [1.15706921e-02, 4.13513184e-03, 1.65760517e-03],\n",
              "       [1.80470943e-03, 4.84967232e-03, 9.42122936e-03],\n",
              "       [9.91749763e-03, 4.25124168e-03, 2.17795372e-04],\n",
              "       [1.33955479e-03, 4.97841835e-03, 1.51932240e-03],\n",
              "       [1.02474689e-02, 4.54795361e-03, 5.97834587e-04],\n",
              "       [2.47704983e-03, 9.16278362e-03, 3.99553776e-03],\n",
              "       [6.30736351e-03, 8.16953182e-03, 5.05471230e-03],\n",
              "       [2.09164619e-03, 4.51159477e-03, 2.61282921e-03],\n",
              "       [1.01220608e-03, 2.91764736e-03, 2.12728977e-03],\n",
              "       [7.07304478e-03, 2.78544426e-03, 3.35550308e-03],\n",
              "       [3.32534313e-03, 9.65535641e-03, 1.58989429e-03],\n",
              "       [7.44962692e-03, 1.19637251e-02, 4.90701199e-03],\n",
              "       [1.55556202e-03, 3.90851498e-03, 2.28226185e-03],\n",
              "       [9.34398174e-03, 1.85680389e-03, 5.84542751e-03],\n",
              "       [7.05718994e-05, 9.50098038e-04, 4.18090820e-03],\n",
              "       [1.13320351e-03, 3.66449356e-04, 1.00493431e-03],\n",
              "       [6.92999363e-03, 3.36050987e-03, 3.56566906e-03],\n",
              "       [1.74427032e-03, 4.71234322e-03, 1.03858709e-02],\n",
              "       [1.62280798e-02, 5.87117672e-03, 1.97148323e-03],\n",
              "       [1.08295679e-02, 9.20557976e-03, 1.96492672e-03],\n",
              "       [3.15260887e-03, 8.10372829e-03, 5.73182106e-03],\n",
              "       [2.76684761e-03, 3.26132774e-03, 6.84738159e-04],\n",
              "       [6.22630119e-04, 5.58185577e-03, 2.09522247e-03],\n",
              "       [4.32729721e-03, 8.07642937e-04, 8.01444054e-04],\n",
              "       [5.04946709e-03, 6.47974014e-03, 1.43753290e-02],\n",
              "       [1.72145367e-02, 4.18925285e-03, 3.13425064e-03],\n",
              "       [3.53467464e-03, 2.72808075e-02, 1.24608278e-02],\n",
              "       [4.73999977e-03, 8.03911686e-03, 5.30838966e-04],\n",
              "       [7.70962238e-03, 7.18426704e-03, 8.05377960e-04],\n",
              "       [5.11193275e-03, 4.89342213e-03, 1.26621723e-02],\n",
              "       [1.92892551e-03, 7.79485703e-03, 3.49879265e-04],\n",
              "       [3.80456448e-03, 3.17692757e-03, 1.88469887e-03],\n",
              "       [2.63214111e-03, 5.77318668e-03, 1.45046711e-02],\n",
              "       [3.06773186e-03, 7.48515129e-04, 1.00910664e-03],\n",
              "       [2.67267227e-04, 2.51400471e-03, 4.14180756e-03],\n",
              "       [1.41385794e-02, 1.56733990e-02, 3.12471390e-03],\n",
              "       [1.21045113e-03, 8.12661648e-03, 5.17427921e-03],\n",
              "       [1.79374218e-03, 4.82237339e-03, 6.06632233e-03],\n",
              "       [6.92009926e-04, 9.32955742e-03, 1.16586685e-04],\n",
              "       [9.97543335e-04, 1.00314617e-03, 5.13911247e-04],\n",
              "       [3.03268433e-04, 5.47289848e-04, 1.79874897e-03],\n",
              "       [1.94723606e-02, 3.11303139e-03, 1.14691257e-02],\n",
              "       [1.40761137e-02, 1.08873844e-02, 3.02195549e-04],\n",
              "       [2.96711922e-04, 7.08377361e-03, 5.11109829e-03],\n",
              "       [4.66811657e-03, 2.27093697e-04, 1.00946426e-03],\n",
              "       [1.68919563e-04, 3.58033180e-03, 1.93440914e-03],\n",
              "       [2.21371651e-03, 6.72924519e-03, 7.46488571e-04],\n",
              "       [1.16574764e-03, 2.78230906e-02, 5.86283207e-03],\n",
              "       [3.54540348e-03, 8.58783722e-04, 3.67724895e-03],\n",
              "       [1.67334080e-03, 1.96397305e-03, 1.09732151e-03],\n",
              "       [3.13222408e-03, 3.16035748e-03, 2.63929367e-03],\n",
              "       [6.78622723e-03, 1.60789490e-02, 4.66895103e-03],\n",
              "       [2.42590904e-03, 8.08477402e-04, 4.61792946e-03],\n",
              "       [4.11689281e-03, 1.82251930e-02, 1.00561380e-02],\n",
              "       [4.10425663e-03, 8.60369205e-03, 9.97781754e-04],\n",
              "       [2.06339359e-03, 5.90085983e-05, 9.62018967e-04],\n",
              "       [3.13520432e-05, 1.83081627e-03, 2.75230408e-03],\n",
              "       [1.40297413e-03, 3.61192226e-03, 7.03334808e-05],\n",
              "       [4.91786003e-03, 3.93736362e-03, 1.09899044e-03],\n",
              "       [5.75983524e-03, 8.72850418e-04, 6.42549992e-03],\n",
              "       [1.24514103e-03, 1.22808218e-02, 2.15638876e-02],\n",
              "       [2.29954720e-04, 4.61697578e-03, 1.06078386e-02],\n",
              "       [2.27677822e-03, 8.00967216e-04, 1.89900398e-04],\n",
              "       [4.16040421e-04, 1.06865168e-02, 2.90656090e-03],\n",
              "       [6.79528713e-03, 2.06828117e-04, 7.31980801e-03],\n",
              "       [6.53243065e-03, 3.21269035e-03, 8.48054886e-04],\n",
              "       [7.85100460e-03, 4.10532951e-03, 1.41024590e-03],\n",
              "       [3.43704224e-03, 6.65092468e-03, 3.06773186e-03],\n",
              "       [2.04269886e-02, 1.07848644e-03, 1.04480982e-02],\n",
              "       [7.24184513e-03, 5.87701797e-05, 5.17606735e-03],\n",
              "       [8.21053982e-03, 1.72245502e-03, 1.58619881e-03],\n",
              "       [4.31895256e-04, 1.10101700e-03, 1.06595755e-02],\n",
              "       [9.01448727e-03, 7.23481178e-04, 1.72710419e-03],\n",
              "       [8.70287418e-03, 7.76052475e-04, 3.65495682e-04],\n",
              "       [3.53538990e-03, 7.63285160e-03, 6.50298595e-03],\n",
              "       [6.12425804e-03, 1.44636631e-03, 3.90505791e-03],\n",
              "       [1.67465210e-03, 1.40738487e-03, 1.06958151e-02],\n",
              "       [9.74655151e-04, 1.56104565e-03, 1.68049335e-03],\n",
              "       [8.57877731e-03, 5.88059425e-04, 3.96847725e-04],\n",
              "       [1.28996372e-02, 9.11879539e-03, 3.13997269e-03],\n",
              "       [3.57627869e-04, 2.55203247e-03, 6.46853447e-03],\n",
              "       [4.56666946e-03, 4.10962105e-03, 8.15820694e-03],\n",
              "       [6.04629517e-04, 1.16586685e-04, 1.28710270e-03],\n",
              "       [6.29425049e-05, 3.47805023e-03, 2.40802765e-05],\n",
              "       [3.41355801e-03, 4.88972664e-03, 8.33499432e-03],\n",
              "       [1.34134293e-03, 3.44455242e-03, 1.74384117e-02],\n",
              "       [7.43031502e-04, 1.88326836e-03, 6.33001328e-05],\n",
              "       [7.35867023e-03, 9.54866409e-05, 5.77235222e-03],\n",
              "       [1.31893158e-03, 1.18464231e-02, 6.79790974e-03],\n",
              "       [7.37667084e-04, 1.35153532e-02, 2.88546085e-03],\n",
              "       [6.58977032e-03, 1.62124634e-03, 6.67083263e-03],\n",
              "       [1.46937370e-03, 1.13189220e-03, 1.80363655e-04],\n",
              "       [1.58417225e-03, 3.46219540e-03, 1.76048279e-03],\n",
              "       [1.27031803e-02, 5.55515289e-03, 1.29079819e-03],\n",
              "       [3.88145447e-04, 2.98500061e-03, 4.76098061e-03],\n",
              "       [4.77910042e-04, 8.13376904e-03, 9.59813595e-03],\n",
              "       [5.04374504e-03, 2.38406658e-03, 1.97839737e-03],\n",
              "       [2.97784805e-03, 4.04477119e-04, 8.96286964e-03],\n",
              "       [6.48021698e-03, 3.96251678e-04, 1.57203674e-02],\n",
              "       [8.00704956e-03, 2.38227844e-03, 1.75821781e-03],\n",
              "       [7.71045685e-04, 4.33194637e-03, 2.60162354e-03],\n",
              "       [3.67534161e-03, 6.73890114e-04, 5.02264500e-03],\n",
              "       [1.14762783e-03, 4.49347496e-03, 4.02462482e-03],\n",
              "       [6.70933723e-03, 8.89182091e-04, 3.77821922e-03],\n",
              "       [1.87492371e-03, 9.37700272e-04, 7.83336163e-03],\n",
              "       [8.26597214e-04, 5.53059578e-03, 9.03725624e-04],\n",
              "       [7.45201111e-03, 5.28454781e-04, 2.22873688e-03],\n",
              "       [5.29170036e-03, 6.91533089e-04, 1.98959112e-02],\n",
              "       [1.83773041e-03, 5.12123108e-03, 4.48226929e-05],\n",
              "       [1.01383924e-02, 8.26358795e-04, 2.96294689e-03],\n",
              "       [3.09872627e-03, 2.50709057e-03, 4.09185886e-03],\n",
              "       [2.40635872e-03, 4.46236134e-03, 9.27209854e-04],\n",
              "       [4.26876545e-03, 1.77383423e-03, 1.24639273e-02],\n",
              "       [6.00087643e-03, 7.33804703e-03, 1.41739845e-04],\n",
              "       [9.96351242e-03, 5.80024719e-03, 3.41260433e-03],\n",
              "       [5.38110733e-03, 2.30133533e-03, 1.93881989e-03],\n",
              "       [3.87406349e-03, 4.75299358e-03, 7.35402107e-04],\n",
              "       [2.28393078e-03, 1.53803825e-03, 8.44371319e-03],\n",
              "       [2.91049480e-03, 6.15668297e-03, 9.34362411e-04],\n",
              "       [1.67322159e-03, 2.64024734e-03, 1.18327141e-03],\n",
              "       [2.85387039e-04, 4.46677208e-03, 4.73594666e-03],\n",
              "       [8.95130634e-03, 2.93729305e-02, 8.91804695e-04],\n",
              "       [1.35409832e-03, 3.28278542e-03, 1.88791752e-03],\n",
              "       [1.67977810e-03, 1.43885612e-04, 2.75850296e-03],\n",
              "       [3.35919857e-03, 8.95953178e-03, 3.56078148e-03],\n",
              "       [2.84564495e-03, 3.07798386e-04, 2.10475922e-03],\n",
              "       [4.50932980e-03, 3.28063965e-03, 1.28513575e-02],\n",
              "       [3.75747681e-04, 6.99698925e-03, 1.05762482e-03],\n",
              "       [3.65877151e-03, 1.24582052e-02, 1.64628029e-03],\n",
              "       [2.53913403e-02, 5.87821007e-03, 1.64878368e-02],\n",
              "       [2.36988068e-04, 9.96327400e-03, 2.30824947e-03],\n",
              "       [2.04193592e-03, 1.46925449e-03, 5.90205193e-04],\n",
              "       [1.71530247e-03, 7.29262829e-03, 1.13236904e-03],\n",
              "       [8.05783272e-03, 6.18493557e-03, 8.41534138e-03],\n",
              "       [6.55031204e-03, 8.37063789e-03, 6.86597824e-03],\n",
              "       [4.50098515e-03, 2.51173973e-04, 9.34839249e-04],\n",
              "       [3.92198563e-03, 3.06975842e-03, 9.71066952e-03],\n",
              "       [4.37855721e-03, 1.10750198e-02, 4.46140766e-03],\n",
              "       [1.98841095e-03, 2.65121460e-04, 4.65440750e-03],\n",
              "       [3.25918198e-04, 9.96887684e-03, 1.02038383e-02],\n",
              "       [2.47550011e-03, 8.01682472e-04, 1.90639496e-03],\n",
              "       [1.45022869e-02, 7.34138489e-03, 1.28757954e-03],\n",
              "       [4.02212143e-04, 6.66260719e-04, 1.60694122e-03],\n",
              "       [5.00226021e-03, 4.80973721e-03, 4.57060337e-03],\n",
              "       [1.33508444e-02, 4.15563583e-04, 1.93727016e-03],\n",
              "       [1.89435482e-03, 3.27110291e-03, 2.15291977e-03],\n",
              "       [8.71002674e-03, 1.93619728e-03, 1.43421888e-02],\n",
              "       [1.42735243e-02, 3.06117535e-03, 1.08286142e-02],\n",
              "       [1.32166147e-02, 6.82592392e-04, 7.53760338e-04],\n",
              "       [5.65803051e-03, 1.04892254e-03, 2.47240067e-03],\n",
              "       [5.67436218e-04, 2.49505043e-03, 3.13377380e-03],\n",
              "       [2.78937817e-03, 1.43909454e-03, 3.18896770e-03],\n",
              "       [6.04617596e-03, 2.74920464e-03, 1.00723505e-02],\n",
              "       [4.86016273e-03, 2.97188759e-04, 3.19838524e-04],\n",
              "       [5.69951534e-03, 4.40108776e-03, 5.03802299e-03],\n",
              "       [3.60667706e-03, 4.59551811e-04, 2.09045410e-03],\n",
              "       [1.10418797e-02, 7.51137733e-04, 4.69362736e-03],\n",
              "       [4.57632542e-03, 9.38427448e-03, 1.03235245e-03],\n",
              "       [2.25567818e-03, 2.58278847e-03, 1.19805336e-03],\n",
              "       [3.77750397e-03, 1.33187771e-02, 6.08801842e-03],\n",
              "       [4.02379036e-03, 2.59935856e-03, 1.58143044e-03],\n",
              "       [1.51395798e-05, 8.25238228e-03, 2.06708908e-04],\n",
              "       [1.12388134e-02, 9.55307484e-03, 6.74319267e-03],\n",
              "       [9.61184502e-04, 3.00884247e-04, 5.40041924e-03],\n",
              "       [5.51939011e-04, 2.41935253e-03, 2.15411186e-03],\n",
              "       [2.74252892e-03, 3.19325924e-03, 5.57947159e-03],\n",
              "       [7.53879547e-04, 2.76708603e-03, 4.67419624e-03],\n",
              "       [3.78274918e-03, 8.56614113e-03, 2.01761723e-03],\n",
              "       [7.29680061e-04, 2.96068192e-03, 4.52768803e-03],\n",
              "       [1.33860111e-03, 9.13643837e-03, 1.68633461e-03],\n",
              "       [9.98747349e-03, 4.31859493e-03, 6.06298447e-04],\n",
              "       [5.15878201e-03, 4.30977345e-03, 2.98588276e-02],\n",
              "       [1.58429146e-04, 7.02142715e-05, 3.24571133e-03],\n",
              "       [2.51901150e-03, 2.52878666e-03, 1.00100040e-03],\n",
              "       [8.17084312e-03, 2.92992592e-02, 2.30884552e-03],\n",
              "       [5.13720512e-03, 8.04889202e-03, 5.87224960e-04],\n",
              "       [7.19916821e-03, 6.00326061e-03, 4.32777405e-03],\n",
              "       [1.63328648e-03, 3.12948227e-03, 1.89054012e-03],\n",
              "       [1.29481554e-02, 8.22544098e-05, 4.22835350e-03],\n",
              "       [3.88383865e-03, 2.39849091e-04, 2.13146210e-04],\n",
              "       [7.50899315e-04, 1.88040733e-03, 1.55901909e-03],\n",
              "       [9.66477394e-03, 1.54459476e-03, 4.02927399e-05],\n",
              "       [1.42407417e-03, 1.21307373e-03, 7.09652901e-04],\n",
              "       [1.00874901e-03, 1.11305714e-03, 9.78517532e-03],\n",
              "       [1.77800655e-03, 1.22764111e-02, 6.18898869e-03],\n",
              "       [9.45329666e-04, 9.94420052e-03, 2.42820978e-02],\n",
              "       [5.55682182e-03, 4.26852703e-03, 2.79808044e-03],\n",
              "       [7.36176968e-03, 1.63218975e-02, 6.06775284e-04],\n",
              "       [9.28997993e-04, 1.01457834e-02, 6.29806519e-03],\n",
              "       [3.06367874e-05, 4.82964516e-03, 2.08833218e-02],\n",
              "       [1.23155117e-03, 1.14949942e-02, 3.46517563e-03],\n",
              "       [2.75337696e-02, 5.61332703e-03, 6.95478916e-03],\n",
              "       [1.62708759e-03, 5.76400757e-03, 1.62959099e-04],\n",
              "       [2.16364861e-03, 7.28368759e-05, 4.35948372e-03],\n",
              "       [6.37149811e-03, 2.55441666e-03, 3.49271297e-03],\n",
              "       [7.95960426e-04, 1.96075439e-03, 4.26542759e-03],\n",
              "       [2.81095505e-04, 2.07698345e-03, 2.19571590e-03],\n",
              "       [1.74236298e-03, 3.08072567e-03, 1.21908188e-02]], dtype=float32)>"
            ]
          },
          "metadata": {},
          "execution_count": 13
        }
      ]
    },
    {
      "cell_type": "code",
      "source": [
        "# 8. Create a tensor with random values of shape [1, 224, 224, 3] then squeeze it to change the shape to [224, 224, 3].\n",
        "tensor8 = tf.random.normal([1, 224, 224, 3])"
      ],
      "metadata": {
        "id": "VswQIaMZ6YQ3"
      },
      "execution_count": 20,
      "outputs": []
    },
    {
      "cell_type": "code",
      "source": [
        "tf.reshape(tensor8, [224, 224, 3])"
      ],
      "metadata": {
        "id": "9wUAK52q63xO",
        "outputId": "5bbc146e-187c-49db-ce73-dbf7e45677a8",
        "colab": {
          "base_uri": "https://localhost:8080/"
        }
      },
      "execution_count": 21,
      "outputs": [
        {
          "output_type": "execute_result",
          "data": {
            "text/plain": [
              "<tf.Tensor: shape=(224, 224, 3), dtype=float32, numpy=\n",
              "array([[[ 0.1230983 , -0.22385171, -0.6025215 ],\n",
              "        [-0.22605087, -0.818451  , -1.0302287 ],\n",
              "        [ 1.116765  ,  0.05814207,  0.5278414 ],\n",
              "        ...,\n",
              "        [-1.0446559 ,  0.14326282,  0.56483465],\n",
              "        [ 0.5765057 , -0.16163316,  0.32420754],\n",
              "        [-0.8854247 , -0.14323793, -0.12337816]],\n",
              "\n",
              "       [[ 0.3107016 ,  0.6794291 ,  0.9546586 ],\n",
              "        [-0.02231018, -0.5854938 , -1.7510735 ],\n",
              "        [-0.7536757 , -0.68509024, -1.5201691 ],\n",
              "        ...,\n",
              "        [-1.8132005 , -0.70938885,  0.514351  ],\n",
              "        [ 0.67457795,  0.5352632 ,  0.6604773 ],\n",
              "        [ 0.32409763, -0.13752128, -0.6247216 ]],\n",
              "\n",
              "       [[-1.3004781 ,  0.49440563, -1.2841603 ],\n",
              "        [-0.14152785, -0.7307738 ,  0.08226755],\n",
              "        [-1.1267945 ,  0.0660411 ,  1.4737654 ],\n",
              "        ...,\n",
              "        [ 0.14651985, -0.3430131 ,  0.99038637],\n",
              "        [-0.27855992,  1.3063089 ,  0.8358227 ],\n",
              "        [ 0.6582148 ,  1.861302  ,  0.60377145]],\n",
              "\n",
              "       ...,\n",
              "\n",
              "       [[-0.8142956 ,  0.5585374 , -1.3309062 ],\n",
              "        [ 1.0061117 ,  0.25059432,  0.35367686],\n",
              "        [-0.49511126,  1.7125512 , -0.01998317],\n",
              "        ...,\n",
              "        [ 0.3371219 ,  0.63962317,  0.02587377],\n",
              "        [ 0.7721423 , -0.00875937,  0.15485781],\n",
              "        [ 2.0505304 ,  1.032099  ,  2.063018  ]],\n",
              "\n",
              "       [[ 1.8800253 ,  1.0432218 , -0.2831161 ],\n",
              "        [ 1.049127  , -0.5684845 , -2.3101609 ],\n",
              "        [-0.80650854, -0.32768232,  0.56142193],\n",
              "        ...,\n",
              "        [-0.6603798 , -0.8595618 , -0.30451086],\n",
              "        [-1.3466994 , -0.5331324 ,  0.5688791 ],\n",
              "        [ 0.84651476,  0.00656034,  0.9333427 ]],\n",
              "\n",
              "       [[-0.2115853 ,  1.9037085 ,  1.1981697 ],\n",
              "        [ 0.9456998 , -2.9517586 ,  0.45721233],\n",
              "        [ 0.31052396,  0.09930773, -2.020111  ],\n",
              "        ...,\n",
              "        [ 0.32586822, -0.42481098, -0.47739485],\n",
              "        [ 0.31652623, -1.5531946 ,  1.4283876 ],\n",
              "        [ 0.48869747,  0.5294223 , -1.862612  ]]], dtype=float32)>"
            ]
          },
          "metadata": {},
          "execution_count": 21
        }
      ]
    },
    {
      "cell_type": "code",
      "source": [
        "# 9. Create a tensor with shape [10] using your own choice of values, then find the index which has the maximum value."
      ],
      "metadata": {
        "id": "vjP_ZrHQ7_n-"
      },
      "execution_count": null,
      "outputs": []
    }
  ]
}